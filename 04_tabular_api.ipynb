{
 "cells": [
  {
   "cell_type": "markdown",
   "metadata": {},
   "source": [
    "- Make learner work generically"
   ]
  },
  {
   "cell_type": "markdown",
   "metadata": {},
   "source": [
    "- Make it work with add_col=True\n",
    "- Make it work with n_jobs > 1"
   ]
  },
  {
   "cell_type": "code",
   "execution_count": 1,
   "metadata": {},
   "outputs": [],
   "source": [
    "#default_exp tabular_api"
   ]
  },
  {
   "cell_type": "code",
   "execution_count": 2,
   "metadata": {},
   "outputs": [],
   "source": [
    "%reload_ext autoreload\n",
    "%autoreload 2"
   ]
  },
  {
   "cell_type": "code",
   "execution_count": 3,
   "metadata": {},
   "outputs": [],
   "source": [
    "#export\n",
    "from hypster.oo_hp import *\n",
    "from hypster.hypster_prepare import *\n",
    "\n",
    "import fastai2\n",
    "from fastai2.tabular.all import *\n",
    "from fastai2.metrics import *\n",
    "\n",
    "from sklearn.model_selection import train_test_split\n",
    "\n",
    "from copy import deepcopy\n",
    "\n",
    "import optuna"
   ]
  },
  {
   "cell_type": "code",
   "execution_count": 4,
   "metadata": {},
   "outputs": [],
   "source": [
    "#export\n",
    "SEED = 42"
   ]
  },
  {
   "cell_type": "markdown",
   "metadata": {},
   "source": [
    "# Read Data"
   ]
  },
  {
   "cell_type": "code",
   "execution_count": 5,
   "metadata": {
    "pycharm": {
     "name": "#%%\n"
    }
   },
   "outputs": [
    {
     "data": {
      "text/plain": [
       "(#3) [Path('C:/Users/user/.fastai/data/adult_sample/adult.csv'),Path('C:/Users/user/.fastai/data/adult_sample/export.pkl'),Path('C:/Users/user/.fastai/data/adult_sample/models')]"
      ]
     },
     "execution_count": 5,
     "metadata": {},
     "output_type": "execute_result"
    }
   ],
   "source": [
    "#export\n",
    "path = untar_data(URLs.ADULT_SAMPLE)\n",
    "path.ls()"
   ]
  },
  {
   "cell_type": "code",
   "execution_count": 6,
   "metadata": {},
   "outputs": [
    {
     "data": {
      "text/html": [
       "<div>\n",
       "<style scoped>\n",
       "    .dataframe tbody tr th:only-of-type {\n",
       "        vertical-align: middle;\n",
       "    }\n",
       "\n",
       "    .dataframe tbody tr th {\n",
       "        vertical-align: top;\n",
       "    }\n",
       "\n",
       "    .dataframe thead th {\n",
       "        text-align: right;\n",
       "    }\n",
       "</style>\n",
       "<table border=\"1\" class=\"dataframe\">\n",
       "  <thead>\n",
       "    <tr style=\"text-align: right;\">\n",
       "      <th></th>\n",
       "      <th>age</th>\n",
       "      <th>workclass</th>\n",
       "      <th>fnlwgt</th>\n",
       "      <th>education</th>\n",
       "      <th>education-num</th>\n",
       "      <th>marital-status</th>\n",
       "      <th>occupation</th>\n",
       "      <th>relationship</th>\n",
       "      <th>race</th>\n",
       "      <th>sex</th>\n",
       "      <th>capital-gain</th>\n",
       "      <th>capital-loss</th>\n",
       "      <th>hours-per-week</th>\n",
       "      <th>native-country</th>\n",
       "      <th>salary</th>\n",
       "    </tr>\n",
       "  </thead>\n",
       "  <tbody>\n",
       "    <tr>\n",
       "      <th>0</th>\n",
       "      <td>49</td>\n",
       "      <td>Private</td>\n",
       "      <td>101320</td>\n",
       "      <td>Assoc-acdm</td>\n",
       "      <td>12.0</td>\n",
       "      <td>Married-civ-spouse</td>\n",
       "      <td>NaN</td>\n",
       "      <td>Wife</td>\n",
       "      <td>White</td>\n",
       "      <td>Female</td>\n",
       "      <td>0</td>\n",
       "      <td>1902</td>\n",
       "      <td>40</td>\n",
       "      <td>United-States</td>\n",
       "      <td>&gt;=50k</td>\n",
       "    </tr>\n",
       "    <tr>\n",
       "      <th>1</th>\n",
       "      <td>44</td>\n",
       "      <td>Private</td>\n",
       "      <td>236746</td>\n",
       "      <td>Masters</td>\n",
       "      <td>14.0</td>\n",
       "      <td>Divorced</td>\n",
       "      <td>Exec-managerial</td>\n",
       "      <td>Not-in-family</td>\n",
       "      <td>White</td>\n",
       "      <td>Male</td>\n",
       "      <td>10520</td>\n",
       "      <td>0</td>\n",
       "      <td>45</td>\n",
       "      <td>United-States</td>\n",
       "      <td>&gt;=50k</td>\n",
       "    </tr>\n",
       "    <tr>\n",
       "      <th>2</th>\n",
       "      <td>38</td>\n",
       "      <td>Private</td>\n",
       "      <td>96185</td>\n",
       "      <td>HS-grad</td>\n",
       "      <td>NaN</td>\n",
       "      <td>Divorced</td>\n",
       "      <td>NaN</td>\n",
       "      <td>Unmarried</td>\n",
       "      <td>Black</td>\n",
       "      <td>Female</td>\n",
       "      <td>0</td>\n",
       "      <td>0</td>\n",
       "      <td>32</td>\n",
       "      <td>United-States</td>\n",
       "      <td>&lt;50k</td>\n",
       "    </tr>\n",
       "    <tr>\n",
       "      <th>3</th>\n",
       "      <td>38</td>\n",
       "      <td>Self-emp-inc</td>\n",
       "      <td>112847</td>\n",
       "      <td>Prof-school</td>\n",
       "      <td>15.0</td>\n",
       "      <td>Married-civ-spouse</td>\n",
       "      <td>Prof-specialty</td>\n",
       "      <td>Husband</td>\n",
       "      <td>Asian-Pac-Islander</td>\n",
       "      <td>Male</td>\n",
       "      <td>0</td>\n",
       "      <td>0</td>\n",
       "      <td>40</td>\n",
       "      <td>United-States</td>\n",
       "      <td>&gt;=50k</td>\n",
       "    </tr>\n",
       "    <tr>\n",
       "      <th>4</th>\n",
       "      <td>42</td>\n",
       "      <td>Self-emp-not-inc</td>\n",
       "      <td>82297</td>\n",
       "      <td>7th-8th</td>\n",
       "      <td>NaN</td>\n",
       "      <td>Married-civ-spouse</td>\n",
       "      <td>Other-service</td>\n",
       "      <td>Wife</td>\n",
       "      <td>Black</td>\n",
       "      <td>Female</td>\n",
       "      <td>0</td>\n",
       "      <td>0</td>\n",
       "      <td>50</td>\n",
       "      <td>United-States</td>\n",
       "      <td>&lt;50k</td>\n",
       "    </tr>\n",
       "  </tbody>\n",
       "</table>\n",
       "</div>"
      ],
      "text/plain": [
       "   age          workclass  fnlwgt     education  education-num  \\\n",
       "0   49            Private  101320    Assoc-acdm           12.0   \n",
       "1   44            Private  236746       Masters           14.0   \n",
       "2   38            Private   96185       HS-grad            NaN   \n",
       "3   38       Self-emp-inc  112847   Prof-school           15.0   \n",
       "4   42   Self-emp-not-inc   82297       7th-8th            NaN   \n",
       "\n",
       "        marital-status        occupation    relationship                 race  \\\n",
       "0   Married-civ-spouse               NaN            Wife                White   \n",
       "1             Divorced   Exec-managerial   Not-in-family                White   \n",
       "2             Divorced               NaN       Unmarried                Black   \n",
       "3   Married-civ-spouse    Prof-specialty         Husband   Asian-Pac-Islander   \n",
       "4   Married-civ-spouse     Other-service            Wife                Black   \n",
       "\n",
       "       sex  capital-gain  capital-loss  hours-per-week  native-country salary  \n",
       "0   Female             0          1902              40   United-States  >=50k  \n",
       "1     Male         10520             0              45   United-States  >=50k  \n",
       "2   Female             0             0              32   United-States   <50k  \n",
       "3     Male             0             0              40   United-States  >=50k  \n",
       "4   Female             0             0              50   United-States   <50k  "
      ]
     },
     "execution_count": 6,
     "metadata": {},
     "output_type": "execute_result"
    }
   ],
   "source": [
    "#export\n",
    "df = pd.read_csv(path/'adult.csv')\n",
    "df.head()"
   ]
  },
  {
   "cell_type": "code",
   "execution_count": 7,
   "metadata": {},
   "outputs": [],
   "source": [
    "#export\n",
    "df = df.sample(frac=0.1)"
   ]
  },
  {
   "cell_type": "code",
   "execution_count": 8,
   "metadata": {},
   "outputs": [],
   "source": [
    "#export\n",
    "cat_names = ['workclass', 'education', 'marital-status', 'occupation', 'relationship', 'race']\n",
    "cont_names = ['age', 'fnlwgt', 'education-num']\n",
    "dep_var = \"salary\""
   ]
  },
  {
   "cell_type": "code",
   "execution_count": 9,
   "metadata": {},
   "outputs": [],
   "source": [
    "#export\n",
    "train_df, test_df = train_test_split(df, test_size=0.6, \n",
    "                                     random_state=SEED, \n",
    "                                     stratify=df[dep_var])"
   ]
  },
  {
   "cell_type": "markdown",
   "metadata": {},
   "source": [
    "# Preprocessing"
   ]
  },
  {
   "cell_type": "raw",
   "metadata": {},
   "source": [
    "cat = Categorify()"
   ]
  },
  {
   "cell_type": "raw",
   "metadata": {},
   "source": [
    "### Fill Missing"
   ]
  },
  {
   "cell_type": "code",
   "execution_count": 10,
   "metadata": {},
   "outputs": [],
   "source": [
    "FillMissing = prepare(FillMissing)"
   ]
  },
  {
   "cell_type": "raw",
   "metadata": {},
   "source": [
    "#TODO: fix this bug: it doesn't add education_num_na to cat_names\n",
    "imp = FillMissing(add_col=HpBool(\"missing_col\"))"
   ]
  },
  {
   "cell_type": "raw",
   "metadata": {},
   "source": [
    "fill = HpInt(start_range=1, end_range=100)"
   ]
  },
  {
   "cell_type": "code",
   "execution_count": 11,
   "metadata": {},
   "outputs": [],
   "source": [
    "fill_strategy = HpCategorical(\"fill_strategy\", \n",
    "                              [FillStrategy.mode, \n",
    "                               FillStrategy.median, \n",
    "                               #FillStrategy.constant(5, fill)\n",
    "                              ])"
   ]
  },
  {
   "cell_type": "code",
   "execution_count": 12,
   "metadata": {},
   "outputs": [],
   "source": [
    "#imp = FillMissing(fill_strategy=fill_strategy, add_col=HpBool(\"add_col\"))"
   ]
  },
  {
   "cell_type": "code",
   "execution_count": 13,
   "metadata": {},
   "outputs": [],
   "source": [
    "imp = FillMissing(fill_strategy=fill_strategy, add_col=False)"
   ]
  },
  {
   "cell_type": "code",
   "execution_count": 14,
   "metadata": {},
   "outputs": [],
   "source": [
    "#export\n",
    "Normalize = prepare(Normalize)\n",
    "norm = Normalize(mean=HpFloat(\"mean_norm\", 0.001, 10.4))"
   ]
  },
  {
   "cell_type": "code",
   "execution_count": 15,
   "metadata": {},
   "outputs": [],
   "source": [
    "#export\n",
    "procs = [Categorify, imp, HpToggle(\"norm_bool\", norm)]"
   ]
  },
  {
   "cell_type": "markdown",
   "metadata": {},
   "source": [
    "# DataBunch"
   ]
  },
  {
   "cell_type": "code",
   "execution_count": 16,
   "metadata": {},
   "outputs": [],
   "source": [
    "import fastai2"
   ]
  },
  {
   "cell_type": "code",
   "execution_count": 17,
   "metadata": {},
   "outputs": [],
   "source": [
    "TabularPandas = prepare(fastai2.tabular.data.TabularPandas)"
   ]
  },
  {
   "cell_type": "code",
   "execution_count": 18,
   "metadata": {},
   "outputs": [],
   "source": [
    "#export\n",
    "to = TabularPandas(train_df,\n",
    "                   y_block = CategoryBlock(), \n",
    "                   y_names = dep_var,\n",
    "                   splits = RandomSplitter()(range_of(train_df)),\n",
    "                   cat_names = cat_names,\n",
    "                   cont_names = cont_names,\n",
    "                   procs = procs,\n",
    "                   reduce_memory=False,\n",
    "                   inplace=False\n",
    "                  )"
   ]
  },
  {
   "cell_type": "code",
   "execution_count": 19,
   "metadata": {},
   "outputs": [],
   "source": [
    "#export\n",
    "#dls = to.dataloaders(batch_size=2 ** HpInt(\"batch_size\", 5, 9))\n",
    "#dls = to.dataloaders(batch_size=HpInt(\"batch_size\", 16, 128, 16))"
   ]
  },
  {
   "cell_type": "code",
   "execution_count": 20,
   "metadata": {},
   "outputs": [],
   "source": [
    "#export\n",
    "dls = to.dataloaders(batch_size=32)"
   ]
  },
  {
   "cell_type": "markdown",
   "metadata": {},
   "source": [
    "# Learner"
   ]
  },
  {
   "cell_type": "raw",
   "metadata": {},
   "source": [
    "cbs = [TrackerCallback(monitor=\"roc_auc_score\"), \n",
    "       HpToggle(ReduceLROnPlateau(\"roc_auc_score\", patience=HpInt(\"patience\", 1, 5)))]"
   ]
  },
  {
   "cell_type": "code",
   "execution_count": 21,
   "metadata": {},
   "outputs": [],
   "source": [
    "#export\n",
    "cbs = [TrackerCallback(monitor=\"roc_auc_score\"), \n",
    "       ReduceLROnPlateau(\"roc_auc_score\", patience=3)]"
   ]
  },
  {
   "cell_type": "code",
   "execution_count": 22,
   "metadata": {},
   "outputs": [],
   "source": [
    "#export\n",
    "start_mom = HpFloat(\"start_mom\", 0.85, 0.99)"
   ]
  },
  {
   "cell_type": "code",
   "execution_count": 23,
   "metadata": {},
   "outputs": [],
   "source": [
    "#export\n",
    "tabular_learner = prepare(tabular_learner)"
   ]
  },
  {
   "cell_type": "raw",
   "metadata": {},
   "source": [
    "tabular_learner = prepare(tabular_learner, recipe=TabularFastAIRecipe)"
   ]
  },
  {
   "cell_type": "raw",
   "metadata": {},
   "source": [
    "TabularFastAIRecipe(competition_mode = True)"
   ]
  },
  {
   "cell_type": "raw",
   "metadata": {},
   "source": [
    "[recipes, constraints, user defined]"
   ]
  },
  {
   "cell_type": "raw",
   "metadata": {},
   "source": [
    "Categorical\n",
    "Float\n",
    "Int\n",
    "Bool\n",
    "Toggle\n",
    "VarLenList"
   ]
  },
  {
   "cell_type": "code",
   "execution_count": 24,
   "metadata": {},
   "outputs": [],
   "source": [
    "#export\n",
    "learner = tabular_learner(dls,\n",
    "                          metrics=RocAuc(),\n",
    "                          opt_func=HpCategorical(\"optimizer\", [Adam, SGD, QHAdam]),\n",
    "                          layers=HpVarLenList(\"layers\", 1, 4, HpInt(\"layer_size\", 50, 300, 50), same_value=False),\n",
    "                          cbs=cbs,\n",
    "                          moms=(start_mom, start_mom-0.1, start_mom), \n",
    "                          wd_bn_bias=HpBool(\"wd_bn_bias\"),\n",
    "                          )"
   ]
  },
  {
   "cell_type": "markdown",
   "metadata": {},
   "source": [
    "# Optuna"
   ]
  },
  {
   "cell_type": "code",
   "execution_count": 25,
   "metadata": {},
   "outputs": [],
   "source": [
    "def log_optuna_param(param_name, result, trial):\n",
    "    import optuna\n",
    "    trial.study.storage.set_trial_param(trial.number,\n",
    "                                        param_name, \n",
    "                                        result,\n",
    "                                        optuna.distributions.LogUniformDistribution)"
   ]
  },
  {
   "cell_type": "code",
   "execution_count": 26,
   "metadata": {},
   "outputs": [],
   "source": [
    "def set_trial_param(trial_id, param_name, param_value_internal, distribution):\n",
    "    # type: (int, str, float, distributions.BaseDistribution) -> bool\n",
    "\n",
    "        trial = self._get_trial(trial_id)\n",
    "\n",
    "        self.check_trial_is_updatable(trial_id, trial.state)\n",
    "\n",
    "        study_id = self._trial_id_to_study_id_and_number[trial_id][0]\n",
    "        # Check param distribution compatibility with previous trial(s).\n",
    "        if param_name in self._studies[study_id].param_distribution:\n",
    "            distributions.check_distribution_compatibility(\n",
    "                self._studies[study_id].param_distribution[param_name], distribution\n",
    "            )\n",
    "\n",
    "        # Check param has not been set; otherwise, return False.\n",
    "        if param_name in trial.params:\n",
    "            return False\n",
    "\n",
    "        # Set param distribution.\n",
    "        self._studies[study_id].param_distribution[param_name] = distribution\n",
    "\n",
    "        # Set param.\n",
    "        trial = copy.copy(trial)\n",
    "        trial.params = copy.copy(trial.params)\n",
    "        trial.params[param_name] = distribution.to_external_repr(param_value_internal)\n",
    "        trial.distributions = copy.copy(trial.distributions)\n",
    "        trial.distributions[param_name] = distribution\n",
    "        self._set_trial(trial_id, trial)\n",
    "\n",
    "        return True"
   ]
  },
  {
   "cell_type": "code",
   "execution_count": 27,
   "metadata": {},
   "outputs": [],
   "source": [
    "lr = HpFloat(\"learning_rate\", 1e-5, 1e-1, log=True)"
   ]
  },
  {
   "cell_type": "code",
   "execution_count": 28,
   "metadata": {},
   "outputs": [],
   "source": [
    "def lr_finder(trial, learner, **kwargs):\n",
    "    learner = learner.sample(trial)\n",
    "    lr_min, lr_steep = learner.lr_find(**kwargs)\n",
    "    return lr_steep"
   ]
  },
  {
   "cell_type": "code",
   "execution_count": 29,
   "metadata": {},
   "outputs": [],
   "source": [
    "lr = HpFunc(\"learning_rate\", lr_finder, learner=learner)"
   ]
  },
  {
   "cell_type": "code",
   "execution_count": 30,
   "metadata": {},
   "outputs": [],
   "source": [
    "import datetime"
   ]
  },
  {
   "cell_type": "code",
   "execution_count": 31,
   "metadata": {},
   "outputs": [],
   "source": [
    "#export\n",
    "def run_learner(fit_method, get_metric, n_trials=5): #learner\n",
    "    class Objective():\n",
    "        def __init__(self, fit_method, get_metric): #learner\n",
    "            #self.learner   = learner\n",
    "            self.fit_method = fit_method\n",
    "            self.get_metric = get_metric\n",
    "            \n",
    "        def __call__(self, trial): \n",
    "            #learner = self.learner.sample(trial)\n",
    "            self.fit_method.sample(trial)\n",
    "            res = self.get_metric.sample(trial)\n",
    "            #print(self.fit_method.base_call)\n",
    "            #print(self.get_metric.base_call.base_call)\n",
    "            print(res)\n",
    "            return res\n",
    "\n",
    "    objective = Objective(fit_method, get_metric) #learner\n",
    "    optuna.logging.set_verbosity(0)\n",
    "    pruner = optuna.pruners.NopPruner()\n",
    "    now = datetime.datetime.now().strftime(\"%Y-%m-%d %H:%M:%S\")\n",
    "    study = optuna.create_study(direction=\"maximize\", study_name = now, pruner=pruner)\n",
    "    study.optimize(objective, n_trials=n_trials, n_jobs=1, timeout=600)\n",
    "    return study"
   ]
  },
  {
   "cell_type": "code",
   "execution_count": 32,
   "metadata": {
    "scrolled": false
   },
   "outputs": [
    {
     "data": {
      "text/html": [],
      "text/plain": [
       "<IPython.core.display.HTML object>"
      ]
     },
     "metadata": {},
     "output_type": "display_data"
    },
    {
     "data": {
      "text/html": [
       "<table border=\"1\" class=\"dataframe\">\n",
       "  <thead>\n",
       "    <tr style=\"text-align: left;\">\n",
       "      <th>epoch</th>\n",
       "      <th>train_loss</th>\n",
       "      <th>valid_loss</th>\n",
       "      <th>roc_auc_score</th>\n",
       "      <th>time</th>\n",
       "    </tr>\n",
       "  </thead>\n",
       "  <tbody>\n",
       "    <tr>\n",
       "      <td>0</td>\n",
       "      <td>2.064457</td>\n",
       "      <td>0.828563</td>\n",
       "      <td>0.500000</td>\n",
       "      <td>00:00</td>\n",
       "    </tr>\n",
       "    <tr>\n",
       "      <td>1</td>\n",
       "      <td>1.069090</td>\n",
       "      <td>0.579495</td>\n",
       "      <td>0.500000</td>\n",
       "      <td>00:00</td>\n",
       "    </tr>\n",
       "  </tbody>\n",
       "</table>"
      ],
      "text/plain": [
       "<IPython.core.display.HTML object>"
      ]
     },
     "metadata": {},
     "output_type": "display_data"
    },
    {
     "name": "stdout",
     "output_type": "stream",
     "text": [
      "0.5\n"
     ]
    },
    {
     "data": {
      "text/html": [],
      "text/plain": [
       "<IPython.core.display.HTML object>"
      ]
     },
     "metadata": {},
     "output_type": "display_data"
    },
    {
     "data": {
      "text/html": [
       "<table border=\"1\" class=\"dataframe\">\n",
       "  <thead>\n",
       "    <tr style=\"text-align: left;\">\n",
       "      <th>epoch</th>\n",
       "      <th>train_loss</th>\n",
       "      <th>valid_loss</th>\n",
       "      <th>roc_auc_score</th>\n",
       "      <th>time</th>\n",
       "    </tr>\n",
       "  </thead>\n",
       "  <tbody>\n",
       "    <tr>\n",
       "      <td>0</td>\n",
       "      <td>0.471566</td>\n",
       "      <td>0.421068</td>\n",
       "      <td>0.697164</td>\n",
       "      <td>00:00</td>\n",
       "    </tr>\n",
       "    <tr>\n",
       "      <td>1</td>\n",
       "      <td>0.402532</td>\n",
       "      <td>0.387384</td>\n",
       "      <td>0.737813</td>\n",
       "      <td>00:00</td>\n",
       "    </tr>\n",
       "  </tbody>\n",
       "</table>"
      ],
      "text/plain": [
       "<IPython.core.display.HTML object>"
      ]
     },
     "metadata": {},
     "output_type": "display_data"
    },
    {
     "name": "stdout",
     "output_type": "stream",
     "text": [
      "0.737813230199017\n"
     ]
    },
    {
     "data": {
      "text/html": [],
      "text/plain": [
       "<IPython.core.display.HTML object>"
      ]
     },
     "metadata": {},
     "output_type": "display_data"
    },
    {
     "data": {
      "text/html": [
       "<table border=\"1\" class=\"dataframe\">\n",
       "  <thead>\n",
       "    <tr style=\"text-align: left;\">\n",
       "      <th>epoch</th>\n",
       "      <th>train_loss</th>\n",
       "      <th>valid_loss</th>\n",
       "      <th>roc_auc_score</th>\n",
       "      <th>time</th>\n",
       "    </tr>\n",
       "  </thead>\n",
       "  <tbody>\n",
       "    <tr>\n",
       "      <td>0</td>\n",
       "      <td>1.162286</td>\n",
       "      <td>0.559821</td>\n",
       "      <td>0.715696</td>\n",
       "      <td>00:00</td>\n",
       "    </tr>\n",
       "    <tr>\n",
       "      <td>1</td>\n",
       "      <td>0.712120</td>\n",
       "      <td>0.427939</td>\n",
       "      <td>0.767988</td>\n",
       "      <td>00:00</td>\n",
       "    </tr>\n",
       "  </tbody>\n",
       "</table>"
      ],
      "text/plain": [
       "<IPython.core.display.HTML object>"
      ]
     },
     "metadata": {},
     "output_type": "display_data"
    },
    {
     "name": "stdout",
     "output_type": "stream",
     "text": [
      "0.767988075094674\n"
     ]
    },
    {
     "data": {
      "text/html": [],
      "text/plain": [
       "<IPython.core.display.HTML object>"
      ]
     },
     "metadata": {},
     "output_type": "display_data"
    },
    {
     "data": {
      "text/html": [
       "<table border=\"1\" class=\"dataframe\">\n",
       "  <thead>\n",
       "    <tr style=\"text-align: left;\">\n",
       "      <th>epoch</th>\n",
       "      <th>train_loss</th>\n",
       "      <th>valid_loss</th>\n",
       "      <th>roc_auc_score</th>\n",
       "      <th>time</th>\n",
       "    </tr>\n",
       "  </thead>\n",
       "  <tbody>\n",
       "    <tr>\n",
       "      <td>0</td>\n",
       "      <td>0.456756</td>\n",
       "      <td>0.491638</td>\n",
       "      <td>0.729554</td>\n",
       "      <td>00:00</td>\n",
       "    </tr>\n",
       "    <tr>\n",
       "      <td>1</td>\n",
       "      <td>0.381080</td>\n",
       "      <td>0.406497</td>\n",
       "      <td>0.750504</td>\n",
       "      <td>00:00</td>\n",
       "    </tr>\n",
       "  </tbody>\n",
       "</table>"
      ],
      "text/plain": [
       "<IPython.core.display.HTML object>"
      ]
     },
     "metadata": {},
     "output_type": "display_data"
    },
    {
     "name": "stdout",
     "output_type": "stream",
     "text": [
      "0.7505035855289662\n"
     ]
    },
    {
     "data": {
      "text/html": [],
      "text/plain": [
       "<IPython.core.display.HTML object>"
      ]
     },
     "metadata": {},
     "output_type": "display_data"
    },
    {
     "data": {
      "text/html": [
       "<table border=\"1\" class=\"dataframe\">\n",
       "  <thead>\n",
       "    <tr style=\"text-align: left;\">\n",
       "      <th>epoch</th>\n",
       "      <th>train_loss</th>\n",
       "      <th>valid_loss</th>\n",
       "      <th>roc_auc_score</th>\n",
       "      <th>time</th>\n",
       "    </tr>\n",
       "  </thead>\n",
       "  <tbody>\n",
       "    <tr>\n",
       "      <td>0</td>\n",
       "      <td>0.478295</td>\n",
       "      <td>0.490150</td>\n",
       "      <td>0.539683</td>\n",
       "      <td>00:00</td>\n",
       "    </tr>\n",
       "    <tr>\n",
       "      <td>1</td>\n",
       "      <td>0.401274</td>\n",
       "      <td>0.412696</td>\n",
       "      <td>0.710821</td>\n",
       "      <td>00:00</td>\n",
       "    </tr>\n",
       "  </tbody>\n",
       "</table>"
      ],
      "text/plain": [
       "<IPython.core.display.HTML object>"
      ]
     },
     "metadata": {},
     "output_type": "display_data"
    },
    {
     "name": "stdout",
     "output_type": "stream",
     "text": [
      "0.7108210458464265\n"
     ]
    },
    {
     "data": {
      "image/png": "[encoded data removed]",
      "text/plain": [
       "<Figure size 432x288 with 1 Axes>"
      ]
     },
     "metadata": {
      "needs_background": "light"
     },
     "output_type": "display_data"
    },
    {
     "data": {
      "image/png": "[encoded data removed]",
      "text/plain": [
       "<Figure size 432x288 with 1 Axes>"
      ]
     },
     "metadata": {
      "needs_background": "light"
     },
     "output_type": "display_data"
    },
    {
     "data": {
      "image/png": "[encoded data removed]",
      "text/plain": [
       "<Figure size 432x288 with 1 Axes>"
      ]
     },
     "metadata": {
      "needs_background": "light"
     },
     "output_type": "display_data"
    },
    {
     "data": {
      "image/png": "[encoded data removed]",
      "text/plain": [
       "<Figure size 432x288 with 1 Axes>"
      ]
     },
     "metadata": {
      "needs_background": "light"
     },
     "output_type": "display_data"
    },
    {
     "data": {
      "image/png": "[encoded data removed]",
      "text/plain": [
       "<Figure size 432x288 with 1 Axes>"
      ]
     },
     "metadata": {
      "needs_background": "light"
     },
     "output_type": "display_data"
    }
   ],
   "source": [
    "#export\n",
    "study = run_learner(#learner    = learner,\n",
    "                    fit_method = learner.fit_one_cycle(2, lr),\n",
    "                    get_metric = learner.tracker.best,\n",
    "                    n_trials   = 5\n",
    "                   )"
   ]
  },
  {
   "cell_type": "code",
   "execution_count": 33,
   "metadata": {},
   "outputs": [
    {
     "name": "stdout",
     "output_type": "stream",
     "text": [
      "Number of finished trials: 5\n"
     ]
    }
   ],
   "source": [
    "#export\n",
    "print(\"Number of finished trials: {}\".format(len(study.trials)))"
   ]
  },
  {
   "cell_type": "code",
   "execution_count": 34,
   "metadata": {},
   "outputs": [
    {
     "name": "stdout",
     "output_type": "stream",
     "text": [
      "Best trial:\n",
      "  Value: 0.767988075094674\n"
     ]
    }
   ],
   "source": [
    "print(\"Best trial:\")\n",
    "trial = study.best_trial\n",
    "print(\"  Value: {}\".format(trial.value))"
   ]
  },
  {
   "cell_type": "code",
   "execution_count": 35,
   "metadata": {},
   "outputs": [
    {
     "name": "stdout",
     "output_type": "stream",
     "text": [
      "  Params: \n",
      "    fill_strategy: median\n",
      "    norm_bool: False\n",
      "    optimizer: QHAdam\n",
      "    layers: 3\n",
      "    layer_size_1: 300\n",
      "    layer_size_2: 200\n",
      "    layer_size_3: 150\n",
      "    start_mom: 0.909994669209903\n",
      "    wd_bn_bias: True\n"
     ]
    }
   ],
   "source": [
    "print(\"  Params: \")\n",
    "for key, value in trial.params.items():\n",
    "    print(\"    {}: {}\".format(key, value))"
   ]
  },
  {
   "cell_type": "code",
   "execution_count": 36,
   "metadata": {
    "scrolled": false
   },
   "outputs": [
    {
     "data": {
      "text/html": [
       "<div>\n",
       "<style scoped>\n",
       "    .dataframe tbody tr th:only-of-type {\n",
       "        vertical-align: middle;\n",
       "    }\n",
       "\n",
       "    .dataframe tbody tr th {\n",
       "        vertical-align: top;\n",
       "    }\n",
       "\n",
       "    .dataframe thead th {\n",
       "        text-align: right;\n",
       "    }\n",
       "</style>\n",
       "<table border=\"1\" class=\"dataframe\">\n",
       "  <thead>\n",
       "    <tr style=\"text-align: right;\">\n",
       "      <th></th>\n",
       "      <th>number</th>\n",
       "      <th>value</th>\n",
       "      <th>datetime_start</th>\n",
       "      <th>datetime_complete</th>\n",
       "      <th>params_fill_strategy</th>\n",
       "      <th>params_layer_size_1</th>\n",
       "      <th>params_layer_size_2</th>\n",
       "      <th>params_layer_size_3</th>\n",
       "      <th>params_layers</th>\n",
       "      <th>params_mean_norm</th>\n",
       "      <th>params_norm_bool</th>\n",
       "      <th>params_optimizer</th>\n",
       "      <th>params_start_mom</th>\n",
       "      <th>params_wd_bn_bias</th>\n",
       "      <th>user_attrs_learning_rate</th>\n",
       "      <th>state</th>\n",
       "    </tr>\n",
       "  </thead>\n",
       "  <tbody>\n",
       "    <tr>\n",
       "      <th>0</th>\n",
       "      <td>0</td>\n",
       "      <td>0.500000</td>\n",
       "      <td>2020-05-30 16:06:37.110384</td>\n",
       "      <td>2020-05-30 16:06:40.039381</td>\n",
       "      <td>mode</td>\n",
       "      <td>300</td>\n",
       "      <td>150.0</td>\n",
       "      <td>150.0</td>\n",
       "      <td>3</td>\n",
       "      <td>NaN</td>\n",
       "      <td>False</td>\n",
       "      <td>QHAdam</td>\n",
       "      <td>0.862896</td>\n",
       "      <td>True</td>\n",
       "      <td>0.144544</td>\n",
       "      <td>COMPLETE</td>\n",
       "    </tr>\n",
       "    <tr>\n",
       "      <th>1</th>\n",
       "      <td>1</td>\n",
       "      <td>0.737813</td>\n",
       "      <td>2020-05-30 16:06:40.040381</td>\n",
       "      <td>2020-05-30 16:06:42.038380</td>\n",
       "      <td>median</td>\n",
       "      <td>300</td>\n",
       "      <td>NaN</td>\n",
       "      <td>NaN</td>\n",
       "      <td>1</td>\n",
       "      <td>3.334980</td>\n",
       "      <td>True</td>\n",
       "      <td>QHAdam</td>\n",
       "      <td>0.948960</td>\n",
       "      <td>True</td>\n",
       "      <td>0.019055</td>\n",
       "      <td>COMPLETE</td>\n",
       "    </tr>\n",
       "    <tr>\n",
       "      <th>2</th>\n",
       "      <td>2</td>\n",
       "      <td>0.767988</td>\n",
       "      <td>2020-05-30 16:06:42.039380</td>\n",
       "      <td>2020-05-30 16:06:44.868380</td>\n",
       "      <td>median</td>\n",
       "      <td>300</td>\n",
       "      <td>200.0</td>\n",
       "      <td>150.0</td>\n",
       "      <td>3</td>\n",
       "      <td>NaN</td>\n",
       "      <td>False</td>\n",
       "      <td>QHAdam</td>\n",
       "      <td>0.909995</td>\n",
       "      <td>True</td>\n",
       "      <td>0.083176</td>\n",
       "      <td>COMPLETE</td>\n",
       "    </tr>\n",
       "    <tr>\n",
       "      <th>3</th>\n",
       "      <td>3</td>\n",
       "      <td>0.750504</td>\n",
       "      <td>2020-05-30 16:06:44.869380</td>\n",
       "      <td>2020-05-30 16:06:46.879380</td>\n",
       "      <td>mode</td>\n",
       "      <td>50</td>\n",
       "      <td>150.0</td>\n",
       "      <td>NaN</td>\n",
       "      <td>2</td>\n",
       "      <td>9.056469</td>\n",
       "      <td>True</td>\n",
       "      <td>QHAdam</td>\n",
       "      <td>0.967579</td>\n",
       "      <td>True</td>\n",
       "      <td>0.010965</td>\n",
       "      <td>COMPLETE</td>\n",
       "    </tr>\n",
       "    <tr>\n",
       "      <th>4</th>\n",
       "      <td>4</td>\n",
       "      <td>0.710821</td>\n",
       "      <td>2020-05-30 16:06:46.880381</td>\n",
       "      <td>2020-05-30 16:06:49.372381</td>\n",
       "      <td>median</td>\n",
       "      <td>300</td>\n",
       "      <td>50.0</td>\n",
       "      <td>300.0</td>\n",
       "      <td>3</td>\n",
       "      <td>NaN</td>\n",
       "      <td>False</td>\n",
       "      <td>Adam</td>\n",
       "      <td>0.931942</td>\n",
       "      <td>False</td>\n",
       "      <td>0.002512</td>\n",
       "      <td>COMPLETE</td>\n",
       "    </tr>\n",
       "  </tbody>\n",
       "</table>\n",
       "</div>"
      ],
      "text/plain": [
       "   number     value             datetime_start          datetime_complete  \\\n",
       "0       0  0.500000 2020-05-30 16:06:37.110384 2020-05-30 16:06:40.039381   \n",
       "1       1  0.737813 2020-05-30 16:06:40.040381 2020-05-30 16:06:42.038380   \n",
       "2       2  0.767988 2020-05-30 16:06:42.039380 2020-05-30 16:06:44.868380   \n",
       "3       3  0.750504 2020-05-30 16:06:44.869380 2020-05-30 16:06:46.879380   \n",
       "4       4  0.710821 2020-05-30 16:06:46.880381 2020-05-30 16:06:49.372381   \n",
       "\n",
       "  params_fill_strategy  params_layer_size_1  params_layer_size_2  \\\n",
       "0                 mode                  300                150.0   \n",
       "1               median                  300                  NaN   \n",
       "2               median                  300                200.0   \n",
       "3                 mode                   50                150.0   \n",
       "4               median                  300                 50.0   \n",
       "\n",
       "   params_layer_size_3  params_layers  params_mean_norm  params_norm_bool  \\\n",
       "0                150.0              3               NaN             False   \n",
       "1                  NaN              1          3.334980              True   \n",
       "2                150.0              3               NaN             False   \n",
       "3                  NaN              2          9.056469              True   \n",
       "4                300.0              3               NaN             False   \n",
       "\n",
       "  params_optimizer  params_start_mom  params_wd_bn_bias  \\\n",
       "0           QHAdam          0.862896               True   \n",
       "1           QHAdam          0.948960               True   \n",
       "2           QHAdam          0.909995               True   \n",
       "3           QHAdam          0.967579               True   \n",
       "4             Adam          0.931942              False   \n",
       "\n",
       "   user_attrs_learning_rate     state  \n",
       "0                  0.144544  COMPLETE  \n",
       "1                  0.019055  COMPLETE  \n",
       "2                  0.083176  COMPLETE  \n",
       "3                  0.010965  COMPLETE  \n",
       "4                  0.002512  COMPLETE  "
      ]
     },
     "execution_count": 36,
     "metadata": {},
     "output_type": "execute_result"
    }
   ],
   "source": [
    "#export\n",
    "study.trials_dataframe()"
   ]
  },
  {
   "cell_type": "code",
   "execution_count": 37,
   "metadata": {},
   "outputs": [],
   "source": [
    "from nbdev.export import notebook2script"
   ]
  },
  {
   "cell_type": "code",
   "execution_count": 38,
   "metadata": {},
   "outputs": [
    {
     "name": "stdout",
     "output_type": "stream",
     "text": [
      "Converted 00_core.ipynb.\n",
      "Converted 01_api.ipynb.\n",
      "Converted 02_oo_hp.ipynb.\n",
      "Converted 03_hypster_prepare.ipynb.\n",
      "Converted 04_tabular_api.ipynb.\n",
      "Converted 05_sklearn.ipynb.\n",
      "Converted fastai_adult_tutorial.ipynb.\n",
      "Converted index.ipynb.\n"
     ]
    }
   ],
   "source": [
    "notebook2script()"
   ]
  }
 ],
 "metadata": {
  "kernelspec": {
   "display_name": "Python 3",
   "language": "python",
   "name": "python3"
  },
  "language_info": {
   "codemirror_mode": {
    "name": "ipython",
    "version": 3
   },
   "file_extension": ".py",
   "mimetype": "text/x-python",
   "name": "python",
   "nbconvert_exporter": "python",
   "pygments_lexer": "ipython3",
   "version": "3.7.3"
  }
 },
 "nbformat": 4,
 "nbformat_minor": 4
}
