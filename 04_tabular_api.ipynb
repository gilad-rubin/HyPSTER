{
 "cells": [
  {
   "cell_type": "markdown",
   "metadata": {},
   "source": [
    "- Make learner work generically"
   ]
  },
  {
   "cell_type": "markdown",
   "metadata": {},
   "source": [
    "- Make it work with add_col=True\n",
    "- Make it work with n_jobs > 1"
   ]
  },
  {
   "cell_type": "code",
   "execution_count": 1,
   "metadata": {},
   "outputs": [],
   "source": [
    "#default_exp tabular_api"
   ]
  },
  {
   "cell_type": "code",
   "execution_count": 2,
   "metadata": {},
   "outputs": [],
   "source": [
    "%reload_ext autoreload\n",
    "%autoreload 2"
   ]
  },
  {
   "cell_type": "code",
   "execution_count": 3,
   "metadata": {},
   "outputs": [],
   "source": [
    "#export\n",
    "from hypster.oo_hp import *\n",
    "from hypster.hypster_prepare import *\n",
    "\n",
    "import fastai2\n",
    "from fastai2.tabular.all import *\n",
    "from fastai2.metrics import *\n",
    "\n",
    "from sklearn.model_selection import train_test_split\n",
    "\n",
    "from copy import deepcopy\n",
    "\n",
    "import optuna"
   ]
  },
  {
   "cell_type": "code",
   "execution_count": 4,
   "metadata": {},
   "outputs": [],
   "source": [
    "#export\n",
    "SEED = 42"
   ]
  },
  {
   "cell_type": "markdown",
   "metadata": {},
   "source": [
    "# Read Data"
   ]
  },
  {
   "cell_type": "code",
   "execution_count": 5,
   "metadata": {
    "pycharm": {
     "name": "#%%\n"
    }
   },
   "outputs": [
    {
     "data": {
      "text/plain": [
       "(#3) [Path('C:/Users/user/.fastai/data/adult_sample/adult.csv'),Path('C:/Users/user/.fastai/data/adult_sample/export.pkl'),Path('C:/Users/user/.fastai/data/adult_sample/models')]"
      ]
     },
     "execution_count": 5,
     "metadata": {},
     "output_type": "execute_result"
    }
   ],
   "source": [
    "#export\n",
    "path = untar_data(URLs.ADULT_SAMPLE)\n",
    "path.ls()"
   ]
  },
  {
   "cell_type": "code",
   "execution_count": 6,
   "metadata": {},
   "outputs": [
    {
     "data": {
      "text/html": [
       "<div>\n",
       "<style scoped>\n",
       "    .dataframe tbody tr th:only-of-type {\n",
       "        vertical-align: middle;\n",
       "    }\n",
       "\n",
       "    .dataframe tbody tr th {\n",
       "        vertical-align: top;\n",
       "    }\n",
       "\n",
       "    .dataframe thead th {\n",
       "        text-align: right;\n",
       "    }\n",
       "</style>\n",
       "<table border=\"1\" class=\"dataframe\">\n",
       "  <thead>\n",
       "    <tr style=\"text-align: right;\">\n",
       "      <th></th>\n",
       "      <th>age</th>\n",
       "      <th>workclass</th>\n",
       "      <th>fnlwgt</th>\n",
       "      <th>education</th>\n",
       "      <th>education-num</th>\n",
       "      <th>marital-status</th>\n",
       "      <th>occupation</th>\n",
       "      <th>relationship</th>\n",
       "      <th>race</th>\n",
       "      <th>sex</th>\n",
       "      <th>capital-gain</th>\n",
       "      <th>capital-loss</th>\n",
       "      <th>hours-per-week</th>\n",
       "      <th>native-country</th>\n",
       "      <th>salary</th>\n",
       "    </tr>\n",
       "  </thead>\n",
       "  <tbody>\n",
       "    <tr>\n",
       "      <th>0</th>\n",
       "      <td>49</td>\n",
       "      <td>Private</td>\n",
       "      <td>101320</td>\n",
       "      <td>Assoc-acdm</td>\n",
       "      <td>12.0</td>\n",
       "      <td>Married-civ-spouse</td>\n",
       "      <td>NaN</td>\n",
       "      <td>Wife</td>\n",
       "      <td>White</td>\n",
       "      <td>Female</td>\n",
       "      <td>0</td>\n",
       "      <td>1902</td>\n",
       "      <td>40</td>\n",
       "      <td>United-States</td>\n",
       "      <td>&gt;=50k</td>\n",
       "    </tr>\n",
       "    <tr>\n",
       "      <th>1</th>\n",
       "      <td>44</td>\n",
       "      <td>Private</td>\n",
       "      <td>236746</td>\n",
       "      <td>Masters</td>\n",
       "      <td>14.0</td>\n",
       "      <td>Divorced</td>\n",
       "      <td>Exec-managerial</td>\n",
       "      <td>Not-in-family</td>\n",
       "      <td>White</td>\n",
       "      <td>Male</td>\n",
       "      <td>10520</td>\n",
       "      <td>0</td>\n",
       "      <td>45</td>\n",
       "      <td>United-States</td>\n",
       "      <td>&gt;=50k</td>\n",
       "    </tr>\n",
       "    <tr>\n",
       "      <th>2</th>\n",
       "      <td>38</td>\n",
       "      <td>Private</td>\n",
       "      <td>96185</td>\n",
       "      <td>HS-grad</td>\n",
       "      <td>NaN</td>\n",
       "      <td>Divorced</td>\n",
       "      <td>NaN</td>\n",
       "      <td>Unmarried</td>\n",
       "      <td>Black</td>\n",
       "      <td>Female</td>\n",
       "      <td>0</td>\n",
       "      <td>0</td>\n",
       "      <td>32</td>\n",
       "      <td>United-States</td>\n",
       "      <td>&lt;50k</td>\n",
       "    </tr>\n",
       "    <tr>\n",
       "      <th>3</th>\n",
       "      <td>38</td>\n",
       "      <td>Self-emp-inc</td>\n",
       "      <td>112847</td>\n",
       "      <td>Prof-school</td>\n",
       "      <td>15.0</td>\n",
       "      <td>Married-civ-spouse</td>\n",
       "      <td>Prof-specialty</td>\n",
       "      <td>Husband</td>\n",
       "      <td>Asian-Pac-Islander</td>\n",
       "      <td>Male</td>\n",
       "      <td>0</td>\n",
       "      <td>0</td>\n",
       "      <td>40</td>\n",
       "      <td>United-States</td>\n",
       "      <td>&gt;=50k</td>\n",
       "    </tr>\n",
       "    <tr>\n",
       "      <th>4</th>\n",
       "      <td>42</td>\n",
       "      <td>Self-emp-not-inc</td>\n",
       "      <td>82297</td>\n",
       "      <td>7th-8th</td>\n",
       "      <td>NaN</td>\n",
       "      <td>Married-civ-spouse</td>\n",
       "      <td>Other-service</td>\n",
       "      <td>Wife</td>\n",
       "      <td>Black</td>\n",
       "      <td>Female</td>\n",
       "      <td>0</td>\n",
       "      <td>0</td>\n",
       "      <td>50</td>\n",
       "      <td>United-States</td>\n",
       "      <td>&lt;50k</td>\n",
       "    </tr>\n",
       "  </tbody>\n",
       "</table>\n",
       "</div>"
      ],
      "text/plain": [
       "   age          workclass  fnlwgt     education  education-num  \\\n",
       "0   49            Private  101320    Assoc-acdm           12.0   \n",
       "1   44            Private  236746       Masters           14.0   \n",
       "2   38            Private   96185       HS-grad            NaN   \n",
       "3   38       Self-emp-inc  112847   Prof-school           15.0   \n",
       "4   42   Self-emp-not-inc   82297       7th-8th            NaN   \n",
       "\n",
       "        marital-status        occupation    relationship                 race  \\\n",
       "0   Married-civ-spouse               NaN            Wife                White   \n",
       "1             Divorced   Exec-managerial   Not-in-family                White   \n",
       "2             Divorced               NaN       Unmarried                Black   \n",
       "3   Married-civ-spouse    Prof-specialty         Husband   Asian-Pac-Islander   \n",
       "4   Married-civ-spouse     Other-service            Wife                Black   \n",
       "\n",
       "       sex  capital-gain  capital-loss  hours-per-week  native-country salary  \n",
       "0   Female             0          1902              40   United-States  >=50k  \n",
       "1     Male         10520             0              45   United-States  >=50k  \n",
       "2   Female             0             0              32   United-States   <50k  \n",
       "3     Male             0             0              40   United-States  >=50k  \n",
       "4   Female             0             0              50   United-States   <50k  "
      ]
     },
     "execution_count": 6,
     "metadata": {},
     "output_type": "execute_result"
    }
   ],
   "source": [
    "#export\n",
    "df = pd.read_csv(path/'adult.csv')\n",
    "df.head()"
   ]
  },
  {
   "cell_type": "code",
   "execution_count": 7,
   "metadata": {},
   "outputs": [],
   "source": [
    "#export\n",
    "df = df.sample(frac=0.1)"
   ]
  },
  {
   "cell_type": "code",
   "execution_count": 8,
   "metadata": {},
   "outputs": [],
   "source": [
    "#export\n",
    "cat_names = ['workclass', 'education', 'marital-status', 'occupation', 'relationship', 'race']\n",
    "cont_names = ['age', 'fnlwgt', 'education-num']\n",
    "dep_var = \"salary\""
   ]
  },
  {
   "cell_type": "code",
   "execution_count": 9,
   "metadata": {},
   "outputs": [],
   "source": [
    "#export\n",
    "train_df, test_df = train_test_split(df, test_size=0.6, \n",
    "                                     random_state=SEED, \n",
    "                                     stratify=df[dep_var])"
   ]
  },
  {
   "cell_type": "markdown",
   "metadata": {},
   "source": [
    "# Preprocessing"
   ]
  },
  {
   "cell_type": "raw",
   "metadata": {},
   "source": [
    "cat = Categorify()"
   ]
  },
  {
   "cell_type": "raw",
   "metadata": {},
   "source": [
    "### Fill Missing"
   ]
  },
  {
   "cell_type": "code",
   "execution_count": 10,
   "metadata": {},
   "outputs": [],
   "source": [
    "FillMissing = prepare(FillMissing)"
   ]
  },
  {
   "cell_type": "raw",
   "metadata": {},
   "source": [
    "#TODO: fix this bug: it doesn't add education_num_na to cat_names\n",
    "imp = FillMissing(add_col=HpBool(\"missing_col\"))"
   ]
  },
  {
   "cell_type": "raw",
   "metadata": {},
   "source": [
    "fill = HpInt(start_range=1, end_range=100)"
   ]
  },
  {
   "cell_type": "code",
   "execution_count": 11,
   "metadata": {},
   "outputs": [],
   "source": [
    "fill_strategy = HpCategorical([FillStrategy.mode, \n",
    "                               FillStrategy.median, \n",
    "                               #FillStrategy.constant(5, fill)\n",
    "                              ])"
   ]
  },
  {
   "cell_type": "code",
   "execution_count": 12,
   "metadata": {},
   "outputs": [],
   "source": [
    "#imp = FillMissing(fill_strategy=fill_strategy, add_col=HpBool(\"add_col\"))"
   ]
  },
  {
   "cell_type": "code",
   "execution_count": 13,
   "metadata": {},
   "outputs": [],
   "source": [
    "imp = FillMissing(fill_strategy=fill_strategy, add_col=False)"
   ]
  },
  {
   "cell_type": "code",
   "execution_count": 14,
   "metadata": {},
   "outputs": [],
   "source": [
    "#export\n",
    "Normalize = prepare(Normalize)\n",
    "norm = Normalize(mean=HpFloat(0.001, 10.4))"
   ]
  },
  {
   "cell_type": "code",
   "execution_count": 15,
   "metadata": {},
   "outputs": [],
   "source": [
    "#norm = Normalize(mean=0.4)"
   ]
  },
  {
   "cell_type": "code",
   "execution_count": 16,
   "metadata": {},
   "outputs": [
    {
     "name": "stdout",
     "output_type": "stream",
     "text": [
      "<hypster.hypster_prepare.HypsterPrepare object at 0x00000222A80C20B8>\n",
      "<class 'hypster.hypster_prepare.HypsterPrepare'>\n",
      "<class 'fastai2.data.transforms.Normalize'>\n",
      "<class 'fastcore.transform._TfmMeta'>\n"
     ]
    }
   ],
   "source": [
    "#export\n",
    "procs = [Categorify, imp, HpToggle(norm)]"
   ]
  },
  {
   "cell_type": "code",
   "execution_count": null,
   "metadata": {},
   "outputs": [],
   "source": [
    "#if int, float, ..... Hp\n",
    "#map\n",
    "tabular_leaner(lr=1.5)\n",
    "Float()\n"
   ]
  },
  {
   "cell_type": "markdown",
   "metadata": {},
   "source": [
    "# DataBunch"
   ]
  },
  {
   "cell_type": "code",
   "execution_count": 17,
   "metadata": {},
   "outputs": [],
   "source": [
    "import fastai2"
   ]
  },
  {
   "cell_type": "code",
   "execution_count": 18,
   "metadata": {},
   "outputs": [],
   "source": [
    "TabularPandas = prepare(fastai2.tabular.data.TabularPandas)"
   ]
  },
  {
   "cell_type": "code",
   "execution_count": 19,
   "metadata": {},
   "outputs": [
    {
     "name": "stdout",
     "output_type": "stream",
     "text": [
      "<class 'fastai2.tabular.core.FillMissing'>\n",
      "<class 'fastai2.data.transforms.Normalize'>\n",
      "<hypster.hypster_prepare.HypsterPrepare object at 0x00000222A80C20B8>\n",
      "<class 'hypster.hypster_prepare.HypsterPrepare'>\n",
      "<class 'fastai2.data.transforms.Normalize'>\n",
      "<class 'fastcore.transform._TfmMeta'>\n"
     ]
    }
   ],
   "source": [
    "#export\n",
    "to = TabularPandas(train_df,\n",
    "                   y_block = CategoryBlock(), \n",
    "                   y_names = dep_var,\n",
    "                   splits = RandomSplitter()(range_of(train_df)),\n",
    "                   cat_names = cat_names,\n",
    "                   cont_names = cont_names,\n",
    "                   procs = procs,\n",
    "                   reduce_memory=False,\n",
    "                   inplace=False\n",
    "                  )"
   ]
  },
  {
   "cell_type": "code",
   "execution_count": 20,
   "metadata": {},
   "outputs": [],
   "source": [
    "#export\n",
    "#dls = to.dataloaders(batch_size=2 ** HpInt(\"batch_size\", 5, 9))\n",
    "#dls = to.dataloaders(batch_size=HpInt(\"batch_size\", 16, 128, 16))"
   ]
  },
  {
   "cell_type": "code",
   "execution_count": 21,
   "metadata": {},
   "outputs": [],
   "source": [
    "#export\n",
    "dls = to.dataloaders(batch_size=32)"
   ]
  },
  {
   "cell_type": "markdown",
   "metadata": {},
   "source": [
    "# Learner"
   ]
  },
  {
   "cell_type": "raw",
   "metadata": {},
   "source": [
    "cbs = [TrackerCallback(monitor=\"roc_auc_score\"), \n",
    "       HpToggle(ReduceLROnPlateau(\"roc_auc_score\", patience=HpInt(\"patience\", 1, 5)))]"
   ]
  },
  {
   "cell_type": "code",
   "execution_count": 22,
   "metadata": {},
   "outputs": [],
   "source": [
    "#export\n",
    "cbs = [#TrackerCallback(monitor=\"roc_auc_score\"), \n",
    "       TrackerCallback(monitor=\"accuracy\"), \n",
    "       #ReduceLROnPlateau(\"roc_auc_score\", patience=3)\n",
    "      ]"
   ]
  },
  {
   "cell_type": "code",
   "execution_count": 23,
   "metadata": {},
   "outputs": [],
   "source": [
    "#export\n",
    "start_mom = HpFloat(0.85, 0.99)"
   ]
  },
  {
   "cell_type": "code",
   "execution_count": 24,
   "metadata": {},
   "outputs": [],
   "source": [
    "#export\n",
    "tabular_learner = prepare(tabular_learner)"
   ]
  },
  {
   "cell_type": "raw",
   "metadata": {},
   "source": [
    "tabular_learner = prepare(tabular_learner, recipe=TabularFastAIRecipe)"
   ]
  },
  {
   "cell_type": "raw",
   "metadata": {},
   "source": [
    "TabularFastAIRecipe(competition_mode = True)"
   ]
  },
  {
   "cell_type": "raw",
   "metadata": {},
   "source": [
    "[recipes, constraints, user defined]"
   ]
  },
  {
   "cell_type": "raw",
   "metadata": {},
   "source": [
    "Categorical\n",
    "Float\n",
    "Int\n",
    "Bool\n",
    "Toggle\n",
    "VarLenList"
   ]
  },
  {
   "cell_type": "code",
   "execution_count": 25,
   "metadata": {},
   "outputs": [
    {
     "name": "stdout",
     "output_type": "stream",
     "text": [
      "dataloaders\n"
     ]
    }
   ],
   "source": [
    "#export\n",
    "learner = tabular_learner(dls,\n",
    "                          #metrics=RocAuc(),\n",
    "                          metrics=accuracy,\n",
    "                          opt_func=HpCategorical([Adam, SGD, QHAdam]),\n",
    "                          layers=HpVarLenList(1, 4, HpInt(50, 300, 50, name=\"layer_size\"), same_value=False),\n",
    "                          cbs=cbs,\n",
    "                          moms=(start_mom, start_mom-0.1, start_mom), \n",
    "                          wd_bn_bias=HpBool(),\n",
    "                          )"
   ]
  },
  {
   "cell_type": "markdown",
   "metadata": {},
   "source": [
    "# Optuna"
   ]
  },
  {
   "cell_type": "code",
   "execution_count": 26,
   "metadata": {},
   "outputs": [],
   "source": [
    "lr = HpFloat(1e-5, 1e-1, log=True)"
   ]
  },
  {
   "cell_type": "code",
   "execution_count": 27,
   "metadata": {},
   "outputs": [],
   "source": [
    "def lr_finder(trial, learner, lr_type=\"steep\", **kwargs):\n",
    "    #TODO: remove trial?\n",
    "    learner = learner.sample(trial)\n",
    "    lr_min, lr_steep = learner.lr_find(**kwargs)\n",
    "    if lr_type == \"steep\":\n",
    "        return lr_steep\n",
    "    else:\n",
    "        return lr_min * 0.1"
   ]
  },
  {
   "cell_type": "code",
   "execution_count": 28,
   "metadata": {},
   "outputs": [],
   "source": [
    "lr = HpFunc(lr_finder, learner=learner, lr_type=HpCategorical([\"min\", \"steep\"]))"
   ]
  },
  {
   "cell_type": "code",
   "execution_count": 29,
   "metadata": {},
   "outputs": [],
   "source": [
    "import datetime"
   ]
  },
  {
   "cell_type": "raw",
   "metadata": {},
   "source": [
    "def set_name(name, study):\n",
    "    db = study.user_attr[\"names_db\"].copy()\n",
    "    #how to update names over the db?\n",
    "    #what about hps without prepare / learner?\n",
    "    if name is None:\n",
    "    if exists:\n",
    "        if only one exists:\n",
    "            add suffix (first)\n",
    "        add suffix (current)\n",
    "    set name"
   ]
  },
  {
   "cell_type": "raw",
   "metadata": {},
   "source": [
    "def set_names(hp_prepare, study):\n",
    "    #TODO: handle *args\n",
    "    for i, arg in enumerate(hp_prepare.args + list(hp_prepare.kwargs.values())):\n",
    "        if isinstance(arg, HypsterExpression):\n",
    "            arg_name = hp_prepare.arg_names[i] if arg.name is None else arg.name\n",
    "            hp.set_name(arg_name, study)"
   ]
  },
  {
   "cell_type": "code",
   "execution_count": 30,
   "metadata": {},
   "outputs": [],
   "source": [
    "#export\n",
    "def run_learner(learner, fit_method, get_metric, n_trials=5): #learner\n",
    "    class Objective():\n",
    "        def __init__(self, fit_method, get_metric): #learner\n",
    "            #self.learner   = learner\n",
    "            self.fit_method = fit_method\n",
    "            self.get_metric = get_metric\n",
    "            \n",
    "        def __call__(self, trial): \n",
    "            #learner = self.learner.sample(trial)\n",
    "            self.fit_method.sample(trial)\n",
    "            res = self.get_metric.sample(trial)\n",
    "            #print(self.fit_method.base_call)\n",
    "            #print(self.get_metric.base_call.base_call)\n",
    "            print(res)\n",
    "            return res\n",
    "       \n",
    "    objective = Objective(fit_method, get_metric) #learner\n",
    "    optuna.logging.set_verbosity(0)\n",
    "    pruner = optuna.pruners.NopPruner()\n",
    "    now = datetime.datetime.now().strftime(\"%Y-%m-%d %H:%M:%S\")\n",
    "    study = optuna.create_study(direction=\"maximize\", study_name = now, pruner=pruner)\n",
    "    \n",
    "    #study.set_user_attr(\"names_db\", {}) #TODO: Check what happens if n_jobs=-1\n",
    "    #set_names(learner, fit_method, get_metric, study)\n",
    "    \n",
    "    study.optimize(objective, n_trials=n_trials, n_jobs=1, timeout=600)\n",
    "    return study"
   ]
  },
  {
   "cell_type": "code",
   "execution_count": 31,
   "metadata": {
    "scrolled": false
   },
   "outputs": [
    {
     "data": {
      "text/html": [
       "<table border=\"1\" class=\"dataframe\">\n",
       "  <thead>\n",
       "    <tr style=\"text-align: left;\">\n",
       "      <th>epoch</th>\n",
       "      <th>train_loss</th>\n",
       "      <th>valid_loss</th>\n",
       "      <th>accuracy</th>\n",
       "      <th>time</th>\n",
       "    </tr>\n",
       "  </thead>\n",
       "  <tbody>\n",
       "    <tr>\n",
       "      <td>0</td>\n",
       "      <td>0.575656</td>\n",
       "      <td>0.600804</td>\n",
       "      <td>0.780769</td>\n",
       "      <td>00:00</td>\n",
       "    </tr>\n",
       "    <tr>\n",
       "      <td>1</td>\n",
       "      <td>0.468697</td>\n",
       "      <td>0.506795</td>\n",
       "      <td>0.796154</td>\n",
       "      <td>00:00</td>\n",
       "    </tr>\n",
       "  </tbody>\n",
       "</table>"
      ],
      "text/plain": [
       "<IPython.core.display.HTML object>"
      ]
     },
     "metadata": {},
     "output_type": "display_data"
    },
    {
     "name": "stdout",
     "output_type": "stream",
     "text": [
      "0.7961538434028625\n"
     ]
    },
    {
     "data": {
      "text/html": [
       "<table border=\"1\" class=\"dataframe\">\n",
       "  <thead>\n",
       "    <tr style=\"text-align: left;\">\n",
       "      <th>epoch</th>\n",
       "      <th>train_loss</th>\n",
       "      <th>valid_loss</th>\n",
       "      <th>accuracy</th>\n",
       "      <th>time</th>\n",
       "    </tr>\n",
       "  </thead>\n",
       "  <tbody>\n",
       "    <tr>\n",
       "      <td>0</td>\n",
       "      <td>0.492658</td>\n",
       "      <td>0.478840</td>\n",
       "      <td>0.765385</td>\n",
       "      <td>00:00</td>\n",
       "    </tr>\n",
       "    <tr>\n",
       "      <td>1</td>\n",
       "      <td>0.415909</td>\n",
       "      <td>0.412276</td>\n",
       "      <td>0.788462</td>\n",
       "      <td>00:00</td>\n",
       "    </tr>\n",
       "  </tbody>\n",
       "</table>"
      ],
      "text/plain": [
       "<IPython.core.display.HTML object>"
      ]
     },
     "metadata": {},
     "output_type": "display_data"
    },
    {
     "name": "stdout",
     "output_type": "stream",
     "text": [
      "0.7884615659713745\n"
     ]
    },
    {
     "data": {
      "text/html": [
       "<table border=\"1\" class=\"dataframe\">\n",
       "  <thead>\n",
       "    <tr style=\"text-align: left;\">\n",
       "      <th>epoch</th>\n",
       "      <th>train_loss</th>\n",
       "      <th>valid_loss</th>\n",
       "      <th>accuracy</th>\n",
       "      <th>time</th>\n",
       "    </tr>\n",
       "  </thead>\n",
       "  <tbody>\n",
       "    <tr>\n",
       "      <td>0</td>\n",
       "      <td>0.588335</td>\n",
       "      <td>0.612093</td>\n",
       "      <td>0.757692</td>\n",
       "      <td>00:00</td>\n",
       "    </tr>\n",
       "    <tr>\n",
       "      <td>1</td>\n",
       "      <td>0.476127</td>\n",
       "      <td>0.507247</td>\n",
       "      <td>0.788462</td>\n",
       "      <td>00:00</td>\n",
       "    </tr>\n",
       "  </tbody>\n",
       "</table>"
      ],
      "text/plain": [
       "<IPython.core.display.HTML object>"
      ]
     },
     "metadata": {},
     "output_type": "display_data"
    },
    {
     "name": "stdout",
     "output_type": "stream",
     "text": [
      "0.7884615659713745\n"
     ]
    }
   ],
   "source": [
    "#export\n",
    "study = run_learner(learner    = learner,\n",
    "                    fit_method = learner.fit_one_cycle(2, 1e-3),#lr\n",
    "                    get_metric = learner.tracker.best,\n",
    "                    n_trials   = 3\n",
    "                   )"
   ]
  },
  {
   "cell_type": "code",
   "execution_count": 32,
   "metadata": {},
   "outputs": [
    {
     "name": "stdout",
     "output_type": "stream",
     "text": [
      "Number of finished trials: 3\n"
     ]
    }
   ],
   "source": [
    "#export\n",
    "print(\"Number of finished trials: {}\".format(len(study.trials)))"
   ]
  },
  {
   "cell_type": "code",
   "execution_count": 33,
   "metadata": {},
   "outputs": [
    {
     "name": "stdout",
     "output_type": "stream",
     "text": [
      "Best trial:\n",
      "  Value: 0.7961538434028625\n"
     ]
    }
   ],
   "source": [
    "print(\"Best trial:\")\n",
    "trial = study.best_trial\n",
    "print(\"  Value: {}\".format(trial.value))"
   ]
  },
  {
   "cell_type": "code",
   "execution_count": 34,
   "metadata": {},
   "outputs": [
    {
     "name": "stdout",
     "output_type": "stream",
     "text": [
      "  Params: \n",
      "    fill_strategy: median\n",
      "    toggle_Normalize: True\n",
      "    mean: 7.803966587331513\n",
      "    opt_func: Adam\n",
      "    n_layers: 1\n",
      "    layer_size_1: 150\n",
      "    moms: 0.9044101813053794\n",
      "    wd_bn_bias: False\n"
     ]
    }
   ],
   "source": [
    "print(\"  Params: \")\n",
    "for key, value in trial.params.items():\n",
    "    print(\"    {}: {}\".format(key, value))"
   ]
  },
  {
   "cell_type": "code",
   "execution_count": 35,
   "metadata": {},
   "outputs": [
    {
     "data": {
      "text/plain": [
       "{'fill_strategy': 'median',\n",
       " 'toggle_Normalize': True,\n",
       " 'mean': 7.803966587331513,\n",
       " 'opt_func': 'Adam',\n",
       " 'n_layers': 1,\n",
       " 'layer_size_1': 150,\n",
       " 'moms': 0.9044101813053794,\n",
       " 'wd_bn_bias': False}"
      ]
     },
     "execution_count": 35,
     "metadata": {},
     "output_type": "execute_result"
    }
   ],
   "source": [
    "study.trials[0].params"
   ]
  },
  {
   "cell_type": "code",
   "execution_count": 36,
   "metadata": {
    "scrolled": false
   },
   "outputs": [
    {
     "data": {
      "text/html": [
       "<div>\n",
       "<style scoped>\n",
       "    .dataframe tbody tr th:only-of-type {\n",
       "        vertical-align: middle;\n",
       "    }\n",
       "\n",
       "    .dataframe tbody tr th {\n",
       "        vertical-align: top;\n",
       "    }\n",
       "\n",
       "    .dataframe thead th {\n",
       "        text-align: right;\n",
       "    }\n",
       "</style>\n",
       "<table border=\"1\" class=\"dataframe\">\n",
       "  <thead>\n",
       "    <tr style=\"text-align: right;\">\n",
       "      <th></th>\n",
       "      <th>number</th>\n",
       "      <th>value</th>\n",
       "      <th>datetime_start</th>\n",
       "      <th>datetime_complete</th>\n",
       "      <th>params_fill_strategy</th>\n",
       "      <th>params_layer_size_1</th>\n",
       "      <th>params_layer_size_2</th>\n",
       "      <th>params_layer_size_3</th>\n",
       "      <th>params_mean</th>\n",
       "      <th>params_moms</th>\n",
       "      <th>params_n_layers</th>\n",
       "      <th>params_opt_func</th>\n",
       "      <th>params_toggle_Normalize</th>\n",
       "      <th>params_wd_bn_bias</th>\n",
       "      <th>state</th>\n",
       "    </tr>\n",
       "  </thead>\n",
       "  <tbody>\n",
       "    <tr>\n",
       "      <th>0</th>\n",
       "      <td>0</td>\n",
       "      <td>0.796154</td>\n",
       "      <td>2020-06-21 00:12:17.241241</td>\n",
       "      <td>2020-06-21 00:12:18.097564</td>\n",
       "      <td>median</td>\n",
       "      <td>150</td>\n",
       "      <td>NaN</td>\n",
       "      <td>NaN</td>\n",
       "      <td>7.803967</td>\n",
       "      <td>0.904410</td>\n",
       "      <td>1</td>\n",
       "      <td>Adam</td>\n",
       "      <td>True</td>\n",
       "      <td>False</td>\n",
       "      <td>COMPLETE</td>\n",
       "    </tr>\n",
       "    <tr>\n",
       "      <th>1</th>\n",
       "      <td>1</td>\n",
       "      <td>0.788462</td>\n",
       "      <td>2020-06-21 00:12:18.097564</td>\n",
       "      <td>2020-06-21 00:12:19.381564</td>\n",
       "      <td>median</td>\n",
       "      <td>100</td>\n",
       "      <td>300.0</td>\n",
       "      <td>300.0</td>\n",
       "      <td>NaN</td>\n",
       "      <td>0.937827</td>\n",
       "      <td>3</td>\n",
       "      <td>QHAdam</td>\n",
       "      <td>False</td>\n",
       "      <td>True</td>\n",
       "      <td>COMPLETE</td>\n",
       "    </tr>\n",
       "    <tr>\n",
       "      <th>2</th>\n",
       "      <td>2</td>\n",
       "      <td>0.788462</td>\n",
       "      <td>2020-06-21 00:12:19.382564</td>\n",
       "      <td>2020-06-21 00:12:20.296565</td>\n",
       "      <td>median</td>\n",
       "      <td>100</td>\n",
       "      <td>50.0</td>\n",
       "      <td>NaN</td>\n",
       "      <td>NaN</td>\n",
       "      <td>0.984989</td>\n",
       "      <td>2</td>\n",
       "      <td>Adam</td>\n",
       "      <td>False</td>\n",
       "      <td>True</td>\n",
       "      <td>COMPLETE</td>\n",
       "    </tr>\n",
       "  </tbody>\n",
       "</table>\n",
       "</div>"
      ],
      "text/plain": [
       "   number     value             datetime_start          datetime_complete  \\\n",
       "0       0  0.796154 2020-06-21 00:12:17.241241 2020-06-21 00:12:18.097564   \n",
       "1       1  0.788462 2020-06-21 00:12:18.097564 2020-06-21 00:12:19.381564   \n",
       "2       2  0.788462 2020-06-21 00:12:19.382564 2020-06-21 00:12:20.296565   \n",
       "\n",
       "  params_fill_strategy  params_layer_size_1  params_layer_size_2  \\\n",
       "0               median                  150                  NaN   \n",
       "1               median                  100                300.0   \n",
       "2               median                  100                 50.0   \n",
       "\n",
       "   params_layer_size_3  params_mean  params_moms  params_n_layers  \\\n",
       "0                  NaN     7.803967     0.904410                1   \n",
       "1                300.0          NaN     0.937827                3   \n",
       "2                  NaN          NaN     0.984989                2   \n",
       "\n",
       "  params_opt_func  params_toggle_Normalize  params_wd_bn_bias     state  \n",
       "0            Adam                     True              False  COMPLETE  \n",
       "1          QHAdam                    False               True  COMPLETE  \n",
       "2            Adam                    False               True  COMPLETE  "
      ]
     },
     "execution_count": 36,
     "metadata": {},
     "output_type": "execute_result"
    }
   ],
   "source": [
    "#export\n",
    "study.trials_dataframe()"
   ]
  },
  {
   "cell_type": "code",
   "execution_count": 37,
   "metadata": {},
   "outputs": [],
   "source": [
    "from nbdev.export import notebook2script"
   ]
  },
  {
   "cell_type": "code",
   "execution_count": 38,
   "metadata": {},
   "outputs": [
    {
     "name": "stdout",
     "output_type": "stream",
     "text": [
      "Converted 00_core.ipynb.\n",
      "Converted 01_api.ipynb.\n",
      "Converted 02_oo_hp.ipynb.\n",
      "Converted 03_hypster_prepare.ipynb.\n",
      "Converted 04_tabular_api.ipynb.\n",
      "Converted 05_sklearn.ipynb.\n",
      "Converted fastai_adult_tutorial.ipynb.\n",
      "Converted index.ipynb.\n"
     ]
    }
   ],
   "source": [
    "notebook2script()"
   ]
  },
  {
   "cell_type": "code",
   "execution_count": null,
   "metadata": {},
   "outputs": [],
   "source": []
  }
 ],
 "metadata": {
  "kernelspec": {
   "display_name": "Python 3",
   "language": "python",
   "name": "python3"
  },
  "language_info": {
   "codemirror_mode": {
    "name": "ipython",
    "version": 3
   },
   "file_extension": ".py",
   "mimetype": "text/x-python",
   "name": "python",
   "nbconvert_exporter": "python",
   "pygments_lexer": "ipython3",
   "version": "3.7.3"
  }
 },
 "nbformat": 4,
 "nbformat_minor": 4
}
