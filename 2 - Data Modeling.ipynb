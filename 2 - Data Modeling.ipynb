{
 "cells": [
  {
   "cell_type": "code",
   "execution_count": 1,
   "metadata": {
    "scrolled": false
   },
   "outputs": [],
   "source": [
    "import pandas as pd\n",
    "import numpy as np"
   ]
  },
  {
   "cell_type": "code",
   "execution_count": 2,
   "metadata": {},
   "outputs": [],
   "source": [
    "from scipy.sparse import save_npz, load_npz, vstack"
   ]
  },
  {
   "cell_type": "code",
   "execution_count": 3,
   "metadata": {},
   "outputs": [],
   "source": [
    "from sklearn.preprocessing import LabelEncoder\n",
    "from sklearn.model_selection import PredefinedSplit, cross_val_score\n",
    "from sklearn.feature_selection import mutual_info_classif\n",
    "from sklearn.ensemble import RandomForestClassifier\n",
    "from sklearn import metrics"
   ]
  },
  {
   "cell_type": "code",
   "execution_count": 4,
   "metadata": {},
   "outputs": [],
   "source": [
    "from xgboost import XGBClassifier"
   ]
  },
  {
   "cell_type": "code",
   "execution_count": 5,
   "metadata": {},
   "outputs": [],
   "source": [
    "from XGBoostOptuna import *\n",
    "from optuna_utils import *"
   ]
  },
  {
   "cell_type": "code",
   "execution_count": 6,
   "metadata": {},
   "outputs": [],
   "source": [
    "SEED = 42"
   ]
  },
  {
   "cell_type": "markdown",
   "metadata": {},
   "source": [
    "# True Test Mode Vs. Inner Test mode"
   ]
  },
  {
   "cell_type": "markdown",
   "metadata": {},
   "source": [
    "true_test_mode == True means Training on all \"train_df\" and predicting on \"test_df\" without knowing the real labels."
   ]
  },
  {
   "cell_type": "code",
   "execution_count": 7,
   "metadata": {},
   "outputs": [],
   "source": [
    "true_test_mode = True"
   ]
  },
  {
   "cell_type": "markdown",
   "metadata": {},
   "source": [
    "# Load Datasets"
   ]
  },
  {
   "cell_type": "code",
   "execution_count": 8,
   "metadata": {},
   "outputs": [],
   "source": [
    "train_non_numeric = pd.read_pickle(\"./data/train_non_numeric.pkl\")\n",
    "train_df = load_npz(\"./data/train_df.npz\")"
   ]
  },
  {
   "cell_type": "code",
   "execution_count": 9,
   "metadata": {},
   "outputs": [],
   "source": [
    "#convert mahzor to code from 0-4 for later use in Cross Validation\n",
    "mahzor = LabelEncoder().fit_transform(train_non_numeric['mahzor_acharon'])"
   ]
  },
  {
   "cell_type": "code",
   "execution_count": 10,
   "metadata": {},
   "outputs": [],
   "source": [
    "test_non_numeric = pd.read_pickle(\"./data/test_non_numeric.pkl\")\n",
    "test_df = load_npz(\"./data/test_df.npz\")"
   ]
  },
  {
   "cell_type": "code",
   "execution_count": 11,
   "metadata": {},
   "outputs": [],
   "source": [
    "df_columns = pd.read_pickle(\"./data/df_columns.pkl\")"
   ]
  },
  {
   "cell_type": "code",
   "execution_count": 12,
   "metadata": {},
   "outputs": [],
   "source": [
    "y = np.int32(train_non_numeric[\"nesher\"])"
   ]
  },
  {
   "cell_type": "markdown",
   "metadata": {},
   "source": [
    "# Create Train/Test Splits"
   ]
  },
  {
   "cell_type": "code",
   "execution_count": 13,
   "metadata": {},
   "outputs": [],
   "source": [
    "if true_test_mode:\n",
    "    X_train = train_df\n",
    "    y_train = train_non_numeric[\"nesher\"].copy()\n",
    "    X_test = test_df\n",
    "    train_mahzor = mahzor\n",
    "else:\n",
    "    # Creating Inner Test set by predicting last mahzor results\n",
    "    X_train = train_df[mahzor < 4]\n",
    "    y_train = y[mahzor<4]\n",
    "    X_test = train_df[mahzor == 4]\n",
    "    y_test = y[mahzor == 4]\n",
    "    train_mahzor = mahzor[mahzor<4]"
   ]
  },
  {
   "cell_type": "markdown",
   "metadata": {},
   "source": [
    "# Define Model"
   ]
  },
  {
   "cell_type": "code",
   "execution_count": 14,
   "metadata": {},
   "outputs": [],
   "source": [
    "model = XGBClassifier(max_depth=6, n_jobs=-1, random_state=SEED)"
   ]
  },
  {
   "cell_type": "markdown",
   "metadata": {},
   "source": [
    "# Find and Remove \"Drifts\" Between Train & Test"
   ]
  },
  {
   "cell_type": "code",
   "execution_count": 15,
   "metadata": {},
   "outputs": [],
   "source": [
    "# We want to find and eliminate features that have different distributions between train and test datasets\n",
    "# These features \"confuse\" the model and damage performance on test set"
   ]
  },
  {
   "cell_type": "code",
   "execution_count": 16,
   "metadata": {},
   "outputs": [],
   "source": [
    "# The trick is to concatenate the datasets and define label \"0\" for samples from the training set\n",
    "# and label \"1\" for samples from the test set"
   ]
  },
  {
   "cell_type": "code",
   "execution_count": 17,
   "metadata": {},
   "outputs": [],
   "source": [
    "# We then extract univariate feature importances and see if there are informative features that help distinguish\n",
    "# if a sample belongs to the train or test set."
   ]
  },
  {
   "cell_type": "code",
   "execution_count": 18,
   "metadata": {},
   "outputs": [],
   "source": [
    "# Finally, we keep only the features that are un-informative"
   ]
  },
  {
   "cell_type": "code",
   "execution_count": 19,
   "metadata": {},
   "outputs": [],
   "source": [
    "X = vstack([X_train,X_test], format=\"csr\")"
   ]
  },
  {
   "cell_type": "code",
   "execution_count": 20,
   "metadata": {},
   "outputs": [],
   "source": [
    "# this creates a list of \"0\"s and \"1\"s according to the number of rows in each dataset\n",
    "y = (X_train.shape[0] * [0]) + (X_test.shape[0] * [1])"
   ]
  },
  {
   "cell_type": "code",
   "execution_count": 21,
   "metadata": {},
   "outputs": [],
   "source": [
    "imp = mutual_info_classif(X,y)"
   ]
  },
  {
   "cell_type": "code",
   "execution_count": 22,
   "metadata": {},
   "outputs": [],
   "source": [
    "imp_df = pd.DataFrame({\"importance\" : imp})\n",
    "imp_df['feature_name'] = df_columns.values\n",
    "imp_df.sort_values(by=\"importance\", ascending=False, inplace=True)"
   ]
  },
  {
   "cell_type": "code",
   "execution_count": 23,
   "metadata": {},
   "outputs": [
    {
     "data": {
      "text/html": [
       "<div>\n",
       "<style scoped>\n",
       "    .dataframe tbody tr th:only-of-type {\n",
       "        vertical-align: middle;\n",
       "    }\n",
       "\n",
       "    .dataframe tbody tr th {\n",
       "        vertical-align: top;\n",
       "    }\n",
       "\n",
       "    .dataframe thead th {\n",
       "        text-align: right;\n",
       "    }\n",
       "</style>\n",
       "<table border=\"1\" class=\"dataframe\">\n",
       "  <thead>\n",
       "    <tr style=\"text-align: right;\">\n",
       "      <th></th>\n",
       "      <th>importance</th>\n",
       "      <th>feature_name</th>\n",
       "    </tr>\n",
       "  </thead>\n",
       "  <tbody>\n",
       "    <tr>\n",
       "      <th>39</th>\n",
       "      <td>0.662363</td>\n",
       "      <td>madad_eitanut</td>\n",
       "    </tr>\n",
       "    <tr>\n",
       "      <th>580</th>\n",
       "      <td>0.177274</td>\n",
       "      <td>submix_תנועה_  בירורים (ת\"ג, מידע, משך / אורך ...</td>\n",
       "    </tr>\n",
       "    <tr>\n",
       "      <th>157</th>\n",
       "      <td>0.177274</td>\n",
       "      <td>sub2_  בירורים (ת\"ג, מידע, משך / אורך שירות)</td>\n",
       "    </tr>\n",
       "    <tr>\n",
       "      <th>555</th>\n",
       "      <td>0.143935</td>\n",
       "      <td>submix_רפואי_שאלון רפואי ומסמכים נוספים</td>\n",
       "    </tr>\n",
       "    <tr>\n",
       "      <th>333</th>\n",
       "      <td>0.143935</td>\n",
       "      <td>sub2_שאלון רפואי ומסמכים נוספים</td>\n",
       "    </tr>\n",
       "    <tr>\n",
       "      <th>65</th>\n",
       "      <td>0.132642</td>\n",
       "      <td>manila_std_diff</td>\n",
       "    </tr>\n",
       "    <tr>\n",
       "      <th>112</th>\n",
       "      <td>0.127556</td>\n",
       "      <td>sub1_ איתור קד\"צ</td>\n",
       "    </tr>\n",
       "    <tr>\n",
       "      <th>4282</th>\n",
       "      <td>0.090851</td>\n",
       "      <td>sub3_לטייס בקשה ליום</td>\n",
       "    </tr>\n",
       "    <tr>\n",
       "      <th>2978</th>\n",
       "      <td>0.090851</td>\n",
       "      <td>sub3_לגיוס מה הקוד</td>\n",
       "    </tr>\n",
       "    <tr>\n",
       "      <th>9843</th>\n",
       "      <td>0.090851</td>\n",
       "      <td>sub3_שדה חוזר בוגר</td>\n",
       "    </tr>\n",
       "    <tr>\n",
       "      <th>4182</th>\n",
       "      <td>0.076951</td>\n",
       "      <td>sub3_גיבוש בקשה לחתום</td>\n",
       "    </tr>\n",
       "    <tr>\n",
       "      <th>2941</th>\n",
       "      <td>0.076951</td>\n",
       "      <td>sub3_לממצאים</td>\n",
       "    </tr>\n",
       "    <tr>\n",
       "      <th>9842</th>\n",
       "      <td>0.076951</td>\n",
       "      <td>sub3_ליום שדה חוזר</td>\n",
       "    </tr>\n",
       "    <tr>\n",
       "      <th>184</th>\n",
       "      <td>0.075960</td>\n",
       "      <td>sub2_איסוף נתונים לתפקידים מיוחדים</td>\n",
       "    </tr>\n",
       "    <tr>\n",
       "      <th>485</th>\n",
       "      <td>0.071862</td>\n",
       "      <td>submix_מיון_איסוף נתונים לתפקידים מיוחדים</td>\n",
       "    </tr>\n",
       "    <tr>\n",
       "      <th>378</th>\n",
       "      <td>0.068550</td>\n",
       "      <td>submix_ איתור קד\"צ_מיונים</td>\n",
       "    </tr>\n",
       "    <tr>\n",
       "      <th>117</th>\n",
       "      <td>0.064449</td>\n",
       "      <td>sub1_איתור קד\"צ</td>\n",
       "    </tr>\n",
       "    <tr>\n",
       "      <th>141</th>\n",
       "      <td>0.064004</td>\n",
       "      <td>sub1_מתגייסים ברשת</td>\n",
       "    </tr>\n",
       "    <tr>\n",
       "      <th>505</th>\n",
       "      <td>0.058421</td>\n",
       "      <td>submix_מתגייסים ברשת_התחברות</td>\n",
       "    </tr>\n",
       "    <tr>\n",
       "      <th>231</th>\n",
       "      <td>0.058421</td>\n",
       "      <td>sub2_התחברות</td>\n",
       "    </tr>\n",
       "  </tbody>\n",
       "</table>\n",
       "</div>"
      ],
      "text/plain": [
       "      importance                                       feature_name\n",
       "39      0.662363                                      madad_eitanut\n",
       "580     0.177274  submix_תנועה_  בירורים (ת\"ג, מידע, משך / אורך ...\n",
       "157     0.177274       sub2_  בירורים (ת\"ג, מידע, משך / אורך שירות)\n",
       "555     0.143935            submix_רפואי_שאלון רפואי ומסמכים נוספים\n",
       "333     0.143935                    sub2_שאלון רפואי ומסמכים נוספים\n",
       "65      0.132642                                    manila_std_diff\n",
       "112     0.127556                                   sub1_ איתור קד\"צ\n",
       "4282    0.090851                               sub3_לטייס בקשה ליום\n",
       "2978    0.090851                                 sub3_לגיוס מה הקוד\n",
       "9843    0.090851                                 sub3_שדה חוזר בוגר\n",
       "4182    0.076951                              sub3_גיבוש בקשה לחתום\n",
       "2941    0.076951                                       sub3_לממצאים\n",
       "9842    0.076951                                 sub3_ליום שדה חוזר\n",
       "184     0.075960                 sub2_איסוף נתונים לתפקידים מיוחדים\n",
       "485     0.071862          submix_מיון_איסוף נתונים לתפקידים מיוחדים\n",
       "378     0.068550                          submix_ איתור קד\"צ_מיונים\n",
       "117     0.064449                                    sub1_איתור קד\"צ\n",
       "141     0.064004                                 sub1_מתגייסים ברשת\n",
       "505     0.058421                       submix_מתגייסים ברשת_התחברות\n",
       "231     0.058421                                       sub2_התחברות"
      ]
     },
     "execution_count": 23,
     "metadata": {},
     "output_type": "execute_result"
    }
   ],
   "source": [
    "imp_df.head(20)"
   ]
  },
  {
   "cell_type": "code",
   "execution_count": 24,
   "metadata": {},
   "outputs": [],
   "source": [
    "similar_distribution_feature_indices = (imp_df[imp_df['importance']<=0.01]).index"
   ]
  },
  {
   "cell_type": "code",
   "execution_count": 25,
   "metadata": {
    "scrolled": true
   },
   "outputs": [],
   "source": [
    "# If there are \"informative\" features - this means that these features have different distributions between train and test.\n",
    "# Therefore we will keep only those who got low scores in the feature_importance score"
   ]
  },
  {
   "cell_type": "code",
   "execution_count": 26,
   "metadata": {},
   "outputs": [],
   "source": [
    "X_train = X_train[:,similar_distribution_feature_indices]"
   ]
  },
  {
   "cell_type": "code",
   "execution_count": 27,
   "metadata": {},
   "outputs": [],
   "source": [
    "X_test = X_test[:,similar_distribution_feature_indices]"
   ]
  },
  {
   "cell_type": "code",
   "execution_count": 28,
   "metadata": {},
   "outputs": [],
   "source": [
    "df_columns = df_columns[similar_distribution_feature_indices].copy().reset_index(drop=True)"
   ]
  },
  {
   "cell_type": "markdown",
   "metadata": {},
   "source": [
    "# Feature Importances"
   ]
  },
  {
   "cell_type": "code",
   "execution_count": 29,
   "metadata": {},
   "outputs": [],
   "source": [
    "model = model.fit(X_train, y_train)\n",
    "imp_df = pd.DataFrame({\"importance\" : model.feature_importances_})\n",
    "imp_df['feature_name'] = df_columns.values\n",
    "imp_df.sort_values(by=\"importance\", ascending=False, inplace=True)"
   ]
  },
  {
   "cell_type": "code",
   "execution_count": 30,
   "metadata": {},
   "outputs": [
    {
     "data": {
      "text/html": [
       "<div>\n",
       "<style scoped>\n",
       "    .dataframe tbody tr th:only-of-type {\n",
       "        vertical-align: middle;\n",
       "    }\n",
       "\n",
       "    .dataframe tbody tr th {\n",
       "        vertical-align: top;\n",
       "    }\n",
       "\n",
       "    .dataframe thead th {\n",
       "        text-align: right;\n",
       "    }\n",
       "</style>\n",
       "<table border=\"1\" class=\"dataframe\">\n",
       "  <thead>\n",
       "    <tr style=\"text-align: right;\">\n",
       "      <th></th>\n",
       "      <th>importance</th>\n",
       "      <th>feature_name</th>\n",
       "    </tr>\n",
       "  </thead>\n",
       "  <tbody>\n",
       "    <tr>\n",
       "      <th>358</th>\n",
       "      <td>0.022169</td>\n",
       "      <td>application_count_days_before_giyus_after_giyus</td>\n",
       "    </tr>\n",
       "    <tr>\n",
       "      <th>326</th>\n",
       "      <td>0.018892</td>\n",
       "      <td>destination_will</td>\n",
       "    </tr>\n",
       "    <tr>\n",
       "      <th>1672</th>\n",
       "      <td>0.007890</td>\n",
       "      <td>sub3_גיוס האם</td>\n",
       "    </tr>\n",
       "    <tr>\n",
       "      <th>103</th>\n",
       "      <td>0.005905</td>\n",
       "      <td>lohem_will</td>\n",
       "    </tr>\n",
       "    <tr>\n",
       "      <th>977</th>\n",
       "      <td>0.005575</td>\n",
       "      <td>kaba</td>\n",
       "    </tr>\n",
       "    <tr>\n",
       "      <th>3902</th>\n",
       "      <td>0.004857</td>\n",
       "      <td>dibur_is_missing</td>\n",
       "    </tr>\n",
       "    <tr>\n",
       "      <th>242</th>\n",
       "      <td>0.004571</td>\n",
       "      <td>application_count_days_before_giyus_0-14days</td>\n",
       "    </tr>\n",
       "    <tr>\n",
       "      <th>1036</th>\n",
       "      <td>0.004270</td>\n",
       "      <td>is_destination_3</td>\n",
       "    </tr>\n",
       "    <tr>\n",
       "      <th>6098</th>\n",
       "      <td>0.004135</td>\n",
       "      <td>ind_over_minimal_requirements_mm</td>\n",
       "    </tr>\n",
       "    <tr>\n",
       "      <th>3862</th>\n",
       "      <td>0.003938</td>\n",
       "      <td>is_destination_12</td>\n",
       "    </tr>\n",
       "    <tr>\n",
       "      <th>1429</th>\n",
       "      <td>0.003888</td>\n",
       "      <td>atzuranit</td>\n",
       "    </tr>\n",
       "    <tr>\n",
       "      <th>10480</th>\n",
       "      <td>0.003718</td>\n",
       "      <td>sub3_אחר</td>\n",
       "    </tr>\n",
       "    <tr>\n",
       "      <th>3764</th>\n",
       "      <td>0.003555</td>\n",
       "      <td>kfir_will</td>\n",
       "    </tr>\n",
       "    <tr>\n",
       "      <th>4600</th>\n",
       "      <td>0.003399</td>\n",
       "      <td>sub3_עתידי וידוא הגעת</td>\n",
       "    </tr>\n",
       "    <tr>\n",
       "      <th>1072</th>\n",
       "      <td>0.003271</td>\n",
       "      <td>magav_will</td>\n",
       "    </tr>\n",
       "    <tr>\n",
       "      <th>783</th>\n",
       "      <td>0.003258</td>\n",
       "      <td>sub3_שעת ומיקום הגעה</td>\n",
       "    </tr>\n",
       "    <tr>\n",
       "      <th>3254</th>\n",
       "      <td>0.003245</td>\n",
       "      <td>submix_תנועה_בקשות חריגות</td>\n",
       "    </tr>\n",
       "    <tr>\n",
       "      <th>3004</th>\n",
       "      <td>0.003175</td>\n",
       "      <td>sub3_קרבי אני</td>\n",
       "    </tr>\n",
       "    <tr>\n",
       "      <th>3085</th>\n",
       "      <td>0.003094</td>\n",
       "      <td>is_destination_10</td>\n",
       "    </tr>\n",
       "    <tr>\n",
       "      <th>11060</th>\n",
       "      <td>0.003092</td>\n",
       "      <td>sub3_ליחידות התנדבות בירור</td>\n",
       "    </tr>\n",
       "  </tbody>\n",
       "</table>\n",
       "</div>"
      ],
      "text/plain": [
       "       importance                                     feature_name\n",
       "358      0.022169  application_count_days_before_giyus_after_giyus\n",
       "326      0.018892                                 destination_will\n",
       "1672     0.007890                                    sub3_גיוס האם\n",
       "103      0.005905                                       lohem_will\n",
       "977      0.005575                                             kaba\n",
       "3902     0.004857                                 dibur_is_missing\n",
       "242      0.004571     application_count_days_before_giyus_0-14days\n",
       "1036     0.004270                                 is_destination_3\n",
       "6098     0.004135                 ind_over_minimal_requirements_mm\n",
       "3862     0.003938                                is_destination_12\n",
       "1429     0.003888                                        atzuranit\n",
       "10480    0.003718                                         sub3_אחר\n",
       "3764     0.003555                                        kfir_will\n",
       "4600     0.003399                            sub3_עתידי וידוא הגעת\n",
       "1072     0.003271                                       magav_will\n",
       "783      0.003258                             sub3_שעת ומיקום הגעה\n",
       "3254     0.003245                        submix_תנועה_בקשות חריגות\n",
       "3004     0.003175                                    sub3_קרבי אני\n",
       "3085     0.003094                                is_destination_10\n",
       "11060    0.003092                       sub3_ליחידות התנדבות בירור"
      ]
     },
     "execution_count": 30,
     "metadata": {},
     "output_type": "execute_result"
    }
   ],
   "source": [
    "imp_df.head(20)"
   ]
  },
  {
   "cell_type": "markdown",
   "metadata": {},
   "source": [
    "# Feature Selection"
   ]
  },
  {
   "cell_type": "code",
   "execution_count": 31,
   "metadata": {},
   "outputs": [],
   "source": [
    "informative_feature_indices = (imp_df[imp_df['importance']>0]).index"
   ]
  },
  {
   "cell_type": "code",
   "execution_count": 32,
   "metadata": {},
   "outputs": [],
   "source": [
    "X_train = X_train[:,informative_feature_indices].copy()"
   ]
  },
  {
   "cell_type": "code",
   "execution_count": 33,
   "metadata": {},
   "outputs": [],
   "source": [
    "X_test = X_test[:,informative_feature_indices].copy()"
   ]
  },
  {
   "cell_type": "code",
   "execution_count": 34,
   "metadata": {},
   "outputs": [],
   "source": [
    "df_columns = df_columns[informative_feature_indices].copy().reset_index(drop=True)"
   ]
  },
  {
   "cell_type": "markdown",
   "metadata": {},
   "source": [
    "### Create CV Splits by mahzor"
   ]
  },
  {
   "cell_type": "code",
   "execution_count": 35,
   "metadata": {},
   "outputs": [],
   "source": [
    "def create_predefined_splits(cv_splits, X, y):\n",
    "    test_folds_idx = np.zeros(len(y), dtype=np.int)\n",
    "    i = 0\n",
    "    for train_index, test_index in cv_splits.split(X, y):\n",
    "        test_folds_idx[test_index] = i\n",
    "        i+=1\n",
    "    return PredefinedSplit(test_folds_idx)"
   ]
  },
  {
   "cell_type": "code",
   "execution_count": 36,
   "metadata": {},
   "outputs": [],
   "source": [
    "cv_splits = PredefinedSplit(train_mahzor)"
   ]
  },
  {
   "cell_type": "markdown",
   "metadata": {},
   "source": [
    "# Optuna"
   ]
  },
  {
   "cell_type": "code",
   "execution_count": 37,
   "metadata": {},
   "outputs": [],
   "source": [
    "#TODO: automatic seed\n",
    "xgb_estimator = XGBClassifierOptuna(booster_list=['gblinear', 'gbtree', 'dart'], seed=SEED) \n",
    "#lgb_estimator = LGBClassifierOptuna(seed=SEED)\n",
    "#sgd_estimator = SGDClassifierOptuna(seed=SEED)\n",
    "#rf_estimator  = RFClassifierOptuna(seed=SEED)"
   ]
  },
  {
   "cell_type": "code",
   "execution_count": 38,
   "metadata": {},
   "outputs": [],
   "source": [
    "estimators = [xgb_estimator]#, sgd_estimator]"
   ]
  },
  {
   "cell_type": "code",
   "execution_count": 39,
   "metadata": {},
   "outputs": [],
   "source": [
    "studies = Study(X_train, y_train, estimators, #pipeline, pipe_params, \n",
    "              cv=cv_splits, max_iter=200, max_fails=3,\n",
    "              scoring=sklearn.metrics.roc_auc_score, greater_is_better=True, random_state=SEED)"
   ]
  },
  {
   "cell_type": "code",
   "execution_count": 40,
   "metadata": {},
   "outputs": [
    {
     "name": "stdout",
     "output_type": "stream",
     "text": [
      "XGBoost Classifier\n",
      "Score: 0.76725\n",
      "Score: 0.76087\n",
      "Score: 0.60152\n",
      "Score: 0.77211\n",
      "Score: 0.77063\n",
      "Score: 0.77398\n",
      "Score: 0.75458\n",
      "Score: 0.67016\n",
      "Score: 0.7718\n",
      "Score: 0.76313\n",
      "Score: 0.76912\n",
      "Score: 0.77029\n",
      "Score: 0.76792\n",
      "Score: 0.77422\n",
      "Score: 0.76064\n",
      "Score: 0.78119\n",
      "Score: 0.7709\n"
     ]
    },
    {
     "name": "stderr",
     "output_type": "stream",
     "text": [
      "[W 2019-06-22 02:38:06,458] Setting status of trial#37 as TrialState.FAIL because of the following error: ValueError(\"Input contains NaN, infinity or a value too large for dtype('float32').\")\n",
      "Traceback (most recent call last):\n",
      "  File \"C:\\Users\\user\\Anaconda3\\lib\\site-packages\\optuna\\study.py\", line 398, in _run_trial\n",
      "    result = func(trial)\n",
      "  File \"c:\\python_workspace\\optuna-on-steroids\\optuna_utils.py\", line 60, in __call__\n",
      "    fold_score = estimator.score_test(self.scoring)\n",
      "  File \"c:\\python_workspace\\optuna-on-steroids\\XGBoostOptuna.py\", line 102, in score_test\n",
      "    return scorer(self.dtest.get_label(), preds)\n",
      "  File \"C:\\Users\\user\\Anaconda3\\lib\\site-packages\\sklearn\\metrics\\ranking.py\", line 355, in roc_auc_score\n",
      "    sample_weight=sample_weight)\n",
      "  File \"C:\\Users\\user\\Anaconda3\\lib\\site-packages\\sklearn\\metrics\\base.py\", line 76, in _average_binary_score\n",
      "    return binary_metric(y_true, y_score, sample_weight=sample_weight)\n",
      "  File \"C:\\Users\\user\\Anaconda3\\lib\\site-packages\\sklearn\\metrics\\ranking.py\", line 327, in _binary_roc_auc_score\n",
      "    sample_weight=sample_weight)\n",
      "  File \"C:\\Users\\user\\Anaconda3\\lib\\site-packages\\sklearn\\metrics\\ranking.py\", line 622, in roc_curve\n",
      "    y_true, y_score, pos_label=pos_label, sample_weight=sample_weight)\n",
      "  File \"C:\\Users\\user\\Anaconda3\\lib\\site-packages\\sklearn\\metrics\\ranking.py\", line 402, in _binary_clf_curve\n",
      "    assert_all_finite(y_score)\n",
      "  File \"C:\\Users\\user\\Anaconda3\\lib\\site-packages\\sklearn\\utils\\validation.py\", line 72, in assert_all_finite\n",
      "    _assert_all_finite(X.data if sp.issparse(X) else X, allow_nan)\n",
      "  File \"C:\\Users\\user\\Anaconda3\\lib\\site-packages\\sklearn\\utils\\validation.py\", line 56, in _assert_all_finite\n",
      "    raise ValueError(msg_err.format(type_err, X.dtype))\n",
      "ValueError: Input contains NaN, infinity or a value too large for dtype('float32').\n"
     ]
    },
    {
     "name": "stdout",
     "output_type": "stream",
     "text": [
      "Score: 0.77471\n",
      "Score: 0.7744\n",
      "Score: 0.77375\n",
      "Score: 0.78212\n",
      "Score: 0.78069\n",
      "Score: 0.77996\n"
     ]
    }
   ],
   "source": [
    "studies.run(n_trials_per_estimator=100, n_jobs=-1)"
   ]
  },
  {
   "cell_type": "code",
   "execution_count": 41,
   "metadata": {},
   "outputs": [],
   "source": [
    "study = studies.studies[0]"
   ]
  },
  {
   "cell_type": "code",
   "execution_count": 42,
   "metadata": {
    "scrolled": true
   },
   "outputs": [
    {
     "data": {
      "text/plain": [
       "0.7821180827565675"
      ]
     },
     "execution_count": 42,
     "metadata": {},
     "output_type": "execute_result"
    }
   ],
   "source": [
    "study.best_value"
   ]
  },
  {
   "cell_type": "code",
   "execution_count": 44,
   "metadata": {},
   "outputs": [],
   "source": [
    "final_pipeline = study.best_trial.user_attrs['pipeline']"
   ]
  },
  {
   "cell_type": "code",
   "execution_count": 45,
   "metadata": {},
   "outputs": [
    {
     "data": {
      "text/plain": [
       "0.7821180827565675"
      ]
     },
     "execution_count": 45,
     "metadata": {},
     "output_type": "execute_result"
    }
   ],
   "source": [
    "study.best_trial.value"
   ]
  },
  {
   "cell_type": "code",
   "execution_count": 46,
   "metadata": {},
   "outputs": [],
   "source": [
    "final_pipeline = final_pipeline.fit(X_train, y_train)"
   ]
  },
  {
   "cell_type": "code",
   "execution_count": 47,
   "metadata": {},
   "outputs": [],
   "source": [
    "test_probs = final_pipeline.predict_proba(X_test)\n",
    "test_probs = test_probs[:,1]"
   ]
  },
  {
   "cell_type": "code",
   "execution_count": 48,
   "metadata": {
    "scrolled": false
   },
   "outputs": [
    {
     "ename": "NameError",
     "evalue": "name 'y_test' is not defined",
     "output_type": "error",
     "traceback": [
      "\u001b[1;31m---------------------------------------------------------------------------\u001b[0m",
      "\u001b[1;31mNameError\u001b[0m                                 Traceback (most recent call last)",
      "\u001b[1;32m<ipython-input-48-193a5c979a8f>\u001b[0m in \u001b[0;36m<module>\u001b[1;34m\u001b[0m\n\u001b[1;32m----> 1\u001b[1;33m \u001b[0msklearn\u001b[0m\u001b[1;33m.\u001b[0m\u001b[0mmetrics\u001b[0m\u001b[1;33m.\u001b[0m\u001b[0mroc_auc_score\u001b[0m\u001b[1;33m(\u001b[0m\u001b[0my_test\u001b[0m\u001b[1;33m,\u001b[0m \u001b[0mtest_probs\u001b[0m\u001b[1;33m)\u001b[0m\u001b[1;33m\u001b[0m\u001b[1;33m\u001b[0m\u001b[0m\n\u001b[0m",
      "\u001b[1;31mNameError\u001b[0m: name 'y_test' is not defined"
     ]
    }
   ],
   "source": [
    "sklearn.metrics.roc_auc_score(y_test, test_probs)"
   ]
  },
  {
   "cell_type": "markdown",
   "metadata": {},
   "source": [
    "# Train Model"
   ]
  },
  {
   "cell_type": "code",
   "execution_count": null,
   "metadata": {},
   "outputs": [],
   "source": [
    "scores = cross_val_score(model, X_train, y_train, scoring=\"roc_auc\", cv = cv_splits, n_jobs=-1)"
   ]
  },
  {
   "cell_type": "code",
   "execution_count": null,
   "metadata": {},
   "outputs": [],
   "source": [
    "print(\"We got \" + str(round(scores.mean(), 3)) + \" AUC with CV on the training set!\")"
   ]
  },
  {
   "cell_type": "code",
   "execution_count": null,
   "metadata": {},
   "outputs": [],
   "source": [
    "model = model.fit(X_train, y_train)"
   ]
  },
  {
   "cell_type": "code",
   "execution_count": null,
   "metadata": {},
   "outputs": [],
   "source": [
    "test_probs = model.predict_proba(X_test)\n",
    "test_probs = test_probs[:,1]"
   ]
  },
  {
   "cell_type": "code",
   "execution_count": null,
   "metadata": {
    "scrolled": false
   },
   "outputs": [],
   "source": [
    "if true_test_mode == False:\n",
    "    val_auc = metrics.roc_auc_score(y_test, test_probs)\n",
    "    print(\"We got \" + str(round(val_auc, 3)) + \" AUC on the validation set!\")"
   ]
  },
  {
   "cell_type": "markdown",
   "metadata": {},
   "source": [
    "# Output for Kaggle"
   ]
  },
  {
   "cell_type": "code",
   "execution_count": 49,
   "metadata": {},
   "outputs": [],
   "source": [
    "import time\n",
    "timestr = time.strftime(\"%Y%m%d-%H%M%S\")"
   ]
  },
  {
   "cell_type": "code",
   "execution_count": 51,
   "metadata": {},
   "outputs": [
    {
     "name": "stdout",
     "output_type": "stream",
     "text": [
      "We got 0.771 AUC on the test set!\n"
     ]
    }
   ],
   "source": [
    "if true_test_mode:\n",
    "    submission = pd.DataFrame({\"TZ\": test_non_numeric['tz'], 'NESHER' : test_probs})\n",
    "    #submission.to_csv('./submissions/sub' + timestr + '.csv', index=False)\n",
    "    \n",
    "    solution = pd.read_csv('./data/solution.csv')\n",
    "    solution = solution.merge(submission, on=\"TZ\")\n",
    "    test_auc = metrics.roc_auc_score(solution[\"NESHER_x\"], solution[\"NESHER_y\"])\n",
    "    print(\"We got \" + str(round(test_auc, 3)) + \" AUC on the test set!\")"
   ]
  },
  {
   "cell_type": "code",
   "execution_count": null,
   "metadata": {},
   "outputs": [],
   "source": []
  }
 ],
 "metadata": {
  "kernelspec": {
   "display_name": "Python 3",
   "language": "python",
   "name": "python3"
  },
  "language_info": {
   "codemirror_mode": {
    "name": "ipython",
    "version": 3
   },
   "file_extension": ".py",
   "mimetype": "text/x-python",
   "name": "python",
   "nbconvert_exporter": "python",
   "pygments_lexer": "ipython3",
   "version": "3.7.1"
  },
  "pycharm": {
   "stem_cell": {
    "cell_type": "raw",
    "metadata": {
     "collapsed": false
    },
    "source": []
   }
  }
 },
 "nbformat": 4,
 "nbformat_minor": 2
}
