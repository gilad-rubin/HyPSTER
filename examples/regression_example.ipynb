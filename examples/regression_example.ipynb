{
 "cells": [
  {
   "cell_type": "code",
   "execution_count": 15,
   "metadata": {},
   "outputs": [],
   "source": [
    "import pandas as pd\n",
    "import numpy as np\n",
    "import sklearn"
   ]
  },
  {
   "cell_type": "code",
   "execution_count": 16,
   "metadata": {},
   "outputs": [],
   "source": [
    "from sklearn.model_selection import train_test_split\n",
    "from sklearn.datasets import load_boston"
   ]
  },
  {
   "cell_type": "code",
   "execution_count": 17,
   "metadata": {},
   "outputs": [],
   "source": [
    "from hypster import HyPSTERRegressor"
   ]
  },
  {
   "cell_type": "code",
   "execution_count": 18,
   "metadata": {},
   "outputs": [],
   "source": [
    "SEED = 42"
   ]
  },
  {
   "cell_type": "markdown",
   "metadata": {},
   "source": [
    "# Load Boston Housing Dataset"
   ]
  },
  {
   "cell_type": "code",
   "execution_count": 19,
   "metadata": {},
   "outputs": [],
   "source": [
    "boston = load_boston()\n",
    "X = pd.DataFrame(data=boston[\"data\"], columns=boston[\"feature_names\"])\n",
    "y = boston[\"target\"]"
   ]
  },
  {
   "cell_type": "code",
   "execution_count": 20,
   "metadata": {},
   "outputs": [],
   "source": [
    "X_train, X_test, y_train, y_test = train_test_split(X, y, test_size=0.33, random_state=SEED)"
   ]
  },
  {
   "cell_type": "markdown",
   "metadata": {},
   "source": [
    "# Fit HyPSTER On the Data"
   ]
  },
  {
   "cell_type": "code",
   "execution_count": 21,
   "metadata": {},
   "outputs": [],
   "source": [
    "frameworks = [\"sklearn\", \"xgboost\", \"lightgbm\"]\n",
    "model_types = [\"tree_based\", \"linear\"]"
   ]
  },
  {
   "cell_type": "code",
   "execution_count": 22,
   "metadata": {},
   "outputs": [],
   "source": [
    "reg = HyPSTERRegressor(frameworks = frameworks,\n",
    "                       model_types = model_types,\n",
    "                       scoring=\"neg_mean_squared_error\",\n",
    "                       cv=5,\n",
    "                       max_iter=1000,\n",
    "                       n_jobs=-1,\n",
    "                       random_state=SEED)"
   ]
  },
  {
   "cell_type": "code",
   "execution_count": 23,
   "metadata": {},
   "outputs": [
    {
     "name": "stdout",
     "output_type": "stream",
     "text": [
      "LightGBM Regressor Score: 27.76872\n",
      "LightGBM Regressor Score: 30.18914\n",
      "XGBoost Linear Regressor Score: 30.66527\n",
      "LightGBM Regressor Score: 30.61751\n",
      "XGBoost Tree-Based Regressor Score: 17.40761\n",
      "LightGBM Regressor Score: 36.95402\n",
      "LightGBM Regressor Score: 33.44547\n",
      "LightGBM Regressor Score: 26.91017\n",
      "XGBoost Tree-Based Regressor Score: 18.85306\n",
      "XGBoost Tree-Based Regressor Score: 22.30604\n",
      "XGBoost Tree-Based Regressor Score: 21.71341\n",
      "XGBoost Tree-Based Regressor Score: 21.77465\n",
      "XGBoost Tree-Based Regressor Score: 21.87899\n",
      "XGBoost Tree-Based Regressor Score: 25.85964\n",
      "XGBoost Tree-Based Regressor Score: 31.49441\n",
      "XGBoost Tree-Based Regressor Score: 16.14125\n",
      "XGBoost Tree-Based Regressor Score: 17.38471\n",
      "XGBoost Tree-Based Regressor Score: 14.693\n",
      "XGBoost Tree-Based Regressor Score: 14.58885\n",
      "XGBoost Tree-Based Regressor Score: 15.16528\n",
      "XGBoost Tree-Based Regressor Score: 17.83203\n",
      "XGBoost Tree-Based Regressor Score: 14.51442\n",
      "XGBoost Tree-Based Regressor Score: 12.72301\n",
      "XGBoost Tree-Based Regressor Score: 14.73716\n",
      "XGBoost Tree-Based Regressor Score: 14.45462\n",
      "XGBoost Tree-Based Regressor Score: 13.76353\n",
      "XGBoost Tree-Based Regressor Score: 14.54839\n",
      "XGBoost Tree-Based Regressor Score: 13.93275\n",
      "XGBoost Tree-Based Regressor Score: 15.61396\n",
      "XGBoost Tree-Based Regressor Score: 13.51736\n",
      "XGBoost Linear Regressor Score: 36.8297\n",
      "Wall time: 3min 36s\n"
     ]
    }
   ],
   "source": [
    "%%time\n",
    "reg.fit(X_train, y_train, n_trials=100)"
   ]
  },
  {
   "cell_type": "markdown",
   "metadata": {},
   "source": [
    "# Review Results On Test"
   ]
  },
  {
   "cell_type": "code",
   "execution_count": 24,
   "metadata": {},
   "outputs": [
    {
     "data": {
      "text/plain": [
       "3.566932409718397"
      ]
     },
     "execution_count": 24,
     "metadata": {},
     "output_type": "execute_result"
    }
   ],
   "source": [
    "np.sqrt(reg.best_score_)"
   ]
  },
  {
   "cell_type": "code",
   "execution_count": 25,
   "metadata": {
    "scrolled": true
   },
   "outputs": [
    {
     "data": {
      "text/plain": [
       "3.159247269783644"
      ]
     },
     "execution_count": 25,
     "metadata": {},
     "output_type": "execute_result"
    }
   ],
   "source": [
    "preds = reg.predict(X_test)\n",
    "np.sqrt(sklearn.metrics.mean_squared_error(y_test, preds))"
   ]
  }
 ],
 "metadata": {
  "kernelspec": {
   "display_name": "Python 3",
   "language": "python",
   "name": "python3"
  },
  "language_info": {
   "codemirror_mode": {
    "name": "ipython",
    "version": 3
   },
   "file_extension": ".py",
   "mimetype": "text/x-python",
   "name": "python",
   "nbconvert_exporter": "python",
   "pygments_lexer": "ipython3",
   "version": "3.7.3"
  }
 },
 "nbformat": 4,
 "nbformat_minor": 4
}
