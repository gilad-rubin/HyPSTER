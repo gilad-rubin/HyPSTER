{
    "cells": [
        {
            "cell_type": "code",
            "execution_count": 1,
            "metadata": {},
            "outputs": [
                {
                    "data": {
                        "text/html": [
                            "\n",
                            "    <style>\n",
                            "    .cell-output-ipywidget-background {\n",
                            "        background-color: transparent !important;\n",
                            "    }\n",
                            "    :root {\n",
                            "        --jp-widgets-color: var(--vscode-editor-foreground);\n",
                            "        --jp-widgets-font-size: var(--vscode-editor-font-size);\n",
                            "    }\n",
                            "    </style>\n",
                            "    "
                        ],
                        "text/plain": [
                            "<IPython.core.display.HTML object>"
                        ]
                    },
                    "metadata": {},
                    "output_type": "display_data"
                }
            ],
            "source": [
                "# First cell - Add this at the start of your notebook\n",
                "from hypster.ui import apply_vscode_theme\n",
                "\n",
                "apply_vscode_theme()"
            ]
        },
        {
            "cell_type": "code",
            "execution_count": 2,
            "metadata": {},
            "outputs": [],
            "source": [
                "# First cell\n",
                "import logging\n",
                "import sys\n",
                "\n",
                "# Set up the logger\n",
                "logger = logging.getLogger(\"hypster.ui\")  # Get the root logger for hypster\n",
                "logger.setLevel(logging.DEBUG)\n",
                "\n",
                "# Create console handler with a higher log level\n",
                "console_handler = logging.StreamHandler(sys.stdout)\n",
                "console_handler.setLevel(logging.DEBUG)\n",
                "\n",
                "# Create formatter and add it to the handler\n",
                "formatter = logging.Formatter(\"%(name)s - %(levelname)s - %(message)s\")\n",
                "console_handler.setFormatter(formatter)\n",
                "\n",
                "# # Add the handler to the logger\n",
                "logger.addHandler(console_handler)"
            ]
        },
        {
            "cell_type": "code",
            "execution_count": 3,
            "metadata": {},
            "outputs": [],
            "source": [
                "from hypster import HP, config\n",
                "\n",
                "\n",
                "@config\n",
                "def conditional_config(hp: HP):\n",
                "    model = hp.select([\"cnn\", \"rnn\", \"transformer\"], default=\"rnn\", name=\"model\")\n",
                "    var = hp.multi_int([1, 2, 3])\n",
                "    var2 = hp.multi_number([1.0, 2.0, 3.0])\n",
                "    var3 = hp.multi_text([\"a\", \"b\"])\n",
                "    if model == \"cnn\":\n",
                "        layers = hp.select([3, 5, 7], default=5, name=\"layers\")\n",
                "        kernel_size = hp.select([3, 5], default=3, name=\"kernel_size\")\n",
                "        toggle = hp.bool(True)\n",
                "    elif model == \"rnn\":\n",
                "        cell_type = hp.select([\"lstm\", \"gru\"], default=\"lstm\", name=\"cell_type\")\n",
                "        num_layers = hp.int(5, name=\"num_layers\", min=1, max=100)\n",
                "        if num_layers > 10:\n",
                "            text = hp.text(\"hello\")\n",
                "            # if len(text) > 10:\n",
                "            new = hp.multi_select([\"a\", \"b\", \"c\"], default=[\"a\", \"b\"])\n",
                "    else:  # transformer\n",
                "        num_heads = hp.select([4, 8, 16], default=8, name=\"num_heads\")\n",
                "        num_layers = hp.int(2, name=\"num_layers\", min=1, max=10)\n",
                "        number = hp.number(0.01, min=0.01, max=0.1)\n",
                "        number2 = hp.number(0.01)\n",
                "\n",
                "    lr = hp.select([0.001, 0.01, 0.1], default=0.01, name=\"lr\")"
            ]
        },
        {
            "cell_type": "code",
            "execution_count": 4,
            "metadata": {},
            "outputs": [],
            "source": [
                "from hypster import HP, config\n",
                "\n",
                "\n",
                "@config\n",
                "def nested_config(hp: HP):\n",
                "    model = hp.select([\"cnn\", \"rnn\", \"transformer\"], default=\"rnn\", name=\"model\")\n",
                "    va23 = hp.multi_int([1, 2, 3])\n",
                "\n",
                "\n",
                "nested_config.save(\"helper_configs/nested_config.py\")"
            ]
        },
        {
            "cell_type": "code",
            "execution_count": 5,
            "metadata": {},
            "outputs": [],
            "source": [
                "from hypster import HP, config\n",
                "\n",
                "\n",
                "@config\n",
                "def hp_config(hp: HP):\n",
                "    lr = hp.number(0.01, min=0.01, max=0.1)\n",
                "    ml = hp.propagate(\"helper_configs/nested_config.py\")"
            ]
        },
        {
            "cell_type": "code",
            "execution_count": 6,
            "metadata": {},
            "outputs": [],
            "source": [
                "from hypster import HP, config"
            ]
        },
        {
            "cell_type": "code",
            "execution_count": 7,
            "metadata": {},
            "outputs": [],
            "source": [
                "@config\n",
                "def fast_embed(hp: HP):\n",
                "    model = hp.select(\n",
                "        {\"bge-small\": \"BAAI/bge-small-en-v1.5\", \"mini-lm\": \"sentence-transformers/all-MiniLM-L6-v2\"},\n",
                "        default=\"mini-lm\",\n",
                "    )\n",
                "    import os\n",
                "\n",
                "    cpu_count = os.cpu_count() or 1\n",
                "\n",
                "\n",
                "fast_embed.save(\"helper_configs/fast_embed.py\")\n",
                "\n",
                "\n",
                "@config\n",
                "def jina_embed(hp: HP):\n",
                "    model = hp.select({\"v3\": \"jina-embeddings-v3\", \"v2\": \"jina-embeddings-v2\"}, default=\"v3\")\n",
                "    if model == \"jina-embeddings-v3\":\n",
                "        late_chunking = hp.select([True, False], default=True, name=\"late_chunking\")\n",
                "\n",
                "\n",
                "jina_embed.save(\"helper_configs/jina_embed.py\")"
            ]
        },
        {
            "cell_type": "code",
            "execution_count": 8,
            "metadata": {},
            "outputs": [],
            "source": [
                "from hypster import HP, config\n",
                "\n",
                "\n",
                "@config\n",
                "def modular_rag(hp: HP):\n",
                "    embedder_type = hp.select([\"fastembed\", \"jina\"], default=\"fastembed\")\n",
                "    match embedder_type:\n",
                "        case \"fastembed\":\n",
                "            embedder = hp.propagate(\"helper_configs/fast_embed.py\")\n",
                "        case \"jina\":\n",
                "            embedder = hp.propagate(\"helper_configs/jina_embed.py\")"
            ]
        },
        {
            "cell_type": "code",
            "execution_count": 9,
            "metadata": {},
            "outputs": [
                {
                    "name": "stdout",
                    "output_type": "stream",
                    "text": [
                        "hypster.ui.handler - DEBUG - Nested latest records: ['model']\n",
                        "hypster.ui.ipywidgets - DEBUG - Initialized IPyWidgetsUI\n",
                        "hypster.ui.ipywidgets - DEBUG - Updating display\n",
                        "hypster.ui.ipywidgets - DEBUG - Ordered components: ['embedder_type', 'embedder']\n",
                        "hypster.ui.ipywidgets - DEBUG - Processing component: embedder_type (select)\n",
                        "hypster.ui.ipywidgets - DEBUG - Creating new UI component for: embedder_type\n",
                        "hypster.ui.ipywidgets - DEBUG - Processing component: embedder (propagate)\n",
                        "hypster.ui.ipywidgets - DEBUG - Creating new UI component for: embedder\n"
                    ]
                },
                {
                    "data": {
                        "application/vnd.jupyter.widget-view+json": {
                            "model_id": "295df88a5db94bde80fe73564657c07b",
                            "version_major": 2,
                            "version_minor": 0
                        },
                        "text/plain": [
                            "VBox(children=(Dropdown(description='embedder_type', layout=Layout(min_width='300px', width='300px'), options=…"
                        ]
                    },
                    "metadata": {},
                    "output_type": "display_data"
                }
            ],
            "source": [
                "# Test usage\n",
                "from hypster.ui import interactive_config\n",
                "\n",
                "# Initialize the interactive configuration\n",
                "results = interactive_config(modular_rag)"
            ]
        },
        {
            "cell_type": "code",
            "execution_count": 14,
            "metadata": {},
            "outputs": [
                {
                    "name": "stdout",
                    "output_type": "stream",
                    "text": [
                        "hypster.ui.handler - ERROR - Error running config: unhashable type: 'list'\n",
                        "hypster.ui.ipywidgets - DEBUG - Initialized IPyWidgetsUI\n",
                        "hypster.ui.ipywidgets - DEBUG - Updating display\n",
                        "hypster.ui.ipywidgets - DEBUG - Ordered components: ['model']\n",
                        "hypster.ui.ipywidgets - DEBUG - Processing component: model (select)\n",
                        "hypster.ui.ipywidgets - DEBUG - Creating new UI component for: model\n"
                    ]
                },
                {
                    "data": {
                        "application/vnd.jupyter.widget-view+json": {
                            "model_id": "db67c73f76ce442cae5f844702ad496b",
                            "version_major": 2,
                            "version_minor": 0
                        },
                        "text/plain": [
                            "VBox(children=(Dropdown(description='model', index=1, layout=Layout(min_width='300px', width='300px'), options…"
                        ]
                    },
                    "metadata": {},
                    "output_type": "display_data"
                },
                {
                    "name": "stdout",
                    "output_type": "stream",
                    "text": [
                        "hypster.ui.ipywidgets - DEBUG - Change detected - Component: model, Value: transformer, Delay: False\n",
                        "hypster.ui.ipywidgets - DEBUG - Handling change for model: transformer\n",
                        "hypster.ui.handler - DEBUG - Component ID: model\n",
                        "hypster.ui.handler - DEBUG - New value: transformer\n",
                        "hypster.ui.handler - DEBUG - Components: ['model']\n",
                        "hypster.ui.handler - DEBUG - Values: {'model': 'transformer'}\n",
                        "hypster.ui.handler - WARNING - Error running config: unhashable type: 'list'\n",
                        "hypster.ui.handler - DEBUG - Processing component model, with record name='model' parameter_type='select' run_id=UUID('c0d5a8a4-1c42-467b-8cac-f857f1df0326') source=<ParameterSource.UI: 'ui'> single_value=True default='rnn' value='transformer' is_reproducible=True options=['cnn', 'rnn', 'transformer'] numeric_bounds=None\n",
                        "hypster.ui.handler - DEBUG - Affected components: {'model': 'transformer'}\n",
                        "hypster.ui.ipywidgets - DEBUG - Updating UI component: model\n"
                    ]
                }
            ],
            "source": [
                "# Test usage\n",
                "from hypster.ui import interactive_config\n",
                "\n",
                "# Initialize the interactive configuration\n",
                "results = interactive_config(conditional_config)"
            ]
        },
        {
            "cell_type": "code",
            "execution_count": null,
            "metadata": {},
            "outputs": [],
            "source": []
        }
    ],
    "metadata": {
        "kernelspec": {
            "display_name": "hypster-env",
            "language": "python",
            "name": "python3"
        },
        "language_info": {
            "codemirror_mode": {
                "name": "ipython",
                "version": 3
            },
            "file_extension": ".py",
            "mimetype": "text/x-python",
            "name": "python",
            "nbconvert_exporter": "python",
            "pygments_lexer": "ipython3",
            "version": "3.10.14"
        }
    },
    "nbformat": 4,
    "nbformat_minor": 2
}
