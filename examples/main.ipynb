{
 "cells": [
  {
   "cell_type": "code",
   "execution_count": 114,
   "metadata": {},
   "outputs": [],
   "source": [
    "import pandas as pd\n",
    "import numpy as np\n",
    "import scipy\n",
    "import sklearn"
   ]
  },
  {
   "cell_type": "code",
   "execution_count": 115,
   "metadata": {},
   "outputs": [],
   "source": [
    "from sklearn.feature_extraction.text import TfidfVectorizer"
   ]
  },
  {
   "cell_type": "code",
   "execution_count": 116,
   "metadata": {},
   "outputs": [],
   "source": [
    "from sklearn.model_selection import train_test_split, StratifiedKFold, KFold\n",
    "from sklearn.pipeline import Pipeline\n",
    "from sklearn.feature_selection import SelectFromModel, SelectPercentile, chi2, VarianceThreshold\n",
    "from sklearn.ensemble import RandomForestClassifier, ExtraTreesClassifier, RandomForestRegressor\n",
    "from sklearn import metrics"
   ]
  },
  {
   "cell_type": "code",
   "execution_count": 117,
   "metadata": {},
   "outputs": [],
   "source": [
    "import optuna\n",
    "from optuna.visualization import plot_intermediate_values"
   ]
  },
  {
   "cell_type": "code",
   "execution_count": 118,
   "metadata": {},
   "outputs": [],
   "source": [
    "from optuna.samplers import TPESampler"
   ]
  },
  {
   "cell_type": "code",
   "execution_count": 119,
   "metadata": {},
   "outputs": [],
   "source": [
    "import numpy as np\n",
    "import xgboost as xgb\n",
    "import lightgbm as lgb"
   ]
  },
  {
   "cell_type": "code",
   "execution_count": 120,
   "metadata": {},
   "outputs": [],
   "source": [
    "SEED = 85"
   ]
  },
  {
   "cell_type": "code",
   "execution_count": 1,
   "metadata": {},
   "outputs": [
    {
     "ename": "ModuleNotFoundError",
     "evalue": "No module named 'hypster_xgboost'",
     "output_type": "error",
     "traceback": [
      "\u001b[1;31m---------------------------------------------------------------------------\u001b[0m",
      "\u001b[1;31mModuleNotFoundError\u001b[0m                       Traceback (most recent call last)",
      "\u001b[1;32m<ipython-input-1-44263bf29957>\u001b[0m in \u001b[0;36m<module>\u001b[1;34m\u001b[0m\n\u001b[1;32m----> 1\u001b[1;33m \u001b[1;32mfrom\u001b[0m \u001b[0mhypster_xgboost\u001b[0m \u001b[1;32mimport\u001b[0m \u001b[1;33m*\u001b[0m\u001b[1;33m\u001b[0m\u001b[1;33m\u001b[0m\u001b[0m\n\u001b[0m\u001b[0;32m      2\u001b[0m \u001b[1;32mfrom\u001b[0m \u001b[0mhypster\u001b[0m \u001b[1;32mimport\u001b[0m \u001b[1;33m*\u001b[0m\u001b[1;33m\u001b[0m\u001b[1;33m\u001b[0m\u001b[0m\n",
      "\u001b[1;31mModuleNotFoundError\u001b[0m: No module named 'hypster_xgboost'"
     ]
    }
   ],
   "source": [
    "from hypster_xgboost import *\n",
    "from hypster import *"
   ]
  },
  {
   "cell_type": "markdown",
   "metadata": {},
   "source": [
    "# Get Dataset"
   ]
  },
  {
   "cell_type": "code",
   "execution_count": 122,
   "metadata": {},
   "outputs": [],
   "source": [
    "from scipy.sparse import csr_matrix, save_npz, load_npz"
   ]
  },
  {
   "cell_type": "code",
   "execution_count": 169,
   "metadata": {},
   "outputs": [],
   "source": [
    "dataset = \"newsgroup\" #adult, boston"
   ]
  },
  {
   "cell_type": "code",
   "execution_count": 170,
   "metadata": {},
   "outputs": [],
   "source": [
    "if dataset==\"adult\":\n",
    "    X_train = pd.read_pickle(\"./data/adult_X_train.pkl\")\n",
    "    y_train = pd.read_pickle(\"./data/adult_y_train.pkl\")\n",
    "    X_test = pd.read_pickle(\"./data/adult_X_test.pkl\")\n",
    "    y_test = pd.read_pickle(\"./data/adult_y_test.pkl\")\n",
    "    cat_cols = X_train.select_dtypes(include=\"object\").columns\n",
    "elif dataset==\"newsgroup\":\n",
    "    X_train = load_npz(\"./data/X_train.npz\")\n",
    "    y_train = pd.read_pickle(\"./data/y_train.pkl\")\n",
    "    X_test = load_npz(\"./data/X_test.npz\")\n",
    "    y_test = pd.read_pickle(\"./data/y_test.pkl\")\n",
    "    cat_cols=None\n",
    "else:\n",
    "    X_train = pd.read_pickle(\"./data/boston_X_train.pkl\")\n",
    "    y_train = pd.read_pickle(\"./data/boston_y_train.pkl\")\n",
    "    X_test = pd.read_pickle(\"./data/boston_X_test.pkl\")\n",
    "    y_test = pd.read_pickle(\"./data/boston_y_test.pkl\")\n",
    "    cat_cols = None"
   ]
  },
  {
   "cell_type": "code",
   "execution_count": 171,
   "metadata": {},
   "outputs": [],
   "source": [
    "from sklearn.utils import safe_indexing"
   ]
  },
  {
   "cell_type": "code",
   "execution_count": 172,
   "metadata": {},
   "outputs": [],
   "source": [
    "cat_cols"
   ]
  },
  {
   "cell_type": "code",
   "execution_count": 173,
   "metadata": {},
   "outputs": [],
   "source": [
    "X = X_train"
   ]
  },
  {
   "cell_type": "code",
   "execution_count": 178,
   "metadata": {},
   "outputs": [],
   "source": [
    "def get_numeric_cols(X, cat_cols):\n",
    "    if cat_cols is None:\n",
    "        return \"all\"\n",
    "    elif len(cat_cols) < X.shape[1]:\n",
    "        if (isinstance(X, pd.DataFrame)) and (isinstance(cat_cols[0], str)):\n",
    "            numeric_cols = list(set(X.columns).difference(cat_cols))\n",
    "        else:\n",
    "            numeric_cols = np.array(list(set(range(X.shape[1])).difference(cat_cols)))"
   ]
  },
  {
   "cell_type": "code",
   "execution_count": 179,
   "metadata": {},
   "outputs": [],
   "source": [
    "numeric_cols = get_numeric_cols(X, cat_cols)"
   ]
  },
  {
   "cell_type": "code",
   "execution_count": 180,
   "metadata": {},
   "outputs": [
    {
     "data": {
      "text/plain": [
       "'all'"
      ]
     },
     "execution_count": 180,
     "metadata": {},
     "output_type": "execute_result"
    }
   ],
   "source": [
    "numeric_cols"
   ]
  },
  {
   "cell_type": "code",
   "execution_count": 187,
   "metadata": {},
   "outputs": [],
   "source": [
    "numeric_cols = [0,1,2]"
   ]
  },
  {
   "cell_type": "code",
   "execution_count": 188,
   "metadata": {},
   "outputs": [
    {
     "data": {
      "text/plain": [
       "<10309x3 sparse matrix of type '<class 'numpy.float64'>'\n",
       "\twith 284 stored elements in Compressed Sparse Row format>"
      ]
     },
     "execution_count": 188,
     "metadata": {},
     "output_type": "execute_result"
    }
   ],
   "source": [
    "X[:,numeric_cols]"
   ]
  },
  {
   "cell_type": "code",
   "execution_count": 189,
   "metadata": {},
   "outputs": [],
   "source": [
    "def safe_column_indexing(X, columns):\n",
    "    if columns == \"all\":\n",
    "        return X\n",
    "    elif columns is None:\n",
    "        return\n",
    "    columns = np.array(columns)\n",
    "    columns_type = \"string\" if isinstance(columns[0], str) else \"int\"\n",
    "    \n",
    "    if isinstance(X, pd.DataFrame):\n",
    "        if columns_type == \"string\":\n",
    "            return X.loc[:,columns]\n",
    "        else:\n",
    "            return X.iloc[:,columns]\n",
    "    else:\n",
    "        return X[:,columns]"
   ]
  },
  {
   "cell_type": "code",
   "execution_count": 191,
   "metadata": {},
   "outputs": [
    {
     "data": {
      "text/plain": [
       "<10309x3 sparse matrix of type '<class 'numpy.float64'>'\n",
       "\twith 284 stored elements in Compressed Sparse Row format>"
      ]
     },
     "execution_count": 191,
     "metadata": {},
     "output_type": "execute_result"
    }
   ],
   "source": [
    "safe_column_indexing(X_train, numeric_cols)"
   ]
  },
  {
   "cell_type": "raw",
   "metadata": {},
   "source": [
    "x = X_train.iloc[0].copy()"
   ]
  },
  {
   "cell_type": "raw",
   "metadata": {},
   "source": [
    "x[0] = np.nan"
   ]
  },
  {
   "cell_type": "raw",
   "metadata": {},
   "source": [
    "Y = pd.Series(y_train.iloc[0])"
   ]
  },
  {
   "cell_type": "raw",
   "metadata": {},
   "source": [
    "X = X_train.append(x)"
   ]
  },
  {
   "cell_type": "raw",
   "metadata": {},
   "source": [
    "y = y_train.append(Y)"
   ]
  },
  {
   "cell_type": "code",
   "execution_count": 91,
   "metadata": {},
   "outputs": [],
   "source": [
    "X = X_train"
   ]
  },
  {
   "cell_type": "code",
   "execution_count": 104,
   "metadata": {},
   "outputs": [],
   "source": [
    "X_train[\"cat\"] = pd.Series([\"hi\"] * (X_train.shape[0]))"
   ]
  },
  {
   "cell_type": "code",
   "execution_count": 105,
   "metadata": {},
   "outputs": [],
   "source": [
    "X_test[\"cat\"] = pd.Series([\"hi\"] * (X_train.shape[0]))"
   ]
  },
  {
   "cell_type": "code",
   "execution_count": 107,
   "metadata": {},
   "outputs": [],
   "source": [
    "t = TargetEncoder(cols = \"cat\")"
   ]
  },
  {
   "cell_type": "code",
   "execution_count": 111,
   "metadata": {},
   "outputs": [
    {
     "data": {
      "text/plain": [
       "(339, 14)"
      ]
     },
     "execution_count": 111,
     "metadata": {},
     "output_type": "execute_result"
    }
   ],
   "source": [
    "X_train.shape"
   ]
  },
  {
   "cell_type": "code",
   "execution_count": 110,
   "metadata": {},
   "outputs": [
    {
     "data": {
      "text/plain": [
       "(32561,)"
      ]
     },
     "execution_count": 110,
     "metadata": {},
     "output_type": "execute_result"
    }
   ],
   "source": [
    "y.shape"
   ]
  },
  {
   "cell_type": "code",
   "execution_count": null,
   "metadata": {},
   "outputs": [],
   "source": []
  },
  {
   "cell_type": "code",
   "execution_count": 113,
   "metadata": {},
   "outputs": [
    {
     "data": {
      "text/html": [
       "<div>\n",
       "<style scoped>\n",
       "    .dataframe tbody tr th:only-of-type {\n",
       "        vertical-align: middle;\n",
       "    }\n",
       "\n",
       "    .dataframe tbody tr th {\n",
       "        vertical-align: top;\n",
       "    }\n",
       "\n",
       "    .dataframe thead th {\n",
       "        text-align: right;\n",
       "    }\n",
       "</style>\n",
       "<table border=\"1\" class=\"dataframe\">\n",
       "  <thead>\n",
       "    <tr style=\"text-align: right;\">\n",
       "      <th></th>\n",
       "      <th>CRIM</th>\n",
       "      <th>ZN</th>\n",
       "      <th>INDUS</th>\n",
       "      <th>CHAS</th>\n",
       "      <th>NOX</th>\n",
       "      <th>RM</th>\n",
       "      <th>AGE</th>\n",
       "      <th>DIS</th>\n",
       "      <th>RAD</th>\n",
       "      <th>TAX</th>\n",
       "      <th>PTRATIO</th>\n",
       "      <th>B</th>\n",
       "      <th>LSTAT</th>\n",
       "      <th>cat</th>\n",
       "    </tr>\n",
       "  </thead>\n",
       "  <tbody>\n",
       "    <tr>\n",
       "      <th>107</th>\n",
       "      <td>0.13117</td>\n",
       "      <td>0.0</td>\n",
       "      <td>8.56</td>\n",
       "      <td>0.0</td>\n",
       "      <td>0.5200</td>\n",
       "      <td>6.127</td>\n",
       "      <td>85.2</td>\n",
       "      <td>2.1224</td>\n",
       "      <td>5.0</td>\n",
       "      <td>384.0</td>\n",
       "      <td>20.9</td>\n",
       "      <td>387.69</td>\n",
       "      <td>14.09</td>\n",
       "      <td>25.185022</td>\n",
       "    </tr>\n",
       "    <tr>\n",
       "      <th>368</th>\n",
       "      <td>4.89822</td>\n",
       "      <td>0.0</td>\n",
       "      <td>18.10</td>\n",
       "      <td>0.0</td>\n",
       "      <td>0.6310</td>\n",
       "      <td>4.970</td>\n",
       "      <td>100.0</td>\n",
       "      <td>1.3325</td>\n",
       "      <td>24.0</td>\n",
       "      <td>666.0</td>\n",
       "      <td>20.2</td>\n",
       "      <td>375.52</td>\n",
       "      <td>3.26</td>\n",
       "      <td>17.381250</td>\n",
       "    </tr>\n",
       "    <tr>\n",
       "      <th>224</th>\n",
       "      <td>0.31533</td>\n",
       "      <td>0.0</td>\n",
       "      <td>6.20</td>\n",
       "      <td>0.0</td>\n",
       "      <td>0.5040</td>\n",
       "      <td>8.266</td>\n",
       "      <td>78.3</td>\n",
       "      <td>2.8944</td>\n",
       "      <td>8.0</td>\n",
       "      <td>307.0</td>\n",
       "      <td>17.4</td>\n",
       "      <td>385.05</td>\n",
       "      <td>4.14</td>\n",
       "      <td>25.185022</td>\n",
       "    </tr>\n",
       "    <tr>\n",
       "      <th>274</th>\n",
       "      <td>0.05644</td>\n",
       "      <td>40.0</td>\n",
       "      <td>6.41</td>\n",
       "      <td>1.0</td>\n",
       "      <td>0.4470</td>\n",
       "      <td>6.758</td>\n",
       "      <td>32.9</td>\n",
       "      <td>4.0776</td>\n",
       "      <td>4.0</td>\n",
       "      <td>254.0</td>\n",
       "      <td>17.6</td>\n",
       "      <td>396.90</td>\n",
       "      <td>3.53</td>\n",
       "      <td>25.185022</td>\n",
       "    </tr>\n",
       "    <tr>\n",
       "      <th>202</th>\n",
       "      <td>0.02177</td>\n",
       "      <td>82.5</td>\n",
       "      <td>2.03</td>\n",
       "      <td>0.0</td>\n",
       "      <td>0.4150</td>\n",
       "      <td>7.610</td>\n",
       "      <td>15.7</td>\n",
       "      <td>6.2700</td>\n",
       "      <td>2.0</td>\n",
       "      <td>348.0</td>\n",
       "      <td>14.7</td>\n",
       "      <td>395.38</td>\n",
       "      <td>3.11</td>\n",
       "      <td>25.185022</td>\n",
       "    </tr>\n",
       "    <tr>\n",
       "      <th>371</th>\n",
       "      <td>9.23230</td>\n",
       "      <td>0.0</td>\n",
       "      <td>18.10</td>\n",
       "      <td>0.0</td>\n",
       "      <td>0.6310</td>\n",
       "      <td>6.216</td>\n",
       "      <td>100.0</td>\n",
       "      <td>1.1691</td>\n",
       "      <td>24.0</td>\n",
       "      <td>666.0</td>\n",
       "      <td>20.2</td>\n",
       "      <td>366.15</td>\n",
       "      <td>9.53</td>\n",
       "      <td>17.381250</td>\n",
       "    </tr>\n",
       "    <tr>\n",
       "      <th>443</th>\n",
       "      <td>9.96654</td>\n",
       "      <td>0.0</td>\n",
       "      <td>18.10</td>\n",
       "      <td>0.0</td>\n",
       "      <td>0.7400</td>\n",
       "      <td>6.485</td>\n",
       "      <td>100.0</td>\n",
       "      <td>1.9784</td>\n",
       "      <td>24.0</td>\n",
       "      <td>666.0</td>\n",
       "      <td>20.2</td>\n",
       "      <td>386.73</td>\n",
       "      <td>18.85</td>\n",
       "      <td>17.381250</td>\n",
       "    </tr>\n",
       "    <tr>\n",
       "      <th>381</th>\n",
       "      <td>15.87440</td>\n",
       "      <td>0.0</td>\n",
       "      <td>18.10</td>\n",
       "      <td>0.0</td>\n",
       "      <td>0.6710</td>\n",
       "      <td>6.545</td>\n",
       "      <td>99.1</td>\n",
       "      <td>1.5192</td>\n",
       "      <td>24.0</td>\n",
       "      <td>666.0</td>\n",
       "      <td>20.2</td>\n",
       "      <td>396.90</td>\n",
       "      <td>21.08</td>\n",
       "      <td>17.381250</td>\n",
       "    </tr>\n",
       "    <tr>\n",
       "      <th>273</th>\n",
       "      <td>0.22188</td>\n",
       "      <td>20.0</td>\n",
       "      <td>6.96</td>\n",
       "      <td>1.0</td>\n",
       "      <td>0.4640</td>\n",
       "      <td>7.691</td>\n",
       "      <td>51.8</td>\n",
       "      <td>4.3665</td>\n",
       "      <td>3.0</td>\n",
       "      <td>223.0</td>\n",
       "      <td>18.6</td>\n",
       "      <td>390.77</td>\n",
       "      <td>6.58</td>\n",
       "      <td>25.185022</td>\n",
       "    </tr>\n",
       "    <tr>\n",
       "      <th>308</th>\n",
       "      <td>0.49298</td>\n",
       "      <td>0.0</td>\n",
       "      <td>9.90</td>\n",
       "      <td>0.0</td>\n",
       "      <td>0.5440</td>\n",
       "      <td>6.635</td>\n",
       "      <td>82.5</td>\n",
       "      <td>3.3175</td>\n",
       "      <td>4.0</td>\n",
       "      <td>304.0</td>\n",
       "      <td>18.4</td>\n",
       "      <td>396.90</td>\n",
       "      <td>4.54</td>\n",
       "      <td>25.185022</td>\n",
       "    </tr>\n",
       "    <tr>\n",
       "      <th>470</th>\n",
       "      <td>4.34879</td>\n",
       "      <td>0.0</td>\n",
       "      <td>18.10</td>\n",
       "      <td>0.0</td>\n",
       "      <td>0.5800</td>\n",
       "      <td>6.167</td>\n",
       "      <td>84.0</td>\n",
       "      <td>3.0334</td>\n",
       "      <td>24.0</td>\n",
       "      <td>666.0</td>\n",
       "      <td>20.2</td>\n",
       "      <td>396.90</td>\n",
       "      <td>16.29</td>\n",
       "      <td>17.381250</td>\n",
       "    </tr>\n",
       "    <tr>\n",
       "      <th>393</th>\n",
       "      <td>8.64476</td>\n",
       "      <td>0.0</td>\n",
       "      <td>18.10</td>\n",
       "      <td>0.0</td>\n",
       "      <td>0.6930</td>\n",
       "      <td>6.193</td>\n",
       "      <td>92.6</td>\n",
       "      <td>1.7912</td>\n",
       "      <td>24.0</td>\n",
       "      <td>666.0</td>\n",
       "      <td>20.2</td>\n",
       "      <td>396.90</td>\n",
       "      <td>15.17</td>\n",
       "      <td>17.381250</td>\n",
       "    </tr>\n",
       "    <tr>\n",
       "      <th>250</th>\n",
       "      <td>0.14030</td>\n",
       "      <td>22.0</td>\n",
       "      <td>5.86</td>\n",
       "      <td>0.0</td>\n",
       "      <td>0.4310</td>\n",
       "      <td>6.487</td>\n",
       "      <td>13.0</td>\n",
       "      <td>7.3967</td>\n",
       "      <td>7.0</td>\n",
       "      <td>330.0</td>\n",
       "      <td>19.1</td>\n",
       "      <td>396.28</td>\n",
       "      <td>5.90</td>\n",
       "      <td>25.185022</td>\n",
       "    </tr>\n",
       "    <tr>\n",
       "      <th>276</th>\n",
       "      <td>0.10469</td>\n",
       "      <td>40.0</td>\n",
       "      <td>6.41</td>\n",
       "      <td>1.0</td>\n",
       "      <td>0.4470</td>\n",
       "      <td>7.267</td>\n",
       "      <td>49.0</td>\n",
       "      <td>4.7872</td>\n",
       "      <td>4.0</td>\n",
       "      <td>254.0</td>\n",
       "      <td>17.6</td>\n",
       "      <td>389.25</td>\n",
       "      <td>6.05</td>\n",
       "      <td>25.185022</td>\n",
       "    </tr>\n",
       "    <tr>\n",
       "      <th>146</th>\n",
       "      <td>2.15505</td>\n",
       "      <td>0.0</td>\n",
       "      <td>19.58</td>\n",
       "      <td>0.0</td>\n",
       "      <td>0.8710</td>\n",
       "      <td>5.628</td>\n",
       "      <td>100.0</td>\n",
       "      <td>1.5166</td>\n",
       "      <td>5.0</td>\n",
       "      <td>403.0</td>\n",
       "      <td>14.7</td>\n",
       "      <td>169.27</td>\n",
       "      <td>16.65</td>\n",
       "      <td>25.185022</td>\n",
       "    </tr>\n",
       "    <tr>\n",
       "      <th>133</th>\n",
       "      <td>0.32982</td>\n",
       "      <td>0.0</td>\n",
       "      <td>21.89</td>\n",
       "      <td>0.0</td>\n",
       "      <td>0.6240</td>\n",
       "      <td>5.822</td>\n",
       "      <td>95.4</td>\n",
       "      <td>2.4699</td>\n",
       "      <td>4.0</td>\n",
       "      <td>437.0</td>\n",
       "      <td>21.2</td>\n",
       "      <td>388.69</td>\n",
       "      <td>15.03</td>\n",
       "      <td>25.185022</td>\n",
       "    </tr>\n",
       "    <tr>\n",
       "      <th>13</th>\n",
       "      <td>0.62976</td>\n",
       "      <td>0.0</td>\n",
       "      <td>8.14</td>\n",
       "      <td>0.0</td>\n",
       "      <td>0.5380</td>\n",
       "      <td>5.949</td>\n",
       "      <td>61.8</td>\n",
       "      <td>4.7075</td>\n",
       "      <td>4.0</td>\n",
       "      <td>307.0</td>\n",
       "      <td>21.0</td>\n",
       "      <td>396.90</td>\n",
       "      <td>8.26</td>\n",
       "      <td>25.185022</td>\n",
       "    </tr>\n",
       "    <tr>\n",
       "      <th>69</th>\n",
       "      <td>0.12816</td>\n",
       "      <td>12.5</td>\n",
       "      <td>6.07</td>\n",
       "      <td>0.0</td>\n",
       "      <td>0.4090</td>\n",
       "      <td>5.885</td>\n",
       "      <td>33.0</td>\n",
       "      <td>6.4980</td>\n",
       "      <td>4.0</td>\n",
       "      <td>345.0</td>\n",
       "      <td>18.9</td>\n",
       "      <td>396.90</td>\n",
       "      <td>8.79</td>\n",
       "      <td>25.185022</td>\n",
       "    </tr>\n",
       "    <tr>\n",
       "      <th>213</th>\n",
       "      <td>0.14052</td>\n",
       "      <td>0.0</td>\n",
       "      <td>10.59</td>\n",
       "      <td>0.0</td>\n",
       "      <td>0.4890</td>\n",
       "      <td>6.375</td>\n",
       "      <td>32.3</td>\n",
       "      <td>3.9454</td>\n",
       "      <td>4.0</td>\n",
       "      <td>277.0</td>\n",
       "      <td>18.6</td>\n",
       "      <td>385.81</td>\n",
       "      <td>9.38</td>\n",
       "      <td>25.185022</td>\n",
       "    </tr>\n",
       "    <tr>\n",
       "      <th>452</th>\n",
       "      <td>5.09017</td>\n",
       "      <td>0.0</td>\n",
       "      <td>18.10</td>\n",
       "      <td>0.0</td>\n",
       "      <td>0.7130</td>\n",
       "      <td>6.297</td>\n",
       "      <td>91.8</td>\n",
       "      <td>2.3682</td>\n",
       "      <td>24.0</td>\n",
       "      <td>666.0</td>\n",
       "      <td>20.2</td>\n",
       "      <td>385.09</td>\n",
       "      <td>17.27</td>\n",
       "      <td>17.381250</td>\n",
       "    </tr>\n",
       "    <tr>\n",
       "      <th>364</th>\n",
       "      <td>3.47428</td>\n",
       "      <td>0.0</td>\n",
       "      <td>18.10</td>\n",
       "      <td>1.0</td>\n",
       "      <td>0.7180</td>\n",
       "      <td>8.780</td>\n",
       "      <td>82.9</td>\n",
       "      <td>1.9047</td>\n",
       "      <td>24.0</td>\n",
       "      <td>666.0</td>\n",
       "      <td>20.2</td>\n",
       "      <td>354.55</td>\n",
       "      <td>5.29</td>\n",
       "      <td>17.381250</td>\n",
       "    </tr>\n",
       "    <tr>\n",
       "      <th>64</th>\n",
       "      <td>0.01951</td>\n",
       "      <td>17.5</td>\n",
       "      <td>1.38</td>\n",
       "      <td>0.0</td>\n",
       "      <td>0.4161</td>\n",
       "      <td>7.104</td>\n",
       "      <td>59.5</td>\n",
       "      <td>9.2229</td>\n",
       "      <td>3.0</td>\n",
       "      <td>216.0</td>\n",
       "      <td>18.6</td>\n",
       "      <td>393.24</td>\n",
       "      <td>8.05</td>\n",
       "      <td>25.185022</td>\n",
       "    </tr>\n",
       "    <tr>\n",
       "      <th>340</th>\n",
       "      <td>0.06151</td>\n",
       "      <td>0.0</td>\n",
       "      <td>5.19</td>\n",
       "      <td>0.0</td>\n",
       "      <td>0.5150</td>\n",
       "      <td>5.968</td>\n",
       "      <td>58.5</td>\n",
       "      <td>4.8122</td>\n",
       "      <td>5.0</td>\n",
       "      <td>224.0</td>\n",
       "      <td>20.2</td>\n",
       "      <td>396.90</td>\n",
       "      <td>9.29</td>\n",
       "      <td>17.381250</td>\n",
       "    </tr>\n",
       "    <tr>\n",
       "      <th>474</th>\n",
       "      <td>8.05579</td>\n",
       "      <td>0.0</td>\n",
       "      <td>18.10</td>\n",
       "      <td>0.0</td>\n",
       "      <td>0.5840</td>\n",
       "      <td>5.427</td>\n",
       "      <td>95.4</td>\n",
       "      <td>2.4298</td>\n",
       "      <td>24.0</td>\n",
       "      <td>666.0</td>\n",
       "      <td>20.2</td>\n",
       "      <td>352.58</td>\n",
       "      <td>18.14</td>\n",
       "      <td>17.381250</td>\n",
       "    </tr>\n",
       "    <tr>\n",
       "      <th>285</th>\n",
       "      <td>0.01096</td>\n",
       "      <td>55.0</td>\n",
       "      <td>2.25</td>\n",
       "      <td>0.0</td>\n",
       "      <td>0.3890</td>\n",
       "      <td>6.453</td>\n",
       "      <td>31.9</td>\n",
       "      <td>7.3073</td>\n",
       "      <td>1.0</td>\n",
       "      <td>300.0</td>\n",
       "      <td>15.3</td>\n",
       "      <td>394.72</td>\n",
       "      <td>8.23</td>\n",
       "      <td>25.185022</td>\n",
       "    </tr>\n",
       "    <tr>\n",
       "      <th>134</th>\n",
       "      <td>0.97617</td>\n",
       "      <td>0.0</td>\n",
       "      <td>21.89</td>\n",
       "      <td>0.0</td>\n",
       "      <td>0.6240</td>\n",
       "      <td>5.757</td>\n",
       "      <td>98.4</td>\n",
       "      <td>2.3460</td>\n",
       "      <td>4.0</td>\n",
       "      <td>437.0</td>\n",
       "      <td>21.2</td>\n",
       "      <td>262.76</td>\n",
       "      <td>17.31</td>\n",
       "      <td>25.185022</td>\n",
       "    </tr>\n",
       "    <tr>\n",
       "      <th>233</th>\n",
       "      <td>0.33147</td>\n",
       "      <td>0.0</td>\n",
       "      <td>6.20</td>\n",
       "      <td>0.0</td>\n",
       "      <td>0.5070</td>\n",
       "      <td>8.247</td>\n",
       "      <td>70.4</td>\n",
       "      <td>3.6519</td>\n",
       "      <td>8.0</td>\n",
       "      <td>307.0</td>\n",
       "      <td>17.4</td>\n",
       "      <td>378.95</td>\n",
       "      <td>3.95</td>\n",
       "      <td>25.185022</td>\n",
       "    </tr>\n",
       "    <tr>\n",
       "      <th>359</th>\n",
       "      <td>4.26131</td>\n",
       "      <td>0.0</td>\n",
       "      <td>18.10</td>\n",
       "      <td>0.0</td>\n",
       "      <td>0.7700</td>\n",
       "      <td>6.112</td>\n",
       "      <td>81.3</td>\n",
       "      <td>2.5091</td>\n",
       "      <td>24.0</td>\n",
       "      <td>666.0</td>\n",
       "      <td>20.2</td>\n",
       "      <td>390.74</td>\n",
       "      <td>12.67</td>\n",
       "      <td>17.381250</td>\n",
       "    </tr>\n",
       "    <tr>\n",
       "      <th>102</th>\n",
       "      <td>0.22876</td>\n",
       "      <td>0.0</td>\n",
       "      <td>8.56</td>\n",
       "      <td>0.0</td>\n",
       "      <td>0.5200</td>\n",
       "      <td>6.405</td>\n",
       "      <td>85.4</td>\n",
       "      <td>2.7147</td>\n",
       "      <td>5.0</td>\n",
       "      <td>384.0</td>\n",
       "      <td>20.9</td>\n",
       "      <td>70.80</td>\n",
       "      <td>10.63</td>\n",
       "      <td>25.185022</td>\n",
       "    </tr>\n",
       "    <tr>\n",
       "      <th>342</th>\n",
       "      <td>0.02498</td>\n",
       "      <td>0.0</td>\n",
       "      <td>1.89</td>\n",
       "      <td>0.0</td>\n",
       "      <td>0.5180</td>\n",
       "      <td>6.540</td>\n",
       "      <td>59.7</td>\n",
       "      <td>6.2669</td>\n",
       "      <td>1.0</td>\n",
       "      <td>422.0</td>\n",
       "      <td>15.9</td>\n",
       "      <td>389.96</td>\n",
       "      <td>8.65</td>\n",
       "      <td>17.381250</td>\n",
       "    </tr>\n",
       "    <tr>\n",
       "      <th>...</th>\n",
       "      <td>...</td>\n",
       "      <td>...</td>\n",
       "      <td>...</td>\n",
       "      <td>...</td>\n",
       "      <td>...</td>\n",
       "      <td>...</td>\n",
       "      <td>...</td>\n",
       "      <td>...</td>\n",
       "      <td>...</td>\n",
       "      <td>...</td>\n",
       "      <td>...</td>\n",
       "      <td>...</td>\n",
       "      <td>...</td>\n",
       "      <td>...</td>\n",
       "    </tr>\n",
       "    <tr>\n",
       "      <th>265</th>\n",
       "      <td>0.76162</td>\n",
       "      <td>20.0</td>\n",
       "      <td>3.97</td>\n",
       "      <td>0.0</td>\n",
       "      <td>0.6470</td>\n",
       "      <td>5.560</td>\n",
       "      <td>62.8</td>\n",
       "      <td>1.9865</td>\n",
       "      <td>5.0</td>\n",
       "      <td>264.0</td>\n",
       "      <td>13.0</td>\n",
       "      <td>392.40</td>\n",
       "      <td>10.45</td>\n",
       "      <td>25.185022</td>\n",
       "    </tr>\n",
       "    <tr>\n",
       "      <th>89</th>\n",
       "      <td>0.05302</td>\n",
       "      <td>0.0</td>\n",
       "      <td>3.41</td>\n",
       "      <td>0.0</td>\n",
       "      <td>0.4890</td>\n",
       "      <td>7.079</td>\n",
       "      <td>63.1</td>\n",
       "      <td>3.4145</td>\n",
       "      <td>2.0</td>\n",
       "      <td>270.0</td>\n",
       "      <td>17.8</td>\n",
       "      <td>396.06</td>\n",
       "      <td>5.70</td>\n",
       "      <td>25.185022</td>\n",
       "    </tr>\n",
       "    <tr>\n",
       "      <th>295</th>\n",
       "      <td>0.12932</td>\n",
       "      <td>0.0</td>\n",
       "      <td>13.92</td>\n",
       "      <td>0.0</td>\n",
       "      <td>0.4370</td>\n",
       "      <td>6.678</td>\n",
       "      <td>31.1</td>\n",
       "      <td>5.9604</td>\n",
       "      <td>4.0</td>\n",
       "      <td>289.0</td>\n",
       "      <td>16.0</td>\n",
       "      <td>396.90</td>\n",
       "      <td>6.27</td>\n",
       "      <td>25.185022</td>\n",
       "    </tr>\n",
       "    <tr>\n",
       "      <th>221</th>\n",
       "      <td>0.40771</td>\n",
       "      <td>0.0</td>\n",
       "      <td>6.20</td>\n",
       "      <td>1.0</td>\n",
       "      <td>0.5070</td>\n",
       "      <td>6.164</td>\n",
       "      <td>91.3</td>\n",
       "      <td>3.0480</td>\n",
       "      <td>8.0</td>\n",
       "      <td>307.0</td>\n",
       "      <td>17.4</td>\n",
       "      <td>395.24</td>\n",
       "      <td>21.46</td>\n",
       "      <td>25.185022</td>\n",
       "    </tr>\n",
       "    <tr>\n",
       "      <th>185</th>\n",
       "      <td>0.06047</td>\n",
       "      <td>0.0</td>\n",
       "      <td>2.46</td>\n",
       "      <td>0.0</td>\n",
       "      <td>0.4880</td>\n",
       "      <td>6.153</td>\n",
       "      <td>68.8</td>\n",
       "      <td>3.2797</td>\n",
       "      <td>3.0</td>\n",
       "      <td>193.0</td>\n",
       "      <td>17.8</td>\n",
       "      <td>387.11</td>\n",
       "      <td>13.15</td>\n",
       "      <td>25.185022</td>\n",
       "    </tr>\n",
       "    <tr>\n",
       "      <th>156</th>\n",
       "      <td>2.44668</td>\n",
       "      <td>0.0</td>\n",
       "      <td>19.58</td>\n",
       "      <td>0.0</td>\n",
       "      <td>0.8710</td>\n",
       "      <td>5.272</td>\n",
       "      <td>94.0</td>\n",
       "      <td>1.7364</td>\n",
       "      <td>5.0</td>\n",
       "      <td>403.0</td>\n",
       "      <td>14.7</td>\n",
       "      <td>88.63</td>\n",
       "      <td>16.14</td>\n",
       "      <td>25.185022</td>\n",
       "    </tr>\n",
       "    <tr>\n",
       "      <th>39</th>\n",
       "      <td>0.02763</td>\n",
       "      <td>75.0</td>\n",
       "      <td>2.95</td>\n",
       "      <td>0.0</td>\n",
       "      <td>0.4280</td>\n",
       "      <td>6.595</td>\n",
       "      <td>21.8</td>\n",
       "      <td>5.4011</td>\n",
       "      <td>3.0</td>\n",
       "      <td>252.0</td>\n",
       "      <td>18.3</td>\n",
       "      <td>395.63</td>\n",
       "      <td>4.32</td>\n",
       "      <td>25.185022</td>\n",
       "    </tr>\n",
       "    <tr>\n",
       "      <th>96</th>\n",
       "      <td>0.11504</td>\n",
       "      <td>0.0</td>\n",
       "      <td>2.89</td>\n",
       "      <td>0.0</td>\n",
       "      <td>0.4450</td>\n",
       "      <td>6.163</td>\n",
       "      <td>69.6</td>\n",
       "      <td>3.4952</td>\n",
       "      <td>2.0</td>\n",
       "      <td>276.0</td>\n",
       "      <td>18.0</td>\n",
       "      <td>391.83</td>\n",
       "      <td>11.34</td>\n",
       "      <td>25.185022</td>\n",
       "    </tr>\n",
       "    <tr>\n",
       "      <th>374</th>\n",
       "      <td>18.49820</td>\n",
       "      <td>0.0</td>\n",
       "      <td>18.10</td>\n",
       "      <td>0.0</td>\n",
       "      <td>0.6680</td>\n",
       "      <td>4.138</td>\n",
       "      <td>100.0</td>\n",
       "      <td>1.1370</td>\n",
       "      <td>24.0</td>\n",
       "      <td>666.0</td>\n",
       "      <td>20.2</td>\n",
       "      <td>396.90</td>\n",
       "      <td>37.97</td>\n",
       "      <td>17.381250</td>\n",
       "    </tr>\n",
       "    <tr>\n",
       "      <th>262</th>\n",
       "      <td>0.52014</td>\n",
       "      <td>20.0</td>\n",
       "      <td>3.97</td>\n",
       "      <td>0.0</td>\n",
       "      <td>0.6470</td>\n",
       "      <td>8.398</td>\n",
       "      <td>91.5</td>\n",
       "      <td>2.2885</td>\n",
       "      <td>5.0</td>\n",
       "      <td>264.0</td>\n",
       "      <td>13.0</td>\n",
       "      <td>386.86</td>\n",
       "      <td>5.91</td>\n",
       "      <td>25.185022</td>\n",
       "    </tr>\n",
       "    <tr>\n",
       "      <th>459</th>\n",
       "      <td>6.80117</td>\n",
       "      <td>0.0</td>\n",
       "      <td>18.10</td>\n",
       "      <td>0.0</td>\n",
       "      <td>0.7130</td>\n",
       "      <td>6.081</td>\n",
       "      <td>84.4</td>\n",
       "      <td>2.7175</td>\n",
       "      <td>24.0</td>\n",
       "      <td>666.0</td>\n",
       "      <td>20.2</td>\n",
       "      <td>396.90</td>\n",
       "      <td>14.70</td>\n",
       "      <td>17.381250</td>\n",
       "    </tr>\n",
       "    <tr>\n",
       "      <th>155</th>\n",
       "      <td>3.53501</td>\n",
       "      <td>0.0</td>\n",
       "      <td>19.58</td>\n",
       "      <td>1.0</td>\n",
       "      <td>0.8710</td>\n",
       "      <td>6.152</td>\n",
       "      <td>82.6</td>\n",
       "      <td>1.7455</td>\n",
       "      <td>5.0</td>\n",
       "      <td>403.0</td>\n",
       "      <td>14.7</td>\n",
       "      <td>88.01</td>\n",
       "      <td>15.02</td>\n",
       "      <td>25.185022</td>\n",
       "    </tr>\n",
       "    <tr>\n",
       "      <th>318</th>\n",
       "      <td>0.40202</td>\n",
       "      <td>0.0</td>\n",
       "      <td>9.90</td>\n",
       "      <td>0.0</td>\n",
       "      <td>0.5440</td>\n",
       "      <td>6.382</td>\n",
       "      <td>67.2</td>\n",
       "      <td>3.5325</td>\n",
       "      <td>4.0</td>\n",
       "      <td>304.0</td>\n",
       "      <td>18.4</td>\n",
       "      <td>395.21</td>\n",
       "      <td>10.36</td>\n",
       "      <td>25.185022</td>\n",
       "    </tr>\n",
       "    <tr>\n",
       "      <th>319</th>\n",
       "      <td>0.47547</td>\n",
       "      <td>0.0</td>\n",
       "      <td>9.90</td>\n",
       "      <td>0.0</td>\n",
       "      <td>0.5440</td>\n",
       "      <td>6.113</td>\n",
       "      <td>58.8</td>\n",
       "      <td>4.0019</td>\n",
       "      <td>4.0</td>\n",
       "      <td>304.0</td>\n",
       "      <td>18.4</td>\n",
       "      <td>396.23</td>\n",
       "      <td>12.73</td>\n",
       "      <td>25.185022</td>\n",
       "    </tr>\n",
       "    <tr>\n",
       "      <th>131</th>\n",
       "      <td>1.19294</td>\n",
       "      <td>0.0</td>\n",
       "      <td>21.89</td>\n",
       "      <td>0.0</td>\n",
       "      <td>0.6240</td>\n",
       "      <td>6.326</td>\n",
       "      <td>97.7</td>\n",
       "      <td>2.2710</td>\n",
       "      <td>4.0</td>\n",
       "      <td>437.0</td>\n",
       "      <td>21.2</td>\n",
       "      <td>396.90</td>\n",
       "      <td>12.26</td>\n",
       "      <td>25.185022</td>\n",
       "    </tr>\n",
       "    <tr>\n",
       "      <th>173</th>\n",
       "      <td>0.09178</td>\n",
       "      <td>0.0</td>\n",
       "      <td>4.05</td>\n",
       "      <td>0.0</td>\n",
       "      <td>0.5100</td>\n",
       "      <td>6.416</td>\n",
       "      <td>84.1</td>\n",
       "      <td>2.6463</td>\n",
       "      <td>5.0</td>\n",
       "      <td>296.0</td>\n",
       "      <td>16.6</td>\n",
       "      <td>395.50</td>\n",
       "      <td>9.04</td>\n",
       "      <td>25.185022</td>\n",
       "    </tr>\n",
       "    <tr>\n",
       "      <th>93</th>\n",
       "      <td>0.02875</td>\n",
       "      <td>28.0</td>\n",
       "      <td>15.04</td>\n",
       "      <td>0.0</td>\n",
       "      <td>0.4640</td>\n",
       "      <td>6.211</td>\n",
       "      <td>28.9</td>\n",
       "      <td>3.6659</td>\n",
       "      <td>4.0</td>\n",
       "      <td>270.0</td>\n",
       "      <td>18.2</td>\n",
       "      <td>396.33</td>\n",
       "      <td>6.21</td>\n",
       "      <td>25.185022</td>\n",
       "    </tr>\n",
       "    <tr>\n",
       "      <th>408</th>\n",
       "      <td>7.40389</td>\n",
       "      <td>0.0</td>\n",
       "      <td>18.10</td>\n",
       "      <td>0.0</td>\n",
       "      <td>0.5970</td>\n",
       "      <td>5.617</td>\n",
       "      <td>97.9</td>\n",
       "      <td>1.4547</td>\n",
       "      <td>24.0</td>\n",
       "      <td>666.0</td>\n",
       "      <td>20.2</td>\n",
       "      <td>314.64</td>\n",
       "      <td>26.40</td>\n",
       "      <td>17.381250</td>\n",
       "    </tr>\n",
       "    <tr>\n",
       "      <th>417</th>\n",
       "      <td>25.94060</td>\n",
       "      <td>0.0</td>\n",
       "      <td>18.10</td>\n",
       "      <td>0.0</td>\n",
       "      <td>0.6790</td>\n",
       "      <td>5.304</td>\n",
       "      <td>89.1</td>\n",
       "      <td>1.6475</td>\n",
       "      <td>24.0</td>\n",
       "      <td>666.0</td>\n",
       "      <td>20.2</td>\n",
       "      <td>127.36</td>\n",
       "      <td>26.64</td>\n",
       "      <td>17.381250</td>\n",
       "    </tr>\n",
       "    <tr>\n",
       "      <th>314</th>\n",
       "      <td>0.36920</td>\n",
       "      <td>0.0</td>\n",
       "      <td>9.90</td>\n",
       "      <td>0.0</td>\n",
       "      <td>0.5440</td>\n",
       "      <td>6.567</td>\n",
       "      <td>87.3</td>\n",
       "      <td>3.6023</td>\n",
       "      <td>4.0</td>\n",
       "      <td>304.0</td>\n",
       "      <td>18.4</td>\n",
       "      <td>395.69</td>\n",
       "      <td>9.28</td>\n",
       "      <td>25.185022</td>\n",
       "    </tr>\n",
       "    <tr>\n",
       "      <th>463</th>\n",
       "      <td>5.82115</td>\n",
       "      <td>0.0</td>\n",
       "      <td>18.10</td>\n",
       "      <td>0.0</td>\n",
       "      <td>0.7130</td>\n",
       "      <td>6.513</td>\n",
       "      <td>89.9</td>\n",
       "      <td>2.8016</td>\n",
       "      <td>24.0</td>\n",
       "      <td>666.0</td>\n",
       "      <td>20.2</td>\n",
       "      <td>393.82</td>\n",
       "      <td>10.29</td>\n",
       "      <td>17.381250</td>\n",
       "    </tr>\n",
       "    <tr>\n",
       "      <th>37</th>\n",
       "      <td>0.08014</td>\n",
       "      <td>0.0</td>\n",
       "      <td>5.96</td>\n",
       "      <td>0.0</td>\n",
       "      <td>0.4990</td>\n",
       "      <td>5.850</td>\n",
       "      <td>41.5</td>\n",
       "      <td>3.9342</td>\n",
       "      <td>5.0</td>\n",
       "      <td>279.0</td>\n",
       "      <td>19.2</td>\n",
       "      <td>396.90</td>\n",
       "      <td>8.77</td>\n",
       "      <td>25.185022</td>\n",
       "    </tr>\n",
       "    <tr>\n",
       "      <th>83</th>\n",
       "      <td>0.03551</td>\n",
       "      <td>25.0</td>\n",
       "      <td>4.86</td>\n",
       "      <td>0.0</td>\n",
       "      <td>0.4260</td>\n",
       "      <td>6.167</td>\n",
       "      <td>46.7</td>\n",
       "      <td>5.4007</td>\n",
       "      <td>4.0</td>\n",
       "      <td>281.0</td>\n",
       "      <td>19.0</td>\n",
       "      <td>390.64</td>\n",
       "      <td>7.51</td>\n",
       "      <td>25.185022</td>\n",
       "    </tr>\n",
       "    <tr>\n",
       "      <th>52</th>\n",
       "      <td>0.05360</td>\n",
       "      <td>21.0</td>\n",
       "      <td>5.64</td>\n",
       "      <td>0.0</td>\n",
       "      <td>0.4390</td>\n",
       "      <td>6.511</td>\n",
       "      <td>21.1</td>\n",
       "      <td>6.8147</td>\n",
       "      <td>4.0</td>\n",
       "      <td>243.0</td>\n",
       "      <td>16.8</td>\n",
       "      <td>396.90</td>\n",
       "      <td>5.28</td>\n",
       "      <td>25.185022</td>\n",
       "    </tr>\n",
       "    <tr>\n",
       "      <th>503</th>\n",
       "      <td>0.06076</td>\n",
       "      <td>0.0</td>\n",
       "      <td>11.93</td>\n",
       "      <td>0.0</td>\n",
       "      <td>0.5730</td>\n",
       "      <td>6.976</td>\n",
       "      <td>91.0</td>\n",
       "      <td>2.1675</td>\n",
       "      <td>1.0</td>\n",
       "      <td>273.0</td>\n",
       "      <td>21.0</td>\n",
       "      <td>396.90</td>\n",
       "      <td>5.64</td>\n",
       "      <td>17.381250</td>\n",
       "    </tr>\n",
       "    <tr>\n",
       "      <th>51</th>\n",
       "      <td>0.04337</td>\n",
       "      <td>21.0</td>\n",
       "      <td>5.64</td>\n",
       "      <td>0.0</td>\n",
       "      <td>0.4390</td>\n",
       "      <td>6.115</td>\n",
       "      <td>63.0</td>\n",
       "      <td>6.8147</td>\n",
       "      <td>4.0</td>\n",
       "      <td>243.0</td>\n",
       "      <td>16.8</td>\n",
       "      <td>393.97</td>\n",
       "      <td>9.43</td>\n",
       "      <td>25.185022</td>\n",
       "    </tr>\n",
       "    <tr>\n",
       "      <th>196</th>\n",
       "      <td>0.04011</td>\n",
       "      <td>80.0</td>\n",
       "      <td>1.52</td>\n",
       "      <td>0.0</td>\n",
       "      <td>0.4040</td>\n",
       "      <td>7.287</td>\n",
       "      <td>34.1</td>\n",
       "      <td>7.3090</td>\n",
       "      <td>2.0</td>\n",
       "      <td>329.0</td>\n",
       "      <td>12.6</td>\n",
       "      <td>396.90</td>\n",
       "      <td>4.08</td>\n",
       "      <td>25.185022</td>\n",
       "    </tr>\n",
       "    <tr>\n",
       "      <th>397</th>\n",
       "      <td>7.67202</td>\n",
       "      <td>0.0</td>\n",
       "      <td>18.10</td>\n",
       "      <td>0.0</td>\n",
       "      <td>0.6930</td>\n",
       "      <td>5.747</td>\n",
       "      <td>98.9</td>\n",
       "      <td>1.6334</td>\n",
       "      <td>24.0</td>\n",
       "      <td>666.0</td>\n",
       "      <td>20.2</td>\n",
       "      <td>393.10</td>\n",
       "      <td>19.92</td>\n",
       "      <td>17.381250</td>\n",
       "    </tr>\n",
       "    <tr>\n",
       "      <th>160</th>\n",
       "      <td>1.27346</td>\n",
       "      <td>0.0</td>\n",
       "      <td>19.58</td>\n",
       "      <td>1.0</td>\n",
       "      <td>0.6050</td>\n",
       "      <td>6.250</td>\n",
       "      <td>92.6</td>\n",
       "      <td>1.7984</td>\n",
       "      <td>5.0</td>\n",
       "      <td>403.0</td>\n",
       "      <td>14.7</td>\n",
       "      <td>338.92</td>\n",
       "      <td>5.50</td>\n",
       "      <td>25.185022</td>\n",
       "    </tr>\n",
       "    <tr>\n",
       "      <th>362</th>\n",
       "      <td>3.67822</td>\n",
       "      <td>0.0</td>\n",
       "      <td>18.10</td>\n",
       "      <td>0.0</td>\n",
       "      <td>0.7700</td>\n",
       "      <td>5.362</td>\n",
       "      <td>96.2</td>\n",
       "      <td>2.1036</td>\n",
       "      <td>24.0</td>\n",
       "      <td>666.0</td>\n",
       "      <td>20.2</td>\n",
       "      <td>380.79</td>\n",
       "      <td>10.19</td>\n",
       "      <td>17.381250</td>\n",
       "    </tr>\n",
       "  </tbody>\n",
       "</table>\n",
       "<p>339 rows × 14 columns</p>\n",
       "</div>"
      ],
      "text/plain": [
       "        CRIM    ZN  INDUS  CHAS    NOX     RM    AGE     DIS   RAD    TAX  \\\n",
       "107  0.13117   0.0   8.56   0.0  0.520  6.127   85.2  2.1224   5.0  384.0   \n",
       "368  4.89822   0.0  18.10   0.0  0.631  4.970  100.0  1.3325  24.0  666.0   \n",
       "224  0.31533   0.0   6.20   0.0  0.504  8.266   78.3  2.8944   8.0  307.0   \n",
       "274  0.05644  40.0   6.41   1.0  0.447  6.758   32.9  4.0776   4.0  254.0   \n",
       "202  0.02177  82.5   2.03   0.0  0.415  7.610   15.7  6.2700   2.0  348.0   \n",
       "..       ...   ...    ...   ...    ...    ...    ...     ...   ...    ...   \n",
       "51   0.04337  21.0   5.64   0.0  0.439  6.115   63.0  6.8147   4.0  243.0   \n",
       "196  0.04011  80.0   1.52   0.0  0.404  7.287   34.1  7.3090   2.0  329.0   \n",
       "397  7.67202   0.0  18.10   0.0  0.693  5.747   98.9  1.6334  24.0  666.0   \n",
       "160  1.27346   0.0  19.58   1.0  0.605  6.250   92.6  1.7984   5.0  403.0   \n",
       "362  3.67822   0.0  18.10   0.0  0.770  5.362   96.2  2.1036  24.0  666.0   \n",
       "\n",
       "     PTRATIO       B  LSTAT        cat  \n",
       "107     20.9  387.69  14.09  25.185022  \n",
       "368     20.2  375.52   3.26  17.381250  \n",
       "224     17.4  385.05   4.14  25.185022  \n",
       "274     17.6  396.90   3.53  25.185022  \n",
       "202     14.7  395.38   3.11  25.185022  \n",
       "..       ...     ...    ...        ...  \n",
       "51      16.8  393.97   9.43  25.185022  \n",
       "196     12.6  396.90   4.08  25.185022  \n",
       "397     20.2  393.10  19.92  17.381250  \n",
       "160     14.7  338.92   5.50  25.185022  \n",
       "362     20.2  380.79  10.19  17.381250  \n",
       "\n",
       "[339 rows x 14 columns]"
      ]
     },
     "execution_count": 113,
     "metadata": {},
     "output_type": "execute_result"
    }
   ],
   "source": [
    "t.fit_transform(X_train, y_train)"
   ]
  },
  {
   "cell_type": "code",
   "execution_count": null,
   "metadata": {},
   "outputs": [],
   "source": [
    "t"
   ]
  },
  {
   "cell_type": "code",
   "execution_count": 92,
   "metadata": {},
   "outputs": [],
   "source": [
    "y = np.array(y)"
   ]
  },
  {
   "cell_type": "code",
   "execution_count": 93,
   "metadata": {},
   "outputs": [],
   "source": [
    "#y = LabelEncoder().fit_transform(y_train)"
   ]
  },
  {
   "cell_type": "code",
   "execution_count": 94,
   "metadata": {},
   "outputs": [],
   "source": [
    "#X = X_train"
   ]
  },
  {
   "cell_type": "code",
   "execution_count": 95,
   "metadata": {},
   "outputs": [],
   "source": [
    "numeric_cols = None\n",
    "if cat_cols is None:\n",
    "    if isinstance(X, pd.DataFrame):\n",
    "        numeric_cols = X.columns\n",
    "    else:\n",
    "        numeric_cols = list(range(X.shape[1]))\n",
    "else:\n",
    "    if len(cat_cols) < X.shape[1]:\n",
    "        if (isinstance(X, pd.DataFrame)) and (isinstance(cat_cols[0], str)):\n",
    "            numeric_cols = list(set(X.columns).difference(cat_cols))\n",
    "        else:\n",
    "            numeric_cols = np.array(list(set(range(X.shape[1])).difference(cat_cols)))"
   ]
  },
  {
   "cell_type": "code",
   "execution_count": 96,
   "metadata": {},
   "outputs": [
    {
     "data": {
      "text/plain": [
       "Index(['CRIM', 'ZN', 'INDUS', 'CHAS', 'NOX', 'RM', 'AGE', 'DIS', 'RAD', 'TAX',\n",
       "       'PTRATIO', 'B', 'LSTAT'],\n",
       "      dtype='object')"
      ]
     },
     "execution_count": 96,
     "metadata": {},
     "output_type": "execute_result"
    }
   ],
   "source": [
    "numeric_cols"
   ]
  },
  {
   "cell_type": "code",
   "execution_count": 97,
   "metadata": {},
   "outputs": [],
   "source": [
    "cat_cols"
   ]
  },
  {
   "cell_type": "code",
   "execution_count": 33,
   "metadata": {},
   "outputs": [],
   "source": [
    "from sklearn.pipeline import Pipeline"
   ]
  },
  {
   "cell_type": "code",
   "execution_count": 34,
   "metadata": {},
   "outputs": [],
   "source": [
    "def contains_nan(X):\n",
    "    if isinstance(X, pd.DataFrame):\n",
    "        return pd.isnull(X).values.any()\n",
    "    elif sp.issparse(X):\n",
    "        return pd.isnull(X.data).any()\n",
    "    else: return pd.isnull(X).any() #numpy"
   ]
  },
  {
   "cell_type": "code",
   "execution_count": 35,
   "metadata": {},
   "outputs": [],
   "source": [
    "from sklearn.base import clone"
   ]
  },
  {
   "cell_type": "code",
   "execution_count": 36,
   "metadata": {},
   "outputs": [],
   "source": [
    "from sklearn.compose import ColumnTransformer"
   ]
  },
  {
   "cell_type": "code",
   "execution_count": 37,
   "metadata": {},
   "outputs": [],
   "source": [
    "from sklearn.base import clone\n",
    "from sklearn.compose import ColumnTransformer\n",
    "def add_to_pipe(pipe, name, step, cols=None, cols_name=None, \n",
    "                remainder=\"passthrough\", n_jobs=1):\n",
    "    if cols is not None:\n",
    "        step = ColumnTransformer(transformers=[(name, step, cols)], \n",
    "                                 remainder=remainder, \n",
    "                                 sparse_threshold=0,\n",
    "                                 n_jobs=n_jobs)\n",
    "        \n",
    "        name = cols_name if cols_name is not None else name\n",
    "    if pipe is None:\n",
    "        pipe_res = Pipeline([(name, step)])\n",
    "    else:\n",
    "        pipe_res = clone(pipe)\n",
    "        step_names = [step[0] for step in pipe_res.steps]\n",
    "        if name not in step_names:\n",
    "            pipe_res.steps.append([name, step])\n",
    "    return pipe_res"
   ]
  },
  {
   "cell_type": "raw",
   "metadata": {},
   "source": [
    "def get_mapping(X, cols):\n",
    "    cat_counts = [(col, X[col].value_counts()) for col in cols]\n",
    "    mapping_lst = []\n",
    "    for (name, col) in cat_counts:\n",
    "        col.sort_values(ascending=True, inplace=True)\n",
    "        order_lst = []\n",
    "        for (index, category) in enumerate(col.index):\n",
    "            order_lst.append((category, index))\n",
    "        order_lst.append((None, len(order_lst)))\n",
    "        order_mapping = {'col':name, 'mapping': order_lst}\n",
    "        mapping_lst.append(order_mapping)\n",
    "    return mapping_lst"
   ]
  },
  {
   "cell_type": "raw",
   "metadata": {},
   "source": [
    "#make into transformer: replace small_cats and drop columns\n",
    "n_rows = X.shape[0]\n",
    "cols_to_remove = []\n",
    "for (col_name, col) in cat_counts:\n",
    "    small_cat_cond = (col / np.percentile(col, 75) < 0.05) | (col < (n_rows * 0.005))\n",
    "    if len(small_cat_cond) - sum(small_cat_cond) <= 1: #there's 0 or 1 \"big\" categories\n",
    "        cols_to_remove.append(col_name)\n",
    "        continue\n",
    "    small_cat_names = small_cat_cond[small_cat_cond].index.tolist()\n",
    "    \n",
    "    X[col_name] = np.where(X[col_name].isin(small_cat_names), \"other\", X[col_name])\n",
    "    display(X[col_name].value_counts())\n",
    "    display(pd.DataFrame({\"col\" : col, \"threshold\" : small_cat_cond}))"
   ]
  },
  {
   "cell_type": "code",
   "execution_count": 38,
   "metadata": {},
   "outputs": [],
   "source": [
    "cat_enc_type = \"target\""
   ]
  },
  {
   "cell_type": "code",
   "execution_count": 39,
   "metadata": {},
   "outputs": [],
   "source": [
    "supports_categorical = False"
   ]
  },
  {
   "cell_type": "code",
   "execution_count": 40,
   "metadata": {},
   "outputs": [],
   "source": [
    "handles_categorical_nan = False"
   ]
  },
  {
   "cell_type": "code",
   "execution_count": 41,
   "metadata": {},
   "outputs": [],
   "source": [
    "from sklearn.pipeline import FeatureUnion"
   ]
  },
  {
   "cell_type": "code",
   "execution_count": 42,
   "metadata": {},
   "outputs": [],
   "source": [
    "cat_transforms = None\n",
    "cat_pipe = None\n",
    "if (cat_cols is not None):\n",
    "    if supports_categorical == False:\n",
    "        from category_encoders import BinaryEncoder, OneHotEncoder, CatBoostEncoder, HashingEncoder, TargetEncoder\n",
    "        cat_enc_types = [\"binary\", \"target\", \"catboost\"] #, \"hash_encoder\"\n",
    "        large_threshold = 6\n",
    "        large_cardinal_cats = [col for col in X[cat_cols].columns if X[col].nunique() > large_threshold]\n",
    "        small_cardinal_cats = [col for col in X[cat_cols].columns if X[col].nunique() <= large_threshold]\n",
    "        if small_cardinal_cats is not None:\n",
    "            cat_transforms = add_to_pipe(cat_transforms, \"ohe\", OneHotEncoder(cols=small_cardinal_cats, drop_invariant=True))\n",
    "        if large_cardinal_cats is not None:\n",
    "            if cat_enc_type == \"binary\":\n",
    "                #mapping = get_mapping(X, large_cardinal_cats)\n",
    "                enc = BinaryEncoder(cols=large_cardinal_cats, \n",
    "                                    drop_invariant=True,\n",
    "                                    #mapping=mapping\n",
    "                                   )\n",
    "            elif cat_enc_type == \"hash\": #slow!\n",
    "                n_components = 50 #TODO: sample\n",
    "                enc = HashingEncoder(n_components=n_components,\n",
    "                                     cols=large_cardinal_cats, \n",
    "                                     drop_invariant=True)\n",
    "            elif cat_enc_type == \"target\":\n",
    "                min_samples_leaf = 10 #TODO: calculate percentage or something else\n",
    "                enc = TargetEncoder(min_samples_leaf=min_samples_leaf,\n",
    "                                   cols=large_cardinal_cats,\n",
    "                                   drop_invariant=True)\n",
    "            else: #catboost\n",
    "                enc = CatBoostEncoder(cols=large_cardinal_cats,\n",
    "                                      drop_invariant=True,\n",
    "                                      random_state=SEED) #TODO: replace SEED\n",
    "                #TODO: permute to the dataset beforehand\n",
    "            cat_transforms = add_to_pipe(cat_transforms, cat_enc_type + \"_encoder\", enc)\n",
    "            cat_transform_name = \"cat_encoder\"\n",
    "    elif (contains_nan(X[cat_cols])) and (handles_categorical_nan == False):\n",
    "        cat_transforms = (\"imputer\", SimpleImputer(strategy=\"constant\", fill_value=\"unknown\"))\n",
    "        cat_transform_name = \"imputer\"\n",
    "\n",
    "if cat_transforms is not None:\n",
    "    if numeric_cols is None:\n",
    "        cat_pipe = add_to_pipe(cat_pipe, cat_transform_name, cat_transforms)\n",
    "    else:\n",
    "        cat_pipe = add_to_pipe(cat_pipe, cat_transform_name, cat_transforms, cols=cat_cols, \n",
    "                               cols_name=\"cat_transforms\", remainder=\"drop\")"
   ]
  },
  {
   "cell_type": "code",
   "execution_count": 43,
   "metadata": {},
   "outputs": [],
   "source": [
    "handles_numeric_nan = False\n",
    "sparse = False\n",
    "sensitive_to_scaling = False"
   ]
  },
  {
   "cell_type": "code",
   "execution_count": 44,
   "metadata": {},
   "outputs": [
    {
     "data": {
      "text/plain": [
       "(32561, 14)"
      ]
     },
     "execution_count": 44,
     "metadata": {},
     "output_type": "execute_result"
    }
   ],
   "source": [
    "X.shape"
   ]
  },
  {
   "cell_type": "code",
   "execution_count": 45,
   "metadata": {},
   "outputs": [
    {
     "data": {
      "text/plain": [
       "Index(['workclass', 'education', 'marital-status', 'occupation',\n",
       "       'relationship', 'race', 'sex', 'native-country'],\n",
       "      dtype='object')"
      ]
     },
     "execution_count": 45,
     "metadata": {},
     "output_type": "execute_result"
    }
   ],
   "source": [
    "cat_cols"
   ]
  },
  {
   "cell_type": "code",
   "execution_count": 46,
   "metadata": {},
   "outputs": [],
   "source": [
    "if numeric_cols is not None:\n",
    "    if isinstance(numeric_cols[0],str):\n",
    "        X_numeric = X[numeric_cols]\n",
    "    else:\n",
    "        col_indices = np.asarray([index for (index, name) in enumerate(X.columns) if name in numeric_cols])\n",
    "        X_numeric = X[:,col_indices]"
   ]
  },
  {
   "cell_type": "code",
   "execution_count": 47,
   "metadata": {},
   "outputs": [],
   "source": [
    "numeric_pipe = None\n",
    "numeric_transforms = None\n",
    "if (contains_nan(X_numeric)) and (handles_numeric_nan == False):\n",
    "    imputer = SimpleImputer(strategy=\"median\", add_indicator=True)\n",
    "    numeric_transforms = add_to_pipe(numeric_transforms, \"imputer\", imputer)"
   ]
  },
  {
   "cell_type": "code",
   "execution_count": 48,
   "metadata": {},
   "outputs": [],
   "source": [
    "scaler_type = \"robust\" #\"standard\", \"maxabs\""
   ]
  },
  {
   "cell_type": "code",
   "execution_count": 49,
   "metadata": {},
   "outputs": [],
   "source": [
    "from sklearn.preprocessing import StandardScaler, MinMaxScaler, MaxAbsScaler, RobustScaler"
   ]
  },
  {
   "cell_type": "code",
   "execution_count": 50,
   "metadata": {},
   "outputs": [],
   "source": [
    "scaler_types = [\"robust\", \"standard\", \"minmax\", \"maxabs\"]\n",
    "if sparse:\n",
    "    scaler_types.remove(\"minmax\")\n",
    "    center = False\n",
    "if (numeric_cols is not None) and sensitive_to_scaling:\n",
    "    if scaler_type == \"standard\":\n",
    "        scaler = StandardScaler(with_mean=center)\n",
    "    elif scaler_type == \"robust\":\n",
    "        scaler = RobustScaler(with_centering=center)\n",
    "    elif scaler_type == \"maxabs\":\n",
    "        scaler = MaxAbsScaler()\n",
    "    else: #minmax\n",
    "        scaler = MinMaxScaler()\n",
    "    numeric_transforms = add_to_pipe(numeric_transforms, scaler_type + \"_scaler\", scaler)"
   ]
  },
  {
   "cell_type": "code",
   "execution_count": 51,
   "metadata": {},
   "outputs": [],
   "source": [
    "if numeric_transforms is not None:\n",
    "    if cat_cols is None:\n",
    "        numeric_pipe = add_to_pipe(numeric_pipe, \"numeric_pipe\", numeric_transforms)\n",
    "    else:\n",
    "        numeric_pipe = add_to_pipe(numeric_pipe, \"numeric_pipe\", numeric_transforms, \n",
    "                                   cols=numeric_cols, cols_name=\"numeric_transforms\", remainder=\"drop\")"
   ]
  },
  {
   "cell_type": "code",
   "execution_count": 52,
   "metadata": {},
   "outputs": [],
   "source": [
    "#TODO: flatten pipelines if they have only one item"
   ]
  },
  {
   "cell_type": "code",
   "execution_count": 53,
   "metadata": {},
   "outputs": [],
   "source": [
    "pipe = None"
   ]
  },
  {
   "cell_type": "code",
   "execution_count": 54,
   "metadata": {},
   "outputs": [],
   "source": [
    "if cat_pipe is not None and numeric_pipe is not None:\n",
    "    pipe = add_to_pipe(pipe, \"cat_num_pipes\", FeatureUnion([(\"cat\", cat_pipe), (\"numeric\", numeric_pipe)]))\n",
    "elif cat_pipe is not None:\n",
    "    pipe = cat_pipe\n",
    "elif numeric_pipe is not None:\n",
    "    pipe = numeric_pipe"
   ]
  },
  {
   "cell_type": "code",
   "execution_count": 55,
   "metadata": {},
   "outputs": [],
   "source": [
    "objective_type = \"classification\""
   ]
  },
  {
   "cell_type": "code",
   "execution_count": 56,
   "metadata": {},
   "outputs": [],
   "source": [
    "from sklearn.feature_selection import f_classif, f_regression, SelectFpr"
   ]
  },
  {
   "cell_type": "code",
   "execution_count": 57,
   "metadata": {},
   "outputs": [],
   "source": [
    "alpha = 0.99 #TODO select between 0.05 to 0.5?"
   ]
  },
  {
   "cell_type": "code",
   "execution_count": 58,
   "metadata": {},
   "outputs": [],
   "source": [
    "feature_selection = True #TODO: sample"
   ]
  },
  {
   "cell_type": "code",
   "execution_count": 59,
   "metadata": {},
   "outputs": [],
   "source": [
    "n_estimators = max(100, int(X.shape[1] / 30))"
   ]
  },
  {
   "cell_type": "code",
   "execution_count": 60,
   "metadata": {},
   "outputs": [
    {
     "data": {
      "text/plain": [
       "100"
      ]
     },
     "execution_count": 60,
     "metadata": {},
     "output_type": "execute_result"
    }
   ],
   "source": [
    "n_estimators"
   ]
  },
  {
   "cell_type": "code",
   "execution_count": 61,
   "metadata": {},
   "outputs": [],
   "source": [
    "if feature_selection:\n",
    "    if objective_type==\"classification\":\n",
    "        score_func = f_classif\n",
    "        model = RandomForestClassifier(n_estimators=n_estimators, min_samples_split=4,\n",
    "                                       random_state=SEED, class_weight=\"balanced\", n_jobs=-1)\n",
    "    else:\n",
    "        score_func = f_regression\n",
    "        model = RandomForestRegressorr(n_estimators=n_estimators, min_samples_split=4, \n",
    "                                       random_state=SEED, n_jobs=-1)\n",
    "    #Todo: choose type of fs\n",
    "    #fs = SelectFpr(score_func=score_func, alpha = alpha)\n",
    "    fs = SelectFromModel(model, threshold=1e-10)\n",
    "    pipe = add_to_pipe(pipe, \"fs\", fs)"
   ]
  },
  {
   "cell_type": "code",
   "execution_count": 62,
   "metadata": {},
   "outputs": [],
   "source": [
    "if pipe is not None:\n",
    "    X_new = pipe.fit_transform(X, y)\n",
    "else:\n",
    "    X_new = X"
   ]
  },
  {
   "cell_type": "code",
   "execution_count": 63,
   "metadata": {},
   "outputs": [],
   "source": [
    "clf = RandomForestClassifier(n_estimators=100, random_state=SEED, n_jobs=-1).fit(X_new,y)"
   ]
  },
  {
   "cell_type": "code",
   "execution_count": 64,
   "metadata": {},
   "outputs": [
    {
     "data": {
      "text/plain": [
       "0.8576098049953361"
      ]
     },
     "execution_count": 64,
     "metadata": {},
     "output_type": "execute_result"
    }
   ],
   "source": [
    "sklearn.metrics.roc_auc_score(y_test, clf.predict_proba(pipe.transform(X_test))[:,1])"
   ]
  },
  {
   "cell_type": "code",
   "execution_count": 65,
   "metadata": {},
   "outputs": [],
   "source": [
    "%matplotlib inline"
   ]
  },
  {
   "cell_type": "code",
   "execution_count": 66,
   "metadata": {},
   "outputs": [],
   "source": [
    "#pd.Series([round(score,4) for score in pipe.named_steps[\"fs\"].pvalues_]).hist(bins=30)"
   ]
  },
  {
   "cell_type": "code",
   "execution_count": 67,
   "metadata": {},
   "outputs": [
    {
     "data": {
      "text/plain": [
       "<matplotlib.axes._subplots.AxesSubplot at 0x121008449b0>"
      ]
     },
     "execution_count": 67,
     "metadata": {},
     "output_type": "execute_result"
    },
    {
     "data": {
      "image/png": "[encoded data removed]",
      "text/plain": [
       "<Figure size 432x288 with 1 Axes>"
      ]
     },
     "metadata": {
      "needs_background": "light"
     },
     "output_type": "display_data"
    }
   ],
   "source": [
    "pd.Series(clf.feature_importances_).hist(bins=30)"
   ]
  },
  {
   "cell_type": "code",
   "execution_count": 68,
   "metadata": {},
   "outputs": [],
   "source": [
    "x = pipe.named_steps[\"fs\"]"
   ]
  },
  {
   "cell_type": "code",
   "execution_count": 69,
   "metadata": {},
   "outputs": [
    {
     "data": {
      "text/plain": [
       "1.0"
      ]
     },
     "execution_count": 69,
     "metadata": {},
     "output_type": "execute_result"
    }
   ],
   "source": [
    "sum(pipe.named_steps[\"fs\"].get_support()) / X_new.shape[1]"
   ]
  },
  {
   "cell_type": "code",
   "execution_count": 70,
   "metadata": {},
   "outputs": [],
   "source": [
    "#y_train = y_train.iloc[X_train.index].reset_index(drop=True)\n",
    "#X_train.reset_index(inplace=True, drop=True)"
   ]
  },
  {
   "cell_type": "code",
   "execution_count": 71,
   "metadata": {},
   "outputs": [],
   "source": [
    "#pipeline - pipeline_objective OR regular pipeline\n",
    "#consider making pre-made steps with best practices (FS, scaling, etc...) then add option to concat to make one pipeline "
   ]
  },
  {
   "cell_type": "code",
   "execution_count": 72,
   "metadata": {},
   "outputs": [],
   "source": [
    "#pipeline = Pipeline([(\"sel\", SelectPercentile(chi2))])\n",
    "#pipe_params = {\"sel__percentile\" : optuna.distributions.IntUniformDistribution(1,100)}\n",
    "pipeline = None\n",
    "pipe_params = None"
   ]
  },
  {
   "cell_type": "code",
   "execution_count": 73,
   "metadata": {},
   "outputs": [],
   "source": [
    "from sklearn.model_selection import GridSearchCV"
   ]
  },
  {
   "cell_type": "code",
   "execution_count": 80,
   "metadata": {},
   "outputs": [],
   "source": [
    "gr = GridSearchCV(estimator=RandomForestClassifier(n_estimators=10), cv=5, param_grid={\"max_depth\" : [5, 10]})"
   ]
  },
  {
   "cell_type": "code",
   "execution_count": 81,
   "metadata": {},
   "outputs": [
    {
     "data": {
      "text/plain": [
       "GridSearchCV(cv=5, error_score='raise-deprecating',\n",
       "             estimator=RandomForestClassifier(bootstrap=True, class_weight=None,\n",
       "                                              criterion='gini', max_depth=None,\n",
       "                                              max_features='auto',\n",
       "                                              max_leaf_nodes=None,\n",
       "                                              min_impurity_decrease=0.0,\n",
       "                                              min_impurity_split=None,\n",
       "                                              min_samples_leaf=1,\n",
       "                                              min_samples_split=2,\n",
       "                                              min_weight_fraction_leaf=0.0,\n",
       "                                              n_estimators=10, n_jobs=None,\n",
       "                                              oob_score=False,\n",
       "                                              random_state=None, verbose=0,\n",
       "                                              warm_start=False),\n",
       "             iid='warn', n_jobs=None, param_grid={'max_depth': [5, 10]},\n",
       "             pre_dispatch='2*n_jobs', refit=True, return_train_score=False,\n",
       "             scoring=None, verbose=0)"
      ]
     },
     "execution_count": 81,
     "metadata": {},
     "output_type": "execute_result"
    }
   ],
   "source": [
    "gr.fit(X_new, y)"
   ]
  },
  {
   "cell_type": "code",
   "execution_count": 86,
   "metadata": {},
   "outputs": [],
   "source": [
    "preds = gr.predict(pipe.transform(X_test))"
   ]
  },
  {
   "cell_type": "code",
   "execution_count": null,
   "metadata": {},
   "outputs": [],
   "source": []
  },
  {
   "cell_type": "code",
   "execution_count": 88,
   "metadata": {},
   "outputs": [
    {
     "ename": "NameError",
     "evalue": "name 'boston' is not defined",
     "output_type": "error",
     "traceback": [
      "\u001b[1;31m---------------------------------------------------------------------------\u001b[0m",
      "\u001b[1;31mNameError\u001b[0m                                 Traceback (most recent call last)",
      "\u001b[1;32m<ipython-input-88-8cc1bc90075a>\u001b[0m in \u001b[0;36m<module>\u001b[1;34m\u001b[0m\n\u001b[1;32m----> 1\u001b[1;33m \u001b[0mboston\u001b[0m\u001b[1;33m\u001b[0m\u001b[1;33m\u001b[0m\u001b[0m\n\u001b[0m",
      "\u001b[1;31mNameError\u001b[0m: name 'boston' is not defined"
     ]
    }
   ],
   "source": [
    "boston"
   ]
  },
  {
   "cell_type": "code",
   "execution_count": null,
   "metadata": {},
   "outputs": [],
   "source": [
    "TargetEncoder()"
   ]
  },
  {
   "cell_type": "code",
   "execution_count": 87,
   "metadata": {},
   "outputs": [
    {
     "ename": "TypeError",
     "evalue": "'<' not supported between instances of 'str' and 'int'",
     "output_type": "error",
     "traceback": [
      "\u001b[1;31m---------------------------------------------------------------------------\u001b[0m",
      "\u001b[1;31mTypeError\u001b[0m                                 Traceback (most recent call last)",
      "\u001b[1;32m<ipython-input-87-c4f193dd25aa>\u001b[0m in \u001b[0;36m<module>\u001b[1;34m\u001b[0m\n\u001b[1;32m----> 1\u001b[1;33m \u001b[0msklearn\u001b[0m\u001b[1;33m.\u001b[0m\u001b[0mmetrics\u001b[0m\u001b[1;33m.\u001b[0m\u001b[0maccuracy_score\u001b[0m\u001b[1;33m(\u001b[0m\u001b[0mpreds\u001b[0m\u001b[1;33m,\u001b[0m \u001b[0my_test\u001b[0m\u001b[1;33m)\u001b[0m\u001b[1;33m\u001b[0m\u001b[1;33m\u001b[0m\u001b[0m\n\u001b[0m",
      "\u001b[1;32m~\\Anaconda3\\lib\\site-packages\\sklearn\\metrics\\classification.py\u001b[0m in \u001b[0;36maccuracy_score\u001b[1;34m(y_true, y_pred, normalize, sample_weight)\u001b[0m\n\u001b[0;32m    174\u001b[0m \u001b[1;33m\u001b[0m\u001b[0m\n\u001b[0;32m    175\u001b[0m     \u001b[1;31m# Compute accuracy for each possible representation\u001b[0m\u001b[1;33m\u001b[0m\u001b[1;33m\u001b[0m\u001b[1;33m\u001b[0m\u001b[0m\n\u001b[1;32m--> 176\u001b[1;33m     \u001b[0my_type\u001b[0m\u001b[1;33m,\u001b[0m \u001b[0my_true\u001b[0m\u001b[1;33m,\u001b[0m \u001b[0my_pred\u001b[0m \u001b[1;33m=\u001b[0m \u001b[0m_check_targets\u001b[0m\u001b[1;33m(\u001b[0m\u001b[0my_true\u001b[0m\u001b[1;33m,\u001b[0m \u001b[0my_pred\u001b[0m\u001b[1;33m)\u001b[0m\u001b[1;33m\u001b[0m\u001b[1;33m\u001b[0m\u001b[0m\n\u001b[0m\u001b[0;32m    177\u001b[0m     \u001b[0mcheck_consistent_length\u001b[0m\u001b[1;33m(\u001b[0m\u001b[0my_true\u001b[0m\u001b[1;33m,\u001b[0m \u001b[0my_pred\u001b[0m\u001b[1;33m,\u001b[0m \u001b[0msample_weight\u001b[0m\u001b[1;33m)\u001b[0m\u001b[1;33m\u001b[0m\u001b[1;33m\u001b[0m\u001b[0m\n\u001b[0;32m    178\u001b[0m     \u001b[1;32mif\u001b[0m \u001b[0my_type\u001b[0m\u001b[1;33m.\u001b[0m\u001b[0mstartswith\u001b[0m\u001b[1;33m(\u001b[0m\u001b[1;34m'multilabel'\u001b[0m\u001b[1;33m)\u001b[0m\u001b[1;33m:\u001b[0m\u001b[1;33m\u001b[0m\u001b[1;33m\u001b[0m\u001b[0m\n",
      "\u001b[1;32m~\\Anaconda3\\lib\\site-packages\\sklearn\\metrics\\classification.py\u001b[0m in \u001b[0;36m_check_targets\u001b[1;34m(y_true, y_pred)\u001b[0m\n\u001b[0;32m     92\u001b[0m         \u001b[0my_pred\u001b[0m \u001b[1;33m=\u001b[0m \u001b[0mcolumn_or_1d\u001b[0m\u001b[1;33m(\u001b[0m\u001b[0my_pred\u001b[0m\u001b[1;33m)\u001b[0m\u001b[1;33m\u001b[0m\u001b[1;33m\u001b[0m\u001b[0m\n\u001b[0;32m     93\u001b[0m         \u001b[1;32mif\u001b[0m \u001b[0my_type\u001b[0m \u001b[1;33m==\u001b[0m \u001b[1;34m\"binary\"\u001b[0m\u001b[1;33m:\u001b[0m\u001b[1;33m\u001b[0m\u001b[1;33m\u001b[0m\u001b[0m\n\u001b[1;32m---> 94\u001b[1;33m             \u001b[0munique_values\u001b[0m \u001b[1;33m=\u001b[0m \u001b[0mnp\u001b[0m\u001b[1;33m.\u001b[0m\u001b[0munion1d\u001b[0m\u001b[1;33m(\u001b[0m\u001b[0my_true\u001b[0m\u001b[1;33m,\u001b[0m \u001b[0my_pred\u001b[0m\u001b[1;33m)\u001b[0m\u001b[1;33m\u001b[0m\u001b[1;33m\u001b[0m\u001b[0m\n\u001b[0m\u001b[0;32m     95\u001b[0m             \u001b[1;32mif\u001b[0m \u001b[0mlen\u001b[0m\u001b[1;33m(\u001b[0m\u001b[0munique_values\u001b[0m\u001b[1;33m)\u001b[0m \u001b[1;33m>\u001b[0m \u001b[1;36m2\u001b[0m\u001b[1;33m:\u001b[0m\u001b[1;33m\u001b[0m\u001b[1;33m\u001b[0m\u001b[0m\n\u001b[0;32m     96\u001b[0m                 \u001b[0my_type\u001b[0m \u001b[1;33m=\u001b[0m \u001b[1;34m\"multiclass\"\u001b[0m\u001b[1;33m\u001b[0m\u001b[1;33m\u001b[0m\u001b[0m\n",
      "\u001b[1;32m~\\Anaconda3\\lib\\site-packages\\numpy\\lib\\arraysetops.py\u001b[0m in \u001b[0;36munion1d\u001b[1;34m(ar1, ar2)\u001b[0m\n\u001b[0;32m    736\u001b[0m     \u001b[0marray\u001b[0m\u001b[1;33m(\u001b[0m\u001b[1;33m[\u001b[0m\u001b[1;36m1\u001b[0m\u001b[1;33m,\u001b[0m \u001b[1;36m2\u001b[0m\u001b[1;33m,\u001b[0m \u001b[1;36m3\u001b[0m\u001b[1;33m,\u001b[0m \u001b[1;36m4\u001b[0m\u001b[1;33m,\u001b[0m \u001b[1;36m6\u001b[0m\u001b[1;33m]\u001b[0m\u001b[1;33m)\u001b[0m\u001b[1;33m\u001b[0m\u001b[1;33m\u001b[0m\u001b[0m\n\u001b[0;32m    737\u001b[0m     \"\"\"\n\u001b[1;32m--> 738\u001b[1;33m     \u001b[1;32mreturn\u001b[0m \u001b[0munique\u001b[0m\u001b[1;33m(\u001b[0m\u001b[0mnp\u001b[0m\u001b[1;33m.\u001b[0m\u001b[0mconcatenate\u001b[0m\u001b[1;33m(\u001b[0m\u001b[1;33m(\u001b[0m\u001b[0mar1\u001b[0m\u001b[1;33m,\u001b[0m \u001b[0mar2\u001b[0m\u001b[1;33m)\u001b[0m\u001b[1;33m,\u001b[0m \u001b[0maxis\u001b[0m\u001b[1;33m=\u001b[0m\u001b[1;32mNone\u001b[0m\u001b[1;33m)\u001b[0m\u001b[1;33m)\u001b[0m\u001b[1;33m\u001b[0m\u001b[1;33m\u001b[0m\u001b[0m\n\u001b[0m\u001b[0;32m    739\u001b[0m \u001b[1;33m\u001b[0m\u001b[0m\n\u001b[0;32m    740\u001b[0m \u001b[1;33m\u001b[0m\u001b[0m\n",
      "\u001b[1;32m~\\Anaconda3\\lib\\site-packages\\numpy\\lib\\arraysetops.py\u001b[0m in \u001b[0;36munique\u001b[1;34m(ar, return_index, return_inverse, return_counts, axis)\u001b[0m\n\u001b[0;32m    262\u001b[0m     \u001b[0mar\u001b[0m \u001b[1;33m=\u001b[0m \u001b[0mnp\u001b[0m\u001b[1;33m.\u001b[0m\u001b[0masanyarray\u001b[0m\u001b[1;33m(\u001b[0m\u001b[0mar\u001b[0m\u001b[1;33m)\u001b[0m\u001b[1;33m\u001b[0m\u001b[1;33m\u001b[0m\u001b[0m\n\u001b[0;32m    263\u001b[0m     \u001b[1;32mif\u001b[0m \u001b[0maxis\u001b[0m \u001b[1;32mis\u001b[0m \u001b[1;32mNone\u001b[0m\u001b[1;33m:\u001b[0m\u001b[1;33m\u001b[0m\u001b[1;33m\u001b[0m\u001b[0m\n\u001b[1;32m--> 264\u001b[1;33m         \u001b[0mret\u001b[0m \u001b[1;33m=\u001b[0m \u001b[0m_unique1d\u001b[0m\u001b[1;33m(\u001b[0m\u001b[0mar\u001b[0m\u001b[1;33m,\u001b[0m \u001b[0mreturn_index\u001b[0m\u001b[1;33m,\u001b[0m \u001b[0mreturn_inverse\u001b[0m\u001b[1;33m,\u001b[0m \u001b[0mreturn_counts\u001b[0m\u001b[1;33m)\u001b[0m\u001b[1;33m\u001b[0m\u001b[1;33m\u001b[0m\u001b[0m\n\u001b[0m\u001b[0;32m    265\u001b[0m         \u001b[1;32mreturn\u001b[0m \u001b[0m_unpack_tuple\u001b[0m\u001b[1;33m(\u001b[0m\u001b[0mret\u001b[0m\u001b[1;33m)\u001b[0m\u001b[1;33m\u001b[0m\u001b[1;33m\u001b[0m\u001b[0m\n\u001b[0;32m    266\u001b[0m \u001b[1;33m\u001b[0m\u001b[0m\n",
      "\u001b[1;32m~\\Anaconda3\\lib\\site-packages\\numpy\\lib\\arraysetops.py\u001b[0m in \u001b[0;36m_unique1d\u001b[1;34m(ar, return_index, return_inverse, return_counts)\u001b[0m\n\u001b[0;32m    310\u001b[0m         \u001b[0maux\u001b[0m \u001b[1;33m=\u001b[0m \u001b[0mar\u001b[0m\u001b[1;33m[\u001b[0m\u001b[0mperm\u001b[0m\u001b[1;33m]\u001b[0m\u001b[1;33m\u001b[0m\u001b[1;33m\u001b[0m\u001b[0m\n\u001b[0;32m    311\u001b[0m     \u001b[1;32melse\u001b[0m\u001b[1;33m:\u001b[0m\u001b[1;33m\u001b[0m\u001b[1;33m\u001b[0m\u001b[0m\n\u001b[1;32m--> 312\u001b[1;33m         \u001b[0mar\u001b[0m\u001b[1;33m.\u001b[0m\u001b[0msort\u001b[0m\u001b[1;33m(\u001b[0m\u001b[1;33m)\u001b[0m\u001b[1;33m\u001b[0m\u001b[1;33m\u001b[0m\u001b[0m\n\u001b[0m\u001b[0;32m    313\u001b[0m         \u001b[0maux\u001b[0m \u001b[1;33m=\u001b[0m \u001b[0mar\u001b[0m\u001b[1;33m\u001b[0m\u001b[1;33m\u001b[0m\u001b[0m\n\u001b[0;32m    314\u001b[0m     \u001b[0mmask\u001b[0m \u001b[1;33m=\u001b[0m \u001b[0mnp\u001b[0m\u001b[1;33m.\u001b[0m\u001b[0mempty\u001b[0m\u001b[1;33m(\u001b[0m\u001b[0maux\u001b[0m\u001b[1;33m.\u001b[0m\u001b[0mshape\u001b[0m\u001b[1;33m,\u001b[0m \u001b[0mdtype\u001b[0m\u001b[1;33m=\u001b[0m\u001b[0mnp\u001b[0m\u001b[1;33m.\u001b[0m\u001b[0mbool_\u001b[0m\u001b[1;33m)\u001b[0m\u001b[1;33m\u001b[0m\u001b[1;33m\u001b[0m\u001b[0m\n",
      "\u001b[1;31mTypeError\u001b[0m: '<' not supported between instances of 'str' and 'int'"
     ]
    }
   ],
   "source": [
    "sklearn.metrics.accuracy_score(preds, y_test)"
   ]
  },
  {
   "cell_type": "markdown",
   "metadata": {},
   "source": [
    "# Classifier"
   ]
  },
  {
   "cell_type": "code",
   "execution_count": 55,
   "metadata": {},
   "outputs": [],
   "source": [
    "dataset = \"newsgroup\" #adult, boston"
   ]
  },
  {
   "cell_type": "code",
   "execution_count": 56,
   "metadata": {},
   "outputs": [],
   "source": [
    "if dataset==\"adult\":\n",
    "    X_train = pd.read_pickle(\"./data/adult_X_train.pkl\")\n",
    "    y_train = pd.read_pickle(\"./data/adult_y_train.pkl\")\n",
    "    X_test = pd.read_pickle(\"./data/adult_X_test.pkl\")\n",
    "    y_test = pd.read_pickle(\"./data/adult_y_test.pkl\")\n",
    "    cat_cols = X_train.select_dtypes(include=\"object\").columns\n",
    "elif dataset==\"newsgroup\":\n",
    "    X_train = load_npz(\"./data/X_train.npz\")\n",
    "    y_train = pd.read_pickle(\"./data/y_train.pkl\")\n",
    "    X_test = load_npz(\"./data/X_test.npz\")\n",
    "    y_test = pd.read_pickle(\"./data/y_test.pkl\")\n",
    "    cat_cols=None\n",
    "else:\n",
    "    X_train = pd.read_pickle(\"./data/boston_X_train.pkl\")\n",
    "    y_train = pd.read_pickle(\"./data/boston_y_train.pkl\")\n",
    "    X_test = pd.read_pickle(\"./data/boston_X_test.pkl\")\n",
    "    y_test = pd.read_pickle(\"./data/boston_y_test.pkl\")\n",
    "    cat_cols = None"
   ]
  },
  {
   "cell_type": "code",
   "execution_count": 57,
   "metadata": {},
   "outputs": [],
   "source": [
    "xgb_linear = XGBClassifierHypster(booster_list=['gblinear'], n_iter_per_round=2\n",
    "                               ,param_dict={'verbosity':1})\n",
    "                               #,'subsample' : 0.9\n",
    "#gb_dart = XGBClassifierHypster(booster_list=['dart'])\n",
    "#xgb_tree = XGBClassifierHypster(booster_list=['gbtree', 'dart'], user_param_dict={'max_depth' : 2})\n",
    "xgb_tree = XGBClassifierHypster(booster_list=['gbtree', 'dart'],\n",
    "                                n_iter_per_round=5\n",
    "                                )\n",
    "#lgb_estimator = LGBClassifierOptuna()\n",
    "#sgd_estimator = SGDClassifierOptuna()\n",
    "#rf_estimator  = RFClassifierOptuna()"
   ]
  },
  {
   "cell_type": "code",
   "execution_count": 58,
   "metadata": {},
   "outputs": [],
   "source": [
    "estimators = [xgb_tree] #, xgb_tree]#, sgd|_estimator]"
   ]
  },
  {
   "cell_type": "code",
   "execution_count": 59,
   "metadata": {},
   "outputs": [],
   "source": [
    "sampler = optuna.integration.CmaEsSampler(n_startup_trials=30,\n",
    "                      independent_sampler=TPESampler(**TPESampler.hyperopt_parameters()),\n",
    "                      warn_independent_sampling=False, seed=SEED)"
   ]
  },
  {
   "cell_type": "code",
   "execution_count": 60,
   "metadata": {},
   "outputs": [],
   "source": [
    "sampler = TPESampler(**TPESampler.hyperopt_parameters(), seed=SEED)"
   ]
  },
  {
   "cell_type": "code",
   "execution_count": 75,
   "metadata": {},
   "outputs": [],
   "source": [
    "clf = HyPSTERClassifier(estimators, pipeline, pipe_params, save_cv_preds=True, \n",
    "                        scoring=\"roc_auc\", cv=StratifiedKFold(n_splits=3, shuffle=True, random_state=SEED), tol=1e-6,\n",
    "                        sampler=sampler, refit=False, random_state=SEED, max_iter=20, n_jobs=-1)"
   ]
  },
  {
   "cell_type": "code",
   "execution_count": 76,
   "metadata": {},
   "outputs": [
    {
     "data": {
      "text/plain": [
       "(32561, 18)"
      ]
     },
     "execution_count": 76,
     "metadata": {},
     "output_type": "execute_result"
    }
   ],
   "source": [
    "X_new.shape"
   ]
  },
  {
   "cell_type": "code",
   "execution_count": 77,
   "metadata": {},
   "outputs": [
    {
     "data": {
      "text/plain": [
       "(10309,)"
      ]
     },
     "execution_count": 77,
     "metadata": {},
     "output_type": "execute_result"
    }
   ],
   "source": [
    "y_train.shape"
   ]
  },
  {
   "cell_type": "code",
   "execution_count": 78,
   "metadata": {},
   "outputs": [
    {
     "data": {
      "text/plain": [
       "<10309x30715 sparse matrix of type '<class 'numpy.float64'>'\n",
       "\twith 791750 stored elements in Compressed Sparse Row format>"
      ]
     },
     "execution_count": 78,
     "metadata": {},
     "output_type": "execute_result"
    }
   ],
   "source": [
    "X_train"
   ]
  },
  {
   "cell_type": "code",
   "execution_count": 79,
   "metadata": {},
   "outputs": [
    {
     "name": "stdout",
     "output_type": "stream",
     "text": [
      "XGBoost Classifier\n",
      "Score: 0.83403\n"
     ]
    },
    {
     "name": "stderr",
     "output_type": "stream",
     "text": [
      "[W 2019-08-24 16:47:59,051] Setting status of trial#6 as TrialState.FAIL because of the following error: ValueError('No trials are completed yet.')\n",
      "Traceback (most recent call last):\n",
      "  File \"C:\\Users\\user\\Anaconda3\\lib\\site-packages\\optuna\\study.py\", line 469, in _run_trial\n",
      "    result = func(trial)\n",
      "  File \"c:\\python_workspace\\HyPSTER\\hypster.py\", line 251, in __call__\n",
      "    condition = best_score > trial.study.best_value\n",
      "  File \"C:\\Users\\user\\Anaconda3\\lib\\site-packages\\optuna\\study.py\", line 183, in best_value\n",
      "    best_value = self.best_trial.value\n",
      "  File \"C:\\Users\\user\\Anaconda3\\lib\\site-packages\\optuna\\study.py\", line 198, in best_trial\n",
      "    return self.storage.get_best_trial(self.study_id)\n",
      "  File \"C:\\Users\\user\\Anaconda3\\lib\\site-packages\\optuna\\storages\\base.py\", line 181, in get_best_trial\n",
      "    raise ValueError('No trials are completed yet.')\n",
      "ValueError: No trials are completed yet.\n"
     ]
    },
    {
     "name": "stdout",
     "output_type": "stream",
     "text": [
      "Score: 0.82254\n"
     ]
    },
    {
     "name": "stderr",
     "output_type": "stream",
     "text": [
      "[W 2019-08-24 16:48:13,264] Setting status of trial#3 as TrialState.FAIL because of the following error: ValueError('No trials are completed yet.')\n",
      "Traceback (most recent call last):\n",
      "  File \"C:\\Users\\user\\Anaconda3\\lib\\site-packages\\optuna\\study.py\", line 469, in _run_trial\n",
      "    result = func(trial)\n",
      "  File \"c:\\python_workspace\\HyPSTER\\hypster.py\", line 251, in __call__\n",
      "    condition = best_score > trial.study.best_value\n",
      "  File \"C:\\Users\\user\\Anaconda3\\lib\\site-packages\\optuna\\study.py\", line 183, in best_value\n",
      "    best_value = self.best_trial.value\n",
      "  File \"C:\\Users\\user\\Anaconda3\\lib\\site-packages\\optuna\\study.py\", line 198, in best_trial\n",
      "    return self.storage.get_best_trial(self.study_id)\n",
      "  File \"C:\\Users\\user\\Anaconda3\\lib\\site-packages\\optuna\\storages\\base.py\", line 181, in get_best_trial\n",
      "    raise ValueError('No trials are completed yet.')\n",
      "ValueError: No trials are completed yet.\n"
     ]
    },
    {
     "name": "stdout",
     "output_type": "stream",
     "text": [
      "Score: 0.85437\n"
     ]
    },
    {
     "name": "stderr",
     "output_type": "stream",
     "text": [
      "[W 2019-08-24 16:48:37,190] Setting status of trial#4 as TrialState.FAIL because of the following error: ValueError('No trials are completed yet.')\n",
      "Traceback (most recent call last):\n",
      "  File \"C:\\Users\\user\\Anaconda3\\lib\\site-packages\\optuna\\study.py\", line 469, in _run_trial\n",
      "    result = func(trial)\n",
      "  File \"c:\\python_workspace\\HyPSTER\\hypster.py\", line 251, in __call__\n",
      "    condition = best_score > trial.study.best_value\n",
      "  File \"C:\\Users\\user\\Anaconda3\\lib\\site-packages\\optuna\\study.py\", line 183, in best_value\n",
      "    best_value = self.best_trial.value\n",
      "  File \"C:\\Users\\user\\Anaconda3\\lib\\site-packages\\optuna\\study.py\", line 198, in best_trial\n",
      "    return self.storage.get_best_trial(self.study_id)\n",
      "  File \"C:\\Users\\user\\Anaconda3\\lib\\site-packages\\optuna\\storages\\base.py\", line 181, in get_best_trial\n",
      "    raise ValueError('No trials are completed yet.')\n",
      "ValueError: No trials are completed yet.\n"
     ]
    },
    {
     "ename": "KeyboardInterrupt",
     "evalue": "",
     "output_type": "error",
     "traceback": [
      "\u001b[1;31m---------------------------------------------------------------------------\u001b[0m",
      "\u001b[1;31mFull\u001b[0m                                      Traceback (most recent call last)",
      "\u001b[1;32m~\\Anaconda3\\lib\\site-packages\\optuna\\study.py\u001b[0m in \u001b[0;36m_optimize_parallel\u001b[1;34m(self, func, n_trials, timeout, n_jobs, catch)\u001b[0m\n\u001b[0;32m    447\u001b[0m             \u001b[1;32mtry\u001b[0m\u001b[1;33m:\u001b[0m\u001b[1;33m\u001b[0m\u001b[1;33m\u001b[0m\u001b[0m\n\u001b[1;32m--> 448\u001b[1;33m                 \u001b[0mque\u001b[0m\u001b[1;33m.\u001b[0m\u001b[0mput_nowait\u001b[0m\u001b[1;33m(\u001b[0m\u001b[1;32mTrue\u001b[0m\u001b[1;33m)\u001b[0m\u001b[1;33m\u001b[0m\u001b[1;33m\u001b[0m\u001b[0m\n\u001b[0m\u001b[0;32m    449\u001b[0m                 \u001b[0mn_enqueued_trials\u001b[0m \u001b[1;33m+=\u001b[0m \u001b[1;36m1\u001b[0m\u001b[1;33m\u001b[0m\u001b[1;33m\u001b[0m\u001b[0m\n",
      "\u001b[1;32m~\\Anaconda3\\lib\\multiprocessing\\queues.py\u001b[0m in \u001b[0;36mput_nowait\u001b[1;34m(self, obj)\u001b[0m\n\u001b[0;32m    128\u001b[0m     \u001b[1;32mdef\u001b[0m \u001b[0mput_nowait\u001b[0m\u001b[1;33m(\u001b[0m\u001b[0mself\u001b[0m\u001b[1;33m,\u001b[0m \u001b[0mobj\u001b[0m\u001b[1;33m)\u001b[0m\u001b[1;33m:\u001b[0m\u001b[1;33m\u001b[0m\u001b[1;33m\u001b[0m\u001b[0m\n\u001b[1;32m--> 129\u001b[1;33m         \u001b[1;32mreturn\u001b[0m \u001b[0mself\u001b[0m\u001b[1;33m.\u001b[0m\u001b[0mput\u001b[0m\u001b[1;33m(\u001b[0m\u001b[0mobj\u001b[0m\u001b[1;33m,\u001b[0m \u001b[1;32mFalse\u001b[0m\u001b[1;33m)\u001b[0m\u001b[1;33m\u001b[0m\u001b[1;33m\u001b[0m\u001b[0m\n\u001b[0m\u001b[0;32m    130\u001b[0m \u001b[1;33m\u001b[0m\u001b[0m\n",
      "\u001b[1;32m~\\Anaconda3\\lib\\multiprocessing\\queues.py\u001b[0m in \u001b[0;36mput\u001b[1;34m(self, obj, block, timeout)\u001b[0m\n\u001b[0;32m     82\u001b[0m         \u001b[1;32mif\u001b[0m \u001b[1;32mnot\u001b[0m \u001b[0mself\u001b[0m\u001b[1;33m.\u001b[0m\u001b[0m_sem\u001b[0m\u001b[1;33m.\u001b[0m\u001b[0macquire\u001b[0m\u001b[1;33m(\u001b[0m\u001b[0mblock\u001b[0m\u001b[1;33m,\u001b[0m \u001b[0mtimeout\u001b[0m\u001b[1;33m)\u001b[0m\u001b[1;33m:\u001b[0m\u001b[1;33m\u001b[0m\u001b[1;33m\u001b[0m\u001b[0m\n\u001b[1;32m---> 83\u001b[1;33m             \u001b[1;32mraise\u001b[0m \u001b[0mFull\u001b[0m\u001b[1;33m\u001b[0m\u001b[1;33m\u001b[0m\u001b[0m\n\u001b[0m\u001b[0;32m     84\u001b[0m \u001b[1;33m\u001b[0m\u001b[0m\n",
      "\u001b[1;31mFull\u001b[0m: ",
      "\nDuring handling of the above exception, another exception occurred:\n",
      "\u001b[1;31mKeyboardInterrupt\u001b[0m                         Traceback (most recent call last)",
      "\u001b[1;32m<timed eval>\u001b[0m in \u001b[0;36m<module>\u001b[1;34m\u001b[0m\n",
      "\u001b[1;32mc:\\python_workspace\\HyPSTER\\hypster.py\u001b[0m in \u001b[0;36mfit\u001b[1;34m(self, X, y, sample_weight, groups, missing, cat_columns, n_trials_per_estimator, timeout_per_estimator)\u001b[0m\n\u001b[0;32m    449\u001b[0m                 \u001b[0mn_trials\u001b[0m \u001b[1;33m=\u001b[0m \u001b[0mn_trials_per_estimator\u001b[0m\u001b[1;33m\u001b[0m\u001b[1;33m\u001b[0m\u001b[0m\n\u001b[0;32m    450\u001b[0m \u001b[1;33m\u001b[0m\u001b[0m\n\u001b[1;32m--> 451\u001b[1;33m             \u001b[0mstudy\u001b[0m\u001b[1;33m.\u001b[0m\u001b[0moptimize\u001b[0m\u001b[1;33m(\u001b[0m\u001b[0mobjective\u001b[0m\u001b[1;33m,\u001b[0m \u001b[0mn_trials\u001b[0m\u001b[1;33m=\u001b[0m\u001b[0mn_trials\u001b[0m\u001b[1;33m,\u001b[0m \u001b[0mn_jobs\u001b[0m\u001b[1;33m=\u001b[0m\u001b[0mself\u001b[0m\u001b[1;33m.\u001b[0m\u001b[0mn_jobs\u001b[0m\u001b[1;33m,\u001b[0m \u001b[0mtimeout\u001b[0m\u001b[1;33m=\u001b[0m\u001b[0mtimeout_per_estimator\u001b[0m\u001b[1;33m)\u001b[0m\u001b[1;33m\u001b[0m\u001b[1;33m\u001b[0m\u001b[0m\n\u001b[0m\u001b[0;32m    452\u001b[0m \u001b[1;33m\u001b[0m\u001b[0m\n\u001b[0;32m    453\u001b[0m         \u001b[1;31m# self.study = study\u001b[0m\u001b[1;33m\u001b[0m\u001b[1;33m\u001b[0m\u001b[1;33m\u001b[0m\u001b[0m\n",
      "\u001b[1;32m~\\Anaconda3\\lib\\site-packages\\optuna\\study.py\u001b[0m in \u001b[0;36moptimize\u001b[1;34m(self, func, n_trials, timeout, n_jobs, catch)\u001b[0m\n\u001b[0;32m    280\u001b[0m             \u001b[0mself\u001b[0m\u001b[1;33m.\u001b[0m\u001b[0m_optimize_sequential\u001b[0m\u001b[1;33m(\u001b[0m\u001b[0mfunc\u001b[0m\u001b[1;33m,\u001b[0m \u001b[0mn_trials\u001b[0m\u001b[1;33m,\u001b[0m \u001b[0mtimeout\u001b[0m\u001b[1;33m,\u001b[0m \u001b[0mcatch\u001b[0m\u001b[1;33m)\u001b[0m\u001b[1;33m\u001b[0m\u001b[1;33m\u001b[0m\u001b[0m\n\u001b[0;32m    281\u001b[0m         \u001b[1;32melse\u001b[0m\u001b[1;33m:\u001b[0m\u001b[1;33m\u001b[0m\u001b[1;33m\u001b[0m\u001b[0m\n\u001b[1;32m--> 282\u001b[1;33m             \u001b[0mself\u001b[0m\u001b[1;33m.\u001b[0m\u001b[0m_optimize_parallel\u001b[0m\u001b[1;33m(\u001b[0m\u001b[0mfunc\u001b[0m\u001b[1;33m,\u001b[0m \u001b[0mn_trials\u001b[0m\u001b[1;33m,\u001b[0m \u001b[0mtimeout\u001b[0m\u001b[1;33m,\u001b[0m \u001b[0mn_jobs\u001b[0m\u001b[1;33m,\u001b[0m \u001b[0mcatch\u001b[0m\u001b[1;33m)\u001b[0m\u001b[1;33m\u001b[0m\u001b[1;33m\u001b[0m\u001b[0m\n\u001b[0m\u001b[0;32m    283\u001b[0m \u001b[1;33m\u001b[0m\u001b[0m\n\u001b[0;32m    284\u001b[0m     \u001b[1;32mdef\u001b[0m \u001b[0mset_user_attr\u001b[0m\u001b[1;33m(\u001b[0m\u001b[0mself\u001b[0m\u001b[1;33m,\u001b[0m \u001b[0mkey\u001b[0m\u001b[1;33m,\u001b[0m \u001b[0mvalue\u001b[0m\u001b[1;33m)\u001b[0m\u001b[1;33m:\u001b[0m\u001b[1;33m\u001b[0m\u001b[1;33m\u001b[0m\u001b[0m\n",
      "\u001b[1;32m~\\Anaconda3\\lib\\site-packages\\optuna\\study.py\u001b[0m in \u001b[0;36m_optimize_parallel\u001b[1;34m(self, func, n_trials, timeout, n_jobs, catch)\u001b[0m\n\u001b[0;32m    449\u001b[0m                 \u001b[0mn_enqueued_trials\u001b[0m \u001b[1;33m+=\u001b[0m \u001b[1;36m1\u001b[0m\u001b[1;33m\u001b[0m\u001b[1;33m\u001b[0m\u001b[0m\n\u001b[0;32m    450\u001b[0m             \u001b[1;32mexcept\u001b[0m \u001b[0mqueue\u001b[0m\u001b[1;33m.\u001b[0m\u001b[0mFull\u001b[0m\u001b[1;33m:\u001b[0m\u001b[1;33m\u001b[0m\u001b[1;33m\u001b[0m\u001b[0m\n\u001b[1;32m--> 451\u001b[1;33m                 \u001b[0mtime\u001b[0m\u001b[1;33m.\u001b[0m\u001b[0msleep\u001b[0m\u001b[1;33m(\u001b[0m\u001b[1;36m1\u001b[0m\u001b[1;33m)\u001b[0m\u001b[1;33m\u001b[0m\u001b[1;33m\u001b[0m\u001b[0m\n\u001b[0m\u001b[0;32m    452\u001b[0m \u001b[1;33m\u001b[0m\u001b[0m\n\u001b[0;32m    453\u001b[0m         \u001b[1;32mfor\u001b[0m \u001b[0m_\u001b[0m \u001b[1;32min\u001b[0m \u001b[0mrange\u001b[0m\u001b[1;33m(\u001b[0m\u001b[0mn_jobs\u001b[0m\u001b[1;33m)\u001b[0m\u001b[1;33m:\u001b[0m\u001b[1;33m\u001b[0m\u001b[1;33m\u001b[0m\u001b[0m\n",
      "\u001b[1;31mKeyboardInterrupt\u001b[0m: "
     ]
    }
   ],
   "source": [
    "%%time\n",
    "clf.fit(X_train, y_train, cat_columns=cat_cols, n_trials_per_estimator=100)"
   ]
  },
  {
   "cell_type": "code",
   "execution_count": 81,
   "metadata": {},
   "outputs": [
    {
     "ename": "AttributeError",
     "evalue": "'HyPSTERClassifier' object has no attribute 'study'",
     "output_type": "error",
     "traceback": [
      "\u001b[1;31m---------------------------------------------------------------------------\u001b[0m",
      "\u001b[1;31mAttributeError\u001b[0m                            Traceback (most recent call last)",
      "\u001b[1;32m<ipython-input-81-4e4d4ea7529d>\u001b[0m in \u001b[0;36m<module>\u001b[1;34m\u001b[0m\n\u001b[1;32m----> 1\u001b[1;33m \u001b[0mclf\u001b[0m\u001b[1;33m.\u001b[0m\u001b[0mstudy\u001b[0m\u001b[1;33m\u001b[0m\u001b[1;33m\u001b[0m\u001b[0m\n\u001b[0m",
      "\u001b[1;31mAttributeError\u001b[0m: 'HyPSTERClassifier' object has no attribute 'study'"
     ]
    },
    {
     "name": "stdout",
     "output_type": "stream",
     "text": [
      "Score: 0.87836\n"
     ]
    },
    {
     "name": "stderr",
     "output_type": "stream",
     "text": [
      "[W 2019-08-24 16:49:58,353] Setting status of trial#8 as TrialState.FAIL because of the following error: ValueError('No trials are completed yet.')\n",
      "Traceback (most recent call last):\n",
      "  File \"C:\\Users\\user\\Anaconda3\\lib\\site-packages\\optuna\\study.py\", line 469, in _run_trial\n",
      "    result = func(trial)\n",
      "  File \"c:\\python_workspace\\HyPSTER\\hypster.py\", line 251, in __call__\n",
      "    condition = best_score > trial.study.best_value\n",
      "  File \"C:\\Users\\user\\Anaconda3\\lib\\site-packages\\optuna\\study.py\", line 183, in best_value\n",
      "    best_value = self.best_trial.value\n",
      "  File \"C:\\Users\\user\\Anaconda3\\lib\\site-packages\\optuna\\study.py\", line 198, in best_trial\n",
      "    return self.storage.get_best_trial(self.study_id)\n",
      "  File \"C:\\Users\\user\\Anaconda3\\lib\\site-packages\\optuna\\storages\\base.py\", line 181, in get_best_trial\n",
      "    raise ValueError('No trials are completed yet.')\n",
      "ValueError: No trials are completed yet.\n"
     ]
    },
    {
     "name": "stdout",
     "output_type": "stream",
     "text": [
      "Score: 0.86393\n"
     ]
    },
    {
     "name": "stderr",
     "output_type": "stream",
     "text": [
      "[W 2019-08-24 16:50:15,982] Setting status of trial#13 as TrialState.FAIL because of the following error: ValueError('No trials are completed yet.')\n",
      "Traceback (most recent call last):\n",
      "  File \"C:\\Users\\user\\Anaconda3\\lib\\site-packages\\optuna\\study.py\", line 469, in _run_trial\n",
      "    result = func(trial)\n",
      "  File \"c:\\python_workspace\\HyPSTER\\hypster.py\", line 251, in __call__\n",
      "    condition = best_score > trial.study.best_value\n",
      "  File \"C:\\Users\\user\\Anaconda3\\lib\\site-packages\\optuna\\study.py\", line 183, in best_value\n",
      "    best_value = self.best_trial.value\n",
      "  File \"C:\\Users\\user\\Anaconda3\\lib\\site-packages\\optuna\\study.py\", line 198, in best_trial\n",
      "    return self.storage.get_best_trial(self.study_id)\n",
      "  File \"C:\\Users\\user\\Anaconda3\\lib\\site-packages\\optuna\\storages\\base.py\", line 181, in get_best_trial\n",
      "    raise ValueError('No trials are completed yet.')\n",
      "ValueError: No trials are completed yet.\n"
     ]
    },
    {
     "name": "stdout",
     "output_type": "stream",
     "text": [
      "Score: 0.88799\n"
     ]
    },
    {
     "name": "stderr",
     "output_type": "stream",
     "text": [
      "[W 2019-08-24 16:50:20,014] Setting status of trial#12 as TrialState.FAIL because of the following error: ValueError('No trials are completed yet.')\n",
      "Traceback (most recent call last):\n",
      "  File \"C:\\Users\\user\\Anaconda3\\lib\\site-packages\\optuna\\study.py\", line 469, in _run_trial\n",
      "    result = func(trial)\n",
      "  File \"c:\\python_workspace\\HyPSTER\\hypster.py\", line 251, in __call__\n",
      "    condition = best_score > trial.study.best_value\n",
      "  File \"C:\\Users\\user\\Anaconda3\\lib\\site-packages\\optuna\\study.py\", line 183, in best_value\n",
      "    best_value = self.best_trial.value\n",
      "  File \"C:\\Users\\user\\Anaconda3\\lib\\site-packages\\optuna\\study.py\", line 198, in best_trial\n",
      "    return self.storage.get_best_trial(self.study_id)\n",
      "  File \"C:\\Users\\user\\Anaconda3\\lib\\site-packages\\optuna\\storages\\base.py\", line 181, in get_best_trial\n",
      "    raise ValueError('No trials are completed yet.')\n",
      "ValueError: No trials are completed yet.\n"
     ]
    },
    {
     "name": "stdout",
     "output_type": "stream",
     "text": [
      "Score: 0.88238\n"
     ]
    },
    {
     "name": "stderr",
     "output_type": "stream",
     "text": [
      "[W 2019-08-24 16:50:25,061] Setting status of trial#11 as TrialState.FAIL because of the following error: ValueError('No trials are completed yet.')\n",
      "Traceback (most recent call last):\n",
      "  File \"C:\\Users\\user\\Anaconda3\\lib\\site-packages\\optuna\\study.py\", line 469, in _run_trial\n",
      "    result = func(trial)\n",
      "  File \"c:\\python_workspace\\HyPSTER\\hypster.py\", line 251, in __call__\n",
      "    condition = best_score > trial.study.best_value\n",
      "  File \"C:\\Users\\user\\Anaconda3\\lib\\site-packages\\optuna\\study.py\", line 183, in best_value\n",
      "    best_value = self.best_trial.value\n",
      "  File \"C:\\Users\\user\\Anaconda3\\lib\\site-packages\\optuna\\study.py\", line 198, in best_trial\n",
      "    return self.storage.get_best_trial(self.study_id)\n",
      "  File \"C:\\Users\\user\\Anaconda3\\lib\\site-packages\\optuna\\storages\\base.py\", line 181, in get_best_trial\n",
      "    raise ValueError('No trials are completed yet.')\n",
      "ValueError: No trials are completed yet.\n"
     ]
    },
    {
     "name": "stdout",
     "output_type": "stream",
     "text": [
      "Score: 0.92298\n"
     ]
    },
    {
     "name": "stderr",
     "output_type": "stream",
     "text": [
      "[W 2019-08-24 16:51:22,274] Setting status of trial#17 as TrialState.FAIL because of the following error: ValueError('No trials are completed yet.')\n",
      "Traceback (most recent call last):\n",
      "  File \"C:\\Users\\user\\Anaconda3\\lib\\site-packages\\optuna\\study.py\", line 469, in _run_trial\n",
      "    result = func(trial)\n",
      "  File \"c:\\python_workspace\\HyPSTER\\hypster.py\", line 251, in __call__\n",
      "  File \"C:\\Users\\user\\Anaconda3\\lib\\site-packages\\optuna\\study.py\", line 183, in best_value\n",
      "    best_value = self.best_trial.value\n",
      "  File \"C:\\Users\\user\\Anaconda3\\lib\\site-packages\\optuna\\study.py\", line 198, in best_trial\n",
      "    return self.storage.get_best_trial(self.study_id)\n",
      "  File \"C:\\Users\\user\\Anaconda3\\lib\\site-packages\\optuna\\storages\\base.py\", line 181, in get_best_trial\n",
      "    raise ValueError('No trials are completed yet.')\n",
      "ValueError: No trials are completed yet.\n"
     ]
    },
    {
     "name": "stdout",
     "output_type": "stream",
     "text": [
      "Score: 0.90179\n"
     ]
    },
    {
     "name": "stderr",
     "output_type": "stream",
     "text": [
      "[W 2019-08-24 16:51:30,685] Setting status of trial#23 as TrialState.FAIL because of the following error: ValueError('No trials are completed yet.')\n",
      "Traceback (most recent call last):\n",
      "  File \"C:\\Users\\user\\Anaconda3\\lib\\site-packages\\optuna\\study.py\", line 469, in _run_trial\n",
      "    result = func(trial)\n",
      "  File \"c:\\python_workspace\\HyPSTER\\hypster.py\", line 251, in __call__\n",
      "  File \"C:\\Users\\user\\Anaconda3\\lib\\site-packages\\optuna\\study.py\", line 183, in best_value\n",
      "    best_value = self.best_trial.value\n",
      "  File \"C:\\Users\\user\\Anaconda3\\lib\\site-packages\\optuna\\study.py\", line 198, in best_trial\n",
      "    return self.storage.get_best_trial(self.study_id)\n",
      "  File \"C:\\Users\\user\\Anaconda3\\lib\\site-packages\\optuna\\storages\\base.py\", line 181, in get_best_trial\n",
      "    raise ValueError('No trials are completed yet.')\n",
      "ValueError: No trials are completed yet.\n"
     ]
    },
    {
     "name": "stdout",
     "output_type": "stream",
     "text": [
      "Score: 0.92738\n"
     ]
    },
    {
     "name": "stderr",
     "output_type": "stream",
     "text": [
      "[W 2019-08-24 16:51:33,986] Setting status of trial#21 as TrialState.FAIL because of the following error: ValueError('No trials are completed yet.')\n",
      "Traceback (most recent call last):\n",
      "  File \"C:\\Users\\user\\Anaconda3\\lib\\site-packages\\optuna\\study.py\", line 469, in _run_trial\n",
      "    result = func(trial)\n",
      "  File \"c:\\python_workspace\\HyPSTER\\hypster.py\", line 251, in __call__\n",
      "  File \"C:\\Users\\user\\Anaconda3\\lib\\site-packages\\optuna\\study.py\", line 183, in best_value\n",
      "    best_value = self.best_trial.value\n",
      "  File \"C:\\Users\\user\\Anaconda3\\lib\\site-packages\\optuna\\study.py\", line 198, in best_trial\n",
      "    return self.storage.get_best_trial(self.study_id)\n",
      "  File \"C:\\Users\\user\\Anaconda3\\lib\\site-packages\\optuna\\storages\\base.py\", line 181, in get_best_trial\n",
      "    raise ValueError('No trials are completed yet.')\n",
      "ValueError: No trials are completed yet.\n"
     ]
    },
    {
     "name": "stdout",
     "output_type": "stream",
     "text": [
      "Score: 0.922\n"
     ]
    },
    {
     "name": "stderr",
     "output_type": "stream",
     "text": [
      "[W 2019-08-24 16:51:45,875] Setting status of trial#19 as TrialState.FAIL because of the following error: ValueError('No trials are completed yet.')\n",
      "Traceback (most recent call last):\n",
      "  File \"C:\\Users\\user\\Anaconda3\\lib\\site-packages\\optuna\\study.py\", line 469, in _run_trial\n",
      "    result = func(trial)\n",
      "  File \"c:\\python_workspace\\HyPSTER\\hypster.py\", line 251, in __call__\n",
      "  File \"C:\\Users\\user\\Anaconda3\\lib\\site-packages\\optuna\\study.py\", line 183, in best_value\n",
      "    best_value = self.best_trial.value\n",
      "  File \"C:\\Users\\user\\Anaconda3\\lib\\site-packages\\optuna\\study.py\", line 198, in best_trial\n",
      "    return self.storage.get_best_trial(self.study_id)\n",
      "  File \"C:\\Users\\user\\Anaconda3\\lib\\site-packages\\optuna\\storages\\base.py\", line 181, in get_best_trial\n",
      "    raise ValueError('No trials are completed yet.')\n",
      "ValueError: No trials are completed yet.\n"
     ]
    }
   ],
   "source": [
    "clf.study"
   ]
  },
  {
   "cell_type": "code",
   "execution_count": 1239,
   "metadata": {
    "scrolled": true
   },
   "outputs": [
    {
     "data": {
      "text/plain": [
       "0.8815550458780482"
      ]
     },
     "execution_count": 1239,
     "metadata": {},
     "output_type": "execute_result"
    }
   ],
   "source": [
    "clf.best_score_"
   ]
  },
  {
   "cell_type": "code",
   "execution_count": 1240,
   "metadata": {},
   "outputs": [
    {
     "data": {
      "text/html": [
       "        <script type=\"text/javascript\">\n",
       "        window.PlotlyConfig = {MathJaxConfig: 'local'};\n",
       "        if (window.MathJax) {MathJax.Hub.Config({SVG: {font: \"STIX-Web\"}});}\n",
       "        if (typeof require !== 'undefined') {\n",
       "        require.undef(\"plotly\");\n",
       "        requirejs.config({\n",
       "            paths: {\n",
       "                'plotly': ['https://cdn.plot.ly/plotly-latest.min']\n",
       "            }\n",
       "        });\n",
       "        require(['plotly'], function(Plotly) {\n",
       "            window._Plotly = Plotly;\n",
       "        });\n",
       "        }\n",
       "        </script>\n",
       "        "
      ]
     },
     "metadata": {},
     "output_type": "display_data"
    },
    {
     "data": {
      "application/vnd.plotly.v1+json": {
       "config": {
        "linkText": "Export to plot.ly",
        "plotlyServerURL": "https://plot.ly",
        "showLink": false
       },
       "data": [
        {
         "type": "scatter",
         "x": [
          0,
          1,
          2,
          3,
          4,
          5,
          6,
          7,
          8,
          9,
          10,
          11,
          12,
          13,
          14
         ],
         "y": [
          0.8779562857484081,
          0.8783926490667907,
          0.8788611201876101,
          0.8790186655495013,
          0.8794508532069583,
          0.8794567999975086,
          0.8796542121991076,
          0.879703179183374,
          0.8797708888914872,
          0.8799128427692008,
          0.8799454111630617,
          0.8800272741009678,
          0.8800272741009678,
          0.8800272741009678,
          0.8800272741009678
         ]
        },
        {
         "type": "scatter",
         "x": [
          0,
          1,
          2,
          3,
          4,
          5,
          6,
          7,
          8,
          9
         ],
         "y": [
          0.8707348344096889,
          0.8718158699446538,
          0.8728898124090003,
          0.873726758949228,
          0.8745620825057476,
          0.8747702455766975,
          0.8756323894341147,
          0.8759837783268769,
          0.876687931813129,
          0.8771539905168124
         ]
        },
        {
         "type": "scatter",
         "x": [
          0,
          1,
          2,
          3,
          4,
          5,
          6,
          7,
          8,
          9,
          10,
          11,
          12,
          13,
          14,
          15,
          16,
          17,
          18,
          19,
          20,
          21,
          22,
          23,
          24,
          25,
          26,
          27,
          28,
          29,
          30,
          31,
          32,
          33,
          34,
          35,
          36,
          37,
          38,
          39,
          40,
          41,
          42,
          43,
          44,
          45,
          46,
          47,
          48,
          49
         ],
         "y": [
          0.8034005294742649,
          0.8362689268538107,
          0.8436684819097083,
          0.8516314058069394,
          0.8555424252693505,
          0.8566489711977606,
          0.8600038009110994,
          0.862283910767147,
          0.8641900934885333,
          0.865371159691468,
          0.867747728864817,
          0.8686446940782623,
          0.8693527398032425,
          0.8703156090402328,
          0.8707833223834939,
          0.8716102649907561,
          0.8723917481966464,
          0.8732026706951089,
          0.8732306002366341,
          0.8735220199151437,
          0.873710702861119,
          0.8739439523885665,
          0.8742249422131189,
          0.8746395024372112,
          0.8748088768839596,
          0.8749051094901543,
          0.875346841276848,
          0.8754929138201151,
          0.8756848181846607,
          0.8758590422691954,
          0.8759976198455549,
          0.8761234050302856,
          0.8762034874809851,
          0.8763387666845102,
          0.8766336174447229,
          0.8767510037527275,
          0.8769091976542557,
          0.8769463077237435,
          0.8771332698134054,
          0.8771818993768976,
          0.8773131910868436,
          0.8774994250885402,
          0.8775639611965099,
          0.8777040881218858,
          0.8777704687780004,
          0.8778005872089093,
          0.8779480126334347,
          0.8781062712177657,
          0.8782147357734384,
          0.8782716341106971
         ]
        },
        {
         "type": "scatter",
         "x": [
          0,
          1,
          2,
          3,
          4,
          5,
          6,
          7,
          8,
          9,
          10,
          11
         ],
         "y": [
          0.8645001630257746,
          0.8681540930288832,
          0.8713500530545032,
          0.8731615725753251,
          0.8753306338120875,
          0.8761269512635463,
          0.8775115289279869,
          0.8776349989107869,
          0.8784880854020077,
          0.8784880854020077,
          0.8784880854020077,
          0.8784880854020077
         ]
        },
        {
         "type": "scatter",
         "x": [
          0,
          1,
          2,
          3,
          4,
          5,
          6,
          7,
          8,
          9
         ],
         "y": [
          0.8755869822279122,
          0.8755869822279122,
          0.8765741711860304,
          0.8769856110682411,
          0.8773170633459498,
          0.8774865814197325,
          0.8775526289074419,
          0.8775526289074419,
          0.8775894812229339,
          0.8776050515163347
         ]
        },
        {
         "type": "scatter",
         "x": [
          0,
          1,
          2,
          3,
          4,
          5,
          6,
          7,
          8,
          9,
          10,
          11,
          12,
          13,
          14,
          15,
          16
         ],
         "y": [
          0.877706514480634,
          0.8793714810115162,
          0.8804474189327799,
          0.8810437064317335,
          0.8813326017752452,
          0.8814752907443039,
          0.8814752907443039,
          0.881491957222137,
          0.8815066277129872,
          0.8815126368351,
          0.8815260242623199,
          0.8815525449932688,
          0.8815525449932688,
          0.8815550458780482,
          0.8815550458780482,
          0.8815550458780482,
          0.8815550458780482
         ]
        },
        {
         "type": "scatter",
         "x": [
          0,
          1,
          2,
          3
         ],
         "y": [
          0.8721411762130437,
          0.8752424536833038,
          0.8769105673643547,
          0.8769105673643547
         ]
        },
        {
         "type": "scatter",
         "x": [
          0,
          1,
          2,
          3
         ],
         "y": [
          0.7925720553382574,
          0.8612436459254442,
          0.8626645792369217,
          0.8655204173689862
         ]
        },
        {
         "type": "scatter",
         "x": [
          0,
          1,
          2,
          3
         ],
         "y": [
          0.876688200239506,
          0.876688200239506,
          0.876688200239506,
          0.876688200239506
         ]
        },
        {
         "type": "scatter",
         "x": [
          0,
          1,
          2,
          3
         ],
         "y": [
          0.768779214843868,
          0.768779214843868,
          0.8103983144056842,
          0.8344244956609813
         ]
        },
        {
         "type": "scatter",
         "x": [
          0,
          1,
          2,
          3
         ],
         "y": [
          0.8435122702697228,
          0.8475969938608644,
          0.8518031318110076,
          0.8518031318110076
         ]
        },
        {
         "type": "scatter",
         "x": [
          0,
          1,
          2,
          3,
          4,
          5,
          6,
          7,
          8,
          9
         ],
         "y": [
          0.8792070806554292,
          0.8793163734755328,
          0.8793268660252873,
          0.8793268660252873,
          0.87933274929681,
          0.87933274929681,
          0.8793341959907858,
          0.8793405255893428,
          0.8793405255893428,
          0.8793405255893428
         ]
        },
        {
         "type": "scatter",
         "x": [
          0,
          1,
          2,
          3
         ],
         "y": [
          0.8692408858159889,
          0.8726594089752204,
          0.8739352108614812,
          0.8739352108614812
         ]
        },
        {
         "type": "scatter",
         "x": [
          0,
          1,
          2,
          3
         ],
         "y": [
          0.8603004758992906,
          0.862877400515003,
          0.8678733214462339,
          0.867895414687743
         ]
        },
        {
         "type": "scatter",
         "x": [
          0,
          1,
          2,
          3
         ],
         "y": [
          0.8368585993390814,
          0.8446349791285038,
          0.8535032170558052,
          0.8561321747740332
         ]
        },
        {
         "type": "scatter",
         "x": [
          0,
          1,
          2,
          3,
          4,
          5,
          6,
          7,
          8,
          9,
          10,
          11,
          12,
          13,
          14,
          15,
          16,
          17,
          18,
          19,
          20,
          21,
          22,
          23,
          24,
          25,
          26,
          27,
          28,
          29,
          30,
          31,
          32,
          33,
          34,
          35
         ],
         "y": [
          0.876409506996481,
          0.8774288025666097,
          0.8782883380869659,
          0.8787960382631524,
          0.8791821797159498,
          0.8793078702824998,
          0.8795250198241198,
          0.8796667725789745,
          0.8798118146807434,
          0.8799508332035283,
          0.8800926816929585,
          0.8801968462621649,
          0.8802511039994343,
          0.8802614046299263,
          0.8803773714549736,
          0.8804494569578102,
          0.8805012844422745,
          0.8805778165790968,
          0.8806108037395454,
          0.8806137260826977,
          0.8807121399974503,
          0.8807412047439312,
          0.8807656701945877,
          0.8808179350097786,
          0.8808988041280892,
          0.8809796777060575,
          0.8809864714791632,
          0.8809864714791632,
          0.8809864714791632,
          0.8809881748670035,
          0.8809881748670035,
          0.8809884459792432,
          0.8809892663252646,
          0.8809894129105974,
          0.8809892663252646,
          0.8809892663252646
         ]
        },
        {
         "type": "scatter",
         "x": [
          0,
          1,
          2,
          3
         ],
         "y": [
          0.8669848911320326,
          0.8691000425203538,
          0.8700626842378133,
          0.8704484904878201
         ]
        },
        {
         "type": "scatter",
         "x": [
          0,
          1,
          2,
          3
         ],
         "y": [
          0.8701132600539263,
          0.8722307700977078,
          0.8732880093616355,
          0.8743463549996914
         ]
        },
        {
         "type": "scatter",
         "x": [
          0,
          1,
          2,
          3
         ],
         "y": [
          0.8580300663967139,
          0.8642891818124907,
          0.8672108529067434,
          0.8672108529067434
         ]
        },
        {
         "type": "scatter",
         "x": [
          0,
          1,
          2,
          3,
          4,
          5,
          6,
          7,
          8,
          9,
          10,
          11,
          12,
          13,
          14,
          15,
          16,
          17,
          18
         ],
         "y": [
          0.8668330917161913,
          0.8756095381485337,
          0.8774949301741709,
          0.8786313724389876,
          0.8790025536357181,
          0.8792196462115788,
          0.8795101554358852,
          0.8797266141451523,
          0.8798523382302047,
          0.8798914697623953,
          0.8800168714846804,
          0.8801141853949757,
          0.8801141853949757,
          0.8801141853949757,
          0.8801207330962567,
          0.8801252840643171,
          0.8801252840643171,
          0.8801252840643171,
          0.8801252840643171
         ]
        },
        {
         "type": "scatter",
         "x": [
          0,
          1,
          2,
          3,
          4,
          5,
          6,
          7,
          8,
          9
         ],
         "y": [
          0.6228410551796656,
          0.8761711722067478,
          0.8786377157629849,
          0.8787071353677879,
          0.8789014384743709,
          0.8789699022318157,
          0.8793059011511843,
          0.8793309407931221,
          0.8793326235024838,
          0.8796057867226953
         ]
        },
        {
         "type": "scatter",
         "x": [
          0,
          1,
          2,
          3,
          4,
          5,
          6,
          7
         ],
         "y": [
          0.8770989507877616,
          0.8782856553156728,
          0.8791197511722797,
          0.8793415653143913,
          0.8796449737192864,
          0.8796449737192864,
          0.8796449737192864,
          0.8796449737192864
         ]
        },
        {
         "type": "scatter",
         "x": [
          0,
          1,
          2,
          3
         ],
         "y": [
          0.8127934576235858,
          0.8527967748886672,
          0.8587634682986391,
          0.8607273257019425
         ]
        },
        {
         "type": "scatter",
         "x": [
          0,
          1,
          2,
          3
         ],
         "y": [
          0.869080271075501,
          0.869080271075501,
          0.869080271075501,
          0.8694266259357762
         ]
        },
        {
         "type": "scatter",
         "x": [
          0,
          1,
          2,
          3
         ],
         "y": [
          0.8215163679895735,
          0.861924960554524,
          0.8699789166974089,
          0.8723033569981316
         ]
        },
        {
         "type": "scatter",
         "x": [
          0,
          1,
          2,
          3
         ],
         "y": [
          0.8345948971200888,
          0.8438832739951784,
          0.8512585099606965,
          0.8512585099606965
         ]
        },
        {
         "type": "scatter",
         "x": [
          0,
          1,
          2,
          3,
          4,
          5,
          6,
          7,
          8,
          9
         ],
         "y": [
          0.8673333414539375,
          0.8745445625779671,
          0.877415920614632,
          0.8787586226093972,
          0.8790609468614595,
          0.8793550110754728,
          0.8795020534225163,
          0.8795020534225163,
          0.8795020534225163,
          0.879543634737022
         ]
        },
        {
         "type": "scatter",
         "x": [
          0,
          1,
          2,
          3,
          4,
          5,
          6,
          7
         ],
         "y": [
          0.8773072920347662,
          0.8773072920347662,
          0.8773759565893314,
          0.8774270302732097,
          0.8774609230491621,
          0.8774609230491621,
          0.8774609230491621,
          0.8774609230491621
         ]
        },
        {
         "type": "scatter",
         "x": [
          0,
          1,
          2,
          3,
          4,
          5,
          6,
          7,
          8,
          9
         ],
         "y": [
          0.8773750518562827,
          0.8776202323211262,
          0.8776202323211262,
          0.8776622388370373,
          0.8776732329205972,
          0.8776732329205972,
          0.8776784785854548,
          0.8776804898081204,
          0.8776804898081204,
          0.8776804898081204
         ]
        },
        {
         "type": "scatter",
         "x": [
          0,
          1,
          2,
          3,
          4,
          5,
          6,
          7,
          8,
          9
         ],
         "y": [
          0.8776594528687934,
          0.8776594528687934,
          0.8776594528687934,
          0.8776635713004074,
          0.8776896398084532,
          0.8776925629629907,
          0.8776937566380255,
          0.8777132098125726,
          0.8777208873707737,
          0.8777208873707737
         ]
        },
        {
         "type": "scatter",
         "x": [
          0,
          1,
          2,
          3,
          4,
          5,
          6,
          7,
          8,
          9
         ],
         "y": [
          0.8774632023843111,
          0.8776553474756073,
          0.8778604252926453,
          0.8778727428225385,
          0.8779873611874892,
          0.8779873611874892,
          0.8780069774652773,
          0.8780309118968624,
          0.8780528163876573,
          0.8780571576155926
         ]
        },
        {
         "type": "scatter",
         "x": [
          0,
          1,
          2,
          3,
          4,
          5,
          6,
          7,
          8,
          9,
          10
         ],
         "y": [
          0.8782042541448108,
          0.8795562695659275,
          0.8802797898082751,
          0.8804113093279552,
          0.8804113093279552,
          0.8804113093279552,
          0.8804124858780233,
          0.8804235246884548,
          0.8804235246884548,
          0.8804235246884548,
          0.8804235246884548
         ]
        },
        {
         "type": "scatter",
         "x": [
          0,
          1,
          2,
          3
         ],
         "y": [
          0.87529279171912,
          0.8757184066585711,
          0.8757184066585711,
          0.8757184066585711
         ]
        },
        {
         "type": "scatter",
         "x": [
          0,
          1,
          2,
          3,
          4,
          5,
          6,
          7
         ],
         "y": [
          0.8783862576874655,
          0.8793981658436509,
          0.8798996518452741,
          0.8802180066771514,
          0.8802841954850736,
          0.8802841954850736,
          0.8802841954850736,
          0.8802841954850736
         ]
        },
        {
         "type": "scatter",
         "x": [
          0,
          1,
          2,
          3,
          4,
          5,
          6,
          7,
          8,
          9,
          10,
          11,
          12,
          13,
          14,
          15,
          16,
          17,
          18,
          19,
          20
         ],
         "y": [
          0.8759127682056208,
          0.878475801982869,
          0.8798083157269604,
          0.880227284905966,
          0.880420714387537,
          0.8805827454661239,
          0.8807387263469604,
          0.880882924039509,
          0.880882924039509,
          0.880896274753027,
          0.8809085106853999,
          0.8809210928956759,
          0.8809305557412858,
          0.8809332918271046,
          0.8809523843675598,
          0.8809639139268873,
          0.8809680787732912,
          0.8809917346894865,
          0.8809917346894865,
          0.8809917346894865,
          0.8809921372609427
         ]
        },
        {
         "type": "scatter",
         "x": [
          0,
          1,
          2,
          3
         ],
         "y": [
          0.8760300131401104,
          0.8760300131401104,
          0.8763961585838619,
          0.8765845029956291
         ]
        },
        {
         "type": "scatter",
         "x": [
          0,
          1,
          2,
          3,
          4,
          5,
          6,
          7,
          8,
          9,
          10,
          11,
          12,
          13,
          14,
          15,
          16,
          17
         ],
         "y": [
          0.8780771071772748,
          0.8792320116013563,
          0.8798349284879486,
          0.8801088890333463,
          0.8802627415440701,
          0.8804477336140385,
          0.8806588646552349,
          0.880681040640272,
          0.880681040640272,
          0.880682555265553,
          0.8807041821382198,
          0.8807350921731604,
          0.8807350921731604,
          0.8807388992786237,
          0.8807470484322909,
          0.8807470484322909,
          0.8807470484322909,
          0.8807470484322909
         ]
        },
        {
         "type": "scatter",
         "x": [
          0,
          1,
          2,
          3,
          4,
          5,
          6,
          7,
          8,
          9,
          10,
          11,
          12,
          13,
          14,
          15,
          16,
          17,
          18,
          19,
          20,
          21,
          22,
          23,
          24,
          25,
          26,
          27
         ],
         "y": [
          0.8756426697681303,
          0.8770457586154955,
          0.8782646264872369,
          0.8789387266162692,
          0.8792465688180878,
          0.8796246464577706,
          0.8798017721655209,
          0.8798458727542308,
          0.8800597785582637,
          0.8802235582608993,
          0.8803993436697853,
          0.8804966492174824,
          0.880497687716569,
          0.8805528489076228,
          0.8806155562805763,
          0.8806557090625139,
          0.8806899266028153,
          0.8807370559682856,
          0.880797531868936,
          0.8808499418214035,
          0.8808596113718474,
          0.8808641619756732,
          0.8808757645093315,
          0.8809042676113897,
          0.8809249227080809,
          0.8809266591939245,
          0.8809266591939245,
          0.8809285966693704
         ]
        }
       ],
       "layout": {
        "autosize": true,
        "showlegend": false,
        "template": {
         "data": {
          "bar": [
           {
            "error_x": {
             "color": "#2a3f5f"
            },
            "error_y": {
             "color": "#2a3f5f"
            },
            "marker": {
             "line": {
              "color": "#E5ECF6",
              "width": 0.5
             }
            },
            "type": "bar"
           }
          ],
          "barpolar": [
           {
            "marker": {
             "line": {
              "color": "#E5ECF6",
              "width": 0.5
             }
            },
            "type": "barpolar"
           }
          ],
          "carpet": [
           {
            "aaxis": {
             "endlinecolor": "#2a3f5f",
             "gridcolor": "white",
             "linecolor": "white",
             "minorgridcolor": "white",
             "startlinecolor": "#2a3f5f"
            },
            "baxis": {
             "endlinecolor": "#2a3f5f",
             "gridcolor": "white",
             "linecolor": "white",
             "minorgridcolor": "white",
             "startlinecolor": "#2a3f5f"
            },
            "type": "carpet"
           }
          ],
          "choropleth": [
           {
            "colorbar": {
             "outlinewidth": 0,
             "ticks": ""
            },
            "type": "choropleth"
           }
          ],
          "contour": [
           {
            "colorbar": {
             "outlinewidth": 0,
             "ticks": ""
            },
            "colorscale": [
             [
              0,
              "#0d0887"
             ],
             [
              0.1111111111111111,
              "#46039f"
             ],
             [
              0.2222222222222222,
              "#7201a8"
             ],
             [
              0.3333333333333333,
              "#9c179e"
             ],
             [
              0.4444444444444444,
              "#bd3786"
             ],
             [
              0.5555555555555556,
              "#d8576b"
             ],
             [
              0.6666666666666666,
              "#ed7953"
             ],
             [
              0.7777777777777778,
              "#fb9f3a"
             ],
             [
              0.8888888888888888,
              "#fdca26"
             ],
             [
              1,
              "#f0f921"
             ]
            ],
            "type": "contour"
           }
          ],
          "contourcarpet": [
           {
            "colorbar": {
             "outlinewidth": 0,
             "ticks": ""
            },
            "type": "contourcarpet"
           }
          ],
          "heatmap": [
           {
            "colorbar": {
             "outlinewidth": 0,
             "ticks": ""
            },
            "colorscale": [
             [
              0,
              "#0d0887"
             ],
             [
              0.1111111111111111,
              "#46039f"
             ],
             [
              0.2222222222222222,
              "#7201a8"
             ],
             [
              0.3333333333333333,
              "#9c179e"
             ],
             [
              0.4444444444444444,
              "#bd3786"
             ],
             [
              0.5555555555555556,
              "#d8576b"
             ],
             [
              0.6666666666666666,
              "#ed7953"
             ],
             [
              0.7777777777777778,
              "#fb9f3a"
             ],
             [
              0.8888888888888888,
              "#fdca26"
             ],
             [
              1,
              "#f0f921"
             ]
            ],
            "type": "heatmap"
           }
          ],
          "heatmapgl": [
           {
            "colorbar": {
             "outlinewidth": 0,
             "ticks": ""
            },
            "colorscale": [
             [
              0,
              "#0d0887"
             ],
             [
              0.1111111111111111,
              "#46039f"
             ],
             [
              0.2222222222222222,
              "#7201a8"
             ],
             [
              0.3333333333333333,
              "#9c179e"
             ],
             [
              0.4444444444444444,
              "#bd3786"
             ],
             [
              0.5555555555555556,
              "#d8576b"
             ],
             [
              0.6666666666666666,
              "#ed7953"
             ],
             [
              0.7777777777777778,
              "#fb9f3a"
             ],
             [
              0.8888888888888888,
              "#fdca26"
             ],
             [
              1,
              "#f0f921"
             ]
            ],
            "type": "heatmapgl"
           }
          ],
          "histogram": [
           {
            "marker": {
             "colorbar": {
              "outlinewidth": 0,
              "ticks": ""
             }
            },
            "type": "histogram"
           }
          ],
          "histogram2d": [
           {
            "colorbar": {
             "outlinewidth": 0,
             "ticks": ""
            },
            "colorscale": [
             [
              0,
              "#0d0887"
             ],
             [
              0.1111111111111111,
              "#46039f"
             ],
             [
              0.2222222222222222,
              "#7201a8"
             ],
             [
              0.3333333333333333,
              "#9c179e"
             ],
             [
              0.4444444444444444,
              "#bd3786"
             ],
             [
              0.5555555555555556,
              "#d8576b"
             ],
             [
              0.6666666666666666,
              "#ed7953"
             ],
             [
              0.7777777777777778,
              "#fb9f3a"
             ],
             [
              0.8888888888888888,
              "#fdca26"
             ],
             [
              1,
              "#f0f921"
             ]
            ],
            "type": "histogram2d"
           }
          ],
          "histogram2dcontour": [
           {
            "colorbar": {
             "outlinewidth": 0,
             "ticks": ""
            },
            "colorscale": [
             [
              0,
              "#0d0887"
             ],
             [
              0.1111111111111111,
              "#46039f"
             ],
             [
              0.2222222222222222,
              "#7201a8"
             ],
             [
              0.3333333333333333,
              "#9c179e"
             ],
             [
              0.4444444444444444,
              "#bd3786"
             ],
             [
              0.5555555555555556,
              "#d8576b"
             ],
             [
              0.6666666666666666,
              "#ed7953"
             ],
             [
              0.7777777777777778,
              "#fb9f3a"
             ],
             [
              0.8888888888888888,
              "#fdca26"
             ],
             [
              1,
              "#f0f921"
             ]
            ],
            "type": "histogram2dcontour"
           }
          ],
          "mesh3d": [
           {
            "colorbar": {
             "outlinewidth": 0,
             "ticks": ""
            },
            "type": "mesh3d"
           }
          ],
          "parcoords": [
           {
            "line": {
             "colorbar": {
              "outlinewidth": 0,
              "ticks": ""
             }
            },
            "type": "parcoords"
           }
          ],
          "scatter": [
           {
            "marker": {
             "colorbar": {
              "outlinewidth": 0,
              "ticks": ""
             }
            },
            "type": "scatter"
           }
          ],
          "scatter3d": [
           {
            "line": {
             "colorbar": {
              "outlinewidth": 0,
              "ticks": ""
             }
            },
            "marker": {
             "colorbar": {
              "outlinewidth": 0,
              "ticks": ""
             }
            },
            "type": "scatter3d"
           }
          ],
          "scattercarpet": [
           {
            "marker": {
             "colorbar": {
              "outlinewidth": 0,
              "ticks": ""
             }
            },
            "type": "scattercarpet"
           }
          ],
          "scattergeo": [
           {
            "marker": {
             "colorbar": {
              "outlinewidth": 0,
              "ticks": ""
             }
            },
            "type": "scattergeo"
           }
          ],
          "scattergl": [
           {
            "marker": {
             "colorbar": {
              "outlinewidth": 0,
              "ticks": ""
             }
            },
            "type": "scattergl"
           }
          ],
          "scattermapbox": [
           {
            "marker": {
             "colorbar": {
              "outlinewidth": 0,
              "ticks": ""
             }
            },
            "type": "scattermapbox"
           }
          ],
          "scatterpolar": [
           {
            "marker": {
             "colorbar": {
              "outlinewidth": 0,
              "ticks": ""
             }
            },
            "type": "scatterpolar"
           }
          ],
          "scatterpolargl": [
           {
            "marker": {
             "colorbar": {
              "outlinewidth": 0,
              "ticks": ""
             }
            },
            "type": "scatterpolargl"
           }
          ],
          "scatterternary": [
           {
            "marker": {
             "colorbar": {
              "outlinewidth": 0,
              "ticks": ""
             }
            },
            "type": "scatterternary"
           }
          ],
          "surface": [
           {
            "colorbar": {
             "outlinewidth": 0,
             "ticks": ""
            },
            "colorscale": [
             [
              0,
              "#0d0887"
             ],
             [
              0.1111111111111111,
              "#46039f"
             ],
             [
              0.2222222222222222,
              "#7201a8"
             ],
             [
              0.3333333333333333,
              "#9c179e"
             ],
             [
              0.4444444444444444,
              "#bd3786"
             ],
             [
              0.5555555555555556,
              "#d8576b"
             ],
             [
              0.6666666666666666,
              "#ed7953"
             ],
             [
              0.7777777777777778,
              "#fb9f3a"
             ],
             [
              0.8888888888888888,
              "#fdca26"
             ],
             [
              1,
              "#f0f921"
             ]
            ],
            "type": "surface"
           }
          ],
          "table": [
           {
            "cells": {
             "fill": {
              "color": "#EBF0F8"
             },
             "line": {
              "color": "white"
             }
            },
            "header": {
             "fill": {
              "color": "#C8D4E3"
             },
             "line": {
              "color": "white"
             }
            },
            "type": "table"
           }
          ]
         },
         "layout": {
          "annotationdefaults": {
           "arrowcolor": "#2a3f5f",
           "arrowhead": 0,
           "arrowwidth": 1
          },
          "colorscale": {
           "diverging": [
            [
             0,
             "#8e0152"
            ],
            [
             0.1,
             "#c51b7d"
            ],
            [
             0.2,
             "#de77ae"
            ],
            [
             0.3,
             "#f1b6da"
            ],
            [
             0.4,
             "#fde0ef"
            ],
            [
             0.5,
             "#f7f7f7"
            ],
            [
             0.6,
             "#e6f5d0"
            ],
            [
             0.7,
             "#b8e186"
            ],
            [
             0.8,
             "#7fbc41"
            ],
            [
             0.9,
             "#4d9221"
            ],
            [
             1,
             "#276419"
            ]
           ],
           "sequential": [
            [
             0,
             "#0d0887"
            ],
            [
             0.1111111111111111,
             "#46039f"
            ],
            [
             0.2222222222222222,
             "#7201a8"
            ],
            [
             0.3333333333333333,
             "#9c179e"
            ],
            [
             0.4444444444444444,
             "#bd3786"
            ],
            [
             0.5555555555555556,
             "#d8576b"
            ],
            [
             0.6666666666666666,
             "#ed7953"
            ],
            [
             0.7777777777777778,
             "#fb9f3a"
            ],
            [
             0.8888888888888888,
             "#fdca26"
            ],
            [
             1,
             "#f0f921"
            ]
           ],
           "sequentialminus": [
            [
             0,
             "#0d0887"
            ],
            [
             0.1111111111111111,
             "#46039f"
            ],
            [
             0.2222222222222222,
             "#7201a8"
            ],
            [
             0.3333333333333333,
             "#9c179e"
            ],
            [
             0.4444444444444444,
             "#bd3786"
            ],
            [
             0.5555555555555556,
             "#d8576b"
            ],
            [
             0.6666666666666666,
             "#ed7953"
            ],
            [
             0.7777777777777778,
             "#fb9f3a"
            ],
            [
             0.8888888888888888,
             "#fdca26"
            ],
            [
             1,
             "#f0f921"
            ]
           ]
          },
          "colorway": [
           "#636efa",
           "#EF553B",
           "#00cc96",
           "#ab63fa",
           "#FFA15A",
           "#19d3f3",
           "#FF6692",
           "#B6E880",
           "#FF97FF",
           "#FECB52"
          ],
          "font": {
           "color": "#2a3f5f"
          },
          "geo": {
           "bgcolor": "white",
           "lakecolor": "white",
           "landcolor": "#E5ECF6",
           "showlakes": true,
           "showland": true,
           "subunitcolor": "white"
          },
          "hoverlabel": {
           "align": "left"
          },
          "hovermode": "closest",
          "mapbox": {
           "style": "light"
          },
          "paper_bgcolor": "white",
          "plot_bgcolor": "#E5ECF6",
          "polar": {
           "angularaxis": {
            "gridcolor": "white",
            "linecolor": "white",
            "ticks": ""
           },
           "bgcolor": "#E5ECF6",
           "radialaxis": {
            "gridcolor": "white",
            "linecolor": "white",
            "ticks": ""
           }
          },
          "scene": {
           "xaxis": {
            "backgroundcolor": "#E5ECF6",
            "gridcolor": "white",
            "gridwidth": 2,
            "linecolor": "white",
            "showbackground": true,
            "ticks": "",
            "zerolinecolor": "white"
           },
           "yaxis": {
            "backgroundcolor": "#E5ECF6",
            "gridcolor": "white",
            "gridwidth": 2,
            "linecolor": "white",
            "showbackground": true,
            "ticks": "",
            "zerolinecolor": "white"
           },
           "zaxis": {
            "backgroundcolor": "#E5ECF6",
            "gridcolor": "white",
            "gridwidth": 2,
            "linecolor": "white",
            "showbackground": true,
            "ticks": "",
            "zerolinecolor": "white"
           }
          },
          "shapedefaults": {
           "line": {
            "color": "#2a3f5f"
           }
          },
          "ternary": {
           "aaxis": {
            "gridcolor": "white",
            "linecolor": "white",
            "ticks": ""
           },
           "baxis": {
            "gridcolor": "white",
            "linecolor": "white",
            "ticks": ""
           },
           "bgcolor": "#E5ECF6",
           "caxis": {
            "gridcolor": "white",
            "linecolor": "white",
            "ticks": ""
           }
          },
          "title": {
           "x": 0.05
          },
          "xaxis": {
           "automargin": true,
           "gridcolor": "white",
           "linecolor": "white",
           "ticks": "",
           "zerolinecolor": "white",
           "zerolinewidth": 2
          },
          "yaxis": {
           "automargin": true,
           "gridcolor": "white",
           "linecolor": "white",
           "ticks": "",
           "zerolinecolor": "white",
           "zerolinewidth": 2
          }
         }
        },
        "xaxis": {
         "autorange": false,
         "range": [
          -0.008052390090691084,
          3.004901471478195
         ],
         "type": "linear"
        },
        "yaxis": {
         "autorange": false,
         "range": [
          0.8661890031877243,
          0.8801870863079434
         ],
         "type": "linear"
        }
       }
      },
      "image/png": "[encoded data removed]",
      "text/html": [
       "<div>\n",
       "        \n",
       "        \n",
       "            <div id=\"86ea50d6-b460-4f48-abd5-8fdf169a5c46\" class=\"plotly-graph-div\" style=\"height:525px; width:100%;\"></div>\n",
       "            <script type=\"text/javascript\">\n",
       "                require([\"plotly\"], function(Plotly) {\n",
       "                    window.PLOTLYENV=window.PLOTLYENV || {};\n",
       "                    \n",
       "                if (document.getElementById(\"86ea50d6-b460-4f48-abd5-8fdf169a5c46\")) {\n",
       "                    Plotly.newPlot(\n",
       "                        '86ea50d6-b460-4f48-abd5-8fdf169a5c46',\n",
       "                        [{\"type\": \"scatter\", \"x\": [0, 1, 2, 3, 4, 5, 6, 7, 8, 9, 10, 11, 12, 13, 14], \"y\": [0.8779562857484081, 0.8783926490667907, 0.8788611201876101, 0.8790186655495013, 0.8794508532069583, 0.8794567999975086, 0.8796542121991076, 0.879703179183374, 0.8797708888914872, 0.8799128427692008, 0.8799454111630617, 0.8800272741009678, 0.8800272741009678, 0.8800272741009678, 0.8800272741009678]}, {\"type\": \"scatter\", \"x\": [0, 1, 2, 3, 4, 5, 6, 7, 8, 9], \"y\": [0.8707348344096889, 0.8718158699446538, 0.8728898124090003, 0.873726758949228, 0.8745620825057476, 0.8747702455766975, 0.8756323894341147, 0.8759837783268769, 0.876687931813129, 0.8771539905168124]}, {\"type\": \"scatter\", \"x\": [0, 1, 2, 3, 4, 5, 6, 7, 8, 9, 10, 11, 12, 13, 14, 15, 16, 17, 18, 19, 20, 21, 22, 23, 24, 25, 26, 27, 28, 29, 30, 31, 32, 33, 34, 35, 36, 37, 38, 39, 40, 41, 42, 43, 44, 45, 46, 47, 48, 49], \"y\": [0.8034005294742649, 0.8362689268538107, 0.8436684819097083, 0.8516314058069394, 0.8555424252693505, 0.8566489711977606, 0.8600038009110994, 0.862283910767147, 0.8641900934885333, 0.865371159691468, 0.867747728864817, 0.8686446940782623, 0.8693527398032425, 0.8703156090402328, 0.8707833223834939, 0.8716102649907561, 0.8723917481966464, 0.8732026706951089, 0.8732306002366341, 0.8735220199151437, 0.873710702861119, 0.8739439523885665, 0.8742249422131189, 0.8746395024372112, 0.8748088768839596, 0.8749051094901543, 0.875346841276848, 0.8754929138201151, 0.8756848181846607, 0.8758590422691954, 0.8759976198455549, 0.8761234050302856, 0.8762034874809851, 0.8763387666845102, 0.8766336174447229, 0.8767510037527275, 0.8769091976542557, 0.8769463077237435, 0.8771332698134054, 0.8771818993768976, 0.8773131910868436, 0.8774994250885402, 0.8775639611965099, 0.8777040881218858, 0.8777704687780004, 0.8778005872089093, 0.8779480126334347, 0.8781062712177657, 0.8782147357734384, 0.8782716341106971]}, {\"type\": \"scatter\", \"x\": [0, 1, 2, 3, 4, 5, 6, 7, 8, 9, 10, 11], \"y\": [0.8645001630257746, 0.8681540930288832, 0.8713500530545032, 0.8731615725753251, 0.8753306338120875, 0.8761269512635463, 0.8775115289279869, 0.8776349989107869, 0.8784880854020077, 0.8784880854020077, 0.8784880854020077, 0.8784880854020077]}, {\"type\": \"scatter\", \"x\": [0, 1, 2, 3, 4, 5, 6, 7, 8, 9], \"y\": [0.8755869822279122, 0.8755869822279122, 0.8765741711860304, 0.8769856110682411, 0.8773170633459498, 0.8774865814197325, 0.8775526289074419, 0.8775526289074419, 0.8775894812229339, 0.8776050515163347]}, {\"type\": \"scatter\", \"x\": [0, 1, 2, 3, 4, 5, 6, 7, 8, 9, 10, 11, 12, 13, 14, 15, 16], \"y\": [0.877706514480634, 0.8793714810115162, 0.8804474189327799, 0.8810437064317335, 0.8813326017752452, 0.8814752907443039, 0.8814752907443039, 0.881491957222137, 0.8815066277129872, 0.8815126368351, 0.8815260242623199, 0.8815525449932688, 0.8815525449932688, 0.8815550458780482, 0.8815550458780482, 0.8815550458780482, 0.8815550458780482]}, {\"type\": \"scatter\", \"x\": [0, 1, 2, 3], \"y\": [0.8721411762130437, 0.8752424536833038, 0.8769105673643547, 0.8769105673643547]}, {\"type\": \"scatter\", \"x\": [0, 1, 2, 3], \"y\": [0.7925720553382574, 0.8612436459254442, 0.8626645792369217, 0.8655204173689862]}, {\"type\": \"scatter\", \"x\": [0, 1, 2, 3], \"y\": [0.876688200239506, 0.876688200239506, 0.876688200239506, 0.876688200239506]}, {\"type\": \"scatter\", \"x\": [0, 1, 2, 3], \"y\": [0.768779214843868, 0.768779214843868, 0.8103983144056842, 0.8344244956609813]}, {\"type\": \"scatter\", \"x\": [0, 1, 2, 3], \"y\": [0.8435122702697228, 0.8475969938608644, 0.8518031318110076, 0.8518031318110076]}, {\"type\": \"scatter\", \"x\": [0, 1, 2, 3, 4, 5, 6, 7, 8, 9], \"y\": [0.8792070806554292, 0.8793163734755328, 0.8793268660252873, 0.8793268660252873, 0.87933274929681, 0.87933274929681, 0.8793341959907858, 0.8793405255893428, 0.8793405255893428, 0.8793405255893428]}, {\"type\": \"scatter\", \"x\": [0, 1, 2, 3], \"y\": [0.8692408858159889, 0.8726594089752204, 0.8739352108614812, 0.8739352108614812]}, {\"type\": \"scatter\", \"x\": [0, 1, 2, 3], \"y\": [0.8603004758992906, 0.862877400515003, 0.8678733214462339, 0.867895414687743]}, {\"type\": \"scatter\", \"x\": [0, 1, 2, 3], \"y\": [0.8368585993390814, 0.8446349791285038, 0.8535032170558052, 0.8561321747740332]}, {\"type\": \"scatter\", \"x\": [0, 1, 2, 3, 4, 5, 6, 7, 8, 9, 10, 11, 12, 13, 14, 15, 16, 17, 18, 19, 20, 21, 22, 23, 24, 25, 26, 27, 28, 29, 30, 31, 32, 33, 34, 35], \"y\": [0.876409506996481, 0.8774288025666097, 0.8782883380869659, 0.8787960382631524, 0.8791821797159498, 0.8793078702824998, 0.8795250198241198, 0.8796667725789745, 0.8798118146807434, 0.8799508332035283, 0.8800926816929585, 0.8801968462621649, 0.8802511039994343, 0.8802614046299263, 0.8803773714549736, 0.8804494569578102, 0.8805012844422745, 0.8805778165790968, 0.8806108037395454, 0.8806137260826977, 0.8807121399974503, 0.8807412047439312, 0.8807656701945877, 0.8808179350097786, 0.8808988041280892, 0.8809796777060575, 0.8809864714791632, 0.8809864714791632, 0.8809864714791632, 0.8809881748670035, 0.8809881748670035, 0.8809884459792432, 0.8809892663252646, 0.8809894129105974, 0.8809892663252646, 0.8809892663252646]}, {\"type\": \"scatter\", \"x\": [0, 1, 2, 3], \"y\": [0.8669848911320326, 0.8691000425203538, 0.8700626842378133, 0.8704484904878201]}, {\"type\": \"scatter\", \"x\": [0, 1, 2, 3], \"y\": [0.8701132600539263, 0.8722307700977078, 0.8732880093616355, 0.8743463549996914]}, {\"type\": \"scatter\", \"x\": [0, 1, 2, 3], \"y\": [0.8580300663967139, 0.8642891818124907, 0.8672108529067434, 0.8672108529067434]}, {\"type\": \"scatter\", \"x\": [0, 1, 2, 3, 4, 5, 6, 7, 8, 9, 10, 11, 12, 13, 14, 15, 16, 17, 18], \"y\": [0.8668330917161913, 0.8756095381485337, 0.8774949301741709, 0.8786313724389876, 0.8790025536357181, 0.8792196462115788, 0.8795101554358852, 0.8797266141451523, 0.8798523382302047, 0.8798914697623953, 0.8800168714846804, 0.8801141853949757, 0.8801141853949757, 0.8801141853949757, 0.8801207330962567, 0.8801252840643171, 0.8801252840643171, 0.8801252840643171, 0.8801252840643171]}, {\"type\": \"scatter\", \"x\": [0, 1, 2, 3, 4, 5, 6, 7, 8, 9], \"y\": [0.6228410551796656, 0.8761711722067478, 0.8786377157629849, 0.8787071353677879, 0.8789014384743709, 0.8789699022318157, 0.8793059011511843, 0.8793309407931221, 0.8793326235024838, 0.8796057867226953]}, {\"type\": \"scatter\", \"x\": [0, 1, 2, 3, 4, 5, 6, 7], \"y\": [0.8770989507877616, 0.8782856553156728, 0.8791197511722797, 0.8793415653143913, 0.8796449737192864, 0.8796449737192864, 0.8796449737192864, 0.8796449737192864]}, {\"type\": \"scatter\", \"x\": [0, 1, 2, 3], \"y\": [0.8127934576235858, 0.8527967748886672, 0.8587634682986391, 0.8607273257019425]}, {\"type\": \"scatter\", \"x\": [0, 1, 2, 3], \"y\": [0.869080271075501, 0.869080271075501, 0.869080271075501, 0.8694266259357762]}, {\"type\": \"scatter\", \"x\": [0, 1, 2, 3], \"y\": [0.8215163679895735, 0.861924960554524, 0.8699789166974089, 0.8723033569981316]}, {\"type\": \"scatter\", \"x\": [0, 1, 2, 3], \"y\": [0.8345948971200888, 0.8438832739951784, 0.8512585099606965, 0.8512585099606965]}, {\"type\": \"scatter\", \"x\": [0, 1, 2, 3, 4, 5, 6, 7, 8, 9], \"y\": [0.8673333414539375, 0.8745445625779671, 0.877415920614632, 0.8787586226093972, 0.8790609468614595, 0.8793550110754728, 0.8795020534225163, 0.8795020534225163, 0.8795020534225163, 0.879543634737022]}, {\"type\": \"scatter\", \"x\": [0, 1, 2, 3, 4, 5, 6, 7], \"y\": [0.8773072920347662, 0.8773072920347662, 0.8773759565893314, 0.8774270302732097, 0.8774609230491621, 0.8774609230491621, 0.8774609230491621, 0.8774609230491621]}, {\"type\": \"scatter\", \"x\": [0, 1, 2, 3, 4, 5, 6, 7, 8, 9], \"y\": [0.8773750518562827, 0.8776202323211262, 0.8776202323211262, 0.8776622388370373, 0.8776732329205972, 0.8776732329205972, 0.8776784785854548, 0.8776804898081204, 0.8776804898081204, 0.8776804898081204]}, {\"type\": \"scatter\", \"x\": [0, 1, 2, 3, 4, 5, 6, 7, 8, 9], \"y\": [0.8776594528687934, 0.8776594528687934, 0.8776594528687934, 0.8776635713004074, 0.8776896398084532, 0.8776925629629907, 0.8776937566380255, 0.8777132098125726, 0.8777208873707737, 0.8777208873707737]}, {\"type\": \"scatter\", \"x\": [0, 1, 2, 3, 4, 5, 6, 7, 8, 9], \"y\": [0.8774632023843111, 0.8776553474756073, 0.8778604252926453, 0.8778727428225385, 0.8779873611874892, 0.8779873611874892, 0.8780069774652773, 0.8780309118968624, 0.8780528163876573, 0.8780571576155926]}, {\"type\": \"scatter\", \"x\": [0, 1, 2, 3, 4, 5, 6, 7, 8, 9, 10], \"y\": [0.8782042541448108, 0.8795562695659275, 0.8802797898082751, 0.8804113093279552, 0.8804113093279552, 0.8804113093279552, 0.8804124858780233, 0.8804235246884548, 0.8804235246884548, 0.8804235246884548, 0.8804235246884548]}, {\"type\": \"scatter\", \"x\": [0, 1, 2, 3], \"y\": [0.87529279171912, 0.8757184066585711, 0.8757184066585711, 0.8757184066585711]}, {\"type\": \"scatter\", \"x\": [0, 1, 2, 3, 4, 5, 6, 7], \"y\": [0.8783862576874655, 0.8793981658436509, 0.8798996518452741, 0.8802180066771514, 0.8802841954850736, 0.8802841954850736, 0.8802841954850736, 0.8802841954850736]}, {\"type\": \"scatter\", \"x\": [0, 1, 2, 3, 4, 5, 6, 7, 8, 9, 10, 11, 12, 13, 14, 15, 16, 17, 18, 19, 20], \"y\": [0.8759127682056208, 0.878475801982869, 0.8798083157269604, 0.880227284905966, 0.880420714387537, 0.8805827454661239, 0.8807387263469604, 0.880882924039509, 0.880882924039509, 0.880896274753027, 0.8809085106853999, 0.8809210928956759, 0.8809305557412858, 0.8809332918271046, 0.8809523843675598, 0.8809639139268873, 0.8809680787732912, 0.8809917346894865, 0.8809917346894865, 0.8809917346894865, 0.8809921372609427]}, {\"type\": \"scatter\", \"x\": [0, 1, 2, 3], \"y\": [0.8760300131401104, 0.8760300131401104, 0.8763961585838619, 0.8765845029956291]}, {\"type\": \"scatter\", \"x\": [0, 1, 2, 3, 4, 5, 6, 7, 8, 9, 10, 11, 12, 13, 14, 15, 16, 17], \"y\": [0.8780771071772748, 0.8792320116013563, 0.8798349284879486, 0.8801088890333463, 0.8802627415440701, 0.8804477336140385, 0.8806588646552349, 0.880681040640272, 0.880681040640272, 0.880682555265553, 0.8807041821382198, 0.8807350921731604, 0.8807350921731604, 0.8807388992786237, 0.8807470484322909, 0.8807470484322909, 0.8807470484322909, 0.8807470484322909]}, {\"type\": \"scatter\", \"x\": [0, 1, 2, 3, 4, 5, 6, 7, 8, 9, 10, 11, 12, 13, 14, 15, 16, 17, 18, 19, 20, 21, 22, 23, 24, 25, 26, 27], \"y\": [0.8756426697681303, 0.8770457586154955, 0.8782646264872369, 0.8789387266162692, 0.8792465688180878, 0.8796246464577706, 0.8798017721655209, 0.8798458727542308, 0.8800597785582637, 0.8802235582608993, 0.8803993436697853, 0.8804966492174824, 0.880497687716569, 0.8805528489076228, 0.8806155562805763, 0.8806557090625139, 0.8806899266028153, 0.8807370559682856, 0.880797531868936, 0.8808499418214035, 0.8808596113718474, 0.8808641619756732, 0.8808757645093315, 0.8809042676113897, 0.8809249227080809, 0.8809266591939245, 0.8809266591939245, 0.8809285966693704]}],\n",
       "                        {\"showlegend\": false, \"template\": {\"data\": {\"bar\": [{\"error_x\": {\"color\": \"#2a3f5f\"}, \"error_y\": {\"color\": \"#2a3f5f\"}, \"marker\": {\"line\": {\"color\": \"#E5ECF6\", \"width\": 0.5}}, \"type\": \"bar\"}], \"barpolar\": [{\"marker\": {\"line\": {\"color\": \"#E5ECF6\", \"width\": 0.5}}, \"type\": \"barpolar\"}], \"carpet\": [{\"aaxis\": {\"endlinecolor\": \"#2a3f5f\", \"gridcolor\": \"white\", \"linecolor\": \"white\", \"minorgridcolor\": \"white\", \"startlinecolor\": \"#2a3f5f\"}, \"baxis\": {\"endlinecolor\": \"#2a3f5f\", \"gridcolor\": \"white\", \"linecolor\": \"white\", \"minorgridcolor\": \"white\", \"startlinecolor\": \"#2a3f5f\"}, \"type\": \"carpet\"}], \"choropleth\": [{\"colorbar\": {\"outlinewidth\": 0, \"ticks\": \"\"}, \"type\": \"choropleth\"}], \"contour\": [{\"colorbar\": {\"outlinewidth\": 0, \"ticks\": \"\"}, \"colorscale\": [[0.0, \"#0d0887\"], [0.1111111111111111, \"#46039f\"], [0.2222222222222222, \"#7201a8\"], [0.3333333333333333, \"#9c179e\"], [0.4444444444444444, \"#bd3786\"], [0.5555555555555556, \"#d8576b\"], [0.6666666666666666, \"#ed7953\"], [0.7777777777777778, \"#fb9f3a\"], [0.8888888888888888, \"#fdca26\"], [1.0, \"#f0f921\"]], \"type\": \"contour\"}], \"contourcarpet\": [{\"colorbar\": {\"outlinewidth\": 0, \"ticks\": \"\"}, \"type\": \"contourcarpet\"}], \"heatmap\": [{\"colorbar\": {\"outlinewidth\": 0, \"ticks\": \"\"}, \"colorscale\": [[0.0, \"#0d0887\"], [0.1111111111111111, \"#46039f\"], [0.2222222222222222, \"#7201a8\"], [0.3333333333333333, \"#9c179e\"], [0.4444444444444444, \"#bd3786\"], [0.5555555555555556, \"#d8576b\"], [0.6666666666666666, \"#ed7953\"], [0.7777777777777778, \"#fb9f3a\"], [0.8888888888888888, \"#fdca26\"], [1.0, \"#f0f921\"]], \"type\": \"heatmap\"}], \"heatmapgl\": [{\"colorbar\": {\"outlinewidth\": 0, \"ticks\": \"\"}, \"colorscale\": [[0.0, \"#0d0887\"], [0.1111111111111111, \"#46039f\"], [0.2222222222222222, \"#7201a8\"], [0.3333333333333333, \"#9c179e\"], [0.4444444444444444, \"#bd3786\"], [0.5555555555555556, \"#d8576b\"], [0.6666666666666666, \"#ed7953\"], [0.7777777777777778, \"#fb9f3a\"], [0.8888888888888888, \"#fdca26\"], [1.0, \"#f0f921\"]], \"type\": \"heatmapgl\"}], \"histogram\": [{\"marker\": {\"colorbar\": {\"outlinewidth\": 0, \"ticks\": \"\"}}, \"type\": \"histogram\"}], \"histogram2d\": [{\"colorbar\": {\"outlinewidth\": 0, \"ticks\": \"\"}, \"colorscale\": [[0.0, \"#0d0887\"], [0.1111111111111111, \"#46039f\"], [0.2222222222222222, \"#7201a8\"], [0.3333333333333333, \"#9c179e\"], [0.4444444444444444, \"#bd3786\"], [0.5555555555555556, \"#d8576b\"], [0.6666666666666666, \"#ed7953\"], [0.7777777777777778, \"#fb9f3a\"], [0.8888888888888888, \"#fdca26\"], [1.0, \"#f0f921\"]], \"type\": \"histogram2d\"}], \"histogram2dcontour\": [{\"colorbar\": {\"outlinewidth\": 0, \"ticks\": \"\"}, \"colorscale\": [[0.0, \"#0d0887\"], [0.1111111111111111, \"#46039f\"], [0.2222222222222222, \"#7201a8\"], [0.3333333333333333, \"#9c179e\"], [0.4444444444444444, \"#bd3786\"], [0.5555555555555556, \"#d8576b\"], [0.6666666666666666, \"#ed7953\"], [0.7777777777777778, \"#fb9f3a\"], [0.8888888888888888, \"#fdca26\"], [1.0, \"#f0f921\"]], \"type\": \"histogram2dcontour\"}], \"mesh3d\": [{\"colorbar\": {\"outlinewidth\": 0, \"ticks\": \"\"}, \"type\": \"mesh3d\"}], \"parcoords\": [{\"line\": {\"colorbar\": {\"outlinewidth\": 0, \"ticks\": \"\"}}, \"type\": \"parcoords\"}], \"scatter\": [{\"marker\": {\"colorbar\": {\"outlinewidth\": 0, \"ticks\": \"\"}}, \"type\": \"scatter\"}], \"scatter3d\": [{\"line\": {\"colorbar\": {\"outlinewidth\": 0, \"ticks\": \"\"}}, \"marker\": {\"colorbar\": {\"outlinewidth\": 0, \"ticks\": \"\"}}, \"type\": \"scatter3d\"}], \"scattercarpet\": [{\"marker\": {\"colorbar\": {\"outlinewidth\": 0, \"ticks\": \"\"}}, \"type\": \"scattercarpet\"}], \"scattergeo\": [{\"marker\": {\"colorbar\": {\"outlinewidth\": 0, \"ticks\": \"\"}}, \"type\": \"scattergeo\"}], \"scattergl\": [{\"marker\": {\"colorbar\": {\"outlinewidth\": 0, \"ticks\": \"\"}}, \"type\": \"scattergl\"}], \"scattermapbox\": [{\"marker\": {\"colorbar\": {\"outlinewidth\": 0, \"ticks\": \"\"}}, \"type\": \"scattermapbox\"}], \"scatterpolar\": [{\"marker\": {\"colorbar\": {\"outlinewidth\": 0, \"ticks\": \"\"}}, \"type\": \"scatterpolar\"}], \"scatterpolargl\": [{\"marker\": {\"colorbar\": {\"outlinewidth\": 0, \"ticks\": \"\"}}, \"type\": \"scatterpolargl\"}], \"scatterternary\": [{\"marker\": {\"colorbar\": {\"outlinewidth\": 0, \"ticks\": \"\"}}, \"type\": \"scatterternary\"}], \"surface\": [{\"colorbar\": {\"outlinewidth\": 0, \"ticks\": \"\"}, \"colorscale\": [[0.0, \"#0d0887\"], [0.1111111111111111, \"#46039f\"], [0.2222222222222222, \"#7201a8\"], [0.3333333333333333, \"#9c179e\"], [0.4444444444444444, \"#bd3786\"], [0.5555555555555556, \"#d8576b\"], [0.6666666666666666, \"#ed7953\"], [0.7777777777777778, \"#fb9f3a\"], [0.8888888888888888, \"#fdca26\"], [1.0, \"#f0f921\"]], \"type\": \"surface\"}], \"table\": [{\"cells\": {\"fill\": {\"color\": \"#EBF0F8\"}, \"line\": {\"color\": \"white\"}}, \"header\": {\"fill\": {\"color\": \"#C8D4E3\"}, \"line\": {\"color\": \"white\"}}, \"type\": \"table\"}]}, \"layout\": {\"annotationdefaults\": {\"arrowcolor\": \"#2a3f5f\", \"arrowhead\": 0, \"arrowwidth\": 1}, \"colorscale\": {\"diverging\": [[0, \"#8e0152\"], [0.1, \"#c51b7d\"], [0.2, \"#de77ae\"], [0.3, \"#f1b6da\"], [0.4, \"#fde0ef\"], [0.5, \"#f7f7f7\"], [0.6, \"#e6f5d0\"], [0.7, \"#b8e186\"], [0.8, \"#7fbc41\"], [0.9, \"#4d9221\"], [1, \"#276419\"]], \"sequential\": [[0.0, \"#0d0887\"], [0.1111111111111111, \"#46039f\"], [0.2222222222222222, \"#7201a8\"], [0.3333333333333333, \"#9c179e\"], [0.4444444444444444, \"#bd3786\"], [0.5555555555555556, \"#d8576b\"], [0.6666666666666666, \"#ed7953\"], [0.7777777777777778, \"#fb9f3a\"], [0.8888888888888888, \"#fdca26\"], [1.0, \"#f0f921\"]], \"sequentialminus\": [[0.0, \"#0d0887\"], [0.1111111111111111, \"#46039f\"], [0.2222222222222222, \"#7201a8\"], [0.3333333333333333, \"#9c179e\"], [0.4444444444444444, \"#bd3786\"], [0.5555555555555556, \"#d8576b\"], [0.6666666666666666, \"#ed7953\"], [0.7777777777777778, \"#fb9f3a\"], [0.8888888888888888, \"#fdca26\"], [1.0, \"#f0f921\"]]}, \"colorway\": [\"#636efa\", \"#EF553B\", \"#00cc96\", \"#ab63fa\", \"#FFA15A\", \"#19d3f3\", \"#FF6692\", \"#B6E880\", \"#FF97FF\", \"#FECB52\"], \"font\": {\"color\": \"#2a3f5f\"}, \"geo\": {\"bgcolor\": \"white\", \"lakecolor\": \"white\", \"landcolor\": \"#E5ECF6\", \"showlakes\": true, \"showland\": true, \"subunitcolor\": \"white\"}, \"hoverlabel\": {\"align\": \"left\"}, \"hovermode\": \"closest\", \"mapbox\": {\"style\": \"light\"}, \"paper_bgcolor\": \"white\", \"plot_bgcolor\": \"#E5ECF6\", \"polar\": {\"angularaxis\": {\"gridcolor\": \"white\", \"linecolor\": \"white\", \"ticks\": \"\"}, \"bgcolor\": \"#E5ECF6\", \"radialaxis\": {\"gridcolor\": \"white\", \"linecolor\": \"white\", \"ticks\": \"\"}}, \"scene\": {\"xaxis\": {\"backgroundcolor\": \"#E5ECF6\", \"gridcolor\": \"white\", \"gridwidth\": 2, \"linecolor\": \"white\", \"showbackground\": true, \"ticks\": \"\", \"zerolinecolor\": \"white\"}, \"yaxis\": {\"backgroundcolor\": \"#E5ECF6\", \"gridcolor\": \"white\", \"gridwidth\": 2, \"linecolor\": \"white\", \"showbackground\": true, \"ticks\": \"\", \"zerolinecolor\": \"white\"}, \"zaxis\": {\"backgroundcolor\": \"#E5ECF6\", \"gridcolor\": \"white\", \"gridwidth\": 2, \"linecolor\": \"white\", \"showbackground\": true, \"ticks\": \"\", \"zerolinecolor\": \"white\"}}, \"shapedefaults\": {\"line\": {\"color\": \"#2a3f5f\"}}, \"ternary\": {\"aaxis\": {\"gridcolor\": \"white\", \"linecolor\": \"white\", \"ticks\": \"\"}, \"baxis\": {\"gridcolor\": \"white\", \"linecolor\": \"white\", \"ticks\": \"\"}, \"bgcolor\": \"#E5ECF6\", \"caxis\": {\"gridcolor\": \"white\", \"linecolor\": \"white\", \"ticks\": \"\"}}, \"title\": {\"x\": 0.05}, \"xaxis\": {\"automargin\": true, \"gridcolor\": \"white\", \"linecolor\": \"white\", \"ticks\": \"\", \"zerolinecolor\": \"white\", \"zerolinewidth\": 2}, \"yaxis\": {\"automargin\": true, \"gridcolor\": \"white\", \"linecolor\": \"white\", \"ticks\": \"\", \"zerolinecolor\": \"white\", \"zerolinewidth\": 2}}}},\n",
       "                        {\"responsive\": true}\n",
       "                    ).then(function(){\n",
       "                            \n",
       "var gd = document.getElementById('86ea50d6-b460-4f48-abd5-8fdf169a5c46');\n",
       "var x = new MutationObserver(function (mutations, observer) {{\n",
       "        var display = window.getComputedStyle(gd).display;\n",
       "        if (!display || display === 'none') {{\n",
       "            console.log([gd, 'removed!']);\n",
       "            Plotly.purge(gd);\n",
       "            observer.disconnect();\n",
       "        }}\n",
       "}});\n",
       "\n",
       "// Listen for the removal of the full notebook cells\n",
       "var notebookContainer = gd.closest('#notebook-container');\n",
       "if (notebookContainer) {{\n",
       "    x.observe(notebookContainer, {childList: true});\n",
       "}}\n",
       "\n",
       "// Listen for the clearing of the current output cell\n",
       "var outputEl = gd.closest('.output');\n",
       "if (outputEl) {{\n",
       "    x.observe(outputEl, {childList: true});\n",
       "}}\n",
       "\n",
       "                        })\n",
       "                };\n",
       "                });\n",
       "            </script>\n",
       "        </div>"
      ]
     },
     "metadata": {},
     "output_type": "display_data"
    }
   ],
   "source": [
    "plot_intermediate_values(clf.study)"
   ]
  },
  {
   "cell_type": "code",
   "execution_count": 1236,
   "metadata": {},
   "outputs": [
    {
     "data": {
      "text/plain": [
       "{'eta': 0.16610158790808505,\n",
       " 'booster': 'gbtree',\n",
       " 'lambda': 0.0408924003728524,\n",
       " 'alpha': 9.714125441010932e-10,\n",
       " 'scale_pos_weight': 1.0,\n",
       " 'max_depth': 11,\n",
       " 'min_child_weight': 12,\n",
       " 'gamma': 1.2227146439953899e-09,\n",
       " 'grow_policy': 'depthwise',\n",
       " 'subsample': 0.5368202696502619,\n",
       " 'colsample_bytree': 0.5877070497589822,\n",
       " 'colsample_bynode': 0.948732933830148,\n",
       " 'forest_boosting': True,\n",
       " 'num_parallel_tree': 7}"
      ]
     },
     "execution_count": 1236,
     "metadata": {},
     "output_type": "execute_result"
    }
   ],
   "source": [
    "clf.best_params_"
   ]
  },
  {
   "cell_type": "code",
   "execution_count": 1237,
   "metadata": {},
   "outputs": [],
   "source": [
    "clf.refit(X_new, y_train)"
   ]
  },
  {
   "cell_type": "code",
   "execution_count": 1241,
   "metadata": {},
   "outputs": [],
   "source": [
    "test_preds = clf.predict(pipe.transform(X_test))"
   ]
  },
  {
   "cell_type": "code",
   "execution_count": 1242,
   "metadata": {},
   "outputs": [
    {
     "data": {
      "text/plain": [
       "0.8347153123272526"
      ]
     },
     "execution_count": 1242,
     "metadata": {},
     "output_type": "execute_result"
    }
   ],
   "source": [
    "sklearn.metrics.accuracy_score(y_test, test_preds)"
   ]
  },
  {
   "cell_type": "code",
   "execution_count": 1244,
   "metadata": {},
   "outputs": [],
   "source": [
    "test_probs = clf.predict_proba(pipe.transform(X_test))\n",
    "test_probs = test_probs[:,1]"
   ]
  },
  {
   "cell_type": "code",
   "execution_count": 1245,
   "metadata": {},
   "outputs": [
    {
     "data": {
      "text/plain": [
       "0.8806864023656241"
      ]
     },
     "execution_count": 1245,
     "metadata": {},
     "output_type": "execute_result"
    }
   ],
   "source": [
    "sklearn.metrics.roc_auc_score(y_test, test_probs)"
   ]
  },
  {
   "cell_type": "code",
   "execution_count": 1246,
   "metadata": {},
   "outputs": [],
   "source": [
    "best_cv_preds = clf.study.best_trial.user_attrs['cv_preds']"
   ]
  },
  {
   "cell_type": "code",
   "execution_count": 1247,
   "metadata": {},
   "outputs": [
    {
     "data": {
      "text/plain": [
       "(32561, 2)"
      ]
     },
     "execution_count": 1247,
     "metadata": {},
     "output_type": "execute_result"
    }
   ],
   "source": [
    "best_cv_preds.shape"
   ]
  },
  {
   "cell_type": "code",
   "execution_count": 1248,
   "metadata": {},
   "outputs": [
    {
     "data": {
      "text/plain": [
       "array([[0.92147124, 0.07852877],\n",
       "       [0.37885696, 0.62114304],\n",
       "       [0.96839225, 0.03160778],\n",
       "       ...,\n",
       "       [0.96994168, 0.03005835],\n",
       "       [0.99314654, 0.00685347],\n",
       "       [0.41260648, 0.58739352]])"
      ]
     },
     "execution_count": 1248,
     "metadata": {},
     "output_type": "execute_result"
    }
   ],
   "source": [
    "best_cv_preds"
   ]
  },
  {
   "cell_type": "markdown",
   "metadata": {},
   "source": [
    "# Regressor"
   ]
  },
  {
   "cell_type": "code",
   "execution_count": null,
   "metadata": {},
   "outputs": [],
   "source": [
    "#TODO: automatic seed\n",
    "xgb_linear = XGBRegressorHypster(booster_list=['gblinear']\n",
    "                               ,param_dict={'nthread' : 1\n",
    "                                            #TODO check what happens when you run over parameters in optuna\n",
    "                               #,'subsample' : 0.9\n",
    "                               }\n",
    "                               )\n",
    "xgb_tree = XGBRegressorHypster(booster_list=['gbtree', 'dart'], \n",
    "                               param_dict={'max_depth' : optuna.distributions.IntUniformDistribution(2, 20)\n",
    "                                               ,'nthread' : 1\n",
    "                                               #,'subsample' : 0.9 \n",
    "                                               })\n",
    "#lgb_estimator = LGBClassifierOptuna()\n",
    "#sgd_estimator = SGDClassifierOptuna()\n",
    "#rf_estimator  = RFClassifierOptuna()"
   ]
  },
  {
   "cell_type": "code",
   "execution_count": null,
   "metadata": {},
   "outputs": [],
   "source": [
    "estimators = [xgb_linear, xgb_tree]#, sgd|_estimator]"
   ]
  },
  {
   "cell_type": "code",
   "execution_count": null,
   "metadata": {},
   "outputs": [],
   "source": [
    "reg = HyPSTERRegressor(estimators, pipeline, pipe_params,\n",
    "                        scoring=\"neg_mean_squared_error\", cv=KFold(n_splits=3, random_state=SEED), sampler=sampler, \n",
    "                        refit=False, random_state=SEED, n_jobs=-1)"
   ]
  },
  {
   "cell_type": "code",
   "execution_count": null,
   "metadata": {},
   "outputs": [],
   "source": [
    "%%time\n",
    "reg.fit(X_train, y_train, cat_columns=cat_columns, n_trials_per_estimator=[10, 60])"
   ]
  },
  {
   "cell_type": "code",
   "execution_count": null,
   "metadata": {},
   "outputs": [],
   "source": [
    "reg.best_score_"
   ]
  },
  {
   "cell_type": "code",
   "execution_count": null,
   "metadata": {},
   "outputs": [],
   "source": [
    "reg.best_params_"
   ]
  },
  {
   "cell_type": "code",
   "execution_count": null,
   "metadata": {},
   "outputs": [],
   "source": [
    "reg.refit(X_train, y_train)"
   ]
  },
  {
   "cell_type": "code",
   "execution_count": null,
   "metadata": {},
   "outputs": [],
   "source": [
    "test_preds = reg.predict(X_test)"
   ]
  },
  {
   "cell_type": "code",
   "execution_count": null,
   "metadata": {},
   "outputs": [],
   "source": [
    "sklearn.metrics.mean_absolute_error(y_test, test_preds)"
   ]
  },
  {
   "cell_type": "code",
   "execution_count": null,
   "metadata": {},
   "outputs": [],
   "source": [
    "np.sqrt(sklearn.metrics.mean_squared_error(y_test, test_preds))"
   ]
  },
  {
   "cell_type": "markdown",
   "metadata": {},
   "source": [
    "# Misc"
   ]
  },
  {
   "cell_type": "raw",
   "metadata": {},
   "source": [
    "import catboost\n",
    "import catboost.datasets"
   ]
  },
  {
   "cell_type": "raw",
   "metadata": {},
   "source": [
    "train_df, test_df = catboost.datasets.adult()"
   ]
  },
  {
   "cell_type": "raw",
   "metadata": {},
   "source": [
    "train_df.head()"
   ]
  },
  {
   "cell_type": "raw",
   "metadata": {},
   "source": [
    "X_train = train_df.drop(\"income\", axis=1).copy()"
   ]
  },
  {
   "cell_type": "raw",
   "metadata": {},
   "source": [
    "X_test = test_df.drop(\"income\", axis=1).copy()"
   ]
  },
  {
   "cell_type": "raw",
   "metadata": {},
   "source": [
    "y_train = train_df[\"income\"].copy()"
   ]
  },
  {
   "cell_type": "raw",
   "metadata": {},
   "source": [
    "y_test = test_df[\"income\"].copy()"
   ]
  },
  {
   "cell_type": "raw",
   "metadata": {},
   "source": [
    "X_train.to_pickle(\"./data/boston_X_train.pkl\")\n",
    "y_train.to_pickle(\"./data/boston_y_train.pkl\")\n",
    "X_test.to_pickle(\"./data/boston_X_test.pkl\")\n",
    "y_test.to_pickle(\"./data/boston_y_test.pkl\")"
   ]
  },
  {
   "cell_type": "raw",
   "metadata": {},
   "source": [
    "from sklearn.compose import ColumnTransformer\n",
    "from sklearn.pipeline import Pipeline\n",
    "from sklearn.preprocessing import OneHotEncoder\n",
    "from sklearn.impute import SimpleImputer"
   ]
  },
  {
   "cell_type": "raw",
   "metadata": {},
   "source": [
    "impute_ohe_pipe = Pipeline([('impute', SimpleImputer(strategy=\"constant\", fill_value=\"unknown\")),\n",
    "                             ('ohe', OneHotEncoder(categories=\"auto\", handle_unknown='ignore'))])"
   ]
  },
  {
   "cell_type": "raw",
   "metadata": {},
   "source": [
    "len(impute_ohe_pipe.steps)"
   ]
  },
  {
   "cell_type": "raw",
   "metadata": {},
   "source": [
    "impute_ohe_ct = ColumnTransformer([('impute_ohe', impute_ohe_pipe, cat_columns)], remainder=\"passthrough\")"
   ]
  },
  {
   "cell_type": "raw",
   "metadata": {},
   "source": [
    "pipeline = Pipeline([('impute_ohe', impute_ohe_ct)])"
   ]
  },
  {
   "cell_type": "raw",
   "metadata": {},
   "source": [
    "from sklearn import datasets"
   ]
  },
  {
   "cell_type": "raw",
   "metadata": {},
   "source": [
    "X, y = datasets.load_boston(return_X_y=True)"
   ]
  },
  {
   "cell_type": "raw",
   "metadata": {},
   "source": [
    "features = datasets.load_boston()['feature_names']"
   ]
  },
  {
   "cell_type": "raw",
   "metadata": {},
   "source": [
    "X = pd.DataFrame(X, columns = features)"
   ]
  },
  {
   "cell_type": "raw",
   "metadata": {},
   "source": [
    "y = pd.Series(y)"
   ]
  },
  {
   "cell_type": "raw",
   "metadata": {},
   "source": [
    "X_train, X_test, y_train, y_test = train_test_split(X, y, test_size=0.33, random_state=SEED)"
   ]
  },
  {
   "cell_type": "raw",
   "metadata": {},
   "source": [
    "if len(classes) == 2: #binary classification\n",
    "    if (pos_label is None and\n",
    "            not (np.array_equal(classes, [0, 1]) or\n",
    "                 np.array_equal(classes, [-1, 1]))):\n",
    "        raise ValueError(\"Data is not binary and pos_label is not specified\")\n",
    "    elif pos_label is None:\n",
    "        pos_label = 1\n",
    "    y = (y == pos_label)"
   ]
  },
  {
   "cell_type": "markdown",
   "metadata": {},
   "source": [
    "# Decision Tree"
   ]
  },
  {
   "cell_type": "raw",
   "metadata": {},
   "source": [
    "X_train = X_train.astype(np.float32)\n",
    "X_test = X_test.astype(np.float32)"
   ]
  },
  {
   "cell_type": "raw",
   "metadata": {},
   "source": [
    "from sklearn.tree import DecisionTreeClassifier"
   ]
  },
  {
   "cell_type": "raw",
   "metadata": {},
   "source": [
    "tree = DecisionTreeClassifier(min_samples_leaf=20, class_weight=\"balanced\", random_state=SEED)"
   ]
  },
  {
   "cell_type": "raw",
   "metadata": {},
   "source": [
    "tree.fit(X_train, y_train)"
   ]
  },
  {
   "cell_type": "raw",
   "metadata": {},
   "source": [
    "test_preds = tree.predict_proba(X_test)"
   ]
  },
  {
   "cell_type": "raw",
   "metadata": {},
   "source": [
    "sklearn.metrics.roc_auc_score(y_test, test_preds[:,1])"
   ]
  },
  {
   "cell_type": "raw",
   "metadata": {},
   "source": [
    "train_nodes = tree.tree_.decision_path(X_train)\n",
    "test_nodes = tree.tree_.decision_path(X_test)"
   ]
  },
  {
   "cell_type": "raw",
   "metadata": {},
   "source": [
    "import umap"
   ]
  },
  {
   "cell_type": "raw",
   "metadata": {},
   "source": [
    "reducer = umap.UMAP(metric=\"jaccard\", random_state=SEED, verbose=False)"
   ]
  },
  {
   "cell_type": "raw",
   "metadata": {},
   "source": [
    "reducer.fit(train_nodes.todense())"
   ]
  },
  {
   "cell_type": "raw",
   "metadata": {},
   "source": [
    "embedding = reducer.transform(test_nodes.todense())"
   ]
  },
  {
   "cell_type": "raw",
   "metadata": {},
   "source": [
    "import hvplot\n",
    "import hvplot.pandas"
   ]
  },
  {
   "cell_type": "raw",
   "metadata": {},
   "source": [
    "vis_df = pd.DataFrame({\"x_raw\" : embedding[:,0],\n",
    "                       \"y_raw\" : embedding[:,1],\n",
    "                       \"class\" : y_test,\n",
    "                       \"score\" : test_preds[:,1]})"
   ]
  },
  {
   "cell_type": "raw",
   "metadata": {},
   "source": [
    "vis_df.hvplot.scatter(\"x_raw\", \"y_raw\", color=\"class\", \n",
    "                      cmap='Set1',\n",
    "                      width=900, height=600, \n",
    "                      alpha = 0.4) "
   ]
  },
  {
   "cell_type": "raw",
   "metadata": {},
   "source": [
    "# Random Forest"
   ]
  },
  {
   "cell_type": "raw",
   "metadata": {},
   "source": [
    "from sklearn.ensemble import RandomForestClassifier"
   ]
  },
  {
   "cell_type": "raw",
   "metadata": {},
   "source": [
    "import hvplot\n",
    "import hvplot.pandas"
   ]
  },
  {
   "cell_type": "raw",
   "metadata": {},
   "source": [
    "import umap\n",
    "import numba"
   ]
  },
  {
   "cell_type": "raw",
   "metadata": {},
   "source": [
    "rf = RandomForestClassifier(min_samples_leaf=20, max_depth=30, \n",
    "                            n_estimators=200, n_jobs=-1, \n",
    "                            class_weight=\"balanced\", random_state=SEED)"
   ]
  },
  {
   "cell_type": "raw",
   "metadata": {},
   "source": [
    "rf.fit(X_train, y_train)"
   ]
  },
  {
   "cell_type": "raw",
   "metadata": {},
   "source": [
    "@numba.njit()\n",
    "def jaccard_categorical(x, y):\n",
    "    num_non_zero = 0.0\n",
    "    num_equal = 0.0\n",
    "    num_non_zero = x.shape[0]\n",
    "    for i in range(x.shape[0]):\n",
    "        num_equal += x[i] == y[i]\n",
    "\n",
    "    if num_non_zero == 0.0:\n",
    "        return 0.0\n",
    "    else:\n",
    "        return float(num_non_zero - num_equal) / num_non_zero"
   ]
  },
  {
   "cell_type": "raw",
   "metadata": {},
   "source": [
    "def tree_ensemble_embeddings(X, model, reducer=None, n_componenets=2, random_state=1):\n",
    "    leaves = model.apply(X)\n",
    "    if reducer is None:\n",
    "        reducer = umap.UMAP(metric=jaccard_categorical,\n",
    "                            n_components=n_componenets,\n",
    "                            random_state=random_state,\n",
    "                            verbose=False)\n",
    "        embeddings = reducer.fit_transform(leaves)\n",
    "        return embeddings, reducer\n",
    "    else:\n",
    "        embeddings = reducer.transform(leaves)\n",
    "    return embeddings"
   ]
  },
  {
   "cell_type": "raw",
   "metadata": {},
   "source": [
    "test_preds = rf.predict_proba(X_test)"
   ]
  },
  {
   "cell_type": "raw",
   "metadata": {},
   "source": [
    "sklearn.metrics.roc_auc_score(y_test, test_preds[:,1])"
   ]
  },
  {
   "cell_type": "raw",
   "metadata": {},
   "source": [
    "train_emb, reducer = tree_ensemble_embeddings(X_train, model=rf, random_state=SEED)"
   ]
  },
  {
   "cell_type": "raw",
   "metadata": {},
   "source": [
    "test_emb = tree_ensemble_embeddings(X_test, model=rf, reducer=reducer ,random_state=SEED)"
   ]
  },
  {
   "cell_type": "raw",
   "metadata": {},
   "source": [
    "vis_df = pd.DataFrame({\"x_raw\" : test_emb[:,0],\n",
    "                       \"y_raw\" : test_emb[:,1],\n",
    "                       \"class\" : np.where(y_test == 0, \"no\", \"yes\"),\n",
    "                       \"score\" : test_preds[:,1]})"
   ]
  },
  {
   "cell_type": "raw",
   "metadata": {},
   "source": [
    "vis_df.hvplot.scatter(\"x_raw\", \"y_raw\", \n",
    "                      c=\"class\", \n",
    "                      cmap='Set1',\n",
    "                      width=900, height=600, \n",
    "                      alpha = 0.2)"
   ]
  },
  {
   "cell_type": "raw",
   "metadata": {},
   "source": [
    "train_nodes = rf.decision_path(X_train)[0]\n",
    "test_nodes = rf.decision_path(X_test)[0]"
   ]
  },
  {
   "cell_type": "raw",
   "metadata": {},
   "source": [
    "def jaccard_similarities(mat):\n",
    "    cols_sum = mat.getnnz(axis=0)\n",
    "    ab = mat.T * mat\n",
    "\n",
    "    # for rows\n",
    "    aa = np.repeat(cols_sum, ab.getnnz(axis=0))\n",
    "    # for columns\n",
    "    bb = cols_sum[ab.indices]\n",
    "\n",
    "    similarities = ab.copy()\n",
    "    similarities.data /= (aa + bb - ab.data)\n",
    "\n",
    "    return similarities"
   ]
  },
  {
   "cell_type": "raw",
   "metadata": {},
   "source": [
    "train_mat = jaccard_similarities(train_nodes)"
   ]
  },
  {
   "cell_type": "raw",
   "metadata": {},
   "source": [
    "test_mat = jaccard_similarities(test_nodes)"
   ]
  },
  {
   "cell_type": "raw",
   "metadata": {},
   "source": [
    "reducer = umap.UMAP(metric=\"precomputed\", n_components=2, random_state=SEED, verbose=False)"
   ]
  },
  {
   "cell_type": "raw",
   "metadata": {},
   "source": [
    "train_nodes_emb = reducer.fit_transform(train_mat)"
   ]
  },
  {
   "cell_type": "raw",
   "metadata": {},
   "source": [
    "from scipy.sparse import csr_matrix\n",
    "\n",
    "def pairwise_jaccard_sparse(csr):\n",
    "    \"\"\"Computes the Jaccard distance between the rows of `csr`,\n",
    "    smaller than the cut-off distance `epsilon`.\n",
    "    \"\"\"\n",
    "    csr = csr_matrix(csr).astype(bool).astype(int)\n",
    "\n",
    "    csr_rownnz = csr.getnnz(axis=1)\n",
    "    intrsct = csr.dot(csr.T)\n",
    "    print(\"Hi!\")\n",
    "    nnz_i = np.repeat(csr_rownnz, intrsct.getnnz(axis=1))\n",
    "    unions = nnz_i + csr_rownnz[intrsct.indices] - intrsct.data\n",
    "    dists = 1.0 - intrsct.data / unions\n",
    "    print(\"Hi2!\")\n",
    "    mask = (dists > 0) & (dists <= epsilon)\n",
    "    data = dists[mask]\n",
    "    indices = intrsct.indices[mask]\n",
    "    print(\"Hi3!\")\n",
    "    rownnz = np.add.reduceat(mask, intrsct.indptr[:-1])\n",
    "    indptr = np.r_[0, np.cumsum(rownnz)]\n",
    "    print(\"Hi4!\")\n",
    "    out = csr_matrix((data, indices, indptr), intrsct.shape)\n",
    "    return out"
   ]
  },
  {
   "cell_type": "raw",
   "metadata": {},
   "source": [
    "train_nodes"
   ]
  },
  {
   "cell_type": "raw",
   "metadata": {},
   "source": [
    "from hashlib import sha1\n",
    "from datasketch.minhash import MinHash"
   ]
  },
  {
   "cell_type": "raw",
   "metadata": {},
   "source": [
    "num_perm = 100"
   ]
  },
  {
   "cell_type": "raw",
   "metadata": {},
   "source": [
    "train_mh = np.zeros((train_nodes.shape[0], num_perm))\n",
    "mh1 = MinHash(num_perm=num_perm)\n",
    "for i in range(train_nodes.shape[0]):\n",
    "    mh1.clear()\n",
    "    mh1.update(train_nodes[i].todense())\n",
    "    train_mh[i,:] = mh1.hashvalues"
   ]
  },
  {
   "cell_type": "raw",
   "metadata": {},
   "source": [
    "test_mh = np.zeros((test_nodes.shape[0], num_perm))\n",
    "for i in range(test_nodes.shape[0]):\n",
    "    mh1.clear()\n",
    "    mh1.update(test_nodes[i].todense())\n",
    "    test_mh[i,:] = mh1.hashvalues"
   ]
  },
  {
   "cell_type": "raw",
   "metadata": {},
   "source": [
    "train_mh[0].max()"
   ]
  },
  {
   "cell_type": "raw",
   "metadata": {},
   "source": [
    "train_nodes"
   ]
  },
  {
   "cell_type": "raw",
   "metadata": {},
   "source": [
    "reducer = umap.UMAP(metric=jaccard_categorical, n_components=2, random_state=SEED, verbose=False)"
   ]
  },
  {
   "cell_type": "raw",
   "metadata": {},
   "source": [
    "train_emb = reducer.fit_transform(train_mh)"
   ]
  },
  {
   "cell_type": "raw",
   "metadata": {},
   "source": [
    "test_embedding = reducer.transform(test_mh)"
   ]
  },
  {
   "cell_type": "raw",
   "metadata": {},
   "source": [
    "import hvplot\n",
    "import hvplot.pandas"
   ]
  },
  {
   "cell_type": "raw",
   "metadata": {},
   "source": [
    "vis_df = pd.DataFrame({\"x_raw\" : test_embedding[:,0],\n",
    "                       \"y_raw\" : test_embedding[:,1],\n",
    "                       \"class\" : y_test,\n",
    "                       \"score\" : test_preds[:,1]})"
   ]
  },
  {
   "cell_type": "raw",
   "metadata": {},
   "source": [
    "vis_df.hvplot.scatter(\"x_raw\", \"y_raw\", color=\"class\", \n",
    "                      cmap='Set1',\n",
    "                      width=900, height=600, \n",
    "                      alpha = 0.2)"
   ]
  },
  {
   "cell_type": "raw",
   "metadata": {},
   "source": [
    "train_mat = pairwise_jaccard_sparse(train_nodes)"
   ]
  },
  {
   "cell_type": "raw",
   "metadata": {},
   "source": [
    "print(\"hi\")"
   ]
  },
  {
   "cell_type": "raw",
   "metadata": {},
   "source": [
    "test_mat = pairwise_jaccard_sparse(test_nodes)"
   ]
  },
  {
   "cell_type": "raw",
   "metadata": {},
   "source": [
    "reducer = umap.UMAP(metric=\"precomputed\", n_components=2, random_state=SEED, verbose=False)"
   ]
  },
  {
   "cell_type": "raw",
   "metadata": {},
   "source": [
    "train_nodes_emb = reducer.fit_transform(train_mat)"
   ]
  },
  {
   "cell_type": "raw",
   "metadata": {},
   "source": [
    "reducer = umap.UMAP(metric=\"jaccard\", n_components=5, random_state=SEED, verbose=False)"
   ]
  },
  {
   "cell_type": "raw",
   "metadata": {},
   "source": [
    "train_nodes_emb = reducer.fit_transform(train_nodes)"
   ]
  },
  {
   "cell_type": "raw",
   "metadata": {},
   "source": [
    "test_nodes_emb = reducer.transform(test_nodes)"
   ]
  },
  {
   "cell_type": "raw",
   "metadata": {},
   "source": [
    "vis_df = pd.DataFrame({\"x_raw\" : test_nodes_emb[:,0],\n",
    "                       \"y_raw\" : test_nodes_emb[:,1],\n",
    "                       \"class\" : y_test,\n",
    "                       \"score\" : test_preds[:,1]})"
   ]
  },
  {
   "cell_type": "raw",
   "metadata": {},
   "source": [
    "vis_df.hvplot.scatter(\"x_raw\", \"y_raw\", color=\"class\", \n",
    "                      cmap='Set1',\n",
    "                      width=900, height=600, \n",
    "                      alpha = 0.2)"
   ]
  },
  {
   "cell_type": "raw",
   "metadata": {},
   "source": []
  },
  {
   "cell_type": "raw",
   "metadata": {},
   "source": [
    "rf2 = RandomForestClassifier(min_samples_leaf=20, n_estimators=200, n_jobs=-1, class_weight=\"balanced\", random_state=SEED)"
   ]
  },
  {
   "cell_type": "raw",
   "metadata": {},
   "source": [
    "rf2.fit(train_emb, y_train)"
   ]
  },
  {
   "cell_type": "raw",
   "metadata": {},
   "source": [
    "test_preds = rf2.predict_proba(test_embedding)"
   ]
  },
  {
   "cell_type": "raw",
   "metadata": {},
   "source": [
    "sklearn.metrics.roc_auc_score(y_test, test_preds[:,1])"
   ]
  },
  {
   "cell_type": "raw",
   "metadata": {},
   "source": [
    "rf3 = RandomForestClassifier(min_samples_leaf=20, n_estimators=200, n_jobs=-1, class_weight=\"balanced\", random_state=SEED)"
   ]
  },
  {
   "cell_type": "raw",
   "metadata": {},
   "source": [
    "rf3.fit(train_nodes_emb, y_train)"
   ]
  },
  {
   "cell_type": "raw",
   "metadata": {},
   "source": [
    "test_preds = rf3.predict_proba(test_nodes_emb)"
   ]
  },
  {
   "cell_type": "raw",
   "metadata": {},
   "source": [
    "sklearn.metrics.roc_auc_score(y_test, test_preds[:,1])"
   ]
  },
  {
   "cell_type": "raw",
   "metadata": {},
   "source": [
    "train_nodes = rf.decision_path(X_train)[0]\n",
    "test_nodes = rf.decision_path(X_test)[0]"
   ]
  },
  {
   "cell_type": "raw",
   "metadata": {},
   "source": [
    "from hashlib import sha1\n",
    "from datasketch.minhash import MinHash"
   ]
  },
  {
   "cell_type": "raw",
   "metadata": {},
   "source": [
    "num_perm = 20"
   ]
  },
  {
   "cell_type": "raw",
   "metadata": {},
   "source": [
    "train_mh = np.zeros((train_nodes.shape[0], num_perm))\n",
    "mh1 = MinHash(num_perm=num_perm)\n",
    "for i in range(train_nodes.shape[0]):\n",
    "    mh1.clear()\n",
    "    mh1.update(train_nodes[i].todense())\n",
    "    train_mh[i,:] = mh1.hashvalues"
   ]
  },
  {
   "cell_type": "raw",
   "metadata": {},
   "source": [
    "test_mh = np.zeros((test_nodes.shape[0], num_perm))\n",
    "for i in range(test_nodes.shape[0]):\n",
    "    mh1.clear()\n",
    "    mh1.update(test_nodes[i].todense())\n",
    "    test_mh[i,:] = mh1.hashvalues"
   ]
  },
  {
   "cell_type": "raw",
   "metadata": {},
   "source": [
    "import umap"
   ]
  },
  {
   "cell_type": "raw",
   "metadata": {},
   "source": [
    "reducer = umap.UMAP(metric=\"jaccard\", random_state=SEED, verbose=False)"
   ]
  },
  {
   "cell_type": "raw",
   "metadata": {},
   "source": [
    "reducer.fit(train_mh)"
   ]
  },
  {
   "cell_type": "raw",
   "metadata": {},
   "source": [
    "embedding = reducer.transform(test_mh)"
   ]
  },
  {
   "cell_type": "raw",
   "metadata": {},
   "source": [
    "import hvplot\n",
    "import hvplot.pandas"
   ]
  },
  {
   "cell_type": "raw",
   "metadata": {},
   "source": [
    "vis_df = pd.DataFrame({\"x_raw\" : embedding[:,0],\n",
    "                       \"y_raw\" : embedding[:,1],\n",
    "                       \"class\" : y_test,\n",
    "                       \"score\" : test_preds[:,1]})"
   ]
  },
  {
   "cell_type": "raw",
   "metadata": {},
   "source": [
    "vis_df.hvplot.scatter(\"x_raw\", \"y_raw\", color=\"class\", \n",
    "                      cmap='Set1',\n",
    "                      width=900, height=600, \n",
    "                      alpha = 0.2)"
   ]
  },
  {
   "cell_type": "raw",
   "metadata": {},
   "source": [
    "leaves = rf.apply(X_test)"
   ]
  },
  {
   "cell_type": "raw",
   "metadata": {},
   "source": [
    "M = OneHotEncoder(categories=\"auto\").fit_transform(leaves)\n",
    "S = (M*M.transpose()).todense()\n",
    "tree_embeddings = 1 - S/S.max()"
   ]
  },
  {
   "cell_type": "raw",
   "metadata": {},
   "source": [
    "reducer = umap.UMAP(metric=\"precomputed\", random_state=SEED, verbose=False)"
   ]
  },
  {
   "cell_type": "raw",
   "metadata": {},
   "source": [
    "embeddings = reducer.fit_transform(tree_embeddings)"
   ]
  },
  {
   "cell_type": "raw",
   "metadata": {},
   "source": [
    "vis_df = pd.DataFrame({\"x_raw\" : embeddings[:,0],\n",
    "                       \"y_raw\" : embeddings[:,1],\n",
    "                       \"class\" : y_test,\n",
    "                       \"score\" : test_preds[:,1]})"
   ]
  },
  {
   "cell_type": "raw",
   "metadata": {},
   "source": [
    "vis_df.hvplot.scatter(\"x_raw\", \"y_raw\", color=\"class\", \n",
    "                      cmap='Set1',\n",
    "                      width=900, height=600, \n",
    "                      alpha = 0.2) "
   ]
  },
  {
   "cell_type": "raw",
   "metadata": {},
   "source": [
    "minhash = MinHash(seed=lean_minhash.seed,\n",
    "                  hashvalues=lean_minhash.hashvalues)\n",
    "\n",
    "# Or if you want to prevent further updates on minhash\n",
    "# from affecting the state of lean_minhash\n",
    "minhash = MinHash(seed=lean_minhash.seed,\n",
    "                  hashvalues=lean_minhash.digest())"
   ]
  },
  {
   "cell_type": "code",
   "execution_count": null,
   "metadata": {},
   "outputs": [],
   "source": []
  }
 ],
 "metadata": {
  "kernelspec": {
   "display_name": "Python 3",
   "language": "python",
   "name": "python3"
  },
  "language_info": {
   "codemirror_mode": {
    "name": "ipython",
    "version": 3
   },
   "file_extension": ".py",
   "mimetype": "text/x-python",
   "name": "python",
   "nbconvert_exporter": "python",
   "pygments_lexer": "ipython3",
   "version": "3.7.3"
  },
  "pycharm": {
   "stem_cell": {
    "cell_type": "raw",
    "metadata": {
     "collapsed": false
    },
    "source": []
   }
  }
 },
 "nbformat": 4,
 "nbformat_minor": 4
}
