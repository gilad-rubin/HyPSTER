{
 "cells": [
  {
   "cell_type": "code",
   "execution_count": 1,
   "metadata": {},
   "outputs": [],
   "source": [
    "import pandas as pd\n",
    "import numpy as np\n",
    "import sklearn"
   ]
  },
  {
   "cell_type": "code",
   "execution_count": 2,
   "metadata": {},
   "outputs": [],
   "source": [
    "from sklearn.model_selection import train_test_split\n",
    "from sklearn.datasets import fetch_openml"
   ]
  },
  {
   "cell_type": "code",
   "execution_count": 3,
   "metadata": {},
   "outputs": [],
   "source": [
    "from hypster import HyPSTERClassifier"
   ]
  },
  {
   "cell_type": "code",
   "execution_count": 4,
   "metadata": {},
   "outputs": [],
   "source": [
    "SEED = 42"
   ]
  },
  {
   "cell_type": "markdown",
   "metadata": {},
   "source": [
    "# Load Adult Income Dataset"
   ]
  },
  {
   "cell_type": "code",
   "execution_count": 5,
   "metadata": {},
   "outputs": [],
   "source": [
    "adult = fetch_openml(name='adult', version=2)\n",
    "X = pd.DataFrame(data=adult[\"data\"], columns=adult[\"feature_names\"])\n",
    "y = adult[\"target\"]"
   ]
  },
  {
   "cell_type": "code",
   "execution_count": 6,
   "metadata": {},
   "outputs": [],
   "source": [
    "cat_cols = [\"workclass\", \"education\", \"marital-status\", \"occupation\", \"relationship\", \"race\", \"sex\", \"native-country\"]"
   ]
  },
  {
   "cell_type": "code",
   "execution_count": 7,
   "metadata": {},
   "outputs": [],
   "source": [
    "X_train, X_test, y_train, y_test = train_test_split(X, y, test_size=0.33, random_state=SEED)"
   ]
  },
  {
   "cell_type": "markdown",
   "metadata": {},
   "source": [
    "# Fit HyPSTER On the Data"
   ]
  },
  {
   "cell_type": "code",
   "execution_count": 8,
   "metadata": {},
   "outputs": [],
   "source": [
    "frameworks = [\"xgboost\", \"lightgbm\", \"sklearn\"]\n",
    "model_types = [\"tree_based\", \"linear\"]"
   ]
  },
  {
   "cell_type": "code",
   "execution_count": 9,
   "metadata": {},
   "outputs": [],
   "source": [
    "clf = HyPSTERClassifier(frameworks = frameworks,\n",
    "                        model_types = model_types,\n",
    "                        scoring=\"roc_auc\",\n",
    "                        cv=5,\n",
    "                        max_iter=100,\n",
    "                        n_jobs=-1,\n",
    "                        random_state=SEED)"
   ]
  },
  {
   "cell_type": "code",
   "execution_count": 10,
   "metadata": {},
   "outputs": [
    {
     "name": "stdout",
     "output_type": "stream",
     "text": [
      "XGBoost Linear Classifier Score: 0.86262\n",
      "XGBoost Linear Classifier Score: 0.85293\n",
      "XGBoost Linear Classifier Score: 0.84853\n",
      "LightGBM Classifier Score: 0.85773\n",
      "XGBoost Tree-Based Classifier Score: 0.86388\n",
      "XGBoost Tree-Based Classifier Score: 0.87446\n",
      "SGD Classifier Score: 0.87097\n",
      "XGBoost Linear Classifier Score: 0.84882\n",
      "XGBoost Tree-Based Classifier Score: 0.857\n",
      "LightGBM Classifier Score: 0.86426\n",
      "XGBoost Linear Classifier Score: 0.86936\n",
      "XGBoost Tree-Based Classifier Score: 0.87312\n",
      "XGBoost Tree-Based Classifier Score: 0.8779\n",
      "XGBoost Tree-Based Classifier Score: 0.87032\n",
      "XGBoost Tree-Based Classifier Score: 0.87628\n",
      "LightGBM Classifier Score: 0.87038\n",
      "SGD Classifier Score: 0.86785\n",
      "XGBoost Tree-Based Classifier Score: 0.86606\n",
      "XGBoost Tree-Based Classifier Score: 0.86896\n",
      "LightGBM Classifier Score: 0.86015\n",
      "XGBoost Tree-Based Classifier Score: 0.8716\n",
      "LightGBM Classifier Score: 0.85945\n",
      "XGBoost Tree-Based Classifier Score: 0.86427\n",
      "Wall time: 2min 31s\n"
     ]
    }
   ],
   "source": [
    "%%time\n",
    "clf.fit(X_train, y_train, cat_cols=cat_cols, n_trials=50)"
   ]
  },
  {
   "cell_type": "markdown",
   "metadata": {},
   "source": [
    "### Visualize Learning Curves - Optional"
   ]
  },
  {
   "cell_type": "code",
   "execution_count": 15,
   "metadata": {},
   "outputs": [],
   "source": [
    "#uncomment only if \"plotly\" is installed\n",
    "#from optuna.visualization import plot_intermediate_values\n",
    "#plot_intermediate_values(clf.study)"
   ]
  },
  {
   "cell_type": "markdown",
   "metadata": {},
   "source": [
    "# Review Results On Test"
   ]
  },
  {
   "cell_type": "code",
   "execution_count": 16,
   "metadata": {
    "scrolled": true
   },
   "outputs": [
    {
     "data": {
      "text/plain": [
       "0.8778967704000706"
      ]
     },
     "execution_count": 16,
     "metadata": {},
     "output_type": "execute_result"
    }
   ],
   "source": [
    "clf.best_score_"
   ]
  },
  {
   "cell_type": "code",
   "execution_count": 18,
   "metadata": {
    "scrolled": true
   },
   "outputs": [
    {
     "name": "stdout",
     "output_type": "stream",
     "text": [
      "0.8839704458038956\n"
     ]
    }
   ],
   "source": [
    "preds = clf.predict_proba(X_test)\n",
    "roc_score = sklearn.metrics.roc_auc_score(y_test, preds[:, 1])\n",
    "print(roc_score)"
   ]
  }
 ],
 "metadata": {
  "kernelspec": {
   "display_name": "Python 3",
   "language": "python",
   "name": "python3"
  },
  "language_info": {
   "codemirror_mode": {
    "name": "ipython",
    "version": 3
   },
   "file_extension": ".py",
   "mimetype": "text/x-python",
   "name": "python",
   "nbconvert_exporter": "python",
   "pygments_lexer": "ipython3",
   "version": "3.7.3"
  }
 },
 "nbformat": 4,
 "nbformat_minor": 4
}
