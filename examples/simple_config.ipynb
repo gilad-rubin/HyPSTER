{
 "cells": [
  {
   "cell_type": "code",
   "execution_count": 1,
   "metadata": {},
   "outputs": [],
   "source": [
    "%load_ext autoreload\n",
    "%autoreload 2"
   ]
  },
  {
   "cell_type": "code",
   "execution_count": 4,
   "metadata": {},
   "outputs": [],
   "source": [
    "# define the code \n",
    "code = \"\"\"\n",
    "from hypster import HP, config\n",
    "\n",
    "@config\n",
    "def nested_config(hp: HP):\n",
    "    model = hp.select(['gpt-3', 'gpt-4'], default='gpt-3')\n",
    "\n",
    "    generation = {\n",
    "        'temperature': hp.number_input(0.7, min_value=0, max_value=1),\n",
    "        'max_tokens': hp.number_input(50, min_value=1, max_value=100)\n",
    "    }\n",
    "\n",
    "    return {'model': model, 'generation': generation}\n",
    "\n",
    "result = nested_config()\n",
    "\"\"\""
   ]
  },
  {
   "cell_type": "code",
   "execution_count": 10,
   "metadata": {},
   "outputs": [],
   "source": [
    "import inspect\n",
    "def func():\n",
    "    print(\"5\")"
   ]
  },
  {
   "cell_type": "code",
   "execution_count": null,
   "metadata": {},
   "outputs": [],
   "source": []
  },
  {
   "cell_type": "code",
   "execution_count": 8,
   "metadata": {},
   "outputs": [
    {
     "ename": "OSError",
     "evalue": "could not get source code",
     "output_type": "error",
     "traceback": [
      "\u001b[0;31m---------------------------------------------------------------------------\u001b[0m",
      "\u001b[0;31mOSError\u001b[0m                                   Traceback (most recent call last)",
      "Cell \u001b[0;32mIn[8], line 26\u001b[0m\n\u001b[1;32m     16\u001b[0m code \u001b[38;5;241m=\u001b[39m \u001b[38;5;124m\"\"\"\u001b[39m\n\u001b[1;32m     17\u001b[0m \u001b[38;5;124mimport inspect\u001b[39m\n\u001b[1;32m     18\u001b[0m \n\u001b[0;32m   (...)\u001b[0m\n\u001b[1;32m     22\u001b[0m \u001b[38;5;124mprint(inspect.getsource(func))\u001b[39m\n\u001b[1;32m     23\u001b[0m \u001b[38;5;124m\"\"\"\u001b[39m\n\u001b[1;32m     25\u001b[0m \u001b[38;5;66;03m# Execute the code using our custom function\u001b[39;00m\n\u001b[0;32m---> 26\u001b[0m \u001b[43mexecute_with_source\u001b[49m\u001b[43m(\u001b[49m\u001b[43mcode\u001b[49m\u001b[43m)\u001b[49m\n",
      "Cell \u001b[0;32mIn[8], line 8\u001b[0m, in \u001b[0;36mexecute_with_source\u001b[0;34m(code_string)\u001b[0m\n\u001b[1;32m      5\u001b[0m global_namespace \u001b[38;5;241m=\u001b[39m {}\n\u001b[1;32m      7\u001b[0m \u001b[38;5;66;03m# Execute the code in the custom global namespace\u001b[39;00m\n\u001b[0;32m----> 8\u001b[0m \u001b[43mexec\u001b[49m\u001b[43m(\u001b[49m\u001b[43mcode_string\u001b[49m\u001b[43m,\u001b[49m\u001b[43m \u001b[49m\u001b[43mglobal_namespace\u001b[49m\u001b[43m)\u001b[49m\n\u001b[1;32m     10\u001b[0m \u001b[38;5;66;03m# If 'func' is defined in the code, print its source\u001b[39;00m\n\u001b[1;32m     11\u001b[0m \u001b[38;5;28;01mif\u001b[39;00m \u001b[38;5;124m'\u001b[39m\u001b[38;5;124mfunc\u001b[39m\u001b[38;5;124m'\u001b[39m \u001b[38;5;129;01min\u001b[39;00m global_namespace:\n",
      "File \u001b[0;32m<string>:7\u001b[0m\n",
      "File \u001b[0;32m/opt/miniconda3/envs/hypster-env/lib/python3.10/inspect.py:1139\u001b[0m, in \u001b[0;36mgetsource\u001b[0;34m(object)\u001b[0m\n\u001b[1;32m   1133\u001b[0m \u001b[38;5;28;01mdef\u001b[39;00m \u001b[38;5;21mgetsource\u001b[39m(\u001b[38;5;28mobject\u001b[39m):\n\u001b[1;32m   1134\u001b[0m \u001b[38;5;250m    \u001b[39m\u001b[38;5;124;03m\"\"\"Return the text of the source code for an object.\u001b[39;00m\n\u001b[1;32m   1135\u001b[0m \n\u001b[1;32m   1136\u001b[0m \u001b[38;5;124;03m    The argument may be a module, class, method, function, traceback, frame,\u001b[39;00m\n\u001b[1;32m   1137\u001b[0m \u001b[38;5;124;03m    or code object.  The source code is returned as a single string.  An\u001b[39;00m\n\u001b[1;32m   1138\u001b[0m \u001b[38;5;124;03m    OSError is raised if the source code cannot be retrieved.\"\"\"\u001b[39;00m\n\u001b[0;32m-> 1139\u001b[0m     lines, lnum \u001b[38;5;241m=\u001b[39m \u001b[43mgetsourcelines\u001b[49m\u001b[43m(\u001b[49m\u001b[38;5;28;43mobject\u001b[39;49m\u001b[43m)\u001b[49m\n\u001b[1;32m   1140\u001b[0m     \u001b[38;5;28;01mreturn\u001b[39;00m \u001b[38;5;124m'\u001b[39m\u001b[38;5;124m'\u001b[39m\u001b[38;5;241m.\u001b[39mjoin(lines)\n",
      "File \u001b[0;32m/opt/miniconda3/envs/hypster-env/lib/python3.10/inspect.py:1121\u001b[0m, in \u001b[0;36mgetsourcelines\u001b[0;34m(object)\u001b[0m\n\u001b[1;32m   1113\u001b[0m \u001b[38;5;250m\u001b[39m\u001b[38;5;124;03m\"\"\"Return a list of source lines and starting line number for an object.\u001b[39;00m\n\u001b[1;32m   1114\u001b[0m \n\u001b[1;32m   1115\u001b[0m \u001b[38;5;124;03mThe argument may be a module, class, method, function, traceback, frame,\u001b[39;00m\n\u001b[0;32m   (...)\u001b[0m\n\u001b[1;32m   1118\u001b[0m \u001b[38;5;124;03moriginal source file the first line of code was found.  An OSError is\u001b[39;00m\n\u001b[1;32m   1119\u001b[0m \u001b[38;5;124;03mraised if the source code cannot be retrieved.\"\"\"\u001b[39;00m\n\u001b[1;32m   1120\u001b[0m \u001b[38;5;28mobject\u001b[39m \u001b[38;5;241m=\u001b[39m unwrap(\u001b[38;5;28mobject\u001b[39m)\n\u001b[0;32m-> 1121\u001b[0m lines, lnum \u001b[38;5;241m=\u001b[39m \u001b[43mfindsource\u001b[49m\u001b[43m(\u001b[49m\u001b[38;5;28;43mobject\u001b[39;49m\u001b[43m)\u001b[49m\n\u001b[1;32m   1123\u001b[0m \u001b[38;5;28;01mif\u001b[39;00m istraceback(\u001b[38;5;28mobject\u001b[39m):\n\u001b[1;32m   1124\u001b[0m     \u001b[38;5;28mobject\u001b[39m \u001b[38;5;241m=\u001b[39m \u001b[38;5;28mobject\u001b[39m\u001b[38;5;241m.\u001b[39mtb_frame\n",
      "File \u001b[0;32m/opt/miniconda3/envs/hypster-env/lib/python3.10/inspect.py:958\u001b[0m, in \u001b[0;36mfindsource\u001b[0;34m(object)\u001b[0m\n\u001b[1;32m    956\u001b[0m     lines \u001b[38;5;241m=\u001b[39m linecache\u001b[38;5;241m.\u001b[39mgetlines(file)\n\u001b[1;32m    957\u001b[0m \u001b[38;5;28;01mif\u001b[39;00m \u001b[38;5;129;01mnot\u001b[39;00m lines:\n\u001b[0;32m--> 958\u001b[0m     \u001b[38;5;28;01mraise\u001b[39;00m \u001b[38;5;167;01mOSError\u001b[39;00m(\u001b[38;5;124m'\u001b[39m\u001b[38;5;124mcould not get source code\u001b[39m\u001b[38;5;124m'\u001b[39m)\n\u001b[1;32m    960\u001b[0m \u001b[38;5;28;01mif\u001b[39;00m ismodule(\u001b[38;5;28mobject\u001b[39m):\n\u001b[1;32m    961\u001b[0m     \u001b[38;5;28;01mreturn\u001b[39;00m lines, \u001b[38;5;241m0\u001b[39m\n",
      "\u001b[0;31mOSError\u001b[0m: could not get source code"
     ]
    }
   ],
   "source": [
    "import inspect\n",
    "\n",
    "def execute_with_source(code_string):\n",
    "    # Create a dictionary to serve as the global namespace\n",
    "    global_namespace = {}\n",
    "    \n",
    "    # Execute the code in the custom global namespace\n",
    "    exec(code_string, global_namespace)\n",
    "    \n",
    "    # If 'func' is defined in the code, print its source\n",
    "    if 'func' in global_namespace:\n",
    "        func = global_namespace['func']\n",
    "        print(inspect.getsource(func))\n",
    "\n",
    "# Your original code as a string\n",
    "code = \"\"\"\n",
    "import inspect\n",
    "\n",
    "def func():\n",
    "    print(\"5\")\n",
    "\n",
    "print(inspect.getsource(func))\n",
    "\"\"\"\n",
    "\n",
    "# Execute the code using our custom function\n",
    "execute_with_source(code)"
   ]
  },
  {
   "cell_type": "code",
   "execution_count": 3,
   "metadata": {},
   "outputs": [
    {
     "ename": "OSError",
     "evalue": "could not get source code",
     "output_type": "error",
     "traceback": [
      "\u001b[0;31m---------------------------------------------------------------------------\u001b[0m",
      "\u001b[0;31mOSError\u001b[0m                                   Traceback (most recent call last)",
      "Cell \u001b[0;32mIn[3], line 1\u001b[0m\n\u001b[0;32m----> 1\u001b[0m \u001b[43mexec\u001b[49m\u001b[43m(\u001b[49m\u001b[43mcode\u001b[49m\u001b[43m)\u001b[49m\n",
      "File \u001b[0;32m<string>:5\u001b[0m\n",
      "File \u001b[0;32m~/python_workspace/hypster/src/hypster/core.py:241\u001b[0m, in \u001b[0;36mconfig\u001b[0;34m(func)\u001b[0m\n\u001b[1;32m    240\u001b[0m \u001b[38;5;28;01mdef\u001b[39;00m \u001b[38;5;21mconfig\u001b[39m(func: Callable) \u001b[38;5;241m-\u001b[39m\u001b[38;5;241m>\u001b[39m Hypster:\n\u001b[0;32m--> 241\u001b[0m     \u001b[38;5;28;01mreturn\u001b[39;00m \u001b[43mHypster\u001b[49m\u001b[43m(\u001b[49m\u001b[43mfunc\u001b[49m\u001b[43m)\u001b[49m\n",
      "File \u001b[0;32m~/python_workspace/hypster/src/hypster/core.py:175\u001b[0m, in \u001b[0;36mHypster.__init__\u001b[0;34m(self, func, source_code)\u001b[0m\n\u001b[1;32m    173\u001b[0m \u001b[38;5;28;01mdef\u001b[39;00m \u001b[38;5;21m__init__\u001b[39m(\u001b[38;5;28mself\u001b[39m, func: Callable, source_code: \u001b[38;5;28mstr\u001b[39m \u001b[38;5;241m=\u001b[39m \u001b[38;5;28;01mNone\u001b[39;00m):\n\u001b[1;32m    174\u001b[0m     \u001b[38;5;28mself\u001b[39m\u001b[38;5;241m.\u001b[39mfunc \u001b[38;5;241m=\u001b[39m func\n\u001b[0;32m--> 175\u001b[0m     \u001b[38;5;28mself\u001b[39m\u001b[38;5;241m.\u001b[39msource_code \u001b[38;5;241m=\u001b[39m source_code \u001b[38;5;129;01mor\u001b[39;00m \u001b[43minspect\u001b[49m\u001b[38;5;241;43m.\u001b[39;49m\u001b[43mgetsource\u001b[49m\u001b[43m(\u001b[49m\u001b[43mfunc\u001b[49m\u001b[43m)\u001b[49m\n",
      "File \u001b[0;32m/opt/miniconda3/envs/hypster-env/lib/python3.10/inspect.py:1139\u001b[0m, in \u001b[0;36mgetsource\u001b[0;34m(object)\u001b[0m\n\u001b[1;32m   1133\u001b[0m \u001b[38;5;28;01mdef\u001b[39;00m \u001b[38;5;21mgetsource\u001b[39m(\u001b[38;5;28mobject\u001b[39m):\n\u001b[1;32m   1134\u001b[0m \u001b[38;5;250m    \u001b[39m\u001b[38;5;124;03m\"\"\"Return the text of the source code for an object.\u001b[39;00m\n\u001b[1;32m   1135\u001b[0m \n\u001b[1;32m   1136\u001b[0m \u001b[38;5;124;03m    The argument may be a module, class, method, function, traceback, frame,\u001b[39;00m\n\u001b[1;32m   1137\u001b[0m \u001b[38;5;124;03m    or code object.  The source code is returned as a single string.  An\u001b[39;00m\n\u001b[1;32m   1138\u001b[0m \u001b[38;5;124;03m    OSError is raised if the source code cannot be retrieved.\"\"\"\u001b[39;00m\n\u001b[0;32m-> 1139\u001b[0m     lines, lnum \u001b[38;5;241m=\u001b[39m \u001b[43mgetsourcelines\u001b[49m\u001b[43m(\u001b[49m\u001b[38;5;28;43mobject\u001b[39;49m\u001b[43m)\u001b[49m\n\u001b[1;32m   1140\u001b[0m     \u001b[38;5;28;01mreturn\u001b[39;00m \u001b[38;5;124m'\u001b[39m\u001b[38;5;124m'\u001b[39m\u001b[38;5;241m.\u001b[39mjoin(lines)\n",
      "File \u001b[0;32m/opt/miniconda3/envs/hypster-env/lib/python3.10/inspect.py:1121\u001b[0m, in \u001b[0;36mgetsourcelines\u001b[0;34m(object)\u001b[0m\n\u001b[1;32m   1113\u001b[0m \u001b[38;5;250m\u001b[39m\u001b[38;5;124;03m\"\"\"Return a list of source lines and starting line number for an object.\u001b[39;00m\n\u001b[1;32m   1114\u001b[0m \n\u001b[1;32m   1115\u001b[0m \u001b[38;5;124;03mThe argument may be a module, class, method, function, traceback, frame,\u001b[39;00m\n\u001b[0;32m   (...)\u001b[0m\n\u001b[1;32m   1118\u001b[0m \u001b[38;5;124;03moriginal source file the first line of code was found.  An OSError is\u001b[39;00m\n\u001b[1;32m   1119\u001b[0m \u001b[38;5;124;03mraised if the source code cannot be retrieved.\"\"\"\u001b[39;00m\n\u001b[1;32m   1120\u001b[0m \u001b[38;5;28mobject\u001b[39m \u001b[38;5;241m=\u001b[39m unwrap(\u001b[38;5;28mobject\u001b[39m)\n\u001b[0;32m-> 1121\u001b[0m lines, lnum \u001b[38;5;241m=\u001b[39m \u001b[43mfindsource\u001b[49m\u001b[43m(\u001b[49m\u001b[38;5;28;43mobject\u001b[39;49m\u001b[43m)\u001b[49m\n\u001b[1;32m   1123\u001b[0m \u001b[38;5;28;01mif\u001b[39;00m istraceback(\u001b[38;5;28mobject\u001b[39m):\n\u001b[1;32m   1124\u001b[0m     \u001b[38;5;28mobject\u001b[39m \u001b[38;5;241m=\u001b[39m \u001b[38;5;28mobject\u001b[39m\u001b[38;5;241m.\u001b[39mtb_frame\n",
      "File \u001b[0;32m/opt/miniconda3/envs/hypster-env/lib/python3.10/inspect.py:958\u001b[0m, in \u001b[0;36mfindsource\u001b[0;34m(object)\u001b[0m\n\u001b[1;32m    956\u001b[0m     lines \u001b[38;5;241m=\u001b[39m linecache\u001b[38;5;241m.\u001b[39mgetlines(file)\n\u001b[1;32m    957\u001b[0m \u001b[38;5;28;01mif\u001b[39;00m \u001b[38;5;129;01mnot\u001b[39;00m lines:\n\u001b[0;32m--> 958\u001b[0m     \u001b[38;5;28;01mraise\u001b[39;00m \u001b[38;5;167;01mOSError\u001b[39;00m(\u001b[38;5;124m'\u001b[39m\u001b[38;5;124mcould not get source code\u001b[39m\u001b[38;5;124m'\u001b[39m)\n\u001b[1;32m    960\u001b[0m \u001b[38;5;28;01mif\u001b[39;00m ismodule(\u001b[38;5;28mobject\u001b[39m):\n\u001b[1;32m    961\u001b[0m     \u001b[38;5;28;01mreturn\u001b[39;00m lines, \u001b[38;5;241m0\u001b[39m\n",
      "\u001b[0;31mOSError\u001b[0m: could not get source code"
     ]
    }
   ],
   "source": [
    "exec(code)"
   ]
  },
  {
   "cell_type": "code",
   "execution_count": 3,
   "metadata": {},
   "outputs": [],
   "source": [
    "import hypster\n",
    "from hypster import HP\n",
    "\n",
    "@hypster.config\n",
    "def my_config(hp: HP):\n",
    "    chunking_strategy = hp.select(['paragraph', 'semantic', 'fixed'], default='paragraph')\n",
    "    \n",
    "    llm_model = hp.select({'haiku': 'claude-3-haiku-20240307', \n",
    "                           'sonnet': 'claude-3-5-sonnet-20240620',\n",
    "                           'gpt-4o-mini': 'gpt-4o-mini'}, default='gpt-4o-mini')\n",
    "    \n",
    "    llm_config = {'temperature': hp.number_input(0), \n",
    "                  'max_tokens': hp.number_input(64)}\n",
    "    \n",
    "    system_prompt = hp.text_input('You are a helpful assistant. Answer with one word only')"
   ]
  },
  {
   "cell_type": "code",
   "execution_count": 4,
   "metadata": {},
   "outputs": [],
   "source": [
    "results = my_config(final_vars=[\"chunking_strategy\", \"llm_config\", \"llm_model\"], \n",
    "                    selections={\"llm_model\" : \"haiku\"}, \n",
    "                    overrides={\"llm_config.temperature\" : 0.5})"
   ]
  },
  {
   "cell_type": "code",
   "execution_count": 5,
   "metadata": {},
   "outputs": [
    {
     "data": {
      "text/plain": [
       "{'chunking_strategy': 'paragraph',\n",
       " 'llm_config': {'temperature': 0, 'max_tokens': 64},\n",
       " 'llm_model': 'claude-3-haiku-20240307'}"
      ]
     },
     "execution_count": 5,
     "metadata": {},
     "output_type": "execute_result"
    }
   ],
   "source": [
    "results"
   ]
  },
  {
   "cell_type": "code",
   "execution_count": 47,
   "metadata": {},
   "outputs": [],
   "source": [
    "res, snp = my_config(selections={\"a\":\"c\"}, return_config_snapshot=True)#, overrides={\"c\" : 3, \"d\" : 4})"
   ]
  },
  {
   "cell_type": "code",
   "execution_count": 49,
   "metadata": {},
   "outputs": [
    {
     "data": {
      "text/plain": [
       "{'a': 'c', 'b': 1, 'c': 'ette', 'conf': {'a': 'c'}, 'd': 4}"
      ]
     },
     "execution_count": 49,
     "metadata": {},
     "output_type": "execute_result"
    }
   ],
   "source": [
    "res"
   ]
  },
  {
   "cell_type": "code",
   "execution_count": 48,
   "metadata": {},
   "outputs": [
    {
     "data": {
      "text/plain": [
       "{'a': 'c', 'b': 1, 'c': 'ette', 'd': 4}"
      ]
     },
     "execution_count": 48,
     "metadata": {},
     "output_type": "execute_result"
    }
   ],
   "source": [
    "snp"
   ]
  },
  {
   "cell_type": "code",
   "execution_count": 50,
   "metadata": {},
   "outputs": [
    {
     "data": {
      "text/plain": [
       "True"
      ]
     },
     "execution_count": 50,
     "metadata": {},
     "output_type": "execute_result"
    }
   ],
   "source": [
    "res == my_config(overrides=snp)#, overrides={\"c\" : 3, \"d\" : 4})"
   ]
  },
  {
   "cell_type": "code",
   "execution_count": 51,
   "metadata": {},
   "outputs": [],
   "source": [
    "hypster.save(my_config, \"my_config.py\")"
   ]
  },
  {
   "cell_type": "code",
   "execution_count": 52,
   "metadata": {},
   "outputs": [],
   "source": [
    "func = hypster.load(\"my_config.py\")"
   ]
  },
  {
   "cell_type": "code",
   "execution_count": 53,
   "metadata": {},
   "outputs": [],
   "source": [
    "import hypster\n",
    "from hypster import HP\n",
    "\n",
    "@hypster.config\n",
    "def my_config_parent(hp: HP):\n",
    "    import hypster\n",
    "    my_config = hypster.load(\"my_config.py\")\n",
    "    my_conf = hp.propagate(my_config)\n",
    "    a = hp.select([\"a\", \"b\", \"c\"], default=\"a\")\n",
    "    c = hp.select({\"x\": 1, \"y\": 2}, default=\"x\")"
   ]
  },
  {
   "cell_type": "code",
   "execution_count": 54,
   "metadata": {},
   "outputs": [],
   "source": [
    "result, snp = my_config_parent(final_vars=[], overrides={\"my_conf.a\": \"44\"}, return_config_snapshot=True)"
   ]
  },
  {
   "cell_type": "code",
   "execution_count": 55,
   "metadata": {},
   "outputs": [
    {
     "data": {
      "text/plain": [
       "{'my_config': <hypster.core.Hypster at 0x2450d756bf0>,\n",
       " 'my_conf': {'a': '44', 'b': 1, 'c': 'ette', 'conf': {'a': '44'}, 'd': 4},\n",
       " 'a': 'a',\n",
       " 'c': 1}"
      ]
     },
     "execution_count": 55,
     "metadata": {},
     "output_type": "execute_result"
    }
   ],
   "source": [
    "result"
   ]
  },
  {
   "cell_type": "code",
   "execution_count": 56,
   "metadata": {},
   "outputs": [
    {
     "data": {
      "text/plain": [
       "{'my_conf.a': '44',\n",
       " 'my_conf.b': 1,\n",
       " 'my_conf.c': 'ette',\n",
       " 'my_conf.d': 4,\n",
       " 'a': 'a',\n",
       " 'c': 1}"
      ]
     },
     "execution_count": 56,
     "metadata": {},
     "output_type": "execute_result"
    }
   ],
   "source": [
    "snp"
   ]
  },
  {
   "cell_type": "code",
   "execution_count": 57,
   "metadata": {},
   "outputs": [
    {
     "data": {
      "text/plain": [
       "{'my_config': <hypster.core.Hypster at 0x2450d756cb0>,\n",
       " 'my_conf': {'a': '44', 'b': 1, 'c': 'ette', 'conf': {'a': '44'}, 'd': 4},\n",
       " 'a': 'a',\n",
       " 'c': 1}"
      ]
     },
     "execution_count": 57,
     "metadata": {},
     "output_type": "execute_result"
    }
   ],
   "source": [
    "my_config_parent(overrides=snp)"
   ]
  },
  {
   "cell_type": "code",
   "execution_count": 60,
   "metadata": {},
   "outputs": [],
   "source": [
    "hypster.save(my_config, \"my_config.py\")"
   ]
  },
  {
   "cell_type": "code",
   "execution_count": 61,
   "metadata": {},
   "outputs": [],
   "source": [
    "loaded_config = hypster.load(\"my_config.py\")"
   ]
  },
  {
   "cell_type": "code",
   "execution_count": 62,
   "metadata": {},
   "outputs": [],
   "source": [
    "result = loaded_config(final_vars=[\"a\"], selections={\"b\": \"y\"}, overrides={\"a\": \"c\"})"
   ]
  },
  {
   "cell_type": "code",
   "execution_count": 63,
   "metadata": {},
   "outputs": [
    {
     "data": {
      "text/plain": [
       "<hypster.core.Hypster at 0x1ffeab1d210>"
      ]
     },
     "execution_count": 63,
     "metadata": {},
     "output_type": "execute_result"
    }
   ],
   "source": [
    "loaded_config"
   ]
  },
  {
   "cell_type": "code",
   "execution_count": 64,
   "metadata": {},
   "outputs": [
    {
     "data": {
      "text/plain": [
       "{'a': 'c'}"
      ]
     },
     "execution_count": 64,
     "metadata": {},
     "output_type": "execute_result"
    }
   ],
   "source": [
    "result"
   ]
  },
  {
   "cell_type": "code",
   "execution_count": null,
   "metadata": {},
   "outputs": [],
   "source": [
    "result = loaded_config(final_vars=[\"a\"], selections={\"b\": \"y\"}, overrides={\"a\": \"c\"})\n",
    "print(result)"
   ]
  },
  {
   "cell_type": "code",
   "execution_count": 2,
   "metadata": {},
   "outputs": [],
   "source": [
    "from hypster import hypster\n",
    "\n",
    "@hypster\n",
    "def test(hp):\n",
    "    a = hp.select([\"a\", \"b\", \"c\"], default=\"a\")\n",
    "    b = hp.select({\"a\" : \"hello\", \"b\" : \"world\"}, default=\"a\")"
   ]
  },
  {
   "cell_type": "code",
   "execution_count": 3,
   "metadata": {},
   "outputs": [],
   "source": [
    "res = test(final_vars = [\"a\", \"b\"], selections={\"a\" : \"c\"}, overrides = {\"b\" : \"heyyy\"})"
   ]
  },
  {
   "cell_type": "code",
   "execution_count": 4,
   "metadata": {},
   "outputs": [
    {
     "data": {
      "text/plain": [
       "{'a': 'a', 'b': 'hello'}"
      ]
     },
     "execution_count": 4,
     "metadata": {},
     "output_type": "execute_result"
    }
   ],
   "source": [
    "res"
   ]
  },
  {
   "cell_type": "code",
   "execution_count": null,
   "metadata": {},
   "outputs": [],
   "source": []
  },
  {
   "cell_type": "code",
   "execution_count": 4,
   "metadata": {},
   "outputs": [
    {
     "name": "stdout",
     "output_type": "stream",
     "text": [
      "Writing configs.py\n"
     ]
    }
   ],
   "source": [
    "%%writefile configs.py\n",
    "from hypster import Select, prep\n",
    "from dataclasses import dataclass\n",
    "\n",
    "class CacheInterface:\n",
    "    pass\n",
    "\n",
    "class DiskCache(CacheInterface):\n",
    "    def __init__(self, path, cache_op: str):\n",
    "        self.path = path\n",
    "        self.cache_op = cache_op\n",
    "\n",
    "class MemoryCache(CacheInterface):\n",
    "    def __init__(self, max_size, cache_op: str):\n",
    "        self.max_size = max_size\n",
    "        self.cache_op = cache_op\n",
    "\n",
    "class SqlCache(CacheInterface):\n",
    "    def __init__(self, conn_str, table):\n",
    "        self.conn_str = conn_str\n",
    "        self.table = table\n",
    "\n",
    "@dataclass\n",
    "class CacheManager:\n",
    "    cache: CacheInterface\n",
    "\n",
    "cache_manager = prep(CacheManager(cache=Select(\"cache\"))) #this can also be None\n",
    "\n",
    "\n",
    "cache_op = \"all\"\n",
    "\n",
    "max_size = 1000\n",
    "cache__mem = prep(MemoryCache(max_size=max_size, cache_op=cache_op))\n",
    "\n",
    "path = \"data/cache\"\n",
    "cache__disk = prep(DiskCache(path=path, cache_op=cache_op))\n",
    "\n",
    "cache__new = prep(SqlCache(conn_str=\"sqlite:///data/cache.db\", \n",
    "                           table=\"cache\"))\n",
    "\n",
    "class OpenAiDriver:\n",
    "    def __init__(self, model):\n",
    "        self.model = model\n",
    "\n",
    "class AnthropicDriver:\n",
    "    def __init__(self, model):\n",
    "        self.model = model\n",
    "\n",
    "llm_driver = Select(\"llm_driver\")\n",
    "llm_driver__openai = prep(OpenAiDriver(model=\"gpt3.5\"))\n",
    "llm_driver__anthropic = prep(AnthropicDriver(model=\"claude3.5\"))"
   ]
  },
  {
   "cell_type": "code",
   "execution_count": 10,
   "metadata": {},
   "outputs": [
    {
     "name": "stdout",
     "output_type": "stream",
     "text": [
      "The autoreload extension is already loaded. To reload it, use:\n",
      "  %reload_ext autoreload\n"
     ]
    }
   ],
   "source": [
    "%load_ext autoreload"
   ]
  },
  {
   "cell_type": "code",
   "execution_count": 11,
   "metadata": {},
   "outputs": [],
   "source": [
    "%autoreload 2"
   ]
  },
  {
   "cell_type": "code",
   "execution_count": 17,
   "metadata": {},
   "outputs": [],
   "source": [
    "from hypster import Builder\n",
    "import configs\n",
    "\n",
    "builder = Builder().with_modules(configs)\n",
    "driver = builder.build()\n"
   ]
  },
  {
   "cell_type": "code",
   "execution_count": 18,
   "metadata": {},
   "outputs": [
    {
     "name": "stdout",
     "output_type": "stream",
     "text": [
      "\n",
      "Configuration tree:\n",
      "└── root (root)\n",
      "    ├── cache_manager (CacheManager)\n",
      "    │   └── cache (Select): cache\n",
      "    │       ├── mem (MemoryCache)\n",
      "    │       │   ├── max_size (reference): 1000\n",
      "    │       │   └── cache_op (reference): all\n",
      "    │       ├── disk (DiskCache)\n",
      "    │       │   ├── path (reference): data/cache\n",
      "    │       │   └── cache_op (reference) [SHARED]\n",
      "    │       └── new (SqlCache)\n",
      "    │           ├── conn_str (value): sqlite:///data/cache.db\n",
      "    │           └── table (value): cache\n",
      "    └── llm_driver (Select): llm_driver\n",
      "        ├── openai (OpenAiDriver)\n",
      "        │   └── model (value): gpt3.5\n",
      "        └── anthropic (AnthropicDriver)\n",
      "            └── model (value) [SHARED]\n",
      "\n"
     ]
    }
   ],
   "source": [
    "# Visualize configuration tree\n",
    "from hypster import visualize_config_tree\n",
    "print(\"\\nConfiguration tree:\")\n",
    "print(visualize_config_tree(driver.root))"
   ]
  },
  {
   "cell_type": "code",
   "execution_count": 34,
   "metadata": {},
   "outputs": [],
   "source": [
    "final_vars = [\"cache_manager\", \"llm_driver\"]\n",
    "selections = {\"llm_driver\": \"anthropic\", \n",
    "              \"cache_manager.cache\": \"disk\"}\n",
    "overrides = {\"llm_driver.anthropic.model\": \"claude3-opus\"}\n",
    "results = driver.instantiate(final_vars, selections, overrides)"
   ]
  },
  {
   "cell_type": "code",
   "execution_count": 35,
   "metadata": {},
   "outputs": [
    {
     "data": {
      "text/plain": [
       "'data/cache'"
      ]
     },
     "execution_count": 35,
     "metadata": {},
     "output_type": "execute_result"
    }
   ],
   "source": [
    "results[\"cache_manager\"].cache.path"
   ]
  },
  {
   "cell_type": "code",
   "execution_count": 36,
   "metadata": {},
   "outputs": [
    {
     "name": "stdout",
     "output_type": "stream",
     "text": [
      "\n",
      "Configuration tree:\n",
      "└── root (root)\n",
      "    ├── cache_manager (CacheManager)\n",
      "    │   └── cache (Select): cache\n",
      "    │       └── disk (DiskCache)\n",
      "    │           ├── path (reference): data/cache\n",
      "    │           └── cache_op (reference): all\n",
      "    ├── llm_driver (Select): llm_driver\n",
      "    │   ├── openai (OpenAiDriver)\n",
      "    │   │   └── model (value): gpt3.5\n",
      "    │   └── anthropic (AnthropicDriver)\n",
      "    │       └── model (value) [SHARED]\n",
      "    ├── mem (MemoryCache)\n",
      "    │   ├── max_size (reference): 1000\n",
      "    │   └── cache_op (reference) [SHARED]\n",
      "    ├── disk (DiskCache) [SHARED]\n",
      "    └── new (SqlCache)\n",
      "        ├── conn_str (value): sqlite:///data/cache.db\n",
      "        └── table (value): cache\n",
      "\n"
     ]
    }
   ],
   "source": [
    "# Visualize configuration tree\n",
    "from hypster import visualize_config_tree\n",
    "print(\"\\nConfiguration tree:\")\n",
    "print(visualize_config_tree(driver.root))"
   ]
  },
  {
   "cell_type": "code",
   "execution_count": null,
   "metadata": {},
   "outputs": [],
   "source": []
  }
 ],
 "metadata": {
  "kernelspec": {
   "display_name": "ml-env",
   "language": "python",
   "name": "python3"
  },
  "language_info": {
   "codemirror_mode": {
    "name": "ipython",
    "version": 3
   },
   "file_extension": ".py",
   "mimetype": "text/x-python",
   "name": "python",
   "nbconvert_exporter": "python",
   "pygments_lexer": "ipython3",
   "version": "3.10.14"
  },
  "orig_nbformat": 4
 },
 "nbformat": 4,
 "nbformat_minor": 2
}
