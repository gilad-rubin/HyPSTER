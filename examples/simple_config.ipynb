{
    "cells": [
        {
            "cell_type": "code",
            "execution_count": 8,
            "metadata": {},
            "outputs": [],
            "source": [
                "from hypster import HP, config\n",
                "\n",
                "\n",
                "@config\n",
                "def config_func(hp: HP):\n",
                "    value = hp.text(default=\"hello\", name=\"param\")\n",
                "\n",
                "\n",
                "result = config_func(values={\"param\": 123})  # Not a string"
            ]
        },
        {
            "cell_type": "code",
            "execution_count": 9,
            "metadata": {},
            "outputs": [
                {
                    "data": {
                        "text/plain": [
                            "{'value': 123}"
                        ]
                    },
                    "execution_count": 9,
                    "metadata": {},
                    "output_type": "execute_result"
                }
            ],
            "source": [
                "result"
            ]
        },
        {
            "cell_type": "code",
            "execution_count": 2,
            "metadata": {},
            "outputs": [],
            "source": [
                "assert result[\"value\"] == \"hello\""
            ]
        },
        {
            "cell_type": "code",
            "execution_count": 3,
            "metadata": {},
            "outputs": [],
            "source": [
                "import logging\n",
                "\n",
                "logging.basicConfig(level=logging.WARNING)"
            ]
        },
        {
            "cell_type": "code",
            "execution_count": 4,
            "metadata": {},
            "outputs": [],
            "source": [
                "from hypster import HP, config\n",
                "\n",
                "\n",
                "@config\n",
                "def my_config(hp: HP):\n",
                "    var = hp.select([\"a\", \"b\"], default=\"a\")\n",
                "    var2 = hp.select({\"a\": 1, \"b\": 2}, default=\"a\")"
            ]
        },
        {
            "cell_type": "code",
            "execution_count": 5,
            "metadata": {},
            "outputs": [
                {
                    "data": {
                        "text/plain": [
                            "{'var': 'b', 'var2': 4}"
                        ]
                    },
                    "execution_count": 5,
                    "metadata": {},
                    "output_type": "execute_result"
                }
            ],
            "source": [
                "my_config(values={\"var\": \"b\", \"var2\": 4})"
            ]
        },
        {
            "cell_type": "code",
            "execution_count": 6,
            "metadata": {},
            "outputs": [
                {
                    "ename": "TypeError",
                    "evalue": "InMemoryDatabase.get_records() missing 1 required positional argument: 'run_id'",
                    "output_type": "error",
                    "traceback": [
                        "\u001b[0;31m---------------------------------------------------------------------------\u001b[0m",
                        "\u001b[0;31mTypeError\u001b[0m                                 Traceback (most recent call last)",
                        "Cell \u001b[0;32mIn[6], line 1\u001b[0m\n\u001b[0;32m----> 1\u001b[0m \u001b[43mmy_config\u001b[49m\u001b[38;5;241;43m.\u001b[39;49m\u001b[43mdb\u001b[49m\u001b[38;5;241;43m.\u001b[39;49m\u001b[43mget_records\u001b[49m\u001b[43m(\u001b[49m\u001b[43m)\u001b[49m\n",
                        "\u001b[0;31mTypeError\u001b[0m: InMemoryDatabase.get_records() missing 1 required positional argument: 'run_id'"
                    ]
                }
            ],
            "source": [
                "my_config.run_history.get_records()"
            ]
        },
        {
            "cell_type": "code",
            "execution_count": 5,
            "metadata": {},
            "outputs": [],
            "source": [
                "from hypster import HP, config\n",
                "\n",
                "\n",
                "@config\n",
                "def my_config(hp: HP):\n",
                "    var = hp.select([\"a\", \"b\"], default=\"a\", disable_overrides=True)"
            ]
        },
        {
            "cell_type": "code",
            "execution_count": 6,
            "metadata": {},
            "outputs": [
                {
                    "ename": "TypeError",
                    "evalue": "Hypster.__call__() got an unexpected keyword argument 'selections'",
                    "output_type": "error",
                    "traceback": [
                        "\u001b[0;31m---------------------------------------------------------------------------\u001b[0m",
                        "\u001b[0;31mTypeError\u001b[0m                                 Traceback (most recent call last)",
                        "Cell \u001b[0;32mIn[6], line 1\u001b[0m\n\u001b[0;32m----> 1\u001b[0m \u001b[43mmy_config\u001b[49m\u001b[43m(\u001b[49m\u001b[43mselections\u001b[49m\u001b[38;5;241;43m=\u001b[39;49m\u001b[43m{\u001b[49m\u001b[38;5;124;43m\"\u001b[39;49m\u001b[38;5;124;43mvar\u001b[39;49m\u001b[38;5;124;43m\"\u001b[39;49m\u001b[43m:\u001b[49m\u001b[43m \u001b[49m\u001b[38;5;241;43m5\u001b[39;49m\u001b[43m}\u001b[49m\u001b[43m)\u001b[49m\n",
                        "\u001b[0;31mTypeError\u001b[0m: Hypster.__call__() got an unexpected keyword argument 'selections'"
                    ]
                }
            ],
            "source": [
                "my_config(selections={\"var\": 5})"
            ]
        },
        {
            "cell_type": "code",
            "execution_count": 5,
            "metadata": {},
            "outputs": [],
            "source": [
                "import hypster\n",
                "from hypster import HP\n",
                "\n",
                "\n",
                "@hypster.config\n",
                "def my_config(hp: HP):\n",
                "    class MyClass:\n",
                "        def __init__(self, a):\n",
                "            self.a = a\n",
                "\n",
                "        def test(self, value):\n",
                "            return {\"value\": value}\n",
                "\n",
                "    my_class = MyClass(a=5).test(value=hp.select([\"c\", \"d\"], default=\"d\"))"
            ]
        },
        {
            "cell_type": "code",
            "execution_count": 6,
            "metadata": {},
            "outputs": [
                {
                    "data": {
                        "text/plain": [
                            "{'my_class': {'value': 'd'}}"
                        ]
                    },
                    "execution_count": 6,
                    "metadata": {},
                    "output_type": "execute_result"
                }
            ],
            "source": [
                "my_config()"
            ]
        },
        {
            "cell_type": "code",
            "execution_count": 7,
            "metadata": {},
            "outputs": [],
            "source": [
                "import hypster\n",
                "from hypster import HP\n",
                "\n",
                "\n",
                "@hypster.config\n",
                "def my_config_parent(hp: HP):\n",
                "    my_conf = hp.propagate(\"helper_configs/my_config.py\")[\"llm_model\"]"
            ]
        },
        {
            "cell_type": "code",
            "execution_count": 8,
            "metadata": {},
            "outputs": [
                {
                    "ename": "AttributeError",
                    "evalue": "'HP' object has no attribute 'propagate'",
                    "output_type": "error",
                    "traceback": [
                        "\u001b[0;31m---------------------------------------------------------------------------\u001b[0m",
                        "\u001b[0;31mAttributeError\u001b[0m                            Traceback (most recent call last)",
                        "Cell \u001b[0;32mIn[8], line 1\u001b[0m\n\u001b[0;32m----> 1\u001b[0m \u001b[43mmy_config_parent\u001b[49m\u001b[43m(\u001b[49m\u001b[43m)\u001b[49m\n",
                        "File \u001b[0;32m~/python_workspace/hypster/src/hypster/core.py:67\u001b[0m, in \u001b[0;36mHypster.__call__\u001b[0;34m(self, final_vars, selections, overrides)\u001b[0m\n\u001b[1;32m     55\u001b[0m \u001b[38;5;250m\u001b[39m\u001b[38;5;124;03m\"\"\"\u001b[39;00m\n\u001b[1;32m     56\u001b[0m \u001b[38;5;124;03mExecute the Hypster instance with given parameters.\u001b[39;00m\n\u001b[1;32m     57\u001b[0m \n\u001b[0;32m   (...)\u001b[0m\n\u001b[1;32m     64\u001b[0m \u001b[38;5;124;03m    Dict[str, Any]: The execution result.\u001b[39;00m\n\u001b[1;32m     65\u001b[0m \u001b[38;5;124;03m\"\"\"\u001b[39;00m\n\u001b[1;32m     66\u001b[0m hp \u001b[38;5;241m=\u001b[39m HP(final_vars \u001b[38;5;129;01mor\u001b[39;00m [], selections \u001b[38;5;129;01mor\u001b[39;00m {}, overrides \u001b[38;5;129;01mor\u001b[39;00m {})\n\u001b[0;32m---> 67\u001b[0m result \u001b[38;5;241m=\u001b[39m \u001b[38;5;28;43mself\u001b[39;49m\u001b[38;5;241;43m.\u001b[39;49m\u001b[43m_execute_function\u001b[49m\u001b[43m(\u001b[49m\u001b[43mhp\u001b[49m\u001b[43m,\u001b[49m\u001b[43m \u001b[49m\u001b[38;5;28;43mself\u001b[39;49m\u001b[38;5;241;43m.\u001b[39;49m\u001b[43mmodified_source\u001b[49m\u001b[43m)\u001b[49m\n\u001b[1;32m     68\u001b[0m \u001b[38;5;28mself\u001b[39m\u001b[38;5;241m.\u001b[39msnapshot_history\u001b[38;5;241m.\u001b[39mappend(hp\u001b[38;5;241m.\u001b[39msnapshot)\n\u001b[1;32m     69\u001b[0m \u001b[38;5;28;01mreturn\u001b[39;00m result\n",
                        "File \u001b[0;32m~/python_workspace/hypster/src/hypster/core.py:91\u001b[0m, in \u001b[0;36mHypster._execute_function\u001b[0;34m(self, hp, modified_source)\u001b[0m\n\u001b[1;32m     88\u001b[0m exec_namespace[\u001b[38;5;124m\"\u001b[39m\u001b[38;5;124mhp\u001b[39m\u001b[38;5;124m\"\u001b[39m] \u001b[38;5;241m=\u001b[39m hp\n\u001b[1;32m     90\u001b[0m \u001b[38;5;66;03m# Execute the modified function body in this namespace\u001b[39;00m\n\u001b[0;32m---> 91\u001b[0m \u001b[43mexec\u001b[49m\u001b[43m(\u001b[49m\u001b[43mfunction_body\u001b[49m\u001b[43m,\u001b[49m\u001b[43m \u001b[49m\u001b[43mexec_namespace\u001b[49m\u001b[43m)\u001b[49m\n\u001b[1;32m     93\u001b[0m \u001b[38;5;66;03m# Process and filter the results\u001b[39;00m\n\u001b[1;32m     94\u001b[0m \u001b[38;5;28;01mreturn\u001b[39;00m \u001b[38;5;28mself\u001b[39m\u001b[38;5;241m.\u001b[39m_process_results(exec_namespace, hp\u001b[38;5;241m.\u001b[39mfinal_vars)\n",
                        "File \u001b[0;32m<string>:1\u001b[0m\n",
                        "\u001b[0;31mAttributeError\u001b[0m: 'HP' object has no attribute 'propagate'"
                    ]
                }
            ],
            "source": [
                "my_config_parent()"
            ]
        },
        {
            "cell_type": "code",
            "execution_count": 6,
            "metadata": {},
            "outputs": [],
            "source": [
                "import hypster\n",
                "from hypster import HP\n",
                "\n",
                "\n",
                "@hypster.config\n",
                "def my_config_parent(hp: HP):\n",
                "    my_conf = hp.propagate(\"helper_configs/my_config.py\")[\"llm_model\"]"
            ]
        },
        {
            "cell_type": "code",
            "execution_count": 7,
            "metadata": {},
            "outputs": [
                {
                    "data": {
                        "text/plain": [
                            "{'my_conf': 'gpt-4o-mini'}"
                        ]
                    },
                    "execution_count": 7,
                    "metadata": {},
                    "output_type": "execute_result"
                }
            ],
            "source": [
                "my_config_parent()"
            ]
        },
        {
            "cell_type": "code",
            "execution_count": 8,
            "metadata": {},
            "outputs": [],
            "source": [
                "import hypster\n",
                "from hypster import HP\n",
                "\n",
                "\n",
                "@hypster.config\n",
                "def my_config(hp: HP):\n",
                "    class MyClass:\n",
                "        def __init__(self, a):\n",
                "            self.a = a\n",
                "\n",
                "        def test(self, value):\n",
                "            return {\"value\": value}\n",
                "\n",
                "    my_class = MyClass(a=hp.select([\"c\", \"d\"], default=\"d\"))"
            ]
        },
        {
            "cell_type": "code",
            "execution_count": 9,
            "metadata": {},
            "outputs": [
                {
                    "data": {
                        "text/plain": [
                            "[HPCall(lineno=9, col_offset=25, method_name='select', implicit_name='my_class.a', has_explicit_name=False, call_index=0)]"
                        ]
                    },
                    "execution_count": 9,
                    "metadata": {},
                    "output_type": "execute_result"
                }
            ],
            "source": [
                "my_config.hp_calls"
            ]
        },
        {
            "cell_type": "code",
            "execution_count": 10,
            "metadata": {},
            "outputs": [
                {
                    "data": {
                        "text/plain": [
                            "{'my_class': <MyClass at 0x1064457e0>}"
                        ]
                    },
                    "execution_count": 10,
                    "metadata": {},
                    "output_type": "execute_result"
                }
            ],
            "source": [
                "my_config()"
            ]
        },
        {
            "cell_type": "code",
            "execution_count": 11,
            "metadata": {},
            "outputs": [],
            "source": [
                "code = \"\"\"\n",
                "def test_example_config(hp: HP):\n",
                "    config = {\n",
                "        \"model_type\": hp.select([\"cnn\", \"rnn\"], default=\"cnn\"),\n",
                "        \"learning_rate\": hp.number(0.001, name=\"learning_rate\"),\n",
                "    }\n",
                "\"\"\""
            ]
        },
        {
            "cell_type": "code",
            "execution_count": 12,
            "metadata": {},
            "outputs": [],
            "source": [
                "from hypster.ast_analyzer import collect_hp_calls"
            ]
        },
        {
            "cell_type": "code",
            "execution_count": 13,
            "metadata": {},
            "outputs": [
                {
                    "data": {
                        "text/plain": [
                            "[HPCall(lineno=4, col_offset=22, method_name='select', implicit_name='config.model_type', has_explicit_name=False, call_index=0),\n",
                            " HPCall(lineno=5, col_offset=25, method_name='number', implicit_name='config.learning_rate', has_explicit_name=True, call_index=0)]"
                        ]
                    },
                    "execution_count": 13,
                    "metadata": {},
                    "output_type": "execute_result"
                }
            ],
            "source": [
                "collect_hp_calls(code)"
            ]
        },
        {
            "cell_type": "code",
            "execution_count": 14,
            "metadata": {},
            "outputs": [],
            "source": [
                "from hypster import HP, config\n",
                "\n",
                "\n",
                "@config\n",
                "def my_config(hp: HP):\n",
                "    var = hp.select([\"a\", \"b\"], default=\"a\")"
            ]
        },
        {
            "cell_type": "code",
            "execution_count": 15,
            "metadata": {},
            "outputs": [
                {
                    "data": {
                        "text/plain": [
                            "[HPCall(lineno=2, col_offset=10, method_name='select', implicit_name='var', has_explicit_name=False, call_index=0)]"
                        ]
                    },
                    "execution_count": 15,
                    "metadata": {},
                    "output_type": "execute_result"
                }
            ],
            "source": [
                "my_config.hp_calls"
            ]
        },
        {
            "cell_type": "code",
            "execution_count": 16,
            "metadata": {},
            "outputs": [
                {
                    "name": "stderr",
                    "output_type": "stream",
                    "text": [
                        "2024-10-28 14:56:29,517 - hypster.hp - INFO - Initialized HP with explore_mode: False\n",
                        "2024-10-28 14:56:29,518 - hypster.hp - DEBUG - Added SelectCall: var\n",
                        "2024-10-28 14:56:29,518 - hypster.core - DEBUG - Captured locals: {'var': 'a'}\n",
                        "2024-10-28 14:56:29,519 - hypster.core - DEBUG - Final result after filtering: {'var': 'a'}\n"
                    ]
                },
                {
                    "data": {
                        "text/plain": [
                            "{'var': 'a'}"
                        ]
                    },
                    "execution_count": 16,
                    "metadata": {},
                    "output_type": "execute_result"
                }
            ],
            "source": [
                "my_config()"
            ]
        },
        {
            "cell_type": "code",
            "execution_count": 17,
            "metadata": {},
            "outputs": [
                {
                    "data": {
                        "text/plain": [
                            "[HPCall(lineno=2, col_offset=10, method_name='select', implicit_name='var', has_explicit_name=False, call_index=0)]"
                        ]
                    },
                    "execution_count": 17,
                    "metadata": {},
                    "output_type": "execute_result"
                }
            ],
            "source": [
                "my_config.hp_calls"
            ]
        },
        {
            "cell_type": "code",
            "execution_count": 18,
            "metadata": {},
            "outputs": [
                {
                    "name": "stderr",
                    "output_type": "stream",
                    "text": [
                        "2024-10-28 14:56:29,532 - hypster.ast_analyzer - INFO - Starting HP calls collection\n",
                        "2024-10-28 14:56:29,533 - hypster.ast_analyzer - DEBUG - AST parsing successful\n",
                        "2024-10-28 14:56:29,533 - hypster.ast_analyzer - DEBUG - Parent map built with 48 entries\n",
                        "2024-10-28 14:56:29,533 - hypster.ast_analyzer - DEBUG - Initialized HPCallVisitor\n",
                        "2024-10-28 14:56:29,534 - hypster.ast_analyzer - DEBUG - Checking if node is HP call: True\n",
                        "2024-10-28 14:56:29,534 - hypster.ast_analyzer - DEBUG - Detected hp call at line 2, column 11\n",
                        "2024-10-28 14:56:29,535 - hypster.ast_analyzer - DEBUG - Found assignment to variable 'var1'\n",
                        "2024-10-28 14:56:29,535 - hypster.ast_analyzer - DEBUG - Encountered unsupported parent type 'FunctionDef'\n",
                        "2024-10-28 14:56:29,535 - hypster.ast_analyzer - DEBUG - Inferred implicit name: 'var1'\n",
                        "2024-10-28 14:56:29,536 - hypster.ast_analyzer - DEBUG - HP call at line 2 does not have an explicit name\n",
                        "2024-10-28 14:56:29,536 - hypster.ast_analyzer - DEBUG - Created HPCall instance: HPCall(lineno=2, col_offset=11, method_name='select', implicit_name='var1', has_explicit_name=False, call_index=0)\n",
                        "2024-10-28 14:56:29,536 - hypster.ast_analyzer - DEBUG - Checking if node is HP call: True\n",
                        "2024-10-28 14:56:29,537 - hypster.ast_analyzer - DEBUG - Detected hp call at line 3, column 11\n",
                        "2024-10-28 14:56:29,537 - hypster.ast_analyzer - DEBUG - Found assignment to variable 'var1'\n",
                        "2024-10-28 14:56:29,537 - hypster.ast_analyzer - DEBUG - Encountered unsupported parent type 'FunctionDef'\n",
                        "2024-10-28 14:56:29,538 - hypster.ast_analyzer - DEBUG - Inferred implicit name: 'var1'\n",
                        "2024-10-28 14:56:29,538 - hypster.ast_analyzer - DEBUG - HP call at line 3 does not have an explicit name\n",
                        "2024-10-28 14:56:29,539 - hypster.ast_analyzer - DEBUG - Created HPCall instance: HPCall(lineno=3, col_offset=11, method_name='select', implicit_name='var1', has_explicit_name=False, call_index=0)\n",
                        "2024-10-28 14:56:29,539 - hypster.ast_analyzer - DEBUG - Checking if node is HP call: True\n",
                        "2024-10-28 14:56:29,540 - hypster.ast_analyzer - DEBUG - Detected hp call at line 4, column 11\n",
                        "2024-10-28 14:56:29,540 - hypster.ast_analyzer - DEBUG - Found assignment to variable 'var2'\n",
                        "2024-10-28 14:56:29,540 - hypster.ast_analyzer - DEBUG - Encountered unsupported parent type 'FunctionDef'\n",
                        "2024-10-28 14:56:29,541 - hypster.ast_analyzer - DEBUG - Inferred implicit name: 'var2'\n",
                        "2024-10-28 14:56:29,541 - hypster.ast_analyzer - DEBUG - HP call at line 4 does not have an explicit name\n",
                        "2024-10-28 14:56:29,541 - hypster.ast_analyzer - DEBUG - Created HPCall instance: HPCall(lineno=4, col_offset=11, method_name='select', implicit_name='var2', has_explicit_name=False, call_index=0)\n",
                        "2024-10-28 14:56:29,542 - hypster.ast_analyzer - DEBUG - Checking if node is HP call: True\n",
                        "2024-10-28 14:56:29,542 - hypster.ast_analyzer - DEBUG - Detected hp call at line 6, column 11\n",
                        "2024-10-28 14:56:29,543 - hypster.ast_analyzer - DEBUG - Found assignment to variable 'var3'\n",
                        "2024-10-28 14:56:29,543 - hypster.ast_analyzer - DEBUG - Encountered unsupported parent type 'FunctionDef'\n",
                        "2024-10-28 14:56:29,543 - hypster.ast_analyzer - DEBUG - Inferred implicit name: 'var3'\n",
                        "2024-10-28 14:56:29,544 - hypster.ast_analyzer - DEBUG - HP call at line 6 does not have an explicit name\n",
                        "2024-10-28 14:56:29,544 - hypster.ast_analyzer - DEBUG - Created HPCall instance: HPCall(lineno=6, col_offset=11, method_name='text', implicit_name='var3', has_explicit_name=False, call_index=0)\n",
                        "2024-10-28 14:56:29,544 - hypster.ast_analyzer - DEBUG - Checking if node is HP call: True\n",
                        "2024-10-28 14:56:29,545 - hypster.ast_analyzer - DEBUG - Detected hp call at line 7, column 11\n",
                        "2024-10-28 14:56:29,545 - hypster.ast_analyzer - DEBUG - Found assignment to variable 'var4'\n",
                        "2024-10-28 14:56:29,545 - hypster.ast_analyzer - DEBUG - Encountered unsupported parent type 'FunctionDef'\n",
                        "2024-10-28 14:56:29,546 - hypster.ast_analyzer - DEBUG - Inferred implicit name: 'var4'\n",
                        "2024-10-28 14:56:29,546 - hypster.ast_analyzer - DEBUG - HP call at line 7 does not have an explicit name\n",
                        "2024-10-28 14:56:29,546 - hypster.ast_analyzer - DEBUG - Created HPCall instance: HPCall(lineno=7, col_offset=11, method_name='number', implicit_name='var4', has_explicit_name=False, call_index=0)\n",
                        "2024-10-28 14:56:29,547 - hypster.ast_analyzer - INFO - Collected 5 HP calls\n",
                        "2024-10-28 14:56:29,547 - hypster.ast_analyzer - DEBUG - HP Call: HPCall(lineno=2, col_offset=11, method_name='select', implicit_name='var1', has_explicit_name=False, call_index=0)\n",
                        "2024-10-28 14:56:29,547 - hypster.ast_analyzer - DEBUG - HP Call: HPCall(lineno=3, col_offset=11, method_name='select', implicit_name='var1', has_explicit_name=False, call_index=0)\n",
                        "2024-10-28 14:56:29,548 - hypster.ast_analyzer - DEBUG - HP Call: HPCall(lineno=4, col_offset=11, method_name='select', implicit_name='var2', has_explicit_name=False, call_index=0)\n",
                        "2024-10-28 14:56:29,548 - hypster.ast_analyzer - DEBUG - HP Call: HPCall(lineno=6, col_offset=11, method_name='text', implicit_name='var3', has_explicit_name=False, call_index=0)\n",
                        "2024-10-28 14:56:29,549 - hypster.ast_analyzer - DEBUG - HP Call: HPCall(lineno=7, col_offset=11, method_name='number', implicit_name='var4', has_explicit_name=False, call_index=0)\n",
                        "2024-10-28 14:56:29,550 - hypster.ast_analyzer - INFO - Starting name injection into source code\n",
                        "2024-10-28 14:56:29,556 - hypster.ast_analyzer - DEBUG - Initialized NameInjector\n",
                        "2024-10-28 14:56:29,559 - hypster.ast_analyzer - DEBUG - Injecting name 'var1' into hp call on line 2\n",
                        "2024-10-28 14:56:29,563 - hypster.ast_analyzer - DEBUG - Injecting name 'var1' into hp call on line 3\n",
                        "2024-10-28 14:56:29,566 - hypster.ast_analyzer - DEBUG - Injecting name 'var2' into hp call on line 4\n",
                        "2024-10-28 14:56:29,568 - hypster.ast_analyzer - DEBUG - Injecting name 'var3' into hp call on line 6\n",
                        "2024-10-28 14:56:29,572 - hypster.ast_analyzer - DEBUG - Injecting name 'var4' into hp call on line 7\n",
                        "2024-10-28 14:56:29,578 - hypster.ast_analyzer - DEBUG - AST unparsed successfully using ast.unparse\n",
                        "2024-10-28 14:56:29,582 - hypster.ast_analyzer - INFO - Name injection completed\n",
                        "2024-10-28 14:56:29,583 - hypster.ast_analyzer - INFO - Starting referenced variables collection\n",
                        "2024-10-28 14:56:29,586 - hypster.ast_analyzer - DEBUG - Initialized VariableReferenceCollector\n",
                        "2024-10-28 14:56:29,589 - hypster.ast_analyzer - DEBUG - Referenced variable found: 'HP'\n",
                        "2024-10-28 14:56:29,589 - hypster.ast_analyzer - DEBUG - Referenced variable found: 'hp'\n",
                        "2024-10-28 14:56:29,590 - hypster.ast_analyzer - DEBUG - Referenced variable found: 'hp'\n",
                        "2024-10-28 14:56:29,591 - hypster.ast_analyzer - DEBUG - Referenced variable found: 'hp'\n",
                        "2024-10-28 14:56:29,591 - hypster.ast_analyzer - DEBUG - Referenced variable found: 'hp'\n",
                        "2024-10-28 14:56:29,591 - hypster.ast_analyzer - DEBUG - Referenced variable found: 'hp'\n",
                        "2024-10-28 14:56:29,592 - hypster.ast_analyzer - INFO - Referenced variables collected: {'hp', 'HP'}\n",
                        "2024-10-28 14:56:29,592 - hypster.ast_analyzer - DEBUG - Independent select calls identified: {'var2', 'var1'}\n"
                    ]
                }
            ],
            "source": [
                "import hypster\n",
                "from hypster import HP\n",
                "\n",
                "\n",
                "@hypster.config\n",
                "def my_config(hp: HP):\n",
                "    var1 = hp.select([\"a\", \"b\"], default=\"b\")\n",
                "    var1 = hp.select([\"b\", \"f\"], default=\"f\")\n",
                "    var2 = hp.select({\"c\": 5, \"d\": 7})  # default=\"d\"\n",
                "\n",
                "    var3 = hp.text(\"hello\")\n",
                "    var4 = hp.number(10)"
            ]
        },
        {
            "cell_type": "code",
            "execution_count": 19,
            "metadata": {},
            "outputs": [
                {
                    "name": "stderr",
                    "output_type": "stream",
                    "text": [
                        "2024-10-28 14:56:29,600 - hypster.hp - INFO - Initialized HP with explore_mode: False\n",
                        "2024-10-28 14:56:29,603 - hypster.hp - DEBUG - Added SelectCall: var1\n",
                        "2024-10-28 14:56:29,603 - hypster.hp_calls - DEBUG - Found selection for var1: b\n",
                        "2024-10-28 14:56:29,606 - hypster.hp_calls - INFO - Applied selection for var1: b\n",
                        "2024-10-28 14:56:29,607 - hypster.hp - DEBUG - Added SelectCall: var1\n",
                        "2024-10-28 14:56:29,608 - hypster.hp_calls - DEBUG - Found selection for var1: b\n",
                        "2024-10-28 14:56:29,608 - hypster.hp_calls - INFO - Applied selection for var1: b\n",
                        "2024-10-28 14:56:29,608 - hypster.hp - DEBUG - Added SelectCall: var2\n",
                        "2024-10-28 14:56:29,609 - hypster.hp_calls - DEBUG - Found override for var2: hey there\n",
                        "2024-10-28 14:56:29,609 - hypster.hp_calls - INFO - Applied override for var2: hey there\n",
                        "2024-10-28 14:56:29,609 - hypster.hp - DEBUG - Added TextInputCall: var3\n",
                        "2024-10-28 14:56:29,610 - hypster.hp_calls - INFO - TextInput call executed for var3: hello\n",
                        "2024-10-28 14:56:29,610 - hypster.hp - DEBUG - Added NumberInputCall: var4\n",
                        "2024-10-28 14:56:29,611 - hypster.hp_calls - DEBUG - Found override for var4: 5\n",
                        "2024-10-28 14:56:29,611 - hypster.hp_calls - INFO - Applied override for var4: 5\n",
                        "2024-10-28 14:56:29,611 - hypster.hp_calls - INFO - NumberInput call executed for var4: 5\n",
                        "2024-10-28 14:56:29,612 - hypster.core - DEBUG - Captured locals: {'var1': 'b', 'var2': 'hey there', 'var3': 'hello', 'var4': 5}\n",
                        "2024-10-28 14:56:29,612 - hypster.core - DEBUG - Final result after filtering: {'var1': 'b', 'var2': 'hey there', 'var3': 'hello', 'var4': 5}\n"
                    ]
                },
                {
                    "data": {
                        "text/plain": [
                            "{'var1': 'b', 'var2': 'hey there', 'var3': 'hello', 'var4': 5}"
                        ]
                    },
                    "execution_count": 19,
                    "metadata": {},
                    "output_type": "execute_result"
                }
            ],
            "source": [
                "my_config(selections={\"var1\": \"b\"}, overrides={\"var2\": \"hey there\", \"var4\": 5})"
            ]
        },
        {
            "cell_type": "code",
            "execution_count": 20,
            "metadata": {},
            "outputs": [
                {
                    "name": "stderr",
                    "output_type": "stream",
                    "text": [
                        "2024-10-28 14:56:29,618 - hypster.hp - INFO - Initialized HP with explore_mode: True\n",
                        "2024-10-28 14:56:29,619 - hypster.hp - DEBUG - Added SelectCall: var1\n",
                        "2024-10-28 14:56:29,619 - hypster.hp - DEBUG - Added SelectCall: var1\n",
                        "2024-10-28 14:56:29,620 - hypster.hp - DEBUG - Added SelectCall: var2\n",
                        "2024-10-28 14:56:29,620 - hypster.hp - DEBUG - Added TextInputCall: var3\n",
                        "2024-10-28 14:56:29,621 - hypster.hp_calls - INFO - TextInput call executed for var3: hello\n",
                        "2024-10-28 14:56:29,621 - hypster.hp - DEBUG - Added NumberInputCall: var4\n",
                        "2024-10-28 14:56:29,622 - hypster.hp_calls - INFO - NumberInput call executed for var4: 10\n",
                        "2024-10-28 14:56:29,622 - hypster.core - DEBUG - Captured locals: {'var1': 'b', 'var2': 5, 'var3': 'hello', 'var4': 10}\n",
                        "2024-10-28 14:56:29,622 - hypster.core - DEBUG - Final result after filtering: {'var1': 'b', 'var2': 5, 'var3': 'hello', 'var4': 10}\n",
                        "2024-10-28 14:56:29,623 - hypster.hp - DEBUG - Added SelectCall: var1\n",
                        "2024-10-28 14:56:29,624 - hypster.hp - DEBUG - Added SelectCall: var1\n",
                        "2024-10-28 14:56:29,624 - hypster.hp - DEBUG - Added SelectCall: var2\n",
                        "2024-10-28 14:56:29,624 - hypster.hp - DEBUG - Added TextInputCall: var3\n",
                        "2024-10-28 14:56:29,625 - hypster.hp_calls - INFO - TextInput call executed for var3: hello\n",
                        "2024-10-28 14:56:29,625 - hypster.hp - DEBUG - Added NumberInputCall: var4\n",
                        "2024-10-28 14:56:29,626 - hypster.hp_calls - INFO - NumberInput call executed for var4: 10\n",
                        "2024-10-28 14:56:29,626 - hypster.core - DEBUG - Captured locals: {'var1': 'b', 'var2': 7, 'var3': 'hello', 'var4': 10}\n",
                        "2024-10-28 14:56:29,627 - hypster.core - DEBUG - Final result after filtering: {'var1': 'b', 'var2': 7, 'var3': 'hello', 'var4': 10}\n",
                        "2024-10-28 14:56:29,627 - hypster.hp - DEBUG - Added SelectCall: var1\n",
                        "2024-10-28 14:56:29,628 - hypster.hp - DEBUG - Added SelectCall: var1\n",
                        "2024-10-28 14:56:29,628 - hypster.hp - DEBUG - Added SelectCall: var2\n",
                        "2024-10-28 14:56:29,629 - hypster.hp - DEBUG - Added TextInputCall: var3\n",
                        "2024-10-28 14:56:29,629 - hypster.hp_calls - INFO - TextInput call executed for var3: hello\n",
                        "2024-10-28 14:56:29,629 - hypster.hp - DEBUG - Added NumberInputCall: var4\n",
                        "2024-10-28 14:56:29,630 - hypster.hp_calls - INFO - NumberInput call executed for var4: 10\n",
                        "2024-10-28 14:56:29,630 - hypster.core - DEBUG - Captured locals: {'var1': 'b', 'var2': 5, 'var3': 'hello', 'var4': 10}\n",
                        "2024-10-28 14:56:29,631 - hypster.core - DEBUG - Final result after filtering: {'var1': 'b', 'var2': 5, 'var3': 'hello', 'var4': 10}\n",
                        "2024-10-28 14:56:29,631 - hypster.hp - DEBUG - Added SelectCall: var1\n",
                        "2024-10-28 14:56:29,632 - hypster.hp - DEBUG - Added SelectCall: var1\n",
                        "2024-10-28 14:56:29,632 - hypster.hp - DEBUG - Added SelectCall: var2\n",
                        "2024-10-28 14:56:29,633 - hypster.hp - DEBUG - Added TextInputCall: var3\n",
                        "2024-10-28 14:56:29,633 - hypster.hp_calls - INFO - TextInput call executed for var3: hello\n",
                        "2024-10-28 14:56:29,633 - hypster.hp - DEBUG - Added NumberInputCall: var4\n",
                        "2024-10-28 14:56:29,634 - hypster.hp_calls - INFO - NumberInput call executed for var4: 10\n",
                        "2024-10-28 14:56:29,634 - hypster.core - DEBUG - Captured locals: {'var1': 'b', 'var2': 7, 'var3': 'hello', 'var4': 10}\n",
                        "2024-10-28 14:56:29,634 - hypster.core - DEBUG - Final result after filtering: {'var1': 'b', 'var2': 7, 'var3': 'hello', 'var4': 10}\n",
                        "2024-10-28 14:56:29,635 - hypster.hp - DEBUG - Added SelectCall: var1\n",
                        "2024-10-28 14:56:29,635 - hypster.hp - DEBUG - Added SelectCall: var1\n",
                        "2024-10-28 14:56:29,635 - hypster.hp - DEBUG - Added SelectCall: var2\n",
                        "2024-10-28 14:56:29,636 - hypster.hp - DEBUG - Added TextInputCall: var3\n",
                        "2024-10-28 14:56:29,636 - hypster.hp_calls - INFO - TextInput call executed for var3: hello\n",
                        "2024-10-28 14:56:29,637 - hypster.hp - DEBUG - Added NumberInputCall: var4\n",
                        "2024-10-28 14:56:29,638 - hypster.hp_calls - INFO - NumberInput call executed for var4: 10\n",
                        "2024-10-28 14:56:29,638 - hypster.core - DEBUG - Captured locals: {'var1': 'f', 'var2': 5, 'var3': 'hello', 'var4': 10}\n",
                        "2024-10-28 14:56:29,638 - hypster.core - DEBUG - Final result after filtering: {'var1': 'f', 'var2': 5, 'var3': 'hello', 'var4': 10}\n",
                        "2024-10-28 14:56:29,639 - hypster.hp - DEBUG - Added SelectCall: var1\n",
                        "2024-10-28 14:56:29,639 - hypster.hp - DEBUG - Added SelectCall: var1\n",
                        "2024-10-28 14:56:29,639 - hypster.hp - DEBUG - Added SelectCall: var2\n",
                        "2024-10-28 14:56:29,640 - hypster.hp - DEBUG - Added TextInputCall: var3\n",
                        "2024-10-28 14:56:29,641 - hypster.hp_calls - INFO - TextInput call executed for var3: hello\n",
                        "2024-10-28 14:56:29,641 - hypster.hp - DEBUG - Added NumberInputCall: var4\n",
                        "2024-10-28 14:56:29,642 - hypster.hp_calls - INFO - NumberInput call executed for var4: 10\n",
                        "2024-10-28 14:56:29,642 - hypster.core - DEBUG - Captured locals: {'var1': 'f', 'var2': 7, 'var3': 'hello', 'var4': 10}\n",
                        "2024-10-28 14:56:29,642 - hypster.core - DEBUG - Final result after filtering: {'var1': 'f', 'var2': 7, 'var3': 'hello', 'var4': 10}\n"
                    ]
                }
            ],
            "source": [
                "combinations = my_config.get_combinations()"
            ]
        },
        {
            "cell_type": "code",
            "execution_count": 21,
            "metadata": {},
            "outputs": [],
            "source": [
                "defaults = my_config.get_defaults()"
            ]
        },
        {
            "cell_type": "code",
            "execution_count": 22,
            "metadata": {},
            "outputs": [
                {
                    "data": {
                        "text/plain": [
                            "{'var1': ['b', 'f'], 'var3': ['hello'], 'var4': [10]}"
                        ]
                    },
                    "execution_count": 22,
                    "metadata": {},
                    "output_type": "execute_result"
                }
            ],
            "source": [
                "defaults"
            ]
        },
        {
            "cell_type": "code",
            "execution_count": 23,
            "metadata": {},
            "outputs": [
                {
                    "name": "stderr",
                    "output_type": "stream",
                    "text": [
                        "2024-10-28 14:56:29,696 - hypster.ast_analyzer - INFO - Starting HP calls collection\n",
                        "2024-10-28 14:56:29,696 - hypster.ast_analyzer - DEBUG - AST parsing successful\n",
                        "2024-10-28 14:56:29,697 - hypster.ast_analyzer - DEBUG - Parent map built with 50 entries\n",
                        "2024-10-28 14:56:29,698 - hypster.ast_analyzer - DEBUG - Initialized HPCallVisitor\n",
                        "2024-10-28 14:56:29,699 - hypster.ast_analyzer - DEBUG - Checking if node is HP call: True\n",
                        "2024-10-28 14:56:29,700 - hypster.ast_analyzer - DEBUG - Detected hp call at line 2, column 24\n",
                        "2024-10-28 14:56:29,700 - hypster.ast_analyzer - DEBUG - Found assignment to variable 'chunking_strategy'\n",
                        "2024-10-28 14:56:29,703 - hypster.ast_analyzer - DEBUG - Encountered unsupported parent type 'FunctionDef'\n",
                        "2024-10-28 14:56:29,703 - hypster.ast_analyzer - DEBUG - Inferred implicit name: 'chunking_strategy'\n",
                        "2024-10-28 14:56:29,706 - hypster.ast_analyzer - DEBUG - HP call at line 2 does not have an explicit name\n",
                        "2024-10-28 14:56:29,707 - hypster.ast_analyzer - DEBUG - Created HPCall instance: HPCall(lineno=2, col_offset=24, method_name='select', implicit_name='chunking_strategy', has_explicit_name=False, call_index=0)\n",
                        "2024-10-28 14:56:29,710 - hypster.ast_analyzer - DEBUG - Checking if node is HP call: True\n",
                        "2024-10-28 14:56:29,710 - hypster.ast_analyzer - DEBUG - Detected hp call at line 4, column 16\n",
                        "2024-10-28 14:56:29,711 - hypster.ast_analyzer - DEBUG - Found assignment to variable 'llm_model'\n",
                        "2024-10-28 14:56:29,711 - hypster.ast_analyzer - DEBUG - Encountered unsupported parent type 'FunctionDef'\n",
                        "2024-10-28 14:56:29,711 - hypster.ast_analyzer - DEBUG - Inferred implicit name: 'llm_model'\n",
                        "2024-10-28 14:56:29,712 - hypster.ast_analyzer - DEBUG - HP call at line 4 does not have an explicit name\n",
                        "2024-10-28 14:56:29,712 - hypster.ast_analyzer - DEBUG - Created HPCall instance: HPCall(lineno=4, col_offset=16, method_name='select', implicit_name='llm_model', has_explicit_name=False, call_index=0)\n",
                        "2024-10-28 14:56:29,714 - hypster.ast_analyzer - DEBUG - Checking if node is HP call: True\n",
                        "2024-10-28 14:56:29,714 - hypster.ast_analyzer - DEBUG - Detected hp call at line 9, column 33\n",
                        "2024-10-28 14:56:29,714 - hypster.ast_analyzer - DEBUG - Found dictionary key 'temperature'\n",
                        "2024-10-28 14:56:29,715 - hypster.ast_analyzer - DEBUG - Found assignment to variable 'llm_config'\n",
                        "2024-10-28 14:56:29,716 - hypster.ast_analyzer - DEBUG - Encountered unsupported parent type 'FunctionDef'\n",
                        "2024-10-28 14:56:29,716 - hypster.ast_analyzer - DEBUG - Inferred implicit name: 'llm_config.temperature'\n",
                        "2024-10-28 14:56:29,716 - hypster.ast_analyzer - DEBUG - HP call at line 9 does not have an explicit name\n",
                        "2024-10-28 14:56:29,717 - hypster.ast_analyzer - DEBUG - Created HPCall instance: HPCall(lineno=9, col_offset=33, method_name='number', implicit_name='llm_config.temperature', has_explicit_name=False, call_index=0)\n",
                        "2024-10-28 14:56:29,718 - hypster.ast_analyzer - DEBUG - Checking if node is HP call: True\n",
                        "2024-10-28 14:56:29,719 - hypster.ast_analyzer - DEBUG - Detected hp call at line 9, column 67\n",
                        "2024-10-28 14:56:29,719 - hypster.ast_analyzer - DEBUG - Found dictionary key 'max_tokens'\n",
                        "2024-10-28 14:56:29,720 - hypster.ast_analyzer - DEBUG - Found assignment to variable 'llm_config'\n",
                        "2024-10-28 14:56:29,721 - hypster.ast_analyzer - DEBUG - Encountered unsupported parent type 'FunctionDef'\n",
                        "2024-10-28 14:56:29,721 - hypster.ast_analyzer - DEBUG - Inferred implicit name: 'llm_config.max_tokens'\n",
                        "2024-10-28 14:56:29,722 - hypster.ast_analyzer - DEBUG - HP call at line 9 does not have an explicit name\n",
                        "2024-10-28 14:56:29,723 - hypster.ast_analyzer - DEBUG - Created HPCall instance: HPCall(lineno=9, col_offset=67, method_name='number', implicit_name='llm_config.max_tokens', has_explicit_name=False, call_index=0)\n",
                        "2024-10-28 14:56:29,723 - hypster.ast_analyzer - DEBUG - Checking if node is HP call: True\n",
                        "2024-10-28 14:56:29,724 - hypster.ast_analyzer - DEBUG - Detected hp call at line 11, column 20\n",
                        "2024-10-28 14:56:29,724 - hypster.ast_analyzer - DEBUG - Found assignment to variable 'system_prompt'\n",
                        "2024-10-28 14:56:29,725 - hypster.ast_analyzer - DEBUG - Encountered unsupported parent type 'FunctionDef'\n",
                        "2024-10-28 14:56:29,726 - hypster.ast_analyzer - DEBUG - Inferred implicit name: 'system_prompt'\n",
                        "2024-10-28 14:56:29,726 - hypster.ast_analyzer - DEBUG - HP call at line 11 does not have an explicit name\n",
                        "2024-10-28 14:56:29,726 - hypster.ast_analyzer - DEBUG - Created HPCall instance: HPCall(lineno=11, col_offset=20, method_name='text', implicit_name='system_prompt', has_explicit_name=False, call_index=0)\n",
                        "2024-10-28 14:56:29,727 - hypster.ast_analyzer - INFO - Collected 5 HP calls\n",
                        "2024-10-28 14:56:29,727 - hypster.ast_analyzer - DEBUG - HP Call: HPCall(lineno=2, col_offset=24, method_name='select', implicit_name='chunking_strategy', has_explicit_name=False, call_index=0)\n",
                        "2024-10-28 14:56:29,727 - hypster.ast_analyzer - DEBUG - HP Call: HPCall(lineno=4, col_offset=16, method_name='select', implicit_name='llm_model', has_explicit_name=False, call_index=0)\n",
                        "2024-10-28 14:56:29,728 - hypster.ast_analyzer - DEBUG - HP Call: HPCall(lineno=9, col_offset=33, method_name='number', implicit_name='llm_config.temperature', has_explicit_name=False, call_index=0)\n",
                        "2024-10-28 14:56:29,729 - hypster.ast_analyzer - DEBUG - HP Call: HPCall(lineno=9, col_offset=67, method_name='number', implicit_name='llm_config.max_tokens', has_explicit_name=False, call_index=0)\n",
                        "2024-10-28 14:56:29,729 - hypster.ast_analyzer - DEBUG - HP Call: HPCall(lineno=11, col_offset=20, method_name='text', implicit_name='system_prompt', has_explicit_name=False, call_index=0)\n",
                        "2024-10-28 14:56:29,730 - hypster.ast_analyzer - INFO - Starting name injection into source code\n",
                        "2024-10-28 14:56:29,731 - hypster.ast_analyzer - DEBUG - Initialized NameInjector\n",
                        "2024-10-28 14:56:29,732 - hypster.ast_analyzer - DEBUG - Injecting name 'chunking_strategy' into hp call on line 2\n",
                        "2024-10-28 14:56:29,732 - hypster.ast_analyzer - DEBUG - Injecting name 'llm_model' into hp call on line 4\n",
                        "2024-10-28 14:56:29,733 - hypster.ast_analyzer - DEBUG - Injecting name 'llm_config.temperature' into hp call on line 9\n",
                        "2024-10-28 14:56:29,734 - hypster.ast_analyzer - DEBUG - Injecting name 'llm_config.max_tokens' into hp call on line 9\n",
                        "2024-10-28 14:56:29,735 - hypster.ast_analyzer - DEBUG - Injecting name 'system_prompt' into hp call on line 11\n",
                        "2024-10-28 14:56:29,736 - hypster.ast_analyzer - DEBUG - AST unparsed successfully using ast.unparse\n",
                        "2024-10-28 14:56:29,736 - hypster.ast_analyzer - INFO - Name injection completed\n",
                        "2024-10-28 14:56:29,737 - hypster.ast_analyzer - INFO - Starting referenced variables collection\n",
                        "2024-10-28 14:56:29,738 - hypster.ast_analyzer - DEBUG - Initialized VariableReferenceCollector\n",
                        "2024-10-28 14:56:29,739 - hypster.ast_analyzer - DEBUG - Referenced variable found: 'HP'\n",
                        "2024-10-28 14:56:29,739 - hypster.ast_analyzer - DEBUG - Referenced variable found: 'hp'\n",
                        "2024-10-28 14:56:29,740 - hypster.ast_analyzer - DEBUG - Referenced variable found: 'hp'\n",
                        "2024-10-28 14:56:29,740 - hypster.ast_analyzer - DEBUG - Referenced variable found: 'hp'\n",
                        "2024-10-28 14:56:29,741 - hypster.ast_analyzer - DEBUG - Referenced variable found: 'hp'\n",
                        "2024-10-28 14:56:29,741 - hypster.ast_analyzer - DEBUG - Referenced variable found: 'hp'\n",
                        "2024-10-28 14:56:29,742 - hypster.ast_analyzer - INFO - Referenced variables collected: {'hp', 'HP'}\n",
                        "2024-10-28 14:56:29,742 - hypster.ast_analyzer - DEBUG - Independent select calls identified: {'llm_model', 'chunking_strategy'}\n"
                    ]
                }
            ],
            "source": [
                "import hypster\n",
                "from hypster import HP\n",
                "\n",
                "\n",
                "@hypster.config\n",
                "def my_config(hp: HP):\n",
                "    chunking_strategy = hp.select([\"paragraph\", \"semantic\", \"fixed\"], default=\"paragraph\")\n",
                "\n",
                "    llm_model = hp.select(\n",
                "        {\"haiku\": \"claude-3-haiku-20240307\", \"sonnet\": \"claude-3-5-sonnet-20240620\", \"gpt-4o-mini\": \"gpt-4o-mini\"},\n",
                "        default=\"gpt-4o-mini\",\n",
                "    )\n",
                "\n",
                "    llm_config = {\"temperature\": hp.number(0), \"max_tokens\": hp.number(64)}\n",
                "\n",
                "    system_prompt = hp.text(\"You are a helpful assistant. Answer with one word only\")"
            ]
        },
        {
            "cell_type": "code",
            "execution_count": 24,
            "metadata": {},
            "outputs": [
                {
                    "name": "stderr",
                    "output_type": "stream",
                    "text": [
                        "2024-10-28 14:56:29,766 - hypster.hp - INFO - Initialized HP with explore_mode: False\n",
                        "2024-10-28 14:56:29,786 - hypster.hp - DEBUG - Added SelectCall: chunking_strategy\n",
                        "2024-10-28 14:56:29,789 - hypster.hp - DEBUG - Added SelectCall: llm_model\n",
                        "2024-10-28 14:56:29,790 - hypster.hp_calls - DEBUG - Found selection for llm_model: haiku\n",
                        "2024-10-28 14:56:29,790 - hypster.hp_calls - INFO - Applied selection for llm_model: claude-3-haiku-20240307\n",
                        "2024-10-28 14:56:29,792 - hypster.hp - DEBUG - Added NumberInputCall: llm_config.temperature\n",
                        "2024-10-28 14:56:29,792 - hypster.hp_calls - DEBUG - Found override for llm_config.temperature: 0.5\n",
                        "2024-10-28 14:56:29,793 - hypster.hp_calls - INFO - Applied override for llm_config.temperature: 0.5\n",
                        "2024-10-28 14:56:29,793 - hypster.hp_calls - INFO - NumberInput call executed for llm_config.temperature: 0.5\n",
                        "2024-10-28 14:56:29,794 - hypster.hp - DEBUG - Added NumberInputCall: llm_config.max_tokens\n",
                        "2024-10-28 14:56:29,795 - hypster.hp_calls - INFO - NumberInput call executed for llm_config.max_tokens: 64\n",
                        "2024-10-28 14:56:29,796 - hypster.hp - DEBUG - Added TextInputCall: system_prompt\n",
                        "2024-10-28 14:56:29,796 - hypster.hp_calls - INFO - TextInput call executed for system_prompt: You are a helpful assistant. Answer with one word only\n",
                        "2024-10-28 14:56:29,796 - hypster.core - DEBUG - Captured locals: {'chunking_strategy': 'paragraph', 'llm_model': 'claude-3-haiku-20240307', 'llm_config': {'temperature': 0.5, 'max_tokens': 64}, 'system_prompt': 'You are a helpful assistant. Answer with one word only'}\n",
                        "2024-10-28 14:56:29,798 - hypster.core - DEBUG - Final result after filtering: {'chunking_strategy': 'paragraph', 'llm_config': {'temperature': 0.5, 'max_tokens': 64}, 'llm_model': 'claude-3-haiku-20240307'}\n"
                    ]
                }
            ],
            "source": [
                "results = my_config(\n",
                "    final_vars=[\"chunking_strategy\", \"llm_config\", \"llm_model\"],\n",
                "    selections={\"llm_model\": \"haiku\"},\n",
                "    overrides={\"llm_config.temperature\": 0.5},\n",
                ")"
            ]
        },
        {
            "cell_type": "code",
            "execution_count": 25,
            "metadata": {},
            "outputs": [
                {
                    "data": {
                        "text/plain": [
                            "{'chunking_strategy': 'paragraph',\n",
                            " 'llm_config': {'temperature': 0.5, 'max_tokens': 64},\n",
                            " 'llm_model': 'claude-3-haiku-20240307'}"
                        ]
                    },
                    "execution_count": 25,
                    "metadata": {},
                    "output_type": "execute_result"
                }
            ],
            "source": [
                "results"
            ]
        },
        {
            "cell_type": "code",
            "execution_count": 26,
            "metadata": {},
            "outputs": [
                {
                    "name": "stderr",
                    "output_type": "stream",
                    "text": [
                        "2024-10-28 14:56:29,828 - hypster.hp - INFO - Initialized HP with explore_mode: False\n",
                        "2024-10-28 14:56:29,830 - hypster.hp - DEBUG - Added SelectCall: chunking_strategy\n",
                        "2024-10-28 14:56:29,831 - hypster.hp - DEBUG - Added SelectCall: llm_model\n",
                        "2024-10-28 14:56:29,833 - hypster.hp - DEBUG - Added NumberInputCall: llm_config.temperature\n",
                        "2024-10-28 14:56:29,833 - hypster.hp_calls - INFO - NumberInput call executed for llm_config.temperature: 0\n",
                        "2024-10-28 14:56:29,834 - hypster.hp - DEBUG - Added NumberInputCall: llm_config.max_tokens\n",
                        "2024-10-28 14:56:29,835 - hypster.hp_calls - INFO - NumberInput call executed for llm_config.max_tokens: 64\n",
                        "2024-10-28 14:56:29,836 - hypster.hp - DEBUG - Added TextInputCall: system_prompt\n",
                        "2024-10-28 14:56:29,836 - hypster.hp_calls - INFO - TextInput call executed for system_prompt: You are a helpful assistant. Answer with one word only\n",
                        "2024-10-28 14:56:29,837 - hypster.core - DEBUG - Captured locals: {'chunking_strategy': 'paragraph', 'llm_model': 'gpt-4o-mini', 'llm_config': {'temperature': 0, 'max_tokens': 64}, 'system_prompt': 'You are a helpful assistant. Answer with one word only'}\n",
                        "2024-10-28 14:56:29,838 - hypster.core - DEBUG - Final result after filtering: {'chunking_strategy': 'paragraph', 'llm_model': 'gpt-4o-mini', 'llm_config': {'temperature': 0, 'max_tokens': 64}, 'system_prompt': 'You are a helpful assistant. Answer with one word only'}\n"
                    ]
                }
            ],
            "source": [
                "res = my_config(selections={\"a\": \"c\"})  # , overrides={\"c\" : 3, \"d\" : 4})"
            ]
        },
        {
            "cell_type": "code",
            "execution_count": 27,
            "metadata": {},
            "outputs": [
                {
                    "data": {
                        "text/plain": [
                            "{'chunking_strategy': 'paragraph',\n",
                            " 'llm_model': 'gpt-4o-mini',\n",
                            " 'llm_config': {'temperature': 0, 'max_tokens': 64},\n",
                            " 'system_prompt': 'You are a helpful assistant. Answer with one word only'}"
                        ]
                    },
                    "execution_count": 27,
                    "metadata": {},
                    "output_type": "execute_result"
                }
            ],
            "source": [
                "res"
            ]
        },
        {
            "cell_type": "code",
            "execution_count": 28,
            "metadata": {},
            "outputs": [
                {
                    "name": "stderr",
                    "output_type": "stream",
                    "text": [
                        "2024-10-28 14:56:29,865 - hypster.core - INFO - Configuration saved to helper_configs/my_config.py\n"
                    ]
                }
            ],
            "source": [
                "hypster.save(my_config, \"helper_configs/my_config.py\")"
            ]
        },
        {
            "cell_type": "code",
            "execution_count": 29,
            "metadata": {},
            "outputs": [
                {
                    "name": "stderr",
                    "output_type": "stream",
                    "text": [
                        "2024-10-28 14:56:29,877 - hypster.ast_analyzer - INFO - Starting HP calls collection\n",
                        "2024-10-28 14:56:29,878 - hypster.ast_analyzer - DEBUG - AST parsing successful\n",
                        "2024-10-28 14:56:29,878 - hypster.ast_analyzer - DEBUG - Parent map built with 14 entries\n",
                        "2024-10-28 14:56:29,879 - hypster.ast_analyzer - DEBUG - Initialized HPCallVisitor\n",
                        "2024-10-28 14:56:29,879 - hypster.ast_analyzer - DEBUG - Checking if node is HP call: True\n",
                        "2024-10-28 14:56:29,879 - hypster.ast_analyzer - DEBUG - Detected hp call at line 2, column 14\n",
                        "2024-10-28 14:56:29,880 - hypster.ast_analyzer - DEBUG - Found subscript key 'llm_model'\n",
                        "2024-10-28 14:56:29,880 - hypster.ast_analyzer - DEBUG - Found assignment to variable 'my_conf'\n",
                        "2024-10-28 14:56:29,880 - hypster.ast_analyzer - DEBUG - Encountered unsupported parent type 'FunctionDef'\n",
                        "2024-10-28 14:56:29,881 - hypster.ast_analyzer - DEBUG - Inferred implicit name: 'my_conf.llm_model'\n",
                        "2024-10-28 14:56:29,881 - hypster.ast_analyzer - DEBUG - HP call at line 2 does not have an explicit name\n",
                        "2024-10-28 14:56:29,881 - hypster.ast_analyzer - DEBUG - Created HPCall instance: HPCall(lineno=2, col_offset=14, method_name='propagate', implicit_name='my_conf.llm_model', has_explicit_name=False, call_index=0)\n",
                        "2024-10-28 14:56:29,881 - hypster.ast_analyzer - INFO - Collected 1 HP calls\n",
                        "2024-10-28 14:56:29,881 - hypster.ast_analyzer - DEBUG - HP Call: HPCall(lineno=2, col_offset=14, method_name='propagate', implicit_name='my_conf.llm_model', has_explicit_name=False, call_index=0)\n",
                        "2024-10-28 14:56:29,882 - hypster.ast_analyzer - INFO - Starting name injection into source code\n",
                        "2024-10-28 14:56:29,882 - hypster.ast_analyzer - DEBUG - Initialized NameInjector\n",
                        "2024-10-28 14:56:29,882 - hypster.ast_analyzer - DEBUG - Injecting name 'my_conf.llm_model' into hp call on line 2\n",
                        "2024-10-28 14:56:29,883 - hypster.ast_analyzer - DEBUG - AST unparsed successfully using ast.unparse\n",
                        "2024-10-28 14:56:29,883 - hypster.ast_analyzer - INFO - Name injection completed\n",
                        "2024-10-28 14:56:29,883 - hypster.ast_analyzer - INFO - Starting referenced variables collection\n",
                        "2024-10-28 14:56:29,883 - hypster.ast_analyzer - DEBUG - Initialized VariableReferenceCollector\n",
                        "2024-10-28 14:56:29,884 - hypster.ast_analyzer - DEBUG - Referenced variable found: 'HP'\n",
                        "2024-10-28 14:56:29,884 - hypster.ast_analyzer - DEBUG - Referenced variable found: 'hp'\n",
                        "2024-10-28 14:56:29,884 - hypster.ast_analyzer - INFO - Referenced variables collected: {'hp', 'HP'}\n",
                        "2024-10-28 14:56:29,885 - hypster.ast_analyzer - DEBUG - Independent select calls identified: set()\n"
                    ]
                }
            ],
            "source": [
                "import hypster\n",
                "from hypster import HP\n",
                "\n",
                "\n",
                "@hypster.config\n",
                "def my_config_parent(hp: HP):\n",
                "    my_conf = hp.propagate(\"helper_configs/my_config.py\")[\"llm_model\"]"
            ]
        },
        {
            "cell_type": "code",
            "execution_count": 30,
            "metadata": {},
            "outputs": [
                {
                    "name": "stderr",
                    "output_type": "stream",
                    "text": [
                        "2024-10-28 14:56:29,890 - hypster.hp - INFO - Initialized HP with explore_mode: False\n",
                        "2024-10-28 14:56:29,891 - hypster.hp - DEBUG - Added PropagateCall: my_conf.llm_model\n",
                        "2024-10-28 14:56:29,892 - hypster.ast_analyzer - INFO - Starting HP calls collection\n",
                        "2024-10-28 14:56:29,893 - hypster.ast_analyzer - DEBUG - AST parsing successful\n",
                        "2024-10-28 14:56:29,893 - hypster.ast_analyzer - DEBUG - Parent map built with 50 entries\n",
                        "2024-10-28 14:56:29,893 - hypster.ast_analyzer - DEBUG - Initialized HPCallVisitor\n",
                        "2024-10-28 14:56:29,894 - hypster.ast_analyzer - DEBUG - Checking if node is HP call: True\n",
                        "2024-10-28 14:56:29,894 - hypster.ast_analyzer - DEBUG - Detected hp call at line 2, column 24\n",
                        "2024-10-28 14:56:29,894 - hypster.ast_analyzer - DEBUG - Found assignment to variable 'chunking_strategy'\n",
                        "2024-10-28 14:56:29,895 - hypster.ast_analyzer - DEBUG - Encountered unsupported parent type 'FunctionDef'\n",
                        "2024-10-28 14:56:29,895 - hypster.ast_analyzer - DEBUG - Inferred implicit name: 'chunking_strategy'\n",
                        "2024-10-28 14:56:29,895 - hypster.ast_analyzer - DEBUG - HP call at line 2 does not have an explicit name\n",
                        "2024-10-28 14:56:29,895 - hypster.ast_analyzer - DEBUG - Created HPCall instance: HPCall(lineno=2, col_offset=24, method_name='select', implicit_name='chunking_strategy', has_explicit_name=False, call_index=0)\n",
                        "2024-10-28 14:56:29,896 - hypster.ast_analyzer - DEBUG - Checking if node is HP call: True\n",
                        "2024-10-28 14:56:29,896 - hypster.ast_analyzer - DEBUG - Detected hp call at line 4, column 16\n",
                        "2024-10-28 14:56:29,896 - hypster.ast_analyzer - DEBUG - Found assignment to variable 'llm_model'\n",
                        "2024-10-28 14:56:29,897 - hypster.ast_analyzer - DEBUG - Encountered unsupported parent type 'FunctionDef'\n",
                        "2024-10-28 14:56:29,897 - hypster.ast_analyzer - DEBUG - Inferred implicit name: 'llm_model'\n",
                        "2024-10-28 14:56:29,897 - hypster.ast_analyzer - DEBUG - HP call at line 4 does not have an explicit name\n",
                        "2024-10-28 14:56:29,897 - hypster.ast_analyzer - DEBUG - Created HPCall instance: HPCall(lineno=4, col_offset=16, method_name='select', implicit_name='llm_model', has_explicit_name=False, call_index=0)\n",
                        "2024-10-28 14:56:29,898 - hypster.ast_analyzer - DEBUG - Checking if node is HP call: True\n",
                        "2024-10-28 14:56:29,898 - hypster.ast_analyzer - DEBUG - Detected hp call at line 9, column 33\n",
                        "2024-10-28 14:56:29,898 - hypster.ast_analyzer - DEBUG - Found dictionary key 'temperature'\n",
                        "2024-10-28 14:56:29,898 - hypster.ast_analyzer - DEBUG - Found assignment to variable 'llm_config'\n",
                        "2024-10-28 14:56:29,899 - hypster.ast_analyzer - DEBUG - Encountered unsupported parent type 'FunctionDef'\n",
                        "2024-10-28 14:56:29,899 - hypster.ast_analyzer - DEBUG - Inferred implicit name: 'llm_config.temperature'\n",
                        "2024-10-28 14:56:29,899 - hypster.ast_analyzer - DEBUG - HP call at line 9 does not have an explicit name\n",
                        "2024-10-28 14:56:29,900 - hypster.ast_analyzer - DEBUG - Created HPCall instance: HPCall(lineno=9, col_offset=33, method_name='number', implicit_name='llm_config.temperature', has_explicit_name=False, call_index=0)\n",
                        "2024-10-28 14:56:29,900 - hypster.ast_analyzer - DEBUG - Checking if node is HP call: True\n",
                        "2024-10-28 14:56:29,900 - hypster.ast_analyzer - DEBUG - Detected hp call at line 9, column 67\n",
                        "2024-10-28 14:56:29,901 - hypster.ast_analyzer - DEBUG - Found dictionary key 'max_tokens'\n",
                        "2024-10-28 14:56:29,901 - hypster.ast_analyzer - DEBUG - Found assignment to variable 'llm_config'\n",
                        "2024-10-28 14:56:29,901 - hypster.ast_analyzer - DEBUG - Encountered unsupported parent type 'FunctionDef'\n",
                        "2024-10-28 14:56:29,901 - hypster.ast_analyzer - DEBUG - Inferred implicit name: 'llm_config.max_tokens'\n",
                        "2024-10-28 14:56:29,902 - hypster.ast_analyzer - DEBUG - HP call at line 9 does not have an explicit name\n",
                        "2024-10-28 14:56:29,902 - hypster.ast_analyzer - DEBUG - Created HPCall instance: HPCall(lineno=9, col_offset=67, method_name='number', implicit_name='llm_config.max_tokens', has_explicit_name=False, call_index=0)\n",
                        "2024-10-28 14:56:29,902 - hypster.ast_analyzer - DEBUG - Checking if node is HP call: True\n",
                        "2024-10-28 14:56:29,903 - hypster.ast_analyzer - DEBUG - Detected hp call at line 11, column 20\n",
                        "2024-10-28 14:56:29,903 - hypster.ast_analyzer - DEBUG - Found assignment to variable 'system_prompt'\n",
                        "2024-10-28 14:56:29,903 - hypster.ast_analyzer - DEBUG - Encountered unsupported parent type 'FunctionDef'\n",
                        "2024-10-28 14:56:29,904 - hypster.ast_analyzer - DEBUG - Inferred implicit name: 'system_prompt'\n",
                        "2024-10-28 14:56:29,904 - hypster.ast_analyzer - DEBUG - HP call at line 11 does not have an explicit name\n",
                        "2024-10-28 14:56:29,904 - hypster.ast_analyzer - DEBUG - Created HPCall instance: HPCall(lineno=11, col_offset=20, method_name='text', implicit_name='system_prompt', has_explicit_name=False, call_index=0)\n",
                        "2024-10-28 14:56:29,904 - hypster.ast_analyzer - INFO - Collected 5 HP calls\n",
                        "2024-10-28 14:56:29,905 - hypster.ast_analyzer - DEBUG - HP Call: HPCall(lineno=2, col_offset=24, method_name='select', implicit_name='chunking_strategy', has_explicit_name=False, call_index=0)\n",
                        "2024-10-28 14:56:29,905 - hypster.ast_analyzer - DEBUG - HP Call: HPCall(lineno=4, col_offset=16, method_name='select', implicit_name='llm_model', has_explicit_name=False, call_index=0)\n",
                        "2024-10-28 14:56:29,906 - hypster.ast_analyzer - DEBUG - HP Call: HPCall(lineno=9, col_offset=33, method_name='number', implicit_name='llm_config.temperature', has_explicit_name=False, call_index=0)\n",
                        "2024-10-28 14:56:29,906 - hypster.ast_analyzer - DEBUG - HP Call: HPCall(lineno=9, col_offset=67, method_name='number', implicit_name='llm_config.max_tokens', has_explicit_name=False, call_index=0)\n",
                        "2024-10-28 14:56:29,906 - hypster.ast_analyzer - DEBUG - HP Call: HPCall(lineno=11, col_offset=20, method_name='text', implicit_name='system_prompt', has_explicit_name=False, call_index=0)\n",
                        "2024-10-28 14:56:29,907 - hypster.ast_analyzer - INFO - Starting name injection into source code\n",
                        "2024-10-28 14:56:29,907 - hypster.ast_analyzer - DEBUG - Initialized NameInjector\n",
                        "2024-10-28 14:56:29,907 - hypster.ast_analyzer - DEBUG - Injecting name 'chunking_strategy' into hp call on line 2\n",
                        "2024-10-28 14:56:29,908 - hypster.ast_analyzer - DEBUG - Injecting name 'llm_model' into hp call on line 4\n",
                        "2024-10-28 14:56:29,908 - hypster.ast_analyzer - DEBUG - Injecting name 'llm_config.temperature' into hp call on line 9\n",
                        "2024-10-28 14:56:29,909 - hypster.ast_analyzer - DEBUG - Injecting name 'llm_config.max_tokens' into hp call on line 9\n",
                        "2024-10-28 14:56:29,909 - hypster.ast_analyzer - DEBUG - Injecting name 'system_prompt' into hp call on line 11\n",
                        "2024-10-28 14:56:29,910 - hypster.ast_analyzer - DEBUG - AST unparsed successfully using ast.unparse\n",
                        "2024-10-28 14:56:29,910 - hypster.ast_analyzer - INFO - Name injection completed\n",
                        "2024-10-28 14:56:29,910 - hypster.ast_analyzer - INFO - Starting referenced variables collection\n",
                        "2024-10-28 14:56:29,911 - hypster.ast_analyzer - DEBUG - Initialized VariableReferenceCollector\n",
                        "2024-10-28 14:56:29,911 - hypster.ast_analyzer - DEBUG - Referenced variable found: 'HP'\n",
                        "2024-10-28 14:56:29,911 - hypster.ast_analyzer - DEBUG - Referenced variable found: 'hp'\n",
                        "2024-10-28 14:56:29,911 - hypster.ast_analyzer - DEBUG - Referenced variable found: 'hp'\n",
                        "2024-10-28 14:56:29,912 - hypster.ast_analyzer - DEBUG - Referenced variable found: 'hp'\n",
                        "2024-10-28 14:56:29,912 - hypster.ast_analyzer - DEBUG - Referenced variable found: 'hp'\n",
                        "2024-10-28 14:56:29,913 - hypster.ast_analyzer - DEBUG - Referenced variable found: 'hp'\n",
                        "2024-10-28 14:56:29,913 - hypster.ast_analyzer - INFO - Referenced variables collected: {'hp', 'HP'}\n",
                        "2024-10-28 14:56:29,913 - hypster.ast_analyzer - DEBUG - Independent select calls identified: {'llm_model', 'chunking_strategy'}\n",
                        "2024-10-28 14:56:29,913 - hypster.hp_calls - DEBUG - Running nested configuration with: {'selections': {}, 'overrides': {}, 'final_vars': []}\n",
                        "2024-10-28 14:56:29,914 - hypster.hp - INFO - Initialized HP with explore_mode: False\n",
                        "2024-10-28 14:56:29,914 - hypster.hp - DEBUG - Added SelectCall: chunking_strategy\n",
                        "2024-10-28 14:56:29,914 - hypster.hp - DEBUG - Added SelectCall: llm_model\n",
                        "2024-10-28 14:56:29,915 - hypster.hp - DEBUG - Added NumberInputCall: llm_config.temperature\n",
                        "2024-10-28 14:56:29,915 - hypster.hp_calls - INFO - NumberInput call executed for llm_config.temperature: 0\n",
                        "2024-10-28 14:56:29,915 - hypster.hp - DEBUG - Added NumberInputCall: llm_config.max_tokens\n",
                        "2024-10-28 14:56:29,916 - hypster.hp_calls - INFO - NumberInput call executed for llm_config.max_tokens: 64\n",
                        "2024-10-28 14:56:29,916 - hypster.hp - DEBUG - Added TextInputCall: system_prompt\n",
                        "2024-10-28 14:56:29,916 - hypster.hp_calls - INFO - TextInput call executed for system_prompt: You are a helpful assistant. Answer with one word only\n",
                        "2024-10-28 14:56:29,917 - hypster.core - DEBUG - Captured locals: {'chunking_strategy': 'paragraph', 'llm_model': 'gpt-4o-mini', 'llm_config': {'temperature': 0, 'max_tokens': 64}, 'system_prompt': 'You are a helpful assistant. Answer with one word only'}\n",
                        "2024-10-28 14:56:29,917 - hypster.core - DEBUG - Final result after filtering: {'chunking_strategy': 'paragraph', 'llm_model': 'gpt-4o-mini', 'llm_config': {'temperature': 0, 'max_tokens': 64}, 'system_prompt': 'You are a helpful assistant. Answer with one word only'}\n",
                        "2024-10-28 14:56:29,917 - hypster.core - DEBUG - Captured locals: {'my_conf': 'gpt-4o-mini'}\n",
                        "2024-10-28 14:56:29,918 - hypster.core - DEBUG - Final result after filtering: {'my_conf': 'gpt-4o-mini'}\n"
                    ]
                }
            ],
            "source": [
                "result = my_config_parent(final_vars=[], overrides={\"my_conf.a\": \"44\"})"
            ]
        },
        {
            "cell_type": "code",
            "execution_count": 31,
            "metadata": {},
            "outputs": [
                {
                    "data": {
                        "text/plain": [
                            "{'my_conf': 'gpt-4o-mini'}"
                        ]
                    },
                    "execution_count": 31,
                    "metadata": {},
                    "output_type": "execute_result"
                }
            ],
            "source": [
                "result"
            ]
        },
        {
            "cell_type": "code",
            "execution_count": 32,
            "metadata": {},
            "outputs": [
                {
                    "name": "stderr",
                    "output_type": "stream",
                    "text": [
                        "2024-10-28 14:56:29,946 - hypster.hp - INFO - Initialized HP with explore_mode: True\n",
                        "2024-10-28 14:56:29,949 - hypster.hp - DEBUG - Added PropagateCall: my_conf.llm_model\n",
                        "2024-10-28 14:56:29,951 - hypster.ast_analyzer - INFO - Starting HP calls collection\n",
                        "2024-10-28 14:56:29,962 - hypster.ast_analyzer - DEBUG - AST parsing successful\n",
                        "2024-10-28 14:56:29,968 - hypster.ast_analyzer - DEBUG - Parent map built with 50 entries\n",
                        "2024-10-28 14:56:29,968 - hypster.ast_analyzer - DEBUG - Initialized HPCallVisitor\n",
                        "2024-10-28 14:56:29,969 - hypster.ast_analyzer - DEBUG - Checking if node is HP call: True\n",
                        "2024-10-28 14:56:29,969 - hypster.ast_analyzer - DEBUG - Detected hp call at line 2, column 24\n",
                        "2024-10-28 14:56:29,969 - hypster.ast_analyzer - DEBUG - Found assignment to variable 'chunking_strategy'\n",
                        "2024-10-28 14:56:29,970 - hypster.ast_analyzer - DEBUG - Encountered unsupported parent type 'FunctionDef'\n",
                        "2024-10-28 14:56:29,970 - hypster.ast_analyzer - DEBUG - Inferred implicit name: 'chunking_strategy'\n",
                        "2024-10-28 14:56:29,971 - hypster.ast_analyzer - DEBUG - HP call at line 2 does not have an explicit name\n",
                        "2024-10-28 14:56:29,971 - hypster.ast_analyzer - DEBUG - Created HPCall instance: HPCall(lineno=2, col_offset=24, method_name='select', implicit_name='chunking_strategy', has_explicit_name=False, call_index=0)\n",
                        "2024-10-28 14:56:29,971 - hypster.ast_analyzer - DEBUG - Checking if node is HP call: True\n",
                        "2024-10-28 14:56:29,972 - hypster.ast_analyzer - DEBUG - Detected hp call at line 4, column 16\n",
                        "2024-10-28 14:56:29,972 - hypster.ast_analyzer - DEBUG - Found assignment to variable 'llm_model'\n",
                        "2024-10-28 14:56:29,972 - hypster.ast_analyzer - DEBUG - Encountered unsupported parent type 'FunctionDef'\n",
                        "2024-10-28 14:56:29,973 - hypster.ast_analyzer - DEBUG - Inferred implicit name: 'llm_model'\n",
                        "2024-10-28 14:56:29,973 - hypster.ast_analyzer - DEBUG - HP call at line 4 does not have an explicit name\n",
                        "2024-10-28 14:56:29,973 - hypster.ast_analyzer - DEBUG - Created HPCall instance: HPCall(lineno=4, col_offset=16, method_name='select', implicit_name='llm_model', has_explicit_name=False, call_index=0)\n",
                        "2024-10-28 14:56:29,974 - hypster.ast_analyzer - DEBUG - Checking if node is HP call: True\n",
                        "2024-10-28 14:56:29,974 - hypster.ast_analyzer - DEBUG - Detected hp call at line 9, column 33\n",
                        "2024-10-28 14:56:29,975 - hypster.ast_analyzer - DEBUG - Found dictionary key 'temperature'\n",
                        "2024-10-28 14:56:29,977 - hypster.ast_analyzer - DEBUG - Found assignment to variable 'llm_config'\n",
                        "2024-10-28 14:56:29,980 - hypster.ast_analyzer - DEBUG - Encountered unsupported parent type 'FunctionDef'\n",
                        "2024-10-28 14:56:29,980 - hypster.ast_analyzer - DEBUG - Inferred implicit name: 'llm_config.temperature'\n",
                        "2024-10-28 14:56:29,980 - hypster.ast_analyzer - DEBUG - HP call at line 9 does not have an explicit name\n",
                        "2024-10-28 14:56:29,981 - hypster.ast_analyzer - DEBUG - Created HPCall instance: HPCall(lineno=9, col_offset=33, method_name='number', implicit_name='llm_config.temperature', has_explicit_name=False, call_index=0)\n",
                        "2024-10-28 14:56:29,981 - hypster.ast_analyzer - DEBUG - Checking if node is HP call: True\n",
                        "2024-10-28 14:56:29,981 - hypster.ast_analyzer - DEBUG - Detected hp call at line 9, column 67\n",
                        "2024-10-28 14:56:29,982 - hypster.ast_analyzer - DEBUG - Found dictionary key 'max_tokens'\n",
                        "2024-10-28 14:56:29,982 - hypster.ast_analyzer - DEBUG - Found assignment to variable 'llm_config'\n",
                        "2024-10-28 14:56:29,983 - hypster.ast_analyzer - DEBUG - Encountered unsupported parent type 'FunctionDef'\n",
                        "2024-10-28 14:56:29,983 - hypster.ast_analyzer - DEBUG - Inferred implicit name: 'llm_config.max_tokens'\n",
                        "2024-10-28 14:56:29,985 - hypster.ast_analyzer - DEBUG - HP call at line 9 does not have an explicit name\n",
                        "2024-10-28 14:56:29,985 - hypster.ast_analyzer - DEBUG - Created HPCall instance: HPCall(lineno=9, col_offset=67, method_name='number', implicit_name='llm_config.max_tokens', has_explicit_name=False, call_index=0)\n",
                        "2024-10-28 14:56:29,985 - hypster.ast_analyzer - DEBUG - Checking if node is HP call: True\n",
                        "2024-10-28 14:56:29,986 - hypster.ast_analyzer - DEBUG - Detected hp call at line 11, column 20\n",
                        "2024-10-28 14:56:29,986 - hypster.ast_analyzer - DEBUG - Found assignment to variable 'system_prompt'\n",
                        "2024-10-28 14:56:29,986 - hypster.ast_analyzer - DEBUG - Encountered unsupported parent type 'FunctionDef'\n",
                        "2024-10-28 14:56:29,987 - hypster.ast_analyzer - DEBUG - Inferred implicit name: 'system_prompt'\n",
                        "2024-10-28 14:56:29,987 - hypster.ast_analyzer - DEBUG - HP call at line 11 does not have an explicit name\n",
                        "2024-10-28 14:56:29,988 - hypster.ast_analyzer - DEBUG - Created HPCall instance: HPCall(lineno=11, col_offset=20, method_name='text', implicit_name='system_prompt', has_explicit_name=False, call_index=0)\n",
                        "2024-10-28 14:56:29,988 - hypster.ast_analyzer - INFO - Collected 5 HP calls\n",
                        "2024-10-28 14:56:29,988 - hypster.ast_analyzer - DEBUG - HP Call: HPCall(lineno=2, col_offset=24, method_name='select', implicit_name='chunking_strategy', has_explicit_name=False, call_index=0)\n",
                        "2024-10-28 14:56:29,989 - hypster.ast_analyzer - DEBUG - HP Call: HPCall(lineno=4, col_offset=16, method_name='select', implicit_name='llm_model', has_explicit_name=False, call_index=0)\n",
                        "2024-10-28 14:56:29,989 - hypster.ast_analyzer - DEBUG - HP Call: HPCall(lineno=9, col_offset=33, method_name='number', implicit_name='llm_config.temperature', has_explicit_name=False, call_index=0)\n",
                        "2024-10-28 14:56:29,989 - hypster.ast_analyzer - DEBUG - HP Call: HPCall(lineno=9, col_offset=67, method_name='number', implicit_name='llm_config.max_tokens', has_explicit_name=False, call_index=0)\n",
                        "2024-10-28 14:56:29,989 - hypster.ast_analyzer - DEBUG - HP Call: HPCall(lineno=11, col_offset=20, method_name='text', implicit_name='system_prompt', has_explicit_name=False, call_index=0)\n",
                        "2024-10-28 14:56:29,990 - hypster.ast_analyzer - INFO - Starting name injection into source code\n",
                        "2024-10-28 14:56:29,990 - hypster.ast_analyzer - DEBUG - Initialized NameInjector\n",
                        "2024-10-28 14:56:29,991 - hypster.ast_analyzer - DEBUG - Injecting name 'chunking_strategy' into hp call on line 2\n",
                        "2024-10-28 14:56:29,991 - hypster.ast_analyzer - DEBUG - Injecting name 'llm_model' into hp call on line 4\n",
                        "2024-10-28 14:56:29,991 - hypster.ast_analyzer - DEBUG - Injecting name 'llm_config.temperature' into hp call on line 9\n",
                        "2024-10-28 14:56:29,992 - hypster.ast_analyzer - DEBUG - Injecting name 'llm_config.max_tokens' into hp call on line 9\n",
                        "2024-10-28 14:56:29,992 - hypster.ast_analyzer - DEBUG - Injecting name 'system_prompt' into hp call on line 11\n",
                        "2024-10-28 14:56:29,992 - hypster.ast_analyzer - DEBUG - AST unparsed successfully using ast.unparse\n",
                        "2024-10-28 14:56:29,993 - hypster.ast_analyzer - INFO - Name injection completed\n",
                        "2024-10-28 14:56:29,993 - hypster.ast_analyzer - INFO - Starting referenced variables collection\n",
                        "2024-10-28 14:56:29,993 - hypster.ast_analyzer - DEBUG - Initialized VariableReferenceCollector\n",
                        "2024-10-28 14:56:29,994 - hypster.ast_analyzer - DEBUG - Referenced variable found: 'HP'\n",
                        "2024-10-28 14:56:29,994 - hypster.ast_analyzer - DEBUG - Referenced variable found: 'hp'\n",
                        "2024-10-28 14:56:29,994 - hypster.ast_analyzer - DEBUG - Referenced variable found: 'hp'\n",
                        "2024-10-28 14:56:29,995 - hypster.ast_analyzer - DEBUG - Referenced variable found: 'hp'\n",
                        "2024-10-28 14:56:29,995 - hypster.ast_analyzer - DEBUG - Referenced variable found: 'hp'\n",
                        "2024-10-28 14:56:29,996 - hypster.ast_analyzer - DEBUG - Referenced variable found: 'hp'\n",
                        "2024-10-28 14:56:29,996 - hypster.ast_analyzer - INFO - Referenced variables collected: {'hp', 'HP'}\n",
                        "2024-10-28 14:56:29,996 - hypster.ast_analyzer - DEBUG - Independent select calls identified: {'llm_model', 'chunking_strategy'}\n",
                        "2024-10-28 14:56:29,996 - hypster.hp - INFO - Initialized HP with explore_mode: True\n",
                        "2024-10-28 14:56:29,997 - hypster.hp - DEBUG - Added SelectCall: chunking_strategy\n",
                        "2024-10-28 14:56:29,997 - hypster.hp - DEBUG - Added SelectCall: llm_model\n",
                        "2024-10-28 14:56:29,998 - hypster.hp - DEBUG - Added NumberInputCall: llm_config.temperature\n",
                        "2024-10-28 14:56:29,998 - hypster.hp_calls - INFO - NumberInput call executed for llm_config.temperature: 0\n",
                        "2024-10-28 14:56:29,998 - hypster.hp - DEBUG - Added NumberInputCall: llm_config.max_tokens\n",
                        "2024-10-28 14:56:29,999 - hypster.hp_calls - INFO - NumberInput call executed for llm_config.max_tokens: 64\n",
                        "2024-10-28 14:56:29,999 - hypster.hp - DEBUG - Added TextInputCall: system_prompt\n",
                        "2024-10-28 14:56:29,999 - hypster.hp_calls - INFO - TextInput call executed for system_prompt: You are a helpful assistant. Answer with one word only\n",
                        "2024-10-28 14:56:29,999 - hypster.core - DEBUG - Captured locals: {'chunking_strategy': 'paragraph', 'llm_model': 'claude-3-haiku-20240307', 'llm_config': {'temperature': 0, 'max_tokens': 64}, 'system_prompt': 'You are a helpful assistant. Answer with one word only'}\n",
                        "2024-10-28 14:56:30,000 - hypster.core - DEBUG - Final result after filtering: {'chunking_strategy': 'paragraph', 'llm_model': 'claude-3-haiku-20240307', 'llm_config': {'temperature': 0, 'max_tokens': 64}, 'system_prompt': 'You are a helpful assistant. Answer with one word only'}\n",
                        "2024-10-28 14:56:30,000 - hypster.hp - DEBUG - Added SelectCall: chunking_strategy\n",
                        "2024-10-28 14:56:30,000 - hypster.hp - DEBUG - Added SelectCall: llm_model\n",
                        "2024-10-28 14:56:30,001 - hypster.hp - DEBUG - Added NumberInputCall: llm_config.temperature\n",
                        "2024-10-28 14:56:30,001 - hypster.hp_calls - INFO - NumberInput call executed for llm_config.temperature: 0\n",
                        "2024-10-28 14:56:30,001 - hypster.hp - DEBUG - Added NumberInputCall: llm_config.max_tokens\n",
                        "2024-10-28 14:56:30,002 - hypster.hp_calls - INFO - NumberInput call executed for llm_config.max_tokens: 64\n",
                        "2024-10-28 14:56:30,002 - hypster.hp - DEBUG - Added TextInputCall: system_prompt\n",
                        "2024-10-28 14:56:30,002 - hypster.hp_calls - INFO - TextInput call executed for system_prompt: You are a helpful assistant. Answer with one word only\n",
                        "2024-10-28 14:56:30,003 - hypster.core - DEBUG - Captured locals: {'chunking_strategy': 'paragraph', 'llm_model': 'claude-3-5-sonnet-20240620', 'llm_config': {'temperature': 0, 'max_tokens': 64}, 'system_prompt': 'You are a helpful assistant. Answer with one word only'}\n",
                        "2024-10-28 14:56:30,003 - hypster.core - DEBUG - Final result after filtering: {'chunking_strategy': 'paragraph', 'llm_model': 'claude-3-5-sonnet-20240620', 'llm_config': {'temperature': 0, 'max_tokens': 64}, 'system_prompt': 'You are a helpful assistant. Answer with one word only'}\n",
                        "2024-10-28 14:56:30,004 - hypster.hp - DEBUG - Added SelectCall: chunking_strategy\n",
                        "2024-10-28 14:56:30,006 - hypster.hp - DEBUG - Added SelectCall: llm_model\n",
                        "2024-10-28 14:56:30,006 - hypster.hp - DEBUG - Added NumberInputCall: llm_config.temperature\n",
                        "2024-10-28 14:56:30,006 - hypster.hp_calls - INFO - NumberInput call executed for llm_config.temperature: 0\n",
                        "2024-10-28 14:56:30,007 - hypster.hp - DEBUG - Added NumberInputCall: llm_config.max_tokens\n",
                        "2024-10-28 14:56:30,007 - hypster.hp_calls - INFO - NumberInput call executed for llm_config.max_tokens: 64\n",
                        "2024-10-28 14:56:30,008 - hypster.hp - DEBUG - Added TextInputCall: system_prompt\n",
                        "2024-10-28 14:56:30,008 - hypster.hp_calls - INFO - TextInput call executed for system_prompt: You are a helpful assistant. Answer with one word only\n",
                        "2024-10-28 14:56:30,008 - hypster.core - DEBUG - Captured locals: {'chunking_strategy': 'paragraph', 'llm_model': 'gpt-4o-mini', 'llm_config': {'temperature': 0, 'max_tokens': 64}, 'system_prompt': 'You are a helpful assistant. Answer with one word only'}\n",
                        "2024-10-28 14:56:30,008 - hypster.core - DEBUG - Final result after filtering: {'chunking_strategy': 'paragraph', 'llm_model': 'gpt-4o-mini', 'llm_config': {'temperature': 0, 'max_tokens': 64}, 'system_prompt': 'You are a helpful assistant. Answer with one word only'}\n",
                        "2024-10-28 14:56:30,009 - hypster.hp - DEBUG - Added SelectCall: chunking_strategy\n",
                        "2024-10-28 14:56:30,009 - hypster.hp - DEBUG - Added SelectCall: llm_model\n",
                        "2024-10-28 14:56:30,009 - hypster.hp - DEBUG - Added NumberInputCall: llm_config.temperature\n",
                        "2024-10-28 14:56:30,010 - hypster.hp_calls - INFO - NumberInput call executed for llm_config.temperature: 0\n",
                        "2024-10-28 14:56:30,010 - hypster.hp - DEBUG - Added NumberInputCall: llm_config.max_tokens\n",
                        "2024-10-28 14:56:30,010 - hypster.hp_calls - INFO - NumberInput call executed for llm_config.max_tokens: 64\n",
                        "2024-10-28 14:56:30,011 - hypster.hp - DEBUG - Added TextInputCall: system_prompt\n",
                        "2024-10-28 14:56:30,011 - hypster.hp_calls - INFO - TextInput call executed for system_prompt: You are a helpful assistant. Answer with one word only\n",
                        "2024-10-28 14:56:30,011 - hypster.core - DEBUG - Captured locals: {'chunking_strategy': 'semantic', 'llm_model': 'claude-3-haiku-20240307', 'llm_config': {'temperature': 0, 'max_tokens': 64}, 'system_prompt': 'You are a helpful assistant. Answer with one word only'}\n",
                        "2024-10-28 14:56:30,012 - hypster.core - DEBUG - Final result after filtering: {'chunking_strategy': 'semantic', 'llm_model': 'claude-3-haiku-20240307', 'llm_config': {'temperature': 0, 'max_tokens': 64}, 'system_prompt': 'You are a helpful assistant. Answer with one word only'}\n",
                        "2024-10-28 14:56:30,012 - hypster.hp - DEBUG - Added SelectCall: chunking_strategy\n",
                        "2024-10-28 14:56:30,012 - hypster.hp - DEBUG - Added SelectCall: llm_model\n",
                        "2024-10-28 14:56:30,013 - hypster.hp - DEBUG - Added NumberInputCall: llm_config.temperature\n",
                        "2024-10-28 14:56:30,013 - hypster.hp_calls - INFO - NumberInput call executed for llm_config.temperature: 0\n",
                        "2024-10-28 14:56:30,013 - hypster.hp - DEBUG - Added NumberInputCall: llm_config.max_tokens\n",
                        "2024-10-28 14:56:30,014 - hypster.hp_calls - INFO - NumberInput call executed for llm_config.max_tokens: 64\n",
                        "2024-10-28 14:56:30,014 - hypster.hp - DEBUG - Added TextInputCall: system_prompt\n",
                        "2024-10-28 14:56:30,014 - hypster.hp_calls - INFO - TextInput call executed for system_prompt: You are a helpful assistant. Answer with one word only\n",
                        "2024-10-28 14:56:30,015 - hypster.core - DEBUG - Captured locals: {'chunking_strategy': 'semantic', 'llm_model': 'claude-3-5-sonnet-20240620', 'llm_config': {'temperature': 0, 'max_tokens': 64}, 'system_prompt': 'You are a helpful assistant. Answer with one word only'}\n",
                        "2024-10-28 14:56:30,015 - hypster.core - DEBUG - Final result after filtering: {'chunking_strategy': 'semantic', 'llm_model': 'claude-3-5-sonnet-20240620', 'llm_config': {'temperature': 0, 'max_tokens': 64}, 'system_prompt': 'You are a helpful assistant. Answer with one word only'}\n",
                        "2024-10-28 14:56:30,016 - hypster.hp - DEBUG - Added SelectCall: chunking_strategy\n",
                        "2024-10-28 14:56:30,016 - hypster.hp - DEBUG - Added SelectCall: llm_model\n",
                        "2024-10-28 14:56:30,016 - hypster.hp - DEBUG - Added NumberInputCall: llm_config.temperature\n",
                        "2024-10-28 14:56:30,017 - hypster.hp_calls - INFO - NumberInput call executed for llm_config.temperature: 0\n",
                        "2024-10-28 14:56:30,017 - hypster.hp - DEBUG - Added NumberInputCall: llm_config.max_tokens\n",
                        "2024-10-28 14:56:30,017 - hypster.hp_calls - INFO - NumberInput call executed for llm_config.max_tokens: 64\n",
                        "2024-10-28 14:56:30,018 - hypster.hp - DEBUG - Added TextInputCall: system_prompt\n",
                        "2024-10-28 14:56:30,018 - hypster.hp_calls - INFO - TextInput call executed for system_prompt: You are a helpful assistant. Answer with one word only\n",
                        "2024-10-28 14:56:30,019 - hypster.core - DEBUG - Captured locals: {'chunking_strategy': 'semantic', 'llm_model': 'gpt-4o-mini', 'llm_config': {'temperature': 0, 'max_tokens': 64}, 'system_prompt': 'You are a helpful assistant. Answer with one word only'}\n",
                        "2024-10-28 14:56:30,019 - hypster.core - DEBUG - Final result after filtering: {'chunking_strategy': 'semantic', 'llm_model': 'gpt-4o-mini', 'llm_config': {'temperature': 0, 'max_tokens': 64}, 'system_prompt': 'You are a helpful assistant. Answer with one word only'}\n",
                        "2024-10-28 14:56:30,019 - hypster.hp - DEBUG - Added SelectCall: chunking_strategy\n",
                        "2024-10-28 14:56:30,020 - hypster.hp - DEBUG - Added SelectCall: llm_model\n",
                        "2024-10-28 14:56:30,021 - hypster.hp - DEBUG - Added NumberInputCall: llm_config.temperature\n",
                        "2024-10-28 14:56:30,021 - hypster.hp_calls - INFO - NumberInput call executed for llm_config.temperature: 0\n",
                        "2024-10-28 14:56:30,021 - hypster.hp - DEBUG - Added NumberInputCall: llm_config.max_tokens\n",
                        "2024-10-28 14:56:30,022 - hypster.hp_calls - INFO - NumberInput call executed for llm_config.max_tokens: 64\n",
                        "2024-10-28 14:56:30,022 - hypster.hp - DEBUG - Added TextInputCall: system_prompt\n",
                        "2024-10-28 14:56:30,023 - hypster.hp_calls - INFO - TextInput call executed for system_prompt: You are a helpful assistant. Answer with one word only\n",
                        "2024-10-28 14:56:30,023 - hypster.core - DEBUG - Captured locals: {'chunking_strategy': 'fixed', 'llm_model': 'claude-3-haiku-20240307', 'llm_config': {'temperature': 0, 'max_tokens': 64}, 'system_prompt': 'You are a helpful assistant. Answer with one word only'}\n",
                        "2024-10-28 14:56:30,024 - hypster.core - DEBUG - Final result after filtering: {'chunking_strategy': 'fixed', 'llm_model': 'claude-3-haiku-20240307', 'llm_config': {'temperature': 0, 'max_tokens': 64}, 'system_prompt': 'You are a helpful assistant. Answer with one word only'}\n",
                        "2024-10-28 14:56:30,024 - hypster.hp - DEBUG - Added SelectCall: chunking_strategy\n",
                        "2024-10-28 14:56:30,025 - hypster.hp - DEBUG - Added SelectCall: llm_model\n",
                        "2024-10-28 14:56:30,025 - hypster.hp - DEBUG - Added NumberInputCall: llm_config.temperature\n",
                        "2024-10-28 14:56:30,026 - hypster.hp_calls - INFO - NumberInput call executed for llm_config.temperature: 0\n",
                        "2024-10-28 14:56:30,026 - hypster.hp - DEBUG - Added NumberInputCall: llm_config.max_tokens\n",
                        "2024-10-28 14:56:30,026 - hypster.hp_calls - INFO - NumberInput call executed for llm_config.max_tokens: 64\n",
                        "2024-10-28 14:56:30,027 - hypster.hp - DEBUG - Added TextInputCall: system_prompt\n",
                        "2024-10-28 14:56:30,027 - hypster.hp_calls - INFO - TextInput call executed for system_prompt: You are a helpful assistant. Answer with one word only\n",
                        "2024-10-28 14:56:30,028 - hypster.core - DEBUG - Captured locals: {'chunking_strategy': 'fixed', 'llm_model': 'claude-3-5-sonnet-20240620', 'llm_config': {'temperature': 0, 'max_tokens': 64}, 'system_prompt': 'You are a helpful assistant. Answer with one word only'}\n",
                        "2024-10-28 14:56:30,028 - hypster.core - DEBUG - Final result after filtering: {'chunking_strategy': 'fixed', 'llm_model': 'claude-3-5-sonnet-20240620', 'llm_config': {'temperature': 0, 'max_tokens': 64}, 'system_prompt': 'You are a helpful assistant. Answer with one word only'}\n",
                        "2024-10-28 14:56:30,029 - hypster.hp - DEBUG - Added SelectCall: chunking_strategy\n",
                        "2024-10-28 14:56:30,029 - hypster.hp - DEBUG - Added SelectCall: llm_model\n",
                        "2024-10-28 14:56:30,029 - hypster.hp - DEBUG - Added NumberInputCall: llm_config.temperature\n",
                        "2024-10-28 14:56:30,030 - hypster.hp_calls - INFO - NumberInput call executed for llm_config.temperature: 0\n",
                        "2024-10-28 14:56:30,030 - hypster.hp - DEBUG - Added NumberInputCall: llm_config.max_tokens\n",
                        "2024-10-28 14:56:30,030 - hypster.hp_calls - INFO - NumberInput call executed for llm_config.max_tokens: 64\n",
                        "2024-10-28 14:56:30,031 - hypster.hp - DEBUG - Added TextInputCall: system_prompt\n",
                        "2024-10-28 14:56:30,031 - hypster.hp_calls - INFO - TextInput call executed for system_prompt: You are a helpful assistant. Answer with one word only\n",
                        "2024-10-28 14:56:30,031 - hypster.core - DEBUG - Captured locals: {'chunking_strategy': 'fixed', 'llm_model': 'gpt-4o-mini', 'llm_config': {'temperature': 0, 'max_tokens': 64}, 'system_prompt': 'You are a helpful assistant. Answer with one word only'}\n",
                        "2024-10-28 14:56:30,032 - hypster.core - DEBUG - Final result after filtering: {'chunking_strategy': 'fixed', 'llm_model': 'gpt-4o-mini', 'llm_config': {'temperature': 0, 'max_tokens': 64}, 'system_prompt': 'You are a helpful assistant. Answer with one word only'}\n",
                        "2024-10-28 14:56:30,032 - hypster.hp_calls - DEBUG - Running nested configuration with: {'selections': OrderedDict([('chunking_strategy', 'paragraph'), ('llm_model', 'haiku')]), 'final_vars': [], 'overrides': {}}\n",
                        "2024-10-28 14:56:30,033 - hypster.hp - INFO - Initialized HP with explore_mode: False\n",
                        "2024-10-28 14:56:30,033 - hypster.hp - DEBUG - Added SelectCall: chunking_strategy\n",
                        "2024-10-28 14:56:30,033 - hypster.hp_calls - DEBUG - Found selection for chunking_strategy: paragraph\n",
                        "2024-10-28 14:56:30,034 - hypster.hp_calls - INFO - Applied selection for chunking_strategy: paragraph\n",
                        "2024-10-28 14:56:30,034 - hypster.hp - DEBUG - Added SelectCall: llm_model\n",
                        "2024-10-28 14:56:30,034 - hypster.hp_calls - DEBUG - Found selection for llm_model: haiku\n",
                        "2024-10-28 14:56:30,035 - hypster.hp_calls - INFO - Applied selection for llm_model: claude-3-haiku-20240307\n",
                        "2024-10-28 14:56:30,035 - hypster.hp - DEBUG - Added NumberInputCall: llm_config.temperature\n",
                        "2024-10-28 14:56:30,035 - hypster.hp_calls - INFO - NumberInput call executed for llm_config.temperature: 0\n",
                        "2024-10-28 14:56:30,036 - hypster.hp - DEBUG - Added NumberInputCall: llm_config.max_tokens\n",
                        "2024-10-28 14:56:30,036 - hypster.hp_calls - INFO - NumberInput call executed for llm_config.max_tokens: 64\n",
                        "2024-10-28 14:56:30,036 - hypster.hp - DEBUG - Added TextInputCall: system_prompt\n",
                        "2024-10-28 14:56:30,037 - hypster.hp_calls - INFO - TextInput call executed for system_prompt: You are a helpful assistant. Answer with one word only\n",
                        "2024-10-28 14:56:30,037 - hypster.core - DEBUG - Captured locals: {'chunking_strategy': 'paragraph', 'llm_model': 'claude-3-haiku-20240307', 'llm_config': {'temperature': 0, 'max_tokens': 64}, 'system_prompt': 'You are a helpful assistant. Answer with one word only'}\n",
                        "2024-10-28 14:56:30,037 - hypster.core - DEBUG - Final result after filtering: {'chunking_strategy': 'paragraph', 'llm_model': 'claude-3-haiku-20240307', 'llm_config': {'temperature': 0, 'max_tokens': 64}, 'system_prompt': 'You are a helpful assistant. Answer with one word only'}\n",
                        "2024-10-28 14:56:30,038 - hypster.core - DEBUG - Captured locals: {'my_conf': 'claude-3-haiku-20240307'}\n",
                        "2024-10-28 14:56:30,038 - hypster.core - DEBUG - Final result after filtering: {'my_conf': 'claude-3-haiku-20240307'}\n",
                        "2024-10-28 14:56:30,039 - hypster.hp - DEBUG - Added PropagateCall: my_conf.llm_model\n",
                        "2024-10-28 14:56:30,040 - hypster.ast_analyzer - INFO - Starting HP calls collection\n",
                        "2024-10-28 14:56:30,040 - hypster.ast_analyzer - DEBUG - AST parsing successful\n",
                        "2024-10-28 14:56:30,040 - hypster.ast_analyzer - DEBUG - Parent map built with 50 entries\n",
                        "2024-10-28 14:56:30,041 - hypster.ast_analyzer - DEBUG - Initialized HPCallVisitor\n",
                        "2024-10-28 14:56:30,041 - hypster.ast_analyzer - DEBUG - Checking if node is HP call: True\n",
                        "2024-10-28 14:56:30,041 - hypster.ast_analyzer - DEBUG - Detected hp call at line 2, column 24\n",
                        "2024-10-28 14:56:30,041 - hypster.ast_analyzer - DEBUG - Found assignment to variable 'chunking_strategy'\n",
                        "2024-10-28 14:56:30,042 - hypster.ast_analyzer - DEBUG - Encountered unsupported parent type 'FunctionDef'\n",
                        "2024-10-28 14:56:30,042 - hypster.ast_analyzer - DEBUG - Inferred implicit name: 'chunking_strategy'\n",
                        "2024-10-28 14:56:30,042 - hypster.ast_analyzer - DEBUG - HP call at line 2 does not have an explicit name\n",
                        "2024-10-28 14:56:30,043 - hypster.ast_analyzer - DEBUG - Created HPCall instance: HPCall(lineno=2, col_offset=24, method_name='select', implicit_name='chunking_strategy', has_explicit_name=False, call_index=0)\n",
                        "2024-10-28 14:56:30,043 - hypster.ast_analyzer - DEBUG - Checking if node is HP call: True\n",
                        "2024-10-28 14:56:30,043 - hypster.ast_analyzer - DEBUG - Detected hp call at line 4, column 16\n",
                        "2024-10-28 14:56:30,044 - hypster.ast_analyzer - DEBUG - Found assignment to variable 'llm_model'\n",
                        "2024-10-28 14:56:30,044 - hypster.ast_analyzer - DEBUG - Encountered unsupported parent type 'FunctionDef'\n",
                        "2024-10-28 14:56:30,044 - hypster.ast_analyzer - DEBUG - Inferred implicit name: 'llm_model'\n",
                        "2024-10-28 14:56:30,045 - hypster.ast_analyzer - DEBUG - HP call at line 4 does not have an explicit name\n",
                        "2024-10-28 14:56:30,045 - hypster.ast_analyzer - DEBUG - Created HPCall instance: HPCall(lineno=4, col_offset=16, method_name='select', implicit_name='llm_model', has_explicit_name=False, call_index=0)\n",
                        "2024-10-28 14:56:30,045 - hypster.ast_analyzer - DEBUG - Checking if node is HP call: True\n",
                        "2024-10-28 14:56:30,046 - hypster.ast_analyzer - DEBUG - Detected hp call at line 9, column 33\n",
                        "2024-10-28 14:56:30,046 - hypster.ast_analyzer - DEBUG - Found dictionary key 'temperature'\n",
                        "2024-10-28 14:56:30,047 - hypster.ast_analyzer - DEBUG - Found assignment to variable 'llm_config'\n",
                        "2024-10-28 14:56:30,047 - hypster.ast_analyzer - DEBUG - Encountered unsupported parent type 'FunctionDef'\n",
                        "2024-10-28 14:56:30,047 - hypster.ast_analyzer - DEBUG - Inferred implicit name: 'llm_config.temperature'\n",
                        "2024-10-28 14:56:30,048 - hypster.ast_analyzer - DEBUG - HP call at line 9 does not have an explicit name\n",
                        "2024-10-28 14:56:30,048 - hypster.ast_analyzer - DEBUG - Created HPCall instance: HPCall(lineno=9, col_offset=33, method_name='number', implicit_name='llm_config.temperature', has_explicit_name=False, call_index=0)\n",
                        "2024-10-28 14:56:30,049 - hypster.ast_analyzer - DEBUG - Checking if node is HP call: True\n",
                        "2024-10-28 14:56:30,049 - hypster.ast_analyzer - DEBUG - Detected hp call at line 9, column 67\n",
                        "2024-10-28 14:56:30,049 - hypster.ast_analyzer - DEBUG - Found dictionary key 'max_tokens'\n",
                        "2024-10-28 14:56:30,049 - hypster.ast_analyzer - DEBUG - Found assignment to variable 'llm_config'\n",
                        "2024-10-28 14:56:30,050 - hypster.ast_analyzer - DEBUG - Encountered unsupported parent type 'FunctionDef'\n",
                        "2024-10-28 14:56:30,050 - hypster.ast_analyzer - DEBUG - Inferred implicit name: 'llm_config.max_tokens'\n",
                        "2024-10-28 14:56:30,051 - hypster.ast_analyzer - DEBUG - HP call at line 9 does not have an explicit name\n",
                        "2024-10-28 14:56:30,051 - hypster.ast_analyzer - DEBUG - Created HPCall instance: HPCall(lineno=9, col_offset=67, method_name='number', implicit_name='llm_config.max_tokens', has_explicit_name=False, call_index=0)\n",
                        "2024-10-28 14:56:30,052 - hypster.ast_analyzer - DEBUG - Checking if node is HP call: True\n",
                        "2024-10-28 14:56:30,052 - hypster.ast_analyzer - DEBUG - Detected hp call at line 11, column 20\n",
                        "2024-10-28 14:56:30,052 - hypster.ast_analyzer - DEBUG - Found assignment to variable 'system_prompt'\n",
                        "2024-10-28 14:56:30,053 - hypster.ast_analyzer - DEBUG - Encountered unsupported parent type 'FunctionDef'\n",
                        "2024-10-28 14:56:30,053 - hypster.ast_analyzer - DEBUG - Inferred implicit name: 'system_prompt'\n",
                        "2024-10-28 14:56:30,053 - hypster.ast_analyzer - DEBUG - HP call at line 11 does not have an explicit name\n",
                        "2024-10-28 14:56:30,053 - hypster.ast_analyzer - DEBUG - Created HPCall instance: HPCall(lineno=11, col_offset=20, method_name='text', implicit_name='system_prompt', has_explicit_name=False, call_index=0)\n",
                        "2024-10-28 14:56:30,054 - hypster.ast_analyzer - INFO - Collected 5 HP calls\n",
                        "2024-10-28 14:56:30,054 - hypster.ast_analyzer - DEBUG - HP Call: HPCall(lineno=2, col_offset=24, method_name='select', implicit_name='chunking_strategy', has_explicit_name=False, call_index=0)\n",
                        "2024-10-28 14:56:30,055 - hypster.ast_analyzer - DEBUG - HP Call: HPCall(lineno=4, col_offset=16, method_name='select', implicit_name='llm_model', has_explicit_name=False, call_index=0)\n",
                        "2024-10-28 14:56:30,055 - hypster.ast_analyzer - DEBUG - HP Call: HPCall(lineno=9, col_offset=33, method_name='number', implicit_name='llm_config.temperature', has_explicit_name=False, call_index=0)\n",
                        "2024-10-28 14:56:30,056 - hypster.ast_analyzer - DEBUG - HP Call: HPCall(lineno=9, col_offset=67, method_name='number', implicit_name='llm_config.max_tokens', has_explicit_name=False, call_index=0)\n",
                        "2024-10-28 14:56:30,056 - hypster.ast_analyzer - DEBUG - HP Call: HPCall(lineno=11, col_offset=20, method_name='text', implicit_name='system_prompt', has_explicit_name=False, call_index=0)\n",
                        "2024-10-28 14:56:30,057 - hypster.ast_analyzer - INFO - Starting name injection into source code\n",
                        "2024-10-28 14:56:30,057 - hypster.ast_analyzer - DEBUG - Initialized NameInjector\n",
                        "2024-10-28 14:56:30,058 - hypster.ast_analyzer - DEBUG - Injecting name 'chunking_strategy' into hp call on line 2\n",
                        "2024-10-28 14:56:30,058 - hypster.ast_analyzer - DEBUG - Injecting name 'llm_model' into hp call on line 4\n",
                        "2024-10-28 14:56:30,059 - hypster.ast_analyzer - DEBUG - Injecting name 'llm_config.temperature' into hp call on line 9\n",
                        "2024-10-28 14:56:30,059 - hypster.ast_analyzer - DEBUG - Injecting name 'llm_config.max_tokens' into hp call on line 9\n",
                        "2024-10-28 14:56:30,059 - hypster.ast_analyzer - DEBUG - Injecting name 'system_prompt' into hp call on line 11\n",
                        "2024-10-28 14:56:30,060 - hypster.ast_analyzer - DEBUG - AST unparsed successfully using ast.unparse\n",
                        "2024-10-28 14:56:30,061 - hypster.ast_analyzer - INFO - Name injection completed\n",
                        "2024-10-28 14:56:30,061 - hypster.ast_analyzer - INFO - Starting referenced variables collection\n",
                        "2024-10-28 14:56:30,061 - hypster.ast_analyzer - DEBUG - Initialized VariableReferenceCollector\n",
                        "2024-10-28 14:56:30,062 - hypster.ast_analyzer - DEBUG - Referenced variable found: 'HP'\n",
                        "2024-10-28 14:56:30,062 - hypster.ast_analyzer - DEBUG - Referenced variable found: 'hp'\n",
                        "2024-10-28 14:56:30,063 - hypster.ast_analyzer - DEBUG - Referenced variable found: 'hp'\n",
                        "2024-10-28 14:56:30,063 - hypster.ast_analyzer - DEBUG - Referenced variable found: 'hp'\n",
                        "2024-10-28 14:56:30,063 - hypster.ast_analyzer - DEBUG - Referenced variable found: 'hp'\n",
                        "2024-10-28 14:56:30,064 - hypster.ast_analyzer - DEBUG - Referenced variable found: 'hp'\n",
                        "2024-10-28 14:56:30,064 - hypster.ast_analyzer - INFO - Referenced variables collected: {'hp', 'HP'}\n",
                        "2024-10-28 14:56:30,064 - hypster.ast_analyzer - DEBUG - Independent select calls identified: {'llm_model', 'chunking_strategy'}\n",
                        "2024-10-28 14:56:30,065 - hypster.hp_calls - DEBUG - Running nested configuration with: {'selections': OrderedDict([('chunking_strategy', 'paragraph'), ('llm_model', 'sonnet')]), 'final_vars': [], 'overrides': {}}\n",
                        "2024-10-28 14:56:30,065 - hypster.hp - INFO - Initialized HP with explore_mode: False\n",
                        "2024-10-28 14:56:30,065 - hypster.hp - DEBUG - Added SelectCall: chunking_strategy\n",
                        "2024-10-28 14:56:30,066 - hypster.hp_calls - DEBUG - Found selection for chunking_strategy: paragraph\n",
                        "2024-10-28 14:56:30,066 - hypster.hp_calls - INFO - Applied selection for chunking_strategy: paragraph\n",
                        "2024-10-28 14:56:30,067 - hypster.hp - DEBUG - Added SelectCall: llm_model\n",
                        "2024-10-28 14:56:30,067 - hypster.hp_calls - DEBUG - Found selection for llm_model: sonnet\n",
                        "2024-10-28 14:56:30,068 - hypster.hp_calls - INFO - Applied selection for llm_model: claude-3-5-sonnet-20240620\n",
                        "2024-10-28 14:56:30,068 - hypster.hp - DEBUG - Added NumberInputCall: llm_config.temperature\n",
                        "2024-10-28 14:56:30,068 - hypster.hp_calls - INFO - NumberInput call executed for llm_config.temperature: 0\n",
                        "2024-10-28 14:56:30,069 - hypster.hp - DEBUG - Added NumberInputCall: llm_config.max_tokens\n",
                        "2024-10-28 14:56:30,069 - hypster.hp_calls - INFO - NumberInput call executed for llm_config.max_tokens: 64\n",
                        "2024-10-28 14:56:30,069 - hypster.hp - DEBUG - Added TextInputCall: system_prompt\n",
                        "2024-10-28 14:56:30,070 - hypster.hp_calls - INFO - TextInput call executed for system_prompt: You are a helpful assistant. Answer with one word only\n",
                        "2024-10-28 14:56:30,090 - hypster.core - DEBUG - Captured locals: {'chunking_strategy': 'paragraph', 'llm_model': 'claude-3-5-sonnet-20240620', 'llm_config': {'temperature': 0, 'max_tokens': 64}, 'system_prompt': 'You are a helpful assistant. Answer with one word only'}\n",
                        "2024-10-28 14:56:30,103 - hypster.core - DEBUG - Final result after filtering: {'chunking_strategy': 'paragraph', 'llm_model': 'claude-3-5-sonnet-20240620', 'llm_config': {'temperature': 0, 'max_tokens': 64}, 'system_prompt': 'You are a helpful assistant. Answer with one word only'}\n",
                        "2024-10-28 14:56:30,104 - hypster.core - DEBUG - Captured locals: {'my_conf': 'claude-3-5-sonnet-20240620'}\n",
                        "2024-10-28 14:56:30,105 - hypster.core - DEBUG - Final result after filtering: {'my_conf': 'claude-3-5-sonnet-20240620'}\n",
                        "2024-10-28 14:56:30,105 - hypster.hp - DEBUG - Added PropagateCall: my_conf.llm_model\n",
                        "2024-10-28 14:56:30,113 - hypster.ast_analyzer - INFO - Starting HP calls collection\n",
                        "2024-10-28 14:56:30,114 - hypster.ast_analyzer - DEBUG - AST parsing successful\n",
                        "2024-10-28 14:56:30,114 - hypster.ast_analyzer - DEBUG - Parent map built with 50 entries\n",
                        "2024-10-28 14:56:30,115 - hypster.ast_analyzer - DEBUG - Initialized HPCallVisitor\n",
                        "2024-10-28 14:56:30,115 - hypster.ast_analyzer - DEBUG - Checking if node is HP call: True\n",
                        "2024-10-28 14:56:30,116 - hypster.ast_analyzer - DEBUG - Detected hp call at line 2, column 24\n",
                        "2024-10-28 14:56:30,116 - hypster.ast_analyzer - DEBUG - Found assignment to variable 'chunking_strategy'\n",
                        "2024-10-28 14:56:30,116 - hypster.ast_analyzer - DEBUG - Encountered unsupported parent type 'FunctionDef'\n",
                        "2024-10-28 14:56:30,117 - hypster.ast_analyzer - DEBUG - Inferred implicit name: 'chunking_strategy'\n",
                        "2024-10-28 14:56:30,117 - hypster.ast_analyzer - DEBUG - HP call at line 2 does not have an explicit name\n",
                        "2024-10-28 14:56:30,117 - hypster.ast_analyzer - DEBUG - Created HPCall instance: HPCall(lineno=2, col_offset=24, method_name='select', implicit_name='chunking_strategy', has_explicit_name=False, call_index=0)\n",
                        "2024-10-28 14:56:30,117 - hypster.ast_analyzer - DEBUG - Checking if node is HP call: True\n",
                        "2024-10-28 14:56:30,118 - hypster.ast_analyzer - DEBUG - Detected hp call at line 4, column 16\n",
                        "2024-10-28 14:56:30,118 - hypster.ast_analyzer - DEBUG - Found assignment to variable 'llm_model'\n",
                        "2024-10-28 14:56:30,119 - hypster.ast_analyzer - DEBUG - Encountered unsupported parent type 'FunctionDef'\n",
                        "2024-10-28 14:56:30,119 - hypster.ast_analyzer - DEBUG - Inferred implicit name: 'llm_model'\n",
                        "2024-10-28 14:56:30,124 - hypster.ast_analyzer - DEBUG - HP call at line 4 does not have an explicit name\n",
                        "2024-10-28 14:56:30,127 - hypster.ast_analyzer - DEBUG - Created HPCall instance: HPCall(lineno=4, col_offset=16, method_name='select', implicit_name='llm_model', has_explicit_name=False, call_index=0)\n",
                        "2024-10-28 14:56:30,128 - hypster.ast_analyzer - DEBUG - Checking if node is HP call: True\n",
                        "2024-10-28 14:56:30,130 - hypster.ast_analyzer - DEBUG - Detected hp call at line 9, column 33\n",
                        "2024-10-28 14:56:30,130 - hypster.ast_analyzer - DEBUG - Found dictionary key 'temperature'\n",
                        "2024-10-28 14:56:30,131 - hypster.ast_analyzer - DEBUG - Found assignment to variable 'llm_config'\n",
                        "2024-10-28 14:56:30,131 - hypster.ast_analyzer - DEBUG - Encountered unsupported parent type 'FunctionDef'\n",
                        "2024-10-28 14:56:30,131 - hypster.ast_analyzer - DEBUG - Inferred implicit name: 'llm_config.temperature'\n",
                        "2024-10-28 14:56:30,132 - hypster.ast_analyzer - DEBUG - HP call at line 9 does not have an explicit name\n",
                        "2024-10-28 14:56:30,132 - hypster.ast_analyzer - DEBUG - Created HPCall instance: HPCall(lineno=9, col_offset=33, method_name='number', implicit_name='llm_config.temperature', has_explicit_name=False, call_index=0)\n",
                        "2024-10-28 14:56:30,133 - hypster.ast_analyzer - DEBUG - Checking if node is HP call: True\n",
                        "2024-10-28 14:56:30,134 - hypster.ast_analyzer - DEBUG - Detected hp call at line 9, column 67\n",
                        "2024-10-28 14:56:30,134 - hypster.ast_analyzer - DEBUG - Found dictionary key 'max_tokens'\n",
                        "2024-10-28 14:56:30,135 - hypster.ast_analyzer - DEBUG - Found assignment to variable 'llm_config'\n",
                        "2024-10-28 14:56:30,136 - hypster.ast_analyzer - DEBUG - Encountered unsupported parent type 'FunctionDef'\n",
                        "2024-10-28 14:56:30,136 - hypster.ast_analyzer - DEBUG - Inferred implicit name: 'llm_config.max_tokens'\n",
                        "2024-10-28 14:56:30,137 - hypster.ast_analyzer - DEBUG - HP call at line 9 does not have an explicit name\n",
                        "2024-10-28 14:56:30,137 - hypster.ast_analyzer - DEBUG - Created HPCall instance: HPCall(lineno=9, col_offset=67, method_name='number', implicit_name='llm_config.max_tokens', has_explicit_name=False, call_index=0)\n",
                        "2024-10-28 14:56:30,138 - hypster.ast_analyzer - DEBUG - Checking if node is HP call: True\n",
                        "2024-10-28 14:56:30,139 - hypster.ast_analyzer - DEBUG - Detected hp call at line 11, column 20\n",
                        "2024-10-28 14:56:30,140 - hypster.ast_analyzer - DEBUG - Found assignment to variable 'system_prompt'\n",
                        "2024-10-28 14:56:30,140 - hypster.ast_analyzer - DEBUG - Encountered unsupported parent type 'FunctionDef'\n",
                        "2024-10-28 14:56:30,141 - hypster.ast_analyzer - DEBUG - Inferred implicit name: 'system_prompt'\n",
                        "2024-10-28 14:56:30,142 - hypster.ast_analyzer - DEBUG - HP call at line 11 does not have an explicit name\n",
                        "2024-10-28 14:56:30,142 - hypster.ast_analyzer - DEBUG - Created HPCall instance: HPCall(lineno=11, col_offset=20, method_name='text', implicit_name='system_prompt', has_explicit_name=False, call_index=0)\n",
                        "2024-10-28 14:56:30,143 - hypster.ast_analyzer - INFO - Collected 5 HP calls\n",
                        "2024-10-28 14:56:30,143 - hypster.ast_analyzer - DEBUG - HP Call: HPCall(lineno=2, col_offset=24, method_name='select', implicit_name='chunking_strategy', has_explicit_name=False, call_index=0)\n",
                        "2024-10-28 14:56:30,144 - hypster.ast_analyzer - DEBUG - HP Call: HPCall(lineno=4, col_offset=16, method_name='select', implicit_name='llm_model', has_explicit_name=False, call_index=0)\n",
                        "2024-10-28 14:56:30,144 - hypster.ast_analyzer - DEBUG - HP Call: HPCall(lineno=9, col_offset=33, method_name='number', implicit_name='llm_config.temperature', has_explicit_name=False, call_index=0)\n",
                        "2024-10-28 14:56:30,145 - hypster.ast_analyzer - DEBUG - HP Call: HPCall(lineno=9, col_offset=67, method_name='number', implicit_name='llm_config.max_tokens', has_explicit_name=False, call_index=0)\n",
                        "2024-10-28 14:56:30,145 - hypster.ast_analyzer - DEBUG - HP Call: HPCall(lineno=11, col_offset=20, method_name='text', implicit_name='system_prompt', has_explicit_name=False, call_index=0)\n",
                        "2024-10-28 14:56:30,145 - hypster.ast_analyzer - INFO - Starting name injection into source code\n",
                        "2024-10-28 14:56:30,146 - hypster.ast_analyzer - DEBUG - Initialized NameInjector\n",
                        "2024-10-28 14:56:30,147 - hypster.ast_analyzer - DEBUG - Injecting name 'chunking_strategy' into hp call on line 2\n",
                        "2024-10-28 14:56:30,147 - hypster.ast_analyzer - DEBUG - Injecting name 'llm_model' into hp call on line 4\n",
                        "2024-10-28 14:56:30,147 - hypster.ast_analyzer - DEBUG - Injecting name 'llm_config.temperature' into hp call on line 9\n",
                        "2024-10-28 14:56:30,148 - hypster.ast_analyzer - DEBUG - Injecting name 'llm_config.max_tokens' into hp call on line 9\n",
                        "2024-10-28 14:56:30,148 - hypster.ast_analyzer - DEBUG - Injecting name 'system_prompt' into hp call on line 11\n",
                        "2024-10-28 14:56:30,149 - hypster.ast_analyzer - DEBUG - AST unparsed successfully using ast.unparse\n",
                        "2024-10-28 14:56:30,149 - hypster.ast_analyzer - INFO - Name injection completed\n",
                        "2024-10-28 14:56:30,150 - hypster.ast_analyzer - INFO - Starting referenced variables collection\n",
                        "2024-10-28 14:56:30,150 - hypster.ast_analyzer - DEBUG - Initialized VariableReferenceCollector\n",
                        "2024-10-28 14:56:30,150 - hypster.ast_analyzer - DEBUG - Referenced variable found: 'HP'\n",
                        "2024-10-28 14:56:30,151 - hypster.ast_analyzer - DEBUG - Referenced variable found: 'hp'\n",
                        "2024-10-28 14:56:30,151 - hypster.ast_analyzer - DEBUG - Referenced variable found: 'hp'\n",
                        "2024-10-28 14:56:30,152 - hypster.ast_analyzer - DEBUG - Referenced variable found: 'hp'\n",
                        "2024-10-28 14:56:30,152 - hypster.ast_analyzer - DEBUG - Referenced variable found: 'hp'\n",
                        "2024-10-28 14:56:30,152 - hypster.ast_analyzer - DEBUG - Referenced variable found: 'hp'\n",
                        "2024-10-28 14:56:30,153 - hypster.ast_analyzer - INFO - Referenced variables collected: {'hp', 'HP'}\n",
                        "2024-10-28 14:56:30,153 - hypster.ast_analyzer - DEBUG - Independent select calls identified: {'llm_model', 'chunking_strategy'}\n",
                        "2024-10-28 14:56:30,154 - hypster.hp_calls - DEBUG - Running nested configuration with: {'selections': OrderedDict([('chunking_strategy', 'paragraph'), ('llm_model', 'gpt-4o-mini')]), 'final_vars': [], 'overrides': {}}\n",
                        "2024-10-28 14:56:30,155 - hypster.hp - INFO - Initialized HP with explore_mode: False\n",
                        "2024-10-28 14:56:30,156 - hypster.hp - DEBUG - Added SelectCall: chunking_strategy\n",
                        "2024-10-28 14:56:30,156 - hypster.hp_calls - DEBUG - Found selection for chunking_strategy: paragraph\n",
                        "2024-10-28 14:56:30,156 - hypster.hp_calls - INFO - Applied selection for chunking_strategy: paragraph\n",
                        "2024-10-28 14:56:30,156 - hypster.hp - DEBUG - Added SelectCall: llm_model\n",
                        "2024-10-28 14:56:30,157 - hypster.hp_calls - DEBUG - Found selection for llm_model: gpt-4o-mini\n",
                        "2024-10-28 14:56:30,157 - hypster.hp_calls - INFO - Applied selection for llm_model: gpt-4o-mini\n",
                        "2024-10-28 14:56:30,157 - hypster.hp - DEBUG - Added NumberInputCall: llm_config.temperature\n",
                        "2024-10-28 14:56:30,158 - hypster.hp_calls - INFO - NumberInput call executed for llm_config.temperature: 0\n",
                        "2024-10-28 14:56:30,158 - hypster.hp - DEBUG - Added NumberInputCall: llm_config.max_tokens\n",
                        "2024-10-28 14:56:30,159 - hypster.hp_calls - INFO - NumberInput call executed for llm_config.max_tokens: 64\n",
                        "2024-10-28 14:56:30,159 - hypster.hp - DEBUG - Added TextInputCall: system_prompt\n",
                        "2024-10-28 14:56:30,159 - hypster.hp_calls - INFO - TextInput call executed for system_prompt: You are a helpful assistant. Answer with one word only\n",
                        "2024-10-28 14:56:30,160 - hypster.core - DEBUG - Captured locals: {'chunking_strategy': 'paragraph', 'llm_model': 'gpt-4o-mini', 'llm_config': {'temperature': 0, 'max_tokens': 64}, 'system_prompt': 'You are a helpful assistant. Answer with one word only'}\n",
                        "2024-10-28 14:56:30,160 - hypster.core - DEBUG - Final result after filtering: {'chunking_strategy': 'paragraph', 'llm_model': 'gpt-4o-mini', 'llm_config': {'temperature': 0, 'max_tokens': 64}, 'system_prompt': 'You are a helpful assistant. Answer with one word only'}\n",
                        "2024-10-28 14:56:30,160 - hypster.core - DEBUG - Captured locals: {'my_conf': 'gpt-4o-mini'}\n",
                        "2024-10-28 14:56:30,161 - hypster.core - DEBUG - Final result after filtering: {'my_conf': 'gpt-4o-mini'}\n",
                        "2024-10-28 14:56:30,161 - hypster.hp - DEBUG - Added PropagateCall: my_conf.llm_model\n",
                        "2024-10-28 14:56:30,163 - hypster.ast_analyzer - INFO - Starting HP calls collection\n",
                        "2024-10-28 14:56:30,163 - hypster.ast_analyzer - DEBUG - AST parsing successful\n",
                        "2024-10-28 14:56:30,164 - hypster.ast_analyzer - DEBUG - Parent map built with 50 entries\n",
                        "2024-10-28 14:56:30,164 - hypster.ast_analyzer - DEBUG - Initialized HPCallVisitor\n",
                        "2024-10-28 14:56:30,164 - hypster.ast_analyzer - DEBUG - Checking if node is HP call: True\n",
                        "2024-10-28 14:56:30,165 - hypster.ast_analyzer - DEBUG - Detected hp call at line 2, column 24\n",
                        "2024-10-28 14:56:30,165 - hypster.ast_analyzer - DEBUG - Found assignment to variable 'chunking_strategy'\n",
                        "2024-10-28 14:56:30,165 - hypster.ast_analyzer - DEBUG - Encountered unsupported parent type 'FunctionDef'\n",
                        "2024-10-28 14:56:30,165 - hypster.ast_analyzer - DEBUG - Inferred implicit name: 'chunking_strategy'\n",
                        "2024-10-28 14:56:30,166 - hypster.ast_analyzer - DEBUG - HP call at line 2 does not have an explicit name\n",
                        "2024-10-28 14:56:30,166 - hypster.ast_analyzer - DEBUG - Created HPCall instance: HPCall(lineno=2, col_offset=24, method_name='select', implicit_name='chunking_strategy', has_explicit_name=False, call_index=0)\n",
                        "2024-10-28 14:56:30,166 - hypster.ast_analyzer - DEBUG - Checking if node is HP call: True\n",
                        "2024-10-28 14:56:30,166 - hypster.ast_analyzer - DEBUG - Detected hp call at line 4, column 16\n",
                        "2024-10-28 14:56:30,167 - hypster.ast_analyzer - DEBUG - Found assignment to variable 'llm_model'\n",
                        "2024-10-28 14:56:30,167 - hypster.ast_analyzer - DEBUG - Encountered unsupported parent type 'FunctionDef'\n",
                        "2024-10-28 14:56:30,167 - hypster.ast_analyzer - DEBUG - Inferred implicit name: 'llm_model'\n",
                        "2024-10-28 14:56:30,167 - hypster.ast_analyzer - DEBUG - HP call at line 4 does not have an explicit name\n",
                        "2024-10-28 14:56:30,167 - hypster.ast_analyzer - DEBUG - Created HPCall instance: HPCall(lineno=4, col_offset=16, method_name='select', implicit_name='llm_model', has_explicit_name=False, call_index=0)\n",
                        "2024-10-28 14:56:30,167 - hypster.ast_analyzer - DEBUG - Checking if node is HP call: True\n",
                        "2024-10-28 14:56:30,168 - hypster.ast_analyzer - DEBUG - Detected hp call at line 9, column 33\n",
                        "2024-10-28 14:56:30,168 - hypster.ast_analyzer - DEBUG - Found dictionary key 'temperature'\n",
                        "2024-10-28 14:56:30,168 - hypster.ast_analyzer - DEBUG - Found assignment to variable 'llm_config'\n",
                        "2024-10-28 14:56:30,168 - hypster.ast_analyzer - DEBUG - Encountered unsupported parent type 'FunctionDef'\n",
                        "2024-10-28 14:56:30,168 - hypster.ast_analyzer - DEBUG - Inferred implicit name: 'llm_config.temperature'\n",
                        "2024-10-28 14:56:30,168 - hypster.ast_analyzer - DEBUG - HP call at line 9 does not have an explicit name\n",
                        "2024-10-28 14:56:30,169 - hypster.ast_analyzer - DEBUG - Created HPCall instance: HPCall(lineno=9, col_offset=33, method_name='number', implicit_name='llm_config.temperature', has_explicit_name=False, call_index=0)\n",
                        "2024-10-28 14:56:30,169 - hypster.ast_analyzer - DEBUG - Checking if node is HP call: True\n",
                        "2024-10-28 14:56:30,169 - hypster.ast_analyzer - DEBUG - Detected hp call at line 9, column 67\n",
                        "2024-10-28 14:56:30,169 - hypster.ast_analyzer - DEBUG - Found dictionary key 'max_tokens'\n",
                        "2024-10-28 14:56:30,170 - hypster.ast_analyzer - DEBUG - Found assignment to variable 'llm_config'\n",
                        "2024-10-28 14:56:30,170 - hypster.ast_analyzer - DEBUG - Encountered unsupported parent type 'FunctionDef'\n",
                        "2024-10-28 14:56:30,170 - hypster.ast_analyzer - DEBUG - Inferred implicit name: 'llm_config.max_tokens'\n",
                        "2024-10-28 14:56:30,171 - hypster.ast_analyzer - DEBUG - HP call at line 9 does not have an explicit name\n",
                        "2024-10-28 14:56:30,171 - hypster.ast_analyzer - DEBUG - Created HPCall instance: HPCall(lineno=9, col_offset=67, method_name='number', implicit_name='llm_config.max_tokens', has_explicit_name=False, call_index=0)\n",
                        "2024-10-28 14:56:30,171 - hypster.ast_analyzer - DEBUG - Checking if node is HP call: True\n",
                        "2024-10-28 14:56:30,172 - hypster.ast_analyzer - DEBUG - Detected hp call at line 11, column 20\n",
                        "2024-10-28 14:56:30,172 - hypster.ast_analyzer - DEBUG - Found assignment to variable 'system_prompt'\n",
                        "2024-10-28 14:56:30,172 - hypster.ast_analyzer - DEBUG - Encountered unsupported parent type 'FunctionDef'\n",
                        "2024-10-28 14:56:30,172 - hypster.ast_analyzer - DEBUG - Inferred implicit name: 'system_prompt'\n",
                        "2024-10-28 14:56:30,173 - hypster.ast_analyzer - DEBUG - HP call at line 11 does not have an explicit name\n",
                        "2024-10-28 14:56:30,173 - hypster.ast_analyzer - DEBUG - Created HPCall instance: HPCall(lineno=11, col_offset=20, method_name='text', implicit_name='system_prompt', has_explicit_name=False, call_index=0)\n",
                        "2024-10-28 14:56:30,173 - hypster.ast_analyzer - INFO - Collected 5 HP calls\n",
                        "2024-10-28 14:56:30,173 - hypster.ast_analyzer - DEBUG - HP Call: HPCall(lineno=2, col_offset=24, method_name='select', implicit_name='chunking_strategy', has_explicit_name=False, call_index=0)\n",
                        "2024-10-28 14:56:30,173 - hypster.ast_analyzer - DEBUG - HP Call: HPCall(lineno=4, col_offset=16, method_name='select', implicit_name='llm_model', has_explicit_name=False, call_index=0)\n",
                        "2024-10-28 14:56:30,174 - hypster.ast_analyzer - DEBUG - HP Call: HPCall(lineno=9, col_offset=33, method_name='number', implicit_name='llm_config.temperature', has_explicit_name=False, call_index=0)\n",
                        "2024-10-28 14:56:30,174 - hypster.ast_analyzer - DEBUG - HP Call: HPCall(lineno=9, col_offset=67, method_name='number', implicit_name='llm_config.max_tokens', has_explicit_name=False, call_index=0)\n",
                        "2024-10-28 14:56:30,174 - hypster.ast_analyzer - DEBUG - HP Call: HPCall(lineno=11, col_offset=20, method_name='text', implicit_name='system_prompt', has_explicit_name=False, call_index=0)\n",
                        "2024-10-28 14:56:30,174 - hypster.ast_analyzer - INFO - Starting name injection into source code\n",
                        "2024-10-28 14:56:30,175 - hypster.ast_analyzer - DEBUG - Initialized NameInjector\n",
                        "2024-10-28 14:56:30,175 - hypster.ast_analyzer - DEBUG - Injecting name 'chunking_strategy' into hp call on line 2\n",
                        "2024-10-28 14:56:30,176 - hypster.ast_analyzer - DEBUG - Injecting name 'llm_model' into hp call on line 4\n",
                        "2024-10-28 14:56:30,176 - hypster.ast_analyzer - DEBUG - Injecting name 'llm_config.temperature' into hp call on line 9\n",
                        "2024-10-28 14:56:30,177 - hypster.ast_analyzer - DEBUG - Injecting name 'llm_config.max_tokens' into hp call on line 9\n",
                        "2024-10-28 14:56:30,177 - hypster.ast_analyzer - DEBUG - Injecting name 'system_prompt' into hp call on line 11\n",
                        "2024-10-28 14:56:30,178 - hypster.ast_analyzer - DEBUG - AST unparsed successfully using ast.unparse\n",
                        "2024-10-28 14:56:30,179 - hypster.ast_analyzer - INFO - Name injection completed\n",
                        "2024-10-28 14:56:30,179 - hypster.ast_analyzer - INFO - Starting referenced variables collection\n",
                        "2024-10-28 14:56:30,180 - hypster.ast_analyzer - DEBUG - Initialized VariableReferenceCollector\n",
                        "2024-10-28 14:56:30,180 - hypster.ast_analyzer - DEBUG - Referenced variable found: 'HP'\n",
                        "2024-10-28 14:56:30,181 - hypster.ast_analyzer - DEBUG - Referenced variable found: 'hp'\n",
                        "2024-10-28 14:56:30,181 - hypster.ast_analyzer - DEBUG - Referenced variable found: 'hp'\n",
                        "2024-10-28 14:56:30,181 - hypster.ast_analyzer - DEBUG - Referenced variable found: 'hp'\n",
                        "2024-10-28 14:56:30,182 - hypster.ast_analyzer - DEBUG - Referenced variable found: 'hp'\n",
                        "2024-10-28 14:56:30,182 - hypster.ast_analyzer - DEBUG - Referenced variable found: 'hp'\n",
                        "2024-10-28 14:56:30,182 - hypster.ast_analyzer - INFO - Referenced variables collected: {'hp', 'HP'}\n",
                        "2024-10-28 14:56:30,182 - hypster.ast_analyzer - DEBUG - Independent select calls identified: {'llm_model', 'chunking_strategy'}\n",
                        "2024-10-28 14:56:30,183 - hypster.hp_calls - DEBUG - Running nested configuration with: {'selections': OrderedDict([('chunking_strategy', 'semantic'), ('llm_model', 'haiku')]), 'final_vars': [], 'overrides': {}}\n",
                        "2024-10-28 14:56:30,183 - hypster.hp - INFO - Initialized HP with explore_mode: False\n",
                        "2024-10-28 14:56:30,183 - hypster.hp - DEBUG - Added SelectCall: chunking_strategy\n",
                        "2024-10-28 14:56:30,184 - hypster.hp_calls - DEBUG - Found selection for chunking_strategy: semantic\n",
                        "2024-10-28 14:56:30,184 - hypster.hp_calls - INFO - Applied selection for chunking_strategy: semantic\n",
                        "2024-10-28 14:56:30,184 - hypster.hp - DEBUG - Added SelectCall: llm_model\n",
                        "2024-10-28 14:56:30,184 - hypster.hp_calls - DEBUG - Found selection for llm_model: haiku\n",
                        "2024-10-28 14:56:30,184 - hypster.hp_calls - INFO - Applied selection for llm_model: claude-3-haiku-20240307\n",
                        "2024-10-28 14:56:30,185 - hypster.hp - DEBUG - Added NumberInputCall: llm_config.temperature\n",
                        "2024-10-28 14:56:30,185 - hypster.hp_calls - INFO - NumberInput call executed for llm_config.temperature: 0\n",
                        "2024-10-28 14:56:30,186 - hypster.hp - DEBUG - Added NumberInputCall: llm_config.max_tokens\n",
                        "2024-10-28 14:56:30,186 - hypster.hp_calls - INFO - NumberInput call executed for llm_config.max_tokens: 64\n",
                        "2024-10-28 14:56:30,188 - hypster.hp - DEBUG - Added TextInputCall: system_prompt\n",
                        "2024-10-28 14:56:30,188 - hypster.hp_calls - INFO - TextInput call executed for system_prompt: You are a helpful assistant. Answer with one word only\n",
                        "2024-10-28 14:56:30,189 - hypster.core - DEBUG - Captured locals: {'chunking_strategy': 'semantic', 'llm_model': 'claude-3-haiku-20240307', 'llm_config': {'temperature': 0, 'max_tokens': 64}, 'system_prompt': 'You are a helpful assistant. Answer with one word only'}\n",
                        "2024-10-28 14:56:30,189 - hypster.core - DEBUG - Final result after filtering: {'chunking_strategy': 'semantic', 'llm_model': 'claude-3-haiku-20240307', 'llm_config': {'temperature': 0, 'max_tokens': 64}, 'system_prompt': 'You are a helpful assistant. Answer with one word only'}\n",
                        "2024-10-28 14:56:30,189 - hypster.core - DEBUG - Captured locals: {'my_conf': 'claude-3-haiku-20240307'}\n",
                        "2024-10-28 14:56:30,189 - hypster.core - DEBUG - Final result after filtering: {'my_conf': 'claude-3-haiku-20240307'}\n",
                        "2024-10-28 14:56:30,190 - hypster.hp - DEBUG - Added PropagateCall: my_conf.llm_model\n",
                        "2024-10-28 14:56:30,191 - hypster.ast_analyzer - INFO - Starting HP calls collection\n",
                        "2024-10-28 14:56:30,192 - hypster.ast_analyzer - DEBUG - AST parsing successful\n",
                        "2024-10-28 14:56:30,192 - hypster.ast_analyzer - DEBUG - Parent map built with 50 entries\n",
                        "2024-10-28 14:56:30,192 - hypster.ast_analyzer - DEBUG - Initialized HPCallVisitor\n",
                        "2024-10-28 14:56:30,193 - hypster.ast_analyzer - DEBUG - Checking if node is HP call: True\n",
                        "2024-10-28 14:56:30,193 - hypster.ast_analyzer - DEBUG - Detected hp call at line 2, column 24\n",
                        "2024-10-28 14:56:30,193 - hypster.ast_analyzer - DEBUG - Found assignment to variable 'chunking_strategy'\n",
                        "2024-10-28 14:56:30,194 - hypster.ast_analyzer - DEBUG - Encountered unsupported parent type 'FunctionDef'\n",
                        "2024-10-28 14:56:30,194 - hypster.ast_analyzer - DEBUG - Inferred implicit name: 'chunking_strategy'\n",
                        "2024-10-28 14:56:30,194 - hypster.ast_analyzer - DEBUG - HP call at line 2 does not have an explicit name\n",
                        "2024-10-28 14:56:30,194 - hypster.ast_analyzer - DEBUG - Created HPCall instance: HPCall(lineno=2, col_offset=24, method_name='select', implicit_name='chunking_strategy', has_explicit_name=False, call_index=0)\n",
                        "2024-10-28 14:56:30,195 - hypster.ast_analyzer - DEBUG - Checking if node is HP call: True\n",
                        "2024-10-28 14:56:30,195 - hypster.ast_analyzer - DEBUG - Detected hp call at line 4, column 16\n",
                        "2024-10-28 14:56:30,195 - hypster.ast_analyzer - DEBUG - Found assignment to variable 'llm_model'\n",
                        "2024-10-28 14:56:30,196 - hypster.ast_analyzer - DEBUG - Encountered unsupported parent type 'FunctionDef'\n",
                        "2024-10-28 14:56:30,196 - hypster.ast_analyzer - DEBUG - Inferred implicit name: 'llm_model'\n",
                        "2024-10-28 14:56:30,196 - hypster.ast_analyzer - DEBUG - HP call at line 4 does not have an explicit name\n",
                        "2024-10-28 14:56:30,196 - hypster.ast_analyzer - DEBUG - Created HPCall instance: HPCall(lineno=4, col_offset=16, method_name='select', implicit_name='llm_model', has_explicit_name=False, call_index=0)\n",
                        "2024-10-28 14:56:30,197 - hypster.ast_analyzer - DEBUG - Checking if node is HP call: True\n",
                        "2024-10-28 14:56:30,197 - hypster.ast_analyzer - DEBUG - Detected hp call at line 9, column 33\n",
                        "2024-10-28 14:56:30,197 - hypster.ast_analyzer - DEBUG - Found dictionary key 'temperature'\n",
                        "2024-10-28 14:56:30,198 - hypster.ast_analyzer - DEBUG - Found assignment to variable 'llm_config'\n",
                        "2024-10-28 14:56:30,198 - hypster.ast_analyzer - DEBUG - Encountered unsupported parent type 'FunctionDef'\n",
                        "2024-10-28 14:56:30,198 - hypster.ast_analyzer - DEBUG - Inferred implicit name: 'llm_config.temperature'\n",
                        "2024-10-28 14:56:30,199 - hypster.ast_analyzer - DEBUG - HP call at line 9 does not have an explicit name\n",
                        "2024-10-28 14:56:30,199 - hypster.ast_analyzer - DEBUG - Created HPCall instance: HPCall(lineno=9, col_offset=33, method_name='number', implicit_name='llm_config.temperature', has_explicit_name=False, call_index=0)\n",
                        "2024-10-28 14:56:30,199 - hypster.ast_analyzer - DEBUG - Checking if node is HP call: True\n",
                        "2024-10-28 14:56:30,199 - hypster.ast_analyzer - DEBUG - Detected hp call at line 9, column 67\n",
                        "2024-10-28 14:56:30,199 - hypster.ast_analyzer - DEBUG - Found dictionary key 'max_tokens'\n",
                        "2024-10-28 14:56:30,200 - hypster.ast_analyzer - DEBUG - Found assignment to variable 'llm_config'\n",
                        "2024-10-28 14:56:30,200 - hypster.ast_analyzer - DEBUG - Encountered unsupported parent type 'FunctionDef'\n",
                        "2024-10-28 14:56:30,200 - hypster.ast_analyzer - DEBUG - Inferred implicit name: 'llm_config.max_tokens'\n",
                        "2024-10-28 14:56:30,200 - hypster.ast_analyzer - DEBUG - HP call at line 9 does not have an explicit name\n",
                        "2024-10-28 14:56:30,200 - hypster.ast_analyzer - DEBUG - Created HPCall instance: HPCall(lineno=9, col_offset=67, method_name='number', implicit_name='llm_config.max_tokens', has_explicit_name=False, call_index=0)\n",
                        "2024-10-28 14:56:30,201 - hypster.ast_analyzer - DEBUG - Checking if node is HP call: True\n",
                        "2024-10-28 14:56:30,201 - hypster.ast_analyzer - DEBUG - Detected hp call at line 11, column 20\n",
                        "2024-10-28 14:56:30,201 - hypster.ast_analyzer - DEBUG - Found assignment to variable 'system_prompt'\n",
                        "2024-10-28 14:56:30,201 - hypster.ast_analyzer - DEBUG - Encountered unsupported parent type 'FunctionDef'\n",
                        "2024-10-28 14:56:30,207 - hypster.ast_analyzer - DEBUG - Inferred implicit name: 'system_prompt'\n",
                        "2024-10-28 14:56:30,208 - hypster.ast_analyzer - DEBUG - HP call at line 11 does not have an explicit name\n",
                        "2024-10-28 14:56:30,212 - hypster.ast_analyzer - DEBUG - Created HPCall instance: HPCall(lineno=11, col_offset=20, method_name='text', implicit_name='system_prompt', has_explicit_name=False, call_index=0)\n",
                        "2024-10-28 14:56:30,215 - hypster.ast_analyzer - INFO - Collected 5 HP calls\n",
                        "2024-10-28 14:56:30,223 - hypster.ast_analyzer - DEBUG - HP Call: HPCall(lineno=2, col_offset=24, method_name='select', implicit_name='chunking_strategy', has_explicit_name=False, call_index=0)\n",
                        "2024-10-28 14:56:30,226 - hypster.ast_analyzer - DEBUG - HP Call: HPCall(lineno=4, col_offset=16, method_name='select', implicit_name='llm_model', has_explicit_name=False, call_index=0)\n",
                        "2024-10-28 14:56:30,229 - hypster.ast_analyzer - DEBUG - HP Call: HPCall(lineno=9, col_offset=33, method_name='number', implicit_name='llm_config.temperature', has_explicit_name=False, call_index=0)\n",
                        "2024-10-28 14:56:30,232 - hypster.ast_analyzer - DEBUG - HP Call: HPCall(lineno=9, col_offset=67, method_name='number', implicit_name='llm_config.max_tokens', has_explicit_name=False, call_index=0)\n",
                        "2024-10-28 14:56:30,235 - hypster.ast_analyzer - DEBUG - HP Call: HPCall(lineno=11, col_offset=20, method_name='text', implicit_name='system_prompt', has_explicit_name=False, call_index=0)\n",
                        "2024-10-28 14:56:30,243 - hypster.ast_analyzer - INFO - Starting name injection into source code\n",
                        "2024-10-28 14:56:30,249 - hypster.ast_analyzer - DEBUG - Initialized NameInjector\n",
                        "2024-10-28 14:56:30,250 - hypster.ast_analyzer - DEBUG - Injecting name 'chunking_strategy' into hp call on line 2\n",
                        "2024-10-28 14:56:30,250 - hypster.ast_analyzer - DEBUG - Injecting name 'llm_model' into hp call on line 4\n",
                        "2024-10-28 14:56:30,251 - hypster.ast_analyzer - DEBUG - Injecting name 'llm_config.temperature' into hp call on line 9\n",
                        "2024-10-28 14:56:30,251 - hypster.ast_analyzer - DEBUG - Injecting name 'llm_config.max_tokens' into hp call on line 9\n",
                        "2024-10-28 14:56:30,251 - hypster.ast_analyzer - DEBUG - Injecting name 'system_prompt' into hp call on line 11\n",
                        "2024-10-28 14:56:30,252 - hypster.ast_analyzer - DEBUG - AST unparsed successfully using ast.unparse\n",
                        "2024-10-28 14:56:30,252 - hypster.ast_analyzer - INFO - Name injection completed\n",
                        "2024-10-28 14:56:30,253 - hypster.ast_analyzer - INFO - Starting referenced variables collection\n",
                        "2024-10-28 14:56:30,254 - hypster.ast_analyzer - DEBUG - Initialized VariableReferenceCollector\n",
                        "2024-10-28 14:56:30,254 - hypster.ast_analyzer - DEBUG - Referenced variable found: 'HP'\n",
                        "2024-10-28 14:56:30,254 - hypster.ast_analyzer - DEBUG - Referenced variable found: 'hp'\n",
                        "2024-10-28 14:56:30,255 - hypster.ast_analyzer - DEBUG - Referenced variable found: 'hp'\n",
                        "2024-10-28 14:56:30,255 - hypster.ast_analyzer - DEBUG - Referenced variable found: 'hp'\n",
                        "2024-10-28 14:56:30,255 - hypster.ast_analyzer - DEBUG - Referenced variable found: 'hp'\n",
                        "2024-10-28 14:56:30,256 - hypster.ast_analyzer - DEBUG - Referenced variable found: 'hp'\n",
                        "2024-10-28 14:56:30,256 - hypster.ast_analyzer - INFO - Referenced variables collected: {'hp', 'HP'}\n",
                        "2024-10-28 14:56:30,256 - hypster.ast_analyzer - DEBUG - Independent select calls identified: {'llm_model', 'chunking_strategy'}\n",
                        "2024-10-28 14:56:30,257 - hypster.hp_calls - DEBUG - Running nested configuration with: {'selections': OrderedDict([('chunking_strategy', 'semantic'), ('llm_model', 'sonnet')]), 'final_vars': [], 'overrides': {}}\n",
                        "2024-10-28 14:56:30,257 - hypster.hp - INFO - Initialized HP with explore_mode: False\n",
                        "2024-10-28 14:56:30,258 - hypster.hp - DEBUG - Added SelectCall: chunking_strategy\n",
                        "2024-10-28 14:56:30,259 - hypster.hp_calls - DEBUG - Found selection for chunking_strategy: semantic\n",
                        "2024-10-28 14:56:30,260 - hypster.hp_calls - INFO - Applied selection for chunking_strategy: semantic\n",
                        "2024-10-28 14:56:30,261 - hypster.hp - DEBUG - Added SelectCall: llm_model\n",
                        "2024-10-28 14:56:30,334 - hypster.hp_calls - DEBUG - Found selection for llm_model: sonnet\n",
                        "2024-10-28 14:56:30,334 - hypster.hp_calls - INFO - Applied selection for llm_model: claude-3-5-sonnet-20240620\n",
                        "2024-10-28 14:56:30,335 - hypster.hp - DEBUG - Added NumberInputCall: llm_config.temperature\n",
                        "2024-10-28 14:56:30,335 - hypster.hp_calls - INFO - NumberInput call executed for llm_config.temperature: 0\n",
                        "2024-10-28 14:56:30,335 - hypster.hp - DEBUG - Added NumberInputCall: llm_config.max_tokens\n",
                        "2024-10-28 14:56:30,335 - hypster.hp_calls - INFO - NumberInput call executed for llm_config.max_tokens: 64\n",
                        "2024-10-28 14:56:30,336 - hypster.hp - DEBUG - Added TextInputCall: system_prompt\n",
                        "2024-10-28 14:56:30,336 - hypster.hp_calls - INFO - TextInput call executed for system_prompt: You are a helpful assistant. Answer with one word only\n",
                        "2024-10-28 14:56:30,336 - hypster.core - DEBUG - Captured locals: {'chunking_strategy': 'semantic', 'llm_model': 'claude-3-5-sonnet-20240620', 'llm_config': {'temperature': 0, 'max_tokens': 64}, 'system_prompt': 'You are a helpful assistant. Answer with one word only'}\n",
                        "2024-10-28 14:56:30,337 - hypster.core - DEBUG - Final result after filtering: {'chunking_strategy': 'semantic', 'llm_model': 'claude-3-5-sonnet-20240620', 'llm_config': {'temperature': 0, 'max_tokens': 64}, 'system_prompt': 'You are a helpful assistant. Answer with one word only'}\n",
                        "2024-10-28 14:56:30,342 - hypster.core - DEBUG - Captured locals: {'my_conf': 'claude-3-5-sonnet-20240620'}\n",
                        "2024-10-28 14:56:30,349 - hypster.core - DEBUG - Final result after filtering: {'my_conf': 'claude-3-5-sonnet-20240620'}\n",
                        "2024-10-28 14:56:30,353 - hypster.hp - DEBUG - Added PropagateCall: my_conf.llm_model\n",
                        "2024-10-28 14:56:30,356 - hypster.ast_analyzer - INFO - Starting HP calls collection\n",
                        "2024-10-28 14:56:30,356 - hypster.ast_analyzer - DEBUG - AST parsing successful\n",
                        "2024-10-28 14:56:30,366 - hypster.ast_analyzer - DEBUG - Parent map built with 50 entries\n",
                        "2024-10-28 14:56:30,373 - hypster.ast_analyzer - DEBUG - Initialized HPCallVisitor\n",
                        "2024-10-28 14:56:30,380 - hypster.ast_analyzer - DEBUG - Checking if node is HP call: True\n",
                        "2024-10-28 14:56:30,383 - hypster.ast_analyzer - DEBUG - Detected hp call at line 2, column 24\n",
                        "2024-10-28 14:56:30,384 - hypster.ast_analyzer - DEBUG - Found assignment to variable 'chunking_strategy'\n",
                        "2024-10-28 14:56:30,384 - hypster.ast_analyzer - DEBUG - Encountered unsupported parent type 'FunctionDef'\n",
                        "2024-10-28 14:56:30,384 - hypster.ast_analyzer - DEBUG - Inferred implicit name: 'chunking_strategy'\n",
                        "2024-10-28 14:56:30,385 - hypster.ast_analyzer - DEBUG - HP call at line 2 does not have an explicit name\n",
                        "2024-10-28 14:56:30,385 - hypster.ast_analyzer - DEBUG - Created HPCall instance: HPCall(lineno=2, col_offset=24, method_name='select', implicit_name='chunking_strategy', has_explicit_name=False, call_index=0)\n",
                        "2024-10-28 14:56:30,385 - hypster.ast_analyzer - DEBUG - Checking if node is HP call: True\n",
                        "2024-10-28 14:56:30,385 - hypster.ast_analyzer - DEBUG - Detected hp call at line 4, column 16\n",
                        "2024-10-28 14:56:30,386 - hypster.ast_analyzer - DEBUG - Found assignment to variable 'llm_model'\n",
                        "2024-10-28 14:56:30,387 - hypster.ast_analyzer - DEBUG - Encountered unsupported parent type 'FunctionDef'\n",
                        "2024-10-28 14:56:30,387 - hypster.ast_analyzer - DEBUG - Inferred implicit name: 'llm_model'\n",
                        "2024-10-28 14:56:30,387 - hypster.ast_analyzer - DEBUG - HP call at line 4 does not have an explicit name\n",
                        "2024-10-28 14:56:30,388 - hypster.ast_analyzer - DEBUG - Created HPCall instance: HPCall(lineno=4, col_offset=16, method_name='select', implicit_name='llm_model', has_explicit_name=False, call_index=0)\n",
                        "2024-10-28 14:56:30,388 - hypster.ast_analyzer - DEBUG - Checking if node is HP call: True\n",
                        "2024-10-28 14:56:30,388 - hypster.ast_analyzer - DEBUG - Detected hp call at line 9, column 33\n",
                        "2024-10-28 14:56:30,389 - hypster.ast_analyzer - DEBUG - Found dictionary key 'temperature'\n",
                        "2024-10-28 14:56:30,389 - hypster.ast_analyzer - DEBUG - Found assignment to variable 'llm_config'\n",
                        "2024-10-28 14:56:30,390 - hypster.ast_analyzer - DEBUG - Encountered unsupported parent type 'FunctionDef'\n",
                        "2024-10-28 14:56:30,390 - hypster.ast_analyzer - DEBUG - Inferred implicit name: 'llm_config.temperature'\n",
                        "2024-10-28 14:56:30,390 - hypster.ast_analyzer - DEBUG - HP call at line 9 does not have an explicit name\n",
                        "2024-10-28 14:56:30,391 - hypster.ast_analyzer - DEBUG - Created HPCall instance: HPCall(lineno=9, col_offset=33, method_name='number', implicit_name='llm_config.temperature', has_explicit_name=False, call_index=0)\n",
                        "2024-10-28 14:56:30,391 - hypster.ast_analyzer - DEBUG - Checking if node is HP call: True\n",
                        "2024-10-28 14:56:30,393 - hypster.ast_analyzer - DEBUG - Detected hp call at line 9, column 67\n",
                        "2024-10-28 14:56:30,394 - hypster.ast_analyzer - DEBUG - Found dictionary key 'max_tokens'\n",
                        "2024-10-28 14:56:30,395 - hypster.ast_analyzer - DEBUG - Found assignment to variable 'llm_config'\n",
                        "2024-10-28 14:56:30,396 - hypster.ast_analyzer - DEBUG - Encountered unsupported parent type 'FunctionDef'\n",
                        "2024-10-28 14:56:30,397 - hypster.ast_analyzer - DEBUG - Inferred implicit name: 'llm_config.max_tokens'\n",
                        "2024-10-28 14:56:30,397 - hypster.ast_analyzer - DEBUG - HP call at line 9 does not have an explicit name\n",
                        "2024-10-28 14:56:30,398 - hypster.ast_analyzer - DEBUG - Created HPCall instance: HPCall(lineno=9, col_offset=67, method_name='number', implicit_name='llm_config.max_tokens', has_explicit_name=False, call_index=0)\n",
                        "2024-10-28 14:56:30,398 - hypster.ast_analyzer - DEBUG - Checking if node is HP call: True\n",
                        "2024-10-28 14:56:30,399 - hypster.ast_analyzer - DEBUG - Detected hp call at line 11, column 20\n",
                        "2024-10-28 14:56:30,400 - hypster.ast_analyzer - DEBUG - Found assignment to variable 'system_prompt'\n",
                        "2024-10-28 14:56:30,402 - hypster.ast_analyzer - DEBUG - Encountered unsupported parent type 'FunctionDef'\n",
                        "2024-10-28 14:56:30,402 - hypster.ast_analyzer - DEBUG - Inferred implicit name: 'system_prompt'\n",
                        "2024-10-28 14:56:30,402 - hypster.ast_analyzer - DEBUG - HP call at line 11 does not have an explicit name\n",
                        "2024-10-28 14:56:30,403 - hypster.ast_analyzer - DEBUG - Created HPCall instance: HPCall(lineno=11, col_offset=20, method_name='text', implicit_name='system_prompt', has_explicit_name=False, call_index=0)\n",
                        "2024-10-28 14:56:30,403 - hypster.ast_analyzer - INFO - Collected 5 HP calls\n",
                        "2024-10-28 14:56:30,404 - hypster.ast_analyzer - DEBUG - HP Call: HPCall(lineno=2, col_offset=24, method_name='select', implicit_name='chunking_strategy', has_explicit_name=False, call_index=0)\n",
                        "2024-10-28 14:56:30,404 - hypster.ast_analyzer - DEBUG - HP Call: HPCall(lineno=4, col_offset=16, method_name='select', implicit_name='llm_model', has_explicit_name=False, call_index=0)\n",
                        "2024-10-28 14:56:30,404 - hypster.ast_analyzer - DEBUG - HP Call: HPCall(lineno=9, col_offset=33, method_name='number', implicit_name='llm_config.temperature', has_explicit_name=False, call_index=0)\n",
                        "2024-10-28 14:56:30,405 - hypster.ast_analyzer - DEBUG - HP Call: HPCall(lineno=9, col_offset=67, method_name='number', implicit_name='llm_config.max_tokens', has_explicit_name=False, call_index=0)\n",
                        "2024-10-28 14:56:30,405 - hypster.ast_analyzer - DEBUG - HP Call: HPCall(lineno=11, col_offset=20, method_name='text', implicit_name='system_prompt', has_explicit_name=False, call_index=0)\n",
                        "2024-10-28 14:56:30,405 - hypster.ast_analyzer - INFO - Starting name injection into source code\n",
                        "2024-10-28 14:56:30,406 - hypster.ast_analyzer - DEBUG - Initialized NameInjector\n",
                        "2024-10-28 14:56:30,406 - hypster.ast_analyzer - DEBUG - Injecting name 'chunking_strategy' into hp call on line 2\n",
                        "2024-10-28 14:56:30,407 - hypster.ast_analyzer - DEBUG - Injecting name 'llm_model' into hp call on line 4\n",
                        "2024-10-28 14:56:30,407 - hypster.ast_analyzer - DEBUG - Injecting name 'llm_config.temperature' into hp call on line 9\n",
                        "2024-10-28 14:56:30,408 - hypster.ast_analyzer - DEBUG - Injecting name 'llm_config.max_tokens' into hp call on line 9\n",
                        "2024-10-28 14:56:30,408 - hypster.ast_analyzer - DEBUG - Injecting name 'system_prompt' into hp call on line 11\n",
                        "2024-10-28 14:56:30,408 - hypster.ast_analyzer - DEBUG - AST unparsed successfully using ast.unparse\n",
                        "2024-10-28 14:56:30,409 - hypster.ast_analyzer - INFO - Name injection completed\n",
                        "2024-10-28 14:56:30,409 - hypster.ast_analyzer - INFO - Starting referenced variables collection\n",
                        "2024-10-28 14:56:30,409 - hypster.ast_analyzer - DEBUG - Initialized VariableReferenceCollector\n",
                        "2024-10-28 14:56:30,410 - hypster.ast_analyzer - DEBUG - Referenced variable found: 'HP'\n",
                        "2024-10-28 14:56:30,410 - hypster.ast_analyzer - DEBUG - Referenced variable found: 'hp'\n",
                        "2024-10-28 14:56:30,410 - hypster.ast_analyzer - DEBUG - Referenced variable found: 'hp'\n",
                        "2024-10-28 14:56:30,411 - hypster.ast_analyzer - DEBUG - Referenced variable found: 'hp'\n",
                        "2024-10-28 14:56:30,411 - hypster.ast_analyzer - DEBUG - Referenced variable found: 'hp'\n",
                        "2024-10-28 14:56:30,411 - hypster.ast_analyzer - DEBUG - Referenced variable found: 'hp'\n",
                        "2024-10-28 14:56:30,412 - hypster.ast_analyzer - INFO - Referenced variables collected: {'hp', 'HP'}\n",
                        "2024-10-28 14:56:30,412 - hypster.ast_analyzer - DEBUG - Independent select calls identified: {'llm_model', 'chunking_strategy'}\n",
                        "2024-10-28 14:56:30,412 - hypster.hp_calls - DEBUG - Running nested configuration with: {'selections': OrderedDict([('chunking_strategy', 'semantic'), ('llm_model', 'gpt-4o-mini')]), 'final_vars': [], 'overrides': {}}\n",
                        "2024-10-28 14:56:30,413 - hypster.hp - INFO - Initialized HP with explore_mode: False\n",
                        "2024-10-28 14:56:30,413 - hypster.hp - DEBUG - Added SelectCall: chunking_strategy\n",
                        "2024-10-28 14:56:30,414 - hypster.hp_calls - DEBUG - Found selection for chunking_strategy: semantic\n",
                        "2024-10-28 14:56:30,414 - hypster.hp_calls - INFO - Applied selection for chunking_strategy: semantic\n",
                        "2024-10-28 14:56:30,415 - hypster.hp - DEBUG - Added SelectCall: llm_model\n",
                        "2024-10-28 14:56:30,415 - hypster.hp_calls - DEBUG - Found selection for llm_model: gpt-4o-mini\n",
                        "2024-10-28 14:56:30,416 - hypster.hp_calls - INFO - Applied selection for llm_model: gpt-4o-mini\n",
                        "2024-10-28 14:56:30,416 - hypster.hp - DEBUG - Added NumberInputCall: llm_config.temperature\n",
                        "2024-10-28 14:56:30,416 - hypster.hp_calls - INFO - NumberInput call executed for llm_config.temperature: 0\n",
                        "2024-10-28 14:56:30,417 - hypster.hp - DEBUG - Added NumberInputCall: llm_config.max_tokens\n",
                        "2024-10-28 14:56:30,417 - hypster.hp_calls - INFO - NumberInput call executed for llm_config.max_tokens: 64\n",
                        "2024-10-28 14:56:30,417 - hypster.hp - DEBUG - Added TextInputCall: system_prompt\n",
                        "2024-10-28 14:56:30,418 - hypster.hp_calls - INFO - TextInput call executed for system_prompt: You are a helpful assistant. Answer with one word only\n",
                        "2024-10-28 14:56:30,418 - hypster.core - DEBUG - Captured locals: {'chunking_strategy': 'semantic', 'llm_model': 'gpt-4o-mini', 'llm_config': {'temperature': 0, 'max_tokens': 64}, 'system_prompt': 'You are a helpful assistant. Answer with one word only'}\n",
                        "2024-10-28 14:56:30,418 - hypster.core - DEBUG - Final result after filtering: {'chunking_strategy': 'semantic', 'llm_model': 'gpt-4o-mini', 'llm_config': {'temperature': 0, 'max_tokens': 64}, 'system_prompt': 'You are a helpful assistant. Answer with one word only'}\n",
                        "2024-10-28 14:56:30,419 - hypster.core - DEBUG - Captured locals: {'my_conf': 'gpt-4o-mini'}\n",
                        "2024-10-28 14:56:30,419 - hypster.core - DEBUG - Final result after filtering: {'my_conf': 'gpt-4o-mini'}\n",
                        "2024-10-28 14:56:30,420 - hypster.hp - DEBUG - Added PropagateCall: my_conf.llm_model\n",
                        "2024-10-28 14:56:30,421 - hypster.ast_analyzer - INFO - Starting HP calls collection\n",
                        "2024-10-28 14:56:30,421 - hypster.ast_analyzer - DEBUG - AST parsing successful\n",
                        "2024-10-28 14:56:30,422 - hypster.ast_analyzer - DEBUG - Parent map built with 50 entries\n",
                        "2024-10-28 14:56:30,422 - hypster.ast_analyzer - DEBUG - Initialized HPCallVisitor\n",
                        "2024-10-28 14:56:30,422 - hypster.ast_analyzer - DEBUG - Checking if node is HP call: True\n",
                        "2024-10-28 14:56:30,423 - hypster.ast_analyzer - DEBUG - Detected hp call at line 2, column 24\n",
                        "2024-10-28 14:56:30,423 - hypster.ast_analyzer - DEBUG - Found assignment to variable 'chunking_strategy'\n",
                        "2024-10-28 14:56:30,423 - hypster.ast_analyzer - DEBUG - Encountered unsupported parent type 'FunctionDef'\n",
                        "2024-10-28 14:56:30,424 - hypster.ast_analyzer - DEBUG - Inferred implicit name: 'chunking_strategy'\n",
                        "2024-10-28 14:56:30,424 - hypster.ast_analyzer - DEBUG - HP call at line 2 does not have an explicit name\n",
                        "2024-10-28 14:56:30,424 - hypster.ast_analyzer - DEBUG - Created HPCall instance: HPCall(lineno=2, col_offset=24, method_name='select', implicit_name='chunking_strategy', has_explicit_name=False, call_index=0)\n",
                        "2024-10-28 14:56:30,425 - hypster.ast_analyzer - DEBUG - Checking if node is HP call: True\n",
                        "2024-10-28 14:56:30,425 - hypster.ast_analyzer - DEBUG - Detected hp call at line 4, column 16\n",
                        "2024-10-28 14:56:30,425 - hypster.ast_analyzer - DEBUG - Found assignment to variable 'llm_model'\n",
                        "2024-10-28 14:56:30,425 - hypster.ast_analyzer - DEBUG - Encountered unsupported parent type 'FunctionDef'\n",
                        "2024-10-28 14:56:30,426 - hypster.ast_analyzer - DEBUG - Inferred implicit name: 'llm_model'\n",
                        "2024-10-28 14:56:30,426 - hypster.ast_analyzer - DEBUG - HP call at line 4 does not have an explicit name\n",
                        "2024-10-28 14:56:30,426 - hypster.ast_analyzer - DEBUG - Created HPCall instance: HPCall(lineno=4, col_offset=16, method_name='select', implicit_name='llm_model', has_explicit_name=False, call_index=0)\n",
                        "2024-10-28 14:56:30,427 - hypster.ast_analyzer - DEBUG - Checking if node is HP call: True\n",
                        "2024-10-28 14:56:30,427 - hypster.ast_analyzer - DEBUG - Detected hp call at line 9, column 33\n",
                        "2024-10-28 14:56:30,427 - hypster.ast_analyzer - DEBUG - Found dictionary key 'temperature'\n",
                        "2024-10-28 14:56:30,428 - hypster.ast_analyzer - DEBUG - Found assignment to variable 'llm_config'\n",
                        "2024-10-28 14:56:30,428 - hypster.ast_analyzer - DEBUG - Encountered unsupported parent type 'FunctionDef'\n",
                        "2024-10-28 14:56:30,428 - hypster.ast_analyzer - DEBUG - Inferred implicit name: 'llm_config.temperature'\n",
                        "2024-10-28 14:56:30,429 - hypster.ast_analyzer - DEBUG - HP call at line 9 does not have an explicit name\n",
                        "2024-10-28 14:56:30,429 - hypster.ast_analyzer - DEBUG - Created HPCall instance: HPCall(lineno=9, col_offset=33, method_name='number', implicit_name='llm_config.temperature', has_explicit_name=False, call_index=0)\n",
                        "2024-10-28 14:56:30,429 - hypster.ast_analyzer - DEBUG - Checking if node is HP call: True\n",
                        "2024-10-28 14:56:30,429 - hypster.ast_analyzer - DEBUG - Detected hp call at line 9, column 67\n",
                        "2024-10-28 14:56:30,430 - hypster.ast_analyzer - DEBUG - Found dictionary key 'max_tokens'\n",
                        "2024-10-28 14:56:30,430 - hypster.ast_analyzer - DEBUG - Found assignment to variable 'llm_config'\n",
                        "2024-10-28 14:56:30,430 - hypster.ast_analyzer - DEBUG - Encountered unsupported parent type 'FunctionDef'\n",
                        "2024-10-28 14:56:30,431 - hypster.ast_analyzer - DEBUG - Inferred implicit name: 'llm_config.max_tokens'\n",
                        "2024-10-28 14:56:30,431 - hypster.ast_analyzer - DEBUG - HP call at line 9 does not have an explicit name\n",
                        "2024-10-28 14:56:30,431 - hypster.ast_analyzer - DEBUG - Created HPCall instance: HPCall(lineno=9, col_offset=67, method_name='number', implicit_name='llm_config.max_tokens', has_explicit_name=False, call_index=0)\n",
                        "2024-10-28 14:56:30,432 - hypster.ast_analyzer - DEBUG - Checking if node is HP call: True\n",
                        "2024-10-28 14:56:30,432 - hypster.ast_analyzer - DEBUG - Detected hp call at line 11, column 20\n",
                        "2024-10-28 14:56:30,432 - hypster.ast_analyzer - DEBUG - Found assignment to variable 'system_prompt'\n",
                        "2024-10-28 14:56:30,433 - hypster.ast_analyzer - DEBUG - Encountered unsupported parent type 'FunctionDef'\n",
                        "2024-10-28 14:56:30,433 - hypster.ast_analyzer - DEBUG - Inferred implicit name: 'system_prompt'\n",
                        "2024-10-28 14:56:30,433 - hypster.ast_analyzer - DEBUG - HP call at line 11 does not have an explicit name\n",
                        "2024-10-28 14:56:30,433 - hypster.ast_analyzer - DEBUG - Created HPCall instance: HPCall(lineno=11, col_offset=20, method_name='text', implicit_name='system_prompt', has_explicit_name=False, call_index=0)\n",
                        "2024-10-28 14:56:30,434 - hypster.ast_analyzer - INFO - Collected 5 HP calls\n",
                        "2024-10-28 14:56:30,434 - hypster.ast_analyzer - DEBUG - HP Call: HPCall(lineno=2, col_offset=24, method_name='select', implicit_name='chunking_strategy', has_explicit_name=False, call_index=0)\n",
                        "2024-10-28 14:56:30,434 - hypster.ast_analyzer - DEBUG - HP Call: HPCall(lineno=4, col_offset=16, method_name='select', implicit_name='llm_model', has_explicit_name=False, call_index=0)\n",
                        "2024-10-28 14:56:30,435 - hypster.ast_analyzer - DEBUG - HP Call: HPCall(lineno=9, col_offset=33, method_name='number', implicit_name='llm_config.temperature', has_explicit_name=False, call_index=0)\n",
                        "2024-10-28 14:56:30,435 - hypster.ast_analyzer - DEBUG - HP Call: HPCall(lineno=9, col_offset=67, method_name='number', implicit_name='llm_config.max_tokens', has_explicit_name=False, call_index=0)\n",
                        "2024-10-28 14:56:30,435 - hypster.ast_analyzer - DEBUG - HP Call: HPCall(lineno=11, col_offset=20, method_name='text', implicit_name='system_prompt', has_explicit_name=False, call_index=0)\n",
                        "2024-10-28 14:56:30,436 - hypster.ast_analyzer - INFO - Starting name injection into source code\n",
                        "2024-10-28 14:56:30,436 - hypster.ast_analyzer - DEBUG - Initialized NameInjector\n",
                        "2024-10-28 14:56:30,437 - hypster.ast_analyzer - DEBUG - Injecting name 'chunking_strategy' into hp call on line 2\n",
                        "2024-10-28 14:56:30,437 - hypster.ast_analyzer - DEBUG - Injecting name 'llm_model' into hp call on line 4\n",
                        "2024-10-28 14:56:30,437 - hypster.ast_analyzer - DEBUG - Injecting name 'llm_config.temperature' into hp call on line 9\n",
                        "2024-10-28 14:56:30,438 - hypster.ast_analyzer - DEBUG - Injecting name 'llm_config.max_tokens' into hp call on line 9\n",
                        "2024-10-28 14:56:30,438 - hypster.ast_analyzer - DEBUG - Injecting name 'system_prompt' into hp call on line 11\n",
                        "2024-10-28 14:56:30,439 - hypster.ast_analyzer - DEBUG - AST unparsed successfully using ast.unparse\n",
                        "2024-10-28 14:56:30,439 - hypster.ast_analyzer - INFO - Name injection completed\n",
                        "2024-10-28 14:56:30,439 - hypster.ast_analyzer - INFO - Starting referenced variables collection\n",
                        "2024-10-28 14:56:30,440 - hypster.ast_analyzer - DEBUG - Initialized VariableReferenceCollector\n",
                        "2024-10-28 14:56:30,440 - hypster.ast_analyzer - DEBUG - Referenced variable found: 'HP'\n",
                        "2024-10-28 14:56:30,440 - hypster.ast_analyzer - DEBUG - Referenced variable found: 'hp'\n",
                        "2024-10-28 14:56:30,441 - hypster.ast_analyzer - DEBUG - Referenced variable found: 'hp'\n",
                        "2024-10-28 14:56:30,441 - hypster.ast_analyzer - DEBUG - Referenced variable found: 'hp'\n",
                        "2024-10-28 14:56:30,441 - hypster.ast_analyzer - DEBUG - Referenced variable found: 'hp'\n",
                        "2024-10-28 14:56:30,442 - hypster.ast_analyzer - DEBUG - Referenced variable found: 'hp'\n",
                        "2024-10-28 14:56:30,442 - hypster.ast_analyzer - INFO - Referenced variables collected: {'hp', 'HP'}\n",
                        "2024-10-28 14:56:30,442 - hypster.ast_analyzer - DEBUG - Independent select calls identified: {'llm_model', 'chunking_strategy'}\n",
                        "2024-10-28 14:56:30,443 - hypster.hp_calls - DEBUG - Running nested configuration with: {'selections': OrderedDict([('chunking_strategy', 'fixed'), ('llm_model', 'haiku')]), 'final_vars': [], 'overrides': {}}\n",
                        "2024-10-28 14:56:30,443 - hypster.hp - INFO - Initialized HP with explore_mode: False\n",
                        "2024-10-28 14:56:30,443 - hypster.hp - DEBUG - Added SelectCall: chunking_strategy\n",
                        "2024-10-28 14:56:30,444 - hypster.hp_calls - DEBUG - Found selection for chunking_strategy: fixed\n",
                        "2024-10-28 14:56:30,444 - hypster.hp_calls - INFO - Applied selection for chunking_strategy: fixed\n",
                        "2024-10-28 14:56:30,444 - hypster.hp - DEBUG - Added SelectCall: llm_model\n",
                        "2024-10-28 14:56:30,445 - hypster.hp_calls - DEBUG - Found selection for llm_model: haiku\n",
                        "2024-10-28 14:56:30,445 - hypster.hp_calls - INFO - Applied selection for llm_model: claude-3-haiku-20240307\n",
                        "2024-10-28 14:56:30,445 - hypster.hp - DEBUG - Added NumberInputCall: llm_config.temperature\n",
                        "2024-10-28 14:56:30,446 - hypster.hp_calls - INFO - NumberInput call executed for llm_config.temperature: 0\n",
                        "2024-10-28 14:56:30,446 - hypster.hp - DEBUG - Added NumberInputCall: llm_config.max_tokens\n",
                        "2024-10-28 14:56:30,446 - hypster.hp_calls - INFO - NumberInput call executed for llm_config.max_tokens: 64\n",
                        "2024-10-28 14:56:30,446 - hypster.hp - DEBUG - Added TextInputCall: system_prompt\n",
                        "2024-10-28 14:56:30,447 - hypster.hp_calls - INFO - TextInput call executed for system_prompt: You are a helpful assistant. Answer with one word only\n",
                        "2024-10-28 14:56:30,447 - hypster.core - DEBUG - Captured locals: {'chunking_strategy': 'fixed', 'llm_model': 'claude-3-haiku-20240307', 'llm_config': {'temperature': 0, 'max_tokens': 64}, 'system_prompt': 'You are a helpful assistant. Answer with one word only'}\n",
                        "2024-10-28 14:56:30,447 - hypster.core - DEBUG - Final result after filtering: {'chunking_strategy': 'fixed', 'llm_model': 'claude-3-haiku-20240307', 'llm_config': {'temperature': 0, 'max_tokens': 64}, 'system_prompt': 'You are a helpful assistant. Answer with one word only'}\n",
                        "2024-10-28 14:56:30,448 - hypster.core - DEBUG - Captured locals: {'my_conf': 'claude-3-haiku-20240307'}\n",
                        "2024-10-28 14:56:30,448 - hypster.core - DEBUG - Final result after filtering: {'my_conf': 'claude-3-haiku-20240307'}\n",
                        "2024-10-28 14:56:30,449 - hypster.hp - DEBUG - Added PropagateCall: my_conf.llm_model\n",
                        "2024-10-28 14:56:30,450 - hypster.ast_analyzer - INFO - Starting HP calls collection\n",
                        "2024-10-28 14:56:30,450 - hypster.ast_analyzer - DEBUG - AST parsing successful\n",
                        "2024-10-28 14:56:30,451 - hypster.ast_analyzer - DEBUG - Parent map built with 50 entries\n",
                        "2024-10-28 14:56:30,451 - hypster.ast_analyzer - DEBUG - Initialized HPCallVisitor\n",
                        "2024-10-28 14:56:30,452 - hypster.ast_analyzer - DEBUG - Checking if node is HP call: True\n",
                        "2024-10-28 14:56:30,452 - hypster.ast_analyzer - DEBUG - Detected hp call at line 2, column 24\n",
                        "2024-10-28 14:56:30,452 - hypster.ast_analyzer - DEBUG - Found assignment to variable 'chunking_strategy'\n",
                        "2024-10-28 14:56:30,453 - hypster.ast_analyzer - DEBUG - Encountered unsupported parent type 'FunctionDef'\n",
                        "2024-10-28 14:56:30,453 - hypster.ast_analyzer - DEBUG - Inferred implicit name: 'chunking_strategy'\n",
                        "2024-10-28 14:56:30,453 - hypster.ast_analyzer - DEBUG - HP call at line 2 does not have an explicit name\n",
                        "2024-10-28 14:56:30,454 - hypster.ast_analyzer - DEBUG - Created HPCall instance: HPCall(lineno=2, col_offset=24, method_name='select', implicit_name='chunking_strategy', has_explicit_name=False, call_index=0)\n",
                        "2024-10-28 14:56:30,454 - hypster.ast_analyzer - DEBUG - Checking if node is HP call: True\n",
                        "2024-10-28 14:56:30,455 - hypster.ast_analyzer - DEBUG - Detected hp call at line 4, column 16\n",
                        "2024-10-28 14:56:30,460 - hypster.ast_analyzer - DEBUG - Found assignment to variable 'llm_model'\n",
                        "2024-10-28 14:56:30,461 - hypster.ast_analyzer - DEBUG - Encountered unsupported parent type 'FunctionDef'\n",
                        "2024-10-28 14:56:30,461 - hypster.ast_analyzer - DEBUG - Inferred implicit name: 'llm_model'\n",
                        "2024-10-28 14:56:30,463 - hypster.ast_analyzer - DEBUG - HP call at line 4 does not have an explicit name\n",
                        "2024-10-28 14:56:30,474 - hypster.ast_analyzer - DEBUG - Created HPCall instance: HPCall(lineno=4, col_offset=16, method_name='select', implicit_name='llm_model', has_explicit_name=False, call_index=0)\n",
                        "2024-10-28 14:56:30,485 - hypster.ast_analyzer - DEBUG - Checking if node is HP call: True\n",
                        "2024-10-28 14:56:30,491 - hypster.ast_analyzer - DEBUG - Detected hp call at line 9, column 33\n",
                        "2024-10-28 14:56:30,496 - hypster.ast_analyzer - DEBUG - Found dictionary key 'temperature'\n",
                        "2024-10-28 14:56:30,502 - hypster.ast_analyzer - DEBUG - Found assignment to variable 'llm_config'\n",
                        "2024-10-28 14:56:30,503 - hypster.ast_analyzer - DEBUG - Encountered unsupported parent type 'FunctionDef'\n",
                        "2024-10-28 14:56:30,503 - hypster.ast_analyzer - DEBUG - Inferred implicit name: 'llm_config.temperature'\n",
                        "2024-10-28 14:56:30,503 - hypster.ast_analyzer - DEBUG - HP call at line 9 does not have an explicit name\n",
                        "2024-10-28 14:56:30,504 - hypster.ast_analyzer - DEBUG - Created HPCall instance: HPCall(lineno=9, col_offset=33, method_name='number', implicit_name='llm_config.temperature', has_explicit_name=False, call_index=0)\n",
                        "2024-10-28 14:56:30,504 - hypster.ast_analyzer - DEBUG - Checking if node is HP call: True\n",
                        "2024-10-28 14:56:30,505 - hypster.ast_analyzer - DEBUG - Detected hp call at line 9, column 67\n",
                        "2024-10-28 14:56:30,505 - hypster.ast_analyzer - DEBUG - Found dictionary key 'max_tokens'\n",
                        "2024-10-28 14:56:30,505 - hypster.ast_analyzer - DEBUG - Found assignment to variable 'llm_config'\n",
                        "2024-10-28 14:56:30,506 - hypster.ast_analyzer - DEBUG - Encountered unsupported parent type 'FunctionDef'\n",
                        "2024-10-28 14:56:30,507 - hypster.ast_analyzer - DEBUG - Inferred implicit name: 'llm_config.max_tokens'\n",
                        "2024-10-28 14:56:30,507 - hypster.ast_analyzer - DEBUG - HP call at line 9 does not have an explicit name\n",
                        "2024-10-28 14:56:30,507 - hypster.ast_analyzer - DEBUG - Created HPCall instance: HPCall(lineno=9, col_offset=67, method_name='number', implicit_name='llm_config.max_tokens', has_explicit_name=False, call_index=0)\n",
                        "2024-10-28 14:56:30,508 - hypster.ast_analyzer - DEBUG - Checking if node is HP call: True\n",
                        "2024-10-28 14:56:30,508 - hypster.ast_analyzer - DEBUG - Detected hp call at line 11, column 20\n",
                        "2024-10-28 14:56:30,508 - hypster.ast_analyzer - DEBUG - Found assignment to variable 'system_prompt'\n",
                        "2024-10-28 14:56:30,509 - hypster.ast_analyzer - DEBUG - Encountered unsupported parent type 'FunctionDef'\n",
                        "2024-10-28 14:56:30,509 - hypster.ast_analyzer - DEBUG - Inferred implicit name: 'system_prompt'\n",
                        "2024-10-28 14:56:30,509 - hypster.ast_analyzer - DEBUG - HP call at line 11 does not have an explicit name\n",
                        "2024-10-28 14:56:30,509 - hypster.ast_analyzer - DEBUG - Created HPCall instance: HPCall(lineno=11, col_offset=20, method_name='text', implicit_name='system_prompt', has_explicit_name=False, call_index=0)\n",
                        "2024-10-28 14:56:30,510 - hypster.ast_analyzer - INFO - Collected 5 HP calls\n",
                        "2024-10-28 14:56:30,510 - hypster.ast_analyzer - DEBUG - HP Call: HPCall(lineno=2, col_offset=24, method_name='select', implicit_name='chunking_strategy', has_explicit_name=False, call_index=0)\n",
                        "2024-10-28 14:56:30,510 - hypster.ast_analyzer - DEBUG - HP Call: HPCall(lineno=4, col_offset=16, method_name='select', implicit_name='llm_model', has_explicit_name=False, call_index=0)\n",
                        "2024-10-28 14:56:30,511 - hypster.ast_analyzer - DEBUG - HP Call: HPCall(lineno=9, col_offset=33, method_name='number', implicit_name='llm_config.temperature', has_explicit_name=False, call_index=0)\n",
                        "2024-10-28 14:56:30,512 - hypster.ast_analyzer - DEBUG - HP Call: HPCall(lineno=9, col_offset=67, method_name='number', implicit_name='llm_config.max_tokens', has_explicit_name=False, call_index=0)\n",
                        "2024-10-28 14:56:30,514 - hypster.ast_analyzer - DEBUG - HP Call: HPCall(lineno=11, col_offset=20, method_name='text', implicit_name='system_prompt', has_explicit_name=False, call_index=0)\n",
                        "2024-10-28 14:56:30,515 - hypster.ast_analyzer - INFO - Starting name injection into source code\n",
                        "2024-10-28 14:56:30,516 - hypster.ast_analyzer - DEBUG - Initialized NameInjector\n",
                        "2024-10-28 14:56:30,516 - hypster.ast_analyzer - DEBUG - Injecting name 'chunking_strategy' into hp call on line 2\n",
                        "2024-10-28 14:56:30,517 - hypster.ast_analyzer - DEBUG - Injecting name 'llm_model' into hp call on line 4\n",
                        "2024-10-28 14:56:30,518 - hypster.ast_analyzer - DEBUG - Injecting name 'llm_config.temperature' into hp call on line 9\n",
                        "2024-10-28 14:56:30,519 - hypster.ast_analyzer - DEBUG - Injecting name 'llm_config.max_tokens' into hp call on line 9\n",
                        "2024-10-28 14:56:30,520 - hypster.ast_analyzer - DEBUG - Injecting name 'system_prompt' into hp call on line 11\n",
                        "2024-10-28 14:56:30,521 - hypster.ast_analyzer - DEBUG - AST unparsed successfully using ast.unparse\n",
                        "2024-10-28 14:56:30,522 - hypster.ast_analyzer - INFO - Name injection completed\n",
                        "2024-10-28 14:56:30,522 - hypster.ast_analyzer - INFO - Starting referenced variables collection\n",
                        "2024-10-28 14:56:30,522 - hypster.ast_analyzer - DEBUG - Initialized VariableReferenceCollector\n",
                        "2024-10-28 14:56:30,523 - hypster.ast_analyzer - DEBUG - Referenced variable found: 'HP'\n",
                        "2024-10-28 14:56:30,523 - hypster.ast_analyzer - DEBUG - Referenced variable found: 'hp'\n",
                        "2024-10-28 14:56:30,523 - hypster.ast_analyzer - DEBUG - Referenced variable found: 'hp'\n",
                        "2024-10-28 14:56:30,524 - hypster.ast_analyzer - DEBUG - Referenced variable found: 'hp'\n",
                        "2024-10-28 14:56:30,524 - hypster.ast_analyzer - DEBUG - Referenced variable found: 'hp'\n",
                        "2024-10-28 14:56:30,525 - hypster.ast_analyzer - DEBUG - Referenced variable found: 'hp'\n",
                        "2024-10-28 14:56:30,525 - hypster.ast_analyzer - INFO - Referenced variables collected: {'hp', 'HP'}\n",
                        "2024-10-28 14:56:30,525 - hypster.ast_analyzer - DEBUG - Independent select calls identified: {'llm_model', 'chunking_strategy'}\n",
                        "2024-10-28 14:56:30,526 - hypster.hp_calls - DEBUG - Running nested configuration with: {'selections': OrderedDict([('chunking_strategy', 'fixed'), ('llm_model', 'sonnet')]), 'final_vars': [], 'overrides': {}}\n",
                        "2024-10-28 14:56:30,526 - hypster.hp - INFO - Initialized HP with explore_mode: False\n",
                        "2024-10-28 14:56:30,526 - hypster.hp - DEBUG - Added SelectCall: chunking_strategy\n",
                        "2024-10-28 14:56:30,527 - hypster.hp_calls - DEBUG - Found selection for chunking_strategy: fixed\n",
                        "2024-10-28 14:56:30,527 - hypster.hp_calls - INFO - Applied selection for chunking_strategy: fixed\n",
                        "2024-10-28 14:56:30,527 - hypster.hp - DEBUG - Added SelectCall: llm_model\n",
                        "2024-10-28 14:56:30,528 - hypster.hp_calls - DEBUG - Found selection for llm_model: sonnet\n",
                        "2024-10-28 14:56:30,528 - hypster.hp_calls - INFO - Applied selection for llm_model: claude-3-5-sonnet-20240620\n",
                        "2024-10-28 14:56:30,528 - hypster.hp - DEBUG - Added NumberInputCall: llm_config.temperature\n",
                        "2024-10-28 14:56:30,529 - hypster.hp_calls - INFO - NumberInput call executed for llm_config.temperature: 0\n",
                        "2024-10-28 14:56:30,529 - hypster.hp - DEBUG - Added NumberInputCall: llm_config.max_tokens\n",
                        "2024-10-28 14:56:30,529 - hypster.hp_calls - INFO - NumberInput call executed for llm_config.max_tokens: 64\n",
                        "2024-10-28 14:56:30,529 - hypster.hp - DEBUG - Added TextInputCall: system_prompt\n",
                        "2024-10-28 14:56:30,530 - hypster.hp_calls - INFO - TextInput call executed for system_prompt: You are a helpful assistant. Answer with one word only\n",
                        "2024-10-28 14:56:30,530 - hypster.core - DEBUG - Captured locals: {'chunking_strategy': 'fixed', 'llm_model': 'claude-3-5-sonnet-20240620', 'llm_config': {'temperature': 0, 'max_tokens': 64}, 'system_prompt': 'You are a helpful assistant. Answer with one word only'}\n",
                        "2024-10-28 14:56:30,531 - hypster.core - DEBUG - Final result after filtering: {'chunking_strategy': 'fixed', 'llm_model': 'claude-3-5-sonnet-20240620', 'llm_config': {'temperature': 0, 'max_tokens': 64}, 'system_prompt': 'You are a helpful assistant. Answer with one word only'}\n",
                        "2024-10-28 14:56:30,531 - hypster.core - DEBUG - Captured locals: {'my_conf': 'claude-3-5-sonnet-20240620'}\n",
                        "2024-10-28 14:56:30,532 - hypster.core - DEBUG - Final result after filtering: {'my_conf': 'claude-3-5-sonnet-20240620'}\n",
                        "2024-10-28 14:56:30,532 - hypster.hp - DEBUG - Added PropagateCall: my_conf.llm_model\n",
                        "2024-10-28 14:56:30,533 - hypster.ast_analyzer - INFO - Starting HP calls collection\n",
                        "2024-10-28 14:56:30,533 - hypster.ast_analyzer - DEBUG - AST parsing successful\n",
                        "2024-10-28 14:56:30,534 - hypster.ast_analyzer - DEBUG - Parent map built with 50 entries\n",
                        "2024-10-28 14:56:30,534 - hypster.ast_analyzer - DEBUG - Initialized HPCallVisitor\n",
                        "2024-10-28 14:56:30,534 - hypster.ast_analyzer - DEBUG - Checking if node is HP call: True\n",
                        "2024-10-28 14:56:30,535 - hypster.ast_analyzer - DEBUG - Detected hp call at line 2, column 24\n",
                        "2024-10-28 14:56:30,535 - hypster.ast_analyzer - DEBUG - Found assignment to variable 'chunking_strategy'\n",
                        "2024-10-28 14:56:30,535 - hypster.ast_analyzer - DEBUG - Encountered unsupported parent type 'FunctionDef'\n",
                        "2024-10-28 14:56:30,536 - hypster.ast_analyzer - DEBUG - Inferred implicit name: 'chunking_strategy'\n",
                        "2024-10-28 14:56:30,536 - hypster.ast_analyzer - DEBUG - HP call at line 2 does not have an explicit name\n",
                        "2024-10-28 14:56:30,536 - hypster.ast_analyzer - DEBUG - Created HPCall instance: HPCall(lineno=2, col_offset=24, method_name='select', implicit_name='chunking_strategy', has_explicit_name=False, call_index=0)\n",
                        "2024-10-28 14:56:30,537 - hypster.ast_analyzer - DEBUG - Checking if node is HP call: True\n",
                        "2024-10-28 14:56:30,537 - hypster.ast_analyzer - DEBUG - Detected hp call at line 4, column 16\n",
                        "2024-10-28 14:56:30,537 - hypster.ast_analyzer - DEBUG - Found assignment to variable 'llm_model'\n",
                        "2024-10-28 14:56:30,538 - hypster.ast_analyzer - DEBUG - Encountered unsupported parent type 'FunctionDef'\n",
                        "2024-10-28 14:56:30,538 - hypster.ast_analyzer - DEBUG - Inferred implicit name: 'llm_model'\n",
                        "2024-10-28 14:56:30,538 - hypster.ast_analyzer - DEBUG - HP call at line 4 does not have an explicit name\n",
                        "2024-10-28 14:56:30,538 - hypster.ast_analyzer - DEBUG - Created HPCall instance: HPCall(lineno=4, col_offset=16, method_name='select', implicit_name='llm_model', has_explicit_name=False, call_index=0)\n",
                        "2024-10-28 14:56:30,539 - hypster.ast_analyzer - DEBUG - Checking if node is HP call: True\n",
                        "2024-10-28 14:56:30,539 - hypster.ast_analyzer - DEBUG - Detected hp call at line 9, column 33\n",
                        "2024-10-28 14:56:30,539 - hypster.ast_analyzer - DEBUG - Found dictionary key 'temperature'\n",
                        "2024-10-28 14:56:30,540 - hypster.ast_analyzer - DEBUG - Found assignment to variable 'llm_config'\n",
                        "2024-10-28 14:56:30,540 - hypster.ast_analyzer - DEBUG - Encountered unsupported parent type 'FunctionDef'\n",
                        "2024-10-28 14:56:30,540 - hypster.ast_analyzer - DEBUG - Inferred implicit name: 'llm_config.temperature'\n",
                        "2024-10-28 14:56:30,540 - hypster.ast_analyzer - DEBUG - HP call at line 9 does not have an explicit name\n",
                        "2024-10-28 14:56:30,541 - hypster.ast_analyzer - DEBUG - Created HPCall instance: HPCall(lineno=9, col_offset=33, method_name='number', implicit_name='llm_config.temperature', has_explicit_name=False, call_index=0)\n",
                        "2024-10-28 14:56:30,541 - hypster.ast_analyzer - DEBUG - Checking if node is HP call: True\n",
                        "2024-10-28 14:56:30,542 - hypster.ast_analyzer - DEBUG - Detected hp call at line 9, column 67\n",
                        "2024-10-28 14:56:30,542 - hypster.ast_analyzer - DEBUG - Found dictionary key 'max_tokens'\n",
                        "2024-10-28 14:56:30,542 - hypster.ast_analyzer - DEBUG - Found assignment to variable 'llm_config'\n",
                        "2024-10-28 14:56:30,543 - hypster.ast_analyzer - DEBUG - Encountered unsupported parent type 'FunctionDef'\n",
                        "2024-10-28 14:56:30,543 - hypster.ast_analyzer - DEBUG - Inferred implicit name: 'llm_config.max_tokens'\n",
                        "2024-10-28 14:56:30,543 - hypster.ast_analyzer - DEBUG - HP call at line 9 does not have an explicit name\n",
                        "2024-10-28 14:56:30,543 - hypster.ast_analyzer - DEBUG - Created HPCall instance: HPCall(lineno=9, col_offset=67, method_name='number', implicit_name='llm_config.max_tokens', has_explicit_name=False, call_index=0)\n",
                        "2024-10-28 14:56:30,544 - hypster.ast_analyzer - DEBUG - Checking if node is HP call: True\n",
                        "2024-10-28 14:56:30,544 - hypster.ast_analyzer - DEBUG - Detected hp call at line 11, column 20\n",
                        "2024-10-28 14:56:30,544 - hypster.ast_analyzer - DEBUG - Found assignment to variable 'system_prompt'\n",
                        "2024-10-28 14:56:30,545 - hypster.ast_analyzer - DEBUG - Encountered unsupported parent type 'FunctionDef'\n",
                        "2024-10-28 14:56:30,545 - hypster.ast_analyzer - DEBUG - Inferred implicit name: 'system_prompt'\n",
                        "2024-10-28 14:56:30,546 - hypster.ast_analyzer - DEBUG - HP call at line 11 does not have an explicit name\n",
                        "2024-10-28 14:56:30,546 - hypster.ast_analyzer - DEBUG - Created HPCall instance: HPCall(lineno=11, col_offset=20, method_name='text', implicit_name='system_prompt', has_explicit_name=False, call_index=0)\n",
                        "2024-10-28 14:56:30,546 - hypster.ast_analyzer - INFO - Collected 5 HP calls\n",
                        "2024-10-28 14:56:30,546 - hypster.ast_analyzer - DEBUG - HP Call: HPCall(lineno=2, col_offset=24, method_name='select', implicit_name='chunking_strategy', has_explicit_name=False, call_index=0)\n",
                        "2024-10-28 14:56:30,547 - hypster.ast_analyzer - DEBUG - HP Call: HPCall(lineno=4, col_offset=16, method_name='select', implicit_name='llm_model', has_explicit_name=False, call_index=0)\n",
                        "2024-10-28 14:56:30,547 - hypster.ast_analyzer - DEBUG - HP Call: HPCall(lineno=9, col_offset=33, method_name='number', implicit_name='llm_config.temperature', has_explicit_name=False, call_index=0)\n",
                        "2024-10-28 14:56:30,548 - hypster.ast_analyzer - DEBUG - HP Call: HPCall(lineno=9, col_offset=67, method_name='number', implicit_name='llm_config.max_tokens', has_explicit_name=False, call_index=0)\n",
                        "2024-10-28 14:56:30,548 - hypster.ast_analyzer - DEBUG - HP Call: HPCall(lineno=11, col_offset=20, method_name='text', implicit_name='system_prompt', has_explicit_name=False, call_index=0)\n",
                        "2024-10-28 14:56:30,548 - hypster.ast_analyzer - INFO - Starting name injection into source code\n",
                        "2024-10-28 14:56:30,549 - hypster.ast_analyzer - DEBUG - Initialized NameInjector\n",
                        "2024-10-28 14:56:30,549 - hypster.ast_analyzer - DEBUG - Injecting name 'chunking_strategy' into hp call on line 2\n",
                        "2024-10-28 14:56:30,549 - hypster.ast_analyzer - DEBUG - Injecting name 'llm_model' into hp call on line 4\n",
                        "2024-10-28 14:56:30,550 - hypster.ast_analyzer - DEBUG - Injecting name 'llm_config.temperature' into hp call on line 9\n",
                        "2024-10-28 14:56:30,550 - hypster.ast_analyzer - DEBUG - Injecting name 'llm_config.max_tokens' into hp call on line 9\n",
                        "2024-10-28 14:56:30,551 - hypster.ast_analyzer - DEBUG - Injecting name 'system_prompt' into hp call on line 11\n",
                        "2024-10-28 14:56:30,551 - hypster.ast_analyzer - DEBUG - AST unparsed successfully using ast.unparse\n",
                        "2024-10-28 14:56:30,551 - hypster.ast_analyzer - INFO - Name injection completed\n",
                        "2024-10-28 14:56:30,552 - hypster.ast_analyzer - INFO - Starting referenced variables collection\n",
                        "2024-10-28 14:56:30,552 - hypster.ast_analyzer - DEBUG - Initialized VariableReferenceCollector\n",
                        "2024-10-28 14:56:30,552 - hypster.ast_analyzer - DEBUG - Referenced variable found: 'HP'\n",
                        "2024-10-28 14:56:30,553 - hypster.ast_analyzer - DEBUG - Referenced variable found: 'hp'\n",
                        "2024-10-28 14:56:30,553 - hypster.ast_analyzer - DEBUG - Referenced variable found: 'hp'\n",
                        "2024-10-28 14:56:30,553 - hypster.ast_analyzer - DEBUG - Referenced variable found: 'hp'\n",
                        "2024-10-28 14:56:30,554 - hypster.ast_analyzer - DEBUG - Referenced variable found: 'hp'\n",
                        "2024-10-28 14:56:30,554 - hypster.ast_analyzer - DEBUG - Referenced variable found: 'hp'\n",
                        "2024-10-28 14:56:30,554 - hypster.ast_analyzer - INFO - Referenced variables collected: {'hp', 'HP'}\n",
                        "2024-10-28 14:56:30,681 - hypster.ast_analyzer - DEBUG - Independent select calls identified: {'llm_model', 'chunking_strategy'}\n",
                        "2024-10-28 14:56:30,682 - hypster.hp_calls - DEBUG - Running nested configuration with: {'selections': OrderedDict([('chunking_strategy', 'fixed'), ('llm_model', 'gpt-4o-mini')]), 'final_vars': [], 'overrides': {}}\n",
                        "2024-10-28 14:56:30,682 - hypster.hp - INFO - Initialized HP with explore_mode: False\n",
                        "2024-10-28 14:56:30,683 - hypster.hp - DEBUG - Added SelectCall: chunking_strategy\n",
                        "2024-10-28 14:56:30,683 - hypster.hp_calls - DEBUG - Found selection for chunking_strategy: fixed\n",
                        "2024-10-28 14:56:30,683 - hypster.hp_calls - INFO - Applied selection for chunking_strategy: fixed\n",
                        "2024-10-28 14:56:30,684 - hypster.hp - DEBUG - Added SelectCall: llm_model\n",
                        "2024-10-28 14:56:30,684 - hypster.hp_calls - DEBUG - Found selection for llm_model: gpt-4o-mini\n",
                        "2024-10-28 14:56:30,684 - hypster.hp_calls - INFO - Applied selection for llm_model: gpt-4o-mini\n",
                        "2024-10-28 14:56:30,685 - hypster.hp - DEBUG - Added NumberInputCall: llm_config.temperature\n",
                        "2024-10-28 14:56:30,685 - hypster.hp_calls - INFO - NumberInput call executed for llm_config.temperature: 0\n",
                        "2024-10-28 14:56:30,685 - hypster.hp - DEBUG - Added NumberInputCall: llm_config.max_tokens\n",
                        "2024-10-28 14:56:30,686 - hypster.hp_calls - INFO - NumberInput call executed for llm_config.max_tokens: 64\n",
                        "2024-10-28 14:56:30,686 - hypster.hp - DEBUG - Added TextInputCall: system_prompt\n",
                        "2024-10-28 14:56:30,687 - hypster.hp_calls - INFO - TextInput call executed for system_prompt: You are a helpful assistant. Answer with one word only\n",
                        "2024-10-28 14:56:30,687 - hypster.core - DEBUG - Captured locals: {'chunking_strategy': 'fixed', 'llm_model': 'gpt-4o-mini', 'llm_config': {'temperature': 0, 'max_tokens': 64}, 'system_prompt': 'You are a helpful assistant. Answer with one word only'}\n",
                        "2024-10-28 14:56:30,687 - hypster.core - DEBUG - Final result after filtering: {'chunking_strategy': 'fixed', 'llm_model': 'gpt-4o-mini', 'llm_config': {'temperature': 0, 'max_tokens': 64}, 'system_prompt': 'You are a helpful assistant. Answer with one word only'}\n",
                        "2024-10-28 14:56:30,688 - hypster.core - DEBUG - Captured locals: {'my_conf': 'gpt-4o-mini'}\n",
                        "2024-10-28 14:56:30,688 - hypster.core - DEBUG - Final result after filtering: {'my_conf': 'gpt-4o-mini'}\n"
                    ]
                }
            ],
            "source": [
                "combinations = my_config_parent.get_combinations()"
            ]
        },
        {
            "cell_type": "code",
            "execution_count": 33,
            "metadata": {},
            "outputs": [
                {
                    "data": {
                        "text/plain": [
                            "{'my_conf.llm_model': {'chunking_strategy': ['paragraph'],\n",
                            "  'llm_model': ['gpt-4o-mini'],\n",
                            "  'llm_config.temperature': [0],\n",
                            "  'llm_config.max_tokens': [64],\n",
                            "  'system_prompt': ['You are a helpful assistant. Answer with one word only']}}"
                        ]
                    },
                    "execution_count": 33,
                    "metadata": {},
                    "output_type": "execute_result"
                }
            ],
            "source": [
                "my_config_parent.get_defaults()"
            ]
        },
        {
            "cell_type": "code",
            "execution_count": 34,
            "metadata": {},
            "outputs": [
                {
                    "name": "stderr",
                    "output_type": "stream",
                    "text": [
                        "2024-10-28 14:56:30,700 - hypster.core - INFO - Configuration saved to helper_configs/my_config.py\n"
                    ]
                }
            ],
            "source": [
                "hypster.save(my_config, \"helper_configs/my_config.py\")"
            ]
        },
        {
            "cell_type": "code",
            "execution_count": 35,
            "metadata": {},
            "outputs": [
                {
                    "name": "stderr",
                    "output_type": "stream",
                    "text": [
                        "2024-10-28 14:56:30,719 - hypster.ast_analyzer - INFO - Starting HP calls collection\n",
                        "2024-10-28 14:56:30,726 - hypster.ast_analyzer - DEBUG - AST parsing successful\n",
                        "2024-10-28 14:56:30,727 - hypster.ast_analyzer - DEBUG - Parent map built with 50 entries\n",
                        "2024-10-28 14:56:30,732 - hypster.ast_analyzer - DEBUG - Initialized HPCallVisitor\n",
                        "2024-10-28 14:56:30,741 - hypster.ast_analyzer - DEBUG - Checking if node is HP call: True\n",
                        "2024-10-28 14:56:30,747 - hypster.ast_analyzer - DEBUG - Detected hp call at line 2, column 24\n",
                        "2024-10-28 14:56:30,748 - hypster.ast_analyzer - DEBUG - Found assignment to variable 'chunking_strategy'\n",
                        "2024-10-28 14:56:30,749 - hypster.ast_analyzer - DEBUG - Encountered unsupported parent type 'FunctionDef'\n",
                        "2024-10-28 14:56:30,749 - hypster.ast_analyzer - DEBUG - Inferred implicit name: 'chunking_strategy'\n",
                        "2024-10-28 14:56:30,749 - hypster.ast_analyzer - DEBUG - HP call at line 2 does not have an explicit name\n",
                        "2024-10-28 14:56:30,750 - hypster.ast_analyzer - DEBUG - Created HPCall instance: HPCall(lineno=2, col_offset=24, method_name='select', implicit_name='chunking_strategy', has_explicit_name=False, call_index=0)\n",
                        "2024-10-28 14:56:30,750 - hypster.ast_analyzer - DEBUG - Checking if node is HP call: True\n",
                        "2024-10-28 14:56:30,751 - hypster.ast_analyzer - DEBUG - Detected hp call at line 4, column 16\n",
                        "2024-10-28 14:56:30,751 - hypster.ast_analyzer - DEBUG - Found assignment to variable 'llm_model'\n",
                        "2024-10-28 14:56:30,751 - hypster.ast_analyzer - DEBUG - Encountered unsupported parent type 'FunctionDef'\n",
                        "2024-10-28 14:56:30,752 - hypster.ast_analyzer - DEBUG - Inferred implicit name: 'llm_model'\n",
                        "2024-10-28 14:56:30,752 - hypster.ast_analyzer - DEBUG - HP call at line 4 does not have an explicit name\n",
                        "2024-10-28 14:56:30,753 - hypster.ast_analyzer - DEBUG - Created HPCall instance: HPCall(lineno=4, col_offset=16, method_name='select', implicit_name='llm_model', has_explicit_name=False, call_index=0)\n",
                        "2024-10-28 14:56:30,753 - hypster.ast_analyzer - DEBUG - Checking if node is HP call: True\n",
                        "2024-10-28 14:56:30,755 - hypster.ast_analyzer - DEBUG - Detected hp call at line 9, column 33\n",
                        "2024-10-28 14:56:30,756 - hypster.ast_analyzer - DEBUG - Found dictionary key 'temperature'\n",
                        "2024-10-28 14:56:30,759 - hypster.ast_analyzer - DEBUG - Found assignment to variable 'llm_config'\n",
                        "2024-10-28 14:56:30,762 - hypster.ast_analyzer - DEBUG - Encountered unsupported parent type 'FunctionDef'\n",
                        "2024-10-28 14:56:30,763 - hypster.ast_analyzer - DEBUG - Inferred implicit name: 'llm_config.temperature'\n",
                        "2024-10-28 14:56:30,764 - hypster.ast_analyzer - DEBUG - HP call at line 9 does not have an explicit name\n",
                        "2024-10-28 14:56:30,765 - hypster.ast_analyzer - DEBUG - Created HPCall instance: HPCall(lineno=9, col_offset=33, method_name='number', implicit_name='llm_config.temperature', has_explicit_name=False, call_index=0)\n",
                        "2024-10-28 14:56:30,765 - hypster.ast_analyzer - DEBUG - Checking if node is HP call: True\n",
                        "2024-10-28 14:56:30,766 - hypster.ast_analyzer - DEBUG - Detected hp call at line 9, column 67\n",
                        "2024-10-28 14:56:30,766 - hypster.ast_analyzer - DEBUG - Found dictionary key 'max_tokens'\n",
                        "2024-10-28 14:56:30,767 - hypster.ast_analyzer - DEBUG - Found assignment to variable 'llm_config'\n",
                        "2024-10-28 14:56:30,767 - hypster.ast_analyzer - DEBUG - Encountered unsupported parent type 'FunctionDef'\n",
                        "2024-10-28 14:56:30,768 - hypster.ast_analyzer - DEBUG - Inferred implicit name: 'llm_config.max_tokens'\n",
                        "2024-10-28 14:56:30,768 - hypster.ast_analyzer - DEBUG - HP call at line 9 does not have an explicit name\n",
                        "2024-10-28 14:56:30,768 - hypster.ast_analyzer - DEBUG - Created HPCall instance: HPCall(lineno=9, col_offset=67, method_name='number', implicit_name='llm_config.max_tokens', has_explicit_name=False, call_index=0)\n",
                        "2024-10-28 14:56:30,769 - hypster.ast_analyzer - DEBUG - Checking if node is HP call: True\n",
                        "2024-10-28 14:56:30,769 - hypster.ast_analyzer - DEBUG - Detected hp call at line 11, column 20\n",
                        "2024-10-28 14:56:30,770 - hypster.ast_analyzer - DEBUG - Found assignment to variable 'system_prompt'\n",
                        "2024-10-28 14:56:30,770 - hypster.ast_analyzer - DEBUG - Encountered unsupported parent type 'FunctionDef'\n",
                        "2024-10-28 14:56:30,770 - hypster.ast_analyzer - DEBUG - Inferred implicit name: 'system_prompt'\n",
                        "2024-10-28 14:56:30,771 - hypster.ast_analyzer - DEBUG - HP call at line 11 does not have an explicit name\n",
                        "2024-10-28 14:56:30,771 - hypster.ast_analyzer - DEBUG - Created HPCall instance: HPCall(lineno=11, col_offset=20, method_name='text', implicit_name='system_prompt', has_explicit_name=False, call_index=0)\n",
                        "2024-10-28 14:56:30,772 - hypster.ast_analyzer - INFO - Collected 5 HP calls\n",
                        "2024-10-28 14:56:30,772 - hypster.ast_analyzer - DEBUG - HP Call: HPCall(lineno=2, col_offset=24, method_name='select', implicit_name='chunking_strategy', has_explicit_name=False, call_index=0)\n",
                        "2024-10-28 14:56:30,772 - hypster.ast_analyzer - DEBUG - HP Call: HPCall(lineno=4, col_offset=16, method_name='select', implicit_name='llm_model', has_explicit_name=False, call_index=0)\n",
                        "2024-10-28 14:56:30,773 - hypster.ast_analyzer - DEBUG - HP Call: HPCall(lineno=9, col_offset=33, method_name='number', implicit_name='llm_config.temperature', has_explicit_name=False, call_index=0)\n",
                        "2024-10-28 14:56:30,773 - hypster.ast_analyzer - DEBUG - HP Call: HPCall(lineno=9, col_offset=67, method_name='number', implicit_name='llm_config.max_tokens', has_explicit_name=False, call_index=0)\n",
                        "2024-10-28 14:56:30,774 - hypster.ast_analyzer - DEBUG - HP Call: HPCall(lineno=11, col_offset=20, method_name='text', implicit_name='system_prompt', has_explicit_name=False, call_index=0)\n",
                        "2024-10-28 14:56:30,774 - hypster.ast_analyzer - INFO - Starting name injection into source code\n",
                        "2024-10-28 14:56:30,774 - hypster.ast_analyzer - DEBUG - Initialized NameInjector\n",
                        "2024-10-28 14:56:30,775 - hypster.ast_analyzer - DEBUG - Injecting name 'chunking_strategy' into hp call on line 2\n",
                        "2024-10-28 14:56:30,775 - hypster.ast_analyzer - DEBUG - Injecting name 'llm_model' into hp call on line 4\n",
                        "2024-10-28 14:56:30,776 - hypster.ast_analyzer - DEBUG - Injecting name 'llm_config.temperature' into hp call on line 9\n",
                        "2024-10-28 14:56:30,776 - hypster.ast_analyzer - DEBUG - Injecting name 'llm_config.max_tokens' into hp call on line 9\n",
                        "2024-10-28 14:56:30,777 - hypster.ast_analyzer - DEBUG - Injecting name 'system_prompt' into hp call on line 11\n",
                        "2024-10-28 14:56:30,777 - hypster.ast_analyzer - DEBUG - AST unparsed successfully using ast.unparse\n",
                        "2024-10-28 14:56:30,778 - hypster.ast_analyzer - INFO - Name injection completed\n",
                        "2024-10-28 14:56:30,779 - hypster.ast_analyzer - INFO - Starting referenced variables collection\n",
                        "2024-10-28 14:56:30,779 - hypster.ast_analyzer - DEBUG - Initialized VariableReferenceCollector\n",
                        "2024-10-28 14:56:30,780 - hypster.ast_analyzer - DEBUG - Referenced variable found: 'HP'\n",
                        "2024-10-28 14:56:30,781 - hypster.ast_analyzer - DEBUG - Referenced variable found: 'hp'\n",
                        "2024-10-28 14:56:30,781 - hypster.ast_analyzer - DEBUG - Referenced variable found: 'hp'\n",
                        "2024-10-28 14:56:30,782 - hypster.ast_analyzer - DEBUG - Referenced variable found: 'hp'\n",
                        "2024-10-28 14:56:30,782 - hypster.ast_analyzer - DEBUG - Referenced variable found: 'hp'\n",
                        "2024-10-28 14:56:30,783 - hypster.ast_analyzer - DEBUG - Referenced variable found: 'hp'\n",
                        "2024-10-28 14:56:30,783 - hypster.ast_analyzer - INFO - Referenced variables collected: {'hp', 'HP'}\n",
                        "2024-10-28 14:56:30,784 - hypster.ast_analyzer - DEBUG - Independent select calls identified: {'llm_model', 'chunking_strategy'}\n"
                    ]
                }
            ],
            "source": [
                "loaded_config = hypster.load(\"helper_configs/my_config.py\")"
            ]
        },
        {
            "cell_type": "code",
            "execution_count": 36,
            "metadata": {},
            "outputs": [
                {
                    "name": "stderr",
                    "output_type": "stream",
                    "text": [
                        "2024-10-28 14:56:30,791 - hypster.hp - INFO - Initialized HP with explore_mode: False\n",
                        "2024-10-28 14:56:30,792 - hypster.hp - DEBUG - Added SelectCall: chunking_strategy\n",
                        "2024-10-28 14:56:30,793 - hypster.hp - DEBUG - Added SelectCall: llm_model\n",
                        "2024-10-28 14:56:30,793 - hypster.hp - DEBUG - Added NumberInputCall: llm_config.temperature\n",
                        "2024-10-28 14:56:30,794 - hypster.hp_calls - INFO - NumberInput call executed for llm_config.temperature: 0\n",
                        "2024-10-28 14:56:30,795 - hypster.hp - DEBUG - Added NumberInputCall: llm_config.max_tokens\n",
                        "2024-10-28 14:56:30,795 - hypster.hp_calls - INFO - NumberInput call executed for llm_config.max_tokens: 64\n",
                        "2024-10-28 14:56:30,796 - hypster.hp - DEBUG - Added TextInputCall: system_prompt\n",
                        "2024-10-28 14:56:30,796 - hypster.hp_calls - INFO - TextInput call executed for system_prompt: You are a helpful assistant. Answer with one word only\n"
                    ]
                },
                {
                    "ename": "ValueError",
                    "evalue": "The following variables specified in final_vars do not exist in the configuration: a",
                    "output_type": "error",
                    "traceback": [
                        "\u001b[0;31m---------------------------------------------------------------------------\u001b[0m",
                        "\u001b[0;31mValueError\u001b[0m                                Traceback (most recent call last)",
                        "Cell \u001b[0;32mIn[36], line 1\u001b[0m\n\u001b[0;32m----> 1\u001b[0m result \u001b[38;5;241m=\u001b[39m \u001b[43mloaded_config\u001b[49m\u001b[43m(\u001b[49m\u001b[43mfinal_vars\u001b[49m\u001b[38;5;241;43m=\u001b[39;49m\u001b[43m[\u001b[49m\u001b[38;5;124;43m\"\u001b[39;49m\u001b[38;5;124;43ma\u001b[39;49m\u001b[38;5;124;43m\"\u001b[39;49m\u001b[43m]\u001b[49m\u001b[43m,\u001b[49m\u001b[43m \u001b[49m\u001b[43mselections\u001b[49m\u001b[38;5;241;43m=\u001b[39;49m\u001b[43m{\u001b[49m\u001b[38;5;124;43m\"\u001b[39;49m\u001b[38;5;124;43mb\u001b[39;49m\u001b[38;5;124;43m\"\u001b[39;49m\u001b[43m:\u001b[49m\u001b[43m \u001b[49m\u001b[38;5;124;43m\"\u001b[39;49m\u001b[38;5;124;43my\u001b[39;49m\u001b[38;5;124;43m\"\u001b[39;49m\u001b[43m}\u001b[49m\u001b[43m,\u001b[49m\u001b[43m \u001b[49m\u001b[43moverrides\u001b[49m\u001b[38;5;241;43m=\u001b[39;49m\u001b[43m{\u001b[49m\u001b[38;5;124;43m\"\u001b[39;49m\u001b[38;5;124;43ma\u001b[39;49m\u001b[38;5;124;43m\"\u001b[39;49m\u001b[43m:\u001b[49m\u001b[43m \u001b[49m\u001b[38;5;124;43m\"\u001b[39;49m\u001b[38;5;124;43mc\u001b[39;49m\u001b[38;5;124;43m\"\u001b[39;49m\u001b[43m}\u001b[49m\u001b[43m)\u001b[49m\n",
                        "File \u001b[0;32m~/python_workspace/hypster/src/hypster/core.py:67\u001b[0m, in \u001b[0;36mHypster.__call__\u001b[0;34m(self, final_vars, selections, overrides)\u001b[0m\n\u001b[1;32m     55\u001b[0m \u001b[38;5;250m\u001b[39m\u001b[38;5;124;03m\"\"\"\u001b[39;00m\n\u001b[1;32m     56\u001b[0m \u001b[38;5;124;03mExecute the Hypster instance with given parameters.\u001b[39;00m\n\u001b[1;32m     57\u001b[0m \n\u001b[0;32m   (...)\u001b[0m\n\u001b[1;32m     64\u001b[0m \u001b[38;5;124;03m    Dict[str, Any]: The execution result.\u001b[39;00m\n\u001b[1;32m     65\u001b[0m \u001b[38;5;124;03m\"\"\"\u001b[39;00m\n\u001b[1;32m     66\u001b[0m hp \u001b[38;5;241m=\u001b[39m HP(final_vars \u001b[38;5;129;01mor\u001b[39;00m [], selections \u001b[38;5;129;01mor\u001b[39;00m {}, overrides \u001b[38;5;129;01mor\u001b[39;00m {})\n\u001b[0;32m---> 67\u001b[0m result \u001b[38;5;241m=\u001b[39m \u001b[38;5;28;43mself\u001b[39;49m\u001b[38;5;241;43m.\u001b[39;49m\u001b[43m_execute_function\u001b[49m\u001b[43m(\u001b[49m\u001b[43mhp\u001b[49m\u001b[43m,\u001b[49m\u001b[43m \u001b[49m\u001b[38;5;28;43mself\u001b[39;49m\u001b[38;5;241;43m.\u001b[39;49m\u001b[43mmodified_source\u001b[49m\u001b[43m)\u001b[49m\n\u001b[1;32m     68\u001b[0m \u001b[38;5;28mself\u001b[39m\u001b[38;5;241m.\u001b[39msnapshot_history\u001b[38;5;241m.\u001b[39mappend(hp\u001b[38;5;241m.\u001b[39msnapshot)\n\u001b[1;32m     69\u001b[0m \u001b[38;5;28;01mreturn\u001b[39;00m result\n",
                        "File \u001b[0;32m~/python_workspace/hypster/src/hypster/core.py:94\u001b[0m, in \u001b[0;36mHypster._execute_function\u001b[0;34m(self, hp, modified_source)\u001b[0m\n\u001b[1;32m     91\u001b[0m exec(function_body, exec_namespace)\n\u001b[1;32m     93\u001b[0m \u001b[38;5;66;03m# Process and filter the results\u001b[39;00m\n\u001b[0;32m---> 94\u001b[0m \u001b[38;5;28;01mreturn\u001b[39;00m \u001b[38;5;28;43mself\u001b[39;49m\u001b[38;5;241;43m.\u001b[39;49m\u001b[43m_process_results\u001b[49m\u001b[43m(\u001b[49m\u001b[43mexec_namespace\u001b[49m\u001b[43m,\u001b[49m\u001b[43m \u001b[49m\u001b[43mhp\u001b[49m\u001b[38;5;241;43m.\u001b[39;49m\u001b[43mfinal_vars\u001b[49m\u001b[43m)\u001b[49m\n",
                        "File \u001b[0;32m~/python_workspace/hypster/src/hypster/core.py:122\u001b[0m, in \u001b[0;36mHypster._process_results\u001b[0;34m(self, namespace, final_vars)\u001b[0m\n\u001b[1;32m    120\u001b[0m     non_existent_vars \u001b[38;5;241m=\u001b[39m \u001b[38;5;28mset\u001b[39m(final_vars) \u001b[38;5;241m-\u001b[39m \u001b[38;5;28mset\u001b[39m(filtered_locals\u001b[38;5;241m.\u001b[39mkeys())\n\u001b[1;32m    121\u001b[0m     \u001b[38;5;28;01mif\u001b[39;00m non_existent_vars:\n\u001b[0;32m--> 122\u001b[0m         \u001b[38;5;28;01mraise\u001b[39;00m \u001b[38;5;167;01mValueError\u001b[39;00m(\n\u001b[1;32m    123\u001b[0m             \u001b[38;5;124m\"\u001b[39m\u001b[38;5;124mThe following variables specified in final_vars \u001b[39m\u001b[38;5;124m\"\u001b[39m\n\u001b[1;32m    124\u001b[0m             \u001b[38;5;124m\"\u001b[39m\u001b[38;5;124mdo not exist in the configuration: \u001b[39m\u001b[38;5;124m\"\u001b[39m\n\u001b[1;32m    125\u001b[0m             \u001b[38;5;124mf\u001b[39m\u001b[38;5;124m\"\u001b[39m\u001b[38;5;132;01m{\u001b[39;00m\u001b[38;5;124m'\u001b[39m\u001b[38;5;124m, \u001b[39m\u001b[38;5;124m'\u001b[39m\u001b[38;5;241m.\u001b[39mjoin(non_existent_vars)\u001b[38;5;132;01m}\u001b[39;00m\u001b[38;5;124m\"\u001b[39m\n\u001b[1;32m    126\u001b[0m         )\n\u001b[1;32m    127\u001b[0m     final_result \u001b[38;5;241m=\u001b[39m {k: filtered_locals[k] \u001b[38;5;28;01mfor\u001b[39;00m k \u001b[38;5;129;01min\u001b[39;00m final_vars}\n\u001b[1;32m    129\u001b[0m logger\u001b[38;5;241m.\u001b[39mdebug(\u001b[38;5;124m\"\u001b[39m\u001b[38;5;124mCaptured locals: \u001b[39m\u001b[38;5;132;01m%s\u001b[39;00m\u001b[38;5;124m\"\u001b[39m, filtered_locals)\n",
                        "\u001b[0;31mValueError\u001b[0m: The following variables specified in final_vars do not exist in the configuration: a"
                    ]
                }
            ],
            "source": [
                "result = loaded_config(final_vars=[\"a\"], selections={\"b\": \"y\"}, overrides={\"a\": \"c\"})"
            ]
        },
        {
            "cell_type": "code",
            "execution_count": null,
            "metadata": {},
            "outputs": [
                {
                    "data": {
                        "text/plain": [
                            "<hypster.core.Hypster at 0x1ffeab1d210>"
                        ]
                    },
                    "execution_count": 63,
                    "metadata": {},
                    "output_type": "execute_result"
                }
            ],
            "source": [
                "loaded_config"
            ]
        },
        {
            "cell_type": "code",
            "execution_count": null,
            "metadata": {},
            "outputs": [
                {
                    "data": {
                        "text/plain": [
                            "{'a': 'c'}"
                        ]
                    },
                    "execution_count": 64,
                    "metadata": {},
                    "output_type": "execute_result"
                }
            ],
            "source": [
                "result"
            ]
        },
        {
            "cell_type": "code",
            "execution_count": null,
            "metadata": {},
            "outputs": [],
            "source": [
                "result = loaded_config(final_vars=[\"a\"], selections={\"b\": \"y\"}, overrides={\"a\": \"c\"})\n",
                "print(result)"
            ]
        },
        {
            "cell_type": "code",
            "execution_count": null,
            "metadata": {},
            "outputs": [],
            "source": [
                "from hypster import hypster\n",
                "\n",
                "\n",
                "@hypster\n",
                "def test(hp):\n",
                "    a = hp.select([\"a\", \"b\", \"c\"], default=\"a\")\n",
                "    b = hp.select({\"a\": \"hello\", \"b\": \"world\"}, default=\"a\")"
            ]
        },
        {
            "cell_type": "code",
            "execution_count": null,
            "metadata": {},
            "outputs": [],
            "source": [
                "res = test(final_vars=[\"a\", \"b\"], selections={\"a\": \"c\"}, overrides={\"b\": \"heyyy\"})"
            ]
        },
        {
            "cell_type": "code",
            "execution_count": null,
            "metadata": {},
            "outputs": [
                {
                    "data": {
                        "text/plain": [
                            "{'a': 'a', 'b': 'hello'}"
                        ]
                    },
                    "execution_count": 4,
                    "metadata": {},
                    "output_type": "execute_result"
                }
            ],
            "source": [
                "res"
            ]
        },
        {
            "cell_type": "code",
            "execution_count": null,
            "metadata": {},
            "outputs": [],
            "source": []
        },
        {
            "cell_type": "code",
            "execution_count": null,
            "metadata": {},
            "outputs": [
                {
                    "name": "stdout",
                    "output_type": "stream",
                    "text": [
                        "Writing configs.py\n"
                    ]
                }
            ],
            "source": [
                "%%writefile configs.py\n",
                "from hypster import Select, prep\n",
                "from dataclasses import dataclass\n",
                "\n",
                "\n",
                "class CacheInterface:\n",
                "    pass\n",
                "\n",
                "\n",
                "class DiskCache(CacheInterface):\n",
                "    def __init__(self, path, cache_op: str):\n",
                "        self.path = path\n",
                "        self.cache_op = cache_op\n",
                "\n",
                "\n",
                "class MemoryCache(CacheInterface):\n",
                "    def __init__(self, max_size, cache_op: str):\n",
                "        self.max_size = max_size\n",
                "        self.cache_op = cache_op\n",
                "\n",
                "\n",
                "class SqlCache(CacheInterface):\n",
                "    def __init__(self, conn_str, table):\n",
                "        self.conn_str = conn_str\n",
                "        self.table = table\n",
                "\n",
                "\n",
                "@dataclass\n",
                "class CacheManager:\n",
                "    cache: CacheInterface\n",
                "\n",
                "\n",
                "cache_manager = prep(CacheManager(cache=Select(\"cache\")))  # this can also be None\n",
                "\n",
                "\n",
                "cache_op = \"all\"\n",
                "\n",
                "max_size = 1000\n",
                "cache__mem = prep(MemoryCache(max_size=max_size, cache_op=cache_op))\n",
                "\n",
                "path = \"data/cache\"\n",
                "cache__disk = prep(DiskCache(path=path, cache_op=cache_op))\n",
                "\n",
                "cache__new = prep(SqlCache(conn_str=\"sqlite:///data/cache.db\", table=\"cache\"))\n",
                "\n",
                "\n",
                "class OpenAiDriver:\n",
                "    def __init__(self, model):\n",
                "        self.model = model\n",
                "\n",
                "\n",
                "class AnthropicDriver:\n",
                "    def __init__(self, model):\n",
                "        self.model = model\n",
                "\n",
                "\n",
                "llm_driver = Select(\"llm_driver\")\n",
                "llm_driver__openai = prep(OpenAiDriver(model=\"gpt3.5\"))\n",
                "llm_driver__anthropic = prep(AnthropicDriver(model=\"claude3.5\"))"
            ]
        },
        {
            "cell_type": "code",
            "execution_count": null,
            "metadata": {},
            "outputs": [
                {
                    "name": "stdout",
                    "output_type": "stream",
                    "text": [
                        "The autoreload extension is already loaded. To reload it, use:\n",
                        "  %reload_ext autoreload\n"
                    ]
                }
            ],
            "source": [
                "%load_ext autoreload"
            ]
        },
        {
            "cell_type": "code",
            "execution_count": null,
            "metadata": {},
            "outputs": [],
            "source": [
                "%autoreload 2"
            ]
        },
        {
            "cell_type": "code",
            "execution_count": null,
            "metadata": {},
            "outputs": [],
            "source": [
                "import configs\n",
                "\n",
                "from hypster import Builder\n",
                "\n",
                "builder = Builder().with_modules(configs)\n",
                "driver = builder.build()"
            ]
        },
        {
            "cell_type": "code",
            "execution_count": null,
            "metadata": {},
            "outputs": [
                {
                    "name": "stdout",
                    "output_type": "stream",
                    "text": [
                        "\n",
                        "Configuration tree:\n",
                        "└── root (root)\n",
                        "    ├── cache_manager (CacheManager)\n",
                        "    │   └── cache (Select): cache\n",
                        "    │       ├── mem (MemoryCache)\n",
                        "    │       │   ├── max_size (reference): 1000\n",
                        "    │       │   └── cache_op (reference): all\n",
                        "    │       ├── disk (DiskCache)\n",
                        "    │       │   ├── path (reference): data/cache\n",
                        "    │       │   └── cache_op (reference) [SHARED]\n",
                        "    │       └── new (SqlCache)\n",
                        "    │           ├── conn_str (value): sqlite:///data/cache.db\n",
                        "    │           └── table (value): cache\n",
                        "    └── llm_driver (Select): llm_driver\n",
                        "        ├── openai (OpenAiDriver)\n",
                        "        │   └── model (value): gpt3.5\n",
                        "        └── anthropic (AnthropicDriver)\n",
                        "            └── model (value) [SHARED]\n",
                        "\n"
                    ]
                }
            ],
            "source": [
                "# Visualize configuration tree\n",
                "from hypster import visualize_config_tree\n",
                "\n",
                "print(\"\\nConfiguration tree:\")\n",
                "print(visualize_config_tree(driver.root))"
            ]
        },
        {
            "cell_type": "code",
            "execution_count": null,
            "metadata": {},
            "outputs": [],
            "source": [
                "final_vars = [\"cache_manager\", \"llm_driver\"]\n",
                "selections = {\"llm_driver\": \"anthropic\", \"cache_manager.cache\": \"disk\"}\n",
                "overrides = {\"llm_driver.anthropic.model\": \"claude3-opus\"}\n",
                "results = driver.instantiate(final_vars, selections, overrides)"
            ]
        },
        {
            "cell_type": "code",
            "execution_count": null,
            "metadata": {},
            "outputs": [
                {
                    "data": {
                        "text/plain": [
                            "'data/cache'"
                        ]
                    },
                    "execution_count": 35,
                    "metadata": {},
                    "output_type": "execute_result"
                }
            ],
            "source": [
                "results[\"cache_manager\"].cache.path"
            ]
        },
        {
            "cell_type": "code",
            "execution_count": null,
            "metadata": {},
            "outputs": [
                {
                    "name": "stdout",
                    "output_type": "stream",
                    "text": [
                        "\n",
                        "Configuration tree:\n",
                        "└── root (root)\n",
                        "    ├── cache_manager (CacheManager)\n",
                        "    │   └── cache (Select): cache\n",
                        "    │       └── disk (DiskCache)\n",
                        "    │           ├── path (reference): data/cache\n",
                        "    │           └── cache_op (reference): all\n",
                        "    ├── llm_driver (Select): llm_driver\n",
                        "    │   ├── openai (OpenAiDriver)\n",
                        "    │   │   └── model (value): gpt3.5\n",
                        "    │   └── anthropic (AnthropicDriver)\n",
                        "    │       └── model (value) [SHARED]\n",
                        "    ├── mem (MemoryCache)\n",
                        "    │   ├── max_size (reference): 1000\n",
                        "    │   └── cache_op (reference) [SHARED]\n",
                        "    ├── disk (DiskCache) [SHARED]\n",
                        "    └── new (SqlCache)\n",
                        "        ├── conn_str (value): sqlite:///data/cache.db\n",
                        "        └── table (value): cache\n",
                        "\n"
                    ]
                }
            ],
            "source": [
                "# Visualize configuration tree\n",
                "from hypster import visualize_config_tree\n",
                "\n",
                "print(\"\\nConfiguration tree:\")\n",
                "print(visualize_config_tree(driver.root))"
            ]
        },
        {
            "cell_type": "code",
            "execution_count": null,
            "metadata": {},
            "outputs": [],
            "source": []
        }
    ],
    "metadata": {
        "kernelspec": {
            "display_name": "hypster-env",
            "language": "python",
            "name": "python3"
        },
        "language_info": {
            "codemirror_mode": {
                "name": "ipython",
                "version": 3
            },
            "file_extension": ".py",
            "mimetype": "text/x-python",
            "name": "python",
            "nbconvert_exporter": "python",
            "pygments_lexer": "ipython3",
            "version": "3.10.14"
        },
        "orig_nbformat": 4
    },
    "nbformat": 4,
    "nbformat_minor": 2
}
