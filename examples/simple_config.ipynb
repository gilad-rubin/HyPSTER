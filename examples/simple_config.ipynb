{
 "cells": [
  {
   "cell_type": "code",
   "execution_count": 1,
   "metadata": {},
   "outputs": [],
   "source": [
    "%load_ext autoreload\n",
    "%autoreload 2"
   ]
  },
  {
   "cell_type": "code",
   "execution_count": 46,
   "metadata": {},
   "outputs": [],
   "source": [
    "# Usage\n",
    "import hypster\n",
    "from hypster import HP\n",
    "\n",
    "@hypster.config\n",
    "def my_config(hp: HP):\n",
    "    a = hp.select([\"a\", \"b\", \"c\"], default=\"a\")\n",
    "    b = hp.select({\"x\": 1, \"y\": 2}, name=\"b\", default=\"x\")\n",
    "    c = hp.text_input(\"ette\")\n",
    "    conf = {\"a\" : a}\n",
    "    d = hp.number_input(4)"
   ]
  },
  {
   "cell_type": "code",
   "execution_count": 47,
   "metadata": {},
   "outputs": [],
   "source": [
    "res, snp = my_config(selections={\"a\":\"c\"}, return_config_snapshot=True)#, overrides={\"c\" : 3, \"d\" : 4})"
   ]
  },
  {
   "cell_type": "code",
   "execution_count": 49,
   "metadata": {},
   "outputs": [
    {
     "data": {
      "text/plain": [
       "{'a': 'c', 'b': 1, 'c': 'ette', 'conf': {'a': 'c'}, 'd': 4}"
      ]
     },
     "execution_count": 49,
     "metadata": {},
     "output_type": "execute_result"
    }
   ],
   "source": [
    "res"
   ]
  },
  {
   "cell_type": "code",
   "execution_count": 48,
   "metadata": {},
   "outputs": [
    {
     "data": {
      "text/plain": [
       "{'a': 'c', 'b': 1, 'c': 'ette', 'd': 4}"
      ]
     },
     "execution_count": 48,
     "metadata": {},
     "output_type": "execute_result"
    }
   ],
   "source": [
    "snp"
   ]
  },
  {
   "cell_type": "code",
   "execution_count": 50,
   "metadata": {},
   "outputs": [
    {
     "data": {
      "text/plain": [
       "True"
      ]
     },
     "execution_count": 50,
     "metadata": {},
     "output_type": "execute_result"
    }
   ],
   "source": [
    "res == my_config(overrides=snp)#, overrides={\"c\" : 3, \"d\" : 4})"
   ]
  },
  {
   "cell_type": "code",
   "execution_count": 51,
   "metadata": {},
   "outputs": [],
   "source": [
    "hypster.save(my_config, \"my_config.py\")"
   ]
  },
  {
   "cell_type": "code",
   "execution_count": 52,
   "metadata": {},
   "outputs": [],
   "source": [
    "func = hypster.load(\"my_config.py\")"
   ]
  },
  {
   "cell_type": "code",
   "execution_count": 53,
   "metadata": {},
   "outputs": [],
   "source": [
    "import hypster\n",
    "from hypster import HP\n",
    "\n",
    "@hypster.config\n",
    "def my_config_parent(hp: HP):\n",
    "    import hypster\n",
    "    my_config = hypster.load(\"my_config.py\")\n",
    "    my_conf = hp.propagate(my_config)\n",
    "    a = hp.select([\"a\", \"b\", \"c\"], default=\"a\")\n",
    "    c = hp.select({\"x\": 1, \"y\": 2}, default=\"x\")"
   ]
  },
  {
   "cell_type": "code",
   "execution_count": 54,
   "metadata": {},
   "outputs": [],
   "source": [
    "result, snp = my_config_parent(final_vars=[], overrides={\"my_conf.a\": \"44\"}, return_config_snapshot=True)"
   ]
  },
  {
   "cell_type": "code",
   "execution_count": 55,
   "metadata": {},
   "outputs": [
    {
     "data": {
      "text/plain": [
       "{'my_config': <hypster.core.Hypster at 0x2450d756bf0>,\n",
       " 'my_conf': {'a': '44', 'b': 1, 'c': 'ette', 'conf': {'a': '44'}, 'd': 4},\n",
       " 'a': 'a',\n",
       " 'c': 1}"
      ]
     },
     "execution_count": 55,
     "metadata": {},
     "output_type": "execute_result"
    }
   ],
   "source": [
    "result"
   ]
  },
  {
   "cell_type": "code",
   "execution_count": 56,
   "metadata": {},
   "outputs": [
    {
     "data": {
      "text/plain": [
       "{'my_conf.a': '44',\n",
       " 'my_conf.b': 1,\n",
       " 'my_conf.c': 'ette',\n",
       " 'my_conf.d': 4,\n",
       " 'a': 'a',\n",
       " 'c': 1}"
      ]
     },
     "execution_count": 56,
     "metadata": {},
     "output_type": "execute_result"
    }
   ],
   "source": [
    "snp"
   ]
  },
  {
   "cell_type": "code",
   "execution_count": 57,
   "metadata": {},
   "outputs": [
    {
     "data": {
      "text/plain": [
       "{'my_config': <hypster.core.Hypster at 0x2450d756cb0>,\n",
       " 'my_conf': {'a': '44', 'b': 1, 'c': 'ette', 'conf': {'a': '44'}, 'd': 4},\n",
       " 'a': 'a',\n",
       " 'c': 1}"
      ]
     },
     "execution_count": 57,
     "metadata": {},
     "output_type": "execute_result"
    }
   ],
   "source": [
    "my_config_parent(overrides=snp)"
   ]
  },
  {
   "cell_type": "code",
   "execution_count": 60,
   "metadata": {},
   "outputs": [],
   "source": [
    "hypster.save(my_config, \"my_config.py\")"
   ]
  },
  {
   "cell_type": "code",
   "execution_count": 61,
   "metadata": {},
   "outputs": [],
   "source": [
    "loaded_config = hypster.load(\"my_config.py\")"
   ]
  },
  {
   "cell_type": "code",
   "execution_count": 62,
   "metadata": {},
   "outputs": [],
   "source": [
    "result = loaded_config(final_vars=[\"a\"], selections={\"b\": \"y\"}, overrides={\"a\": \"c\"})"
   ]
  },
  {
   "cell_type": "code",
   "execution_count": 63,
   "metadata": {},
   "outputs": [
    {
     "data": {
      "text/plain": [
       "<hypster.core.Hypster at 0x1ffeab1d210>"
      ]
     },
     "execution_count": 63,
     "metadata": {},
     "output_type": "execute_result"
    }
   ],
   "source": [
    "loaded_config"
   ]
  },
  {
   "cell_type": "code",
   "execution_count": 64,
   "metadata": {},
   "outputs": [
    {
     "data": {
      "text/plain": [
       "{'a': 'c'}"
      ]
     },
     "execution_count": 64,
     "metadata": {},
     "output_type": "execute_result"
    }
   ],
   "source": [
    "result"
   ]
  },
  {
   "cell_type": "code",
   "execution_count": null,
   "metadata": {},
   "outputs": [],
   "source": [
    "result = loaded_config(final_vars=[\"a\"], selections={\"b\": \"y\"}, overrides={\"a\": \"c\"})\n",
    "print(result)"
   ]
  },
  {
   "cell_type": "code",
   "execution_count": 2,
   "metadata": {},
   "outputs": [],
   "source": [
    "from hypster import hypster\n",
    "\n",
    "@hypster\n",
    "def test(hp):\n",
    "    a = hp.select([\"a\", \"b\", \"c\"], default=\"a\")\n",
    "    b = hp.select({\"a\" : \"hello\", \"b\" : \"world\"}, default=\"a\")"
   ]
  },
  {
   "cell_type": "code",
   "execution_count": 3,
   "metadata": {},
   "outputs": [],
   "source": [
    "res = test(final_vars = [\"a\", \"b\"], selections={\"a\" : \"c\"}, overrides = {\"b\" : \"heyyy\"})"
   ]
  },
  {
   "cell_type": "code",
   "execution_count": 4,
   "metadata": {},
   "outputs": [
    {
     "data": {
      "text/plain": [
       "{'a': 'a', 'b': 'hello'}"
      ]
     },
     "execution_count": 4,
     "metadata": {},
     "output_type": "execute_result"
    }
   ],
   "source": [
    "res"
   ]
  },
  {
   "cell_type": "code",
   "execution_count": null,
   "metadata": {},
   "outputs": [],
   "source": []
  },
  {
   "cell_type": "code",
   "execution_count": 4,
   "metadata": {},
   "outputs": [
    {
     "name": "stdout",
     "output_type": "stream",
     "text": [
      "Writing configs.py\n"
     ]
    }
   ],
   "source": [
    "%%writefile configs.py\n",
    "from hypster import Select, prep\n",
    "from dataclasses import dataclass\n",
    "\n",
    "class CacheInterface:\n",
    "    pass\n",
    "\n",
    "class DiskCache(CacheInterface):\n",
    "    def __init__(self, path, cache_op: str):\n",
    "        self.path = path\n",
    "        self.cache_op = cache_op\n",
    "\n",
    "class MemoryCache(CacheInterface):\n",
    "    def __init__(self, max_size, cache_op: str):\n",
    "        self.max_size = max_size\n",
    "        self.cache_op = cache_op\n",
    "\n",
    "class SqlCache(CacheInterface):\n",
    "    def __init__(self, conn_str, table):\n",
    "        self.conn_str = conn_str\n",
    "        self.table = table\n",
    "\n",
    "@dataclass\n",
    "class CacheManager:\n",
    "    cache: CacheInterface\n",
    "\n",
    "cache_manager = prep(CacheManager(cache=Select(\"cache\"))) #this can also be None\n",
    "\n",
    "\n",
    "cache_op = \"all\"\n",
    "\n",
    "max_size = 1000\n",
    "cache__mem = prep(MemoryCache(max_size=max_size, cache_op=cache_op))\n",
    "\n",
    "path = \"data/cache\"\n",
    "cache__disk = prep(DiskCache(path=path, cache_op=cache_op))\n",
    "\n",
    "cache__new = prep(SqlCache(conn_str=\"sqlite:///data/cache.db\", \n",
    "                           table=\"cache\"))\n",
    "\n",
    "class OpenAiDriver:\n",
    "    def __init__(self, model):\n",
    "        self.model = model\n",
    "\n",
    "class AnthropicDriver:\n",
    "    def __init__(self, model):\n",
    "        self.model = model\n",
    "\n",
    "llm_driver = Select(\"llm_driver\")\n",
    "llm_driver__openai = prep(OpenAiDriver(model=\"gpt3.5\"))\n",
    "llm_driver__anthropic = prep(AnthropicDriver(model=\"claude3.5\"))"
   ]
  },
  {
   "cell_type": "code",
   "execution_count": 10,
   "metadata": {},
   "outputs": [
    {
     "name": "stdout",
     "output_type": "stream",
     "text": [
      "The autoreload extension is already loaded. To reload it, use:\n",
      "  %reload_ext autoreload\n"
     ]
    }
   ],
   "source": [
    "%load_ext autoreload"
   ]
  },
  {
   "cell_type": "code",
   "execution_count": 11,
   "metadata": {},
   "outputs": [],
   "source": [
    "%autoreload 2"
   ]
  },
  {
   "cell_type": "code",
   "execution_count": 17,
   "metadata": {},
   "outputs": [],
   "source": [
    "from hypster import Builder\n",
    "import configs\n",
    "\n",
    "builder = Builder().with_modules(configs)\n",
    "driver = builder.build()\n"
   ]
  },
  {
   "cell_type": "code",
   "execution_count": 18,
   "metadata": {},
   "outputs": [
    {
     "name": "stdout",
     "output_type": "stream",
     "text": [
      "\n",
      "Configuration tree:\n",
      "└── root (root)\n",
      "    ├── cache_manager (CacheManager)\n",
      "    │   └── cache (Select): cache\n",
      "    │       ├── mem (MemoryCache)\n",
      "    │       │   ├── max_size (reference): 1000\n",
      "    │       │   └── cache_op (reference): all\n",
      "    │       ├── disk (DiskCache)\n",
      "    │       │   ├── path (reference): data/cache\n",
      "    │       │   └── cache_op (reference) [SHARED]\n",
      "    │       └── new (SqlCache)\n",
      "    │           ├── conn_str (value): sqlite:///data/cache.db\n",
      "    │           └── table (value): cache\n",
      "    └── llm_driver (Select): llm_driver\n",
      "        ├── openai (OpenAiDriver)\n",
      "        │   └── model (value): gpt3.5\n",
      "        └── anthropic (AnthropicDriver)\n",
      "            └── model (value) [SHARED]\n",
      "\n"
     ]
    }
   ],
   "source": [
    "# Visualize configuration tree\n",
    "from hypster import visualize_config_tree\n",
    "print(\"\\nConfiguration tree:\")\n",
    "print(visualize_config_tree(driver.root))"
   ]
  },
  {
   "cell_type": "code",
   "execution_count": 34,
   "metadata": {},
   "outputs": [],
   "source": [
    "final_vars = [\"cache_manager\", \"llm_driver\"]\n",
    "selections = {\"llm_driver\": \"anthropic\", \n",
    "              \"cache_manager.cache\": \"disk\"}\n",
    "overrides = {\"llm_driver.anthropic.model\": \"claude3-opus\"}\n",
    "results = driver.instantiate(final_vars, selections, overrides)"
   ]
  },
  {
   "cell_type": "code",
   "execution_count": 35,
   "metadata": {},
   "outputs": [
    {
     "data": {
      "text/plain": [
       "'data/cache'"
      ]
     },
     "execution_count": 35,
     "metadata": {},
     "output_type": "execute_result"
    }
   ],
   "source": [
    "results[\"cache_manager\"].cache.path"
   ]
  },
  {
   "cell_type": "code",
   "execution_count": 36,
   "metadata": {},
   "outputs": [
    {
     "name": "stdout",
     "output_type": "stream",
     "text": [
      "\n",
      "Configuration tree:\n",
      "└── root (root)\n",
      "    ├── cache_manager (CacheManager)\n",
      "    │   └── cache (Select): cache\n",
      "    │       └── disk (DiskCache)\n",
      "    │           ├── path (reference): data/cache\n",
      "    │           └── cache_op (reference): all\n",
      "    ├── llm_driver (Select): llm_driver\n",
      "    │   ├── openai (OpenAiDriver)\n",
      "    │   │   └── model (value): gpt3.5\n",
      "    │   └── anthropic (AnthropicDriver)\n",
      "    │       └── model (value) [SHARED]\n",
      "    ├── mem (MemoryCache)\n",
      "    │   ├── max_size (reference): 1000\n",
      "    │   └── cache_op (reference) [SHARED]\n",
      "    ├── disk (DiskCache) [SHARED]\n",
      "    └── new (SqlCache)\n",
      "        ├── conn_str (value): sqlite:///data/cache.db\n",
      "        └── table (value): cache\n",
      "\n"
     ]
    }
   ],
   "source": [
    "# Visualize configuration tree\n",
    "from hypster import visualize_config_tree\n",
    "print(\"\\nConfiguration tree:\")\n",
    "print(visualize_config_tree(driver.root))"
   ]
  },
  {
   "cell_type": "code",
   "execution_count": null,
   "metadata": {},
   "outputs": [],
   "source": []
  }
 ],
 "metadata": {
  "kernelspec": {
   "display_name": "ml-env",
   "language": "python",
   "name": "python3"
  },
  "language_info": {
   "codemirror_mode": {
    "name": "ipython",
    "version": 3
   },
   "file_extension": ".py",
   "mimetype": "text/x-python",
   "name": "python",
   "nbconvert_exporter": "python",
   "pygments_lexer": "ipython3",
   "version": "3.10.14"
  },
  "orig_nbformat": 4
 },
 "nbformat": 4,
 "nbformat_minor": 2
}
