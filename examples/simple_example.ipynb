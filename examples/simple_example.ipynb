{
 "cells": [
  {
   "cell_type": "code",
   "execution_count": 1,
   "metadata": {},
   "outputs": [],
   "source": [
    "import sklearn\n",
    "import pandas as pd\n",
    "import numpy as np"
   ]
  },
  {
   "cell_type": "code",
   "execution_count": 2,
   "metadata": {},
   "outputs": [],
   "source": [
    "from sklearn.datasets import fetch_openml\n",
    "from sklearn.model_selection import train_test_split"
   ]
  },
  {
   "cell_type": "code",
   "execution_count": 7,
   "metadata": {},
   "outputs": [
    {
     "ename": "ValueError",
     "evalue": "attempted relative import beyond top-level package",
     "output_type": "error",
     "traceback": [
      "\u001b[1;31m---------------------------------------------------------------------------\u001b[0m",
      "\u001b[1;31mValueError\u001b[0m                                Traceback (most recent call last)",
      "\u001b[1;32m<ipython-input-7-df9c91060ac9>\u001b[0m in \u001b[0;36m<module>\u001b[1;34m\u001b[0m\n\u001b[1;32m----> 1\u001b[1;33m \u001b[1;32mfrom\u001b[0m \u001b[1;33m.\u001b[0m\u001b[1;33m.\u001b[0m\u001b[0mhypster\u001b[0m\u001b[1;33m.\u001b[0m\u001b[0mcore\u001b[0m \u001b[1;32mimport\u001b[0m \u001b[0mHyPSTERClassifier\u001b[0m\u001b[1;33m,\u001b[0m \u001b[0mHyPSTERRegressor\u001b[0m\u001b[1;33m\u001b[0m\u001b[1;33m\u001b[0m\u001b[0m\n\u001b[0m",
      "\u001b[1;31mValueError\u001b[0m: attempted relative import beyond top-level package"
     ]
    }
   ],
   "source": [
    "from hypster import HyPSTERClassifier, HyPSTERRegressor"
   ]
  },
  {
   "cell_type": "code",
   "execution_count": 7,
   "metadata": {},
   "outputs": [
    {
     "ename": "ModuleNotFoundError",
     "evalue": "No module named 'hypster'",
     "output_type": "error",
     "traceback": [
      "\u001b[1;31m---------------------------------------------------------------------------\u001b[0m",
      "\u001b[1;31mModuleNotFoundError\u001b[0m                       Traceback (most recent call last)",
      "\u001b[1;32m<ipython-input-7-1b6916cc9685>\u001b[0m in \u001b[0;36m<module>\u001b[1;34m\u001b[0m\n\u001b[1;32m----> 1\u001b[1;33m \u001b[1;32mfrom\u001b[0m \u001b[0mhypster\u001b[0m\u001b[1;33m.\u001b[0m\u001b[0mhypster\u001b[0m \u001b[1;32mimport\u001b[0m \u001b[0mHyPSTERClassifier\u001b[0m\u001b[1;33m,\u001b[0m \u001b[0mHyPSTERRegressor\u001b[0m\u001b[1;33m\u001b[0m\u001b[1;33m\u001b[0m\u001b[0m\n\u001b[0m\u001b[0;32m      2\u001b[0m \u001b[1;32mfrom\u001b[0m \u001b[0mhypster\u001b[0m\u001b[1;33m.\u001b[0m\u001b[0mhypster_xgboost\u001b[0m \u001b[1;32mimport\u001b[0m \u001b[0mXGBClassifierHypster\u001b[0m\u001b[1;33m,\u001b[0m \u001b[0mXGBRegressorHypster\u001b[0m\u001b[1;33m\u001b[0m\u001b[1;33m\u001b[0m\u001b[0m\n",
      "\u001b[1;31mModuleNotFoundError\u001b[0m: No module named 'hypster'"
     ]
    }
   ],
   "source": [
    "from hypster.hypster_xgboost import XGBClassifierHypster, XGBRegressorHypster"
   ]
  },
  {
   "cell_type": "code",
   "execution_count": 4,
   "metadata": {},
   "outputs": [],
   "source": [
    "SEED = 42"
   ]
  },
  {
   "cell_type": "code",
   "execution_count": 5,
   "metadata": {},
   "outputs": [],
   "source": [
    "adult = pd.read_csv(\"./data/adult.csv\")"
   ]
  },
  {
   "cell_type": "code",
   "execution_count": 6,
   "metadata": {},
   "outputs": [],
   "source": [
    "cat_cols = [\"workclass\", \"education\", \"marital-status\", \"occupation\", \"relationship\", \"race\", \"sex\", \"native-country\"]"
   ]
  },
  {
   "cell_type": "code",
   "execution_count": 7,
   "metadata": {},
   "outputs": [],
   "source": [
    "X = adult.drop(\"class\", axis=1).copy()"
   ]
  },
  {
   "cell_type": "code",
   "execution_count": 8,
   "metadata": {},
   "outputs": [],
   "source": [
    "y = adult[\"class\"].copy()"
   ]
  },
  {
   "cell_type": "code",
   "execution_count": 9,
   "metadata": {},
   "outputs": [],
   "source": [
    "X_train, X_test, y_train, y_test = train_test_split(X, y, test_size=0.33, random_state=SEED)"
   ]
  },
  {
   "cell_type": "code",
   "execution_count": 10,
   "metadata": {},
   "outputs": [],
   "source": [
    "xgb_tree = XGBClassifierHypster(booster_list = [\"dart\", \"gbtree\"])\n",
    "xgb_linear = XGBClassifierHypster(booster_list = [\"gblinear\"])"
   ]
  },
  {
   "cell_type": "code",
   "execution_count": 25,
   "metadata": {},
   "outputs": [],
   "source": [
    "estimators = [xgb_tree] #xgb_linear"
   ]
  },
  {
   "cell_type": "code",
   "execution_count": 26,
   "metadata": {},
   "outputs": [],
   "source": [
    "clf = HyPSTERClassifier(estimators, scoring=\"roc_auc\", max_iter=30, n_jobs=-1, random_state=SEED)"
   ]
  },
  {
   "cell_type": "code",
   "execution_count": 27,
   "metadata": {},
   "outputs": [
    {
     "name": "stdout",
     "output_type": "stream",
     "text": [
      "XGBoost Classifier\n",
      "Pipeline(memory=None,\n",
      "         steps=[('cat_encoder',\n",
      "                 Pipeline(memory=None,\n",
      "                          steps=[('ohe',\n",
      "                                  OneHotEncoder(cols=['relationship', 'race',\n",
      "                                                      'sex'],\n",
      "                                                drop_invariant=True,\n",
      "                                                handle_missing='value',\n",
      "                                                handle_unknown='value',\n",
      "                                                return_df=True,\n",
      "                                                use_cat_names=False,\n",
      "                                                verbose=0)),\n",
      "                                 ['target_encoder',\n",
      "                                  TargetEncoder(cols=['workclass', 'education',\n",
      "                                                      'marital-status',\n",
      "                                                      'occupation',\n",
      "                                                      'native-country'],...\n",
      "                                 n_estimators=6, n_jobs=-1,\n",
      "                                 normalize_type='tree', nthread=None,\n",
      "                                 num_parallel_tree=1,\n",
      "                                 objective='binary:logistic', random_state=42,\n",
      "                                 rate_drop=1.0678655035720354e-08,\n",
      "                                 reg_alpha=0.536827609553472,\n",
      "                                 reg_lambda=0.00023395597630640916,\n",
      "                                 sample_type='uniform', scale_pos_weight=1.0,\n",
      "                                 seed=None, silent=True,\n",
      "                                 skip_drop=4.902961648082725e-06,\n",
      "                                 subsample=0.7594349942827461, ...)]],\n",
      "         verbose=False)\n",
      "Score: 0.88317\n",
      "Pipeline(memory=None,\n",
      "         steps=[('cat_encoder',\n",
      "                 Pipeline(memory=None,\n",
      "                          steps=[('ohe',\n",
      "                                  OneHotEncoder(cols=['relationship', 'race',\n",
      "                                                      'sex'],\n",
      "                                                drop_invariant=True,\n",
      "                                                handle_missing='value',\n",
      "                                                handle_unknown='value',\n",
      "                                                return_df=True,\n",
      "                                                use_cat_names=False,\n",
      "                                                verbose=0)),\n",
      "                                 ['woe_encoder',\n",
      "                                  WOEEncoder(cols=['workclass', 'education',\n",
      "                                                   'marital-status',\n",
      "                                                   'occupation',\n",
      "                                                   'native-country'],\n",
      "                                             drop_i...\n",
      "                                 n_estimators=6, n_jobs=-1,\n",
      "                                 normalize_type='tree', nthread=None,\n",
      "                                 num_parallel_tree=1,\n",
      "                                 objective='binary:logistic', random_state=42,\n",
      "                                 rate_drop=5.521972577789056e-06,\n",
      "                                 reg_alpha=6.541417521605949e-09,\n",
      "                                 reg_lambda=2.2750039408137933e-08,\n",
      "                                 sample_type='uniform', scale_pos_weight=1.0,\n",
      "                                 seed=None, silent=True,\n",
      "                                 skip_drop=7.081692632629333e-05,\n",
      "                                 subsample=0.8286870160428313, ...)]],\n",
      "         verbose=False)\n",
      "Score: 0.89806\n",
      "Pipeline(memory=None,\n",
      "         steps=[('cat_encoder',\n",
      "                 Pipeline(memory=None,\n",
      "                          steps=[('ohe',\n",
      "                                  OneHotEncoder(cols=['relationship', 'race',\n",
      "                                                      'sex'],\n",
      "                                                drop_invariant=True,\n",
      "                                                handle_missing='value',\n",
      "                                                handle_unknown='value',\n",
      "                                                return_df=True,\n",
      "                                                use_cat_names=False,\n",
      "                                                verbose=0)),\n",
      "                                 ['woe_encoder',\n",
      "                                  WOEEncoder(cols=['workclass', 'education',\n",
      "                                                   'marital-status',\n",
      "                                                   'occupation',\n",
      "                                                   'native-country'],\n",
      "                                             drop_i...\n",
      "                                 n_estimators=4, n_jobs=-1,\n",
      "                                 normalize_type='tree', nthread=None,\n",
      "                                 num_parallel_tree=3,\n",
      "                                 objective='binary:logistic', random_state=42,\n",
      "                                 rate_drop=0.003468841722910467,\n",
      "                                 reg_alpha=0.02098492177277533,\n",
      "                                 reg_lambda=6.830660636620113e-07,\n",
      "                                 sample_type='weighted', scale_pos_weight=1.0,\n",
      "                                 seed=None, silent=True,\n",
      "                                 skip_drop=0.047963865888113084,\n",
      "                                 subsample=0.6100352481557312, ...)]],\n",
      "         verbose=False)\n",
      "Score: 0.88544\n",
      "Pipeline(memory=None,\n",
      "         steps=[('cat_encoder',\n",
      "                 Pipeline(memory=None,\n",
      "                          steps=[('ohe',\n",
      "                                  OneHotEncoder(cols=['relationship', 'race',\n",
      "                                                      'sex'],\n",
      "                                                drop_invariant=True,\n",
      "                                                handle_missing='value',\n",
      "                                                handle_unknown='value',\n",
      "                                                return_df=True,\n",
      "                                                use_cat_names=False,\n",
      "                                                verbose=0)),\n",
      "                                 ['target_encoder',\n",
      "                                  TargetEncoder(cols=['workclass', 'education',\n",
      "                                                      'marital-status',\n",
      "                                                      'occupation',\n",
      "                                                      'native-country'],...\n",
      "                                 n_estimators=6, n_jobs=-1,\n",
      "                                 normalize_type='tree', nthread=None,\n",
      "                                 num_parallel_tree=2,\n",
      "                                 objective='binary:logistic', random_state=42,\n",
      "                                 rate_drop=2.039350928676986e-06,\n",
      "                                 reg_alpha=0.0027402789982045807,\n",
      "                                 reg_lambda=4.5181194227091665e-05,\n",
      "                                 sample_type='weighted', scale_pos_weight=1.0,\n",
      "                                 seed=None, silent=True,\n",
      "                                 skip_drop=0.011565642371970584,\n",
      "                                 subsample=0.6215842192818022, ...)]],\n",
      "         verbose=False)\n",
      "Score: 0.91285\n",
      "Pipeline(memory=None,\n",
      "         steps=[('cat_encoder',\n",
      "                 Pipeline(memory=None,\n",
      "                          steps=[('ohe',\n",
      "                                  OneHotEncoder(cols=['relationship', 'race',\n",
      "                                                      'sex'],\n",
      "                                                drop_invariant=True,\n",
      "                                                handle_missing='value',\n",
      "                                                handle_unknown='value',\n",
      "                                                return_df=True,\n",
      "                                                use_cat_names=False,\n",
      "                                                verbose=0)),\n",
      "                                 ['target_encoder',\n",
      "                                  TargetEncoder(cols=['workclass', 'education',\n",
      "                                                      'marital-status',\n",
      "                                                      'occupation',\n",
      "                                                      'native-country'],...\n",
      "                                                 0.0003393762125439039],\n",
      "                                 max_delta_step=0, max_depth=14,\n",
      "                                 min_child_weight=9, missing=None,\n",
      "                                 n_estimators=10, n_jobs=-1, nthread=None,\n",
      "                                 num_parallel_tree=1,\n",
      "                                 objective='binary:logistic', random_state=42,\n",
      "                                 reg_alpha=0.021189580940463013,\n",
      "                                 reg_lambda=0.00015874279134224235,\n",
      "                                 scale_pos_weight=3.150158528852251, seed=None,\n",
      "                                 silent=True, subsample=0.6858531453377368,\n",
      "                                 verbosity=1)]],\n",
      "         verbose=False)\n",
      "Score: 0.91084\n",
      "Pipeline(memory=None,\n",
      "         steps=[('cat_encoder',\n",
      "                 Pipeline(memory=None,\n",
      "                          steps=[('ohe',\n",
      "                                  OneHotEncoder(cols=['relationship', 'race',\n",
      "                                                      'sex'],\n",
      "                                                drop_invariant=True,\n",
      "                                                handle_missing='value',\n",
      "                                                handle_unknown='value',\n",
      "                                                return_df=True,\n",
      "                                                use_cat_names=False,\n",
      "                                                verbose=0)),\n",
      "                                 ['target_encoder',\n",
      "                                  TargetEncoder(cols=['workclass', 'education',\n",
      "                                                      'marital-status',\n",
      "                                                      'occupation',\n",
      "                                                      'native-country'],...\n",
      "                                                 0.07647941673807579],\n",
      "                                 max_delta_step=0, max_depth=13,\n",
      "                                 min_child_weight=14, missing=None,\n",
      "                                 n_estimators=29, n_jobs=-1, nthread=None,\n",
      "                                 num_parallel_tree=4,\n",
      "                                 objective='binary:logistic', random_state=42,\n",
      "                                 reg_alpha=0.00017457948374468042,\n",
      "                                 reg_lambda=7.788125248899083e-09,\n",
      "                                 scale_pos_weight=3.150158528852251, seed=None,\n",
      "                                 silent=True, subsample=0.9698227271577997,\n",
      "                                 verbosity=1)]],\n",
      "         verbose=False)\n",
      "Score: 0.92398\n"
     ]
    }
   ],
   "source": [
    "clf.fit(X_train, y_train, cat_cols=cat_cols, n_trials_per_estimator=30)"
   ]
  },
  {
   "cell_type": "code",
   "execution_count": 28,
   "metadata": {},
   "outputs": [
    {
     "data": {
      "text/plain": [
       "0.9239810522364659"
      ]
     },
     "execution_count": 28,
     "metadata": {},
     "output_type": "execute_result"
    }
   ],
   "source": [
    "clf.best_score_"
   ]
  },
  {
   "cell_type": "code",
   "execution_count": 29,
   "metadata": {},
   "outputs": [
    {
     "data": {
      "text/plain": [
       "{'eta': 0.38239708369037895,\n",
       " 'booster': 'gbtree',\n",
       " 'lambda': 7.788125248899083e-09,\n",
       " 'alpha': 0.00017457948374468042,\n",
       " 'scale_pos_weight': 3.150158528852251,\n",
       " 'max_depth': 13,\n",
       " 'min_child_weight': 14,\n",
       " 'gamma': 0.015429451639714922,\n",
       " 'grow_policy': 'lossguide',\n",
       " 'subsample': 0.9698227271577997,\n",
       " 'colsample_bytree': 0.5113686665776896,\n",
       " 'colsample_bynode': 0.5033992727511667,\n",
       " 'forest_boosting': True,\n",
       " 'num_parallel_tree': 4,\n",
       " 'cat_enc_type': 'target'}"
      ]
     },
     "execution_count": 29,
     "metadata": {},
     "output_type": "execute_result"
    }
   ],
   "source": [
    "clf.best_params_"
   ]
  },
  {
   "cell_type": "code",
   "execution_count": 30,
   "metadata": {},
   "outputs": [],
   "source": [
    "preds = clf.predict_proba(X_test)"
   ]
  },
  {
   "cell_type": "code",
   "execution_count": 31,
   "metadata": {},
   "outputs": [
    {
     "data": {
      "text/plain": [
       "0.930470326467036"
      ]
     },
     "execution_count": 31,
     "metadata": {},
     "output_type": "execute_result"
    }
   ],
   "source": [
    "sklearn.metrics.roc_auc_score(y_test, preds[:,1])"
   ]
  },
  {
   "cell_type": "code",
   "execution_count": null,
   "metadata": {},
   "outputs": [],
   "source": []
  },
  {
   "cell_type": "code",
   "execution_count": null,
   "metadata": {},
   "outputs": [],
   "source": []
  }
 ],
 "metadata": {
  "kernelspec": {
   "display_name": "Python 3",
   "language": "python",
   "name": "python3"
  },
  "language_info": {
   "codemirror_mode": {
    "name": "ipython",
    "version": 3
   },
   "file_extension": ".py",
   "mimetype": "text/x-python",
   "name": "python",
   "nbconvert_exporter": "python",
   "pygments_lexer": "ipython3",
   "version": "3.7.3"
  }
 },
 "nbformat": 4,
 "nbformat_minor": 4
}
