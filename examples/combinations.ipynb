{
    "cells": [
        {
            "cell_type": "code",
            "execution_count": 1,
            "metadata": {},
            "outputs": [],
            "source": [
                "from hypster import HP, config, save\n",
                "\n",
                "\n",
                "@config\n",
                "def config_func(hp: HP):\n",
                "    import os\n",
                "\n",
                "    e = os.getcwd()\n",
                "    a = hp.select({1: \"h\", 2: \"v\"})\n",
                "    if a == \"h\":\n",
                "        b = hp.select({\"a\": 1, \"b\": 2}, default=\"a\")\n",
                "        c = hp.select([4, 5])\n",
                "    else:\n",
                "        b = hp.select([1, 3])\n",
                "\n",
                "\n",
                "save(config_func, \"config_func.py\")"
            ]
        },
        {
            "cell_type": "code",
            "execution_count": 2,
            "metadata": {},
            "outputs": [],
            "source": [
                "@config\n",
                "def parent_func(hp: HP):\n",
                "    import hypster\n",
                "\n",
                "    var3 = hp.select([\"c\", \"d\"], default=\"c\")\n",
                "    config_func = hypster.load(\"config_func.py\")\n",
                "    config_func_results = hp.propagate(config_func, name=\"nested\")"
            ]
        },
        {
            "cell_type": "code",
            "execution_count": 3,
            "metadata": {},
            "outputs": [
                {
                    "data": {
                        "text/plain": [
                            "[{'a': 1, 'b': 'a', 'c': 4},\n",
                            " {'a': 1, 'b': 'a', 'c': 5},\n",
                            " {'a': 1, 'b': 'b', 'c': 4},\n",
                            " {'a': 1, 'b': 'b', 'c': 5},\n",
                            " {'a': 2, 'b': 1},\n",
                            " {'a': 2, 'b': 3}]"
                        ]
                    },
                    "execution_count": 3,
                    "metadata": {},
                    "output_type": "execute_result"
                }
            ],
            "source": [
                "config_func.get_combinations()"
            ]
        },
        {
            "cell_type": "code",
            "execution_count": 4,
            "metadata": {},
            "outputs": [],
            "source": [
                "combinations = parent_func.get_combinations()"
            ]
        },
        {
            "cell_type": "code",
            "execution_count": 5,
            "metadata": {},
            "outputs": [
                {
                    "data": {
                        "text/plain": [
                            "[{'var3': 'c', 'nested.a': 1, 'nested.b': 'a', 'nested.c': 4},\n",
                            " {'var3': 'c', 'nested.a': 1, 'nested.b': 'a', 'nested.c': 5},\n",
                            " {'var3': 'c', 'nested.a': 1, 'nested.b': 'b', 'nested.c': 4},\n",
                            " {'var3': 'c', 'nested.a': 1, 'nested.b': 'b', 'nested.c': 5},\n",
                            " {'var3': 'c', 'nested.a': 2, 'nested.b': 1},\n",
                            " {'var3': 'c', 'nested.a': 2, 'nested.b': 3},\n",
                            " {'var3': 'd', 'nested.a': 1, 'nested.b': 'a', 'nested.c': 4},\n",
                            " {'var3': 'd', 'nested.a': 1, 'nested.b': 'a', 'nested.c': 5},\n",
                            " {'var3': 'd', 'nested.a': 1, 'nested.b': 'b', 'nested.c': 4},\n",
                            " {'var3': 'd', 'nested.a': 1, 'nested.b': 'b', 'nested.c': 5},\n",
                            " {'var3': 'd', 'nested.a': 2, 'nested.b': 1},\n",
                            " {'var3': 'd', 'nested.a': 2, 'nested.b': 3}]"
                        ]
                    },
                    "execution_count": 5,
                    "metadata": {},
                    "output_type": "execute_result"
                }
            ],
            "source": [
                "combinations"
            ]
        },
        {
            "cell_type": "code",
            "execution_count": 7,
            "metadata": {},
            "outputs": [],
            "source": [
                "from hypster import query_combinations"
            ]
        },
        {
            "cell_type": "code",
            "execution_count": 8,
            "metadata": {},
            "outputs": [
                {
                    "data": {
                        "text/plain": [
                            "[{'var3': 'c', 'nested.a': 1, 'nested.b': 'a', 'nested.c': 5},\n",
                            " {'var3': 'c', 'nested.a': 1, 'nested.b': 'b', 'nested.c': 5}]"
                        ]
                    },
                    "execution_count": 8,
                    "metadata": {},
                    "output_type": "execute_result"
                }
            ],
            "source": [
                "query_combinations(combinations, {\"nested.c\": 5, \"var3\": \"c\"})"
            ]
        },
        {
            "cell_type": "code",
            "execution_count": 10,
            "metadata": {},
            "outputs": [],
            "source": [
                "from hypster import HP, config, save\n",
                "\n",
                "\n",
                "@config\n",
                "def model_config(hp: HP):\n",
                "    model_type = hp.select([\"cnn\", \"rnn\"], default=\"cnn\")\n",
                "    if model_type == \"cnn\":\n",
                "        num_layers = hp.select([3, 5], default=3)\n",
                "    else:\n",
                "        cell_type = hp.select([\"lstm\", \"gru\"], default=\"lstm\")\n",
                "\n",
                "    learning_rate = hp.number(default=0.001)\n",
                "\n",
                "\n",
                "save(model_config, \"model_config.py\")"
            ]
        },
        {
            "cell_type": "code",
            "execution_count": 11,
            "metadata": {},
            "outputs": [
                {
                    "data": {
                        "text/plain": [
                            "[{'model_type': 'cnn', 'num_layers': 3},\n",
                            " {'model_type': 'cnn', 'num_layers': 5},\n",
                            " {'model_type': 'rnn', 'cell_type': 'lstm'},\n",
                            " {'model_type': 'rnn', 'cell_type': 'gru'}]"
                        ]
                    },
                    "execution_count": 11,
                    "metadata": {},
                    "output_type": "execute_result"
                }
            ],
            "source": [
                "combinations = model_config.get_combinations()\n",
                "combinations"
            ]
        },
        {
            "cell_type": "code",
            "execution_count": null,
            "metadata": {},
            "outputs": [],
            "source": []
        }
    ],
    "metadata": {
        "kernelspec": {
            "display_name": "hypster-env",
            "language": "python",
            "name": "python3"
        },
        "language_info": {
            "codemirror_mode": {
                "name": "ipython",
                "version": 3
            },
            "file_extension": ".py",
            "mimetype": "text/x-python",
            "name": "python",
            "nbconvert_exporter": "python",
            "pygments_lexer": "ipython3",
            "version": "3.10.14"
        }
    },
    "nbformat": 4,
    "nbformat_minor": 2
}
