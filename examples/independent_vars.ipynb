{
 "cells": [
  {
   "cell_type": "code",
   "execution_count": 2,
   "metadata": {},
   "outputs": [
    {
     "name": "stdout",
     "output_type": "stream",
     "text": [
      "Independent variables: ['c', 'd', 'b']\n"
     ]
    }
   ],
   "source": [
    "# %% [markdown]\n",
    "# # Testing Hypster with Independent and Dependent Variables\n",
    "\n",
    "# %%\n",
    "from hypster import config, HP\n",
    "from hypster.core import Hypster\n",
    "from hypster.ast_analyzer import analyze_hp_calls, inject_names_to_source_code\n",
    "\n",
    "# %% [markdown]\n",
    "# ## Test Case 1: Basic Configuration\n",
    "\n",
    "# %%\n",
    "@config\n",
    "def test_config(hp: HP):\n",
    "    a = hp.select([1, 2])\n",
    "    b = hp.select([3, 4])\n",
    "    \n",
    "    if a == 2:\n",
    "        c = hp.select([5, 6])\n",
    "        d = hp.select([7, 8])\n",
    "    else:\n",
    "        c = hp.select([3, 5])\n",
    "        f = hp.text_input(\"ss\")\n",
    "    \n",
    "print(\"Independent variables:\", test_config.independent_select_calls)"
   ]
  },
  {
   "cell_type": "code",
   "execution_count": 3,
   "metadata": {},
   "outputs": [],
   "source": [
    "from hypster import config, HP\n",
    "\n",
    "@config\n",
    "def config_func(hp: HP):\n",
    "    var1 = hp.select([\"a\", \"b\"], default=\"a\")\n",
    "    var2 = hp.number_input(10)"
   ]
  },
  {
   "cell_type": "code",
   "execution_count": 4,
   "metadata": {},
   "outputs": [
    {
     "data": {
      "text/plain": [
       "{'var1': 'a', 'var2': 10}"
      ]
     },
     "execution_count": 4,
     "metadata": {},
     "output_type": "execute_result"
    }
   ],
   "source": [
    "config_func()"
   ]
  },
  {
   "cell_type": "code",
   "execution_count": 9,
   "metadata": {},
   "outputs": [
    {
     "name": "stdout",
     "output_type": "stream",
     "text": [
      "Independent variables: ['layers', 'cell_type', 'num_heads', 'filters', 'units']\n"
     ]
    }
   ],
   "source": [
    "@config\n",
    "def complex_config(hp: HP):\n",
    "    model = hp.select([\"CNN\", \"RNN\", \"Transformer\"])\n",
    "    \n",
    "    if model == \"CNN\":\n",
    "        layers = hp.select([2, 3, 4])\n",
    "        filters = hp.select([32, 64, 128])\n",
    "    elif model == \"RNN\":\n",
    "        cell_type = hp.select([\"LSTM\", \"GRU\"])\n",
    "        units = hp.select([50, 100, 200])\n",
    "    else:\n",
    "        num_heads = hp.select([4, 8])\n",
    "        ff_dim = hp.select([256, 512])\n",
    "    \n",
    "    learning_rate = hp.select([0.001, 0.01, 0.1])\n",
    "    config = {\"learning_rate\": learning_rate}\n",
    "    if ff_dim:\n",
    "         print(\"hellll\")\n",
    "    \n",
    "print(\"Independent variables:\", complex_config.independent_select_calls)"
   ]
  }
 ],
 "metadata": {
  "kernelspec": {
   "display_name": "hypster-env",
   "language": "python",
   "name": "python3"
  },
  "language_info": {
   "codemirror_mode": {
    "name": "ipython",
    "version": 3
   },
   "file_extension": ".py",
   "mimetype": "text/x-python",
   "name": "python",
   "nbconvert_exporter": "python",
   "pygments_lexer": "ipython3",
   "version": "3.10.14"
  }
 },
 "nbformat": 4,
 "nbformat_minor": 2
}
