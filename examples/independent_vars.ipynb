{
 "cells": [
  {
   "cell_type": "code",
   "execution_count": 2,
   "metadata": {},
   "outputs": [
    {
     "name": "stdout",
     "output_type": "stream",
     "text": [
      "Independent variables: ['c', 'd', 'b']\n"
     ]
    }
   ],
   "source": [
    "# %% [markdown]\n",
    "# # Testing Hypster with Independent and Dependent Variables\n",
    "\n",
    "# %%\n",
    "from hypster import config, HP\n",
    "from hypster.core import Hypster\n",
    "from hypster.ast_analyzer import analyze_hp_calls, inject_names_to_source_code\n",
    "\n",
    "# %% [markdown]\n",
    "# ## Test Case 1: Basic Configuration\n",
    "\n",
    "# %%\n",
    "@config\n",
    "def test_config(hp: HP):\n",
    "    a = hp.select([1, 2])\n",
    "    b = hp.select([3, 4])\n",
    "    \n",
    "    if a == 2:\n",
    "        c = hp.select([5, 6])\n",
    "        d = hp.select([7, 8])\n",
    "    else:\n",
    "        c = hp.select([3, 5])\n",
    "        f = hp.text_input(\"ss\")\n",
    "    \n",
    "print(\"Independent variables:\", test_config.independent_select_calls)"
   ]
  },
  {
   "cell_type": "code",
   "execution_count": 3,
   "metadata": {},
   "outputs": [],
   "source": [
    "from hypster import config, HP\n",
    "\n",
    "@config\n",
    "def config_func(hp: HP):\n",
    "    var1 = hp.select([\"a\", \"b\"], default=\"a\")\n",
    "    var2 = hp.number_input(10)"
   ]
  },
  {
   "cell_type": "code",
   "execution_count": 4,
   "metadata": {},
   "outputs": [
    {
     "data": {
      "text/plain": [
       "{'var1': 'a', 'var2': 10}"
      ]
     },
     "execution_count": 4,
     "metadata": {},
     "output_type": "execute_result"
    }
   ],
   "source": [
    "config_func()"
   ]
  },
  {
   "cell_type": "code",
   "execution_count": 9,
   "metadata": {},
   "outputs": [
    {
     "name": "stdout",
     "output_type": "stream",
     "text": [
      "Independent variables: ['layers', 'cell_type', 'num_heads', 'filters', 'units']\n"
     ]
    }
   ],
   "source": [
    "@config\n",
    "def complex_config(hp: HP):\n",
    "    model = hp.select([\"CNN\", \"RNN\", \"Transformer\"])\n",
    "    \n",
    "    if model == \"CNN\":\n",
    "        layers = hp.select([2, 3, 4])\n",
    "        filters = hp.select([32, 64, 128])\n",
    "    elif model == \"RNN\":\n",
    "        cell_type = hp.select([\"LSTM\", \"GRU\"])\n",
    "        units = hp.select([50, 100, 200])\n",
    "    else:\n",
    "        num_heads = hp.select([4, 8])\n",
    "        ff_dim = hp.select([256, 512])\n",
    "    \n",
    "    learning_rate = hp.select([0.001, 0.01, 0.1])\n",
    "    config = {\"learning_rate\": learning_rate}\n",
    "    if ff_dim:\n",
    "         print(\"hellll\")\n",
    "    \n",
    "print(\"Independent variables:\", complex_config.independent_select_calls)"
   ]
  },
  {
   "cell_type": "code",
   "execution_count": null,
   "metadata": {},
   "outputs": [],
   "source": []
  },
  {
   "cell_type": "code",
   "execution_count": null,
   "metadata": {},
   "outputs": [
    {
     "ename": "AttributeError",
     "evalue": "'HPCallVisitor' object has no attribute 'current_assignment'",
     "output_type": "error",
     "traceback": [
      "\u001b[1;31m---------------------------------------------------------------------------\u001b[0m",
      "\u001b[1;31mAttributeError\u001b[0m                            Traceback (most recent call last)",
      "Cell \u001b[1;32mIn[5], line 6\u001b[0m\n\u001b[0;32m      1\u001b[0m \u001b[38;5;66;03m# %% [markdown]\u001b[39;00m\n\u001b[0;32m      2\u001b[0m \u001b[38;5;66;03m# ## Test Case 3: Unnamed Calls\u001b[39;00m\n\u001b[0;32m      3\u001b[0m \n\u001b[0;32m      4\u001b[0m \u001b[38;5;66;03m# %%\u001b[39;00m\n\u001b[0;32m      5\u001b[0m \u001b[38;5;129;43m@config\u001b[39;49m\n\u001b[1;32m----> 6\u001b[0m \u001b[38;5;28;43;01mdef\u001b[39;49;00m\u001b[43m \u001b[49m\u001b[38;5;21;43munnamed_config\u001b[39;49m\u001b[43m(\u001b[49m\u001b[43mhp\u001b[49m\u001b[43m)\u001b[49m\u001b[43m:\u001b[49m\n\u001b[0;32m      7\u001b[0m \u001b[43m    \u001b[49m\u001b[43mhp\u001b[49m\u001b[38;5;241;43m.\u001b[39;49m\u001b[43mselect\u001b[49m\u001b[43m(\u001b[49m\u001b[43m[\u001b[49m\u001b[38;5;241;43m1\u001b[39;49m\u001b[43m,\u001b[49m\u001b[43m \u001b[49m\u001b[38;5;241;43m2\u001b[39;49m\u001b[43m]\u001b[49m\u001b[43m)\u001b[49m\n\u001b[0;32m      8\u001b[0m \u001b[43m    \u001b[49m\u001b[43mx\u001b[49m\u001b[43m \u001b[49m\u001b[38;5;241;43m=\u001b[39;49m\u001b[43m \u001b[49m\u001b[43mhp\u001b[49m\u001b[38;5;241;43m.\u001b[39;49m\u001b[43mselect\u001b[49m\u001b[43m(\u001b[49m\u001b[43m[\u001b[49m\u001b[38;5;241;43m3\u001b[39;49m\u001b[43m,\u001b[49m\u001b[43m \u001b[49m\u001b[38;5;241;43m4\u001b[39;49m\u001b[43m]\u001b[49m\u001b[43m,\u001b[49m\u001b[43m \u001b[49m\u001b[43mname\u001b[49m\u001b[38;5;241;43m=\u001b[39;49m\u001b[38;5;124;43m\"\u001b[39;49m\u001b[38;5;124;43mnamed_call\u001b[39;49m\u001b[38;5;124;43m\"\u001b[39;49m\u001b[43m)\u001b[49m\n",
      "File \u001b[1;32mC:\\python_workspace\\hypster\\src\\hypster\\core.py:108\u001b[0m, in \u001b[0;36mconfig\u001b[1;34m(arg, inject_names)\u001b[0m\n\u001b[0;32m    104\u001b[0m     \u001b[38;5;28;01mreturn\u001b[39;00m wrapper()\n\u001b[0;32m    106\u001b[0m \u001b[38;5;28;01mif\u001b[39;00m \u001b[38;5;28mcallable\u001b[39m(arg):\n\u001b[0;32m    107\u001b[0m     \u001b[38;5;66;03m# @config used without arguments\u001b[39;00m\n\u001b[1;32m--> 108\u001b[0m     \u001b[38;5;28;01mreturn\u001b[39;00m \u001b[43mdecorator\u001b[49m\u001b[43m(\u001b[49m\u001b[43marg\u001b[49m\u001b[43m)\u001b[49m\n\u001b[0;32m    109\u001b[0m \u001b[38;5;28;01melse\u001b[39;00m:\n\u001b[0;32m    110\u001b[0m     \u001b[38;5;66;03m# @config(inject_names=True/False)\u001b[39;00m\n\u001b[0;32m    111\u001b[0m     \u001b[38;5;28;01mreturn\u001b[39;00m decorator\n",
      "File \u001b[1;32mC:\\python_workspace\\hypster\\src\\hypster\\core.py:104\u001b[0m, in \u001b[0;36mconfig.<locals>.decorator\u001b[1;34m(func)\u001b[0m\n\u001b[0;32m    101\u001b[0m     namespace \u001b[38;5;241m=\u001b[39m {\u001b[38;5;124m\"\u001b[39m\u001b[38;5;124mHP\u001b[39m\u001b[38;5;124m\"\u001b[39m: HP}\n\u001b[0;32m    102\u001b[0m     \u001b[38;5;28;01mreturn\u001b[39;00m Hypster(config_body, namespace, inject_names\u001b[38;5;241m=\u001b[39minject_names)\n\u001b[1;32m--> 104\u001b[0m \u001b[38;5;28;01mreturn\u001b[39;00m \u001b[43mwrapper\u001b[49m\u001b[43m(\u001b[49m\u001b[43m)\u001b[49m\n",
      "File \u001b[1;32mC:\\python_workspace\\hypster\\src\\hypster\\core.py:102\u001b[0m, in \u001b[0;36mconfig.<locals>.decorator.<locals>.wrapper\u001b[1;34m()\u001b[0m\n\u001b[0;32m    100\u001b[0m config_body \u001b[38;5;241m=\u001b[39m find_hp_function_body(source_code)\n\u001b[0;32m    101\u001b[0m namespace \u001b[38;5;241m=\u001b[39m {\u001b[38;5;124m\"\u001b[39m\u001b[38;5;124mHP\u001b[39m\u001b[38;5;124m\"\u001b[39m: HP}\n\u001b[1;32m--> 102\u001b[0m \u001b[38;5;28;01mreturn\u001b[39;00m \u001b[43mHypster\u001b[49m\u001b[43m(\u001b[49m\u001b[43mconfig_body\u001b[49m\u001b[43m,\u001b[49m\u001b[43m \u001b[49m\u001b[43mnamespace\u001b[49m\u001b[43m,\u001b[49m\u001b[43m \u001b[49m\u001b[43minject_names\u001b[49m\u001b[38;5;241;43m=\u001b[39;49m\u001b[43minject_names\u001b[49m\u001b[43m)\u001b[49m\n",
      "File \u001b[1;32mC:\\python_workspace\\hypster\\src\\hypster\\core.py:19\u001b[0m, in \u001b[0;36mHypster.__init__\u001b[1;34m(self, source_code, namespace, inject_names)\u001b[0m\n\u001b[0;32m     17\u001b[0m \u001b[38;5;28mself\u001b[39m\u001b[38;5;241m.\u001b[39msource_code \u001b[38;5;241m=\u001b[39m source_code\n\u001b[0;32m     18\u001b[0m \u001b[38;5;28mself\u001b[39m\u001b[38;5;241m.\u001b[39mnamespace \u001b[38;5;241m=\u001b[39m namespace\n\u001b[1;32m---> 19\u001b[0m \u001b[38;5;28mself\u001b[39m\u001b[38;5;241m.\u001b[39mhp_calls \u001b[38;5;241m=\u001b[39m \u001b[43mcollect_hp_calls\u001b[49m\u001b[43m(\u001b[49m\u001b[38;5;28;43mself\u001b[39;49m\u001b[38;5;241;43m.\u001b[39;49m\u001b[43msource_code\u001b[49m\u001b[43m)\u001b[49m\n\u001b[0;32m     20\u001b[0m \u001b[38;5;28mself\u001b[39m\u001b[38;5;241m.\u001b[39mreferenced_vars \u001b[38;5;241m=\u001b[39m find_referenced_vars(\u001b[38;5;28mself\u001b[39m\u001b[38;5;241m.\u001b[39msource_code)\n\u001b[0;32m     22\u001b[0m \u001b[38;5;28mself\u001b[39m\u001b[38;5;241m.\u001b[39mmodified_source \u001b[38;5;241m=\u001b[39m (\n\u001b[0;32m     23\u001b[0m     inject_names_to_source_code(\u001b[38;5;28mself\u001b[39m\u001b[38;5;241m.\u001b[39msource_code, \u001b[38;5;28mself\u001b[39m\u001b[38;5;241m.\u001b[39mhp_calls) \u001b[38;5;28;01mif\u001b[39;00m inject_names \u001b[38;5;28;01melse\u001b[39;00m \u001b[38;5;28mself\u001b[39m\u001b[38;5;241m.\u001b[39msource_code\n\u001b[0;32m     24\u001b[0m )\n",
      "File \u001b[1;32mC:\\python_workspace\\hypster\\src\\hypster\\ast_analyzer.py:426\u001b[0m, in \u001b[0;36mcollect_hp_calls\u001b[1;34m(code)\u001b[0m\n\u001b[0;32m    424\u001b[0m tree \u001b[38;5;241m=\u001b[39m ast\u001b[38;5;241m.\u001b[39mparse(code)\n\u001b[0;32m    425\u001b[0m visitor \u001b[38;5;241m=\u001b[39m HPCallVisitor()\n\u001b[1;32m--> 426\u001b[0m \u001b[43mvisitor\u001b[49m\u001b[38;5;241;43m.\u001b[39;49m\u001b[43mvisit\u001b[49m\u001b[43m(\u001b[49m\u001b[43mtree\u001b[49m\u001b[43m)\u001b[49m\n\u001b[0;32m    427\u001b[0m \u001b[38;5;28;01mreturn\u001b[39;00m visitor\u001b[38;5;241m.\u001b[39mhp_calls\n",
      "File \u001b[1;32mc:\\Users\\GiladRubin\\miniconda3\\envs\\hypster-env\\lib\\ast.py:418\u001b[0m, in \u001b[0;36mNodeVisitor.visit\u001b[1;34m(self, node)\u001b[0m\n\u001b[0;32m    416\u001b[0m method \u001b[38;5;241m=\u001b[39m \u001b[38;5;124m'\u001b[39m\u001b[38;5;124mvisit_\u001b[39m\u001b[38;5;124m'\u001b[39m \u001b[38;5;241m+\u001b[39m node\u001b[38;5;241m.\u001b[39m\u001b[38;5;18m__class__\u001b[39m\u001b[38;5;241m.\u001b[39m\u001b[38;5;18m__name__\u001b[39m\n\u001b[0;32m    417\u001b[0m visitor \u001b[38;5;241m=\u001b[39m \u001b[38;5;28mgetattr\u001b[39m(\u001b[38;5;28mself\u001b[39m, method, \u001b[38;5;28mself\u001b[39m\u001b[38;5;241m.\u001b[39mgeneric_visit)\n\u001b[1;32m--> 418\u001b[0m \u001b[38;5;28;01mreturn\u001b[39;00m \u001b[43mvisitor\u001b[49m\u001b[43m(\u001b[49m\u001b[43mnode\u001b[49m\u001b[43m)\u001b[49m\n",
      "File \u001b[1;32mc:\\Users\\GiladRubin\\miniconda3\\envs\\hypster-env\\lib\\ast.py:426\u001b[0m, in \u001b[0;36mNodeVisitor.generic_visit\u001b[1;34m(self, node)\u001b[0m\n\u001b[0;32m    424\u001b[0m     \u001b[38;5;28;01mfor\u001b[39;00m item \u001b[38;5;129;01min\u001b[39;00m value:\n\u001b[0;32m    425\u001b[0m         \u001b[38;5;28;01mif\u001b[39;00m \u001b[38;5;28misinstance\u001b[39m(item, AST):\n\u001b[1;32m--> 426\u001b[0m             \u001b[38;5;28;43mself\u001b[39;49m\u001b[38;5;241;43m.\u001b[39;49m\u001b[43mvisit\u001b[49m\u001b[43m(\u001b[49m\u001b[43mitem\u001b[49m\u001b[43m)\u001b[49m\n\u001b[0;32m    427\u001b[0m \u001b[38;5;28;01melif\u001b[39;00m \u001b[38;5;28misinstance\u001b[39m(value, AST):\n\u001b[0;32m    428\u001b[0m     \u001b[38;5;28mself\u001b[39m\u001b[38;5;241m.\u001b[39mvisit(value)\n",
      "File \u001b[1;32mc:\\Users\\GiladRubin\\miniconda3\\envs\\hypster-env\\lib\\ast.py:418\u001b[0m, in \u001b[0;36mNodeVisitor.visit\u001b[1;34m(self, node)\u001b[0m\n\u001b[0;32m    416\u001b[0m method \u001b[38;5;241m=\u001b[39m \u001b[38;5;124m'\u001b[39m\u001b[38;5;124mvisit_\u001b[39m\u001b[38;5;124m'\u001b[39m \u001b[38;5;241m+\u001b[39m node\u001b[38;5;241m.\u001b[39m\u001b[38;5;18m__class__\u001b[39m\u001b[38;5;241m.\u001b[39m\u001b[38;5;18m__name__\u001b[39m\n\u001b[0;32m    417\u001b[0m visitor \u001b[38;5;241m=\u001b[39m \u001b[38;5;28mgetattr\u001b[39m(\u001b[38;5;28mself\u001b[39m, method, \u001b[38;5;28mself\u001b[39m\u001b[38;5;241m.\u001b[39mgeneric_visit)\n\u001b[1;32m--> 418\u001b[0m \u001b[38;5;28;01mreturn\u001b[39;00m \u001b[43mvisitor\u001b[49m\u001b[43m(\u001b[49m\u001b[43mnode\u001b[49m\u001b[43m)\u001b[49m\n",
      "File \u001b[1;32mc:\\Users\\GiladRubin\\miniconda3\\envs\\hypster-env\\lib\\ast.py:426\u001b[0m, in \u001b[0;36mNodeVisitor.generic_visit\u001b[1;34m(self, node)\u001b[0m\n\u001b[0;32m    424\u001b[0m     \u001b[38;5;28;01mfor\u001b[39;00m item \u001b[38;5;129;01min\u001b[39;00m value:\n\u001b[0;32m    425\u001b[0m         \u001b[38;5;28;01mif\u001b[39;00m \u001b[38;5;28misinstance\u001b[39m(item, AST):\n\u001b[1;32m--> 426\u001b[0m             \u001b[38;5;28;43mself\u001b[39;49m\u001b[38;5;241;43m.\u001b[39;49m\u001b[43mvisit\u001b[49m\u001b[43m(\u001b[49m\u001b[43mitem\u001b[49m\u001b[43m)\u001b[49m\n\u001b[0;32m    427\u001b[0m \u001b[38;5;28;01melif\u001b[39;00m \u001b[38;5;28misinstance\u001b[39m(value, AST):\n\u001b[0;32m    428\u001b[0m     \u001b[38;5;28mself\u001b[39m\u001b[38;5;241m.\u001b[39mvisit(value)\n",
      "File \u001b[1;32mc:\\Users\\GiladRubin\\miniconda3\\envs\\hypster-env\\lib\\ast.py:418\u001b[0m, in \u001b[0;36mNodeVisitor.visit\u001b[1;34m(self, node)\u001b[0m\n\u001b[0;32m    416\u001b[0m method \u001b[38;5;241m=\u001b[39m \u001b[38;5;124m'\u001b[39m\u001b[38;5;124mvisit_\u001b[39m\u001b[38;5;124m'\u001b[39m \u001b[38;5;241m+\u001b[39m node\u001b[38;5;241m.\u001b[39m\u001b[38;5;18m__class__\u001b[39m\u001b[38;5;241m.\u001b[39m\u001b[38;5;18m__name__\u001b[39m\n\u001b[0;32m    417\u001b[0m visitor \u001b[38;5;241m=\u001b[39m \u001b[38;5;28mgetattr\u001b[39m(\u001b[38;5;28mself\u001b[39m, method, \u001b[38;5;28mself\u001b[39m\u001b[38;5;241m.\u001b[39mgeneric_visit)\n\u001b[1;32m--> 418\u001b[0m \u001b[38;5;28;01mreturn\u001b[39;00m \u001b[43mvisitor\u001b[49m\u001b[43m(\u001b[49m\u001b[43mnode\u001b[49m\u001b[43m)\u001b[49m\n",
      "File \u001b[1;32mc:\\Users\\GiladRubin\\miniconda3\\envs\\hypster-env\\lib\\ast.py:428\u001b[0m, in \u001b[0;36mNodeVisitor.generic_visit\u001b[1;34m(self, node)\u001b[0m\n\u001b[0;32m    426\u001b[0m             \u001b[38;5;28mself\u001b[39m\u001b[38;5;241m.\u001b[39mvisit(item)\n\u001b[0;32m    427\u001b[0m \u001b[38;5;28;01melif\u001b[39;00m \u001b[38;5;28misinstance\u001b[39m(value, AST):\n\u001b[1;32m--> 428\u001b[0m     \u001b[38;5;28;43mself\u001b[39;49m\u001b[38;5;241;43m.\u001b[39;49m\u001b[43mvisit\u001b[49m\u001b[43m(\u001b[49m\u001b[43mvalue\u001b[49m\u001b[43m)\u001b[49m\n",
      "File \u001b[1;32mc:\\Users\\GiladRubin\\miniconda3\\envs\\hypster-env\\lib\\ast.py:418\u001b[0m, in \u001b[0;36mNodeVisitor.visit\u001b[1;34m(self, node)\u001b[0m\n\u001b[0;32m    416\u001b[0m method \u001b[38;5;241m=\u001b[39m \u001b[38;5;124m'\u001b[39m\u001b[38;5;124mvisit_\u001b[39m\u001b[38;5;124m'\u001b[39m \u001b[38;5;241m+\u001b[39m node\u001b[38;5;241m.\u001b[39m\u001b[38;5;18m__class__\u001b[39m\u001b[38;5;241m.\u001b[39m\u001b[38;5;18m__name__\u001b[39m\n\u001b[0;32m    417\u001b[0m visitor \u001b[38;5;241m=\u001b[39m \u001b[38;5;28mgetattr\u001b[39m(\u001b[38;5;28mself\u001b[39m, method, \u001b[38;5;28mself\u001b[39m\u001b[38;5;241m.\u001b[39mgeneric_visit)\n\u001b[1;32m--> 418\u001b[0m \u001b[38;5;28;01mreturn\u001b[39;00m \u001b[43mvisitor\u001b[49m\u001b[43m(\u001b[49m\u001b[43mnode\u001b[49m\u001b[43m)\u001b[49m\n",
      "File \u001b[1;32mC:\\python_workspace\\hypster\\src\\hypster\\ast_analyzer.py:328\u001b[0m, in \u001b[0;36mHPCallVisitor.visit_Call\u001b[1;34m(self, node)\u001b[0m\n\u001b[0;32m    325\u001b[0m \u001b[38;5;28;01melse\u001b[39;00m:\n\u001b[0;32m    326\u001b[0m     \u001b[38;5;28mself\u001b[39m\u001b[38;5;241m.\u001b[39mcall_index[lineno][method_name] \u001b[38;5;241m+\u001b[39m\u001b[38;5;241m=\u001b[39m \u001b[38;5;241m1\u001b[39m\n\u001b[1;32m--> 328\u001b[0m implicit_name \u001b[38;5;241m=\u001b[39m \u001b[38;5;28;43mself\u001b[39;49m\u001b[38;5;241;43m.\u001b[39;49m\u001b[43mget_implicit_name\u001b[49m\u001b[43m(\u001b[49m\u001b[43mnode\u001b[49m\u001b[43m)\u001b[49m\n\u001b[0;32m    329\u001b[0m explicit_name \u001b[38;5;241m=\u001b[39m \u001b[38;5;28mself\u001b[39m\u001b[38;5;241m.\u001b[39mget_explicit_name(node)\n\u001b[0;32m    331\u001b[0m hp_call \u001b[38;5;241m=\u001b[39m HPCall(\n\u001b[0;32m    332\u001b[0m     lineno\u001b[38;5;241m=\u001b[39mlineno,\n\u001b[0;32m    333\u001b[0m     col_offset\u001b[38;5;241m=\u001b[39mnode\u001b[38;5;241m.\u001b[39mcol_offset,\n\u001b[1;32m   (...)\u001b[0m\n\u001b[0;32m    336\u001b[0m     explicit_name\u001b[38;5;241m=\u001b[39mexplicit_name,\n\u001b[0;32m    337\u001b[0m )\n",
      "File \u001b[1;32mC:\\python_workspace\\hypster\\src\\hypster\\ast_analyzer.py:349\u001b[0m, in \u001b[0;36mHPCallVisitor.get_implicit_name\u001b[1;34m(self, node)\u001b[0m\n\u001b[0;32m    348\u001b[0m \u001b[38;5;28;01mdef\u001b[39;00m \u001b[38;5;21mget_implicit_name\u001b[39m(\u001b[38;5;28mself\u001b[39m, node):\n\u001b[1;32m--> 349\u001b[0m     \u001b[38;5;28;01mif\u001b[39;00m \u001b[38;5;28;43mself\u001b[39;49m\u001b[38;5;241;43m.\u001b[39;49m\u001b[43mcurrent_assignment\u001b[49m:\n\u001b[0;32m    350\u001b[0m         target \u001b[38;5;241m=\u001b[39m \u001b[38;5;28mself\u001b[39m\u001b[38;5;241m.\u001b[39mget_target_name(\u001b[38;5;28mself\u001b[39m\u001b[38;5;241m.\u001b[39mcurrent_assignment\u001b[38;5;241m.\u001b[39mtargets[\u001b[38;5;241m0\u001b[39m])\n\u001b[0;32m    351\u001b[0m         \u001b[38;5;28;01mif\u001b[39;00m \u001b[38;5;28misinstance\u001b[39m(\u001b[38;5;28mself\u001b[39m\u001b[38;5;241m.\u001b[39mcurrent_assignment\u001b[38;5;241m.\u001b[39mvalue, ast\u001b[38;5;241m.\u001b[39mCall) \u001b[38;5;129;01mand\u001b[39;00m \u001b[38;5;28mself\u001b[39m\u001b[38;5;241m.\u001b[39mis_hp_call(\u001b[38;5;28mself\u001b[39m\u001b[38;5;241m.\u001b[39mcurrent_assignment\u001b[38;5;241m.\u001b[39mvalue):\n",
      "\u001b[1;31mAttributeError\u001b[0m: 'HPCallVisitor' object has no attribute 'current_assignment'"
     ]
    }
   ],
   "source": [
    "\n",
    "# %% [markdown]\n",
    "# ## Test Case 3: Unnamed Calls\n",
    "\n",
    "# %%\n",
    "@config\n",
    "def unnamed_config(hp):\n",
    "    hp.select([1, 2])\n",
    "    x = hp.select([3, 4], name=\"named_call\")\n",
    "    return {\"x\": x}\n",
    "\n",
    "print(\"Independent variables:\", unnamed_config.independent_vars)\n",
    "print(\"Dependent variables:\", unnamed_config.dependent_vars)\n",
    "print(\"Unnamed calls:\", unnamed_config.unnamed_calls)\n",
    "\n",
    "# %% [markdown]\n",
    "# ## Test Case 4: Direct AST Analysis\n",
    "\n",
    "# %%\n",
    "code = \"\"\"\n",
    "def test_function(hp):\n",
    "    a = hp.select([1, 2])\n",
    "    b = hp.select([3, 4])\n",
    "    \n",
    "    if a == 2:\n",
    "        c = hp.select([5, 6])\n",
    "        d = hp.select([7, 8])\n",
    "    else:\n",
    "        c = hp.select([3, 5])\n",
    "    \n",
    "    return {\"a\": a, \"b\": b, \"c\": c}\n",
    "\"\"\"\n",
    "\n",
    "results, hp_calls, independent_vars, dependent_vars, unnamed_calls = analyze_hp_calls(code)\n",
    "\n",
    "print(\"Results:\", results)\n",
    "print(\"HP Calls:\", hp_calls)\n",
    "print(\"Independent variables:\", independent_vars)\n",
    "print(\"Dependent variables:\", dependent_vars)\n",
    "print(\"Unnamed calls:\", unnamed_calls)\n",
    "\n",
    "# %% [markdown]\n",
    "# ## Test Case 5: Name Injection\n",
    "\n",
    "# %%\n",
    "modified_code, ind_vars, dep_vars, unnamed = inject_names(code, hp_calls)\n",
    "\n",
    "print(\"Modified Code:\")\n",
    "print(modified_code)\n",
    "print(\"\\nIndependent variables:\", ind_vars)\n",
    "print(\"Dependent variables:\", dep_vars)\n",
    "print(\"Unnamed calls:\", unnamed)"
   ]
  },
  {
   "cell_type": "code",
   "execution_count": null,
   "metadata": {},
   "outputs": [],
   "source": [
    "from hypster import HP, config\n",
    "\n",
    "\n",
    "@config\n",
    "def conf(hp: HP):\n",
    "    a = hp.select([1, 2])\n",
    "    b = hp.select([3, 4])\n",
    "    if a == 1:\n",
    "        c = hp.select([5, 6])\n",
    "    else:\n",
    "        d = hp.select([7, 8], default=8)"
   ]
  },
  {
   "cell_type": "code",
   "execution_count": null,
   "metadata": {},
   "outputs": [],
   "source": [
    "@config\n",
    "def conf(hp: HP):\n",
    "    a = hp.select([\"a\", \"b\", \"c\"], default=\"a\")\n",
    "    if a == \"a\":\n",
    "        d = hp.select([4, 5], name=\"tes3t\", default=4)\n",
    "    b = hp.select({\"x\": 1, \"y\": 2}, name=\"b\", default=\"x\")\n",
    "    c = hp.text_input(\"ette\", name=\"c\")\n",
    "    conf = {\"a\" : a}"
   ]
  },
  {
   "cell_type": "code",
   "execution_count": null,
   "metadata": {},
   "outputs": [
    {
     "data": {
      "text/plain": [
       "[{'a': 'a', 'tes3t': 5, 'b': 1, 'c': 'ette'},\n",
       " {'a': 'a', 'tes3t': 5, 'b': 2, 'c': 'ette'},\n",
       " {'a': 'b', 'b': 1, 'c': 'ette'},\n",
       " {'a': 'b', 'b': 2, 'c': 'ette'},\n",
       " {'a': 'a', 'tes3t': 4, 'b': 1, 'c': 'ette'},\n",
       " {'a': 'a', 'tes3t': 4, 'b': 2, 'c': 'ette'},\n",
       " {'a': 'c', 'b': 1, 'c': 'ette'},\n",
       " {'a': 'c', 'b': 2, 'c': 'ette'}]"
      ]
     },
     "execution_count": 6,
     "metadata": {},
     "output_type": "execute_result"
    }
   ],
   "source": [
    "conf.get_combinations()"
   ]
  },
  {
   "cell_type": "code",
   "execution_count": null,
   "metadata": {},
   "outputs": [],
   "source": []
  }
 ],
 "metadata": {
  "kernelspec": {
   "display_name": "hypster-env",
   "language": "python",
   "name": "python3"
  },
  "language_info": {
   "codemirror_mode": {
    "name": "ipython",
    "version": 3
   },
   "file_extension": ".py",
   "mimetype": "text/x-python",
   "name": "python",
   "nbconvert_exporter": "python",
   "pygments_lexer": "ipython3",
   "version": "3.10.14"
  }
 },
 "nbformat": 4,
 "nbformat_minor": 2
}
