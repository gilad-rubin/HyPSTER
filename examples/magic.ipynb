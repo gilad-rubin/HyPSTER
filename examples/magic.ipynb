{
 "cells": [
  {
   "cell_type": "code",
   "execution_count": 1,
   "metadata": {},
   "outputs": [],
   "source": [
    "%load_ext hypster.magic"
   ]
  },
  {
   "cell_type": "code",
   "execution_count": 2,
   "metadata": {},
   "outputs": [],
   "source": [
    "selections = {\"param1\": \"value2\", \"param4\": \"b\"}"
   ]
  },
  {
   "cell_type": "code",
   "execution_count": 6,
   "metadata": {},
   "outputs": [],
   "source": [
    "from hypster import HP, config\n",
    "\n",
    "\n",
    "@config\n",
    "def inner_config(hp: HP):\n",
    "    var1 = hp.select([\"a\", \"b\", \"c\"], default=\"a\")\n",
    "\n",
    "\n",
    "inner_config.save(\"inner_config.py\")"
   ]
  },
  {
   "cell_type": "code",
   "execution_count": 7,
   "metadata": {},
   "outputs": [
    {
     "data": {
      "text/html": [
       "\n",
       "        <style>\n",
       "        .cell-output-ipywidget-background {\n",
       "           background-color: transparent !important;\n",
       "        }\n",
       "        :root {\n",
       "            --jp-widgets-color: var(--vscode-editor-foreground);\n",
       "            --jp-widgets-font-size: var(--vscode-editor-font-size);\n",
       "        }\n",
       "        </style>\n",
       "        "
      ],
      "text/plain": [
       "<IPython.core.display.HTML object>"
      ]
     },
     "metadata": {},
     "output_type": "display_data"
    },
    {
     "data": {
      "application/vnd.jupyter.widget-view+json": {
       "model_id": "5bf8f185259147dab0c10560f8c7cdaa",
       "version_major": 2,
       "version_minor": 0
      },
      "text/plain": [
       "VBox(children=(VBox(children=(Dropdown(description='Select param1', index=1, options=('value1', 'value2', 'val…"
      ]
     },
     "metadata": {},
     "output_type": "display_data"
    }
   ],
   "source": [
    "%%hypster my_config --results inputs -i first,change -s selections\n",
    "\n",
    "\n",
    "@config\n",
    "def my_config(hp: HP):\n",
    "    param1 = hp.select(\n",
    "        [\"value1\", \"value3\", \"value2\"],\n",
    "        default=\"value1\",\n",
    "    )\n",
    "    if param1 == \"value2\":\n",
    "        va = hp.select([1, 2])\n",
    "    elif param1 == \"value1\":\n",
    "        va = hp.select([1, 2, 3])\n",
    "    param4 = hp.select({\"a\": 1, \"b\": 2}, default=\"a\")\n",
    "    lst = hp.multi_select([\"a\", \"b\", \"c\"], default=[\"a\", \"b\"])\n",
    "    param2 = hp.number_input(default=10)\n",
    "\n",
    "    from hypster import load\n",
    "\n",
    "    inner_config = load(\"inner_config.py\")\n",
    "    config = hp.propagate(inner_config)"
   ]
  }
 ],
 "metadata": {
  "kernelspec": {
   "display_name": "hypster-env",
   "language": "python",
   "name": "python3"
  },
  "language_info": {
   "codemirror_mode": {
    "name": "ipython",
    "version": 3
   },
   "file_extension": ".py",
   "mimetype": "text/x-python",
   "name": "python",
   "nbconvert_exporter": "python",
   "pygments_lexer": "ipython3",
   "version": "3.10.14"
  }
 },
 "nbformat": 4,
 "nbformat_minor": 2
}
