{
 "cells": [
  {
   "cell_type": "code",
   "execution_count": 1,
   "metadata": {},
   "outputs": [],
   "source": [
    "%load_ext hypster.magic"
   ]
  },
  {
   "cell_type": "code",
   "execution_count": 2,
   "metadata": {},
   "outputs": [],
   "source": [
    "selections = {\"param1\": \"value2\"}\n",
    "overrides = {\"param2\": 3}"
   ]
  },
  {
   "cell_type": "code",
   "execution_count": 6,
   "metadata": {},
   "outputs": [
    {
     "data": {
      "text/html": [
       "\n",
       "        <style>\n",
       "        .cell-output-ipywidget-background {\n",
       "           background-color: transparent !important;\n",
       "        }\n",
       "        :root {\n",
       "            --jp-widgets-color: var(--vscode-editor-foreground);\n",
       "            --jp-widgets-font-size: var(--vscode-editor-font-size);\n",
       "        }\n",
       "        </style>\n",
       "        "
      ],
      "text/plain": [
       "<IPython.core.display.HTML object>"
      ]
     },
     "metadata": {},
     "output_type": "display_data"
    },
    {
     "data": {
      "application/vnd.jupyter.widget-view+json": {
       "model_id": "8fb4b4f6fab0435080f9730761529082",
       "version_major": 2,
       "version_minor": 0
      },
      "text/plain": [
       "VBox(children=(VBox(children=(Dropdown(description='Select param1', options=('value1', 'value2', 'value3'), st…"
      ]
     },
     "metadata": {},
     "output_type": "display_data"
    }
   ],
   "source": [
    "%%hypster my_config --results inputs -i first,change\n",
    "from hypster import HP, config\n",
    "\n",
    "\n",
    "@config\n",
    "def my_config(hp: HP):\n",
    "    param1 = hp.select(\n",
    "        [\"value1\", \"value3\", \"value2\"],\n",
    "        default=\"value1\",\n",
    "    )\n",
    "    if param1 == \"value2\":\n",
    "        va = hp.select([1, 2])\n",
    "    elif param1 == \"value1\":\n",
    "        va = hp.select([1, 2, 3])\n",
    "\n",
    "    lst = hp.multi_select([\"a\", \"b\", \"c\"], default=[\"a\", \"b\"])\n",
    "    param2 = hp.number_input(default=10)\n",
    "    var1 = f\"Selected: {param1}\"\n",
    "    var2 = param2 * 2"
   ]
  },
  {
   "cell_type": "code",
   "execution_count": 6,
   "metadata": {},
   "outputs": [
    {
     "data": {
      "text/plain": [
       "{'param1': 'value3',\n",
       " 'lst': ['a', 'c'],\n",
       " 'param2': 10,\n",
       " 'var1': 'Selected: value3',\n",
       " 'var2': 20}"
      ]
     },
     "execution_count": 6,
     "metadata": {},
     "output_type": "execute_result"
    }
   ],
   "source": [
    "inputs"
   ]
  }
 ],
 "metadata": {
  "kernelspec": {
   "display_name": "hypster-env",
   "language": "python",
   "name": "python3"
  },
  "language_info": {
   "codemirror_mode": {
    "name": "ipython",
    "version": 3
   },
   "file_extension": ".py",
   "mimetype": "text/x-python",
   "name": "python",
   "nbconvert_exporter": "python",
   "pygments_lexer": "ipython3",
   "version": "3.10.14"
  }
 },
 "nbformat": 4,
 "nbformat_minor": 2
}
