{
 "cells": [
  {
   "cell_type": "code",
   "execution_count": 1,
   "metadata": {},
   "outputs": [],
   "source": [
    "%load_ext hypster.magic"
   ]
  },
  {
   "cell_type": "code",
   "execution_count": 2,
   "metadata": {},
   "outputs": [],
   "source": [
    "selections = {\"param1\": \"value2\"}\n",
    "overrides = {\"param2\": 3}"
   ]
  },
  {
   "cell_type": "code",
   "execution_count": 3,
   "metadata": {},
   "outputs": [
    {
     "data": {
      "text/html": [
       "\n",
       "        <style>\n",
       "        .cell-output-ipywidget-background {\n",
       "           background-color: transparent !important;\n",
       "        }\n",
       "        :root {\n",
       "            --jp-widgets-color: var(--vscode-editor-foreground);\n",
       "            --jp-widgets-font-size: var(--vscode-editor-font-size);\n",
       "        }\n",
       "        </style>\n",
       "        "
      ],
      "text/plain": [
       "<IPython.core.display.HTML object>"
      ]
     },
     "metadata": {},
     "output_type": "display_data"
    },
    {
     "data": {
      "application/vnd.jupyter.widget-view+json": {
       "model_id": "9808e81de0a34069a62fd0ab827def22",
       "version_major": 2,
       "version_minor": 0
      },
      "text/plain": [
       "VBox(children=(VBox(children=(Dropdown(description='Select param1', index=1, options=('value1', 'value2'), val…"
      ]
     },
     "metadata": {},
     "output_type": "display_data"
    }
   ],
   "source": [
    "%%hypster my_config -s selections --results inputs --instantiate\n",
    "from hypster import HP, config\n",
    "\n",
    "@config\n",
    "def my_config(hp: HP):\n",
    "    param1 = hp.select([\"value1\", \"value2\"], default=\"value1\")\n",
    "    if param1 == \"value2\":\n",
    "        va = hp.select([1, 2])\n",
    "    param2 = hp.number_input(default=10)\n",
    "    var1 = f\"Selected: {param1}\"\n",
    "    var2 = param2 * 2"
   ]
  },
  {
   "cell_type": "code",
   "execution_count": 5,
   "metadata": {},
   "outputs": [
    {
     "data": {
      "text/plain": [
       "{'param1': 'value2',\n",
       " 'va': 1,\n",
       " 'param2': 10,\n",
       " 'var1': 'Selected: value2',\n",
       " 'var2': 20}"
      ]
     },
     "execution_count": 5,
     "metadata": {},
     "output_type": "execute_result"
    }
   ],
   "source": [
    "inputs"
   ]
  }
 ],
 "metadata": {
  "kernelspec": {
   "display_name": "hypster-env",
   "language": "python",
   "name": "python3"
  },
  "language_info": {
   "codemirror_mode": {
    "name": "ipython",
    "version": 3
   },
   "file_extension": ".py",
   "mimetype": "text/x-python",
   "name": "python",
   "nbconvert_exporter": "python",
   "pygments_lexer": "ipython3",
   "version": "3.10.14"
  }
 },
 "nbformat": 4,
 "nbformat_minor": 2
}
