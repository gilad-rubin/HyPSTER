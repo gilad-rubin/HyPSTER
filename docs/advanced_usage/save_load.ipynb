{
    "cells": [
        {
            "cell_type": "markdown",
            "metadata": {},
            "source": [
                "# Advanced Hypster Features\n",
                "\n",
                "## Saving and Loading Configurations\n",
                "\n",
                "Hypster provides functionality to save and load configurations, making it easy to persist and reuse your setups.\n",
                "\n",
                "### Saving Configurations\n",
                "\n",
                "You can save a Hypster configuration using the `hypster.save()` function. This function cleans the decorator and imports, making the saved file standalone.\n",
                "\n",
                "Example:\n"
            ]
        },
        {
            "cell_type": "code",
            "execution_count": 4,
            "metadata": {},
            "outputs": [],
            "source": [
                "import hypster\n",
                "from hypster import HP\n",
                "\n",
                "\n",
                "@hypster.config\n",
                "def my_config(hp: HP):\n",
                "    chunking_strategy = hp.select([\"paragraph\", \"semantic\", \"fixed\"], default=\"paragraph\")\n",
                "\n",
                "    llm_model = hp.select(\n",
                "        {\"haiku\": \"claude-3-haiku-20240307\", \"sonnet\": \"claude-3-5-sonnet-20240620\", \"gpt-4o-mini\": \"gpt-4o-mini\"},\n",
                "        default=\"gpt-4o-mini\",\n",
                "    )\n",
                "\n",
                "    llm_config = {\"temperature\": hp.number(0), \"max_tokens\": hp.number(64)}\n",
                "\n",
                "    system_prompt = hp.text(\"You are a helpful assistant. Answer with one word only\")"
            ]
        },
        {
            "cell_type": "code",
            "execution_count": 5,
            "metadata": {},
            "outputs": [],
            "source": [
                "hypster.save(my_config, \"my_config.py\")"
            ]
        },
        {
            "cell_type": "markdown",
            "metadata": {},
            "source": [
                "This will:\n",
                "1. save the configuration to a file named `my_config.py`\n",
                "1. remove the @config decorator from the function definition\n",
                "1. Adding necessary imports, namely: `from hypster import HP`\n",
                "\n",
                "These allow portability for future usage of `hypster.load()`"
            ]
        },
        {
            "cell_type": "markdown",
            "metadata": {},
            "source": [
                "\n",
                "### Loading Configurations\n",
                "\n",
                "To load a saved configuration, use the `hypster.load()` function:\n"
            ]
        },
        {
            "cell_type": "code",
            "execution_count": 2,
            "metadata": {},
            "outputs": [],
            "source": [
                "import hypster\n",
                "\n",
                "my_config = hypster.load(\"my_config.py\")"
            ]
        },
        {
            "cell_type": "code",
            "execution_count": 3,
            "metadata": {},
            "outputs": [
                {
                    "data": {
                        "text/plain": [
                            "{'chunking_strategy': 'paragraph',\n",
                            " 'llm_model': 'gpt-4o-mini',\n",
                            " 'llm_config': {'temperature': 0, 'max_tokens': 64},\n",
                            " 'system_prompt': 'You are a helpful assistant. Answer with one word only'}"
                        ]
                    },
                    "execution_count": 3,
                    "metadata": {},
                    "output_type": "execute_result"
                }
            ],
            "source": [
                "my_config()"
            ]
        },
        {
            "cell_type": "markdown",
            "metadata": {},
            "source": [
                "\n",
                "This loads the configuration from `my_config.py` and allows you to use it in your current setup.\n"
            ]
        }
    ],
    "metadata": {
        "kernelspec": {
            "display_name": "hypster-env",
            "language": "python",
            "name": "python3"
        },
        "language_info": {
            "codemirror_mode": {
                "name": "ipython",
                "version": 3
            },
            "file_extension": ".py",
            "mimetype": "text/x-python",
            "name": "python",
            "nbconvert_exporter": "python",
            "pygments_lexer": "ipython3",
            "version": "3.10.14"
        }
    },
    "nbformat": 4,
    "nbformat_minor": 2
}
