{
 "cells": [
  {
   "cell_type": "markdown",
   "metadata": {},
   "source": [
    "# The Pythonic API\n",
    "\n",
    "Hypster's API is designed to be intuitive and expressive, allowing you to use familiar Python constructs in your configuration functions.\n",
    "\n",
    "## Conditional Statements for Dependent Variables\n",
    "\n",
    "You can use conditional statements to define dependent variables:"
   ]
  },
  {
   "cell_type": "code",
   "execution_count": 2,
   "metadata": {},
   "outputs": [],
   "source": [
    "from hypster import HP, config\n",
    "\n",
    "\n",
    "@config\n",
    "def conditional_config(hp: HP):\n",
    "    model_type = hp.select([\"CNN\", \"RNN\", \"Transformer\"], default=\"CNN\")\n",
    "\n",
    "    if model_type == \"CNN\":\n",
    "        num_layers = hp.select([3, 5, 7], default=5)\n",
    "    elif model_type == \"RNN\":\n",
    "        cell_type = hp.select([\"LSTM\", \"GRU\"], default=\"LSTM\")\n",
    "    else:  # Transformer\n",
    "        num_heads = hp.select([4, 8, 16], default=8)"
   ]
  },
  {
   "cell_type": "markdown",
   "metadata": {},
   "source": [
    "## Loops\n",
    "\n",
    "You can use loops to define repetitive configurations:"
   ]
  },
  {
   "cell_type": "code",
   "execution_count": 3,
   "metadata": {},
   "outputs": [],
   "source": [
    "from hypster import HP, config\n",
    "\n",
    "\n",
    "@config\n",
    "def loop_config(hp: HP):\n",
    "    num_layers = hp.select([3, 5, 7], default=5)\n",
    "    layer_sizes = []\n",
    "\n",
    "    for i in range(num_layers):\n",
    "        layer_sizes.append(hp.select([32, 64, 128], default=64, name=f\"layer_{i}_size\"))"
   ]
  },
  {
   "cell_type": "markdown",
   "metadata": {},
   "source": [
    "## Changing Options Conditionally\n",
    "\n",
    "You can dynamically change the options based on other selections:"
   ]
  },
  {
   "cell_type": "code",
   "execution_count": 5,
   "metadata": {},
   "outputs": [],
   "source": [
    "from hypster import HP, config\n",
    "\n",
    "\n",
    "@config\n",
    "def dynamic_options_config(hp: HP):\n",
    "    dataset_size = hp.select([\"small\", \"medium\", \"large\"], default=\"medium\")\n",
    "\n",
    "    if dataset_size == \"small\":\n",
    "        model_options = [\"simple_cnn\", \"small_rnn\"]\n",
    "    elif dataset_size == \"medium\":\n",
    "        model_options = [\"resnet\", \"lstm\"]\n",
    "    else:\n",
    "        model_options = [\"transformer\", \"large_cnn\"]\n",
    "\n",
    "    model = hp.select(model_options)"
   ]
  },
  {
   "cell_type": "markdown",
   "metadata": {},
   "source": [
    "## Summary\n",
    "\n",
    "By allowing pythonic configuration spaces you can:\n",
    "- Use conditional statements to define dependent variables\n",
    "- Utilize loops for repetitive configurations\n",
    "- Dynamically change options based on other selections\n",
    "- And much more! :)"
   ]
  }
 ],
 "metadata": {
  "kernelspec": {
   "display_name": "hypster-env",
   "language": "python",
   "name": "python3"
  },
  "language_info": {
   "codemirror_mode": {
    "name": "ipython",
    "version": 3
   },
   "file_extension": ".py",
   "mimetype": "text/x-python",
   "name": "python",
   "nbconvert_exporter": "python",
   "pygments_lexer": "ipython3",
   "version": "3.10.14"
  }
 },
 "nbformat": 4,
 "nbformat_minor": 2
}
