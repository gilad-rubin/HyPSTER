{
    "cells": [
        {
            "cell_type": "markdown",
            "metadata": {},
            "source": [
                "# Portability, Imports & Definitions"
            ]
        },
        {
            "cell_type": "markdown",
            "metadata": {},
            "source": [
                "Hypster requires all of your configuration code to be encapsulated within the function itself to ensure portability. This means you must include any necessary imports and class definitions inside the function."
            ]
        },
        {
            "cell_type": "code",
            "execution_count": null,
            "metadata": {},
            "outputs": [],
            "source": [
                "from hypster import HP, config\n",
                "\n",
                "\n",
                "@config\n",
                "def portable_config(hp: HP):\n",
                "    import torch\n",
                "\n",
                "    device = hp.select([\"cpu\", \"cuda\"], default=\"cuda\" if torch.cuda.is_available() else \"cpu\")\n",
                "    # Rest of your configuration..."
            ]
        },
        {
            "cell_type": "markdown",
            "metadata": {},
            "source": [
                "This approach ensures that the configuration function can be easily shared or saved without dependency issues."
            ]
        },
        {
            "cell_type": "markdown",
            "metadata": {},
            "source": [
                "## Examples of What Works and What Doesn't"
            ]
        },
        {
            "cell_type": "markdown",
            "metadata": {},
            "source": [
                "#### ❌ This will not work:"
            ]
        },
        {
            "cell_type": "code",
            "execution_count": null,
            "metadata": {},
            "outputs": [],
            "source": [
                "import os\n",
                "\n",
                "from hypster import HP, config\n",
                "\n",
                "\n",
                "@config\n",
                "def non_portable_config(hp: HP):\n",
                "    device = hp.select([\"cpu\", \"cuda\"], default=\"cuda\" if os.environ.get(\"USE_CUDA\", \"0\") == \"1\" else \"cpu\")"
            ]
        },
        {
            "cell_type": "code",
            "execution_count": null,
            "metadata": {},
            "outputs": [
                {
                    "name": "stdout",
                    "output_type": "stream",
                    "text": [
                        "NameError occurred as expected: 'os' is not defined\n"
                    ]
                }
            ],
            "source": [
                "import logging\n",
                "\n",
                "# Disable logging to prevent verbose output\n",
                "logging.disable(logging.CRITICAL)\n",
                "\n",
                "try:\n",
                "    non_portable_config()\n",
                "    print(\"If you see this, the error didn't occur as expected.\")\n",
                "except NameError as e:\n",
                "    assert \"name 'os' is not defined\" in str(e)\n",
                "    print(\"NameError occurred as expected: 'os' is not defined\")"
            ]
        },
        {
            "cell_type": "markdown",
            "metadata": {},
            "source": [
                "#### ✅ This will work:"
            ]
        },
        {
            "cell_type": "code",
            "execution_count": null,
            "metadata": {},
            "outputs": [],
            "source": [
                "from hypster import HP, config\n",
                "\n",
                "\n",
                "@config\n",
                "def portable_config(hp: HP):\n",
                "    import torch\n",
                "\n",
                "    device = hp.select([\"cpu\", \"cuda\"], default=\"cuda\" if torch.cuda.is_available() else \"cpu\")\n",
                "    # Rest of your configuration..."
            ]
        },
        {
            "cell_type": "markdown",
            "metadata": {},
            "source": [
                "The same principle applies to class definitions and function definitions:"
            ]
        },
        {
            "cell_type": "code",
            "execution_count": null,
            "metadata": {},
            "outputs": [],
            "source": [
                "from hypster import HP, config\n",
                "\n",
                "\n",
                "@config\n",
                "def class_kwargs_naming(hp: HP):\n",
                "    # Note: New class definitions (or imports) need to be inside the config function\n",
                "    class ModelConfig:\n",
                "        def __init__(self, model_type, learning_rate):\n",
                "            self.model_type = model_type\n",
                "            self.learning_rate = learning_rate\n",
                "\n",
                "    def func(param):\n",
                "        return param\n",
                "\n",
                "    model = ModelConfig(\n",
                "        model_type=hp.select([\"cnn\", \"rnn\"]),  # Automatically named 'model.model_type'\n",
                "        learning_rate=hp.number(0.001),\n",
                "    )  # Automatically named 'model.learning_rate'\n",
                "\n",
                "    var = func(param=hp.select([\"option1\", \"option2\"]))  # Automatically named 'var.param'"
            ]
        }
    ],
    "metadata": {
        "language_info": {
            "name": "python"
        }
    },
    "nbformat": 4,
    "nbformat_minor": 2
}
