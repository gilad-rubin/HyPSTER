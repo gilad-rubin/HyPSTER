{
 "cells": [
  {
   "cell_type": "markdown",
   "metadata": {},
   "source": [
    "# Selections, Overrides, and Final Variables\n",
    "\n",
    "## Final Variables\n",
    "\n",
    "The `final_vars` parameter is a list that defines which variables within the functions should be returned. If left empty (or if an empty list is provided), all objects will be returned.\n",
    "\n",
    "Example:\n"
   ]
  },
  {
   "cell_type": "code",
   "execution_count": null,
   "metadata": {},
   "outputs": [],
   "source": [
    "import hypster\n",
    "from hypster import HP\n",
    "\n",
    "@hypster.config\n",
    "def my_config(hp: HP):\n",
    "    var1 = hp.select(['a', 'b'], default='b')\n",
    "    var2 = hp.select({\"c\" : 5, \"d\" : 7}, default=\"d\")\n",
    "    var3 = hp.text_input(\"hello\")\n",
    "    var4 = hp.number_input(10)\n",
    "\n",
    "my_config(final_vars=[\"var2\", \"var3\"]) \n",
    "# {'var2': 7, 'var3': 'hello'}"
   ]
  },
  {
   "cell_type": "markdown",
   "metadata": {},
   "source": [
    "\n",
    "## Selections\n",
    "\n",
    "- Selections only work with `hp.select` and need to be one of the *keys* for the options. \n",
    "- For dictionaries, the keys are used, and for lists, the values themselves are used as keys."
   ]
  },
  {
   "cell_type": "markdown",
   "metadata": {},
   "source": [
    "\n",
    "- If there's a selection, it takes precedence over the default value. \n",
    "- If a selection is not part of the options keys, it will raise an error.\n",
    "\n",
    "### Example:\n"
   ]
  },
  {
   "cell_type": "code",
   "execution_count": 1,
   "metadata": {},
   "outputs": [
    {
     "data": {
      "text/plain": [
       "{'var1': 'a', 'var2': 7, 'var3': 'hello', 'var4': 10}"
      ]
     },
     "execution_count": 1,
     "metadata": {},
     "output_type": "execute_result"
    }
   ],
   "source": [
    "import hypster\n",
    "from hypster import HP\n",
    "\n",
    "@hypster.config\n",
    "def my_config(hp: HP):\n",
    "    var1 = hp.select(['a', 'b'], default='b')\n",
    "    var2 = hp.select({\"c\" : 5, \"d\" : 7}, default=\"d\")\n",
    "    var3 = hp.text_input(\"hello\")\n",
    "    var4 = hp.number_input(10)\n",
    "\n",
    "my_config(selections={\"var1\" : \"a\", \"var2\" : \"d\"})\n",
    "# {'var1': 'a', 'var2': 7, 'var3': 'hello', 'var4': 10}"
   ]
  },
  {
   "cell_type": "markdown",
   "metadata": {},
   "source": [
    "\n",
    "## Overrides\n",
    "\n",
    "- Overrides work on both `hp.select`, `text_input` & `number_input` methods. \n",
    "- For `hp.select`, if the override is a key in the options, it will output the value associated with that key. \n",
    "- If it's not in the option keys or if it's selected for a parameter that uses `text_input` or `number_input`, it will output that value directly.\n",
    "\n",
    "The precedence order is: overrides > selections > defaults"
   ]
  },
  {
   "cell_type": "markdown",
   "metadata": {},
   "source": [
    "```{warning}\n",
    "Currently, Hypster doesn't support type-checking. This feature will be added in the future.\n",
    "```"
   ]
  },
  {
   "cell_type": "markdown",
   "metadata": {},
   "source": [
    "\n",
    "### Example:\n"
   ]
  },
  {
   "cell_type": "code",
   "execution_count": 5,
   "metadata": {},
   "outputs": [
    {
     "data": {
      "text/plain": [
       "{'var1': 'hey there', 'var2': 7, 'var3': 'hello', 'var4': 5}"
      ]
     },
     "execution_count": 5,
     "metadata": {},
     "output_type": "execute_result"
    }
   ],
   "source": [
    "\n",
    "import hypster\n",
    "from hypster import HP\n",
    "\n",
    "@hypster.config\n",
    "def my_config(hp: HP):\n",
    "    var1 = hp.select(['a', 'b'], default='b')\n",
    "    var2 = hp.select({\"c\" : 5, \"d\" : 7}, default=\"d\")\n",
    "    var3 = hp.text_input(\"hello\")\n",
    "    var4 = hp.number_input(10)\n",
    "\n",
    "my_config(overrides={\"var1\" : \"hey there\", \"var4\" : 5})\n",
    "#{'var1': 'hey there', 'var2': 7, 'var3': 'hello', 'var4': 5}"
   ]
  },
  {
   "cell_type": "code",
   "execution_count": 6,
   "metadata": {},
   "outputs": [
    {
     "data": {
      "text/plain": [
       "{'var1': 'hey there', 'var2': 7, 'var3': 'hello', 'var4': 5}"
      ]
     },
     "execution_count": 6,
     "metadata": {},
     "output_type": "execute_result"
    }
   ],
   "source": [
    "\n",
    "my_config(selections={\"var1\" : \"a\"}, overrides={\"var1\" : \"hey there\", \"var4\" : 5})\n",
    "#{'var1': 'hey there', 'var2': 7, 'var3': 'hello', 'var4': 5}"
   ]
  },
  {
   "cell_type": "markdown",
   "metadata": {},
   "source": [
    "\n",
    "Note how the override takes precedence in the second example.\n",
    "\n",
    "## Defaults\n",
    "\n",
    "- In `hp.select`, you need to specify the defaults explicitly. \n",
    "- For `text_input` and `number_input` methods, the value itself serves as the default.\n",
    "\n",
    "### Common Use Case: Empty Call\n",
    "\n",
    "Here's a common use case demonstrating how defaults work with an empty call:\n"
   ]
  },
  {
   "cell_type": "code",
   "execution_count": 7,
   "metadata": {},
   "outputs": [
    {
     "data": {
      "text/plain": [
       "{'var1': 'b', 'var2': 7, 'var3': 'hello', 'var4': 10}"
      ]
     },
     "execution_count": 7,
     "metadata": {},
     "output_type": "execute_result"
    }
   ],
   "source": [
    "\n",
    "import hypster\n",
    "from hypster import HP\n",
    "\n",
    "@hypster.config\n",
    "def my_config(hp: HP):\n",
    "    var1 = hp.select(['a', 'b'], default='b')\n",
    "    var2 = hp.select({\"c\" : 5, \"d\" : 7}, default=\"d\")\n",
    "    var3 = hp.text_input(\"hello\")\n",
    "    var4 = hp.number_input(10)\n",
    "\n",
    "my_config()\n",
    "{'var1': 'b', 'var2': 7, 'var3': 'hello', 'var4': 10}"
   ]
  },
  {
   "cell_type": "markdown",
   "metadata": {},
   "source": [
    "- If no `final_vars` are defined (empty list), it will output all the variables in the function.\n",
    "- If no selections and overrides are defined, it will output the default values.\n",
    "- If there are no defaults specified, it will raise an error."
   ]
  }
 ],
 "metadata": {
  "kernelspec": {
   "display_name": "hypster-env",
   "language": "python",
   "name": "python3"
  },
  "language_info": {
   "codemirror_mode": {
    "name": "ipython",
    "version": 3
   },
   "file_extension": ".py",
   "mimetype": "text/x-python",
   "name": "python",
   "nbconvert_exporter": "python",
   "pygments_lexer": "ipython3",
   "version": "3.10.14"
  }
 },
 "nbformat": 4,
 "nbformat_minor": 2
}
