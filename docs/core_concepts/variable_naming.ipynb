{
 "cells": [
  {
   "cell_type": "markdown",
   "metadata": {},
   "source": [
    "# Variable Naming\n",
    "Hypster provides sensible defaults for naming your variables to keep your code **DRY** (**D**on't **R**epeat **Y**ourself)"
   ]
  },
  {
   "cell_type": "markdown",
   "metadata": {},
   "source": [
    "## Explicit Naming\n",
    "You can explicitly name your variables using the `name` parameter:"
   ]
  },
  {
   "cell_type": "code",
   "execution_count": 1,
   "metadata": {},
   "outputs": [],
   "source": [
    "from hypster import HP, config\n",
    "\n",
    "\n",
    "@config\n",
    "def explicit_naming(hp: HP):\n",
    "    var = hp.select([\"o1\", \"o2\"], name=\"my_explicit_variable\")"
   ]
  },
  {
   "cell_type": "markdown",
   "metadata": {},
   "source": [
    "## Automatic Naming\n",
    "\n",
    "Hypster uses a name injection process to automatically name your hyperparameters. It's important to understand how this works, especially if you have security concerns about code modification:\n",
    "\n",
    "1. **Source Code Modification**: Hypster analyzes your configuration function's source code and injects `name` keyword arguments into the hyperparameter calls (`hp.select()`, `hp.number_input()`, etc.).\n",
    "\n",
    "2. **AST Transformation**: This process uses Python's Abstract Syntax Tree (AST) to modify the source code without changing its functionality.\n",
    "\n",
    "3. **Security Implications**: While this process is designed to be safe, users with strict security requirements should be aware that it involves modifying and re-executing the source code.\n",
    "\n",
    "4. **Disabling Name Injection**: If you prefer to avoid automatic name injection, you can disable it by using `@config(inject_names=False)` or `load(..., inject_names=False)`. When disabled, you must provide explicit names for all hyperparameters.\n",
    "\n",
    "Example of how name injection modifies your code:\n"
   ]
  },
  {
   "cell_type": "code",
   "execution_count": 2,
   "metadata": {},
   "outputs": [],
   "source": [
    "from hypster import HP, config\n",
    "\n",
    "\n",
    "# Original code\n",
    "@config\n",
    "def my_config(hp: HP):\n",
    "    model = hp.select([\"cnn\", \"rnn\"])\n",
    "\n",
    "\n",
    "# Modified code (internal representation)\n",
    "def my_config(hp: HP):\n",
    "    model = hp.select([\"cnn\", \"rnn\"], name=\"model\")"
   ]
  },
  {
   "cell_type": "markdown",
   "metadata": {},
   "source": [
    "### Automatic Naming Rules\n",
    "Hypster automatically infers variable names by utilizing the variable names, dictionary keys, and keyword arguments:\n",
    "\n",
    "1. Variable Names\n",
    "   - Example: `a = hp.select(['option1', 'option2'])`\n",
    "   - Result: 'a' will be the name of this parameter\n",
    "\n",
    "2. Dictionary Keys\n",
    "   - Example: `config = {'learning_rate': hp.number_input(0.001)}`\n",
    "   - Result: The dictionary key 'learning_rate' will be the name of this parameter\n",
    "\n",
    "3. Class and Function Keyword Arguments\n",
    "   - Example: `Model(hidden_size=hp.select([64, 128, 256]))`\n",
    "   - Result: The keyword argument 'hidden_size' will be the name of this parameter\n",
    "\n",
    "For nested structures, Hypster uses dot notation `(key.nested_key)` to represent the hierarchy. For example:\n",
    "```python\n",
    "model = Model(model_type=hp.select(['cnn', 'rnn']), # Automatically named 'model.model_type'\n",
    "              model_kwargs={'lr' : hp.number_input(0.1)} # Automatically named 'model.model_kwargs.lr'\n",
    "             )\n",
    "```"
   ]
  },
  {
   "cell_type": "markdown",
   "metadata": {},
   "source": [
    "```{warning}\n",
    "- Parameters are named based on the variable they're assigned to, **not the function or class name** they're associated with.\n",
    "- For example, `result = some_func(a = hp.select(...))` will be accessible as `result.a`, not `some_func.a`.\n",
    "```"
   ]
  },
  {
   "cell_type": "markdown",
   "metadata": {},
   "source": [
    "### Example Use-Cases:\n",
    "1. Variable Assignment"
   ]
  },
  {
   "cell_type": "code",
   "execution_count": 3,
   "metadata": {},
   "outputs": [],
   "source": [
    "@config\n",
    "def automatic_naming(hp: HP):\n",
    "    # This will be automatically named 'var'\n",
    "    var = hp.select([\"o1\", \"o2\"])\n",
    "    # This will be automatically named 'model_type'\n",
    "    model_type = hp.select([\"cnn\", \"rnn\"])"
   ]
  },
  {
   "cell_type": "markdown",
   "metadata": {},
   "source": [
    "2. Dictionary Keys:"
   ]
  },
  {
   "cell_type": "code",
   "execution_count": 4,
   "metadata": {},
   "outputs": [],
   "source": [
    "@config\n",
    "def dict_naming(hp: HP):\n",
    "    config = {\n",
    "        \"model_type\": hp.select([\"cnn\", \"rnn\"]),  # Automatically named 'config.model_type'\n",
    "        \"learning_rate\": hp.number_input(0.001),  # Automatically named 'config.learning_rate'\n",
    "    }"
   ]
  },
  {
   "cell_type": "markdown",
   "metadata": {},
   "source": [
    "3. Class and function Keyword Arguments:"
   ]
  },
  {
   "cell_type": "code",
   "execution_count": 5,
   "metadata": {},
   "outputs": [],
   "source": [
    "from hypster import HP, config\n",
    "\n",
    "\n",
    "@config\n",
    "def class_kwargs_naming(hp: HP):\n",
    "    # Note new class definitions (or imports) need to be inside the config function\n",
    "    class ModelConfig:\n",
    "        def __init__(self, model_type, learning_rate):\n",
    "            self.model_type = model_type\n",
    "            self.learning_rate = learning_rate\n",
    "\n",
    "    def func(param):\n",
    "        return\n",
    "\n",
    "    model = ModelConfig(\n",
    "        model_type=hp.select([\"cnn\", \"rnn\"]),  # Automatically named 'model.model_type'\n",
    "        learning_rate=hp.number_input(0.001),  # Automatically named 'model.learning_rate'\n",
    "    )\n",
    "\n",
    "    var = func(param=hp.select([\"option1\", \"option2\"]))  # Automatically named 'var.param'"
   ]
  },
  {
   "cell_type": "code",
   "execution_count": 6,
   "metadata": {},
   "outputs": [
    {
     "name": "stdout",
     "output_type": "stream",
     "text": [
      "cnn\n",
      "0.001\n"
     ]
    }
   ],
   "source": [
    "results = class_kwargs_naming(selections={\"model.model_type\": \"cnn\", \"var.param\": \"option1\"})\n",
    "print(results[\"model\"].model_type)\n",
    "print(results[\"model\"].learning_rate)"
   ]
  },
  {
   "cell_type": "markdown",
   "metadata": {},
   "source": [
    "## Disabling Automatic Naming\n",
    "In case you want to disable automatic naming and rely solely on explicit naming, you can do so by setting `inject_names=False`:"
   ]
  },
  {
   "cell_type": "code",
   "execution_count": 7,
   "metadata": {},
   "outputs": [],
   "source": [
    "from hypster import HP, config\n",
    "\n",
    "\n",
    "@config(inject_names=False)\n",
    "def class_kwargs_naming(hp: HP):\n",
    "    # Note new class definitions (or imports) need to be inside the config function\n",
    "    class ModelConfig:\n",
    "        def __init__(self, model_type, learning_rate):\n",
    "            self.model_type = model_type\n",
    "            self.learning_rate = learning_rate\n",
    "\n",
    "    def func(param):\n",
    "        return\n",
    "\n",
    "    model = ModelConfig(\n",
    "        model_type=hp.select([\"cnn\", \"rnn\"], name=\"model_type\"),\n",
    "        learning_rate=hp.number_input(0.001, name=\"learning_rate\"),\n",
    "    )\n",
    "    var = func(param=hp.select([\"option1\", \"option2\"], name=\"param\"))"
   ]
  },
  {
   "cell_type": "markdown",
   "metadata": {},
   "source": [
    "When automatic naming is disabled, you must provide explicit names for all hyperparameters. Failing to do so will result in an error:\n"
   ]
  },
  {
   "cell_type": "code",
   "execution_count": 11,
   "metadata": {},
   "outputs": [],
   "source": [
    "@config(inject_names=False)\n",
    "def no_injection_config(hp: HP):\n",
    "    a = hp.select([\"a\", \"b\"])  # This will raise an error because no name is provided"
   ]
  },
  {
   "cell_type": "code",
   "execution_count": 12,
   "metadata": {},
   "outputs": [
    {
     "name": "stdout",
     "output_type": "stream",
     "text": [
      "ValueError occurred as expected: `name` argument is missing\n"
     ]
    }
   ],
   "source": [
    "import logging\n",
    "\n",
    "# Disable logging to prevent verbose output\n",
    "logging.disable(logging.CRITICAL)\n",
    "\n",
    "try:\n",
    "    no_injection_config()\n",
    "    print(\"If you see this, the error didn't occur as expected.\")\n",
    "except ValueError as e:\n",
    "    assert \"`name` argument is missing\" in str(e)\n",
    "    print(\"ValueError occurred as expected: `name` argument is missing\")"
   ]
  },
  {
   "cell_type": "markdown",
   "metadata": {},
   "source": [
    "Disabling automatic naming can be useful in scenarios where you want full control over parameter names, when the automatic naming might lead to ambiguities in your configuration, or when you have security concerns about source code modification."
   ]
  }
 ],
 "metadata": {
  "kernelspec": {
   "display_name": "hypster-env",
   "language": "python",
   "name": "python3"
  },
  "language_info": {
   "codemirror_mode": {
    "name": "ipython",
    "version": 3
   },
   "file_extension": ".py",
   "mimetype": "text/x-python",
   "name": "python",
   "nbconvert_exporter": "python",
   "pygments_lexer": "ipython3",
   "version": "3.10.14"
  }
 },
 "nbformat": 4,
 "nbformat_minor": 2
}
