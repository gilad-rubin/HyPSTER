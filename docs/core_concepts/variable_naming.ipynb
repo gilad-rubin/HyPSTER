{
 "cells": [
  {
   "cell_type": "markdown",
   "metadata": {},
   "source": [
    "# Variable Naming\n",
    "Hypster provides sensible defaults for naming your variables to keep your code **DRY** (**D**on't **R**epeat **Y**ourself)\n",
    "\n",
    "## Explicit Naming\n",
    "You can explicitly name your variables using the `name` parameter:"
   ]
  },
  {
   "cell_type": "code",
   "execution_count": 18,
   "metadata": {},
   "outputs": [],
   "source": [
    "from hypster import HP, config\n",
    "\n",
    "@config\n",
    "def explicit_naming(hp: HP):\n",
    "    var = hp.select(['o1', 'o2'], name='my_explicit_variable')"
   ]
  },
  {
   "cell_type": "markdown",
   "metadata": {},
   "source": [
    "## Automatic Naming\n",
    "\n",
    "Hypster automatically infers variable names by utilizing the variable names, dictionary keys, and keyword arguments:\n",
    "\n",
    "1. Variable Names\n",
    "   - Example: `a = hp.select(['option1', 'option2'])`\n",
    "   - Result: 'a' will be the name of this parameter\n",
    "\n",
    "2. Dictionary Keys\n",
    "   - Example: `config = {'learning_rate': hp.number_input(0.001)}`\n",
    "   - Result: The dictionary key 'learning_rate' will be the name of this parameter\n",
    "\n",
    "3. Class and Function Keyword Arguments\n",
    "   - Example: `Model(hidden_size=hp.select([64, 128, 256]))`\n",
    "   - Result: The keyword argument 'hidden_size' will be the name of this parameter\n",
    "\n",
    "For nested structures, Hypster uses dot notation `(key.nested_key)` to represent the hierarchy. For example:\n",
    "```python\n",
    "model = Model(model_type=hp.select(['cnn', 'rnn']), # Automatically named 'model.model_type'\n",
    "              model_kwargs={'lr' : hp.number_input(0.1)} # Automatically named 'model.model_kwargs.lr'\n",
    "             )\n",
    "```"
   ]
  },
  {
   "cell_type": "markdown",
   "metadata": {},
   "source": [
    "### Example Use-Cases:\n",
    "1. Variable Assignment"
   ]
  },
  {
   "cell_type": "code",
   "execution_count": 19,
   "metadata": {},
   "outputs": [],
   "source": [
    "@config\n",
    "def automatic_naming(hp: HP):\n",
    "    # This will be automatically named 'var'\n",
    "    var = hp.select(['o1', 'o2'])\n",
    "    # This will be automatically named 'model_type'\n",
    "    model_type = hp.select(['cnn', 'rnn'])"
   ]
  },
  {
   "cell_type": "markdown",
   "metadata": {},
   "source": [
    "2. Dictionary Keys:"
   ]
  },
  {
   "cell_type": "code",
   "execution_count": 20,
   "metadata": {},
   "outputs": [],
   "source": [
    "@config\n",
    "def dict_naming(hp: HP):\n",
    "    config = {\n",
    "        'model_type': hp.select(['cnn', 'rnn']),  # Automatically named 'config.model_type'\n",
    "        'learning_rate': hp.number_input(0.001)   # Automatically named 'config.learning_rate'\n",
    "    }"
   ]
  },
  {
   "cell_type": "markdown",
   "metadata": {},
   "source": [
    "3. Class and function Keyword Arguments:"
   ]
  },
  {
   "cell_type": "code",
   "execution_count": 23,
   "metadata": {},
   "outputs": [],
   "source": [
    "from hypster import HP, config\n",
    "\n",
    "@config\n",
    "def class_kwargs_naming(hp: HP):\n",
    "    # Note new class definitions (or imports) need to be inside the config function\n",
    "    class ModelConfig:\n",
    "        def __init__(self, model_type, learning_rate):\n",
    "            self.model_type = model_type\n",
    "            self.learning_rate = learning_rate\n",
    "    \n",
    "    def func(param):\n",
    "        return\n",
    "\n",
    "    model = ModelConfig(model_type=hp.select(['cnn', 'rnn']), # Automatically named 'model.model_type'\n",
    "                        learning_rate=hp.number_input(0.001)  # Automatically named 'model.learning_rate'\n",
    "                        )\n",
    "    \n",
    "    var = func(param=hp.select(['option1', 'option2']))  # Automatically named 'var.param'"
   ]
  },
  {
   "cell_type": "code",
   "execution_count": 25,
   "metadata": {},
   "outputs": [
    {
     "name": "stdout",
     "output_type": "stream",
     "text": [
      "cnn\n",
      "0.001\n"
     ]
    }
   ],
   "source": [
    "results = class_kwargs_naming(selections={'model.model_type': 'cnn',\n",
    "                                          'var.param': 'option1'})\n",
    "print(results[\"model\"].model_type)\n",
    "print(results[\"model\"].learning_rate)"
   ]
  }
 ],
 "metadata": {
  "kernelspec": {
   "display_name": "hypster-env",
   "language": "python",
   "name": "python3"
  },
  "language_info": {
   "codemirror_mode": {
    "name": "ipython",
    "version": 3
   },
   "file_extension": ".py",
   "mimetype": "text/x-python",
   "name": "python",
   "nbconvert_exporter": "python",
   "pygments_lexer": "ipython3",
   "version": "3.10.14"
  }
 },
 "nbformat": 4,
 "nbformat_minor": 2
}
