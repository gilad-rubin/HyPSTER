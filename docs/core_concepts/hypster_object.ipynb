{
 "cells": [
  {
   "cell_type": "markdown",
   "metadata": {
    "vscode": {
     "languageId": "plaintext"
    }
   },
   "source": [
    "# The Hypster Object\n",
    "\n",
    "- When you decorate a function with `@config`, Hypster creates an object that wraps your configuration function. \n",
    "- This object, an instance of the `Hypster` class, provides additional functionality and allows for flexible usage of your configuration.\n",
    "\n",
    "## Creation\n",
    "\n",
    "The Hypster object is created automatically when you use the `@config` decorator:\n",
    "\n",
    "```python\n",
    "from hypster import HP, config\n",
    "\n",
    "@config\n",
    "def hp_config(hp: HP):\n",
    "    # Your configuration code here\n",
    "    pass\n",
    "```\n",
    "\n",
    "In this example, `hp_config` is no longer a simple function - it's now a Hypster object.\n",
    "\n",
    "## Features\n",
    "\n",
    "The Hypster object provides several key features:\n",
    "\n",
    "1. **Callable**: It can be called like a function, executing your configuration code with optional parameters:\n",
    "\n",
    "   ```python\n",
    "   result = hp_config(selections={'param': 'value'}, overrides={'other_param': 42})\n",
    "   ```\n",
    "\n",
    "1. **Saving and Loading**: It can be saved to and loaded from files:\n",
    "\n",
    "   ```python\n",
    "   import hypster\n",
    "   hypster.save(hp_config, \"my_config.py\")\n",
    "   loaded_config = hypster.load(\"my_config.py\")\n",
    "   ```\n",
    "\n",
    "1. **Propagation**: It can be used in nested configurations:\n",
    "\n",
    "   ```python\n",
    "   @config\n",
    "   def parent_config(hp: HP):\n",
    "       nested_result = hp.propagate(hp_config)\n",
    "   ```\n",
    "\n",
    "## Accessing the Original Function\n",
    "\n",
    "If you need to access the original, undecorated function, you can use the `func` attribute of the Hypster object:\n",
    "\n",
    "```python\n",
    "original_function = hp_config.func\n",
    "```\n",
    "\n",
    "This can be useful in certain advanced scenarios or for introspection.\n",
    "\n",
    "## Best Practices\n",
    "\n",
    "1. **Type Hinting**: Always use `hp: HP` in your configuration function parameters. This helps with IDE autocomplete and type checking.\n",
    "\n",
    "2. **Naming**: Choose descriptive names for your configuration functions. They become part of your API.\n",
    "\n",
    "3. **Modularity**: Create separate Hypster objects for different components of your system. This allows for better organization and reusability.\n",
    "\n",
    "By understanding the Hypster object, you can take full advantage of Hypster's powerful configuration management capabilities."
   ]
  }
 ],
 "metadata": {
  "language_info": {
   "name": "python"
  }
 },
 "nbformat": 4,
 "nbformat_minor": 2
}
