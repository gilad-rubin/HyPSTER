{
 "cells": [
  {
   "cell_type": "markdown",
   "metadata": {},
   "source": [
    "# Introduction to Hypster\n",
    "\n",
    "Hypster is a powerful configuration management tool for Python projects. It allows you to create flexible, hierarchical configurations with ease, supporting features like nested configurations, default values, selections, and overrides.\n",
    "\n",
    "## Key Features\n",
    "\n",
    "- **Flexible Configuration**: Create complex configurations with nested structures.\n",
    "- **Default Values**: Set default values for your configuration parameters.\n",
    "- **Selections and Overrides**: Easily modify configurations without changing the core setup.\n",
    "- **Type Safety**: Ensure your configuration values are of the correct type.\n",
    "- **Integration-Friendly**: Designed to work seamlessly with various Python projects and frameworks.\n",
    "\n",
    "## Installation\n",
    "\n",
    "You can install Hypster via `pip`:\n",
    "\n",
    "```bash\n",
    "pip install hypster\n",
    "```\n",
    "\n",
    "This will install everything you need to use Hypster in your Python projects.\n",
    "\n",
    "## Basic Usage\n",
    "\n",
    "Let's start with a simple example to demonstrate how Hypster works:"
   ]
  },
  {
   "cell_type": "code",
   "execution_count": 33,
   "metadata": {},
   "outputs": [
    {
     "name": "stdout",
     "output_type": "stream",
     "text": [
      "{'model': 'gpt-3', 'temperature': 0.7}\n"
     ]
    }
   ],
   "source": [
    "from hypster import HP, config\n",
    "\n",
    "@config\n",
    "def my_config(hp: HP):\n",
    "    model = hp.select(['gpt-3', 'gpt-4'], default='gpt-3')\n",
    "    temperature = hp.number_input(0.7)\n",
    "\n",
    "# Run the configuration\n",
    "result = my_config()\n",
    "print(result)"
   ]
  },
  {
   "cell_type": "markdown",
   "metadata": {},
   "source": [
    "In this example:\n",
    "\n",
    "1. We import `HP` and `config` from Hypster.\n",
    "2. We define a configuration function decorated with `@config`.\n",
    "3. Inside the function, we use `hp.select` to choose a model and `hp.number_input` for the temperature.\n",
    "4. We run the configuration and print the result.\n",
    "\n",
    "## Using Selections and Overrides\n",
    "\n",
    "Hypster allows you to modify configurations using selections and overrides. Here's how:"
   ]
  },
  {
   "cell_type": "code",
   "execution_count": 34,
   "metadata": {},
   "outputs": [
    {
     "name": "stdout",
     "output_type": "stream",
     "text": [
      "With selection: {'model': 'gpt-4', 'temperature': 0.7}\n",
      "With override: {'model': 'gpt-3', 'temperature': 0.9}\n"
     ]
    }
   ],
   "source": [
    "# Using selections\n",
    "result_with_selection = my_config(selections={'model': 'gpt-4'})\n",
    "print(\"With selection:\", result_with_selection)\n",
    "\n",
    "# Using overrides\n",
    "result_with_override = my_config(overrides={'temperature': 0.9})\n",
    "print(\"With override:\", result_with_override)"
   ]
  },
  {
   "cell_type": "markdown",
   "metadata": {},
   "source": [
    "## Conclusion\n",
    "\n",
    "This introduction demonstrates the basic usage of Hypster. It provides a flexible and powerful way to manage configurations in your Python projects. In the following sections, we'll dive deeper into more advanced features and use cases.\n",
    "\n",
    "For more information and advanced usage, please refer to the full documentation."
   ]
  }
 ],
 "metadata": {
  "kernelspec": {
   "display_name": "hypster-env",
   "language": "python",
   "name": "python3"
  },
  "language_info": {
   "codemirror_mode": {
    "name": "ipython",
    "version": 3
   },
   "file_extension": ".py",
   "mimetype": "text/x-python",
   "name": "python",
   "nbconvert_exporter": "python",
   "pygments_lexer": "ipython3",
   "version": "3.10.14"
  }
 },
 "nbformat": 4,
 "nbformat_minor": 2
}
