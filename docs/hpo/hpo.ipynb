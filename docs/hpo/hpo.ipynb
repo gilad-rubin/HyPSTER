{
 "cells": [
  {
   "cell_type": "markdown",
   "metadata": {},
   "source": [
    "# Hyperparameter Optimization (HPO) with Combinations\n",
    "\n",
    "The Combinations API provides a powerful foundation for various Hyperparameter Optimization (HPO) techniques. By generating all valid configurations, you can systematically explore the hyperparameter space using different search strategies.\n",
    "\n",
    "## Grid Search\n",
    "\n",
    "Grid Search exhaustively tries all possible combinations. This is straightforward with the Combinations API:\n"
   ]
  },
  {
   "cell_type": "code",
   "execution_count": 8,
   "metadata": {},
   "outputs": [
    {
     "name": "stdout",
     "output_type": "stream",
     "text": [
      "Best parameters: {'learning_rate': 0.1, 'batch_size': 32, 'num_layers': 2}\n",
      "Best performance: 0.9864809301533747\n"
     ]
    }
   ],
   "source": [
    "from hypster import HP, config\n",
    "\n",
    "\n",
    "@config\n",
    "def model_config(hp: HP):\n",
    "    learning_rate = hp.select([0.001, 0.01, 0.1])\n",
    "    batch_size = hp.select([32, 64, 128])\n",
    "    num_layers = hp.select([2, 3, 4])\n",
    "\n",
    "\n",
    "# Generate combinations\n",
    "combinations = model_config.get_combinations()\n",
    "\n",
    "\n",
    "# Mock evaluation function\n",
    "def evaluate_model(params):\n",
    "    # This is a mock function that returns a random accuracy\n",
    "    # In a real scenario, you would train and evaluate your model here\n",
    "    import random\n",
    "\n",
    "    return random.uniform(0, 1)\n",
    "\n",
    "\n",
    "# Find best parameters\n",
    "best_params = None\n",
    "best_performance = float(\"-inf\")\n",
    "\n",
    "for params in combinations:\n",
    "    performance = evaluate_model(params)\n",
    "    if performance > best_performance:\n",
    "        best_performance = performance\n",
    "        best_params = params\n",
    "\n",
    "print(f\"Best parameters: {best_params}\")\n",
    "print(f\"Best performance: {best_performance}\")"
   ]
  },
  {
   "cell_type": "markdown",
   "metadata": {},
   "source": [
    "## Random Search\n",
    "\n",
    "Random Search samples randomly from the possible combinations, which can be more efficient for high-dimensional spaces:\n"
   ]
  },
  {
   "cell_type": "code",
   "execution_count": 9,
   "metadata": {},
   "outputs": [
    {
     "name": "stdout",
     "output_type": "stream",
     "text": [
      "Best parameters: {'learning_rate': 0.1, 'batch_size': 64, 'num_layers': 2}\n",
      "Best performance: 0.9656099547110238\n"
     ]
    }
   ],
   "source": [
    "import random\n",
    "\n",
    "num_trials = 20  # Number of random configurations to try\n",
    "random_combinations = random.sample(combinations, min(num_trials, len(combinations)))\n",
    "\n",
    "best_params = None\n",
    "best_performance = float(\"-inf\")\n",
    "\n",
    "for params in random_combinations:\n",
    "    performance = evaluate_model(params)\n",
    "    if performance > best_performance:\n",
    "        best_performance = performance\n",
    "        best_params = params\n",
    "\n",
    "print(f\"Best parameters: {best_params}\")\n",
    "print(f\"Best performance: {best_performance}\")"
   ]
  }
 ],
 "metadata": {
  "kernelspec": {
   "display_name": "hypster-env",
   "language": "python",
   "name": "python3"
  },
  "language_info": {
   "codemirror_mode": {
    "name": "ipython",
    "version": 3
   },
   "file_extension": ".py",
   "mimetype": "text/x-python",
   "name": "python",
   "nbconvert_exporter": "python",
   "pygments_lexer": "ipython3",
   "version": "3.10.14"
  }
 },
 "nbformat": 4,
 "nbformat_minor": 2
}
