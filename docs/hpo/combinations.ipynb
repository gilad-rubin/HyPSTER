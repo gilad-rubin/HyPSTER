{
    "cells": [
        {
            "cell_type": "markdown",
            "metadata": {},
            "source": [
                "# Combinations API\n",
                "\n",
                "The Combinations API in Hypster allows you to generate and query all possible combinations of hyperparameters defined using `hp.select()` in your configuration. This is particularly useful for hyperparameter tuning and exploring different model configurations.\n",
                "\n",
                "## Generating Combinations\n",
                "\n",
                "### Using `get_combinations()`\n",
                "\n",
                "The `get_combinations()` method generates all possible combinations of hyperparameters for a given configuration, but only for parameters defined with `hp.select()`.\n",
                "\n",
                "Example:"
            ]
        },
        {
            "cell_type": "code",
            "execution_count": 2,
            "metadata": {},
            "outputs": [
                {
                    "data": {
                        "text/plain": [
                            "[{'model_type': 'cnn', 'num_layers': 3},\n",
                            " {'model_type': 'cnn', 'num_layers': 5},\n",
                            " {'model_type': 'rnn', 'cell_type': 'lstm'},\n",
                            " {'model_type': 'rnn', 'cell_type': 'gru'}]"
                        ]
                    },
                    "execution_count": 2,
                    "metadata": {},
                    "output_type": "execute_result"
                }
            ],
            "source": [
                "from hypster import HP, config\n",
                "\n",
                "\n",
                "@config\n",
                "def model_config(hp: HP):\n",
                "    model_type = hp.select([\"cnn\", \"rnn\"], default=\"cnn\")\n",
                "    if model_type == \"cnn\":\n",
                "        num_layers = hp.select([3, 5], default=3)\n",
                "    else:\n",
                "        cell_type = hp.select([\"lstm\", \"gru\"], default=\"lstm\")\n",
                "\n",
                "    learning_rate = hp.number(default=0.001)\n",
                "    model_name = hp.text(default=\"my_model\")\n",
                "\n",
                "\n",
                "# Generate combinations\n",
                "combinations = model_config.get_combinations()\n",
                "combinations"
            ]
        },
        {
            "cell_type": "markdown",
            "metadata": {},
            "source": [
                "Note that `learning_rate` and `model_name` are not included in the combinations as they are not defined using `hp.select()`.\n",
                "\n",
                "### Nested Configurations\n",
                "\n",
                "For nested configurations using `hp.propagate()`, the combinations will include the nested structure:\n"
            ]
        },
        {
            "cell_type": "code",
            "execution_count": 3,
            "metadata": {},
            "outputs": [
                {
                    "data": {
                        "text/plain": [
                            "[{'batch_size': 32, 'model.model_type': 'cnn', 'model.num_layers': 3},\n",
                            " {'batch_size': 32, 'model.model_type': 'cnn', 'model.num_layers': 5},\n",
                            " {'batch_size': 32, 'model.model_type': 'rnn', 'model.cell_type': 'lstm'},\n",
                            " {'batch_size': 32, 'model.model_type': 'rnn', 'model.cell_type': 'gru'},\n",
                            " {'batch_size': 64, 'model.model_type': 'cnn', 'model.num_layers': 3},\n",
                            " {'batch_size': 64, 'model.model_type': 'cnn', 'model.num_layers': 5},\n",
                            " {'batch_size': 64, 'model.model_type': 'rnn', 'model.cell_type': 'lstm'},\n",
                            " {'batch_size': 64, 'model.model_type': 'rnn', 'model.cell_type': 'gru'}]"
                        ]
                    },
                    "execution_count": 3,
                    "metadata": {},
                    "output_type": "execute_result"
                }
            ],
            "source": [
                "from hypster import HP, config, save\n",
                "\n",
                "save(model_config, \"model_config.py\")\n",
                "\n",
                "\n",
                "@config\n",
                "def training_config(hp: HP):\n",
                "    import hypster\n",
                "\n",
                "    batch_size = hp.select([32, 64], default=32)\n",
                "    num_epochs = hp.number(default=100)\n",
                "    model_config = hypster.load(\"model_config.py\")\n",
                "    model_params = hp.propagate(model_config, name=\"model\")\n",
                "\n",
                "\n",
                "# Generate combinations\n",
                "combinations = training_config.get_combinations()\n",
                "combinations"
            ]
        },
        {
            "cell_type": "markdown",
            "metadata": {},
            "source": [
                "## Querying Combinations\n",
                "\n",
                "The `query_combinations()` function allows you to filter the generated combinations based on specific criteria.\n",
                "\n",
                "### Using `query_combinations()`\n"
            ]
        },
        {
            "cell_type": "code",
            "execution_count": 4,
            "metadata": {},
            "outputs": [
                {
                    "data": {
                        "text/plain": [
                            "[{'batch_size': 64, 'model.model_type': 'cnn', 'model.num_layers': 3},\n",
                            " {'batch_size': 64, 'model.model_type': 'cnn', 'model.num_layers': 5}]"
                        ]
                    },
                    "execution_count": 4,
                    "metadata": {},
                    "output_type": "execute_result"
                }
            ],
            "source": [
                "from hypster import query_combinations\n",
                "\n",
                "filtered_combinations = query_combinations(combinations, {\"model.model_type\": \"cnn\", \"batch_size\": 64})\n",
                "filtered_combinations"
            ]
        },
        {
            "cell_type": "markdown",
            "metadata": {},
            "source": [
                "```{warning}\n",
                "`get_combinations()` runs your config code multiple times to dynamically explore the options space. Make sure your configuration code runs fast and doesn't incur any charges.  \n",
                "```"
            ]
        }
    ],
    "metadata": {
        "kernelspec": {
            "display_name": "hypster-env",
            "language": "python",
            "name": "python3"
        },
        "language_info": {
            "codemirror_mode": {
                "name": "ipython",
                "version": 3
            },
            "file_extension": ".py",
            "mimetype": "text/x-python",
            "name": "python",
            "nbconvert_exporter": "python",
            "pygments_lexer": "ipython3",
            "version": "3.10.14"
        }
    },
    "nbformat": 4,
    "nbformat_minor": 2
}
