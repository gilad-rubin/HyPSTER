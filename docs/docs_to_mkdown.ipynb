{
 "cells": [
  {
   "cell_type": "code",
   "execution_count": 1,
   "metadata": {},
   "outputs": [],
   "source": [
    "import yaml\n",
    "import json\n",
    "import os\n",
    "from pathlib import Path\n",
    "\n",
    "def read_yaml(file_path):\n",
    "    with open(file_path, 'r') as file:\n",
    "        return yaml.safe_load(file)\n",
    "\n",
    "def read_ipynb(file_path):\n",
    "    with open(file_path, 'r', encoding='utf-8') as file:\n",
    "        notebook = json.load(file)\n",
    "    \n",
    "    markdown_content = []\n",
    "    for cell in notebook['cells']:\n",
    "        if cell['cell_type'] == 'markdown':\n",
    "            markdown_content.extend(cell['source'])\n",
    "        elif cell['cell_type'] == 'code':\n",
    "            markdown_content.append('```python\\n')\n",
    "            markdown_content.extend(cell['source'])\n",
    "            markdown_content.append('\\n```\\n')\n",
    "    \n",
    "    return ''.join(markdown_content)\n",
    "\n",
    "def process_chapters(chapters, base_path):\n",
    "    content = []\n",
    "    for chapter in chapters:\n",
    "        if 'file' in chapter:\n",
    "            file_path = Path(base_path) / f\"{chapter['file']}.ipynb\"\n",
    "            if file_path.exists():\n",
    "                content.append(f\"# {chapter.get('title', chapter['file'])}\\n\\n\")\n",
    "                content.append(read_ipynb(file_path))\n",
    "            else:\n",
    "                content.append(f\"# {chapter.get('title', chapter['file'])}\\n\\n\")\n",
    "                content.append(f\"File not found: {file_path}\\n\\n\")\n",
    "        if 'chapters' in chapter:\n",
    "            content.extend(process_chapters(chapter['chapters'], base_path))\n",
    "    return content\n",
    "\n",
    "def toc_to_markdown(toc_path):\n",
    "    toc_data = read_yaml(toc_path)\n",
    "    base_path = Path(toc_path).parent\n",
    "    \n",
    "    content = [f\"# {toc_data.get('root', 'Documentation')}\\n\\n\"]\n",
    "    \n",
    "    for part in toc_data.get('parts', []):\n",
    "        content.append(f\"## {part['caption']}\\n\\n\")\n",
    "        content.extend(process_chapters(part.get('chapters', []), base_path))\n",
    "    \n",
    "    return '\\n'.join(content)"
   ]
  },
  {
   "cell_type": "code",
   "execution_count": 3,
   "metadata": {},
   "outputs": [
    {
     "name": "stdout",
     "output_type": "stream",
     "text": [
      "Combined Markdown file has been created: docs/combined_documentation.md\n"
     ]
    }
   ],
   "source": [
    "toc_path = 'docs/_toc.yml'  # Update this path if your _toc.yml is located elsewhere\n",
    "output_path = 'docs/combined_documentation.md'\n",
    "\n",
    "markdown_content = toc_to_markdown(toc_path)\n",
    "\n",
    "with open(output_path, 'w', encoding='utf-8') as file:\n",
    "    file.write(markdown_content)\n",
    "\n",
    "print(f\"Combined Markdown file has been created: {output_path}\")"
   ]
  },
  {
   "cell_type": "code",
   "execution_count": null,
   "metadata": {},
   "outputs": [],
   "source": []
  }
 ],
 "metadata": {
  "kernelspec": {
   "display_name": "hypster-env",
   "language": "python",
   "name": "python3"
  },
  "language_info": {
   "codemirror_mode": {
    "name": "ipython",
    "version": 3
   },
   "file_extension": ".py",
   "mimetype": "text/x-python",
   "name": "python",
   "nbconvert_exporter": "python",
   "pygments_lexer": "ipython3",
   "version": "3.10.14"
  }
 },
 "nbformat": 4,
 "nbformat_minor": 2
}
