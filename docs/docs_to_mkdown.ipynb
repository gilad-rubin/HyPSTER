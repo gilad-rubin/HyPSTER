{
 "cells": [
  {
   "cell_type": "code",
   "execution_count": 9,
   "metadata": {},
   "outputs": [
    {
     "name": "stdout",
     "output_type": "stream",
     "text": [
      "Added: README.md\n",
      "Added: getting-started/installation.md\n",
      "Added: getting-started/defining-a-configuration-space.md\n",
      "Added: getting-started/instantiating-a-configuration-space.md\n",
      "Added: getting-started/selecting-output-variables.md\n",
      "Warning: UI)](getting-started/interactive-instantiation-ui.md not found\n",
      "Added: getting-started/usage-examples/README.md\n",
      "Added: getting-started/usage-examples/basic-example.md\n",
      "Added: getting-started/usage-examples/llms-and-generative-ai.md\n",
      "Added: in-depth/automatic-naming.md\n",
      "Added: in-depth/hp-call-types/README.md\n",
      "Added: in-depth/hp-call-types/select-and-multi-select.md\n",
      "Added: in-depth/hp-call-types/int-and-multi-int.md\n",
      "Added: in-depth/hp-call-types/bool-and-multi-bool.md\n",
      "Added: in-depth/hp-call-types/text-and-multi-text.md\n",
      "Added: in-depth/hp-call-types/propagate.md\n",
      "Added: in-depth/basic-best-practices.md\n",
      "Added: advanced/propagation.md\n",
      "Added: advanced/usage-tips-best-practices.md\n",
      "Added: advanced/saving-and-loading-configs.md\n",
      "Added: advanced/performing-hyperparameter-optimization.md\n",
      "Added: reproducibility/observing-past-runs.md\n",
      "Added: reproducibility/experiment-tracking.md\n",
      "Added: reproducibility/serialization.md\n",
      "Added: reproducibility/cards.md\n",
      "Added: reproducibility/deploying-to-production.md\n",
      "Added: integrations/hamilton.md\n",
      "Added: integrations/haystack.md\n",
      "Added: philosophy/origin-story.md\n",
      "Added: philosophy/articles.md\n",
      "Added: philosophy/use-cases.md\n",
      "Added: philosophy/unique-features.md\n",
      "Added: philosophy/hypster-vs.-alternatives.md\n"
     ]
    }
   ],
   "source": [
    "import re\n",
    "\n",
    "\n",
    "def extract_markdown_files(summary_path):\n",
    "    # Read the summary file\n",
    "    with open(summary_path, \"r\") as f:\n",
    "        content = f.read()\n",
    "\n",
    "    # Extract markdown file paths using regex\n",
    "    # Matches paths in parentheses that end in .md\n",
    "    paths = re.findall(r\"\\((.*?\\.md)\\)\", content)\n",
    "    return paths\n",
    "\n",
    "\n",
    "def combine_markdown_files(paths, prefix=\"\", output_file=\"combined.md\"):\n",
    "    # Create output file\n",
    "    with open(output_file, \"w\", encoding=\"utf-8\") as outfile:\n",
    "        for path in paths:\n",
    "            try:\n",
    "                with open(prefix + path, \"r\", encoding=\"utf-8\") as infile:\n",
    "                    # Write file content followed by two newlines\n",
    "                    outfile.write(f\"# {path}\\n\\n\")  # Add filename as header\n",
    "                    outfile.write(infile.read())\n",
    "                    outfile.write(\"\\n\\n\")\n",
    "                print(f\"Added: {path}\")\n",
    "            except FileNotFoundError:\n",
    "                print(f\"Warning: {path} not found\")\n",
    "\n",
    "\n",
    "# Usage\n",
    "summary_path = \"docs/SUMMARY.md\"  # Path to your summary.md file\n",
    "markdown_files = extract_markdown_files(summary_path)\n",
    "combine_markdown_files(markdown_files, prefix=\"docs/\", output_file=\"combined_docs.md\")"
   ]
  },
  {
   "cell_type": "code",
   "execution_count": null,
   "metadata": {},
   "outputs": [],
   "source": []
  }
 ],
 "metadata": {
  "kernelspec": {
   "display_name": "hypster-env",
   "language": "python",
   "name": "python3"
  },
  "language_info": {
   "codemirror_mode": {
    "name": "ipython",
    "version": 3
   },
   "file_extension": ".py",
   "mimetype": "text/x-python",
   "name": "python",
   "nbconvert_exporter": "python",
   "pygments_lexer": "ipython3",
   "version": "3.10.14"
  }
 },
 "nbformat": 4,
 "nbformat_minor": 2
}
