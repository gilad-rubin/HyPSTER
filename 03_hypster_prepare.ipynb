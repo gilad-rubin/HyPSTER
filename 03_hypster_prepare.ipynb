{
 "cells": [
  {
   "cell_type": "code",
   "execution_count": 1,
   "metadata": {},
   "outputs": [],
   "source": [
    "#default_exp hypster_prepare"
   ]
  },
  {
   "cell_type": "code",
   "execution_count": 2,
   "metadata": {},
   "outputs": [],
   "source": [
    "#export\n",
    "from hypster.oo_hp import *"
   ]
  },
  {
   "cell_type": "code",
   "execution_count": 3,
   "metadata": {},
   "outputs": [],
   "source": [
    "#export\n",
    "from inspect import signature\n",
    "import functools\n",
    "from collections import OrderedDict"
   ]
  },
  {
   "cell_type": "code",
   "execution_count": 4,
   "metadata": {},
   "outputs": [],
   "source": [
    "#export\n",
    "class HypsterPrepare(HypsterBase):\n",
    "    def __init__(self, call, base_call, *args, **kwargs):\n",
    "        self.call            = call\n",
    "        self.base_call       = base_call\n",
    "        self.args            = args\n",
    "        self.kwargs          = kwargs\n",
    "        self.trials_sampled  = set()\n",
    "        self.studies_sampled = set()\n",
    "        self.base_object     = None\n",
    "        self.result          = None\n",
    "\n",
    "    def sample(self, trial):\n",
    "        if trial.study.study_name not in self.studies_sampled:\n",
    "            self.trials_sampled = set()\n",
    "        elif trial.number in self.trials_sampled:\n",
    "            return self.result           \n",
    "        \n",
    "        if self.base_call is not None:\n",
    "            self.base_object = self.base_call.sample(trial)\n",
    "\n",
    "        #TODO: add HpToggle Here\n",
    "        #self.sampled_args   = [sample_hp(arg, trial) for arg in self.args]\n",
    "        #sampled_kwargs      = [sample_hp(arg, trial) for arg in self.kwargs.values()]\n",
    "        #self.sampled_kwargs = OrderedDict(zip(self.kwargs.keys(), sampled_kwargs))\n",
    "        \n",
    "        self.sampled_args   = populate_iterable(self.args, trial)\n",
    "        self.sampled_kwargs = populate_dict(self.kwargs, trial)\n",
    "        \n",
    "        self.trials_sampled.add(trial.number)\n",
    "        self.studies_sampled.add(trial.study.study_name)\n",
    "\n",
    "        if self.base_object:\n",
    "            if len(self.sampled_args) == 0 and len(self.sampled_kwargs) == 0:\n",
    "                self.result = getattr(self.base_object, self.call)\n",
    "            else:\n",
    "                self.result = getattr(self.base_object, self.call)(*self.sampled_args, **self.sampled_kwargs)\n",
    "        else:\n",
    "            self.result = self.call(*self.sampled_args, **self.sampled_kwargs)\n",
    "        return self.result\n",
    "    \n",
    "    def __call__(self, *args, **kwargs):\n",
    "        #print(f\"args {args}, kwargs {kwargs}\")\n",
    "        self.args = args\n",
    "        self.kwargs = kwargs\n",
    "        return self\n",
    "    \n",
    "    def __getattr__(self, name, *args, **kwargs):\n",
    "        #print(f\"name {name}, args {args}, kwargs {kwargs}\")\n",
    "        return HypsterPrepare(name, self, *args, **kwargs)"
   ]
  },
  {
   "cell_type": "code",
   "execution_count": 5,
   "metadata": {},
   "outputs": [],
   "source": [
    "#export\n",
    "def prepare(call):\n",
    "    @functools.wraps(call)\n",
    "    def wrapper_decorator(*args, **kwargs):\n",
    "        #print(f\"args: {args}\")\n",
    "        #print(f\"kwargs: {kwargs}\")\n",
    "        all_args = list(args) + list(kwargs.values())\n",
    "        if any([contains_hypster(arg, HYPSTER_TYPES) for arg in all_args]):\n",
    "            return HypsterPrepare(call, None, *args, **kwargs)\n",
    "        else:\n",
    "            return call(*args, **kwargs)\n",
    "    return wrapper_decorator"
   ]
  },
  {
   "cell_type": "markdown",
   "metadata": {},
   "source": [
    "# Test Prepare"
   ]
  },
  {
   "cell_type": "code",
   "execution_count": 6,
   "metadata": {},
   "outputs": [],
   "source": [
    "@prepare\n",
    "def foo(a, *args, b=\"hi!\", c=None, **kwargs):\n",
    "    if c is not None:\n",
    "        print(f\"{a} and {b} and {c}\")\n",
    "    else:\n",
    "        print(f\"{a} and {b}\")\n",
    "        \n",
    "    for arg in args:\n",
    "        print(arg)\n",
    "    \n",
    "    return f\"returned {a} and {b} and {c}\""
   ]
  },
  {
   "cell_type": "code",
   "execution_count": 7,
   "metadata": {},
   "outputs": [],
   "source": [
    "@prepare\n",
    "class Cls:\n",
    "    def __init__(self, a, *args, b=\"hi!\", c=None, **kwargs):\n",
    "        if c is not None:\n",
    "            print(f\"{a} and {b} and {c}\")\n",
    "        else:\n",
    "            print(f\"{a} and {b}\")\n",
    "\n",
    "        for arg in args:\n",
    "            print(arg)\n",
    "\n",
    "        #return f\"returned {a} and {b} and {c}\"\n",
    "    \n",
    "    def shmul(self, batch):\n",
    "        print(batch)"
   ]
  },
  {
   "cell_type": "code",
   "execution_count": 8,
   "metadata": {},
   "outputs": [
    {
     "name": "stdout",
     "output_type": "stream",
     "text": [
      "hi and shmuli\n",
      "hello\n",
      "hola\n"
     ]
    }
   ],
   "source": [
    "hps = foo(\"hi\", \"hello\", \"hola\", b=\"shmuli\")"
   ]
  },
  {
   "cell_type": "code",
   "execution_count": 9,
   "metadata": {},
   "outputs": [],
   "source": [
    "hps = Cls(\"hi\", \"hello\", \"hola\", b=HpCategorical(\"b\", [\"Shmuli\", \"Buli\"]))"
   ]
  },
  {
   "cell_type": "code",
   "execution_count": 10,
   "metadata": {},
   "outputs": [],
   "source": [
    "z = hps.shmul(batch=32)"
   ]
  },
  {
   "cell_type": "raw",
   "metadata": {},
   "source": [
    "hps = foo(\"hi\", \"hello\", \"hola\", b=HpBool(\"b\"))"
   ]
  },
  {
   "cell_type": "code",
   "execution_count": 11,
   "metadata": {},
   "outputs": [],
   "source": [
    "#export\n",
    "import optuna"
   ]
  },
  {
   "cell_type": "code",
   "execution_count": 12,
   "metadata": {},
   "outputs": [],
   "source": [
    "#export\n",
    "def run_func_test(x, n_trials=5):\n",
    "    def objective(trial):\n",
    "        y = x.sample(trial)\n",
    "        print(y)\n",
    "        return 1.0\n",
    "\n",
    "    optuna.logging.set_verbosity(0)\n",
    "    pruner = optuna.pruners.NopPruner()\n",
    "    study = optuna.create_study(direction=\"maximize\", pruner=pruner)\n",
    "    study.optimize(objective, n_trials=n_trials, timeout=600)"
   ]
  },
  {
   "cell_type": "code",
   "execution_count": 13,
   "metadata": {},
   "outputs": [
    {
     "name": "stdout",
     "output_type": "stream",
     "text": [
      "hi and Buli\n",
      "hello\n",
      "hola\n",
      "32\n",
      "None\n",
      "hi and Buli\n",
      "hello\n",
      "hola\n",
      "32\n",
      "None\n",
      "hi and Buli\n",
      "hello\n",
      "hola\n",
      "32\n",
      "None\n",
      "hi and Buli\n",
      "hello\n",
      "hola\n",
      "32\n",
      "None\n",
      "hi and Buli\n",
      "hello\n",
      "hola\n",
      "32\n",
      "None\n"
     ]
    }
   ],
   "source": [
    "run_func_test(z)"
   ]
  },
  {
   "cell_type": "code",
   "execution_count": 14,
   "metadata": {},
   "outputs": [],
   "source": [
    "class Cls():\n",
    "    def __init__(self, name, last_name=\"\", nickname=\"\"):\n",
    "        self.name = name\n",
    "        self.last_name = last_name\n",
    "        self.nickname = nickname\n",
    "        print(f\"{self.name} {self.last_name} {self.nickname}\")  "
   ]
  },
  {
   "cell_type": "code",
   "execution_count": 15,
   "metadata": {},
   "outputs": [
    {
     "name": "stdout",
     "output_type": "stream",
     "text": [
      "Gilad  The King!\n"
     ]
    }
   ],
   "source": [
    "c = Cls(\"Gilad\", nickname=\"The King!\")"
   ]
  },
  {
   "cell_type": "code",
   "execution_count": 16,
   "metadata": {},
   "outputs": [],
   "source": [
    "Cls2 = prepare(Cls)"
   ]
  },
  {
   "cell_type": "code",
   "execution_count": 17,
   "metadata": {},
   "outputs": [],
   "source": [
    "x = Cls2(\"Gilad\", HpCategorical(\"last\", [\"The King!\", \"The Best King!\"]))"
   ]
  },
  {
   "cell_type": "code",
   "execution_count": 18,
   "metadata": {},
   "outputs": [
    {
     "name": "stdout",
     "output_type": "stream",
     "text": [
      "Gilad The Best King! \n",
      "<__main__.Cls object at 0x000001876AC3E5C0>\n",
      "Gilad The King! \n",
      "<__main__.Cls object at 0x000001876AC3A748>\n",
      "Gilad The Best King! \n",
      "<__main__.Cls object at 0x000001876AC3A3C8>\n",
      "Gilad The Best King! \n",
      "<__main__.Cls object at 0x000001876AC3A2E8>\n",
      "Gilad The King! \n",
      "<__main__.Cls object at 0x000001876AC3A4A8>\n"
     ]
    }
   ],
   "source": [
    "run_func_test(x)"
   ]
  },
  {
   "cell_type": "markdown",
   "metadata": {},
   "source": [
    "## HpToggle"
   ]
  },
  {
   "cell_type": "code",
   "execution_count": 19,
   "metadata": {},
   "outputs": [],
   "source": [
    "Cls2 = prepare(Cls)"
   ]
  },
  {
   "cell_type": "code",
   "execution_count": 20,
   "metadata": {},
   "outputs": [],
   "source": [
    "x = Cls2(\"Gilad\", last_name=HpToggle(\"toggle_last\", HpCategorical(\"last\", [\"The King!\", \"The Best King!\"])))"
   ]
  },
  {
   "cell_type": "code",
   "execution_count": 21,
   "metadata": {},
   "outputs": [
    {
     "name": "stdout",
     "output_type": "stream",
     "text": [
      "Gilad  \n",
      "<__main__.Cls object at 0x000001876AC3E6D8>\n",
      "Gilad The King! \n",
      "<__main__.Cls object at 0x000001876AC3EC18>\n",
      "Gilad  \n",
      "<__main__.Cls object at 0x000001876AC3E550>\n",
      "Gilad  \n",
      "<__main__.Cls object at 0x000001876AC0A668>\n",
      "Gilad  \n",
      "<__main__.Cls object at 0x000001876AC3AB00>\n"
     ]
    }
   ],
   "source": [
    "run_func_test(x)"
   ]
  },
  {
   "cell_type": "code",
   "execution_count": 22,
   "metadata": {},
   "outputs": [],
   "source": [
    "from nbdev.export import notebook2script"
   ]
  },
  {
   "cell_type": "code",
   "execution_count": 23,
   "metadata": {},
   "outputs": [
    {
     "name": "stdout",
     "output_type": "stream",
     "text": [
      "Converted 00_core.ipynb.\n",
      "Converted 01_api.ipynb.\n",
      "Converted 02_oo_hp.ipynb.\n",
      "Converted 03_hypster_prepare.ipynb.\n",
      "Converted 04_tabular_api.ipynb.\n",
      "Converted 05_sklearn.ipynb.\n",
      "Converted fastai_adult_tutorial.ipynb.\n",
      "Converted index.ipynb.\n"
     ]
    }
   ],
   "source": [
    "notebook2script()"
   ]
  }
 ],
 "metadata": {
  "kernelspec": {
   "display_name": "Python 3",
   "language": "python",
   "name": "python3"
  },
  "language_info": {
   "codemirror_mode": {
    "name": "ipython",
    "version": 3
   },
   "file_extension": ".py",
   "mimetype": "text/x-python",
   "name": "python",
   "nbconvert_exporter": "python",
   "pygments_lexer": "ipython3",
   "version": "3.7.3"
  }
 },
 "nbformat": 4,
 "nbformat_minor": 2
}
