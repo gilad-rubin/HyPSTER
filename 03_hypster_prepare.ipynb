{
 "cells": [
  {
   "cell_type": "code",
   "execution_count": 1,
   "metadata": {},
   "outputs": [],
   "source": [
    "#default_exp hypster_prepare"
   ]
  },
  {
   "cell_type": "code",
   "execution_count": 2,
   "metadata": {},
   "outputs": [],
   "source": [
    "#export\n",
    "from hypster.oo_hp import *"
   ]
  },
  {
   "cell_type": "code",
   "execution_count": 3,
   "metadata": {},
   "outputs": [],
   "source": [
    "#export\n",
    "from inspect import signature\n",
    "import functools\n",
    "from collections import OrderedDict"
   ]
  },
  {
   "cell_type": "code",
   "execution_count": 4,
   "metadata": {},
   "outputs": [],
   "source": [
    "#export\n",
    "def set_names(arg_names, args, kwargs):\n",
    "    for i, arg in enumerate(args):\n",
    "        if isinstance(arg, HpExpression) and arg.manual_name == False:\n",
    "            #TODO: what if it only contains HpExpression?\n",
    "            #TODO: handle *args\n",
    "            arg.name = arg_names[i]\n",
    "    for key, value in kwargs.items():\n",
    "        if isinstance(value, HpExpression) and value.manual_name == False: #TODO: what if it only contains HpExpression?\n",
    "            value.name = key"
   ]
  },
  {
   "cell_type": "code",
   "execution_count": 5,
   "metadata": {},
   "outputs": [],
   "source": [
    "#export\n",
    "class HypsterPrepare(HypsterBase):\n",
    "    def __init__(self, call, base_call, *args, **kwargs):\n",
    "        #allow future option to add a prefix of a model name\n",
    "        self.call            = call\n",
    "        self.base_call       = base_call\n",
    "        self.args            = args\n",
    "        self.kwargs          = kwargs\n",
    "        self.trials_sampled  = set()\n",
    "        self.studies_sampled = set()\n",
    "        self.base_object     = None\n",
    "        self.result          = None\n",
    "        \n",
    "        # if argument is an iterable -> (start_mom, ..., ...) use its object name\n",
    "        # Normalize(mean=HpFloat(0.001, 10.4)) --> change from \"mean\" to normalize_mean if it's not the main prepare?\n",
    "        # procs = [Categorify, imp, HpToggle(norm)] --> change toggle_hypsterprepare to toggle_normalize\n",
    "        # fit_method = learner.fit_one_cycle(2, lr) --> during sampling, get the function signature and change the name\n",
    "        \n",
    "        if callable(call):\n",
    "            self.arg_names = list(signature(call).parameters.keys())\n",
    "            set_names(self.arg_names, self.args, self.kwargs)\n",
    "        \n",
    "    def sample(self, trial):\n",
    "        if trial.study.study_name not in self.studies_sampled:\n",
    "            self.trials_sampled = set()\n",
    "        elif trial.number in self.trials_sampled:\n",
    "            return self.result           \n",
    "        \n",
    "        if self.base_call is not None:\n",
    "            self.base_object = self.base_call.sample(trial)\n",
    "\n",
    "        self.sampled_args   = populate_iterable(self.args, trial)\n",
    "        self.sampled_kwargs = populate_dict(self.kwargs, trial)\n",
    "        \n",
    "        self.trials_sampled.add(trial.number)\n",
    "        self.studies_sampled.add(trial.study.study_name)\n",
    "\n",
    "        if self.base_object:\n",
    "            if len(self.sampled_args) == 0 and len(self.sampled_kwargs) == 0:\n",
    "                self.result = getattr(self.base_object, self.call)\n",
    "            else:\n",
    "                self.result = getattr(self.base_object, self.call)(*self.sampled_args, **self.sampled_kwargs)\n",
    "        else:\n",
    "            self.result = self.call(*self.sampled_args, **self.sampled_kwargs)\n",
    "        return self.result\n",
    "    \n",
    "    def __call__(self, *args, **kwargs):\n",
    "        #print(f\"args {args}, kwargs {kwargs}\")\n",
    "        self.args = args\n",
    "        self.kwargs = kwargs\n",
    "        return self\n",
    "    \n",
    "    def __getattr__(self, name, *args, **kwargs):\n",
    "        #print(f\"name {name}, args {args}, kwargs {kwargs}\")\n",
    "        return HypsterPrepare(name, self, *args, **kwargs)"
   ]
  },
  {
   "cell_type": "code",
   "execution_count": 6,
   "metadata": {},
   "outputs": [],
   "source": [
    "#export\n",
    "def prepare(call):\n",
    "    @functools.wraps(call)\n",
    "    def wrapper_decorator(*args, **kwargs):\n",
    "        all_args = list(args) + list(kwargs.values())\n",
    "        if any([contains_hypster(arg, HYPSTER_TYPES) for arg in all_args]):\n",
    "            return HypsterPrepare(call, None, *args, **kwargs)\n",
    "        else:\n",
    "            return call(*args, **kwargs)\n",
    "    return wrapper_decorator"
   ]
  },
  {
   "cell_type": "markdown",
   "metadata": {},
   "source": [
    "# Test Naming"
   ]
  },
  {
   "cell_type": "code",
   "execution_count": 7,
   "metadata": {},
   "outputs": [],
   "source": [
    "fill_strategy = HpCategorical([\"mode\", \"median\"])"
   ]
  },
  {
   "cell_type": "code",
   "execution_count": 8,
   "metadata": {},
   "outputs": [],
   "source": [
    "class FillMissing:\n",
    "    @auto_assign\n",
    "    def __init__(self, fill_strategy=\"mode\", add_col=False): pass"
   ]
  },
  {
   "cell_type": "code",
   "execution_count": 9,
   "metadata": {},
   "outputs": [],
   "source": [
    "FillMissing = prepare(FillMissing)"
   ]
  },
  {
   "cell_type": "code",
   "execution_count": 10,
   "metadata": {},
   "outputs": [],
   "source": [
    "imp = FillMissing(fill_strategy=fill_strategy, add_col=False)"
   ]
  },
  {
   "cell_type": "code",
   "execution_count": 11,
   "metadata": {},
   "outputs": [
    {
     "data": {
      "text/plain": [
       "mappingproxy({'fill_strategy': <Parameter \"fill_strategy='mode'\">,\n",
       "              'add_col': <Parameter \"add_col=False\">})"
      ]
     },
     "execution_count": 11,
     "metadata": {},
     "output_type": "execute_result"
    }
   ],
   "source": [
    "signature(FillMissing).parameters"
   ]
  },
  {
   "cell_type": "code",
   "execution_count": 12,
   "metadata": {},
   "outputs": [
    {
     "data": {
      "text/plain": [
       "'fill_strategy'"
      ]
     },
     "execution_count": 12,
     "metadata": {},
     "output_type": "execute_result"
    }
   ],
   "source": [
    "imp.kwargs[\"fill_strategy\"].name"
   ]
  },
  {
   "cell_type": "markdown",
   "metadata": {},
   "source": [
    "# Test Prepare"
   ]
  },
  {
   "cell_type": "code",
   "execution_count": 13,
   "metadata": {},
   "outputs": [],
   "source": [
    "def foo(a, b, c=\"he\", d=None, **kwargs):\n",
    "    if c is not None:\n",
    "        print(f\"{a} and {b} and {c}\")\n",
    "    else:\n",
    "        print(f\"{a} and {b}\")\n",
    "        \n",
    "    return f\"returned {a} and {b} and {c}\"    "
   ]
  },
  {
   "cell_type": "code",
   "execution_count": 14,
   "metadata": {},
   "outputs": [
    {
     "name": "stdout",
     "output_type": "stream",
     "text": [
      "hi and helol and errr\n"
     ]
    },
    {
     "data": {
      "text/plain": [
       "'returned hi and helol and errr'"
      ]
     },
     "execution_count": 14,
     "metadata": {},
     "output_type": "execute_result"
    }
   ],
   "source": [
    "foo(\"hi\", \"helol\", c=\"errr\")"
   ]
  },
  {
   "cell_type": "code",
   "execution_count": 15,
   "metadata": {},
   "outputs": [],
   "source": [
    "foo = prepare(foo)"
   ]
  },
  {
   "cell_type": "code",
   "execution_count": 16,
   "metadata": {},
   "outputs": [],
   "source": [
    "a = foo(\"helo\", HpCategorical([\"go\", \"no\"]))"
   ]
  },
  {
   "cell_type": "code",
   "execution_count": 17,
   "metadata": {},
   "outputs": [
    {
     "data": {
      "text/plain": [
       "<__main__.HypsterPrepare at 0x22fb53775c0>"
      ]
     },
     "execution_count": 17,
     "metadata": {},
     "output_type": "execute_result"
    }
   ],
   "source": [
    "foo(\"hi\", HpCategorical([\"hello\", \"hola!\"]))"
   ]
  },
  {
   "cell_type": "code",
   "execution_count": 18,
   "metadata": {},
   "outputs": [],
   "source": [
    "def foo2(a, b=\"hi!\", c=None, **kwargs):\n",
    "    if c is not None:\n",
    "        print(f\"{a} and {b} and {c}\")\n",
    "    else:\n",
    "        print(f\"{a} and {b}\")\n",
    "    \n",
    "    return f\"returned {a} and {b} and {c}\""
   ]
  },
  {
   "cell_type": "code",
   "execution_count": 19,
   "metadata": {},
   "outputs": [],
   "source": [
    "class Cls:\n",
    "    def __init__(self, a, b=\"hi!\", c=None, **kwargs):\n",
    "        if c is not None:\n",
    "            print(f\"{a} and {b} and {c}\")\n",
    "        else:\n",
    "            print(f\"{a} and {b}\")\n",
    "\n",
    "        #return f\"returned {a} and {b} and {c}\"\n",
    "    \n",
    "    def shmul(self, batch):\n",
    "        return batch"
   ]
  },
  {
   "cell_type": "code",
   "execution_count": 20,
   "metadata": {},
   "outputs": [],
   "source": [
    "Cls = prepare(Cls)"
   ]
  },
  {
   "cell_type": "code",
   "execution_count": 21,
   "metadata": {},
   "outputs": [],
   "source": [
    "foo = prepare(foo)"
   ]
  },
  {
   "cell_type": "code",
   "execution_count": 22,
   "metadata": {},
   "outputs": [
    {
     "name": "stdout",
     "output_type": "stream",
     "text": [
      "hi and shmuli and he\n"
     ]
    }
   ],
   "source": [
    "hps = foo(\"hi\", b=\"shmuli\")"
   ]
  },
  {
   "cell_type": "code",
   "execution_count": 23,
   "metadata": {},
   "outputs": [],
   "source": [
    "hps = foo(\"hi\", b=HpBool())"
   ]
  },
  {
   "cell_type": "code",
   "execution_count": 24,
   "metadata": {},
   "outputs": [],
   "source": [
    "hps = Cls(\"hi\", b=HpCategorical([\"Shmuli\", \"Buli\"]))"
   ]
  },
  {
   "cell_type": "code",
   "execution_count": 25,
   "metadata": {},
   "outputs": [
    {
     "data": {
      "text/plain": [
       "['a', 'b', 'c', 'kwargs']"
      ]
     },
     "execution_count": 25,
     "metadata": {},
     "output_type": "execute_result"
    }
   ],
   "source": [
    "hps.arg_names"
   ]
  },
  {
   "cell_type": "code",
   "execution_count": 26,
   "metadata": {},
   "outputs": [],
   "source": [
    "z = hps.shmul(batch=HpInt(1, 10))"
   ]
  },
  {
   "cell_type": "code",
   "execution_count": 27,
   "metadata": {},
   "outputs": [],
   "source": [
    "#export\n",
    "import optuna"
   ]
  },
  {
   "cell_type": "code",
   "execution_count": 28,
   "metadata": {},
   "outputs": [],
   "source": [
    "#export\n",
    "def run_func_test(x, n_trials=5):\n",
    "    def objective(trial):\n",
    "        print(x.sample(trial))\n",
    "        return 1.0\n",
    "\n",
    "    optuna.logging.set_verbosity(0)\n",
    "    pruner = optuna.pruners.NopPruner()\n",
    "    study = optuna.create_study(direction=\"maximize\", pruner=pruner)\n",
    "    study.optimize(objective, n_trials=n_trials, timeout=600)"
   ]
  },
  {
   "cell_type": "code",
   "execution_count": 29,
   "metadata": {},
   "outputs": [
    {
     "name": "stdout",
     "output_type": "stream",
     "text": [
      "hi and Shmuli\n",
      "6\n",
      "hi and Buli\n",
      "1\n",
      "hi and Buli\n",
      "2\n",
      "hi and Buli\n",
      "5\n",
      "hi and Buli\n",
      "2\n"
     ]
    }
   ],
   "source": [
    "run_func_test(z)"
   ]
  },
  {
   "cell_type": "code",
   "execution_count": 30,
   "metadata": {},
   "outputs": [],
   "source": [
    "class Cls():\n",
    "    def __init__(self, name, last_name=\"\", nickname=\"\"):\n",
    "        self.name = name\n",
    "        self.last_name = last_name\n",
    "        self.nickname = nickname\n",
    "        print(f\"{self.name} {self.last_name} {self.nickname}\")  "
   ]
  },
  {
   "cell_type": "code",
   "execution_count": 31,
   "metadata": {},
   "outputs": [
    {
     "name": "stdout",
     "output_type": "stream",
     "text": [
      "Gilad  The King!\n"
     ]
    }
   ],
   "source": [
    "c = Cls(\"Gilad\", nickname=\"The King!\")"
   ]
  },
  {
   "cell_type": "code",
   "execution_count": 32,
   "metadata": {},
   "outputs": [],
   "source": [
    "Cls2 = prepare(Cls)"
   ]
  },
  {
   "cell_type": "code",
   "execution_count": 33,
   "metadata": {},
   "outputs": [],
   "source": [
    "x = Cls2(\"Gilad\", HpCategorical([\"The King!\", \"The Best King!\"]))"
   ]
  },
  {
   "cell_type": "code",
   "execution_count": 34,
   "metadata": {},
   "outputs": [
    {
     "name": "stdout",
     "output_type": "stream",
     "text": [
      "Gilad The Best King! \n",
      "<__main__.Cls object at 0x0000022FB539DCC0>\n",
      "Gilad The Best King! \n",
      "<__main__.Cls object at 0x0000022FB53B50F0>\n",
      "Gilad The King! \n",
      "<__main__.Cls object at 0x0000022FB53B5470>\n",
      "Gilad The Best King! \n",
      "<__main__.Cls object at 0x0000022FB53B5320>\n",
      "Gilad The Best King! \n",
      "<__main__.Cls object at 0x0000022FB53B5978>\n"
     ]
    }
   ],
   "source": [
    "run_func_test(x)"
   ]
  },
  {
   "cell_type": "markdown",
   "metadata": {},
   "source": [
    "## HpToggle"
   ]
  },
  {
   "cell_type": "code",
   "execution_count": 35,
   "metadata": {},
   "outputs": [],
   "source": [
    "Cls2 = prepare(Cls)"
   ]
  },
  {
   "cell_type": "code",
   "execution_count": 36,
   "metadata": {},
   "outputs": [],
   "source": [
    "x = Cls2(\"Gilad\", last_name=HpToggle(HpCategorical([\"The King!\", \"The Best King!\"])))"
   ]
  },
  {
   "cell_type": "code",
   "execution_count": 37,
   "metadata": {},
   "outputs": [
    {
     "name": "stdout",
     "output_type": "stream",
     "text": [
      "Gilad  \n",
      "<__main__.Cls object at 0x0000022FB539DCC0>\n",
      "Gilad The King! \n",
      "<__main__.Cls object at 0x0000022FB539D400>\n",
      "Gilad The King! \n",
      "<__main__.Cls object at 0x0000022FB539DCC0>\n",
      "Gilad  \n",
      "<__main__.Cls object at 0x0000022FB539D550>\n",
      "Gilad The King! \n",
      "<__main__.Cls object at 0x0000022FB5377A58>\n"
     ]
    }
   ],
   "source": [
    "run_func_test(x)"
   ]
  },
  {
   "cell_type": "code",
   "execution_count": 38,
   "metadata": {},
   "outputs": [],
   "source": [
    "from nbdev.export import notebook2script"
   ]
  },
  {
   "cell_type": "code",
   "execution_count": 39,
   "metadata": {},
   "outputs": [
    {
     "name": "stdout",
     "output_type": "stream",
     "text": [
      "Converted 00_core.ipynb.\n",
      "Converted 01_api.ipynb.\n",
      "Converted 02_oo_hp.ipynb.\n",
      "Converted 03_hypster_prepare.ipynb.\n",
      "Converted 04_tabular_api.ipynb.\n",
      "Converted 05_sklearn.ipynb.\n",
      "Converted fastai_adult_tutorial.ipynb.\n",
      "Converted index.ipynb.\n"
     ]
    }
   ],
   "source": [
    "notebook2script()"
   ]
  }
 ],
 "metadata": {
  "kernelspec": {
   "display_name": "Python 3",
   "language": "python",
   "name": "python3"
  },
  "language_info": {
   "codemirror_mode": {
    "name": "ipython",
    "version": 3
   },
   "file_extension": ".py",
   "mimetype": "text/x-python",
   "name": "python",
   "nbconvert_exporter": "python",
   "pygments_lexer": "ipython3",
   "version": "3.7.3"
  }
 },
 "nbformat": 4,
 "nbformat_minor": 2
}
