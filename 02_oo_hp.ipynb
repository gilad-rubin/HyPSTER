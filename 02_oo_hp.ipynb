{
 "cells": [
  {
   "cell_type": "code",
   "execution_count": 1,
   "metadata": {},
   "outputs": [],
   "source": [
    "#default_exp oo_hp"
   ]
  },
  {
   "cell_type": "code",
   "execution_count": 2,
   "metadata": {
    "pycharm": {
     "name": "#%%\n"
    }
   },
   "outputs": [],
   "source": [
    "#export\n",
    "import fastai2\n",
    "from fastai2.tabular.all import *\n",
    "from fastai2.metrics import *"
   ]
  },
  {
   "cell_type": "code",
   "execution_count": 3,
   "metadata": {},
   "outputs": [],
   "source": [
    "#export\n",
    "from copy import deepcopy"
   ]
  },
  {
   "cell_type": "code",
   "execution_count": 4,
   "metadata": {
    "pycharm": {
     "name": "#%%\n"
    }
   },
   "outputs": [],
   "source": [
    "#export\n",
    "import optuna"
   ]
  },
  {
   "cell_type": "code",
   "execution_count": 5,
   "metadata": {},
   "outputs": [],
   "source": [
    "#export\n",
    "SEED = 42"
   ]
  },
  {
   "cell_type": "code",
   "execution_count": 6,
   "metadata": {},
   "outputs": [],
   "source": [
    "from nbdev import export"
   ]
  },
  {
   "cell_type": "code",
   "execution_count": 7,
   "metadata": {},
   "outputs": [],
   "source": [
    "from nbdev.export import *"
   ]
  },
  {
   "cell_type": "code",
   "execution_count": 8,
   "metadata": {},
   "outputs": [],
   "source": [
    "#export\n",
    "from collections.abc import Iterable"
   ]
  },
  {
   "cell_type": "markdown",
   "metadata": {
    "pycharm": {
     "name": "#%% md\n"
    }
   },
   "source": [
    "# HyPSTER Classes"
   ]
  },
  {
   "cell_type": "code",
   "execution_count": 9,
   "metadata": {},
   "outputs": [],
   "source": [
    "#export\n",
    "from inspect import signature, Parameter\n",
    "import functools\n",
    "\n",
    "def auto_assign(func):\n",
    "    # Signature:\n",
    "    sig = signature(func)\n",
    "    for name, param in sig.parameters.items():\n",
    "        if param.kind in (Parameter.VAR_POSITIONAL, Parameter.VAR_KEYWORD):\n",
    "            raise RuntimeError('Unable to auto assign if *args or **kwargs in signature.')\n",
    "    # Wrapper:\n",
    "    @functools.wraps(func)\n",
    "    def wrapper(self, *args, **kwargs):\n",
    "        for i, (name, param) in enumerate(sig.parameters.items()):\n",
    "            # Skip 'self' param:\n",
    "            if i == 0: continue\n",
    "            # Search value in args, kwargs or defaults:\n",
    "            if i - 1 < len(args):\n",
    "                val = args[i - 1]\n",
    "            elif name in kwargs:\n",
    "                val = kwargs[name]\n",
    "            else:\n",
    "                val = param.default\n",
    "            setattr(self, name, val)\n",
    "        func(self, *args, **kwargs)\n",
    "    return wrapper"
   ]
  },
  {
   "cell_type": "code",
   "execution_count": 10,
   "metadata": {},
   "outputs": [],
   "source": [
    "#export\n",
    "class HypsterBase:\n",
    "    def __init__(self): return\n",
    "#TODO: add stuff here"
   ]
  },
  {
   "cell_type": "code",
   "execution_count": 11,
   "metadata": {},
   "outputs": [],
   "source": [
    "#export\n",
    "class HpExpression:\n",
    "    def __init__(self, exp1, exp2):\n",
    "        self.exp1 = exp1; self.exp2 = exp2\n",
    "    \n",
    "    def sample(self, trial): raise NotImplementedError\n",
    "    \n",
    "    #TODO: check what to do when name=None\n",
    "    def get_name(self):\n",
    "        if self.name is not None: return self.name\n",
    "\n",
    "        name = \"\"\n",
    "        if self.exp1 is not None and isinstance(self.exp1, HpExpression) and hasattr(self.exp1, \"name\"):\n",
    "            name += self.exp1.name\n",
    "        if self.exp2 is not None and isinstance(self.exp2, HpExpression) and hasattr(self.exp2, \"name\"):\n",
    "            if len(name) > 0:\n",
    "                name +=  \"_\"\n",
    "            name += self.exp2.name\n",
    "        self.name = name\n",
    "        return self.name\n",
    "        #TODO: refactor\n",
    "\n",
    "    def __add__(self, other):  return AddExpression(self, other)\n",
    "    def __radd__(self, other): return AddExpression(other, self)\n",
    "    def __sub__(self, other):  return SubExpression(self, other)\n",
    "    def __rsub__(self, other): return SubExpression(other, self)\n",
    "    def __mul__(self, other):  return MulExpression(self, other)\n",
    "    def __rmul__(self, other): return MulExpression(other, self)\n",
    "    def __div__(self, other):  return DivExpression(self, other)\n",
    "    def __rdiv__(self, other): return DivExpression(other, self)\n",
    "    def __pow__(self, other):  return PowExpression(self, other)\n",
    "    def __rpow__(self, other): return PowExpression(other, self)"
   ]
  },
  {
   "cell_type": "code",
   "execution_count": 12,
   "metadata": {},
   "outputs": [],
   "source": [
    "#export\n",
    "HYPSTER_TYPES = (HypsterBase, HpExpression)"
   ]
  },
  {
   "cell_type": "code",
   "execution_count": 13,
   "metadata": {},
   "outputs": [],
   "source": [
    "#export\n",
    "class SubExpression(HpExpression):\n",
    "    def sample(self, trial):\n",
    "        exp1 = sample_hp(self.exp1, trial)\n",
    "        exp2 = sample_hp(self.exp2, trial)\n",
    "        return exp1 - exp2"
   ]
  },
  {
   "cell_type": "code",
   "execution_count": 14,
   "metadata": {},
   "outputs": [],
   "source": [
    "#export\n",
    "class AddExpression(HpExpression):    \n",
    "    def sample(self, trial):\n",
    "        exp1 = sample_hp(self.exp1, trial)\n",
    "        exp2 = sample_hp(self.exp2, trial)\n",
    "        return exp1 + exp2"
   ]
  },
  {
   "cell_type": "code",
   "execution_count": 15,
   "metadata": {},
   "outputs": [],
   "source": [
    "#export\n",
    "class MulExpression(HpExpression):    \n",
    "    def sample(self, trial):\n",
    "        exp1 = sample_hp(self.exp1, trial)\n",
    "        exp2 = sample_hp(self.exp2, trial)\n",
    "        return exp1 * exp2"
   ]
  },
  {
   "cell_type": "code",
   "execution_count": 16,
   "metadata": {},
   "outputs": [],
   "source": [
    "#export\n",
    "class DivExpression(HpExpression):    \n",
    "    def sample(self, trial):\n",
    "        exp1 = sample_hp(self.exp1, trial)\n",
    "        exp2 = sample_hp(self.exp2, trial)\n",
    "        return exp1 / exp2"
   ]
  },
  {
   "cell_type": "code",
   "execution_count": 17,
   "metadata": {},
   "outputs": [],
   "source": [
    "#export\n",
    "class PowExpression(HpExpression):    \n",
    "    def sample(self, trial):\n",
    "        exp1 = sample_hp(self.exp1, trial)\n",
    "        exp2 = sample_hp(self.exp2, trial)\n",
    "        return exp1 ** exp2"
   ]
  },
  {
   "cell_type": "code",
   "execution_count": 18,
   "metadata": {},
   "outputs": [],
   "source": [
    "#TODO: add round, int, floor etc...\n",
    "#TODO: add Brackets (), [] etc...?"
   ]
  },
  {
   "cell_type": "code",
   "execution_count": 19,
   "metadata": {},
   "outputs": [],
   "source": [
    "def foo(a, b=\"hello\"):\n",
    "    print(a)"
   ]
  },
  {
   "cell_type": "code",
   "execution_count": 20,
   "metadata": {},
   "outputs": [],
   "source": [
    "def remove_prefix(text, prefix):\n",
    "    if text.startswith(prefix):\n",
    "        return text[len(prefix):]\n",
    "    return text"
   ]
  },
  {
   "cell_type": "code",
   "execution_count": 21,
   "metadata": {},
   "outputs": [],
   "source": [
    "def get_name_from_hp(hp):\n",
    "    return remove_prefix(hp.__class__.__name__.lower(), \"hp\")"
   ]
  },
  {
   "cell_type": "code",
   "execution_count": 22,
   "metadata": {},
   "outputs": [],
   "source": [
    "# upon init -> assign a name by manual name or type\n",
    "# upon using prepare - if there isn't a manual name - assign the name by arg_name"
   ]
  },
  {
   "cell_type": "code",
   "execution_count": 23,
   "metadata": {},
   "outputs": [],
   "source": [
    "# upon initializing a study, recursively go through arguments and check if there are same expressions.\n",
    "# for each arg in args:\n",
    "    # if there is another name and both manually defined -- error\n",
    "    # if there is another name and both and not manually defined --> add suffix to both by order\n",
    "    # if one is not manually defined --> get serial number of current and add suffix only to the one not manually defined"
   ]
  },
  {
   "cell_type": "raw",
   "metadata": {},
   "source": [
    "if has name:\n",
    "    set_name(name,db) and use flag - manual name\n",
    "else:\n",
    "    if arg/kwarg:\n",
    "        --> if kwarg:\n",
    "            set_name(kwarg, db)\n",
    "        else:\n",
    "            kwarg = arg_name from function/class\n",
    "            set_name(kwarg, db)\n",
    "    else:\n",
    "        set name(get_name_from_type(type(hp), db))"
   ]
  },
  {
   "cell_type": "raw",
   "metadata": {},
   "source": [
    "Naming HPs\n",
    "- Each HP needs a name for a given study\n",
    "- We need to avoid HPs with different porpuses with the same name\n",
    "- HPs can be declared outside and inside a function/Class call"
   ]
  },
  {
   "cell_type": "raw",
   "metadata": {},
   "source": [
    "- We can name an HP by its kwarg\n",
    "- We can name an HP by the original arg name in the prepared function/Class"
   ]
  },
  {
   "cell_type": "raw",
   "metadata": {},
   "source": [
    "Solutions:\n",
    "- Same model gets increasing serial numbers\n",
    "- Different models get different prefixes\n",
    "- Fallback to type with serial number (e.g. \"int_1\")"
   ]
  },
  {
   "cell_type": "raw",
   "metadata": {},
   "source": [
    "Caveats\n",
    "- Same name - different HP: Same Model / Different Models"
   ]
  },
  {
   "cell_type": "raw",
   "metadata": {},
   "source": [
    "Problems:\n",
    "- If used with toggle_cond and the name changes - can cause errors -----> handle/warn if there are multiple names\n",
    "- Problem when using recipes"
   ]
  },
  {
   "cell_type": "code",
   "execution_count": 24,
   "metadata": {},
   "outputs": [],
   "source": [
    "#export\n",
    "def set_init_name(default_name, name):\n",
    "    if name is not None:\n",
    "        return name, True\n",
    "    else:\n",
    "        return default_name, False"
   ]
  },
  {
   "cell_type": "code",
   "execution_count": 25,
   "metadata": {},
   "outputs": [],
   "source": [
    "#export\n",
    "class HpInt(HpExpression):\n",
    "    @auto_assign\n",
    "    def __init__(self, low, high, step=1, name=None):\n",
    "        self.name, self.manual_name = set_init_name(\"int\", name)\n",
    "    \n",
    "    def sample(self, trial):\n",
    "        return trial.suggest_int(self.name, self.low, self.high, self.step)"
   ]
  },
  {
   "cell_type": "code",
   "execution_count": 26,
   "metadata": {},
   "outputs": [],
   "source": [
    "#export\n",
    "class HpFloat(HpExpression):\n",
    "    @auto_assign\n",
    "    def __init__(self, low, high, log=False, step=None, name=None):\n",
    "        self.name, self.manual_name = set_init_name(\"float\", name)\n",
    "        #TODO: check what's up with log and step\n",
    "        #TODO: move result to HpExpression?\n",
    "    \n",
    "    def sample(self, trial):\n",
    "        return trial.suggest_float(self.name, self.low, self.high)\n",
    "    \n",
    "    #TODO: warn if log=True & step is not None\n",
    "    #TODO: check what is the \"*\" in the function definition"
   ]
  },
  {
   "cell_type": "code",
   "execution_count": 27,
   "metadata": {},
   "outputs": [],
   "source": [
    "#export\n",
    "def _log_optuna_param(param_name, result, trial):\n",
    "    trial.set_user_attr(param_name, result)"
   ]
  },
  {
   "cell_type": "code",
   "execution_count": 28,
   "metadata": {},
   "outputs": [],
   "source": [
    "#export\n",
    "class HpFunc(HpExpression):\n",
    "    def __init__(self, func, name=None, **kwargs):\n",
    "        self.name, self.manual_name = set_init_name(\"func\", name)\n",
    "        self.func = func\n",
    "        self.kwargs = kwargs\n",
    "        \n",
    "    def sample(self, trial):\n",
    "        result = self.func(trial, **self.kwargs)\n",
    "        _log_optuna_param(self.name, result, trial)\n",
    "        return result"
   ]
  },
  {
   "cell_type": "code",
   "execution_count": 29,
   "metadata": {},
   "outputs": [],
   "source": [
    "#export\n",
    "class HpCategorical(HpExpression):\n",
    "    @auto_assign\n",
    "    def __init__(self, choices, name=None):\n",
    "        self.name, self.manual_name = set_init_name(\"categorical\", name)\n",
    "\n",
    "    def sample(self, trial):         \n",
    "        choices           = self.choices\n",
    "        name              = self.name\n",
    "        optuna_valid_cats = [str, int, float, bool, NoneType] #TODO: add more + move to global area\n",
    "        \n",
    "        if any([type(choice) not in optuna_valid_cats for choice in self.choices]):\n",
    "            #TODO: add check for \"choice.__name__\"\n",
    "            self.items_str = [choice.__name__ for choice in choices]\n",
    "            self.str_dict  = dict(zip(self.items_str, choices))\n",
    "            chosen_hp      = trial.suggest_categorical(name, self.str_dict)\n",
    "            result         = self.str_dict[chosen_hp]\n",
    "        else:\n",
    "            result = trial.suggest_categorical(name, choices)\n",
    "        return result"
   ]
  },
  {
   "cell_type": "code",
   "execution_count": 30,
   "metadata": {},
   "outputs": [],
   "source": [
    "#export\n",
    "class HpBool(HpCategorical):\n",
    "    def __init__(self, name=None):\n",
    "        super().__init__(choices=[False, True])\n",
    "        self.name, self.manual_name = set_init_name(\"boolean\", name)"
   ]
  },
  {
   "cell_type": "code",
   "execution_count": 31,
   "metadata": {},
   "outputs": [],
   "source": [
    "#export\n",
    "class HpToggle(HpBool):\n",
    "    @auto_assign\n",
    "    def __init__(self, hp, name=None):\n",
    "        if name is None:\n",
    "            self.manual_name = False\n",
    "            if isinstance(hp, HpExpression) and hp.name is not None:\n",
    "                self.name = f\"toggle_{hp.name}\"\n",
    "                \n",
    "            elif hasattr(hp, \"__class__\") and hasattr(hp.__class__, \"__name__\"):\n",
    "                self.name = f\"toggle_{hp.__class__.__name__}\"\n",
    "            else:\n",
    "                self.name = \"toggle\"\n",
    "        else:\n",
    "            self.name = name\n",
    "            self.manual_name = True\n",
    "        \n",
    "    def sample(self, trial): return HpBool(self.name).sample(trial)"
   ]
  },
  {
   "cell_type": "code",
   "execution_count": 32,
   "metadata": {},
   "outputs": [],
   "source": [
    "#export\n",
    "class HpVarLenList(HpExpression):\n",
    "    #TODO: think of a better name?\n",
    "    @auto_assign\n",
    "    def __init__(self, min_len, max_len, hp, same_value=False, name=None):\n",
    "        self.name, self.manual_name = set_init_name(\"var_len_list\", name)\n",
    "    \n",
    "    def sample(self, trial):\n",
    "        lst_len = trial.suggest_int(self.name, self.min_len, self.max_len)\n",
    "        lst = []\n",
    "        if (self.same_value) or (not contains_hypster(self.hp, HYPSTER_TYPES)):\n",
    "            lst = [sample_hp(self.hp, trial)] * lst_len\n",
    "        else:\n",
    "            for i in range(lst_len):\n",
    "                hp = deepcopy(self.hp)\n",
    "                hp.result = None\n",
    "                hp.name = f\"{hp.get_name()}_{i+1}\"\n",
    "                result = sample_hp(hp, trial)\n",
    "                lst.append(result)\n",
    "\n",
    "        return lst"
   ]
  },
  {
   "cell_type": "code",
   "execution_count": 33,
   "metadata": {},
   "outputs": [],
   "source": [
    "#TODO: make HpVarLenTuple"
   ]
  },
  {
   "cell_type": "code",
   "execution_count": 34,
   "metadata": {},
   "outputs": [],
   "source": [
    "#export\n",
    "class HpIterable:\n",
    "    def __init__(self): return"
   ]
  },
  {
   "cell_type": "code",
   "execution_count": 35,
   "metadata": {},
   "outputs": [],
   "source": [
    "#export\n",
    "def list_to_tuple(lst): return (*lst, )"
   ]
  },
  {
   "cell_type": "code",
   "execution_count": 36,
   "metadata": {},
   "outputs": [],
   "source": [
    "#export\n",
    "def populate_iterable(iterable, trial):\n",
    "    sampled_lst = []\n",
    "    for item in iterable:\n",
    "        if isinstance(item, HpToggle):\n",
    "            if sample_hp(item, trial):\n",
    "                sampled_lst.append(sample_hp(item.hp, trial))\n",
    "        else:\n",
    "            sampled_lst.append(sample_hp(item, trial))\n",
    "    return sampled_lst"
   ]
  },
  {
   "cell_type": "code",
   "execution_count": 37,
   "metadata": {},
   "outputs": [],
   "source": [
    "#export\n",
    "def populate_dict(dct, trial):\n",
    "    sampled_dict = {}\n",
    "    for key, value in dct.items():\n",
    "        if isinstance(value, HpToggle):\n",
    "            if sample_hp(value, trial):\n",
    "                sampled_dict[key] = sample_hp(value.hp, trial)\n",
    "        else:\n",
    "            sampled_dict[key] = sample_hp(value, trial)\n",
    "    return sampled_dict"
   ]
  },
  {
   "cell_type": "code",
   "execution_count": 38,
   "metadata": {},
   "outputs": [],
   "source": [
    "#export\n",
    "class HpList(HpIterable):\n",
    "    @auto_assign\n",
    "    def __init__(self, lst): pass\n",
    "    \n",
    "    def sample(self, trial):\n",
    "        return populate_iterable(self.lst, trial)"
   ]
  },
  {
   "cell_type": "code",
   "execution_count": 39,
   "metadata": {},
   "outputs": [],
   "source": [
    "#export\n",
    "class HpTuple(HpIterable):\n",
    "    @auto_assign\n",
    "    def __init__(self, tup): pass\n",
    "    \n",
    "    def sample(self, trial):\n",
    "        return list_to_tuple(populate_iterable(self.tup, trial))"
   ]
  },
  {
   "cell_type": "code",
   "execution_count": 40,
   "metadata": {},
   "outputs": [],
   "source": [
    "#export\n",
    "class HpDict(HpIterable):\n",
    "    @auto_assign\n",
    "    def __init__(self, dct): pass\n",
    "    \n",
    "    def sample(self, trial):\n",
    "        return populate_dict(self.dct, trial)"
   ]
  },
  {
   "cell_type": "markdown",
   "metadata": {},
   "source": [
    "# Tests"
   ]
  },
  {
   "cell_type": "code",
   "execution_count": 41,
   "metadata": {},
   "outputs": [],
   "source": [
    "#export\n",
    "DATA_STRUCTURES = (set, list, tuple, dict)"
   ]
  },
  {
   "cell_type": "code",
   "execution_count": 42,
   "metadata": {},
   "outputs": [],
   "source": [
    "#export\n",
    "def contains_hypster(x, types):\n",
    "    if not isinstance(x, DATA_STRUCTURES):\n",
    "        x = [x]\n",
    "    elif isinstance(x, dict):\n",
    "        x = x.values()\n",
    "        \n",
    "    for item in x:\n",
    "        if isinstance(item, DATA_STRUCTURES):\n",
    "            if contains_hypster(item, types):\n",
    "                return True\n",
    "        else:\n",
    "            if isinstance(item, types):\n",
    "                return True\n",
    "    return False"
   ]
  },
  {
   "cell_type": "code",
   "execution_count": 43,
   "metadata": {},
   "outputs": [],
   "source": [
    "#TODO!: check if class attributes / methods? have hypster in them"
   ]
  },
  {
   "cell_type": "markdown",
   "metadata": {},
   "source": [
    "## Test contains_hypster"
   ]
  },
  {
   "cell_type": "code",
   "execution_count": 44,
   "metadata": {},
   "outputs": [],
   "source": [
    "hps = []"
   ]
  },
  {
   "cell_type": "code",
   "execution_count": 45,
   "metadata": {},
   "outputs": [],
   "source": [
    "hps.append(HpInt(2, 10))"
   ]
  },
  {
   "cell_type": "code",
   "execution_count": 46,
   "metadata": {},
   "outputs": [],
   "source": [
    "hps.append({\"hi\" : 4, \"hello\": HpFloat(1.0, 2.0)})"
   ]
  },
  {
   "cell_type": "code",
   "execution_count": 47,
   "metadata": {},
   "outputs": [],
   "source": [
    "hps.append([\"a\", 2, HpInt(1, 19)])"
   ]
  },
  {
   "cell_type": "code",
   "execution_count": 48,
   "metadata": {},
   "outputs": [],
   "source": [
    "hps.append([\"a\", 2, {\"ho\": \"hello\"}, {\"hi\" : HpCategorical([1,2,3])}])"
   ]
  },
  {
   "cell_type": "code",
   "execution_count": 49,
   "metadata": {},
   "outputs": [
    {
     "data": {
      "text/plain": [
       "[True, True, True, True]"
      ]
     },
     "execution_count": 49,
     "metadata": {},
     "output_type": "execute_result"
    }
   ],
   "source": [
    "[contains_hypster(hp, HpExpression) for hp in hps]"
   ]
  },
  {
   "cell_type": "code",
   "execution_count": 50,
   "metadata": {},
   "outputs": [],
   "source": [
    "#export\n",
    "def sample_hp(hp, trial):\n",
    "    if not contains_hypster(hp, HYPSTER_TYPES):\n",
    "        return hp\n",
    "    #TODO: change to dynamic dispatch\n",
    "    if isinstance(hp, list):\n",
    "        hp = HpList(hp)\n",
    "    elif isinstance(hp, tuple):\n",
    "        hp = HpTuple(hp)\n",
    "    elif isinstance(hp, dict):\n",
    "        hp = HpDict(hp)\n",
    "    return hp.sample(trial)\n",
    "#TODO: handle list of lists\n",
    "#TODO!: check if class attributes / methods? have hypster in them"
   ]
  },
  {
   "cell_type": "code",
   "execution_count": 51,
   "metadata": {},
   "outputs": [],
   "source": [
    "#export\n",
    "def run_hp_test(hp):\n",
    "    def objective(trial):\n",
    "        print(sample_hp(hp, trial))\n",
    "        return 1.0        \n",
    "    \n",
    "    optuna.logging.set_verbosity(0)\n",
    "    pruner = optuna.pruners.NopPruner()\n",
    "    study = optuna.create_study(direction=\"maximize\", pruner=pruner)\n",
    "    study.optimize(objective, n_trials=5, timeout=600)\n",
    "    return study"
   ]
  },
  {
   "cell_type": "markdown",
   "metadata": {},
   "source": [
    "### HpToggle"
   ]
  },
  {
   "cell_type": "code",
   "execution_count": 52,
   "metadata": {},
   "outputs": [],
   "source": [
    "x = [1, 5, HpToggle(10)]"
   ]
  },
  {
   "cell_type": "code",
   "execution_count": 53,
   "metadata": {},
   "outputs": [
    {
     "name": "stdout",
     "output_type": "stream",
     "text": [
      "[1, 5]\n",
      "[1, 5, 10]\n",
      "[1, 5, 10]\n",
      "[1, 5]\n",
      "[1, 5, 10]\n"
     ]
    }
   ],
   "source": [
    "study = run_hp_test(x)"
   ]
  },
  {
   "cell_type": "code",
   "execution_count": 54,
   "metadata": {},
   "outputs": [],
   "source": [
    "y = (1, 5, HpToggle(10))"
   ]
  },
  {
   "cell_type": "code",
   "execution_count": 55,
   "metadata": {},
   "outputs": [
    {
     "name": "stdout",
     "output_type": "stream",
     "text": [
      "(1, 5, 10)\n",
      "(1, 5, 10)\n",
      "(1, 5, 10)\n",
      "(1, 5)\n",
      "(1, 5)\n"
     ]
    },
    {
     "data": {
      "text/plain": [
       "<optuna.study.Study at 0x266eb8df860>"
      ]
     },
     "execution_count": 55,
     "metadata": {},
     "output_type": "execute_result"
    }
   ],
   "source": [
    "run_hp_test(y)"
   ]
  },
  {
   "cell_type": "code",
   "execution_count": 56,
   "metadata": {},
   "outputs": [],
   "source": [
    "z = {\"hi\" : 1, \"hello\" : 5, \"howdy\" : HpToggle(10)}"
   ]
  },
  {
   "cell_type": "code",
   "execution_count": 57,
   "metadata": {},
   "outputs": [
    {
     "name": "stdout",
     "output_type": "stream",
     "text": [
      "{'hi': 1, 'hello': 5, 'howdy': 10}\n",
      "{'hi': 1, 'hello': 5, 'howdy': 10}\n",
      "{'hi': 1, 'hello': 5}\n",
      "{'hi': 1, 'hello': 5, 'howdy': 10}\n",
      "{'hi': 1, 'hello': 5}\n"
     ]
    },
    {
     "data": {
      "text/plain": [
       "<optuna.study.Study at 0x266eb921cc0>"
      ]
     },
     "execution_count": 57,
     "metadata": {},
     "output_type": "execute_result"
    }
   ],
   "source": [
    "run_hp_test(z)"
   ]
  },
  {
   "cell_type": "markdown",
   "metadata": {},
   "source": [
    "### Int"
   ]
  },
  {
   "cell_type": "code",
   "execution_count": 58,
   "metadata": {},
   "outputs": [],
   "source": [
    "x = HpInt(2, 10)\n",
    "x_lst = [HpInt(2, 10, name=\"int_1\"), HpInt(12,29, name=\"int_2\")]\n",
    "y = HpInt(50, 300, 50)"
   ]
  },
  {
   "cell_type": "code",
   "execution_count": 59,
   "metadata": {},
   "outputs": [
    {
     "name": "stdout",
     "output_type": "stream",
     "text": [
      "2\n",
      "7\n",
      "6\n",
      "5\n",
      "6\n"
     ]
    }
   ],
   "source": [
    "study = run_hp_test(x)"
   ]
  },
  {
   "cell_type": "code",
   "execution_count": 60,
   "metadata": {},
   "outputs": [
    {
     "name": "stdout",
     "output_type": "stream",
     "text": [
      "[3, 21]\n",
      "[2, 29]\n",
      "[4, 24]\n",
      "[7, 25]\n",
      "[3, 29]\n"
     ]
    }
   ],
   "source": [
    "study = run_hp_test(x_lst)"
   ]
  },
  {
   "cell_type": "code",
   "execution_count": 61,
   "metadata": {},
   "outputs": [
    {
     "name": "stdout",
     "output_type": "stream",
     "text": [
      "300\n",
      "200\n",
      "300\n",
      "200\n",
      "250\n"
     ]
    },
    {
     "data": {
      "text/plain": [
       "<optuna.study.Study at 0x266eb8e31d0>"
      ]
     },
     "execution_count": 61,
     "metadata": {},
     "output_type": "execute_result"
    }
   ],
   "source": [
    "run_hp_test(y)"
   ]
  },
  {
   "cell_type": "code",
   "execution_count": 62,
   "metadata": {},
   "outputs": [],
   "source": [
    "z = HpVarLenList(1, 5, x, same_value=False)"
   ]
  },
  {
   "cell_type": "code",
   "execution_count": 63,
   "metadata": {},
   "outputs": [
    {
     "name": "stdout",
     "output_type": "stream",
     "text": [
      "[7, 9, 5, 3, 2]\n",
      "[2, 5, 7]\n",
      "[10, 3, 6, 10, 4]\n",
      "[5]\n",
      "[8, 7, 5]\n"
     ]
    },
    {
     "data": {
      "text/plain": [
       "<optuna.study.Study at 0x266eb925a90>"
      ]
     },
     "execution_count": 63,
     "metadata": {},
     "output_type": "execute_result"
    }
   ],
   "source": [
    "run_hp_test(z)"
   ]
  },
  {
   "cell_type": "markdown",
   "metadata": {},
   "source": [
    "### Float"
   ]
  },
  {
   "cell_type": "code",
   "execution_count": 64,
   "metadata": {},
   "outputs": [],
   "source": [
    "x = HpFloat(1.0, 2.0)\n",
    "y = HpVarLenList(1, 5, x, same_value=False)"
   ]
  },
  {
   "cell_type": "code",
   "execution_count": 65,
   "metadata": {},
   "outputs": [
    {
     "name": "stdout",
     "output_type": "stream",
     "text": [
      "1.180864872308181\n",
      "1.2662859764184922\n",
      "1.1443112633667802\n",
      "1.9436805724550816\n",
      "1.772682914217706\n"
     ]
    },
    {
     "data": {
      "text/plain": [
       "<optuna.study.Study at 0x266eb925550>"
      ]
     },
     "execution_count": 65,
     "metadata": {},
     "output_type": "execute_result"
    }
   ],
   "source": [
    "run_hp_test(x)"
   ]
  },
  {
   "cell_type": "code",
   "execution_count": 66,
   "metadata": {},
   "outputs": [
    {
     "name": "stdout",
     "output_type": "stream",
     "text": [
      "[1.5058304630792991]\n",
      "[1.1626948626617564, 1.793465423960677, 1.1475072149268832]\n",
      "[1.4980978212773792, 1.9622718144985607]\n",
      "[1.4598367269022274, 1.5010161812476452, 1.0593921942099505]\n",
      "[1.2405179523631638, 1.5967285276312924, 1.3852228277542706, 1.6706037479420281, 1.1575539020429049]\n"
     ]
    },
    {
     "data": {
      "text/plain": [
       "<optuna.study.Study at 0x266eb925f60>"
      ]
     },
     "execution_count": 66,
     "metadata": {},
     "output_type": "execute_result"
    }
   ],
   "source": [
    "run_hp_test(y)"
   ]
  },
  {
   "cell_type": "markdown",
   "metadata": {},
   "source": [
    "### Categorical"
   ]
  },
  {
   "cell_type": "code",
   "execution_count": 67,
   "metadata": {},
   "outputs": [],
   "source": [
    "x = HpCategorical([\"cat\", \"meow\", \"rrrrrr\"])\n",
    "y = HpCategorical([Adam, SGD, QHAdam])\n",
    "z = HpVarLenList(1, 5, x, same_value=False)"
   ]
  },
  {
   "cell_type": "code",
   "execution_count": 68,
   "metadata": {},
   "outputs": [
    {
     "name": "stdout",
     "output_type": "stream",
     "text": [
      "rrrrrr\n",
      "rrrrrr\n",
      "rrrrrr\n",
      "meow\n",
      "meow\n"
     ]
    },
    {
     "data": {
      "text/plain": [
       "<optuna.study.Study at 0x266eb943278>"
      ]
     },
     "execution_count": 68,
     "metadata": {},
     "output_type": "execute_result"
    }
   ],
   "source": [
    "run_hp_test(x)"
   ]
  },
  {
   "cell_type": "code",
   "execution_count": 69,
   "metadata": {},
   "outputs": [
    {
     "name": "stdout",
     "output_type": "stream",
     "text": [
      "<function QHAdam at 0x00000266E70E4268>\n",
      "<function SGD at 0x00000266E70E0A60>\n",
      "<function QHAdam at 0x00000266E70E4268>\n",
      "<function QHAdam at 0x00000266E70E4268>\n",
      "<function SGD at 0x00000266E70E0A60>\n"
     ]
    },
    {
     "data": {
      "text/plain": [
       "<optuna.study.Study at 0x266eb946e80>"
      ]
     },
     "execution_count": 69,
     "metadata": {},
     "output_type": "execute_result"
    }
   ],
   "source": [
    "run_hp_test(y)"
   ]
  },
  {
   "cell_type": "code",
   "execution_count": 70,
   "metadata": {},
   "outputs": [
    {
     "name": "stdout",
     "output_type": "stream",
     "text": [
      "['cat', 'meow', 'rrrrrr', 'cat']\n",
      "['cat', 'cat']\n",
      "['rrrrrr', 'rrrrrr', 'meow', 'rrrrrr']\n",
      "['meow', 'meow', 'cat', 'rrrrrr', 'cat']\n",
      "['meow', 'meow', 'cat']\n"
     ]
    },
    {
     "data": {
      "text/plain": [
       "<optuna.study.Study at 0x266eb945e10>"
      ]
     },
     "execution_count": 70,
     "metadata": {},
     "output_type": "execute_result"
    }
   ],
   "source": [
    "run_hp_test(z)"
   ]
  },
  {
   "cell_type": "markdown",
   "metadata": {},
   "source": [
    "### Boolean"
   ]
  },
  {
   "cell_type": "code",
   "execution_count": 71,
   "metadata": {},
   "outputs": [],
   "source": [
    "x = HpBool()\n",
    "y = HpVarLenList(1, 5, x, same_value=False)"
   ]
  },
  {
   "cell_type": "code",
   "execution_count": 72,
   "metadata": {},
   "outputs": [
    {
     "name": "stdout",
     "output_type": "stream",
     "text": [
      "False\n",
      "True\n",
      "False\n",
      "True\n",
      "False\n"
     ]
    },
    {
     "data": {
      "text/plain": [
       "<optuna.study.Study at 0x266eb9516d8>"
      ]
     },
     "execution_count": 72,
     "metadata": {},
     "output_type": "execute_result"
    }
   ],
   "source": [
    "run_hp_test(x)"
   ]
  },
  {
   "cell_type": "code",
   "execution_count": 73,
   "metadata": {},
   "outputs": [
    {
     "name": "stdout",
     "output_type": "stream",
     "text": [
      "[True, False]\n",
      "[True, False, True, False, True]\n",
      "[True, True, False]\n",
      "[False]\n",
      "[True, False, True, True, True]\n"
     ]
    },
    {
     "data": {
      "text/plain": [
       "<optuna.study.Study at 0x266eb95a160>"
      ]
     },
     "execution_count": 73,
     "metadata": {},
     "output_type": "execute_result"
    }
   ],
   "source": [
    "run_hp_test(y)"
   ]
  },
  {
   "cell_type": "markdown",
   "metadata": {},
   "source": [
    "### HpIterable"
   ]
  },
  {
   "cell_type": "code",
   "execution_count": 74,
   "metadata": {},
   "outputs": [],
   "source": [
    "x = HpBool()"
   ]
  },
  {
   "cell_type": "code",
   "execution_count": 75,
   "metadata": {},
   "outputs": [],
   "source": [
    "lst = [x, 5]\n",
    "tup = [x, 5]\n",
    "dct = {\"first\" : x, \"second\" : 5}"
   ]
  },
  {
   "cell_type": "code",
   "execution_count": 76,
   "metadata": {},
   "outputs": [],
   "source": [
    "start_mom = HpFloat(0.85, 0.99)"
   ]
  },
  {
   "cell_type": "code",
   "execution_count": 77,
   "metadata": {},
   "outputs": [],
   "source": [
    "mom = (start_mom, start_mom - 0.1)"
   ]
  },
  {
   "cell_type": "code",
   "execution_count": 78,
   "metadata": {},
   "outputs": [
    {
     "name": "stdout",
     "output_type": "stream",
     "text": [
      "(0.8760376548396693, 0.7760376548396694)\n",
      "(0.9174187462512133, 0.8174187462512134)\n",
      "(0.9449105309508516, 0.8449105309508517)\n",
      "(0.8821444596736566, 0.7821444596736566)\n",
      "(0.9858478870019507, 0.8858478870019507)\n"
     ]
    },
    {
     "data": {
      "text/plain": [
       "<optuna.study.Study at 0x266eb9629b0>"
      ]
     },
     "execution_count": 78,
     "metadata": {},
     "output_type": "execute_result"
    }
   ],
   "source": [
    "run_hp_test(mom)"
   ]
  },
  {
   "cell_type": "code",
   "execution_count": 79,
   "metadata": {},
   "outputs": [
    {
     "name": "stdout",
     "output_type": "stream",
     "text": [
      "[True, 5]\n",
      "[False, 5]\n",
      "[True, 5]\n",
      "[False, 5]\n",
      "[True, 5]\n"
     ]
    },
    {
     "data": {
      "text/plain": [
       "<optuna.study.Study at 0x266eb962f60>"
      ]
     },
     "execution_count": 79,
     "metadata": {},
     "output_type": "execute_result"
    }
   ],
   "source": [
    "run_hp_test(lst)"
   ]
  },
  {
   "cell_type": "code",
   "execution_count": 80,
   "metadata": {},
   "outputs": [
    {
     "name": "stdout",
     "output_type": "stream",
     "text": [
      "[False, 5]\n",
      "[False, 5]\n",
      "[False, 5]\n",
      "[True, 5]\n",
      "[False, 5]\n"
     ]
    },
    {
     "data": {
      "text/plain": [
       "<optuna.study.Study at 0x266eb9654a8>"
      ]
     },
     "execution_count": 80,
     "metadata": {},
     "output_type": "execute_result"
    }
   ],
   "source": [
    "run_hp_test(tup)"
   ]
  },
  {
   "cell_type": "code",
   "execution_count": 81,
   "metadata": {},
   "outputs": [
    {
     "name": "stdout",
     "output_type": "stream",
     "text": [
      "{'first': False, 'second': 5}\n",
      "{'first': True, 'second': 5}\n",
      "{'first': True, 'second': 5}\n",
      "{'first': True, 'second': 5}\n",
      "{'first': True, 'second': 5}\n"
     ]
    },
    {
     "data": {
      "text/plain": [
       "<optuna.study.Study at 0x266eb965908>"
      ]
     },
     "execution_count": 81,
     "metadata": {},
     "output_type": "execute_result"
    }
   ],
   "source": [
    "run_hp_test(dct)"
   ]
  },
  {
   "cell_type": "code",
   "execution_count": 82,
   "metadata": {
    "pycharm": {
     "name": "#%%\n"
    }
   },
   "outputs": [],
   "source": [
    "#TODO consider adding \"name\" into HpExpression"
   ]
  },
  {
   "cell_type": "code",
   "execution_count": 83,
   "metadata": {
    "pycharm": {
     "name": "#%%\n"
    }
   },
   "outputs": [],
   "source": [
    "#HpFunc"
   ]
  },
  {
   "cell_type": "code",
   "execution_count": 84,
   "metadata": {
    "pycharm": {
     "name": "#%%\n"
    }
   },
   "outputs": [],
   "source": [
    "#TODO: support expressions like HpInt(...) * HpFloat(...) ?"
   ]
  },
  {
   "cell_type": "code",
   "execution_count": 85,
   "metadata": {},
   "outputs": [
    {
     "name": "stdout",
     "output_type": "stream",
     "text": [
      "Converted 00_core.ipynb.\n",
      "Converted 01_api.ipynb.\n",
      "Converted 02_oo_hp.ipynb.\n",
      "Converted 03_hypster_prepare.ipynb.\n",
      "Converted 04_tabular_api.ipynb.\n",
      "Converted 05_sklearn.ipynb.\n",
      "Converted fastai_adult_tutorial.ipynb.\n",
      "Converted index.ipynb.\n"
     ]
    }
   ],
   "source": [
    "notebook2script()"
   ]
  },
  {
   "cell_type": "code",
   "execution_count": null,
   "metadata": {},
   "outputs": [],
   "source": []
  }
 ],
 "metadata": {
  "kernelspec": {
   "display_name": "Python 3",
   "language": "python",
   "name": "python3"
  },
  "language_info": {
   "codemirror_mode": {
    "name": "ipython",
    "version": 3
   },
   "file_extension": ".py",
   "mimetype": "text/x-python",
   "name": "python",
   "nbconvert_exporter": "python",
   "pygments_lexer": "ipython3",
   "version": "3.7.3"
  }
 },
 "nbformat": 4,
 "nbformat_minor": 4
}
