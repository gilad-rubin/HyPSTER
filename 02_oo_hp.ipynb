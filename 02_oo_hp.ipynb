{
 "cells": [
  {
   "cell_type": "code",
   "execution_count": 1,
   "metadata": {},
   "outputs": [],
   "source": [
    "#default_exp oo_hp"
   ]
  },
  {
   "cell_type": "code",
   "execution_count": 2,
   "metadata": {},
   "outputs": [],
   "source": [
    "# handle already sampled HP\n",
    "# go over classes and find invalid assumptions"
   ]
  },
  {
   "cell_type": "code",
   "execution_count": 3,
   "metadata": {
    "pycharm": {
     "name": "#%%\n"
    }
   },
   "outputs": [],
   "source": [
    "# handle names for expressions - change expression names within expression"
   ]
  },
  {
   "cell_type": "code",
   "execution_count": 4,
   "metadata": {
    "pycharm": {
     "name": "#%%\n"
    }
   },
   "outputs": [],
   "source": [
    "#export\n",
    "import fastai2\n",
    "from fastai2.tabular.all import *\n",
    "from fastai2.metrics import *"
   ]
  },
  {
   "cell_type": "code",
   "execution_count": 5,
   "metadata": {},
   "outputs": [],
   "source": [
    "#export\n",
    "from copy import deepcopy"
   ]
  },
  {
   "cell_type": "code",
   "execution_count": 6,
   "metadata": {
    "pycharm": {
     "name": "#%%\n"
    }
   },
   "outputs": [],
   "source": [
    "#export\n",
    "import optuna"
   ]
  },
  {
   "cell_type": "code",
   "execution_count": 7,
   "metadata": {},
   "outputs": [],
   "source": [
    "#export\n",
    "SEED = 42"
   ]
  },
  {
   "cell_type": "code",
   "execution_count": 8,
   "metadata": {},
   "outputs": [],
   "source": [
    "from nbdev import export"
   ]
  },
  {
   "cell_type": "code",
   "execution_count": 9,
   "metadata": {},
   "outputs": [],
   "source": [
    "from nbdev.export import *"
   ]
  },
  {
   "cell_type": "code",
   "execution_count": 10,
   "metadata": {},
   "outputs": [],
   "source": [
    "#export\n",
    "from collections.abc import Iterable"
   ]
  },
  {
   "cell_type": "markdown",
   "metadata": {
    "pycharm": {
     "name": "#%% md\n"
    }
   },
   "source": [
    "# HyPSTER Classes"
   ]
  },
  {
   "cell_type": "code",
   "execution_count": 11,
   "metadata": {},
   "outputs": [],
   "source": [
    "#export\n",
    "from inspect import signature, Parameter\n",
    "import functools\n",
    "\n",
    "def auto_assign(func):\n",
    "    # Signature:\n",
    "    sig = signature(func)\n",
    "    for name, param in sig.parameters.items():\n",
    "        if param.kind in (Parameter.VAR_POSITIONAL, Parameter.VAR_KEYWORD):\n",
    "            raise RuntimeError('Unable to auto assign if *args or **kwargs in signature.')\n",
    "    # Wrapper:\n",
    "    @functools.wraps(func)\n",
    "    def wrapper(self, *args, **kwargs):\n",
    "        for i, (name, param) in enumerate(sig.parameters.items()):\n",
    "            # Skip 'self' param:\n",
    "            if i == 0: continue\n",
    "            # Search value in args, kwargs or defaults:\n",
    "            if i - 1 < len(args):\n",
    "                val = args[i - 1]\n",
    "            elif name in kwargs:\n",
    "                val = kwargs[name]\n",
    "            else:\n",
    "                val = param.default\n",
    "            setattr(self, name, val)\n",
    "        func(self, *args, **kwargs)\n",
    "    return wrapper"
   ]
  },
  {
   "cell_type": "code",
   "execution_count": 12,
   "metadata": {},
   "outputs": [],
   "source": [
    "#export\n",
    "class HypsterBase(object):\n",
    "    def __init__(self): return\n",
    "#TODO: add stuff here"
   ]
  },
  {
   "cell_type": "code",
   "execution_count": 13,
   "metadata": {},
   "outputs": [],
   "source": [
    "#export\n",
    "class HpExpression(object):\n",
    "    def __init__(self, exp1, exp2):\n",
    "        self.exp1 = exp1; self.exp2 = exp2    \n",
    "    \n",
    "    def sample(self, trial): raise NotImplementedError\n",
    "    \n",
    "    def get_name(self):\n",
    "        if self.name is not None: return self.name\n",
    "\n",
    "        name = \"\"\n",
    "        if self.exp1 is not None and isinstance(self.exp1, HpExpression) and hasattr(self.exp1, \"name\"):\n",
    "            name += self.exp1.name\n",
    "        if self.exp2 is not None and isinstance(self.exp2, HpExpression) and hasattr(self.exp2, \"name\"):\n",
    "            if len(name) > 0:\n",
    "                name +=  \"_\"\n",
    "            name += self.exp2.name\n",
    "        self.name = name\n",
    "        return self.name\n",
    "        #TODO: refactor\n",
    "        \n",
    "    def __add__(self, other):  return AddExpression(self, other)\n",
    "    def __radd__(self, other): return AddExpression(other, self)\n",
    "    def __sub__(self, other):  return SubExpression(self, other)\n",
    "    def __rsub__(self, other): return SubExpression(other, self)\n",
    "    def __mul__(self, other):  return MulExpression(self, other)\n",
    "    def __rmul__(self, other): return MulExpression(other, self)\n",
    "    def __div__(self, other):  return DivExpression(self, other)\n",
    "    def __rdiv__(self, other): return DivExpression(other, self)\n",
    "    def __pow__(self, other):  return PowExpression(self, other)\n",
    "    def __rpow__(self, other): return PowExpression(other, self)"
   ]
  },
  {
   "cell_type": "code",
   "execution_count": 14,
   "metadata": {},
   "outputs": [],
   "source": [
    "#export\n",
    "HYPSTER_TYPES = (HypsterBase, HpExpression)"
   ]
  },
  {
   "cell_type": "code",
   "execution_count": 15,
   "metadata": {},
   "outputs": [],
   "source": [
    "#export\n",
    "class SubExpression(HpExpression):\n",
    "    def sample(self, trial):\n",
    "        exp1 = sample_hp(self.exp1, trial)\n",
    "        exp2 = sample_hp(self.exp2, trial)\n",
    "        return exp1 - exp2"
   ]
  },
  {
   "cell_type": "code",
   "execution_count": 16,
   "metadata": {},
   "outputs": [],
   "source": [
    "#export\n",
    "class AddExpression(HpExpression):    \n",
    "    def sample(self, trial):\n",
    "        exp1 = sample_hp(self.exp1, trial)\n",
    "        exp2 = sample_hp(self.exp2, trial)\n",
    "        return exp1 + exp2"
   ]
  },
  {
   "cell_type": "code",
   "execution_count": 17,
   "metadata": {},
   "outputs": [],
   "source": [
    "#export\n",
    "class MulExpression(HpExpression):    \n",
    "    def sample(self, trial):\n",
    "        exp1 = sample_hp(self.exp1, trial)\n",
    "        exp2 = sample_hp(self.exp2, trial)\n",
    "        return exp1 * exp2"
   ]
  },
  {
   "cell_type": "code",
   "execution_count": 18,
   "metadata": {},
   "outputs": [],
   "source": [
    "#export\n",
    "class DivExpression(HpExpression):    \n",
    "    def sample(self, trial):\n",
    "        exp1 = sample_hp(self.exp1, trial)\n",
    "        exp2 = sample_hp(self.exp2, trial)\n",
    "        return exp1 / exp2"
   ]
  },
  {
   "cell_type": "code",
   "execution_count": 19,
   "metadata": {},
   "outputs": [],
   "source": [
    "#export\n",
    "class PowExpression(HpExpression):    \n",
    "    def sample(self, trial):\n",
    "        exp1 = sample_hp(self.exp1, trial)\n",
    "        exp2 = sample_hp(self.exp2, trial)\n",
    "        return exp1 ** exp2"
   ]
  },
  {
   "cell_type": "code",
   "execution_count": 20,
   "metadata": {},
   "outputs": [],
   "source": [
    "#TODO: add round, int, floor etc...\n",
    "#TODO: add Brackets () etc...?"
   ]
  },
  {
   "cell_type": "code",
   "execution_count": 21,
   "metadata": {},
   "outputs": [],
   "source": [
    "#export\n",
    "class HpFloat(HpExpression):\n",
    "    @auto_assign\n",
    "    def __init__(self, name, low, high, log=False, step=None):\n",
    "        self.result = None\n",
    "        #TODO: check what's up with log and step\n",
    "        #TODO: move result to HpExpression?\n",
    "        \n",
    "    def sample(self, trial): \n",
    "        #self.result = ifnone(self.result, trial.suggest_float(self.name, self.low, self.high))\n",
    "        self.result = trial.suggest_float(self.name, self.low, self.high)\n",
    "        return self.result\n",
    "    \n",
    "    #TODO: warn if log=True & step is not None\n",
    "    #TODO: check what is the \"*\" in the function definition"
   ]
  },
  {
   "cell_type": "code",
   "execution_count": 22,
   "metadata": {},
   "outputs": [],
   "source": [
    "#export\n",
    "class HpInt(HpExpression):\n",
    "    @auto_assign\n",
    "    def __init__(self, name, low, high, step=1):\n",
    "        self.result = None\n",
    "    \n",
    "    def sample(self, trial):\n",
    "        #self.result = ifnone(self.result, trial.suggest_int(self.name, self.low, self.high, self.step))\n",
    "        self.result = trial.suggest_int(self.name, self.low, self.high, self.step)\n",
    "        return self.result"
   ]
  },
  {
   "cell_type": "code",
   "execution_count": 23,
   "metadata": {},
   "outputs": [],
   "source": [
    "#export\n",
    "class HpCategorical(HpExpression):\n",
    "    @auto_assign\n",
    "    def __init__(self, name, choices): \n",
    "        self.result = None\n",
    "    \n",
    "    def sample(self, trial): \n",
    "        #print(f\"result = {self.result}\")\n",
    "        #if self.result is not None:\n",
    "        #    return self.result\n",
    "        \n",
    "        choices           = self.choices\n",
    "        name              = self.name\n",
    "        optuna_valid_cats = [str, int, float, bool] #TODO: add more + move to global area\n",
    "        \n",
    "        if any([type(choice) not in optuna_valid_cats for choice in self.choices]):\n",
    "            #TODO: add check for \"choice.__name__\"\n",
    "            self.items_str = [choice.__name__ for choice in choices]\n",
    "            self.str_dict  = dict(zip(self.items_str, choices))\n",
    "            chosen_hp      = trial.suggest_categorical(name, self.str_dict)\n",
    "            self.result    = self.str_dict[chosen_hp]\n",
    "        else:\n",
    "            self.result = trial.suggest_categorical(name, choices)\n",
    "        return self.result"
   ]
  },
  {
   "cell_type": "code",
   "execution_count": 24,
   "metadata": {},
   "outputs": [],
   "source": [
    "#export\n",
    "class HpVarLenList(HpExpression):\n",
    "    #TODO: think of a better name?\n",
    "    #TODO: maje VarLenTuple\n",
    "    @auto_assign\n",
    "    def __init__(self, name, min_len, max_len, hp, same_value=False): pass        \n",
    "    \n",
    "    def sample(self, trial):\n",
    "        lst_len = trial.suggest_int(self.name, self.min_len, self.max_len)\n",
    "        lst = []\n",
    "        if (self.same_value) or (not isinstance(self.hp, HpExpression)):\n",
    "            lst = [sample_hp(self.hp, trial)] * lst_len\n",
    "        else:\n",
    "            for i in range(lst_len):\n",
    "                hp = deepcopy(self.hp)\n",
    "                hp.result = None\n",
    "                hp.name = f\"{hp.get_name()}_{i+1}\"\n",
    "                result = sample_hp(hp, trial)\n",
    "                lst.append(result)\n",
    "                #TODO keep self.result?\n",
    "        return lst"
   ]
  },
  {
   "cell_type": "code",
   "execution_count": 25,
   "metadata": {},
   "outputs": [],
   "source": [
    "#export\n",
    "def list_to_tuple(lst): return (*lst, )"
   ]
  },
  {
   "cell_type": "code",
   "execution_count": 26,
   "metadata": {},
   "outputs": [],
   "source": [
    "#export\n",
    "class HpDict(HpExpression):\n",
    "    @auto_assign\n",
    "    def __init__(self, name, dct): pass\n",
    "    \n",
    "    def sample(self, trial):\n",
    "        return {key : sample_hp(value, trial) for key, value in self.dct.items()}"
   ]
  },
  {
   "cell_type": "code",
   "execution_count": 27,
   "metadata": {},
   "outputs": [],
   "source": [
    "#export\n",
    "class HpTuple(HpExpression):\n",
    "    @auto_assign\n",
    "    def __init__(self, name, tup): pass\n",
    "    \n",
    "    def sample(self, trial):\n",
    "        return list_to_tuple([sample_hp(item, trial) for item in self.tup])"
   ]
  },
  {
   "cell_type": "code",
   "execution_count": 28,
   "metadata": {},
   "outputs": [],
   "source": [
    "#export\n",
    "class HpList(HpExpression):\n",
    "    @auto_assign\n",
    "    def __init__(self, name, lst): pass\n",
    "    \n",
    "    def sample(self, trial):\n",
    "        return [sample_hp(item, trial) for item in self.lst]"
   ]
  },
  {
   "cell_type": "code",
   "execution_count": 29,
   "metadata": {},
   "outputs": [],
   "source": [
    "#export\n",
    "class HpBool(HpCategorical):\n",
    "    def __init__(self, name):\n",
    "        super().__init__(name, choices=[False, True])"
   ]
  },
  {
   "cell_type": "code",
   "execution_count": 30,
   "metadata": {},
   "outputs": [],
   "source": [
    "#export\n",
    "class HpToggle(HpBool):\n",
    "    @auto_assign\n",
    "    def __init__(self, hp): return\n",
    "    def sample(self, trial): return trial.suggest_categorical(f\"toggle_{self.hp.name}\", [False, True])\n",
    "    #TODO: fix hp.name\n",
    "    #TODO: support toggle in iterable, dict & upon assignment"
   ]
  },
  {
   "cell_type": "markdown",
   "metadata": {},
   "source": [
    "# Tests"
   ]
  },
  {
   "cell_type": "code",
   "execution_count": 31,
   "metadata": {},
   "outputs": [],
   "source": [
    "#export\n",
    "DATA_STRUCTURES = (set, list, tuple, dict)"
   ]
  },
  {
   "cell_type": "code",
   "execution_count": 32,
   "metadata": {},
   "outputs": [],
   "source": [
    "#export\n",
    "def contains_hypster(x, types):\n",
    "    if not isinstance(x, DATA_STRUCTURES):\n",
    "        x = [x]\n",
    "    elif isinstance(x, dict):\n",
    "        x = x.values()\n",
    "        \n",
    "    for item in x:\n",
    "        if isinstance(item, DATA_STRUCTURES):\n",
    "            if contains_hypster(item, types):\n",
    "                return True\n",
    "        else:\n",
    "            if isinstance(item, types):\n",
    "                return True\n",
    "    return False"
   ]
  },
  {
   "cell_type": "code",
   "execution_count": 33,
   "metadata": {},
   "outputs": [],
   "source": [
    "#TODO!: check if class attributes / methods? have hypster in them"
   ]
  },
  {
   "cell_type": "markdown",
   "metadata": {},
   "source": [
    "# Test contains_hypster"
   ]
  },
  {
   "cell_type": "code",
   "execution_count": 34,
   "metadata": {},
   "outputs": [],
   "source": [
    "hps = []"
   ]
  },
  {
   "cell_type": "code",
   "execution_count": 35,
   "metadata": {},
   "outputs": [],
   "source": [
    "hps.append(HpInt(\"hi!\", 2, 10))"
   ]
  },
  {
   "cell_type": "code",
   "execution_count": 36,
   "metadata": {},
   "outputs": [],
   "source": [
    "hps.append({\"hi\" : 4, \"hello\": HpFloat(\"sdf\", 1.0, 2.0)})"
   ]
  },
  {
   "cell_type": "code",
   "execution_count": 37,
   "metadata": {},
   "outputs": [],
   "source": [
    "hps.append([\"a\", 2, HpInt(\"hola\", 1, 19)])"
   ]
  },
  {
   "cell_type": "code",
   "execution_count": 38,
   "metadata": {},
   "outputs": [],
   "source": [
    "hps.append([\"a\", 2, {\"ho\": \"hello\"}, {\"hi\" : HpCategorical(\"d\", [1,2,3])}])"
   ]
  },
  {
   "cell_type": "code",
   "execution_count": 39,
   "metadata": {},
   "outputs": [
    {
     "data": {
      "text/plain": [
       "[True, True, True, True]"
      ]
     },
     "execution_count": 39,
     "metadata": {},
     "output_type": "execute_result"
    }
   ],
   "source": [
    "[contains_hypster(hp, HpExpression) for hp in hps]"
   ]
  },
  {
   "cell_type": "code",
   "execution_count": 40,
   "metadata": {},
   "outputs": [],
   "source": [
    "#export\n",
    "def sample_hp(hp, trial):\n",
    "    if not contains_hypster(hp, HYPSTER_TYPES):\n",
    "        return hp\n",
    "    #TODO: change to dynamic dispatch\n",
    "    if isinstance(hp, list):\n",
    "        hp = HpList(\"temp_iter\", hp)\n",
    "    elif isinstance(hp, tuple):\n",
    "        hp = HpTuple(\"temp_tuple\", hp)\n",
    "    elif isinstance(hp, dict):\n",
    "        hp = HpDict(\"temp_dict\", hp)\n",
    "    return hp.sample(trial)\n",
    "    #TODO: handle names\n",
    "    #TODO: handle list of lists\n",
    "#TODO!: check if class attributes / methods? have hypster in them"
   ]
  },
  {
   "cell_type": "code",
   "execution_count": 41,
   "metadata": {},
   "outputs": [],
   "source": [
    "#export\n",
    "def run_hp_test(hp):\n",
    "    def objective(trial):\n",
    "        print(sample_hp(hp, trial))\n",
    "        return 1.0        \n",
    "    \n",
    "    optuna.logging.set_verbosity(0)\n",
    "    pruner = optuna.pruners.NopPruner()\n",
    "    study = optuna.create_study(direction=\"maximize\", pruner=pruner)\n",
    "    study.optimize(objective, n_trials=5, timeout=600)"
   ]
  },
  {
   "cell_type": "markdown",
   "metadata": {},
   "source": [
    "### Int"
   ]
  },
  {
   "cell_type": "code",
   "execution_count": 42,
   "metadata": {},
   "outputs": [],
   "source": [
    "x = HpInt(\"start_mom\", 2, 10)\n",
    "y = HpInt(\"layer_size\", 50, 300, 50)\n",
    "z = HpVarLenList(\"n_layers\", 1, 5, x, same_value=False)"
   ]
  },
  {
   "cell_type": "code",
   "execution_count": 43,
   "metadata": {},
   "outputs": [
    {
     "name": "stdout",
     "output_type": "stream",
     "text": [
      "6\n",
      "3\n",
      "5\n",
      "3\n",
      "6\n"
     ]
    }
   ],
   "source": [
    "run_hp_test(x)"
   ]
  },
  {
   "cell_type": "code",
   "execution_count": 44,
   "metadata": {},
   "outputs": [
    {
     "name": "stdout",
     "output_type": "stream",
     "text": [
      "50\n",
      "150\n",
      "250\n",
      "200\n",
      "50\n"
     ]
    }
   ],
   "source": [
    "run_hp_test(y)"
   ]
  },
  {
   "cell_type": "code",
   "execution_count": 45,
   "metadata": {},
   "outputs": [
    {
     "name": "stdout",
     "output_type": "stream",
     "text": [
      "[7, 6, 5, 10, 5]\n",
      "[6, 5, 9]\n",
      "[6, 2]\n",
      "[6, 2, 3, 6]\n",
      "[3, 9]\n"
     ]
    }
   ],
   "source": [
    "run_hp_test(z)"
   ]
  },
  {
   "cell_type": "markdown",
   "metadata": {},
   "source": [
    "### Float"
   ]
  },
  {
   "cell_type": "code",
   "execution_count": 46,
   "metadata": {},
   "outputs": [],
   "source": [
    "x = HpFloat(\"start_mom\", 1.0, 2.0)\n",
    "y = HpVarLenList(\"n_layers\", 1, 5, x, same_value=False)"
   ]
  },
  {
   "cell_type": "code",
   "execution_count": 47,
   "metadata": {},
   "outputs": [
    {
     "name": "stdout",
     "output_type": "stream",
     "text": [
      "1.3879644664275994\n",
      "1.7531483267995414\n",
      "1.508005910667182\n",
      "1.5193034454495609\n",
      "1.7671828683108106\n"
     ]
    }
   ],
   "source": [
    "run_hp_test(x)"
   ]
  },
  {
   "cell_type": "code",
   "execution_count": 48,
   "metadata": {},
   "outputs": [
    {
     "name": "stdout",
     "output_type": "stream",
     "text": [
      "[1.1775870548634737, 1.8615214149551362]\n",
      "[1.284111870563473]\n",
      "[1.8123168700260157]\n",
      "[1.1609262895136847, 1.104439518685078, 1.0655742933874026, 1.3400925333986293, 1.8611804332608208]\n",
      "[1.553481026655061, 1.1174550383813238]\n"
     ]
    }
   ],
   "source": [
    "run_hp_test(y)"
   ]
  },
  {
   "cell_type": "markdown",
   "metadata": {},
   "source": [
    "### Categorical"
   ]
  },
  {
   "cell_type": "code",
   "execution_count": 49,
   "metadata": {},
   "outputs": [],
   "source": [
    "x = HpCategorical(\"cats!\", [\"cat\", \"meow\", \"rrrrrr\"])\n",
    "y = HpCategorical(\"cats!\", [Adam, SGD, QHAdam])\n",
    "z = HpVarLenList(\"n_layers\", 1, 5, x, same_value=False)"
   ]
  },
  {
   "cell_type": "code",
   "execution_count": 50,
   "metadata": {},
   "outputs": [
    {
     "name": "stdout",
     "output_type": "stream",
     "text": [
      "rrrrrr\n",
      "cat\n",
      "meow\n",
      "rrrrrr\n",
      "rrrrrr\n"
     ]
    }
   ],
   "source": [
    "run_hp_test(x)"
   ]
  },
  {
   "cell_type": "code",
   "execution_count": 51,
   "metadata": {},
   "outputs": [
    {
     "name": "stdout",
     "output_type": "stream",
     "text": [
      "<function QHAdam at 0x00000224DBA63730>\n",
      "<function Adam at 0x00000224DBA63510>\n",
      "<function QHAdam at 0x00000224DBA63730>\n",
      "<function Adam at 0x00000224DBA63510>\n",
      "<function QHAdam at 0x00000224DBA63730>\n"
     ]
    }
   ],
   "source": [
    "run_hp_test(y)"
   ]
  },
  {
   "cell_type": "code",
   "execution_count": 52,
   "metadata": {},
   "outputs": [
    {
     "name": "stdout",
     "output_type": "stream",
     "text": [
      "['rrrrrr', 'cat', 'meow', 'rrrrrr']\n",
      "['rrrrrr', 'cat', 'meow', 'rrrrrr', 'meow']\n",
      "['meow']\n",
      "['meow', 'rrrrrr', 'cat']\n",
      "['rrrrrr']\n"
     ]
    }
   ],
   "source": [
    "run_hp_test(z)"
   ]
  },
  {
   "cell_type": "markdown",
   "metadata": {},
   "source": [
    "### Boolean"
   ]
  },
  {
   "cell_type": "code",
   "execution_count": 53,
   "metadata": {},
   "outputs": [],
   "source": [
    "x = HpBool(\"booli!\")\n",
    "y = HpVarLenList(\"n_layers\", 1, 5, x, same_value=False)"
   ]
  },
  {
   "cell_type": "code",
   "execution_count": 54,
   "metadata": {},
   "outputs": [
    {
     "name": "stdout",
     "output_type": "stream",
     "text": [
      "True\n",
      "False\n",
      "False\n",
      "True\n",
      "True\n"
     ]
    }
   ],
   "source": [
    "run_hp_test(x)"
   ]
  },
  {
   "cell_type": "code",
   "execution_count": 55,
   "metadata": {},
   "outputs": [
    {
     "name": "stdout",
     "output_type": "stream",
     "text": [
      "[False, True]\n",
      "[True, False, False, False]\n",
      "[True, True, False, True]\n",
      "[False, False, True]\n",
      "[False, False, True, False, False]\n"
     ]
    }
   ],
   "source": [
    "run_hp_test(y)"
   ]
  },
  {
   "cell_type": "markdown",
   "metadata": {},
   "source": [
    "### HpIterable"
   ]
  },
  {
   "cell_type": "code",
   "execution_count": 56,
   "metadata": {},
   "outputs": [],
   "source": [
    "x = HpBool(\"boolean\")"
   ]
  },
  {
   "cell_type": "code",
   "execution_count": 57,
   "metadata": {},
   "outputs": [],
   "source": [
    "lst = [x, 5]\n",
    "tup = [x, 5]\n",
    "dct = {\"first\" : x, \"second\" : 5}"
   ]
  },
  {
   "cell_type": "code",
   "execution_count": 58,
   "metadata": {},
   "outputs": [],
   "source": [
    "start_mom = HpFloat(\"start_mom\", 0.85, 0.99)"
   ]
  },
  {
   "cell_type": "code",
   "execution_count": 59,
   "metadata": {},
   "outputs": [],
   "source": [
    "mom = (start_mom, start_mom - 0.1)"
   ]
  },
  {
   "cell_type": "code",
   "execution_count": 60,
   "metadata": {},
   "outputs": [
    {
     "name": "stdout",
     "output_type": "stream",
     "text": [
      "(0.9609741682244752, 0.8609741682244753)\n",
      "(0.9664483532601778, 0.8664483532601778)\n",
      "(0.9245250620164737, 0.8245250620164737)\n",
      "(0.9243422688729885, 0.8243422688729886)\n",
      "(0.933816574098935, 0.8338165740989351)\n"
     ]
    }
   ],
   "source": [
    "run_hp_test(mom)"
   ]
  },
  {
   "cell_type": "code",
   "execution_count": 61,
   "metadata": {},
   "outputs": [
    {
     "name": "stdout",
     "output_type": "stream",
     "text": [
      "[True, 5]\n",
      "[False, 5]\n",
      "[False, 5]\n",
      "[False, 5]\n",
      "[True, 5]\n"
     ]
    }
   ],
   "source": [
    "run_hp_test(lst)"
   ]
  },
  {
   "cell_type": "code",
   "execution_count": 62,
   "metadata": {},
   "outputs": [
    {
     "name": "stdout",
     "output_type": "stream",
     "text": [
      "[False, 5]\n",
      "[True, 5]\n",
      "[False, 5]\n",
      "[False, 5]\n",
      "[True, 5]\n"
     ]
    }
   ],
   "source": [
    "run_hp_test(tup)"
   ]
  },
  {
   "cell_type": "code",
   "execution_count": 63,
   "metadata": {},
   "outputs": [
    {
     "name": "stdout",
     "output_type": "stream",
     "text": [
      "{'first': True, 'second': 5}\n",
      "{'first': True, 'second': 5}\n",
      "{'first': False, 'second': 5}\n",
      "{'first': False, 'second': 5}\n",
      "{'first': True, 'second': 5}\n"
     ]
    }
   ],
   "source": [
    "run_hp_test(dct)"
   ]
  },
  {
   "cell_type": "code",
   "execution_count": 64,
   "metadata": {
    "pycharm": {
     "name": "#%%\n"
    }
   },
   "outputs": [],
   "source": [
    "#TODO consider adding \"name\" into HpExpression"
   ]
  },
  {
   "cell_type": "code",
   "execution_count": 65,
   "metadata": {
    "pycharm": {
     "name": "#%%\n"
    }
   },
   "outputs": [],
   "source": [
    "#HpFunc"
   ]
  },
  {
   "cell_type": "code",
   "execution_count": 66,
   "metadata": {
    "pycharm": {
     "name": "#%%\n"
    }
   },
   "outputs": [],
   "source": [
    "#TODO: support expressions like HpInt(...) * HpFloat(...) ?"
   ]
  },
  {
   "cell_type": "code",
   "execution_count": 67,
   "metadata": {},
   "outputs": [
    {
     "name": "stdout",
     "output_type": "stream",
     "text": [
      "Converted 00_core.ipynb.\n",
      "Converted 01_api.ipynb.\n",
      "Converted 02_oo_hp.ipynb.\n",
      "Converted 03_hypster_prepare.ipynb.\n",
      "Converted 04_fastai_adult_tutorial.ipynb.\n",
      "Converted 04_tabular_api.ipynb.\n",
      "Converted index.ipynb.\n"
     ]
    }
   ],
   "source": [
    "notebook2script()"
   ]
  }
 ],
 "metadata": {
  "kernelspec": {
   "display_name": "Python 3",
   "language": "python",
   "name": "python3"
  },
  "language_info": {
   "codemirror_mode": {
    "name": "ipython",
    "version": 3
   },
   "file_extension": ".py",
   "mimetype": "text/x-python",
   "name": "python",
   "nbconvert_exporter": "python",
   "pygments_lexer": "ipython3",
   "version": "3.7.3"
  }
 },
 "nbformat": 4,
 "nbformat_minor": 4
}
