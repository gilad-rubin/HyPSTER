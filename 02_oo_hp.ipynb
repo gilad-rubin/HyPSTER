{
 "cells": [
  {
   "cell_type": "code",
   "execution_count": 1,
   "metadata": {},
   "outputs": [],
   "source": [
    "#default_exp oo_hp"
   ]
  },
  {
   "cell_type": "code",
   "execution_count": 2,
   "metadata": {
    "pycharm": {
     "name": "#%%\n"
    }
   },
   "outputs": [],
   "source": [
    "#export\n",
    "import fastai2\n",
    "from fastai2.tabular.all import *\n",
    "from fastai2.metrics import *"
   ]
  },
  {
   "cell_type": "code",
   "execution_count": 3,
   "metadata": {},
   "outputs": [],
   "source": [
    "#export\n",
    "from copy import deepcopy"
   ]
  },
  {
   "cell_type": "code",
   "execution_count": 4,
   "metadata": {
    "pycharm": {
     "name": "#%%\n"
    }
   },
   "outputs": [],
   "source": [
    "#export\n",
    "import optuna"
   ]
  },
  {
   "cell_type": "code",
   "execution_count": 5,
   "metadata": {},
   "outputs": [],
   "source": [
    "#export\n",
    "SEED = 42"
   ]
  },
  {
   "cell_type": "code",
   "execution_count": 6,
   "metadata": {},
   "outputs": [],
   "source": [
    "from nbdev import export"
   ]
  },
  {
   "cell_type": "code",
   "execution_count": 7,
   "metadata": {},
   "outputs": [],
   "source": [
    "from nbdev.export import *"
   ]
  },
  {
   "cell_type": "code",
   "execution_count": 8,
   "metadata": {},
   "outputs": [],
   "source": [
    "#export\n",
    "from collections.abc import Iterable"
   ]
  },
  {
   "cell_type": "markdown",
   "metadata": {
    "pycharm": {
     "name": "#%% md\n"
    }
   },
   "source": [
    "# HyPSTER Classes"
   ]
  },
  {
   "cell_type": "code",
   "execution_count": 9,
   "metadata": {},
   "outputs": [],
   "source": [
    "#export\n",
    "from inspect import signature, Parameter\n",
    "import functools\n",
    "\n",
    "def auto_assign(func):\n",
    "    # Signature:\n",
    "    sig = signature(func)\n",
    "    for name, param in sig.parameters.items():\n",
    "        if param.kind in (Parameter.VAR_POSITIONAL, Parameter.VAR_KEYWORD):\n",
    "            raise RuntimeError('Unable to auto assign if *args or **kwargs in signature.')\n",
    "    # Wrapper:\n",
    "    @functools.wraps(func)\n",
    "    def wrapper(self, *args, **kwargs):\n",
    "        for i, (name, param) in enumerate(sig.parameters.items()):\n",
    "            # Skip 'self' param:\n",
    "            if i == 0: continue\n",
    "            # Search value in args, kwargs or defaults:\n",
    "            if i - 1 < len(args):\n",
    "                val = args[i - 1]\n",
    "            elif name in kwargs:\n",
    "                val = kwargs[name]\n",
    "            else:\n",
    "                val = param.default\n",
    "            setattr(self, name, val)\n",
    "        func(self, *args, **kwargs)\n",
    "    return wrapper"
   ]
  },
  {
   "cell_type": "code",
   "execution_count": 10,
   "metadata": {},
   "outputs": [],
   "source": [
    "#export\n",
    "class HypsterBase:\n",
    "    def __init__(self): return\n",
    "#TODO: add stuff here"
   ]
  },
  {
   "cell_type": "code",
   "execution_count": 11,
   "metadata": {},
   "outputs": [],
   "source": [
    "#export\n",
    "class HpExpression:\n",
    "    def __init__(self, exp1, exp2):\n",
    "        self.exp1 = exp1; self.exp2 = exp2\n",
    "    \n",
    "    def sample(self, trial): raise NotImplementedError\n",
    "    \n",
    "    #TODO: check what to do when name=None\n",
    "    def get_name(self):\n",
    "        if self.name is not None: return self.name\n",
    "\n",
    "        name = \"\"\n",
    "        if self.exp1 is not None and isinstance(self.exp1, HpExpression) and hasattr(self.exp1, \"name\"):\n",
    "            name += self.exp1.name\n",
    "        if self.exp2 is not None and isinstance(self.exp2, HpExpression) and hasattr(self.exp2, \"name\"):\n",
    "            if len(name) > 0:\n",
    "                name +=  \"_\"\n",
    "            name += self.exp2.name\n",
    "        self.name = name\n",
    "        return self.name\n",
    "        #TODO: refactor\n",
    "\n",
    "    def __add__(self, other):  return AddExpression(self, other)\n",
    "    def __radd__(self, other): return AddExpression(other, self)\n",
    "    def __sub__(self, other):  return SubExpression(self, other)\n",
    "    def __rsub__(self, other): return SubExpression(other, self)\n",
    "    def __mul__(self, other):  return MulExpression(self, other)\n",
    "    def __rmul__(self, other): return MulExpression(other, self)\n",
    "    def __div__(self, other):  return DivExpression(self, other)\n",
    "    def __rdiv__(self, other): return DivExpression(other, self)\n",
    "    def __pow__(self, other):  return PowExpression(self, other)\n",
    "    def __rpow__(self, other): return PowExpression(other, self)"
   ]
  },
  {
   "cell_type": "code",
   "execution_count": 12,
   "metadata": {},
   "outputs": [],
   "source": [
    "#export\n",
    "HYPSTER_TYPES = (HypsterBase, HpExpression)"
   ]
  },
  {
   "cell_type": "code",
   "execution_count": 13,
   "metadata": {},
   "outputs": [],
   "source": [
    "#export\n",
    "class SubExpression(HpExpression):\n",
    "    def sample(self, trial):\n",
    "        exp1 = sample_hp(self.exp1, trial)\n",
    "        exp2 = sample_hp(self.exp2, trial)\n",
    "        return exp1 - exp2"
   ]
  },
  {
   "cell_type": "code",
   "execution_count": 14,
   "metadata": {},
   "outputs": [],
   "source": [
    "#export\n",
    "class AddExpression(HpExpression):    \n",
    "    def sample(self, trial):\n",
    "        exp1 = sample_hp(self.exp1, trial)\n",
    "        exp2 = sample_hp(self.exp2, trial)\n",
    "        return exp1 + exp2"
   ]
  },
  {
   "cell_type": "code",
   "execution_count": 15,
   "metadata": {},
   "outputs": [],
   "source": [
    "#export\n",
    "class MulExpression(HpExpression):    \n",
    "    def sample(self, trial):\n",
    "        exp1 = sample_hp(self.exp1, trial)\n",
    "        exp2 = sample_hp(self.exp2, trial)\n",
    "        return exp1 * exp2"
   ]
  },
  {
   "cell_type": "code",
   "execution_count": 16,
   "metadata": {},
   "outputs": [],
   "source": [
    "#export\n",
    "class DivExpression(HpExpression):    \n",
    "    def sample(self, trial):\n",
    "        exp1 = sample_hp(self.exp1, trial)\n",
    "        exp2 = sample_hp(self.exp2, trial)\n",
    "        return exp1 / exp2"
   ]
  },
  {
   "cell_type": "code",
   "execution_count": 17,
   "metadata": {},
   "outputs": [],
   "source": [
    "#export\n",
    "class PowExpression(HpExpression):    \n",
    "    def sample(self, trial):\n",
    "        exp1 = sample_hp(self.exp1, trial)\n",
    "        exp2 = sample_hp(self.exp2, trial)\n",
    "        return exp1 ** exp2"
   ]
  },
  {
   "cell_type": "code",
   "execution_count": 18,
   "metadata": {},
   "outputs": [],
   "source": [
    "#TODO: add round, int, floor etc...\n",
    "#TODO: add Brackets (), [] etc...?"
   ]
  },
  {
   "cell_type": "code",
   "execution_count": 19,
   "metadata": {},
   "outputs": [],
   "source": [
    "def foo(a, b=\"hello\"):\n",
    "    print(a)"
   ]
  },
  {
   "cell_type": "markdown",
   "metadata": {},
   "source": [
    "# Atomic HPs"
   ]
  },
  {
   "cell_type": "code",
   "execution_count": 20,
   "metadata": {},
   "outputs": [],
   "source": [
    "#export\n",
    "def set_init_name(default_name, name):\n",
    "    if name is not None:\n",
    "        return name, True\n",
    "    else:\n",
    "        return default_name, False"
   ]
  },
  {
   "cell_type": "code",
   "execution_count": 21,
   "metadata": {},
   "outputs": [],
   "source": [
    "def remove_prefix(text, prefix):\n",
    "    if text.startswith(prefix):\n",
    "        return text[len(prefix):]\n",
    "    return text"
   ]
  },
  {
   "cell_type": "code",
   "execution_count": 22,
   "metadata": {},
   "outputs": [],
   "source": [
    "def get_name_from_hp(hp):\n",
    "    return remove_prefix(hp.__class__.__name__.lower(), \"hp\")"
   ]
  },
  {
   "cell_type": "code",
   "execution_count": 23,
   "metadata": {},
   "outputs": [],
   "source": [
    "# upon init -> assign a name by manual name or type\n",
    "# upon using prepare - if there isn't a manual name - assign the name by arg_name"
   ]
  },
  {
   "cell_type": "code",
   "execution_count": 24,
   "metadata": {},
   "outputs": [],
   "source": [
    "# upon initializing a study, recursively go through arguments and check if there are same expressions.\n",
    "# for each arg in args:\n",
    "    # if there is another name and both manually defined -- error\n",
    "    # if there is another name and both and not manually defined --> add suffix to both by order\n",
    "    # if one is not manually defined --> get serial number of current and add suffix only to the one not manually defined"
   ]
  },
  {
   "cell_type": "code",
   "execution_count": 25,
   "metadata": {},
   "outputs": [],
   "source": [
    "#export\n",
    "def get_name(hp):\n",
    "    if isinstance(hp, HpExpression):\n",
    "        return hp.name\n",
    "    if hasattr(hp, \"call\"): #TODO: isinstance(hp, HypsterPrepare):\n",
    "        #TODO: check if exists(?)\n",
    "        return get_name(hp.call)\n",
    "    #TODO: check this part. why does norm=Normalize() return _TfmMeta?\n",
    "    if hasattr(hp, \"__name__\"):\n",
    "        return hp.__name__\n",
    "    if hasattr(hp, \"__class__\") and hasattr(hp.__class__, \"__name__\"):\n",
    "        return hp.__class__.__name__\n",
    "    if callable(hp):\n",
    "        #uninstantiated function/class\n",
    "        return hp.__name__\n",
    "    else:\n",
    "        print(\"Error! can't get name!\")\n",
    "        return"
   ]
  },
  {
   "cell_type": "code",
   "execution_count": 26,
   "metadata": {},
   "outputs": [],
   "source": [
    "class Shhhh:\n",
    "    def __init__(self): return"
   ]
  },
  {
   "cell_type": "code",
   "execution_count": 27,
   "metadata": {},
   "outputs": [],
   "source": [
    "def foo(x=5):\n",
    "    print(x)"
   ]
  },
  {
   "cell_type": "code",
   "execution_count": 28,
   "metadata": {},
   "outputs": [],
   "source": [
    "a = Shhhh()"
   ]
  },
  {
   "cell_type": "code",
   "execution_count": 29,
   "metadata": {},
   "outputs": [],
   "source": [
    "b=5"
   ]
  },
  {
   "cell_type": "code",
   "execution_count": 30,
   "metadata": {},
   "outputs": [
    {
     "data": {
      "text/plain": [
       "'int'"
      ]
     },
     "execution_count": 30,
     "metadata": {},
     "output_type": "execute_result"
    }
   ],
   "source": [
    "b.__class__.__name__"
   ]
  },
  {
   "cell_type": "code",
   "execution_count": 31,
   "metadata": {},
   "outputs": [],
   "source": [
    "b = 5"
   ]
  },
  {
   "cell_type": "code",
   "execution_count": 32,
   "metadata": {},
   "outputs": [
    {
     "data": {
      "text/plain": [
       "int"
      ]
     },
     "execution_count": 32,
     "metadata": {},
     "output_type": "execute_result"
    }
   ],
   "source": [
    "type(b)"
   ]
  },
  {
   "cell_type": "code",
   "execution_count": 33,
   "metadata": {},
   "outputs": [
    {
     "data": {
      "text/plain": [
       "__main__.Shhhh"
      ]
     },
     "execution_count": 33,
     "metadata": {},
     "output_type": "execute_result"
    }
   ],
   "source": [
    "type(a)"
   ]
  },
  {
   "cell_type": "code",
   "execution_count": 34,
   "metadata": {},
   "outputs": [
    {
     "data": {
      "text/plain": [
       "False"
      ]
     },
     "execution_count": 34,
     "metadata": {},
     "output_type": "execute_result"
    }
   ],
   "source": [
    "callable(a)"
   ]
  },
  {
   "cell_type": "code",
   "execution_count": 35,
   "metadata": {},
   "outputs": [
    {
     "data": {
      "text/plain": [
       "'Shhhh'"
      ]
     },
     "execution_count": 35,
     "metadata": {},
     "output_type": "execute_result"
    }
   ],
   "source": [
    "a.__class__.__name__"
   ]
  },
  {
   "cell_type": "code",
   "execution_count": 36,
   "metadata": {},
   "outputs": [],
   "source": [
    "#export\n",
    "class HpAtomic(HpExpression):\n",
    "    def __init__(self):\n",
    "        #..."
   ]
  },
  {
   "cell_type": "code",
   "execution_count": 37,
   "metadata": {},
   "outputs": [],
   "source": [
    "#export\n",
    "class HpInt(HpAtomic):\n",
    "    @auto_assign\n",
    "    def __init__(self, low, high, step=1, name=None):\n",
    "        self.name, self.manual_name = set_init_name(\"int\", name)\n",
    "        super().__init__(...)\n",
    "    \n",
    "    def sample(self, trial):\n",
    "        return trial.suggest_int(self.name, self.low, self.high, self.step)"
   ]
  },
  {
   "cell_type": "code",
   "execution_count": 38,
   "metadata": {},
   "outputs": [],
   "source": [
    "#export\n",
    "class HpFloat(HpAtomic):\n",
    "    @auto_assign\n",
    "    def __init__(self, low, high, log=False, step=None, name=None):\n",
    "        self.name, self.manual_name = set_init_name(\"float\", name)\n",
    "        #TODO: check what's up with log and step\n",
    "        #TODO: move result to HpExpression?\n",
    "    \n",
    "    def sample(self, trial):\n",
    "        return trial.suggest_float(self.name, self.low, self.high)\n",
    "    \n",
    "    #TODO: warn if log=True & step is not None\n",
    "    #TODO: check what is the \"*\" in the function definition"
   ]
  },
  {
   "cell_type": "code",
   "execution_count": 39,
   "metadata": {},
   "outputs": [],
   "source": [
    "#export\n",
    "def _log_optuna_param(param_name, result, trial):\n",
    "    trial.set_user_attr(param_name, result)"
   ]
  },
  {
   "cell_type": "code",
   "execution_count": 40,
   "metadata": {},
   "outputs": [],
   "source": [
    "#export\n",
    "class HpCategorical(HpAtomic):\n",
    "    @auto_assign\n",
    "    def __init__(self, choices, name=None):\n",
    "        self.name, self.manual_name = set_init_name(\"category\", name)\n",
    "\n",
    "    def sample(self, trial):         \n",
    "        choices           = self.choices\n",
    "        name              = self.name\n",
    "        optuna_valid_cats = [str, int, float, bool, NoneType] #TODO: add more + move to global area\n",
    "        \n",
    "        if any([type(choice) not in optuna_valid_cats for choice in self.choices]):\n",
    "            #TODO: add check for \"choice.__name__\"\n",
    "            self.items_str = [choice.__name__ for choice in choices]\n",
    "            self.str_dict  = dict(zip(self.items_str, choices))\n",
    "            chosen_hp      = trial.suggest_categorical(name, self.str_dict)\n",
    "            result         = self.str_dict[chosen_hp]\n",
    "        else:\n",
    "            result = trial.suggest_categorical(name, choices)\n",
    "        return result"
   ]
  },
  {
   "cell_type": "code",
   "execution_count": 41,
   "metadata": {},
   "outputs": [],
   "source": [
    "#export\n",
    "class HpBool(HpCategorical):\n",
    "    def __init__(self, name=None):\n",
    "        super().__init__(choices=[False, True])\n",
    "        self.name, self.manual_name = set_init_name(\"boolean\", name)"
   ]
  },
  {
   "cell_type": "code",
   "execution_count": 42,
   "metadata": {},
   "outputs": [],
   "source": [
    "#export\n",
    "class HpWrapper(HpExpression):\n",
    "    def __init__(self): return\n",
    "    def get_inner_obj(self): return"
   ]
  },
  {
   "cell_type": "code",
   "execution_count": 43,
   "metadata": {},
   "outputs": [],
   "source": [
    "#export\n",
    "class HpFunc(HpWrapper):\n",
    "    def __init__(self, func, name=None, **kwargs):\n",
    "        self.name, self.manual_name = set_init_name(\"func\", name)\n",
    "        self.func = func\n",
    "        self.kwargs = kwargs\n",
    "    \n",
    "    def get_inner_obj(self): return self.func\n",
    "    \n",
    "    def sample(self, trial):\n",
    "        result = self.func(trial, **self.kwargs)\n",
    "        _log_optuna_param(self.name, result, trial)\n",
    "        return result"
   ]
  },
  {
   "cell_type": "code",
   "execution_count": 44,
   "metadata": {},
   "outputs": [],
   "source": [
    "#export\n",
    "class HpToggle(HpWrapper):\n",
    "    @auto_assign\n",
    "    def __init__(self, hp, name=None):\n",
    "        if isinstance(hp, HypsterPrepare):\n",
    "            #TODO: go over args and kwargs and add prefix\n",
    "            #hp.name = f\"{get_name(hp)}_{hp.name}\"\n",
    "        inner_name = get_name(hp)\n",
    "        self.name, self.manual_name = set_init_name(f\"toggle_{inner_name}\", name)\n",
    "    def get_inner_obj(self): return self.hp\n",
    "    def sample(self, trial): return HpBool(self.name).sample(trial)"
   ]
  },
  {
   "cell_type": "code",
   "execution_count": 45,
   "metadata": {},
   "outputs": [],
   "source": [
    "#export\n",
    "class HpVarLenIterable(HpWrapper):\n",
    "    def __init__(self): return"
   ]
  },
  {
   "cell_type": "code",
   "execution_count": 46,
   "metadata": {},
   "outputs": [],
   "source": [
    "#export\n",
    "class HpVarLenList(HpVarLenIterable):\n",
    "    #TODO: think of a better name?\n",
    "    @auto_assign\n",
    "    def __init__(self, min_len, max_len, hp, same_value=False, name=None):\n",
    "        self.name, self.manual_name = set_init_name(\"var_len_list\", name)\n",
    "    \n",
    "    def sample(self, trial):\n",
    "        lst_len = trial.suggest_int(self.name, self.min_len, self.max_len)\n",
    "        lst = []\n",
    "        if (self.same_value) or (not contains_hypster(self.hp, HYPSTER_TYPES)):\n",
    "            lst = [sample_hp(self.hp, trial)] * lst_len\n",
    "        else:\n",
    "            for i in range(lst_len):\n",
    "                hp = deepcopy(self.hp)\n",
    "                hp.result = None\n",
    "                hp.name = f\"{hp.get_name()}_{i+1}\"\n",
    "                result = sample_hp(hp, trial)\n",
    "                lst.append(result)\n",
    "\n",
    "        return lst"
   ]
  },
  {
   "cell_type": "code",
   "execution_count": 47,
   "metadata": {},
   "outputs": [],
   "source": [
    "#export\n",
    "class HpVarLenTuple(HpVarLenIterable):\n",
    "    #TODO: think of a better name?\n",
    "    @auto_assign\n",
    "    def __init__(self, min_len, max_len, hp, same_value=False, name=None):\n",
    "        self.name, self.manual_name = set_init_name(\"var_len_tuple\", name)\n",
    "    \n",
    "    def sample(self, trial):\n",
    "        lst_len = trial.suggest_int(self.name, self.min_len, self.max_len)\n",
    "        lst = []\n",
    "        if (self.same_value) or (not contains_hypster(self.hp, HYPSTER_TYPES)):\n",
    "            lst = [sample_hp(self.hp, trial)] * lst_len\n",
    "        else:\n",
    "            for i in range(lst_len):\n",
    "                hp = deepcopy(self.hp)\n",
    "                hp.result = None\n",
    "                hp.name = f\"{hp.get_name()}_{i+1}\"\n",
    "                result = sample_hp(hp, trial)\n",
    "                lst.append(result)\n",
    "\n",
    "        return list_to_tuple(lst)\n",
    "    #TODO: refactor!!!"
   ]
  },
  {
   "cell_type": "code",
   "execution_count": 48,
   "metadata": {},
   "outputs": [],
   "source": [
    "#export\n",
    "class HpIterable(HpWrapper):\n",
    "    def __init__(self): return"
   ]
  },
  {
   "cell_type": "code",
   "execution_count": 49,
   "metadata": {},
   "outputs": [],
   "source": [
    "#export\n",
    "def list_to_tuple(lst): return (*lst, )"
   ]
  },
  {
   "cell_type": "code",
   "execution_count": 50,
   "metadata": {},
   "outputs": [],
   "source": [
    "#export\n",
    "def populate_iterable(iterable, trial):\n",
    "    sampled_lst = []\n",
    "    for item in iterable:\n",
    "        if isinstance(item, HpToggle):\n",
    "            if sample_hp(item, trial):\n",
    "                sampled_lst.append(sample_hp(item.hp, trial))\n",
    "        else:\n",
    "            sampled_lst.append(sample_hp(item, trial))\n",
    "    return sampled_lst"
   ]
  },
  {
   "cell_type": "code",
   "execution_count": 51,
   "metadata": {},
   "outputs": [],
   "source": [
    "#export\n",
    "def populate_dict(dct, trial):\n",
    "    sampled_dict = {}\n",
    "    for key, value in dct.items():\n",
    "        if isinstance(value, HpToggle):\n",
    "            if sample_hp(value, trial):\n",
    "                sampled_dict[key] = sample_hp(value.hp, trial)\n",
    "        else:\n",
    "            sampled_dict[key] = sample_hp(value, trial)\n",
    "    return sampled_dict"
   ]
  },
  {
   "cell_type": "code",
   "execution_count": 52,
   "metadata": {},
   "outputs": [],
   "source": [
    "#export\n",
    "class HpList(HpIterable):\n",
    "    @auto_assign\n",
    "    def __init__(self, lst):\n",
    "        self.name = \"list\"\n",
    "    def get_inner_obj(self): return self.lst\n",
    "    def sample(self, trial):\n",
    "        return populate_iterable(self.lst, trial)"
   ]
  },
  {
   "cell_type": "code",
   "execution_count": 53,
   "metadata": {},
   "outputs": [],
   "source": [
    "#export\n",
    "class HpTuple(HpIterable):\n",
    "    @auto_assign\n",
    "    def __init__(self, tup):\n",
    "        self.name = \"tuple\"\n",
    "    def get_inner_obj(self): return self.tup\n",
    "    def sample(self, trial):\n",
    "        return list_to_tuple(populate_iterable(self.tup, trial))"
   ]
  },
  {
   "cell_type": "code",
   "execution_count": 54,
   "metadata": {},
   "outputs": [],
   "source": [
    "#export\n",
    "class HpDict(HpIterable):\n",
    "    @auto_assign\n",
    "    def __init__(self, dct):\n",
    "        self.name = \"dict\"\n",
    "    def get_inner_obj(self): return self.dct\n",
    "    def sample(self, trial):\n",
    "        return populate_dict(self.dct, trial)"
   ]
  },
  {
   "cell_type": "markdown",
   "metadata": {},
   "source": [
    "# Tests"
   ]
  },
  {
   "cell_type": "code",
   "execution_count": 55,
   "metadata": {},
   "outputs": [],
   "source": [
    "#export\n",
    "DATA_STRUCTURES = (set, list, tuple, dict)"
   ]
  },
  {
   "cell_type": "code",
   "execution_count": 56,
   "metadata": {},
   "outputs": [],
   "source": [
    "#export\n",
    "def contains_hypster(x, types):\n",
    "    if not isinstance(x, DATA_STRUCTURES):\n",
    "        x = [x]\n",
    "    elif isinstance(x, dict):\n",
    "        x = x.values()\n",
    "        \n",
    "    for item in x:\n",
    "        if isinstance(item, DATA_STRUCTURES):\n",
    "            if contains_hypster(item, types):\n",
    "                return True\n",
    "        else:\n",
    "            if isinstance(item, types):\n",
    "                return True\n",
    "    return False"
   ]
  },
  {
   "cell_type": "code",
   "execution_count": 57,
   "metadata": {},
   "outputs": [],
   "source": [
    "#TODO!: check if class attributes / methods? have hypster in them"
   ]
  },
  {
   "cell_type": "markdown",
   "metadata": {},
   "source": [
    "## Test contains_hypster"
   ]
  },
  {
   "cell_type": "code",
   "execution_count": 58,
   "metadata": {},
   "outputs": [],
   "source": [
    "hps = []"
   ]
  },
  {
   "cell_type": "code",
   "execution_count": 59,
   "metadata": {},
   "outputs": [],
   "source": [
    "hps.append(HpInt(2, 10))"
   ]
  },
  {
   "cell_type": "code",
   "execution_count": 60,
   "metadata": {},
   "outputs": [],
   "source": [
    "hps.append({\"hi\" : 4, \"hello\": HpFloat(1.0, 2.0)})"
   ]
  },
  {
   "cell_type": "code",
   "execution_count": 61,
   "metadata": {},
   "outputs": [],
   "source": [
    "hps.append([\"a\", 2, HpInt(1, 19)])"
   ]
  },
  {
   "cell_type": "code",
   "execution_count": 62,
   "metadata": {},
   "outputs": [],
   "source": [
    "hps.append([\"a\", 2, {\"ho\": \"hello\"}, {\"hi\" : HpCategorical([1,2,3])}])"
   ]
  },
  {
   "cell_type": "code",
   "execution_count": 63,
   "metadata": {},
   "outputs": [
    {
     "data": {
      "text/plain": [
       "[True, True, True, True]"
      ]
     },
     "execution_count": 63,
     "metadata": {},
     "output_type": "execute_result"
    }
   ],
   "source": [
    "[contains_hypster(hp, HpExpression) for hp in hps]"
   ]
  },
  {
   "cell_type": "code",
   "execution_count": 64,
   "metadata": {},
   "outputs": [],
   "source": [
    "#export\n",
    "def sample_hp(hp, trial):\n",
    "    if not contains_hypster(hp, HYPSTER_TYPES):\n",
    "        return hp\n",
    "    #TODO: change to dynamic dispatch\n",
    "    if isinstance(hp, list):\n",
    "        hp = HpList(hp)\n",
    "    elif isinstance(hp, tuple):\n",
    "        hp = HpTuple(hp)\n",
    "    elif isinstance(hp, dict):\n",
    "        hp = HpDict(hp)\n",
    "    return hp.sample(trial)\n",
    "#TODO: handle list of lists\n",
    "#TODO!: check if class attributes / methods? have hypster in them"
   ]
  },
  {
   "cell_type": "code",
   "execution_count": 65,
   "metadata": {},
   "outputs": [],
   "source": [
    "#export\n",
    "def run_hp_test(hp):\n",
    "    def objective(trial):\n",
    "        print(sample_hp(hp, trial))\n",
    "        return 1.0        \n",
    "    \n",
    "    optuna.logging.set_verbosity(0)\n",
    "    pruner = optuna.pruners.NopPruner()\n",
    "    study = optuna.create_study(direction=\"maximize\", pruner=pruner)\n",
    "    study.optimize(objective, n_trials=5, timeout=600)\n",
    "    return study"
   ]
  },
  {
   "cell_type": "markdown",
   "metadata": {},
   "source": [
    "### HpToggle"
   ]
  },
  {
   "cell_type": "code",
   "execution_count": 66,
   "metadata": {},
   "outputs": [
    {
     "name": "stdout",
     "output_type": "stream",
     "text": [
      "10\n",
      "<class 'int'>\n"
     ]
    }
   ],
   "source": [
    "x = [1, 5, HpToggle(10)]"
   ]
  },
  {
   "cell_type": "code",
   "execution_count": 67,
   "metadata": {},
   "outputs": [
    {
     "name": "stdout",
     "output_type": "stream",
     "text": [
      "[1, 5]\n",
      "[1, 5, 10]\n",
      "[1, 5]\n",
      "[1, 5]\n",
      "[1, 5, 10]\n"
     ]
    }
   ],
   "source": [
    "study = run_hp_test(x)"
   ]
  },
  {
   "cell_type": "code",
   "execution_count": 68,
   "metadata": {},
   "outputs": [
    {
     "data": {
      "text/plain": [
       "{'toggle_int': False}"
      ]
     },
     "execution_count": 68,
     "metadata": {},
     "output_type": "execute_result"
    }
   ],
   "source": [
    "study.best_params"
   ]
  },
  {
   "cell_type": "code",
   "execution_count": 69,
   "metadata": {},
   "outputs": [
    {
     "name": "stdout",
     "output_type": "stream",
     "text": [
      "10\n",
      "<class 'int'>\n"
     ]
    }
   ],
   "source": [
    "y = (1, 5, HpToggle(10))"
   ]
  },
  {
   "cell_type": "code",
   "execution_count": 70,
   "metadata": {},
   "outputs": [
    {
     "name": "stdout",
     "output_type": "stream",
     "text": [
      "(1, 5, 10)\n",
      "(1, 5, 10)\n",
      "(1, 5, 10)\n",
      "(1, 5, 10)\n",
      "(1, 5, 10)\n"
     ]
    }
   ],
   "source": [
    "study = run_hp_test(y)"
   ]
  },
  {
   "cell_type": "code",
   "execution_count": 71,
   "metadata": {},
   "outputs": [
    {
     "data": {
      "text/plain": [
       "{'toggle_int': True}"
      ]
     },
     "execution_count": 71,
     "metadata": {},
     "output_type": "execute_result"
    }
   ],
   "source": [
    "study.best_params"
   ]
  },
  {
   "cell_type": "code",
   "execution_count": 72,
   "metadata": {},
   "outputs": [
    {
     "name": "stdout",
     "output_type": "stream",
     "text": [
      "10\n",
      "<class 'int'>\n"
     ]
    }
   ],
   "source": [
    "z = {\"hi\" : 1, \"hello\" : 5, \"howdy\" : HpToggle(10)}"
   ]
  },
  {
   "cell_type": "code",
   "execution_count": 73,
   "metadata": {},
   "outputs": [
    {
     "name": "stdout",
     "output_type": "stream",
     "text": [
      "{'hi': 1, 'hello': 5}\n",
      "{'hi': 1, 'hello': 5}\n",
      "{'hi': 1, 'hello': 5, 'howdy': 10}\n",
      "{'hi': 1, 'hello': 5, 'howdy': 10}\n",
      "{'hi': 1, 'hello': 5, 'howdy': 10}\n"
     ]
    }
   ],
   "source": [
    "study = run_hp_test(z)"
   ]
  },
  {
   "cell_type": "code",
   "execution_count": 74,
   "metadata": {},
   "outputs": [
    {
     "data": {
      "text/plain": [
       "{'toggle_int': False}"
      ]
     },
     "execution_count": 74,
     "metadata": {},
     "output_type": "execute_result"
    }
   ],
   "source": [
    "study.best_params"
   ]
  },
  {
   "cell_type": "markdown",
   "metadata": {},
   "source": [
    "### Int"
   ]
  },
  {
   "cell_type": "code",
   "execution_count": 75,
   "metadata": {},
   "outputs": [],
   "source": [
    "x = HpInt(2, 10)\n",
    "x_lst = [HpInt(2, 10, name=\"int_1\"), HpInt(12,29, name=\"int_2\")]\n",
    "y = HpInt(50, 300, 50)"
   ]
  },
  {
   "cell_type": "code",
   "execution_count": 76,
   "metadata": {},
   "outputs": [
    {
     "name": "stdout",
     "output_type": "stream",
     "text": [
      "7\n",
      "7\n",
      "10\n",
      "10\n",
      "9\n"
     ]
    }
   ],
   "source": [
    "study = run_hp_test(x)"
   ]
  },
  {
   "cell_type": "code",
   "execution_count": 77,
   "metadata": {},
   "outputs": [
    {
     "data": {
      "text/plain": [
       "{'int': 7}"
      ]
     },
     "execution_count": 77,
     "metadata": {},
     "output_type": "execute_result"
    }
   ],
   "source": [
    "study.best_params"
   ]
  },
  {
   "cell_type": "code",
   "execution_count": 78,
   "metadata": {},
   "outputs": [
    {
     "name": "stdout",
     "output_type": "stream",
     "text": [
      "[6, 20]\n",
      "[7, 29]\n",
      "[10, 28]\n",
      "[9, 18]\n",
      "[7, 16]\n"
     ]
    }
   ],
   "source": [
    "study = run_hp_test(x_lst)"
   ]
  },
  {
   "cell_type": "code",
   "execution_count": 79,
   "metadata": {},
   "outputs": [
    {
     "data": {
      "text/plain": [
       "{'int_1': 6, 'int_2': 20}"
      ]
     },
     "execution_count": 79,
     "metadata": {},
     "output_type": "execute_result"
    }
   ],
   "source": [
    "study.best_params"
   ]
  },
  {
   "cell_type": "code",
   "execution_count": 80,
   "metadata": {},
   "outputs": [
    {
     "name": "stdout",
     "output_type": "stream",
     "text": [
      "100\n",
      "150\n",
      "250\n",
      "200\n",
      "100\n"
     ]
    }
   ],
   "source": [
    "study = run_hp_test(y)"
   ]
  },
  {
   "cell_type": "code",
   "execution_count": 81,
   "metadata": {},
   "outputs": [
    {
     "data": {
      "text/plain": [
       "{'int': 100}"
      ]
     },
     "execution_count": 81,
     "metadata": {},
     "output_type": "execute_result"
    }
   ],
   "source": [
    "study.best_params"
   ]
  },
  {
   "cell_type": "code",
   "execution_count": 82,
   "metadata": {},
   "outputs": [],
   "source": [
    "z = HpVarLenList(1, 5, x, same_value=False)"
   ]
  },
  {
   "cell_type": "code",
   "execution_count": 83,
   "metadata": {},
   "outputs": [
    {
     "name": "stdout",
     "output_type": "stream",
     "text": [
      "[4]\n",
      "[5]\n",
      "[9, 9]\n",
      "[2, 4, 7, 6, 6]\n",
      "[10, 5]\n"
     ]
    }
   ],
   "source": [
    "study = run_hp_test(z)"
   ]
  },
  {
   "cell_type": "code",
   "execution_count": 84,
   "metadata": {},
   "outputs": [
    {
     "data": {
      "text/plain": [
       "{'var_len_list': 1, 'int_1': 4}"
      ]
     },
     "execution_count": 84,
     "metadata": {},
     "output_type": "execute_result"
    }
   ],
   "source": [
    "study.best_params"
   ]
  },
  {
   "cell_type": "markdown",
   "metadata": {},
   "source": [
    "### Float"
   ]
  },
  {
   "cell_type": "code",
   "execution_count": 85,
   "metadata": {},
   "outputs": [],
   "source": [
    "x = HpFloat(1.0, 2.0)\n",
    "y = HpVarLenList(1, 5, x, same_value=False)"
   ]
  },
  {
   "cell_type": "code",
   "execution_count": 86,
   "metadata": {},
   "outputs": [
    {
     "name": "stdout",
     "output_type": "stream",
     "text": [
      "1.3598158822684911\n",
      "1.361613213666068\n",
      "1.127737997874184\n",
      "1.18726520557275\n",
      "1.2849818251741536\n"
     ]
    }
   ],
   "source": [
    "study = run_hp_test(x)"
   ]
  },
  {
   "cell_type": "code",
   "execution_count": 87,
   "metadata": {},
   "outputs": [
    {
     "data": {
      "text/plain": [
       "{'float': 1.3598158822684911}"
      ]
     },
     "execution_count": 87,
     "metadata": {},
     "output_type": "execute_result"
    }
   ],
   "source": [
    "study.best_params"
   ]
  },
  {
   "cell_type": "code",
   "execution_count": 88,
   "metadata": {},
   "outputs": [
    {
     "name": "stdout",
     "output_type": "stream",
     "text": [
      "[1.4052558612112116, 1.8002345896463074, 1.2309049073985185]\n",
      "[1.9024990000922348]\n",
      "[1.9052069035429235, 1.2417053102873061, 1.5629144704711528, 1.9000842486027345]\n",
      "[1.7948025702279493, 1.9114660524048914, 1.0593887948346339, 1.23773788443582, 1.83112996609706]\n",
      "[1.9033949267643016, 1.6115811275558425]\n"
     ]
    }
   ],
   "source": [
    "study = run_hp_test(y)"
   ]
  },
  {
   "cell_type": "code",
   "execution_count": 89,
   "metadata": {},
   "outputs": [
    {
     "data": {
      "text/plain": [
       "{'var_len_list': 3,\n",
       " 'float_1': 1.4052558612112116,\n",
       " 'float_2': 1.8002345896463074,\n",
       " 'float_3': 1.2309049073985185}"
      ]
     },
     "execution_count": 89,
     "metadata": {},
     "output_type": "execute_result"
    }
   ],
   "source": [
    "study.best_params"
   ]
  },
  {
   "cell_type": "markdown",
   "metadata": {},
   "source": [
    "### Categorical"
   ]
  },
  {
   "cell_type": "code",
   "execution_count": 90,
   "metadata": {},
   "outputs": [],
   "source": [
    "x = HpCategorical([\"cat\", \"meow\", \"rrrrrr\"])\n",
    "y = HpCategorical([Adam, SGD, QHAdam])\n",
    "z = HpVarLenList(1, 5, x, same_value=False)"
   ]
  },
  {
   "cell_type": "code",
   "execution_count": 91,
   "metadata": {},
   "outputs": [
    {
     "name": "stdout",
     "output_type": "stream",
     "text": [
      "rrrrrr\n",
      "cat\n",
      "cat\n",
      "rrrrrr\n",
      "meow\n"
     ]
    }
   ],
   "source": [
    "study = run_hp_test(x)"
   ]
  },
  {
   "cell_type": "code",
   "execution_count": 92,
   "metadata": {},
   "outputs": [
    {
     "data": {
      "text/plain": [
       "{'category': 'rrrrrr'}"
      ]
     },
     "execution_count": 92,
     "metadata": {},
     "output_type": "execute_result"
    }
   ],
   "source": [
    "study.best_params"
   ]
  },
  {
   "cell_type": "code",
   "execution_count": 93,
   "metadata": {},
   "outputs": [
    {
     "name": "stdout",
     "output_type": "stream",
     "text": [
      "<function Adam at 0x000001B6A4719400>\n",
      "<function Adam at 0x000001B6A4719400>\n",
      "<function Adam at 0x000001B6A4719400>\n",
      "<function Adam at 0x000001B6A4719400>\n",
      "<function QHAdam at 0x000001B6A4719730>\n"
     ]
    }
   ],
   "source": [
    "study = run_hp_test(y)"
   ]
  },
  {
   "cell_type": "code",
   "execution_count": 94,
   "metadata": {},
   "outputs": [
    {
     "data": {
      "text/plain": [
       "{'category': 'Adam'}"
      ]
     },
     "execution_count": 94,
     "metadata": {},
     "output_type": "execute_result"
    }
   ],
   "source": [
    "study.best_params"
   ]
  },
  {
   "cell_type": "code",
   "execution_count": 95,
   "metadata": {},
   "outputs": [
    {
     "name": "stdout",
     "output_type": "stream",
     "text": [
      "['cat', 'rrrrrr', 'rrrrrr', 'meow']\n",
      "['meow']\n",
      "['rrrrrr', 'cat', 'rrrrrr']\n",
      "['cat', 'rrrrrr', 'cat']\n",
      "['cat']\n"
     ]
    }
   ],
   "source": [
    "study = run_hp_test(z)"
   ]
  },
  {
   "cell_type": "code",
   "execution_count": 96,
   "metadata": {},
   "outputs": [
    {
     "data": {
      "text/plain": [
       "{'var_len_list': 4,\n",
       " 'category_1': 'cat',\n",
       " 'category_2': 'rrrrrr',\n",
       " 'category_3': 'rrrrrr',\n",
       " 'category_4': 'meow'}"
      ]
     },
     "execution_count": 96,
     "metadata": {},
     "output_type": "execute_result"
    }
   ],
   "source": [
    "study.best_params"
   ]
  },
  {
   "cell_type": "markdown",
   "metadata": {},
   "source": [
    "### Boolean"
   ]
  },
  {
   "cell_type": "code",
   "execution_count": 97,
   "metadata": {},
   "outputs": [],
   "source": [
    "x = HpBool()\n",
    "y = HpVarLenList(1, 5, x, same_value=False)"
   ]
  },
  {
   "cell_type": "code",
   "execution_count": 98,
   "metadata": {},
   "outputs": [
    {
     "name": "stdout",
     "output_type": "stream",
     "text": [
      "False\n",
      "True\n",
      "False\n",
      "True\n",
      "False\n"
     ]
    },
    {
     "data": {
      "text/plain": [
       "<optuna.study.Study at 0x1b6a8fb4f60>"
      ]
     },
     "execution_count": 98,
     "metadata": {},
     "output_type": "execute_result"
    }
   ],
   "source": [
    "run_hp_test(x)"
   ]
  },
  {
   "cell_type": "code",
   "execution_count": 99,
   "metadata": {},
   "outputs": [
    {
     "name": "stdout",
     "output_type": "stream",
     "text": [
      "[False, True, True]\n",
      "[False]\n",
      "[False, True, True]\n",
      "[True, False, False, False]\n",
      "[True, False]\n"
     ]
    },
    {
     "data": {
      "text/plain": [
       "<optuna.study.Study at 0x1b6a8fb41d0>"
      ]
     },
     "execution_count": 99,
     "metadata": {},
     "output_type": "execute_result"
    }
   ],
   "source": [
    "run_hp_test(y)"
   ]
  },
  {
   "cell_type": "markdown",
   "metadata": {},
   "source": [
    "### HpIterable"
   ]
  },
  {
   "cell_type": "code",
   "execution_count": 100,
   "metadata": {},
   "outputs": [],
   "source": [
    "x = HpBool()"
   ]
  },
  {
   "cell_type": "code",
   "execution_count": 101,
   "metadata": {},
   "outputs": [],
   "source": [
    "lst = [x, 5]\n",
    "tup = [x, 5]\n",
    "dct = {\"first\" : x, \"second\" : 5}"
   ]
  },
  {
   "cell_type": "code",
   "execution_count": 102,
   "metadata": {},
   "outputs": [],
   "source": [
    "start_mom = HpFloat(0.85, 0.99)"
   ]
  },
  {
   "cell_type": "code",
   "execution_count": 103,
   "metadata": {},
   "outputs": [],
   "source": [
    "mom = (start_mom, start_mom - 0.1, 4.0)"
   ]
  },
  {
   "cell_type": "code",
   "execution_count": 104,
   "metadata": {},
   "outputs": [
    {
     "name": "stdout",
     "output_type": "stream",
     "text": [
      "(0.8575236780638439, 0.7575236780638439, 4.0)\n",
      "(0.8627229789395604, 0.7627229789395604, 4.0)\n",
      "(0.8774074710413755, 0.7774074710413755, 4.0)\n",
      "(0.8739017652202512, 0.7739017652202512, 4.0)\n",
      "(0.8665715626399638, 0.7665715626399638, 4.0)\n"
     ]
    }
   ],
   "source": [
    "study = run_hp_test(mom)"
   ]
  },
  {
   "cell_type": "code",
   "execution_count": 105,
   "metadata": {},
   "outputs": [
    {
     "data": {
      "text/plain": [
       "{'float': 0.8575236780638439}"
      ]
     },
     "execution_count": 105,
     "metadata": {},
     "output_type": "execute_result"
    }
   ],
   "source": [
    "study.best_params"
   ]
  },
  {
   "cell_type": "code",
   "execution_count": 106,
   "metadata": {},
   "outputs": [
    {
     "name": "stdout",
     "output_type": "stream",
     "text": [
      "[True, 5]\n",
      "[True, 5]\n",
      "[False, 5]\n",
      "[True, 5]\n",
      "[False, 5]\n"
     ]
    }
   ],
   "source": [
    "study = run_hp_test(lst)"
   ]
  },
  {
   "cell_type": "code",
   "execution_count": 107,
   "metadata": {},
   "outputs": [
    {
     "data": {
      "text/plain": [
       "{'boolean': True}"
      ]
     },
     "execution_count": 107,
     "metadata": {},
     "output_type": "execute_result"
    }
   ],
   "source": [
    "study.best_params"
   ]
  },
  {
   "cell_type": "code",
   "execution_count": 108,
   "metadata": {},
   "outputs": [
    {
     "name": "stdout",
     "output_type": "stream",
     "text": [
      "[True, 5]\n",
      "[True, 5]\n",
      "[False, 5]\n",
      "[True, 5]\n",
      "[False, 5]\n"
     ]
    }
   ],
   "source": [
    "study = run_hp_test(tup)"
   ]
  },
  {
   "cell_type": "code",
   "execution_count": 109,
   "metadata": {},
   "outputs": [
    {
     "data": {
      "text/plain": [
       "{'boolean': True}"
      ]
     },
     "execution_count": 109,
     "metadata": {},
     "output_type": "execute_result"
    }
   ],
   "source": [
    "study.best_params"
   ]
  },
  {
   "cell_type": "code",
   "execution_count": 110,
   "metadata": {},
   "outputs": [
    {
     "name": "stdout",
     "output_type": "stream",
     "text": [
      "{'first': False, 'second': 5}\n",
      "{'first': False, 'second': 5}\n",
      "{'first': False, 'second': 5}\n",
      "{'first': False, 'second': 5}\n",
      "{'first': False, 'second': 5}\n"
     ]
    }
   ],
   "source": [
    "study = run_hp_test(dct)"
   ]
  },
  {
   "cell_type": "code",
   "execution_count": 111,
   "metadata": {},
   "outputs": [
    {
     "data": {
      "text/plain": [
       "{'boolean': False}"
      ]
     },
     "execution_count": 111,
     "metadata": {},
     "output_type": "execute_result"
    }
   ],
   "source": [
    "study.best_params"
   ]
  },
  {
   "cell_type": "code",
   "execution_count": 112,
   "metadata": {
    "pycharm": {
     "name": "#%%\n"
    }
   },
   "outputs": [],
   "source": [
    "#TODO: support expressions like HpInt(...) * HpFloat(...) ?"
   ]
  },
  {
   "cell_type": "code",
   "execution_count": 113,
   "metadata": {},
   "outputs": [
    {
     "name": "stdout",
     "output_type": "stream",
     "text": [
      "Converted 00_core.ipynb.\n",
      "Converted 01_api.ipynb.\n",
      "Converted 02_oo_hp.ipynb.\n",
      "Converted 03_hypster_prepare.ipynb.\n",
      "Converted 04_tabular_api.ipynb.\n",
      "Converted 05_sklearn.ipynb.\n",
      "Converted fastai_adult_tutorial.ipynb.\n",
      "Converted index.ipynb.\n"
     ]
    }
   ],
   "source": [
    "notebook2script()"
   ]
  }
 ],
 "metadata": {
  "kernelspec": {
   "display_name": "Python 3",
   "language": "python",
   "name": "python3"
  },
  "language_info": {
   "codemirror_mode": {
    "name": "ipython",
    "version": 3
   },
   "file_extension": ".py",
   "mimetype": "text/x-python",
   "name": "python",
   "nbconvert_exporter": "python",
   "pygments_lexer": "ipython3",
   "version": "3.7.3"
  }
 },
 "nbformat": 4,
 "nbformat_minor": 4
}
