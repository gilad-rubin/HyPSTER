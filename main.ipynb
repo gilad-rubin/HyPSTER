{
 "cells": [
  {
   "cell_type": "code",
   "execution_count": 1,
   "metadata": {},
   "outputs": [],
   "source": [
    "import pandas as pd\n",
    "import numpy as np\n",
    "import scipy\n",
    "import sklearn"
   ]
  },
  {
   "cell_type": "code",
   "execution_count": 2,
   "metadata": {},
   "outputs": [],
   "source": [
    "from sklearn.feature_extraction.text import TfidfVectorizer"
   ]
  },
  {
   "cell_type": "code",
   "execution_count": 3,
   "metadata": {},
   "outputs": [],
   "source": [
    "from sklearn.model_selection import train_test_split, StratifiedKFold\n",
    "from sklearn.pipeline import Pipeline\n",
    "from sklearn.feature_selection import SelectFromModel, SelectPercentile, chi2, VarianceThreshold\n",
    "from sklearn.ensemble import RandomForestClassifier, ExtraTreesClassifier\n",
    "from sklearn import metrics"
   ]
  },
  {
   "cell_type": "code",
   "execution_count": 4,
   "metadata": {},
   "outputs": [],
   "source": [
    "import optuna\n",
    "from optuna.visualization import plot_intermediate_values"
   ]
  },
  {
   "cell_type": "code",
   "execution_count": 5,
   "metadata": {},
   "outputs": [],
   "source": [
    "import numpy as np\n",
    "import xgboost as xgb\n",
    "import lightgbm as lgb"
   ]
  },
  {
   "cell_type": "code",
   "execution_count": 7,
   "metadata": {},
   "outputs": [],
   "source": [
    "SEED = 85"
   ]
  },
  {
   "cell_type": "code",
   "execution_count": 8,
   "metadata": {},
   "outputs": [],
   "source": [
    "from XGBoostOptuna import *\n",
    "from optuna_utils import *"
   ]
  },
  {
   "cell_type": "markdown",
   "metadata": {},
   "source": [
    "# Get Dataset"
   ]
  },
  {
   "cell_type": "code",
   "execution_count": 9,
   "metadata": {},
   "outputs": [],
   "source": [
    "from scipy.sparse import csr_matrix, save_npz, load_npz"
   ]
  },
  {
   "cell_type": "code",
   "execution_count": 10,
   "metadata": {},
   "outputs": [],
   "source": [
    "X_train = load_npz(\"X_train.npz\")\n",
    "y_train = pd.read_pickle(\"y_train.pkl\")"
   ]
  },
  {
   "cell_type": "code",
   "execution_count": 11,
   "metadata": {},
   "outputs": [],
   "source": [
    "X_test = load_npz(\"X_test.npz\")\n",
    "y_test = pd.read_pickle(\"y_test.pkl\")"
   ]
  },
  {
   "cell_type": "code",
   "execution_count": 12,
   "metadata": {},
   "outputs": [],
   "source": [
    "#pipeline = Pipeline([(\"sel\", SelectPercentile(chi2))])\n",
    "#pipe_params = {\"sel__percentile\" : optuna.distributions.IntUniformDistribution(1,100)}\n",
    "pipeline = None\n",
    "pipe_params = None"
   ]
  },
  {
   "cell_type": "code",
   "execution_count": 13,
   "metadata": {},
   "outputs": [],
   "source": [
    "#TODO: automatic seed\n",
    "xgb_linear = XGBClassifierOptuna(booster_list=['gblinear'])\n",
    "xgb_tree = XGBClassifierOptuna(booster_list=['gbtree', 'dart'])\n",
    "#lgb_estimator = LGBClassifierOptuna(seed=SEED)\n",
    "#sgd_estimator = SGDClassifierOptuna(seed=SEED)\n",
    "#rf_estimator  = RFClassifierOptuna(seed=SEED)"
   ]
  },
  {
   "cell_type": "code",
   "execution_count": 14,
   "metadata": {},
   "outputs": [],
   "source": [
    "estimators = [xgb_linear]#, xgb_tree]#, sgd_estimator]"
   ]
  },
  {
   "cell_type": "code",
   "execution_count": 15,
   "metadata": {},
   "outputs": [],
   "source": [
    "studies = Study(X_train, y_train, estimators, pipeline, pipe_params, \n",
    "              cv=StratifiedKFold(n_splits=3, random_state=SEED), max_iter=200, max_fails=3,\n",
    "              scoring=sklearn.metrics.roc_auc_score, greater_is_better=True, random_state=SEED)"
   ]
  },
  {
   "cell_type": "code",
   "execution_count": 16,
   "metadata": {},
   "outputs": [
    {
     "name": "stdout",
     "output_type": "stream",
     "text": [
      "XGBoost Classifier\n",
      "Score: 0.5\n",
      "Score: 0.5\n",
      "Score: 0.5\n",
      "Score: 0.96409\n",
      "Wall time: 22.8 s\n"
     ]
    }
   ],
   "source": [
    "%%time\n",
    "studies.run(n_trials_per_estimator=15, n_jobs=-1)"
   ]
  },
  {
   "cell_type": "code",
   "execution_count": 17,
   "metadata": {},
   "outputs": [],
   "source": [
    "study = studies.studies[0]"
   ]
  },
  {
   "cell_type": "code",
   "execution_count": 18,
   "metadata": {
    "scrolled": true
   },
   "outputs": [
    {
     "data": {
      "text/plain": [
       "0.964092541642688"
      ]
     },
     "execution_count": 18,
     "metadata": {},
     "output_type": "execute_result"
    }
   ],
   "source": [
    "study.best_value"
   ]
  },
  {
   "cell_type": "code",
   "execution_count": 19,
   "metadata": {},
   "outputs": [
    {
     "data": {
      "text/html": [
       "<script type=\"text/javascript\">window.PlotlyConfig = {MathJaxConfig: 'local'};</script><script type=\"text/javascript\">if (window.MathJax) {MathJax.Hub.Config({SVG: {font: \"STIX-Web\"}});}</script><script>requirejs.config({paths: { 'plotly': ['https://cdn.plot.ly/plotly-latest.min']},});if(!window._Plotly) {require(['plotly'],function(plotly) {window._Plotly=plotly;});}</script>"
      ],
      "text/vnd.plotly.v1+html": [
       "<script type=\"text/javascript\">window.PlotlyConfig = {MathJaxConfig: 'local'};</script><script type=\"text/javascript\">if (window.MathJax) {MathJax.Hub.Config({SVG: {font: \"STIX-Web\"}});}</script><script>requirejs.config({paths: { 'plotly': ['https://cdn.plot.ly/plotly-latest.min']},});if(!window._Plotly) {require(['plotly'],function(plotly) {window._Plotly=plotly;});}</script>"
      ]
     },
     "metadata": {},
     "output_type": "display_data"
    },
    {
     "data": {
      "application/vnd.plotly.v1+json": {
       "config": {
        "linkText": "Export to plot.ly",
        "plotlyServerURL": "https://plot.ly",
        "showLink": false
       },
       "data": [
        {
         "type": "scatter",
         "uid": "7b9ed966-e430-4e97-a5f9-8c049c60c36d",
         "x": [
          0,
          1
         ],
         "y": [
          0.5,
          0.5
         ]
        },
        {
         "type": "scatter",
         "uid": "f8175e15-6552-427c-a9db-4c25d021d96c",
         "x": [
          0,
          1,
          2
         ],
         "y": [
          0.7683949530021699,
          0.7716561639668998,
          0.7748599891654179
         ]
        },
        {
         "type": "scatter",
         "uid": "5153c589-bf4d-406a-99fe-7f4e59a85faa",
         "x": [
          0,
          1,
          2
         ],
         "y": [
          0.7519487362771651,
          0.7521078515293876,
          0.7522980487778274
         ]
        },
        {
         "type": "scatter",
         "uid": "090d3a61-15dd-4709-9bf9-76fc9806e12a",
         "x": [
          0,
          1,
          2
         ],
         "y": [
          0.773975235001045,
          0.784729077841139,
          0.7953217939518556
         ]
        },
        {
         "type": "scatter",
         "uid": "41efbb26-e021-43a4-bc6f-3411388c97bf",
         "x": [
          0,
          1,
          2
         ],
         "y": [
          0.7930155086431182,
          0.8074584073061817,
          0.8203943717943675
         ]
        },
        {
         "type": "scatter",
         "uid": "db729905-0e5f-4463-9587-13e1e094c1f4",
         "x": [
          0,
          1,
          2,
          3,
          4
         ],
         "y": [
          0.9089914821038961,
          0.9220125431525008,
          0.9306050788801364,
          0.9364141472161056,
          0.9404114285370619
         ]
        },
        {
         "type": "scatter",
         "uid": "b448041c-8028-4bb8-907c-190895e64a6b",
         "x": [
          0,
          1,
          2,
          3,
          4,
          5,
          6,
          7,
          8,
          9,
          10,
          11,
          12,
          13,
          14,
          15,
          16,
          17,
          18,
          19,
          20,
          21,
          22
         ],
         "y": [
          0.9469567628076051,
          0.9528333009033828,
          0.955137902485124,
          0.9561844860856209,
          0.9567989320473123,
          0.9573007684939258,
          0.9576883615378002,
          0.9582122690350428,
          0.9588205323792054,
          0.9595398972345993,
          0.9602303619043701,
          0.9609048678270004,
          0.9615399577430831,
          0.962100949732422,
          0.962569811372223,
          0.9630039212114415,
          0.9633443979630849,
          0.9635945752560654,
          0.9638192815822593,
          0.9639738203197273,
          0.964047001747872,
          0.964092541642688,
          0.9640792674050656
         ]
        },
        {
         "type": "scatter",
         "uid": "e2502dba-9d54-4c4c-94da-eaca64f0d7b2",
         "x": [
          0,
          1,
          2
         ],
         "y": [
          0.8189090997645487,
          0.8498918101405142,
          0.8755602745693016
         ]
        },
        {
         "type": "scatter",
         "uid": "d4ed4514-6137-43ef-8eb4-9e6333672b0d",
         "x": [
          0,
          1,
          2
         ],
         "y": [
          0.7849092259742241,
          0.8007317356660139,
          0.8161681394713667
         ]
        },
        {
         "type": "scatter",
         "uid": "b6c9d27e-4941-4abb-a334-c3298a7fb7e7",
         "x": [
          0,
          1,
          2,
          3,
          4
         ],
         "y": [
          0.9408165364056637,
          0.9424283831552728,
          0.9438878536493901,
          0.9452517640795274,
          0.9464922992955294
         ]
        },
        {
         "type": "scatter",
         "uid": "89eea91c-c6f1-4486-9020-ac0ccb20cfbc",
         "x": [
          0,
          1,
          2
         ],
         "y": [
          0.7382107619480665,
          0.738329208178961,
          0.7384565928111778
         ]
        },
        {
         "type": "scatter",
         "uid": "7d62506a-c556-434f-a1b8-c308e47e179f",
         "x": [
          0,
          1,
          2,
          3,
          4
         ],
         "y": [
          0.9127974036096479,
          0.913230595928081,
          0.9136621184584239,
          0.914105419395855,
          0.9145097086789328
         ]
        },
        {
         "type": "scatter",
         "uid": "4fe05420-48ff-467b-b838-84cb535548fe",
         "x": [
          0,
          1,
          2,
          3,
          4
         ],
         "y": [
          0.8929277236083367,
          0.9179127735114564,
          0.9267339160430685,
          0.9309285105172309,
          0.9332117170853151
         ]
        },
        {
         "type": "scatter",
         "uid": "bb0e89fd-bae3-4767-9a24-4e34ede1f36b",
         "x": [
          0,
          1
         ],
         "y": [
          0.5,
          0.5
         ]
        },
        {
         "type": "scatter",
         "uid": "466e0939-0158-439c-ac6e-fc5075ffe79c",
         "x": [
          0,
          1
         ],
         "y": [
          0.5,
          0.5
         ]
        }
       ],
       "layout": {
        "showlegend": false
       }
      },
      "text/html": [
       "<div id=\"c152623d-b745-4a9d-b256-ed7dac1f6623\" style=\"height: 525px; width: 100%;\" class=\"plotly-graph-div\"></div><script type=\"text/javascript\">require([\"plotly\"], function(Plotly) { window.PLOTLYENV=window.PLOTLYENV || {};window.PLOTLYENV.BASE_URL=\"https://plot.ly\";Plotly.newPlot(\"c152623d-b745-4a9d-b256-ed7dac1f6623\", [{\"x\": [0, 1], \"y\": [0.5, 0.5], \"type\": \"scatter\", \"uid\": \"7b9ed966-e430-4e97-a5f9-8c049c60c36d\"}, {\"x\": [0, 1, 2], \"y\": [0.7683949530021699, 0.7716561639668998, 0.7748599891654179], \"type\": \"scatter\", \"uid\": \"f8175e15-6552-427c-a9db-4c25d021d96c\"}, {\"x\": [0, 1, 2], \"y\": [0.7519487362771651, 0.7521078515293876, 0.7522980487778274], \"type\": \"scatter\", \"uid\": \"5153c589-bf4d-406a-99fe-7f4e59a85faa\"}, {\"x\": [0, 1, 2], \"y\": [0.773975235001045, 0.784729077841139, 0.7953217939518556], \"type\": \"scatter\", \"uid\": \"090d3a61-15dd-4709-9bf9-76fc9806e12a\"}, {\"x\": [0, 1, 2], \"y\": [0.7930155086431182, 0.8074584073061817, 0.8203943717943675], \"type\": \"scatter\", \"uid\": \"41efbb26-e021-43a4-bc6f-3411388c97bf\"}, {\"x\": [0, 1, 2, 3, 4], \"y\": [0.9089914821038961, 0.9220125431525008, 0.9306050788801364, 0.9364141472161056, 0.9404114285370619], \"type\": \"scatter\", \"uid\": \"db729905-0e5f-4463-9587-13e1e094c1f4\"}, {\"x\": [0, 1, 2, 3, 4, 5, 6, 7, 8, 9, 10, 11, 12, 13, 14, 15, 16, 17, 18, 19, 20, 21, 22], \"y\": [0.9469567628076051, 0.9528333009033828, 0.955137902485124, 0.9561844860856209, 0.9567989320473123, 0.9573007684939258, 0.9576883615378002, 0.9582122690350428, 0.9588205323792054, 0.9595398972345993, 0.9602303619043701, 0.9609048678270004, 0.9615399577430831, 0.962100949732422, 0.962569811372223, 0.9630039212114415, 0.9633443979630849, 0.9635945752560654, 0.9638192815822593, 0.9639738203197273, 0.964047001747872, 0.964092541642688, 0.9640792674050656], \"type\": \"scatter\", \"uid\": \"b448041c-8028-4bb8-907c-190895e64a6b\"}, {\"x\": [0, 1, 2], \"y\": [0.8189090997645487, 0.8498918101405142, 0.8755602745693016], \"type\": \"scatter\", \"uid\": \"e2502dba-9d54-4c4c-94da-eaca64f0d7b2\"}, {\"x\": [0, 1, 2], \"y\": [0.7849092259742241, 0.8007317356660139, 0.8161681394713667], \"type\": \"scatter\", \"uid\": \"d4ed4514-6137-43ef-8eb4-9e6333672b0d\"}, {\"x\": [0, 1, 2, 3, 4], \"y\": [0.9408165364056637, 0.9424283831552728, 0.9438878536493901, 0.9452517640795274, 0.9464922992955294], \"type\": \"scatter\", \"uid\": \"b6c9d27e-4941-4abb-a334-c3298a7fb7e7\"}, {\"x\": [0, 1, 2], \"y\": [0.7382107619480665, 0.738329208178961, 0.7384565928111778], \"type\": \"scatter\", \"uid\": \"89eea91c-c6f1-4486-9020-ac0ccb20cfbc\"}, {\"x\": [0, 1, 2, 3, 4], \"y\": [0.9127974036096479, 0.913230595928081, 0.9136621184584239, 0.914105419395855, 0.9145097086789328], \"type\": \"scatter\", \"uid\": \"7d62506a-c556-434f-a1b8-c308e47e179f\"}, {\"x\": [0, 1, 2, 3, 4], \"y\": [0.8929277236083367, 0.9179127735114564, 0.9267339160430685, 0.9309285105172309, 0.9332117170853151], \"type\": \"scatter\", \"uid\": \"4fe05420-48ff-467b-b838-84cb535548fe\"}, {\"x\": [0, 1], \"y\": [0.5, 0.5], \"type\": \"scatter\", \"uid\": \"bb0e89fd-bae3-4767-9a24-4e34ede1f36b\"}, {\"x\": [0, 1], \"y\": [0.5, 0.5], \"type\": \"scatter\", \"uid\": \"466e0939-0158-439c-ac6e-fc5075ffe79c\"}], {\"showlegend\": false}, {\"showLink\": false, \"linkText\": \"Export to plot.ly\", \"plotlyServerURL\": \"https://plot.ly\"})});</script><script type=\"text/javascript\">window.addEventListener(\"resize\", function(){window._Plotly.Plots.resize(document.getElementById(\"c152623d-b745-4a9d-b256-ed7dac1f6623\"));});</script>"
      ],
      "text/vnd.plotly.v1+html": [
       "<div id=\"c152623d-b745-4a9d-b256-ed7dac1f6623\" style=\"height: 525px; width: 100%;\" class=\"plotly-graph-div\"></div><script type=\"text/javascript\">require([\"plotly\"], function(Plotly) { window.PLOTLYENV=window.PLOTLYENV || {};window.PLOTLYENV.BASE_URL=\"https://plot.ly\";Plotly.newPlot(\"c152623d-b745-4a9d-b256-ed7dac1f6623\", [{\"x\": [0, 1], \"y\": [0.5, 0.5], \"type\": \"scatter\", \"uid\": \"7b9ed966-e430-4e97-a5f9-8c049c60c36d\"}, {\"x\": [0, 1, 2], \"y\": [0.7683949530021699, 0.7716561639668998, 0.7748599891654179], \"type\": \"scatter\", \"uid\": \"f8175e15-6552-427c-a9db-4c25d021d96c\"}, {\"x\": [0, 1, 2], \"y\": [0.7519487362771651, 0.7521078515293876, 0.7522980487778274], \"type\": \"scatter\", \"uid\": \"5153c589-bf4d-406a-99fe-7f4e59a85faa\"}, {\"x\": [0, 1, 2], \"y\": [0.773975235001045, 0.784729077841139, 0.7953217939518556], \"type\": \"scatter\", \"uid\": \"090d3a61-15dd-4709-9bf9-76fc9806e12a\"}, {\"x\": [0, 1, 2], \"y\": [0.7930155086431182, 0.8074584073061817, 0.8203943717943675], \"type\": \"scatter\", \"uid\": \"41efbb26-e021-43a4-bc6f-3411388c97bf\"}, {\"x\": [0, 1, 2, 3, 4], \"y\": [0.9089914821038961, 0.9220125431525008, 0.9306050788801364, 0.9364141472161056, 0.9404114285370619], \"type\": \"scatter\", \"uid\": \"db729905-0e5f-4463-9587-13e1e094c1f4\"}, {\"x\": [0, 1, 2, 3, 4, 5, 6, 7, 8, 9, 10, 11, 12, 13, 14, 15, 16, 17, 18, 19, 20, 21, 22], \"y\": [0.9469567628076051, 0.9528333009033828, 0.955137902485124, 0.9561844860856209, 0.9567989320473123, 0.9573007684939258, 0.9576883615378002, 0.9582122690350428, 0.9588205323792054, 0.9595398972345993, 0.9602303619043701, 0.9609048678270004, 0.9615399577430831, 0.962100949732422, 0.962569811372223, 0.9630039212114415, 0.9633443979630849, 0.9635945752560654, 0.9638192815822593, 0.9639738203197273, 0.964047001747872, 0.964092541642688, 0.9640792674050656], \"type\": \"scatter\", \"uid\": \"b448041c-8028-4bb8-907c-190895e64a6b\"}, {\"x\": [0, 1, 2], \"y\": [0.8189090997645487, 0.8498918101405142, 0.8755602745693016], \"type\": \"scatter\", \"uid\": \"e2502dba-9d54-4c4c-94da-eaca64f0d7b2\"}, {\"x\": [0, 1, 2], \"y\": [0.7849092259742241, 0.8007317356660139, 0.8161681394713667], \"type\": \"scatter\", \"uid\": \"d4ed4514-6137-43ef-8eb4-9e6333672b0d\"}, {\"x\": [0, 1, 2, 3, 4], \"y\": [0.9408165364056637, 0.9424283831552728, 0.9438878536493901, 0.9452517640795274, 0.9464922992955294], \"type\": \"scatter\", \"uid\": \"b6c9d27e-4941-4abb-a334-c3298a7fb7e7\"}, {\"x\": [0, 1, 2], \"y\": [0.7382107619480665, 0.738329208178961, 0.7384565928111778], \"type\": \"scatter\", \"uid\": \"89eea91c-c6f1-4486-9020-ac0ccb20cfbc\"}, {\"x\": [0, 1, 2, 3, 4], \"y\": [0.9127974036096479, 0.913230595928081, 0.9136621184584239, 0.914105419395855, 0.9145097086789328], \"type\": \"scatter\", \"uid\": \"7d62506a-c556-434f-a1b8-c308e47e179f\"}, {\"x\": [0, 1, 2, 3, 4], \"y\": [0.8929277236083367, 0.9179127735114564, 0.9267339160430685, 0.9309285105172309, 0.9332117170853151], \"type\": \"scatter\", \"uid\": \"4fe05420-48ff-467b-b838-84cb535548fe\"}, {\"x\": [0, 1], \"y\": [0.5, 0.5], \"type\": \"scatter\", \"uid\": \"bb0e89fd-bae3-4767-9a24-4e34ede1f36b\"}, {\"x\": [0, 1], \"y\": [0.5, 0.5], \"type\": \"scatter\", \"uid\": \"466e0939-0158-439c-ac6e-fc5075ffe79c\"}], {\"showlegend\": false}, {\"showLink\": false, \"linkText\": \"Export to plot.ly\", \"plotlyServerURL\": \"https://plot.ly\"})});</script><script type=\"text/javascript\">window.addEventListener(\"resize\", function(){window._Plotly.Plots.resize(document.getElementById(\"c152623d-b745-4a9d-b256-ed7dac1f6623\"));});</script>"
      ]
     },
     "metadata": {},
     "output_type": "display_data"
    }
   ],
   "source": [
    "plot_intermediate_values(study)"
   ]
  },
  {
   "cell_type": "code",
   "execution_count": 20,
   "metadata": {},
   "outputs": [],
   "source": [
    "final_pipeline = study.best_trial.user_attrs['pipeline']"
   ]
  },
  {
   "cell_type": "code",
   "execution_count": 21,
   "metadata": {},
   "outputs": [
    {
     "data": {
      "text/plain": [
       "0.964092541642688"
      ]
     },
     "execution_count": 21,
     "metadata": {},
     "output_type": "execute_result"
    }
   ],
   "source": [
    "study.best_trial.value"
   ]
  },
  {
   "cell_type": "code",
   "execution_count": 22,
   "metadata": {},
   "outputs": [],
   "source": [
    "final_pipeline = final_pipeline.fit(X_train, y_train)"
   ]
  },
  {
   "cell_type": "code",
   "execution_count": 23,
   "metadata": {},
   "outputs": [],
   "source": [
    "test_probs = final_pipeline.predict_proba(X_test)\n",
    "test_probs = test_probs[:,1]"
   ]
  },
  {
   "cell_type": "code",
   "execution_count": 24,
   "metadata": {},
   "outputs": [
    {
     "data": {
      "text/plain": [
       "0.9706423959090476"
      ]
     },
     "execution_count": 24,
     "metadata": {},
     "output_type": "execute_result"
    }
   ],
   "source": [
    "sklearn.metrics.roc_auc_score(y_test, test_probs)"
   ]
  }
 ],
 "metadata": {
  "kernelspec": {
   "display_name": "Python 3",
   "language": "python",
   "name": "python3"
  },
  "language_info": {
   "codemirror_mode": {
    "name": "ipython",
    "version": 3
   },
   "file_extension": ".py",
   "mimetype": "text/x-python",
   "name": "python",
   "nbconvert_exporter": "python",
   "pygments_lexer": "ipython3",
   "version": "3.7.1"
  },
  "pycharm": {
   "stem_cell": {
    "cell_type": "raw",
    "metadata": {
     "collapsed": false
    },
    "source": []
   }
  }
 },
 "nbformat": 4,
 "nbformat_minor": 4
}
