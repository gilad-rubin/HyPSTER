{
 "cells": [
  {
   "cell_type": "code",
   "execution_count": 1,
   "metadata": {},
   "outputs": [],
   "source": [
    "import pandas as pd\n",
    "import numpy as np\n",
    "import scipy\n",
    "import sklearn"
   ]
  },
  {
   "cell_type": "code",
   "execution_count": 2,
   "metadata": {},
   "outputs": [],
   "source": [
    "from sklearn.feature_extraction.text import TfidfVectorizer"
   ]
  },
  {
   "cell_type": "code",
   "execution_count": 3,
   "metadata": {},
   "outputs": [],
   "source": [
    "from sklearn.model_selection import train_test_split, StratifiedKFold, KFold\n",
    "from sklearn.pipeline import Pipeline\n",
    "from sklearn.feature_selection import SelectFromModel, SelectPercentile, chi2, VarianceThreshold\n",
    "from sklearn.ensemble import RandomForestClassifier, ExtraTreesClassifier\n",
    "from sklearn import metrics"
   ]
  },
  {
   "cell_type": "code",
   "execution_count": 4,
   "metadata": {},
   "outputs": [],
   "source": [
    "import optuna\n",
    "from optuna.visualization import plot_intermediate_values"
   ]
  },
  {
   "cell_type": "code",
   "execution_count": 5,
   "metadata": {},
   "outputs": [],
   "source": [
    "from optuna.samplers import TPESampler"
   ]
  },
  {
   "cell_type": "code",
   "execution_count": 6,
   "metadata": {},
   "outputs": [],
   "source": [
    "import numpy as np\n",
    "import xgboost as xgb\n",
    "#import lightgbm as lgb"
   ]
  },
  {
   "cell_type": "code",
   "execution_count": 7,
   "metadata": {},
   "outputs": [],
   "source": [
    "SEED = 85"
   ]
  },
  {
   "cell_type": "code",
   "execution_count": 8,
   "metadata": {},
   "outputs": [],
   "source": [
    "from hypster_xgboost import *\n",
    "from hypster import *"
   ]
  },
  {
   "cell_type": "markdown",
   "metadata": {},
   "source": [
    "# Get Dataset"
   ]
  },
  {
   "cell_type": "code",
   "execution_count": 9,
   "metadata": {},
   "outputs": [],
   "source": [
    "from scipy.sparse import csr_matrix, save_npz, load_npz"
   ]
  },
  {
   "cell_type": "code",
   "execution_count": 10,
   "metadata": {},
   "outputs": [],
   "source": [
    "dataset = \"adult\" #adult, boston"
   ]
  },
  {
   "cell_type": "code",
   "execution_count": 11,
   "metadata": {},
   "outputs": [],
   "source": [
    "if dataset==\"adult\":\n",
    "    X_train = pd.read_pickle(\"./data/adult_X_train.pkl\")\n",
    "    y_train = pd.read_pickle(\"./data/adult_y_train.pkl\")\n",
    "    X_test = pd.read_pickle(\"./data/adult_X_test.pkl\")\n",
    "    y_test = pd.read_pickle(\"./data/adult_y_test.pkl\")\n",
    "    cat_columns = X_train.select_dtypes(include=\"object\").columns\n",
    "elif dataset==\"newsgroup\":\n",
    "    X_train = load_npz(\"./data/X_train.npz\")\n",
    "    y_train = pd.read_pickle(\"./data/y_train.pkl\")\n",
    "    X_test = load_npz(\"./data/X_test.npz\")\n",
    "    y_test = pd.read_pickle(\"./data/y_test.pkl\")\n",
    "    cat_columns=None\n",
    "else:\n",
    "    X_train = pd.read_pickle(\"./data/boston_X_train.pkl\")\n",
    "    y_train = pd.read_pickle(\"./data/boston_y_train.pkl\")\n",
    "    X_test = pd.read_pickle(\"./data/boston_X_test.pkl\")\n",
    "    y_test = pd.read_pickle(\"./data/boston_y_test.pkl\")\n",
    "    cat_columns = None"
   ]
  },
  {
   "cell_type": "code",
   "execution_count": 12,
   "metadata": {},
   "outputs": [],
   "source": [
    "#X_train = X_train.sample(n=10000, random_state=SEED, axis=0)"
   ]
  },
  {
   "cell_type": "code",
   "execution_count": 13,
   "metadata": {},
   "outputs": [],
   "source": [
    "#y_train = y_train.iloc[X_train.index].reset_index(drop=True)\n",
    "#X_train.reset_index(inplace=True, drop=True)"
   ]
  },
  {
   "cell_type": "code",
   "execution_count": 14,
   "metadata": {},
   "outputs": [],
   "source": [
    "#pipeline - pipeline_objective OR regular pipeline\n",
    "#consider making pre-made steps with best practices (FS, scaling, etc...) then add option to concat to make one pipeline "
   ]
  },
  {
   "cell_type": "code",
   "execution_count": 15,
   "metadata": {},
   "outputs": [],
   "source": [
    "#pipeline = Pipeline([(\"sel\", SelectPercentile(chi2))])\n",
    "#pipe_params = {\"sel__percentile\" : optuna.distributions.IntUniformDistribution(1,100)}\n",
    "pipeline = None\n",
    "pipe_params = None"
   ]
  },
  {
   "cell_type": "markdown",
   "metadata": {},
   "source": [
    "# Classifier"
   ]
  },
  {
   "cell_type": "code",
   "execution_count": 16,
   "metadata": {},
   "outputs": [],
   "source": [
    "dataset = \"newsgroup\" #adult, boston"
   ]
  },
  {
   "cell_type": "code",
   "execution_count": 17,
   "metadata": {},
   "outputs": [],
   "source": [
    "if dataset==\"adult\":\n",
    "    X_train = pd.read_pickle(\"./data/adult_X_train.pkl\")\n",
    "    y_train = pd.read_pickle(\"./data/adult_y_train.pkl\")\n",
    "    X_test = pd.read_pickle(\"./data/adult_X_test.pkl\")\n",
    "    y_test = pd.read_pickle(\"./data/adult_y_test.pkl\")\n",
    "    cat_columns = X_train.select_dtypes(include=\"object\").columns\n",
    "elif dataset==\"newsgroup\":\n",
    "    X_train = load_npz(\"./data/X_train.npz\")\n",
    "    y_train = pd.read_pickle(\"./data/y_train.pkl\")\n",
    "    X_test = load_npz(\"./data/X_test.npz\")\n",
    "    y_test = pd.read_pickle(\"./data/y_test.pkl\")\n",
    "    cat_columns=None\n",
    "else:\n",
    "    X_train = pd.read_pickle(\"./data/boston_X_train.pkl\")\n",
    "    y_train = pd.read_pickle(\"./data/boston_y_train.pkl\")\n",
    "    X_test = pd.read_pickle(\"./data/boston_X_test.pkl\")\n",
    "    y_test = pd.read_pickle(\"./data/boston_y_test.pkl\")\n",
    "    cat_columns = None"
   ]
  },
  {
   "cell_type": "code",
   "execution_count": 18,
   "metadata": {},
   "outputs": [],
   "source": [
    "xgb_linear = XGBClassifierHypster(booster_list=['gblinear'], n_iter_per_round=2\n",
    "                               ,param_dict={'verbosity':1})\n",
    "                               #,'subsample' : 0.9\n",
    "#gb_dart = XGBClassifierHypster(booster_list=['dart'])\n",
    "#xgb_tree = XGBClassifierHypster(booster_list=['gbtree', 'dart'], user_param_dict={'max_depth' : 2})\n",
    "xgb_tree = XGBClassifierHypster(booster_list=['gbtree', 'dart'],\n",
    "                                n_iter_per_round=5\n",
    "                                )\n",
    "#lgb_estimator = LGBClassifierOptuna()\n",
    "#sgd_estimator = SGDClassifierOptuna()\n",
    "#rf_estimator  = RFClassifierOptuna()"
   ]
  },
  {
   "cell_type": "code",
   "execution_count": 19,
   "metadata": {},
   "outputs": [],
   "source": [
    "estimators = [xgb_linear, xgb_tree]#, sgd|_estimator]"
   ]
  },
  {
   "cell_type": "code",
   "execution_count": 20,
   "metadata": {},
   "outputs": [],
   "source": [
    "sampler = optuna.integration.CmaEsSampler(n_startup_trials=30,\n",
    "                      independent_sampler=TPESampler(**TPESampler.hyperopt_parameters()),\n",
    "                      warn_independent_sampling=False, seed=SEED)"
   ]
  },
  {
   "cell_type": "code",
   "execution_count": 21,
   "metadata": {},
   "outputs": [],
   "source": [
    "sampler = TPESampler(**TPESampler.hyperopt_parameters(), seed=SEED)"
   ]
  },
  {
   "cell_type": "code",
   "execution_count": 22,
   "metadata": {},
   "outputs": [],
   "source": [
    "clf = HyPSTERClassifier(estimators, pipeline, pipe_params, save_cv_preds=True,\n",
    "                        scoring=\"roc_auc\", cv=StratifiedKFold(n_splits=3, shuffle=True, random_state=SEED), tol=1e-6,\n",
    "                        sampler=sampler, refit=False, random_state=SEED, n_jobs=-1)"
   ]
  },
  {
   "cell_type": "code",
   "execution_count": 23,
   "metadata": {},
   "outputs": [
    {
     "name": "stdout",
     "output_type": "stream",
     "text": [
      "XGBoost Classifier\n",
      "Score: 0.94088\n",
      "Score: 0.96503\n",
      "Score: 0.96512\n",
      "Score: 0.96123\n",
      "Score: 0.97175\n",
      "Score: 0.96712\n",
      "Score: 0.96972\n",
      "Score: 0.96913\n",
      "Score: 0.97018\n",
      "Score: 0.97114\n",
      "XGBoost Classifier\n",
      "Score: 0.88017\n",
      "Score: 0.87335\n",
      "Score: 0.87944\n"
     ]
    },
    {
     "name": "stderr",
     "output_type": "stream",
     "text": [
      "[W 2019-08-17 02:11:19,314] Setting status of trial#22 as TrialState.FAIL because of the following error: ValueError(\"Input contains NaN, infinity or a value too large for dtype('float32').\")\n",
      "Traceback (most recent call last):\n",
      "  File \"C:\\Users\\user\\Anaconda3\\lib\\site-packages\\optuna\\study.py\", line 469, in _run_trial\n",
      "    result = func(trial)\n",
      "  File \"c:\\python_workspace\\HyPSTER\\hypster.py\", line 156, in __call__\n",
      "    fold_score = self.scoring(fold['y_test'], raw_preds)\n",
      "  File \"C:\\Users\\user\\Anaconda3\\lib\\site-packages\\sklearn\\metrics\\ranking.py\", line 355, in roc_auc_score\n",
      "    sample_weight=sample_weight)\n",
      "  File \"C:\\Users\\user\\Anaconda3\\lib\\site-packages\\sklearn\\metrics\\base.py\", line 76, in _average_binary_score\n",
      "    return binary_metric(y_true, y_score, sample_weight=sample_weight)\n",
      "  File \"C:\\Users\\user\\Anaconda3\\lib\\site-packages\\sklearn\\metrics\\ranking.py\", line 327, in _binary_roc_auc_score\n",
      "    sample_weight=sample_weight)\n",
      "  File \"C:\\Users\\user\\Anaconda3\\lib\\site-packages\\sklearn\\metrics\\ranking.py\", line 622, in roc_curve\n",
      "    y_true, y_score, pos_label=pos_label, sample_weight=sample_weight)\n",
      "  File \"C:\\Users\\user\\Anaconda3\\lib\\site-packages\\sklearn\\metrics\\ranking.py\", line 402, in _binary_clf_curve\n",
      "    assert_all_finite(y_score)\n",
      "  File \"C:\\Users\\user\\Anaconda3\\lib\\site-packages\\sklearn\\utils\\validation.py\", line 72, in assert_all_finite\n",
      "    _assert_all_finite(X.data if sp.issparse(X) else X, allow_nan)\n",
      "  File \"C:\\Users\\user\\Anaconda3\\lib\\site-packages\\sklearn\\utils\\validation.py\", line 56, in _assert_all_finite\n",
      "    raise ValueError(msg_err.format(type_err, X.dtype))\n",
      "ValueError: Input contains NaN, infinity or a value too large for dtype('float32').\n",
      "[W 2019-08-17 02:15:31,566] Setting status of trial#27 as TrialState.FAIL because of the following error: ValueError(\"Input contains NaN, infinity or a value too large for dtype('float32').\")\n",
      "Traceback (most recent call last):\n",
      "  File \"C:\\Users\\user\\Anaconda3\\lib\\site-packages\\optuna\\study.py\", line 469, in _run_trial\n",
      "    result = func(trial)\n",
      "  File \"c:\\python_workspace\\HyPSTER\\hypster.py\", line 156, in __call__\n",
      "    fold_score = self.scoring(fold['y_test'], raw_preds)\n",
      "  File \"C:\\Users\\user\\Anaconda3\\lib\\site-packages\\sklearn\\metrics\\ranking.py\", line 355, in roc_auc_score\n",
      "    sample_weight=sample_weight)\n",
      "  File \"C:\\Users\\user\\Anaconda3\\lib\\site-packages\\sklearn\\metrics\\base.py\", line 76, in _average_binary_score\n",
      "    return binary_metric(y_true, y_score, sample_weight=sample_weight)\n",
      "  File \"C:\\Users\\user\\Anaconda3\\lib\\site-packages\\sklearn\\metrics\\ranking.py\", line 327, in _binary_roc_auc_score\n",
      "    sample_weight=sample_weight)\n",
      "  File \"C:\\Users\\user\\Anaconda3\\lib\\site-packages\\sklearn\\metrics\\ranking.py\", line 622, in roc_curve\n",
      "    y_true, y_score, pos_label=pos_label, sample_weight=sample_weight)\n",
      "  File \"C:\\Users\\user\\Anaconda3\\lib\\site-packages\\sklearn\\metrics\\ranking.py\", line 402, in _binary_clf_curve\n",
      "    assert_all_finite(y_score)\n",
      "  File \"C:\\Users\\user\\Anaconda3\\lib\\site-packages\\sklearn\\utils\\validation.py\", line 72, in assert_all_finite\n",
      "    _assert_all_finite(X.data if sp.issparse(X) else X, allow_nan)\n",
      "  File \"C:\\Users\\user\\Anaconda3\\lib\\site-packages\\sklearn\\utils\\validation.py\", line 56, in _assert_all_finite\n",
      "    raise ValueError(msg_err.format(type_err, X.dtype))\n",
      "ValueError: Input contains NaN, infinity or a value too large for dtype('float32').\n",
      "[W 2019-08-17 02:15:45,853] Setting status of trial#17 as TrialState.FAIL because of the following error: ValueError(\"Input contains NaN, infinity or a value too large for dtype('float32').\")\n",
      "Traceback (most recent call last):\n",
      "  File \"C:\\Users\\user\\Anaconda3\\lib\\site-packages\\optuna\\study.py\", line 469, in _run_trial\n",
      "    result = func(trial)\n",
      "  File \"c:\\python_workspace\\HyPSTER\\hypster.py\", line 156, in __call__\n",
      "    fold_score = self.scoring(fold['y_test'], raw_preds)\n",
      "  File \"C:\\Users\\user\\Anaconda3\\lib\\site-packages\\sklearn\\metrics\\ranking.py\", line 355, in roc_auc_score\n",
      "    sample_weight=sample_weight)\n",
      "  File \"C:\\Users\\user\\Anaconda3\\lib\\site-packages\\sklearn\\metrics\\base.py\", line 76, in _average_binary_score\n",
      "    return binary_metric(y_true, y_score, sample_weight=sample_weight)\n",
      "  File \"C:\\Users\\user\\Anaconda3\\lib\\site-packages\\sklearn\\metrics\\ranking.py\", line 327, in _binary_roc_auc_score\n",
      "    sample_weight=sample_weight)\n",
      "  File \"C:\\Users\\user\\Anaconda3\\lib\\site-packages\\sklearn\\metrics\\ranking.py\", line 622, in roc_curve\n",
      "    y_true, y_score, pos_label=pos_label, sample_weight=sample_weight)\n",
      "  File \"C:\\Users\\user\\Anaconda3\\lib\\site-packages\\sklearn\\metrics\\ranking.py\", line 402, in _binary_clf_curve\n",
      "    assert_all_finite(y_score)\n",
      "  File \"C:\\Users\\user\\Anaconda3\\lib\\site-packages\\sklearn\\utils\\validation.py\", line 72, in assert_all_finite\n",
      "    _assert_all_finite(X.data if sp.issparse(X) else X, allow_nan)\n",
      "  File \"C:\\Users\\user\\Anaconda3\\lib\\site-packages\\sklearn\\utils\\validation.py\", line 56, in _assert_all_finite\n",
      "    raise ValueError(msg_err.format(type_err, X.dtype))\n",
      "ValueError: Input contains NaN, infinity or a value too large for dtype('float32').\n"
     ]
    },
    {
     "name": "stdout",
     "output_type": "stream",
     "text": [
      "Score: 0.92075\n",
      "Score: 0.91251\n",
      "Score: 0.9314\n",
      "Score: 0.93287\n",
      "Wall time: 23min 19s\n"
     ]
    }
   ],
   "source": [
    "%%time\n",
    "clf.fit(X_train, y_train, cat_columns=cat_columns, n_trials=30)"
   ]
  },
  {
   "cell_type": "code",
   "execution_count": 25,
   "metadata": {},
   "outputs": [
    {
     "data": {
      "text/plain": [
       "0.9717455361785176"
      ]
     },
     "execution_count": 25,
     "metadata": {},
     "output_type": "execute_result"
    }
   ],
   "source": [
    "clf.best_score_"
   ]
  },
  {
   "cell_type": "code",
   "execution_count": 26,
   "metadata": {},
   "outputs": [
    {
     "data": {
      "text/html": [
       "<script type=\"text/javascript\">window.PlotlyConfig = {MathJaxConfig: 'local'};</script><script type=\"text/javascript\">if (window.MathJax) {MathJax.Hub.Config({SVG: {font: \"STIX-Web\"}});}</script><script>requirejs.config({paths: { 'plotly': ['https://cdn.plot.ly/plotly-latest.min']},});if(!window._Plotly) {require(['plotly'],function(plotly) {window._Plotly=plotly;});}</script>"
      ],
      "text/vnd.plotly.v1+html": [
       "<script type=\"text/javascript\">window.PlotlyConfig = {MathJaxConfig: 'local'};</script><script type=\"text/javascript\">if (window.MathJax) {MathJax.Hub.Config({SVG: {font: \"STIX-Web\"}});}</script><script>requirejs.config({paths: { 'plotly': ['https://cdn.plot.ly/plotly-latest.min']},});if(!window._Plotly) {require(['plotly'],function(plotly) {window._Plotly=plotly;});}</script>"
      ]
     },
     "metadata": {},
     "output_type": "display_data"
    },
    {
     "data": {
      "application/vnd.plotly.v1+json": {
       "config": {
        "linkText": "Export to plot.ly",
        "plotlyServerURL": "https://plot.ly",
        "showLink": false
       },
       "data": [
        {
         "type": "scatter",
         "uid": "b1f46467-4d4f-45b7-8d3d-871fbcc3c601",
         "x": [
          0,
          1,
          2,
          3,
          4,
          5,
          6
         ],
         "y": [
          0.9644225438015955,
          0.9644225438015955,
          0.965034107445196,
          0.9651167864106718,
          0.9651167864106718,
          0.9651167864106718,
          0.9651167864106718
         ]
        },
        {
         "type": "scatter",
         "uid": "2bcc3332-1ca7-490c-ad55-bace029326d0",
         "x": [
          0,
          1,
          2,
          3
         ],
         "y": [
          0.7726160271243541,
          0.8313883989084426,
          0.8675553418145027,
          0.8885843193492869
         ]
        },
        {
         "type": "scatter",
         "uid": "7700b6da-85bf-43e3-8b66-c1d84db3ae43",
         "x": [
          0,
          1,
          2,
          3,
          4,
          5,
          6,
          7,
          8
         ],
         "y": [
          0.8302937147740287,
          0.880279083940061,
          0.9336054910120989,
          0.9565854411822299,
          0.9611469980652746,
          0.9612348763668294,
          0.9612348763668294,
          0.9612348763668294,
          0.9612348763668294
         ]
        },
        {
         "type": "scatter",
         "uid": "c590a959-415f-405f-b17d-2540d59f6a02",
         "x": [
          0,
          1,
          2,
          3
         ],
         "y": [
          0.8805771129110118,
          0.9054100018063337,
          0.9214745484076744,
          0.9323234842344746
         ]
        },
        {
         "type": "scatter",
         "uid": "a4aea593-e6d1-44b4-8cb5-8c79bc90207d",
         "x": [
          0,
          1,
          2,
          3,
          4
         ],
         "y": [
          0.9402639642283696,
          0.940879991109877,
          0.940879991109877,
          0.940879991109877,
          0.940879991109877
         ]
        },
        {
         "type": "scatter",
         "uid": "2636acfb-6320-483e-8138-2f13d592de7c",
         "x": [
          0,
          1,
          2,
          3,
          4
         ],
         "y": [
          0.9643685862939844,
          0.9650344645909597,
          0.9650344645909597,
          0.9650344645909597,
          0.9650344645909597
         ]
        },
        {
         "type": "scatter",
         "uid": "7a88a7ef-2438-4c15-bd9d-8dc2b6b9f68a",
         "x": [
          0,
          1,
          2,
          3
         ],
         "y": [
          0.9429781934156541,
          0.9554283667494894,
          0.9580909209715883,
          0.9588307385395748
         ]
        },
        {
         "type": "scatter",
         "uid": "dd27bd2b-80a9-4b27-9f78-a04d17071db7",
         "x": [
          0,
          1,
          2,
          3
         ],
         "y": [
          0.9039565779479668,
          0.930192171883515,
          0.9422500875648311,
          0.9486538986913725
         ]
        },
        {
         "type": "scatter",
         "uid": "0c17fe74-63da-471d-a567-bc8fe05977e7",
         "x": [
          0,
          1,
          2,
          3
         ],
         "y": [
          0.5,
          0.5,
          0.5,
          0.5
         ]
        },
        {
         "type": "scatter",
         "uid": "19686274-71c0-4b7d-aa32-3aaa3158a599",
         "x": [
          0,
          1,
          2,
          3
         ],
         "y": [
          0.9319904638995998,
          0.9339424577611976,
          0.9351860209723526,
          0.935999915279945
         ]
        },
        {
         "type": "scatter",
         "uid": "bf799929-234d-4163-8fba-670fd1546c3c",
         "x": [
          0,
          1,
          2,
          3
         ],
         "y": [
          0.8202013195480942,
          0.8202013195480942,
          0.8202013195480942,
          0.8202221880118087
         ]
        },
        {
         "type": "scatter",
         "uid": "e6ab559e-5b39-4c84-96c4-2e901b7a2ae3",
         "x": [
          0,
          1,
          2,
          3,
          4,
          5,
          6,
          7,
          8,
          9,
          10,
          11,
          12,
          13,
          14,
          15,
          16
         ],
         "y": [
          0.9545367068790619,
          0.9596943293858945,
          0.9614723786712714,
          0.9626919270048031,
          0.9637539632152526,
          0.9647962644738758,
          0.9656513749513452,
          0.9662855463244558,
          0.9667034534546924,
          0.9669441217494631,
          0.9670886283770428,
          0.9671112664004432,
          0.9671112664004432,
          0.9671179488052134,
          0.9671179488052134,
          0.9671179488052134,
          0.9671179488052134
         ]
        },
        {
         "type": "scatter",
         "uid": "42545011-98d2-41e7-98e6-a8bd1b72ef9e",
         "x": [
          0,
          1,
          2,
          3
         ],
         "y": [
          0.5,
          0.5,
          0.5,
          0.5
         ]
        },
        {
         "type": "scatter",
         "uid": "b5dba5aa-0d53-4d8e-b105-9bf2ed03351f",
         "x": [
          0,
          1,
          2,
          3,
          4,
          5,
          6,
          7
         ],
         "y": [
          0.9713144525688571,
          0.9717411944878768,
          0.9717411944878768,
          0.9717411944878768,
          0.9717455361785176,
          0.9717455361785176,
          0.9717455361785176,
          0.9717460372357484
         ]
        },
        {
         "type": "scatter",
         "uid": "2f8337bc-6a10-4418-a8be-7f9d2e046002",
         "x": [
          0,
          1,
          2,
          3
         ],
         "y": [
          0.7106825614707765,
          0.7275452710225995,
          0.7326115235317637,
          0.7377279451395659
         ]
        },
        {
         "type": "scatter",
         "uid": "d67308a0-b0a9-4632-88cd-ab42c0c158f4",
         "x": [
          0,
          1,
          2,
          3
         ],
         "y": [
          0.5,
          0.5,
          0.5,
          0.5
         ]
        },
        {
         "type": "scatter",
         "uid": "d081e6dc-3344-4a19-94f7-6ae2ea1e3763",
         "x": [
          0,
          1,
          2,
          3
         ],
         "y": [
          0.9226469902991354,
          0.9226939345852587,
          0.9227411320329019,
          0.9227507375502965
         ]
        },
        {
         "type": "scatter",
         "uid": "68f32a49-9d02-4feb-9e7d-2070f9b704cc",
         "x": [
          0,
          1,
          2,
          3
         ],
         "y": [
          0.8661401440756613,
          0.8845293227773411,
          0.8984807775947804,
          0.9093503872671832
         ]
        },
        {
         "type": "scatter",
         "uid": "01d2c4fd-b774-4ef3-9c00-7058f3791d1b",
         "x": [
          0,
          1,
          2,
          3
         ],
         "y": [
          0.9518664180505932,
          0.9518664180505932,
          0.9523855481269732,
          0.9523855481269732
         ]
        },
        {
         "type": "scatter",
         "uid": "9e021723-d9f8-4b36-aed9-58e0e646891e",
         "x": [
          0,
          1,
          2,
          3
         ],
         "y": [
          0.5,
          0.5,
          0.5,
          0.5
         ]
        },
        {
         "type": "scatter",
         "uid": "030a79af-3e5b-42be-ba65-15fdd902a652",
         "x": [
          0,
          1,
          2,
          3
         ],
         "y": [
          0.9010690037742743,
          0.9271827964460502,
          0.9397669556614604,
          0.9465154244062788
         ]
        },
        {
         "type": "scatter",
         "uid": "9805512f-d365-4eb3-b13a-e81caf7c2124",
         "x": [
          0,
          1,
          2,
          3
         ],
         "y": [
          0.9228642527226018,
          0.9230415966883992,
          0.92307459268235,
          0.9231069219319332
         ]
        },
        {
         "type": "scatter",
         "uid": "9b42ae21-1274-45e3-b764-f15700615b12",
         "x": [
          0,
          1,
          2,
          3
         ],
         "y": [
          0.9313909383913807,
          0.931686884363098,
          0.9319745613417406,
          0.9322540506375971
         ]
        },
        {
         "type": "scatter",
         "uid": "d1d75d60-ba84-4f13-85d9-a39f94ba7234",
         "x": [
          0,
          1,
          2,
          3
         ],
         "y": [
          0.899077345700665,
          0.9217348015787099,
          0.9232495853094739,
          0.9233946737779921
         ]
        },
        {
         "type": "scatter",
         "uid": "9d796b5b-36a6-48b8-a2b5-b7c2dfa636a8",
         "x": [
          0,
          1,
          2,
          3
         ],
         "y": [
          0.5532896831020179,
          0.5532896831020179,
          0.5532896831020179,
          0.5532896831020179
         ]
        },
        {
         "type": "scatter",
         "uid": "a2558371-e06d-4b04-a0f6-f18c764e0616",
         "x": [
          0,
          1,
          2,
          3,
          4,
          5,
          6,
          7,
          8,
          9,
          10,
          11,
          12,
          13
         ],
         "y": [
          0.9669867112423732,
          0.9689324317596478,
          0.9697338102919911,
          0.9702032405772322,
          0.9705129576311556,
          0.9707528426832743,
          0.9709165551417844,
          0.9710448474136512,
          0.9711024729600327,
          0.9711265191847084,
          0.971139373954167,
          0.971139373954167,
          0.971139373954167,
          0.971139373954167
         ]
        },
        {
         "type": "scatter",
         "uid": "332cd7d9-4720-4f06-8d67-a457c5c449d5",
         "x": [
          0,
          1,
          2,
          3
         ],
         "y": [
          0.8825601663116992,
          0.913939110242939,
          0.9234020269229499,
          0.9270282479823228
         ]
        },
        {
         "type": "scatter",
         "uid": "b7855ef7-bfb6-4189-8e37-d413a526d50b",
         "x": [
          0,
          1,
          2,
          3,
          4,
          5,
          6,
          7
         ],
         "y": [
          0.9687869020782713,
          0.9701343164009294,
          0.9701343164009294,
          0.9701733987410269,
          0.9701772348520364,
          0.9701772348520364,
          0.9701772348520364,
          0.9701772348520364
         ]
        },
        {
         "type": "scatter",
         "uid": "4e118662-35fc-4c16-955a-9e07692862f7",
         "x": [
          0,
          1,
          2,
          3,
          4,
          5,
          6,
          7
         ],
         "y": [
          0.9648676618458717,
          0.9682908321263604,
          0.9691001116026924,
          0.9691001116026924,
          0.9691276777420238,
          0.9691276777420238,
          0.9691276777420238,
          0.969128011904079
         ]
        },
        {
         "type": "scatter",
         "uid": "44b54ae0-9f93-4ff7-be2a-a115fe4f856d",
         "x": [
          0,
          1,
          2,
          3,
          4,
          5
         ],
         "y": [
          0.9672820956929803,
          0.9693326777376129,
          0.9697224359583192,
          0.9697224359583192,
          0.9697224359583192,
          0.9697232722927177
         ]
        }
       ],
       "layout": {
        "showlegend": false
       }
      },
      "text/html": [
       "<div id=\"7ff21cd1-3167-4f5a-9b58-2b0c88e68ef3\" style=\"height: 525px; width: 100%;\" class=\"plotly-graph-div\"></div><script type=\"text/javascript\">require([\"plotly\"], function(Plotly) { window.PLOTLYENV=window.PLOTLYENV || {};window.PLOTLYENV.BASE_URL=\"https://plot.ly\";Plotly.newPlot(\"7ff21cd1-3167-4f5a-9b58-2b0c88e68ef3\", [{\"x\": [0, 1, 2, 3, 4, 5, 6], \"y\": [0.9644225438015955, 0.9644225438015955, 0.965034107445196, 0.9651167864106718, 0.9651167864106718, 0.9651167864106718, 0.9651167864106718], \"type\": \"scatter\", \"uid\": \"b1f46467-4d4f-45b7-8d3d-871fbcc3c601\"}, {\"x\": [0, 1, 2, 3], \"y\": [0.7726160271243541, 0.8313883989084426, 0.8675553418145027, 0.8885843193492869], \"type\": \"scatter\", \"uid\": \"2bcc3332-1ca7-490c-ad55-bace029326d0\"}, {\"x\": [0, 1, 2, 3, 4, 5, 6, 7, 8], \"y\": [0.8302937147740287, 0.880279083940061, 0.9336054910120989, 0.9565854411822299, 0.9611469980652746, 0.9612348763668294, 0.9612348763668294, 0.9612348763668294, 0.9612348763668294], \"type\": \"scatter\", \"uid\": \"7700b6da-85bf-43e3-8b66-c1d84db3ae43\"}, {\"x\": [0, 1, 2, 3], \"y\": [0.8805771129110118, 0.9054100018063337, 0.9214745484076744, 0.9323234842344746], \"type\": \"scatter\", \"uid\": \"c590a959-415f-405f-b17d-2540d59f6a02\"}, {\"x\": [0, 1, 2, 3, 4], \"y\": [0.9402639642283696, 0.940879991109877, 0.940879991109877, 0.940879991109877, 0.940879991109877], \"type\": \"scatter\", \"uid\": \"a4aea593-e6d1-44b4-8cb5-8c79bc90207d\"}, {\"x\": [0, 1, 2, 3, 4], \"y\": [0.9643685862939844, 0.9650344645909597, 0.9650344645909597, 0.9650344645909597, 0.9650344645909597], \"type\": \"scatter\", \"uid\": \"2636acfb-6320-483e-8138-2f13d592de7c\"}, {\"x\": [0, 1, 2, 3], \"y\": [0.9429781934156541, 0.9554283667494894, 0.9580909209715883, 0.9588307385395748], \"type\": \"scatter\", \"uid\": \"7a88a7ef-2438-4c15-bd9d-8dc2b6b9f68a\"}, {\"x\": [0, 1, 2, 3], \"y\": [0.9039565779479668, 0.930192171883515, 0.9422500875648311, 0.9486538986913725], \"type\": \"scatter\", \"uid\": \"dd27bd2b-80a9-4b27-9f78-a04d17071db7\"}, {\"x\": [0, 1, 2, 3], \"y\": [0.5, 0.5, 0.5, 0.5], \"type\": \"scatter\", \"uid\": \"0c17fe74-63da-471d-a567-bc8fe05977e7\"}, {\"x\": [0, 1, 2, 3], \"y\": [0.9319904638995998, 0.9339424577611976, 0.9351860209723526, 0.935999915279945], \"type\": \"scatter\", \"uid\": \"19686274-71c0-4b7d-aa32-3aaa3158a599\"}, {\"x\": [0, 1, 2, 3], \"y\": [0.8202013195480942, 0.8202013195480942, 0.8202013195480942, 0.8202221880118087], \"type\": \"scatter\", \"uid\": \"bf799929-234d-4163-8fba-670fd1546c3c\"}, {\"x\": [0, 1, 2, 3, 4, 5, 6, 7, 8, 9, 10, 11, 12, 13, 14, 15, 16], \"y\": [0.9545367068790619, 0.9596943293858945, 0.9614723786712714, 0.9626919270048031, 0.9637539632152526, 0.9647962644738758, 0.9656513749513452, 0.9662855463244558, 0.9667034534546924, 0.9669441217494631, 0.9670886283770428, 0.9671112664004432, 0.9671112664004432, 0.9671179488052134, 0.9671179488052134, 0.9671179488052134, 0.9671179488052134], \"type\": \"scatter\", \"uid\": \"e6ab559e-5b39-4c84-96c4-2e901b7a2ae3\"}, {\"x\": [0, 1, 2, 3], \"y\": [0.5, 0.5, 0.5, 0.5], \"type\": \"scatter\", \"uid\": \"42545011-98d2-41e7-98e6-a8bd1b72ef9e\"}, {\"x\": [0, 1, 2, 3, 4, 5, 6, 7], \"y\": [0.9713144525688571, 0.9717411944878768, 0.9717411944878768, 0.9717411944878768, 0.9717455361785176, 0.9717455361785176, 0.9717455361785176, 0.9717460372357484], \"type\": \"scatter\", \"uid\": \"b5dba5aa-0d53-4d8e-b105-9bf2ed03351f\"}, {\"x\": [0, 1, 2, 3], \"y\": [0.7106825614707765, 0.7275452710225995, 0.7326115235317637, 0.7377279451395659], \"type\": \"scatter\", \"uid\": \"2f8337bc-6a10-4418-a8be-7f9d2e046002\"}, {\"x\": [0, 1, 2, 3], \"y\": [0.5, 0.5, 0.5, 0.5], \"type\": \"scatter\", \"uid\": \"d67308a0-b0a9-4632-88cd-ab42c0c158f4\"}, {\"x\": [0, 1, 2, 3], \"y\": [0.9226469902991354, 0.9226939345852587, 0.9227411320329019, 0.9227507375502965], \"type\": \"scatter\", \"uid\": \"d081e6dc-3344-4a19-94f7-6ae2ea1e3763\"}, {\"x\": [0, 1, 2, 3], \"y\": [0.8661401440756613, 0.8845293227773411, 0.8984807775947804, 0.9093503872671832], \"type\": \"scatter\", \"uid\": \"68f32a49-9d02-4feb-9e7d-2070f9b704cc\"}, {\"x\": [0, 1, 2, 3], \"y\": [0.9518664180505932, 0.9518664180505932, 0.9523855481269732, 0.9523855481269732], \"type\": \"scatter\", \"uid\": \"01d2c4fd-b774-4ef3-9c00-7058f3791d1b\"}, {\"x\": [0, 1, 2, 3], \"y\": [0.5, 0.5, 0.5, 0.5], \"type\": \"scatter\", \"uid\": \"9e021723-d9f8-4b36-aed9-58e0e646891e\"}, {\"x\": [0, 1, 2, 3], \"y\": [0.9010690037742743, 0.9271827964460502, 0.9397669556614604, 0.9465154244062788], \"type\": \"scatter\", \"uid\": \"030a79af-3e5b-42be-ba65-15fdd902a652\"}, {\"x\": [0, 1, 2, 3], \"y\": [0.9228642527226018, 0.9230415966883992, 0.92307459268235, 0.9231069219319332], \"type\": \"scatter\", \"uid\": \"9805512f-d365-4eb3-b13a-e81caf7c2124\"}, {\"x\": [0, 1, 2, 3], \"y\": [0.9313909383913807, 0.931686884363098, 0.9319745613417406, 0.9322540506375971], \"type\": \"scatter\", \"uid\": \"9b42ae21-1274-45e3-b764-f15700615b12\"}, {\"x\": [0, 1, 2, 3], \"y\": [0.899077345700665, 0.9217348015787099, 0.9232495853094739, 0.9233946737779921], \"type\": \"scatter\", \"uid\": \"d1d75d60-ba84-4f13-85d9-a39f94ba7234\"}, {\"x\": [0, 1, 2, 3], \"y\": [0.5532896831020179, 0.5532896831020179, 0.5532896831020179, 0.5532896831020179], \"type\": \"scatter\", \"uid\": \"9d796b5b-36a6-48b8-a2b5-b7c2dfa636a8\"}, {\"x\": [0, 1, 2, 3, 4, 5, 6, 7, 8, 9, 10, 11, 12, 13], \"y\": [0.9669867112423732, 0.9689324317596478, 0.9697338102919911, 0.9702032405772322, 0.9705129576311556, 0.9707528426832743, 0.9709165551417844, 0.9710448474136512, 0.9711024729600327, 0.9711265191847084, 0.971139373954167, 0.971139373954167, 0.971139373954167, 0.971139373954167], \"type\": \"scatter\", \"uid\": \"a2558371-e06d-4b04-a0f6-f18c764e0616\"}, {\"x\": [0, 1, 2, 3], \"y\": [0.8825601663116992, 0.913939110242939, 0.9234020269229499, 0.9270282479823228], \"type\": \"scatter\", \"uid\": \"332cd7d9-4720-4f06-8d67-a457c5c449d5\"}, {\"x\": [0, 1, 2, 3, 4, 5, 6, 7], \"y\": [0.9687869020782713, 0.9701343164009294, 0.9701343164009294, 0.9701733987410269, 0.9701772348520364, 0.9701772348520364, 0.9701772348520364, 0.9701772348520364], \"type\": \"scatter\", \"uid\": \"b7855ef7-bfb6-4189-8e37-d413a526d50b\"}, {\"x\": [0, 1, 2, 3, 4, 5, 6, 7], \"y\": [0.9648676618458717, 0.9682908321263604, 0.9691001116026924, 0.9691001116026924, 0.9691276777420238, 0.9691276777420238, 0.9691276777420238, 0.969128011904079], \"type\": \"scatter\", \"uid\": \"4e118662-35fc-4c16-955a-9e07692862f7\"}, {\"x\": [0, 1, 2, 3, 4, 5], \"y\": [0.9672820956929803, 0.9693326777376129, 0.9697224359583192, 0.9697224359583192, 0.9697224359583192, 0.9697232722927177], \"type\": \"scatter\", \"uid\": \"44b54ae0-9f93-4ff7-be2a-a115fe4f856d\"}], {\"showlegend\": false}, {\"showLink\": false, \"linkText\": \"Export to plot.ly\", \"plotlyServerURL\": \"https://plot.ly\"})});</script><script type=\"text/javascript\">window.addEventListener(\"resize\", function(){window._Plotly.Plots.resize(document.getElementById(\"7ff21cd1-3167-4f5a-9b58-2b0c88e68ef3\"));});</script>"
      ],
      "text/vnd.plotly.v1+html": [
       "<div id=\"7ff21cd1-3167-4f5a-9b58-2b0c88e68ef3\" style=\"height: 525px; width: 100%;\" class=\"plotly-graph-div\"></div><script type=\"text/javascript\">require([\"plotly\"], function(Plotly) { window.PLOTLYENV=window.PLOTLYENV || {};window.PLOTLYENV.BASE_URL=\"https://plot.ly\";Plotly.newPlot(\"7ff21cd1-3167-4f5a-9b58-2b0c88e68ef3\", [{\"x\": [0, 1, 2, 3, 4, 5, 6], \"y\": [0.9644225438015955, 0.9644225438015955, 0.965034107445196, 0.9651167864106718, 0.9651167864106718, 0.9651167864106718, 0.9651167864106718], \"type\": \"scatter\", \"uid\": \"b1f46467-4d4f-45b7-8d3d-871fbcc3c601\"}, {\"x\": [0, 1, 2, 3], \"y\": [0.7726160271243541, 0.8313883989084426, 0.8675553418145027, 0.8885843193492869], \"type\": \"scatter\", \"uid\": \"2bcc3332-1ca7-490c-ad55-bace029326d0\"}, {\"x\": [0, 1, 2, 3, 4, 5, 6, 7, 8], \"y\": [0.8302937147740287, 0.880279083940061, 0.9336054910120989, 0.9565854411822299, 0.9611469980652746, 0.9612348763668294, 0.9612348763668294, 0.9612348763668294, 0.9612348763668294], \"type\": \"scatter\", \"uid\": \"7700b6da-85bf-43e3-8b66-c1d84db3ae43\"}, {\"x\": [0, 1, 2, 3], \"y\": [0.8805771129110118, 0.9054100018063337, 0.9214745484076744, 0.9323234842344746], \"type\": \"scatter\", \"uid\": \"c590a959-415f-405f-b17d-2540d59f6a02\"}, {\"x\": [0, 1, 2, 3, 4], \"y\": [0.9402639642283696, 0.940879991109877, 0.940879991109877, 0.940879991109877, 0.940879991109877], \"type\": \"scatter\", \"uid\": \"a4aea593-e6d1-44b4-8cb5-8c79bc90207d\"}, {\"x\": [0, 1, 2, 3, 4], \"y\": [0.9643685862939844, 0.9650344645909597, 0.9650344645909597, 0.9650344645909597, 0.9650344645909597], \"type\": \"scatter\", \"uid\": \"2636acfb-6320-483e-8138-2f13d592de7c\"}, {\"x\": [0, 1, 2, 3], \"y\": [0.9429781934156541, 0.9554283667494894, 0.9580909209715883, 0.9588307385395748], \"type\": \"scatter\", \"uid\": \"7a88a7ef-2438-4c15-bd9d-8dc2b6b9f68a\"}, {\"x\": [0, 1, 2, 3], \"y\": [0.9039565779479668, 0.930192171883515, 0.9422500875648311, 0.9486538986913725], \"type\": \"scatter\", \"uid\": \"dd27bd2b-80a9-4b27-9f78-a04d17071db7\"}, {\"x\": [0, 1, 2, 3], \"y\": [0.5, 0.5, 0.5, 0.5], \"type\": \"scatter\", \"uid\": \"0c17fe74-63da-471d-a567-bc8fe05977e7\"}, {\"x\": [0, 1, 2, 3], \"y\": [0.9319904638995998, 0.9339424577611976, 0.9351860209723526, 0.935999915279945], \"type\": \"scatter\", \"uid\": \"19686274-71c0-4b7d-aa32-3aaa3158a599\"}, {\"x\": [0, 1, 2, 3], \"y\": [0.8202013195480942, 0.8202013195480942, 0.8202013195480942, 0.8202221880118087], \"type\": \"scatter\", \"uid\": \"bf799929-234d-4163-8fba-670fd1546c3c\"}, {\"x\": [0, 1, 2, 3, 4, 5, 6, 7, 8, 9, 10, 11, 12, 13, 14, 15, 16], \"y\": [0.9545367068790619, 0.9596943293858945, 0.9614723786712714, 0.9626919270048031, 0.9637539632152526, 0.9647962644738758, 0.9656513749513452, 0.9662855463244558, 0.9667034534546924, 0.9669441217494631, 0.9670886283770428, 0.9671112664004432, 0.9671112664004432, 0.9671179488052134, 0.9671179488052134, 0.9671179488052134, 0.9671179488052134], \"type\": \"scatter\", \"uid\": \"e6ab559e-5b39-4c84-96c4-2e901b7a2ae3\"}, {\"x\": [0, 1, 2, 3], \"y\": [0.5, 0.5, 0.5, 0.5], \"type\": \"scatter\", \"uid\": \"42545011-98d2-41e7-98e6-a8bd1b72ef9e\"}, {\"x\": [0, 1, 2, 3, 4, 5, 6, 7], \"y\": [0.9713144525688571, 0.9717411944878768, 0.9717411944878768, 0.9717411944878768, 0.9717455361785176, 0.9717455361785176, 0.9717455361785176, 0.9717460372357484], \"type\": \"scatter\", \"uid\": \"b5dba5aa-0d53-4d8e-b105-9bf2ed03351f\"}, {\"x\": [0, 1, 2, 3], \"y\": [0.7106825614707765, 0.7275452710225995, 0.7326115235317637, 0.7377279451395659], \"type\": \"scatter\", \"uid\": \"2f8337bc-6a10-4418-a8be-7f9d2e046002\"}, {\"x\": [0, 1, 2, 3], \"y\": [0.5, 0.5, 0.5, 0.5], \"type\": \"scatter\", \"uid\": \"d67308a0-b0a9-4632-88cd-ab42c0c158f4\"}, {\"x\": [0, 1, 2, 3], \"y\": [0.9226469902991354, 0.9226939345852587, 0.9227411320329019, 0.9227507375502965], \"type\": \"scatter\", \"uid\": \"d081e6dc-3344-4a19-94f7-6ae2ea1e3763\"}, {\"x\": [0, 1, 2, 3], \"y\": [0.8661401440756613, 0.8845293227773411, 0.8984807775947804, 0.9093503872671832], \"type\": \"scatter\", \"uid\": \"68f32a49-9d02-4feb-9e7d-2070f9b704cc\"}, {\"x\": [0, 1, 2, 3], \"y\": [0.9518664180505932, 0.9518664180505932, 0.9523855481269732, 0.9523855481269732], \"type\": \"scatter\", \"uid\": \"01d2c4fd-b774-4ef3-9c00-7058f3791d1b\"}, {\"x\": [0, 1, 2, 3], \"y\": [0.5, 0.5, 0.5, 0.5], \"type\": \"scatter\", \"uid\": \"9e021723-d9f8-4b36-aed9-58e0e646891e\"}, {\"x\": [0, 1, 2, 3], \"y\": [0.9010690037742743, 0.9271827964460502, 0.9397669556614604, 0.9465154244062788], \"type\": \"scatter\", \"uid\": \"030a79af-3e5b-42be-ba65-15fdd902a652\"}, {\"x\": [0, 1, 2, 3], \"y\": [0.9228642527226018, 0.9230415966883992, 0.92307459268235, 0.9231069219319332], \"type\": \"scatter\", \"uid\": \"9805512f-d365-4eb3-b13a-e81caf7c2124\"}, {\"x\": [0, 1, 2, 3], \"y\": [0.9313909383913807, 0.931686884363098, 0.9319745613417406, 0.9322540506375971], \"type\": \"scatter\", \"uid\": \"9b42ae21-1274-45e3-b764-f15700615b12\"}, {\"x\": [0, 1, 2, 3], \"y\": [0.899077345700665, 0.9217348015787099, 0.9232495853094739, 0.9233946737779921], \"type\": \"scatter\", \"uid\": \"d1d75d60-ba84-4f13-85d9-a39f94ba7234\"}, {\"x\": [0, 1, 2, 3], \"y\": [0.5532896831020179, 0.5532896831020179, 0.5532896831020179, 0.5532896831020179], \"type\": \"scatter\", \"uid\": \"9d796b5b-36a6-48b8-a2b5-b7c2dfa636a8\"}, {\"x\": [0, 1, 2, 3, 4, 5, 6, 7, 8, 9, 10, 11, 12, 13], \"y\": [0.9669867112423732, 0.9689324317596478, 0.9697338102919911, 0.9702032405772322, 0.9705129576311556, 0.9707528426832743, 0.9709165551417844, 0.9710448474136512, 0.9711024729600327, 0.9711265191847084, 0.971139373954167, 0.971139373954167, 0.971139373954167, 0.971139373954167], \"type\": \"scatter\", \"uid\": \"a2558371-e06d-4b04-a0f6-f18c764e0616\"}, {\"x\": [0, 1, 2, 3], \"y\": [0.8825601663116992, 0.913939110242939, 0.9234020269229499, 0.9270282479823228], \"type\": \"scatter\", \"uid\": \"332cd7d9-4720-4f06-8d67-a457c5c449d5\"}, {\"x\": [0, 1, 2, 3, 4, 5, 6, 7], \"y\": [0.9687869020782713, 0.9701343164009294, 0.9701343164009294, 0.9701733987410269, 0.9701772348520364, 0.9701772348520364, 0.9701772348520364, 0.9701772348520364], \"type\": \"scatter\", \"uid\": \"b7855ef7-bfb6-4189-8e37-d413a526d50b\"}, {\"x\": [0, 1, 2, 3, 4, 5, 6, 7], \"y\": [0.9648676618458717, 0.9682908321263604, 0.9691001116026924, 0.9691001116026924, 0.9691276777420238, 0.9691276777420238, 0.9691276777420238, 0.969128011904079], \"type\": \"scatter\", \"uid\": \"4e118662-35fc-4c16-955a-9e07692862f7\"}, {\"x\": [0, 1, 2, 3, 4, 5], \"y\": [0.9672820956929803, 0.9693326777376129, 0.9697224359583192, 0.9697224359583192, 0.9697224359583192, 0.9697232722927177], \"type\": \"scatter\", \"uid\": \"44b54ae0-9f93-4ff7-be2a-a115fe4f856d\"}], {\"showlegend\": false}, {\"showLink\": false, \"linkText\": \"Export to plot.ly\", \"plotlyServerURL\": \"https://plot.ly\"})});</script><script type=\"text/javascript\">window.addEventListener(\"resize\", function(){window._Plotly.Plots.resize(document.getElementById(\"7ff21cd1-3167-4f5a-9b58-2b0c88e68ef3\"));});</script>"
      ]
     },
     "metadata": {},
     "output_type": "display_data"
    }
   ],
   "source": [
    "plot_intermediate_values(clf.studies[0])"
   ]
  },
  {
   "cell_type": "code",
   "execution_count": 27,
   "metadata": {},
   "outputs": [
    {
     "data": {
      "text/plain": [
       "{'scale_pos_weight': 1.0,\n",
       " 'eta': 0.09238568104560038,\n",
       " 'booster': 'gblinear',\n",
       " 'lambda': 8.604949218251688e-07,\n",
       " 'alpha': 2.219357807840214e-06,\n",
       " 'shotgun_feature_selector': 'shuffle'}"
      ]
     },
     "execution_count": 27,
     "metadata": {},
     "output_type": "execute_result"
    }
   ],
   "source": [
    "clf.best_params_"
   ]
  },
  {
   "cell_type": "code",
   "execution_count": 28,
   "metadata": {},
   "outputs": [],
   "source": [
    "clf.refit(X_train, y_train)"
   ]
  },
  {
   "cell_type": "code",
   "execution_count": 29,
   "metadata": {},
   "outputs": [],
   "source": [
    "test_preds = clf.predict(X_test)"
   ]
  },
  {
   "cell_type": "code",
   "execution_count": 30,
   "metadata": {},
   "outputs": [
    {
     "data": {
      "text/plain": [
       "0.9212288302481292"
      ]
     },
     "execution_count": 30,
     "metadata": {},
     "output_type": "execute_result"
    }
   ],
   "source": [
    "sklearn.metrics.accuracy_score(y_test, test_preds)"
   ]
  },
  {
   "cell_type": "code",
   "execution_count": 31,
   "metadata": {},
   "outputs": [],
   "source": [
    "test_probs = clf.predict_proba(X_test)\n",
    "test_probs = test_probs[:,1]"
   ]
  },
  {
   "cell_type": "code",
   "execution_count": 32,
   "metadata": {},
   "outputs": [
    {
     "data": {
      "text/plain": [
       "0.9726277137801664"
      ]
     },
     "execution_count": 32,
     "metadata": {},
     "output_type": "execute_result"
    }
   ],
   "source": [
    "sklearn.metrics.roc_auc_score(y_test, test_probs)"
   ]
  },
  {
   "cell_type": "code",
   "execution_count": 33,
   "metadata": {},
   "outputs": [],
   "source": [
    "best_cv_preds = clf.studies[0].best_trial.user_attrs['cv_preds']"
   ]
  },
  {
   "cell_type": "code",
   "execution_count": 34,
   "metadata": {},
   "outputs": [
    {
     "data": {
      "text/plain": [
       "(10309, 2)"
      ]
     },
     "execution_count": 34,
     "metadata": {},
     "output_type": "execute_result"
    }
   ],
   "source": [
    "best_cv_preds.shape"
   ]
  },
  {
   "cell_type": "code",
   "execution_count": 35,
   "metadata": {},
   "outputs": [
    {
     "data": {
      "text/plain": [
       "array([[0.86526072, 0.13473926],\n",
       "       [0.95590591, 0.04409406],\n",
       "       [0.79003268, 0.20996733],\n",
       "       ...,\n",
       "       [0.96882081, 0.03117919],\n",
       "       [0.90287381, 0.0971262 ],\n",
       "       [0.95561051, 0.0443895 ]])"
      ]
     },
     "execution_count": 35,
     "metadata": {},
     "output_type": "execute_result"
    }
   ],
   "source": [
    "best_cv_preds"
   ]
  },
  {
   "cell_type": "markdown",
   "metadata": {},
   "source": [
    "# Regressor"
   ]
  },
  {
   "cell_type": "code",
   "execution_count": 18,
   "metadata": {},
   "outputs": [],
   "source": [
    "#TODO: automatic seed\n",
    "xgb_linear = XGBRegressorHypster(booster_list=['gblinear']\n",
    "                               ,param_dict={'nthread' : 1\n",
    "                                            #TODO check what happens when you run over parameters in optuna\n",
    "                               #,'subsample' : 0.9\n",
    "                               }\n",
    "                               )\n",
    "xgb_tree = XGBRegressorHypster(booster_list=['gbtree', 'dart'], \n",
    "                               param_dict={'max_depth' : optuna.distributions.IntUniformDistribution(2, 20)\n",
    "                                               ,'nthread' : 1\n",
    "                                               #,'subsample' : 0.9 \n",
    "                                               })\n",
    "#lgb_estimator = LGBClassifierOptuna()\n",
    "#sgd_estimator = SGDClassifierOptuna()\n",
    "#rf_estimator  = RFClassifierOptuna()"
   ]
  },
  {
   "cell_type": "code",
   "execution_count": 19,
   "metadata": {},
   "outputs": [],
   "source": [
    "estimators = [xgb_linear, xgb_tree]#, sgd|_estimator]"
   ]
  },
  {
   "cell_type": "code",
   "execution_count": 20,
   "metadata": {},
   "outputs": [],
   "source": [
    "reg = HyPSTERRegressor(estimators, pipeline, pipe_params,\n",
    "                        scoring=\"neg_mean_squared_error\", cv=KFold(n_splits=3, random_state=SEED), sampler=sampler, \n",
    "                        refit=False, random_state=SEED, n_jobs=-1)"
   ]
  },
  {
   "cell_type": "code",
   "execution_count": 21,
   "metadata": {},
   "outputs": [
    {
     "name": "stdout",
     "output_type": "stream",
     "text": [
      "XGBoost Regressor\n",
      "Score: 568.705\n",
      "Score: 84.99023\n",
      "Score: 216.46002\n",
      "XGBoost Regressor\n",
      "Score: 296.68948\n",
      "Score: 462.12625\n"
     ]
    },
    {
     "name": "stderr",
     "output_type": "stream",
     "text": [
      "[W 2019-08-06 15:00:43,151] Setting status of trial#4 as TrialState.FAIL because of the following error: ValueError(\"Input contains NaN, infinity or a value too large for dtype('float32').\")\n",
      "Traceback (most recent call last):\n",
      "  File \"/Users/giladrubin/anaconda3/lib/python3.7/site-packages/optuna/study.py\", line 469, in _run_trial\n",
      "    result = func(trial)\n",
      "  File \"/Users/giladrubin/python_workspace/HyPSTER/hypster.py\", line 136, in __call__\n",
      "    fold_score = estimator.score_test(self.scoring, self.scorer_type)\n",
      "  File \"/Users/giladrubin/python_workspace/HyPSTER/hypster_xgboost.py\", line 256, in score_test\n",
      "    return scorer(self.dtest.get_label(), preds)\n",
      "  File \"/Users/giladrubin/anaconda3/lib/python3.7/site-packages/sklearn/metrics/regression.py\", line 239, in mean_squared_error\n",
      "    y_true, y_pred, multioutput)\n",
      "  File \"/Users/giladrubin/anaconda3/lib/python3.7/site-packages/sklearn/metrics/regression.py\", line 77, in _check_reg_targets\n",
      "    y_pred = check_array(y_pred, ensure_2d=False)\n",
      "  File \"/Users/giladrubin/anaconda3/lib/python3.7/site-packages/sklearn/utils/validation.py\", line 573, in check_array\n",
      "    allow_nan=force_all_finite == 'allow-nan')\n",
      "  File \"/Users/giladrubin/anaconda3/lib/python3.7/site-packages/sklearn/utils/validation.py\", line 56, in _assert_all_finite\n",
      "    raise ValueError(msg_err.format(type_err, X.dtype))\n",
      "ValueError: Input contains NaN, infinity or a value too large for dtype('float32').\n"
     ]
    },
    {
     "name": "stdout",
     "output_type": "stream",
     "text": [
      "Score: 432.04593\n",
      "Score: 117.13271\n",
      "Score: 453.34067\n",
      "Score: 495.48026\n",
      "Score: 386.08017\n",
      "Score: 424.19736\n",
      "Score: 185.61485\n",
      "Score: 186.16032\n",
      "Score: 178.03967\n",
      "Score: 204.28264\n",
      "Score: 118.57308\n",
      "Score: 33.77169\n",
      "Score: 54.69024\n",
      "Score: 379.35376\n",
      "Score: 373.43057\n",
      "Score: 403.01633\n",
      "Score: 200.26775\n",
      "Score: 51.98082\n",
      "Score: 57.20684\n",
      "Score: 443.6737\n",
      "CPU times: user 50.3 s, sys: 4.58 s, total: 54.9 s\n",
      "Wall time: 51.3 s\n"
     ]
    }
   ],
   "source": [
    "%%time\n",
    "reg.fit(X_train, y_train, cat_columns=cat_columns, n_trials_per_estimator=[10, 60])"
   ]
  },
  {
   "cell_type": "code",
   "execution_count": 22,
   "metadata": {},
   "outputs": [
    {
     "data": {
      "text/plain": [
       "33.77168655395508"
      ]
     },
     "execution_count": 22,
     "metadata": {},
     "output_type": "execute_result"
    }
   ],
   "source": [
    "reg.best_score_"
   ]
  },
  {
   "cell_type": "code",
   "execution_count": 23,
   "metadata": {},
   "outputs": [
    {
     "data": {
      "text/plain": [
       "{'max_depth': 9,\n",
       " 'init_eta': 0.890493938280948,\n",
       " 'booster': 'gbtree',\n",
       " 'lambda': 7.011497445818966e-08,\n",
       " 'alpha': 1.0124912472584068e-08,\n",
       " 'min_child_weight': 1,\n",
       " 'gamma': 2.938959433727388e-09,\n",
       " 'grow_policy': 'depthwise',\n",
       " 'subsample': 0.50715024824889,\n",
       " 'colsample_bytree': 0.3654668161167628,\n",
       " 'colsample_bynode': 0.10903004655336655,\n",
       " 'forest_boosting': True,\n",
       " 'num_parallel_tree': 11}"
      ]
     },
     "execution_count": 23,
     "metadata": {},
     "output_type": "execute_result"
    }
   ],
   "source": [
    "reg.best_params_"
   ]
  },
  {
   "cell_type": "code",
   "execution_count": 24,
   "metadata": {},
   "outputs": [],
   "source": [
    "reg.refit(X_train, y_train)"
   ]
  },
  {
   "cell_type": "code",
   "execution_count": 25,
   "metadata": {},
   "outputs": [],
   "source": [
    "test_preds = reg.predict(X_test)"
   ]
  },
  {
   "cell_type": "code",
   "execution_count": 26,
   "metadata": {},
   "outputs": [
    {
     "data": {
      "text/plain": [
       "3.813087014523809"
      ]
     },
     "execution_count": 26,
     "metadata": {},
     "output_type": "execute_result"
    }
   ],
   "source": [
    "sklearn.metrics.mean_absolute_error(y_test, test_preds)"
   ]
  },
  {
   "cell_type": "code",
   "execution_count": 27,
   "metadata": {},
   "outputs": [
    {
     "data": {
      "text/plain": [
       "5.8280181821734685"
      ]
     },
     "execution_count": 27,
     "metadata": {},
     "output_type": "execute_result"
    }
   ],
   "source": [
    "np.sqrt(sklearn.metrics.mean_squared_error(y_test, test_preds))"
   ]
  },
  {
   "cell_type": "markdown",
   "metadata": {},
   "source": [
    "# Misc"
   ]
  },
  {
   "cell_type": "raw",
   "metadata": {},
   "source": [
    "import catboost\n",
    "import catboost.datasets"
   ]
  },
  {
   "cell_type": "raw",
   "metadata": {},
   "source": [
    "train_df, test_df = catboost.datasets.adult()"
   ]
  },
  {
   "cell_type": "raw",
   "metadata": {},
   "source": [
    "train_df.head()"
   ]
  },
  {
   "cell_type": "raw",
   "metadata": {},
   "source": [
    "X_train = train_df.drop(\"income\", axis=1).copy()"
   ]
  },
  {
   "cell_type": "raw",
   "metadata": {},
   "source": [
    "X_test = test_df.drop(\"income\", axis=1).copy()"
   ]
  },
  {
   "cell_type": "raw",
   "metadata": {},
   "source": [
    "y_train = train_df[\"income\"].copy()"
   ]
  },
  {
   "cell_type": "raw",
   "metadata": {},
   "source": [
    "y_test = test_df[\"income\"].copy()"
   ]
  },
  {
   "cell_type": "raw",
   "metadata": {},
   "source": [
    "X_train.to_pickle(\"./data/boston_X_train.pkl\")\n",
    "y_train.to_pickle(\"./data/boston_y_train.pkl\")\n",
    "X_test.to_pickle(\"./data/boston_X_test.pkl\")\n",
    "y_test.to_pickle(\"./data/boston_y_test.pkl\")"
   ]
  },
  {
   "cell_type": "raw",
   "metadata": {},
   "source": [
    "from sklearn.compose import ColumnTransformer\n",
    "from sklearn.pipeline import Pipeline\n",
    "from sklearn.preprocessing import OneHotEncoder\n",
    "from sklearn.impute import SimpleImputer"
   ]
  },
  {
   "cell_type": "raw",
   "metadata": {},
   "source": [
    "impute_ohe_pipe = Pipeline([('impute', SimpleImputer(strategy=\"constant\", fill_value=\"unknown\")),\n",
    "                             ('ohe', OneHotEncoder(categories=\"auto\", handle_unknown='ignore'))])"
   ]
  },
  {
   "cell_type": "raw",
   "metadata": {},
   "source": [
    "len(impute_ohe_pipe.steps)"
   ]
  },
  {
   "cell_type": "raw",
   "metadata": {},
   "source": [
    "impute_ohe_ct = ColumnTransformer([('impute_ohe', impute_ohe_pipe, cat_columns)], remainder=\"passthrough\")"
   ]
  },
  {
   "cell_type": "raw",
   "metadata": {},
   "source": [
    "pipeline = Pipeline([('impute_ohe', impute_ohe_ct)])"
   ]
  },
  {
   "cell_type": "raw",
   "metadata": {},
   "source": [
    "from sklearn import datasets"
   ]
  },
  {
   "cell_type": "raw",
   "metadata": {},
   "source": [
    "X, y = datasets.load_boston(return_X_y=True)"
   ]
  },
  {
   "cell_type": "raw",
   "metadata": {},
   "source": [
    "features = datasets.load_boston()['feature_names']"
   ]
  },
  {
   "cell_type": "raw",
   "metadata": {},
   "source": [
    "X = pd.DataFrame(X, columns = features)"
   ]
  },
  {
   "cell_type": "raw",
   "metadata": {},
   "source": [
    "y = pd.Series(y)"
   ]
  },
  {
   "cell_type": "raw",
   "metadata": {},
   "source": [
    "X_train, X_test, y_train, y_test = train_test_split(X, y, test_size=0.33, random_state=SEED)"
   ]
  },
  {
   "cell_type": "raw",
   "metadata": {},
   "source": [
    "if len(classes) == 2: #binary classification\n",
    "    if (pos_label is None and\n",
    "            not (np.array_equal(classes, [0, 1]) or\n",
    "                 np.array_equal(classes, [-1, 1]))):\n",
    "        raise ValueError(\"Data is not binary and pos_label is not specified\")\n",
    "    elif pos_label is None:\n",
    "        pos_label = 1\n",
    "    y = (y == pos_label)"
   ]
  },
  {
   "cell_type": "markdown",
   "metadata": {},
   "source": [
    "# Decision Tree"
   ]
  },
  {
   "cell_type": "raw",
   "metadata": {},
   "source": [
    "X_train = X_train.astype(np.float32)\n",
    "X_test = X_test.astype(np.float32)"
   ]
  },
  {
   "cell_type": "raw",
   "metadata": {},
   "source": [
    "from sklearn.tree import DecisionTreeClassifier"
   ]
  },
  {
   "cell_type": "raw",
   "metadata": {},
   "source": [
    "tree = DecisionTreeClassifier(min_samples_leaf=20, class_weight=\"balanced\", random_state=SEED)"
   ]
  },
  {
   "cell_type": "raw",
   "metadata": {},
   "source": [
    "tree.fit(X_train, y_train)"
   ]
  },
  {
   "cell_type": "raw",
   "metadata": {},
   "source": [
    "test_preds = tree.predict_proba(X_test)"
   ]
  },
  {
   "cell_type": "raw",
   "metadata": {},
   "source": [
    "sklearn.metrics.roc_auc_score(y_test, test_preds[:,1])"
   ]
  },
  {
   "cell_type": "raw",
   "metadata": {},
   "source": [
    "train_nodes = tree.tree_.decision_path(X_train)\n",
    "test_nodes = tree.tree_.decision_path(X_test)"
   ]
  },
  {
   "cell_type": "raw",
   "metadata": {},
   "source": [
    "import umap"
   ]
  },
  {
   "cell_type": "raw",
   "metadata": {},
   "source": [
    "reducer = umap.UMAP(metric=\"jaccard\", random_state=SEED, verbose=False)"
   ]
  },
  {
   "cell_type": "raw",
   "metadata": {},
   "source": [
    "reducer.fit(train_nodes.todense())"
   ]
  },
  {
   "cell_type": "raw",
   "metadata": {},
   "source": [
    "embedding = reducer.transform(test_nodes.todense())"
   ]
  },
  {
   "cell_type": "raw",
   "metadata": {},
   "source": [
    "import hvplot\n",
    "import hvplot.pandas"
   ]
  },
  {
   "cell_type": "raw",
   "metadata": {},
   "source": [
    "vis_df = pd.DataFrame({\"x_raw\" : embedding[:,0],\n",
    "                       \"y_raw\" : embedding[:,1],\n",
    "                       \"class\" : y_test,\n",
    "                       \"score\" : test_preds[:,1]})"
   ]
  },
  {
   "cell_type": "raw",
   "metadata": {
    "scrolled": false
   },
   "source": [
    "vis_df.hvplot.scatter(\"x_raw\", \"y_raw\", color=\"class\", \n",
    "                      cmap='Set1',\n",
    "                      width=900, height=600, \n",
    "                      alpha = 0.4) "
   ]
  },
  {
   "cell_type": "raw",
   "metadata": {},
   "source": [
    "# Random Forest"
   ]
  },
  {
   "cell_type": "raw",
   "metadata": {},
   "source": [
    "from sklearn.ensemble import RandomForestClassifier"
   ]
  },
  {
   "cell_type": "raw",
   "metadata": {},
   "source": [
    "import hvplot\n",
    "import hvplot.pandas"
   ]
  },
  {
   "cell_type": "raw",
   "metadata": {},
   "source": [
    "import umap\n",
    "import numba"
   ]
  },
  {
   "cell_type": "raw",
   "metadata": {},
   "source": [
    "rf = RandomForestClassifier(min_samples_leaf=20, max_depth=30, \n",
    "                            n_estimators=200, n_jobs=-1, \n",
    "                            class_weight=\"balanced\", random_state=SEED)"
   ]
  },
  {
   "cell_type": "raw",
   "metadata": {},
   "source": [
    "rf.fit(X_train, y_train)"
   ]
  },
  {
   "cell_type": "raw",
   "metadata": {},
   "source": [
    "@numba.njit()\n",
    "def jaccard_categorical(x, y):\n",
    "    num_non_zero = 0.0\n",
    "    num_equal = 0.0\n",
    "    num_non_zero = x.shape[0]\n",
    "    for i in range(x.shape[0]):\n",
    "        num_equal += x[i] == y[i]\n",
    "\n",
    "    if num_non_zero == 0.0:\n",
    "        return 0.0\n",
    "    else:\n",
    "        return float(num_non_zero - num_equal) / num_non_zero"
   ]
  },
  {
   "cell_type": "raw",
   "metadata": {},
   "source": [
    "def tree_ensemble_embeddings(X, model, reducer=None, n_componenets=2, random_state=1):\n",
    "    leaves = model.apply(X)\n",
    "    if reducer is None:\n",
    "        reducer = umap.UMAP(metric=jaccard_categorical,\n",
    "                            n_components=n_componenets,\n",
    "                            random_state=random_state,\n",
    "                            verbose=False)\n",
    "        embeddings = reducer.fit_transform(leaves)\n",
    "        return embeddings, reducer\n",
    "    else:\n",
    "        embeddings = reducer.transform(leaves)\n",
    "    return embeddings"
   ]
  },
  {
   "cell_type": "raw",
   "metadata": {},
   "source": [
    "test_preds = rf.predict_proba(X_test)"
   ]
  },
  {
   "cell_type": "raw",
   "metadata": {},
   "source": [
    "sklearn.metrics.roc_auc_score(y_test, test_preds[:,1])"
   ]
  },
  {
   "cell_type": "raw",
   "metadata": {},
   "source": [
    "train_emb, reducer = tree_ensemble_embeddings(X_train, model=rf, random_state=SEED)"
   ]
  },
  {
   "cell_type": "raw",
   "metadata": {},
   "source": [
    "test_emb = tree_ensemble_embeddings(X_test, model=rf, reducer=reducer ,random_state=SEED)"
   ]
  },
  {
   "cell_type": "raw",
   "metadata": {},
   "source": [
    "vis_df = pd.DataFrame({\"x_raw\" : test_emb[:,0],\n",
    "                       \"y_raw\" : test_emb[:,1],\n",
    "                       \"class\" : np.where(y_test == 0, \"no\", \"yes\"),\n",
    "                       \"score\" : test_preds[:,1]})"
   ]
  },
  {
   "cell_type": "raw",
   "metadata": {
    "scrolled": false
   },
   "source": [
    "vis_df.hvplot.scatter(\"x_raw\", \"y_raw\", \n",
    "                      c=\"class\", \n",
    "                      cmap='Set1',\n",
    "                      width=900, height=600, \n",
    "                      alpha = 0.2)"
   ]
  },
  {
   "cell_type": "raw",
   "metadata": {},
   "source": [
    "train_nodes = rf.decision_path(X_train)[0]\n",
    "test_nodes = rf.decision_path(X_test)[0]"
   ]
  },
  {
   "cell_type": "raw",
   "metadata": {},
   "source": [
    "def jaccard_similarities(mat):\n",
    "    cols_sum = mat.getnnz(axis=0)\n",
    "    ab = mat.T * mat\n",
    "\n",
    "    # for rows\n",
    "    aa = np.repeat(cols_sum, ab.getnnz(axis=0))\n",
    "    # for columns\n",
    "    bb = cols_sum[ab.indices]\n",
    "\n",
    "    similarities = ab.copy()\n",
    "    similarities.data /= (aa + bb - ab.data)\n",
    "\n",
    "    return similarities"
   ]
  },
  {
   "cell_type": "raw",
   "metadata": {},
   "source": [
    "train_mat = jaccard_similarities(train_nodes)"
   ]
  },
  {
   "cell_type": "raw",
   "metadata": {},
   "source": [
    "test_mat = jaccard_similarities(test_nodes)"
   ]
  },
  {
   "cell_type": "raw",
   "metadata": {},
   "source": [
    "reducer = umap.UMAP(metric=\"precomputed\", n_components=2, random_state=SEED, verbose=False)"
   ]
  },
  {
   "cell_type": "raw",
   "metadata": {},
   "source": [
    "train_nodes_emb = reducer.fit_transform(train_mat)"
   ]
  },
  {
   "cell_type": "raw",
   "metadata": {},
   "source": [
    "from scipy.sparse import csr_matrix\n",
    "\n",
    "def pairwise_jaccard_sparse(csr):\n",
    "    \"\"\"Computes the Jaccard distance between the rows of `csr`,\n",
    "    smaller than the cut-off distance `epsilon`.\n",
    "    \"\"\"\n",
    "    csr = csr_matrix(csr).astype(bool).astype(int)\n",
    "\n",
    "    csr_rownnz = csr.getnnz(axis=1)\n",
    "    intrsct = csr.dot(csr.T)\n",
    "    print(\"Hi!\")\n",
    "    nnz_i = np.repeat(csr_rownnz, intrsct.getnnz(axis=1))\n",
    "    unions = nnz_i + csr_rownnz[intrsct.indices] - intrsct.data\n",
    "    dists = 1.0 - intrsct.data / unions\n",
    "    print(\"Hi2!\")\n",
    "    mask = (dists > 0) & (dists <= epsilon)\n",
    "    data = dists[mask]\n",
    "    indices = intrsct.indices[mask]\n",
    "    print(\"Hi3!\")\n",
    "    rownnz = np.add.reduceat(mask, intrsct.indptr[:-1])\n",
    "    indptr = np.r_[0, np.cumsum(rownnz)]\n",
    "    print(\"Hi4!\")\n",
    "    out = csr_matrix((data, indices, indptr), intrsct.shape)\n",
    "    return out"
   ]
  },
  {
   "cell_type": "raw",
   "metadata": {},
   "source": [
    "train_nodes"
   ]
  },
  {
   "cell_type": "raw",
   "metadata": {},
   "source": [
    "from hashlib import sha1\n",
    "from datasketch.minhash import MinHash"
   ]
  },
  {
   "cell_type": "raw",
   "metadata": {},
   "source": [
    "num_perm = 100"
   ]
  },
  {
   "cell_type": "raw",
   "metadata": {},
   "source": [
    "train_mh = np.zeros((train_nodes.shape[0], num_perm))\n",
    "mh1 = MinHash(num_perm=num_perm)\n",
    "for i in range(train_nodes.shape[0]):\n",
    "    mh1.clear()\n",
    "    mh1.update(train_nodes[i].todense())\n",
    "    train_mh[i,:] = mh1.hashvalues"
   ]
  },
  {
   "cell_type": "raw",
   "metadata": {},
   "source": [
    "test_mh = np.zeros((test_nodes.shape[0], num_perm))\n",
    "for i in range(test_nodes.shape[0]):\n",
    "    mh1.clear()\n",
    "    mh1.update(test_nodes[i].todense())\n",
    "    test_mh[i,:] = mh1.hashvalues"
   ]
  },
  {
   "cell_type": "raw",
   "metadata": {},
   "source": [
    "train_mh[0].max()"
   ]
  },
  {
   "cell_type": "raw",
   "metadata": {},
   "source": [
    "train_nodes"
   ]
  },
  {
   "cell_type": "raw",
   "metadata": {},
   "source": [
    "reducer = umap.UMAP(metric=jaccard_categorical, n_components=2, random_state=SEED, verbose=False)"
   ]
  },
  {
   "cell_type": "raw",
   "metadata": {},
   "source": [
    "train_emb = reducer.fit_transform(train_mh)"
   ]
  },
  {
   "cell_type": "raw",
   "metadata": {},
   "source": [
    "test_embedding = reducer.transform(test_mh)"
   ]
  },
  {
   "cell_type": "raw",
   "metadata": {},
   "source": [
    "import hvplot\n",
    "import hvplot.pandas"
   ]
  },
  {
   "cell_type": "raw",
   "metadata": {},
   "source": [
    "vis_df = pd.DataFrame({\"x_raw\" : test_embedding[:,0],\n",
    "                       \"y_raw\" : test_embedding[:,1],\n",
    "                       \"class\" : y_test,\n",
    "                       \"score\" : test_preds[:,1]})"
   ]
  },
  {
   "cell_type": "raw",
   "metadata": {
    "scrolled": false
   },
   "source": [
    "vis_df.hvplot.scatter(\"x_raw\", \"y_raw\", color=\"class\", \n",
    "                      cmap='Set1',\n",
    "                      width=900, height=600, \n",
    "                      alpha = 0.2)"
   ]
  },
  {
   "cell_type": "raw",
   "metadata": {},
   "source": [
    "train_mat = pairwise_jaccard_sparse(train_nodes)"
   ]
  },
  {
   "cell_type": "raw",
   "metadata": {},
   "source": [
    "print(\"hi\")"
   ]
  },
  {
   "cell_type": "raw",
   "metadata": {},
   "source": [
    "test_mat = pairwise_jaccard_sparse(test_nodes)"
   ]
  },
  {
   "cell_type": "raw",
   "metadata": {},
   "source": [
    "reducer = umap.UMAP(metric=\"precomputed\", n_components=2, random_state=SEED, verbose=False)"
   ]
  },
  {
   "cell_type": "raw",
   "metadata": {},
   "source": [
    "train_nodes_emb = reducer.fit_transform(train_mat)"
   ]
  },
  {
   "cell_type": "raw",
   "metadata": {},
   "source": [
    "reducer = umap.UMAP(metric=\"jaccard\", n_components=5, random_state=SEED, verbose=False)"
   ]
  },
  {
   "cell_type": "raw",
   "metadata": {},
   "source": [
    "train_nodes_emb = reducer.fit_transform(train_nodes)"
   ]
  },
  {
   "cell_type": "raw",
   "metadata": {},
   "source": [
    "test_nodes_emb = reducer.transform(test_nodes)"
   ]
  },
  {
   "cell_type": "raw",
   "metadata": {},
   "source": [
    "vis_df = pd.DataFrame({\"x_raw\" : test_nodes_emb[:,0],\n",
    "                       \"y_raw\" : test_nodes_emb[:,1],\n",
    "                       \"class\" : y_test,\n",
    "                       \"score\" : test_preds[:,1]})"
   ]
  },
  {
   "cell_type": "raw",
   "metadata": {},
   "source": [
    "vis_df.hvplot.scatter(\"x_raw\", \"y_raw\", color=\"class\", \n",
    "                      cmap='Set1',\n",
    "                      width=900, height=600, \n",
    "                      alpha = 0.2)"
   ]
  },
  {
   "cell_type": "raw",
   "metadata": {},
   "source": []
  },
  {
   "cell_type": "raw",
   "metadata": {},
   "source": [
    "rf2 = RandomForestClassifier(min_samples_leaf=20, n_estimators=200, n_jobs=-1, class_weight=\"balanced\", random_state=SEED)"
   ]
  },
  {
   "cell_type": "raw",
   "metadata": {},
   "source": [
    "rf2.fit(train_emb, y_train)"
   ]
  },
  {
   "cell_type": "raw",
   "metadata": {},
   "source": [
    "test_preds = rf2.predict_proba(test_embedding)"
   ]
  },
  {
   "cell_type": "raw",
   "metadata": {},
   "source": [
    "sklearn.metrics.roc_auc_score(y_test, test_preds[:,1])"
   ]
  },
  {
   "cell_type": "raw",
   "metadata": {},
   "source": [
    "rf3 = RandomForestClassifier(min_samples_leaf=20, n_estimators=200, n_jobs=-1, class_weight=\"balanced\", random_state=SEED)"
   ]
  },
  {
   "cell_type": "raw",
   "metadata": {},
   "source": [
    "rf3.fit(train_nodes_emb, y_train)"
   ]
  },
  {
   "cell_type": "raw",
   "metadata": {},
   "source": [
    "test_preds = rf3.predict_proba(test_nodes_emb)"
   ]
  },
  {
   "cell_type": "raw",
   "metadata": {},
   "source": [
    "sklearn.metrics.roc_auc_score(y_test, test_preds[:,1])"
   ]
  },
  {
   "cell_type": "raw",
   "metadata": {},
   "source": [
    "train_nodes = rf.decision_path(X_train)[0]\n",
    "test_nodes = rf.decision_path(X_test)[0]"
   ]
  },
  {
   "cell_type": "raw",
   "metadata": {},
   "source": [
    "from hashlib import sha1\n",
    "from datasketch.minhash import MinHash"
   ]
  },
  {
   "cell_type": "raw",
   "metadata": {},
   "source": [
    "num_perm = 20"
   ]
  },
  {
   "cell_type": "raw",
   "metadata": {},
   "source": [
    "train_mh = np.zeros((train_nodes.shape[0], num_perm))\n",
    "mh1 = MinHash(num_perm=num_perm)\n",
    "for i in range(train_nodes.shape[0]):\n",
    "    mh1.clear()\n",
    "    mh1.update(train_nodes[i].todense())\n",
    "    train_mh[i,:] = mh1.hashvalues"
   ]
  },
  {
   "cell_type": "raw",
   "metadata": {},
   "source": [
    "test_mh = np.zeros((test_nodes.shape[0], num_perm))\n",
    "for i in range(test_nodes.shape[0]):\n",
    "    mh1.clear()\n",
    "    mh1.update(test_nodes[i].todense())\n",
    "    test_mh[i,:] = mh1.hashvalues"
   ]
  },
  {
   "cell_type": "raw",
   "metadata": {},
   "source": [
    "import umap"
   ]
  },
  {
   "cell_type": "raw",
   "metadata": {},
   "source": [
    "reducer = umap.UMAP(metric=\"jaccard\", random_state=SEED, verbose=False)"
   ]
  },
  {
   "cell_type": "raw",
   "metadata": {},
   "source": [
    "reducer.fit(train_mh)"
   ]
  },
  {
   "cell_type": "raw",
   "metadata": {},
   "source": [
    "embedding = reducer.transform(test_mh)"
   ]
  },
  {
   "cell_type": "raw",
   "metadata": {},
   "source": [
    "import hvplot\n",
    "import hvplot.pandas"
   ]
  },
  {
   "cell_type": "raw",
   "metadata": {},
   "source": [
    "vis_df = pd.DataFrame({\"x_raw\" : embedding[:,0],\n",
    "                       \"y_raw\" : embedding[:,1],\n",
    "                       \"class\" : y_test,\n",
    "                       \"score\" : test_preds[:,1]})"
   ]
  },
  {
   "cell_type": "raw",
   "metadata": {},
   "source": [
    "vis_df.hvplot.scatter(\"x_raw\", \"y_raw\", color=\"class\", \n",
    "                      cmap='Set1',\n",
    "                      width=900, height=600, \n",
    "                      alpha = 0.2)"
   ]
  },
  {
   "cell_type": "raw",
   "metadata": {},
   "source": [
    "leaves = rf.apply(X_test)"
   ]
  },
  {
   "cell_type": "raw",
   "metadata": {},
   "source": [
    "M = OneHotEncoder(categories=\"auto\").fit_transform(leaves)\n",
    "S = (M*M.transpose()).todense()\n",
    "tree_embeddings = 1 - S/S.max()"
   ]
  },
  {
   "cell_type": "raw",
   "metadata": {},
   "source": [
    "reducer = umap.UMAP(metric=\"precomputed\", random_state=SEED, verbose=False)"
   ]
  },
  {
   "cell_type": "raw",
   "metadata": {},
   "source": [
    "embeddings = reducer.fit_transform(tree_embeddings)"
   ]
  },
  {
   "cell_type": "raw",
   "metadata": {},
   "source": [
    "vis_df = pd.DataFrame({\"x_raw\" : embeddings[:,0],\n",
    "                       \"y_raw\" : embeddings[:,1],\n",
    "                       \"class\" : y_test,\n",
    "                       \"score\" : test_preds[:,1]})"
   ]
  },
  {
   "cell_type": "raw",
   "metadata": {},
   "source": [
    "vis_df.hvplot.scatter(\"x_raw\", \"y_raw\", color=\"class\", \n",
    "                      cmap='Set1',\n",
    "                      width=900, height=600, \n",
    "                      alpha = 0.2) "
   ]
  },
  {
   "cell_type": "raw",
   "metadata": {},
   "source": [
    "minhash = MinHash(seed=lean_minhash.seed,\n",
    "                  hashvalues=lean_minhash.hashvalues)\n",
    "\n",
    "# Or if you want to prevent further updates on minhash\n",
    "# from affecting the state of lean_minhash\n",
    "minhash = MinHash(seed=lean_minhash.seed,\n",
    "                  hashvalues=lean_minhash.digest())"
   ]
  }
 ],
 "metadata": {
  "kernelspec": {
   "display_name": "Python 3",
   "language": "python",
   "name": "python3"
  },
  "language_info": {
   "codemirror_mode": {
    "name": "ipython",
    "version": 3
   },
   "file_extension": ".py",
   "mimetype": "text/x-python",
   "name": "python",
   "nbconvert_exporter": "python",
   "pygments_lexer": "ipython3",
   "version": "3.7.1"
  },
  "pycharm": {
   "stem_cell": {
    "cell_type": "raw",
    "metadata": {
     "collapsed": false
    },
    "source": []
   }
  }
 },
 "nbformat": 4,
 "nbformat_minor": 4
}
