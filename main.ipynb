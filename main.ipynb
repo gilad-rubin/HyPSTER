{
 "cells": [
  {
   "cell_type": "code",
   "execution_count": 1,
   "metadata": {},
   "outputs": [],
   "source": [
    "import pandas as pd\n",
    "import numpy as np\n",
    "import scipy\n",
    "import sklearn"
   ]
  },
  {
   "cell_type": "code",
   "execution_count": 2,
   "metadata": {},
   "outputs": [],
   "source": [
    "from sklearn.feature_extraction.text import TfidfVectorizer"
   ]
  },
  {
   "cell_type": "code",
   "execution_count": 3,
   "metadata": {},
   "outputs": [],
   "source": [
    "from sklearn.model_selection import train_test_split, StratifiedKFold, KFold\n",
    "from sklearn.pipeline import Pipeline\n",
    "from sklearn.feature_selection import SelectFromModel, SelectPercentile, chi2, VarianceThreshold\n",
    "from sklearn.ensemble import RandomForestClassifier, ExtraTreesClassifier\n",
    "from sklearn import metrics"
   ]
  },
  {
   "cell_type": "code",
   "execution_count": 4,
   "metadata": {},
   "outputs": [],
   "source": [
    "import optuna\n",
    "from optuna.visualization import plot_intermediate_values"
   ]
  },
  {
   "cell_type": "code",
   "execution_count": 5,
   "metadata": {},
   "outputs": [],
   "source": [
    "import numpy as np\n",
    "import xgboost as xgb\n",
    "#import lightgbm as lgb"
   ]
  },
  {
   "cell_type": "code",
   "execution_count": 6,
   "metadata": {},
   "outputs": [],
   "source": [
    "SEED = 85"
   ]
  },
  {
   "cell_type": "code",
   "execution_count": 7,
   "metadata": {},
   "outputs": [],
   "source": [
    "from hypster_xgboost import *\n",
    "from hypster import *"
   ]
  },
  {
   "cell_type": "markdown",
   "metadata": {},
   "source": [
    "# Get Dataset"
   ]
  },
  {
   "cell_type": "code",
   "execution_count": 8,
   "metadata": {},
   "outputs": [],
   "source": [
    "from scipy.sparse import csr_matrix, save_npz, load_npz"
   ]
  },
  {
   "cell_type": "code",
   "execution_count": 9,
   "metadata": {},
   "outputs": [],
   "source": [
    "dataset = \"adult\" #adult, boston"
   ]
  },
  {
   "cell_type": "code",
   "execution_count": 10,
   "metadata": {},
   "outputs": [],
   "source": [
    "if dataset==\"adult\":\n",
    "    X_train = pd.read_pickle(\"./data/adult_X_train.pkl\")\n",
    "    y_train = pd.read_pickle(\"./data/adult_y_train.pkl\")\n",
    "    X_test = pd.read_pickle(\"./data/adult_X_test.pkl\")\n",
    "    y_test = pd.read_pickle(\"./data/adult_y_test.pkl\")\n",
    "    cat_columns = X_train.select_dtypes(include=\"object\").columns\n",
    "elif dataset==\"newsgroup\":\n",
    "    X_train = load_npz(\"./data/X_train.npz\")\n",
    "    y_train = pd.read_pickle(\"./data/y_train.pkl\")\n",
    "    X_test = load_npz(\"./data/X_test.npz\")\n",
    "    y_test = pd.read_pickle(\"./data/y_test.pkl\")\n",
    "    cat_columns=None\n",
    "else:\n",
    "    X_train = pd.read_pickle(\"./data/boston_X_train.pkl\")\n",
    "    y_train = pd.read_pickle(\"./data/boston_y_train.pkl\")\n",
    "    X_test = pd.read_pickle(\"./data/boston_X_test.pkl\")\n",
    "    y_test = pd.read_pickle(\"./data/boston_y_test.pkl\")\n",
    "    cat_columns = None"
   ]
  },
  {
   "cell_type": "code",
   "execution_count": 11,
   "metadata": {},
   "outputs": [],
   "source": [
    "#X_train = X_train.sample(n=10000, random_state=SEED, axis=0)"
   ]
  },
  {
   "cell_type": "code",
   "execution_count": 12,
   "metadata": {},
   "outputs": [],
   "source": [
    "#y_train = y_train.iloc[X_train.index].reset_index(drop=True)\n",
    "#X_train.reset_index(inplace=True, drop=True)"
   ]
  },
  {
   "cell_type": "code",
   "execution_count": 13,
   "metadata": {},
   "outputs": [],
   "source": [
    "#pipeline - pipeline_objective OR regular pipeline\n",
    "#consider making pre-made steps with best practices (FS, scaling, etc...) then add option to concat to make one pipeline "
   ]
  },
  {
   "cell_type": "code",
   "execution_count": 14,
   "metadata": {},
   "outputs": [],
   "source": [
    "#pipeline = Pipeline([(\"sel\", SelectPercentile(chi2))])\n",
    "#pipe_params = {\"sel__percentile\" : optuna.distributions.IntUniformDistribution(1,100)}\n",
    "pipeline = None\n",
    "pipe_params = None"
   ]
  },
  {
   "cell_type": "code",
   "execution_count": 15,
   "metadata": {},
   "outputs": [],
   "source": [
    "from optuna.samplers import TPESampler"
   ]
  },
  {
   "cell_type": "markdown",
   "metadata": {},
   "source": [
    "# Classifier"
   ]
  },
  {
   "cell_type": "code",
   "execution_count": 16,
   "metadata": {},
   "outputs": [],
   "source": [
    "dataset = \"newsgroup\" #adult, boston"
   ]
  },
  {
   "cell_type": "code",
   "execution_count": 17,
   "metadata": {},
   "outputs": [],
   "source": [
    "if dataset==\"adult\":\n",
    "    X_train = pd.read_pickle(\"./data/adult_X_train.pkl\")\n",
    "    y_train = pd.read_pickle(\"./data/adult_y_train.pkl\")\n",
    "    X_test = pd.read_pickle(\"./data/adult_X_test.pkl\")\n",
    "    y_test = pd.read_pickle(\"./data/adult_y_test.pkl\")\n",
    "    cat_columns = X_train.select_dtypes(include=\"object\").columns\n",
    "elif dataset==\"newsgroup\":\n",
    "    X_train = load_npz(\"./data/X_train.npz\")\n",
    "    y_train = pd.read_pickle(\"./data/y_train.pkl\")\n",
    "    X_test = load_npz(\"./data/X_test.npz\")\n",
    "    y_test = pd.read_pickle(\"./data/y_test.pkl\")\n",
    "    cat_columns=None\n",
    "else:\n",
    "    X_train = pd.read_pickle(\"./data/boston_X_train.pkl\")\n",
    "    y_train = pd.read_pickle(\"./data/boston_y_train.pkl\")\n",
    "    X_test = pd.read_pickle(\"./data/boston_X_test.pkl\")\n",
    "    y_test = pd.read_pickle(\"./data/boston_y_test.pkl\")\n",
    "    cat_columns = None"
   ]
  },
  {
   "cell_type": "code",
   "execution_count": 18,
   "metadata": {},
   "outputs": [],
   "source": [
    "xgb_linear = XGBClassifierHypster(booster_list=['gblinear'], n_iter_per_round=2\n",
    "                               ,param_dict={verbosity=1})\n",
    "                               #,'subsample' : 0.9\n",
    "#gb_dart = XGBClassifierHypster(booster_list=['dart'])\n",
    "#xgb_tree = XGBClassifierHypster(booster_list=['gbtree', 'dart'], user_param_dict={'max_depth' : 2})\n",
    "xgb_tree = XGBClassifierHypster(booster_list=['gbtree', 'dart'],\n",
    "                                n_iter_per_round=5\n",
    "                                )\n",
    "#lgb_estimator = LGBClassifierOptuna()\n",
    "#sgd_estimator = SGDClassifierOptuna()\n",
    "#rf_estimator  = RFClassifierOptuna()"
   ]
  },
  {
   "cell_type": "code",
   "execution_count": 19,
   "metadata": {},
   "outputs": [],
   "source": [
    "estimators = [xgb_linear, xgb_tree]#, sgd|_estimator]"
   ]
  },
  {
   "cell_type": "code",
   "execution_count": 20,
   "metadata": {},
   "outputs": [],
   "source": [
    "sampler = optuna.integration.CmaEsSampler(n_startup_trials=30,\n",
    "                      independent_sampler=TPESampler(**TPESampler.hyperopt_parameters()),\n",
    "                      warn_independent_sampling=False, seed=SEED)"
   ]
  },
  {
   "cell_type": "code",
   "execution_count": 21,
   "metadata": {},
   "outputs": [],
   "source": [
    "sampler = TPESampler(**TPESampler.hyperopt_parameters())#, seed=SEED)"
   ]
  },
  {
   "cell_type": "code",
   "execution_count": 22,
   "metadata": {},
   "outputs": [],
   "source": [
    "clf = HyPSTERClassifier(estimators, pipeline, pipe_params, save_cv_preds=True,\n",
    "                        scoring=\"roc_auc\", cv=StratifiedKFold(n_splits=3, shuffle=True, random_state=SEED), tol=1e-6,\n",
    "                        sampler=sampler, refit=False, random_state=SEED, n_jobs=-1)"
   ]
  },
  {
   "cell_type": "code",
   "execution_count": 23,
   "metadata": {},
   "outputs": [
    {
     "name": "stdout",
     "output_type": "stream",
     "text": [
      "XGBoost Classifier\n",
      "Score: 0.5\n",
      "Score: 0.96426\n",
      "Score: 0.97024\n",
      "Score: 0.93461\n",
      "XGBoost Classifier\n"
     ]
    },
    {
     "name": "stderr",
     "output_type": "stream",
     "text": [
      "[W 2019-08-13 23:45:45,044] Setting status of trial#10 as TrialState.FAIL because of the following error: ValueError('CategoricalDistribution does not support dynamic value space.')\n",
      "Traceback (most recent call last):\n",
      "  File \"C:\\Users\\user\\Anaconda3\\lib\\site-packages\\optuna\\study.py\", line 469, in _run_trial\n",
      "    result = func(trial)\n",
      "  File \"c:\\python_workspace\\HyPSTER\\hypster.py\", line 94, in __call__\n",
      "    estimator.choose_and_set_params(trial, self.y_stats)\n",
      "  File \"c:\\python_workspace\\HyPSTER\\hypster_xgboost.py\", line 129, in choose_and_set_params\n",
      "    , 'booster': trial.suggest_categorical('booster', self.booster_list)\n",
      "  File \"C:\\Users\\user\\Anaconda3\\lib\\site-packages\\optuna\\trial.py\", line 337, in suggest_categorical\n",
      "    return self._suggest(name, distributions.CategoricalDistribution(choices=choices))\n",
      "  File \"C:\\Users\\user\\Anaconda3\\lib\\site-packages\\optuna\\trial.py\", line 457, in _suggest\n",
      "    return self._set_new_param_or_get_existing(name, param_value, distribution)\n",
      "  File \"C:\\Users\\user\\Anaconda3\\lib\\site-packages\\optuna\\trial.py\", line 464, in _set_new_param_or_get_existing\n",
      "    param_value_in_internal_repr, distribution)\n",
      "  File \"C:\\Users\\user\\Anaconda3\\lib\\site-packages\\optuna\\storages\\in_memory.py\", line 180, in set_trial_param\n",
      "    distribution)\n",
      "  File \"C:\\Users\\user\\Anaconda3\\lib\\site-packages\\optuna\\distributions.py\", line 315, in check_distribution_compatibility\n",
      "    ' does not support dynamic value space.')\n",
      "ValueError: CategoricalDistribution does not support dynamic value space.\n",
      "[W 2019-08-13 23:45:45,064] Setting status of trial#17 as TrialState.FAIL because of the following error: ValueError('CategoricalDistribution does not support dynamic value space.')\n",
      "Traceback (most recent call last):\n",
      "  File \"C:\\Users\\user\\Anaconda3\\lib\\site-packages\\optuna\\study.py\", line 469, in _run_trial\n",
      "    result = func(trial)\n",
      "  File \"c:\\python_workspace\\HyPSTER\\hypster.py\", line 94, in __call__\n",
      "    estimator.choose_and_set_params(trial, self.y_stats)\n",
      "  File \"c:\\python_workspace\\HyPSTER\\hypster_xgboost.py\", line 129, in choose_and_set_params\n",
      "    , 'booster': trial.suggest_categorical('booster', self.booster_list)\n",
      "  File \"C:\\Users\\user\\Anaconda3\\lib\\site-packages\\optuna\\trial.py\", line 337, in suggest_categorical\n",
      "    return self._suggest(name, distributions.CategoricalDistribution(choices=choices))\n",
      "  File \"C:\\Users\\user\\Anaconda3\\lib\\site-packages\\optuna\\trial.py\", line 457, in _suggest\n",
      "    return self._set_new_param_or_get_existing(name, param_value, distribution)\n",
      "  File \"C:\\Users\\user\\Anaconda3\\lib\\site-packages\\optuna\\trial.py\", line 464, in _set_new_param_or_get_existing\n",
      "    param_value_in_internal_repr, distribution)\n",
      "  File \"C:\\Users\\user\\Anaconda3\\lib\\site-packages\\optuna\\storages\\in_memory.py\", line 180, in set_trial_param\n",
      "    distribution)\n",
      "  File \"C:\\Users\\user\\Anaconda3\\lib\\site-packages\\optuna\\distributions.py\", line 315, in check_distribution_compatibility\n",
      "    ' does not support dynamic value space.')\n",
      "ValueError: CategoricalDistribution does not support dynamic value space.\n",
      "[W 2019-08-13 23:45:45,066] Setting status of trial#14 as TrialState.FAIL because of the following error: ValueError('CategoricalDistribution does not support dynamic value space.')\n",
      "Traceback (most recent call last):\n",
      "  File \"C:\\Users\\user\\Anaconda3\\lib\\site-packages\\optuna\\study.py\", line 469, in _run_trial\n",
      "    result = func(trial)\n",
      "  File \"c:\\python_workspace\\HyPSTER\\hypster.py\", line 94, in __call__\n",
      "    estimator.choose_and_set_params(trial, self.y_stats)\n",
      "  File \"c:\\python_workspace\\HyPSTER\\hypster_xgboost.py\", line 129, in choose_and_set_params\n",
      "    , 'booster': trial.suggest_categorical('booster', self.booster_list)\n",
      "  File \"C:\\Users\\user\\Anaconda3\\lib\\site-packages\\optuna\\trial.py\", line 337, in suggest_categorical\n",
      "    return self._suggest(name, distributions.CategoricalDistribution(choices=choices))\n",
      "  File \"C:\\Users\\user\\Anaconda3\\lib\\site-packages\\optuna\\trial.py\", line 457, in _suggest\n",
      "    return self._set_new_param_or_get_existing(name, param_value, distribution)\n",
      "  File \"C:\\Users\\user\\Anaconda3\\lib\\site-packages\\optuna\\trial.py\", line 464, in _set_new_param_or_get_existing\n",
      "    param_value_in_internal_repr, distribution)\n",
      "  File \"C:\\Users\\user\\Anaconda3\\lib\\site-packages\\optuna\\storages\\in_memory.py\", line 180, in set_trial_param\n",
      "    distribution)\n",
      "  File \"C:\\Users\\user\\Anaconda3\\lib\\site-packages\\optuna\\distributions.py\", line 315, in check_distribution_compatibility\n",
      "    ' does not support dynamic value space.')\n",
      "ValueError: CategoricalDistribution does not support dynamic value space.\n",
      "[W 2019-08-13 23:45:45,071] Setting status of trial#11 as TrialState.FAIL because of the following error: ValueError('CategoricalDistribution does not support dynamic value space.')\n",
      "Traceback (most recent call last):\n",
      "  File \"C:\\Users\\user\\Anaconda3\\lib\\site-packages\\optuna\\study.py\", line 469, in _run_trial\n",
      "    result = func(trial)\n",
      "  File \"c:\\python_workspace\\HyPSTER\\hypster.py\", line 94, in __call__\n",
      "    estimator.choose_and_set_params(trial, self.y_stats)\n",
      "  File \"c:\\python_workspace\\HyPSTER\\hypster_xgboost.py\", line 129, in choose_and_set_params\n",
      "    , 'booster': trial.suggest_categorical('booster', self.booster_list)\n",
      "  File \"C:\\Users\\user\\Anaconda3\\lib\\site-packages\\optuna\\trial.py\", line 337, in suggest_categorical\n",
      "    return self._suggest(name, distributions.CategoricalDistribution(choices=choices))\n",
      "  File \"C:\\Users\\user\\Anaconda3\\lib\\site-packages\\optuna\\trial.py\", line 457, in _suggest\n",
      "    return self._set_new_param_or_get_existing(name, param_value, distribution)\n",
      "  File \"C:\\Users\\user\\Anaconda3\\lib\\site-packages\\optuna\\trial.py\", line 464, in _set_new_param_or_get_existing\n",
      "    param_value_in_internal_repr, distribution)\n",
      "  File \"C:\\Users\\user\\Anaconda3\\lib\\site-packages\\optuna\\storages\\in_memory.py\", line 180, in set_trial_param\n",
      "    distribution)\n",
      "  File \"C:\\Users\\user\\Anaconda3\\lib\\site-packages\\optuna\\distributions.py\", line 315, in check_distribution_compatibility\n",
      "    ' does not support dynamic value space.')\n",
      "ValueError: CategoricalDistribution does not support dynamic value space.\n",
      "[W 2019-08-13 23:45:45,071] Setting status of trial#12 as TrialState.FAIL because of the following error: ValueError('CategoricalDistribution does not support dynamic value space.')\n",
      "Traceback (most recent call last):\n",
      "  File \"C:\\Users\\user\\Anaconda3\\lib\\site-packages\\optuna\\study.py\", line 469, in _run_trial\n",
      "    result = func(trial)\n",
      "  File \"c:\\python_workspace\\HyPSTER\\hypster.py\", line 94, in __call__\n",
      "    estimator.choose_and_set_params(trial, self.y_stats)\n",
      "  File \"c:\\python_workspace\\HyPSTER\\hypster_xgboost.py\", line 129, in choose_and_set_params\n",
      "    , 'booster': trial.suggest_categorical('booster', self.booster_list)\n",
      "  File \"C:\\Users\\user\\Anaconda3\\lib\\site-packages\\optuna\\trial.py\", line 337, in suggest_categorical\n",
      "    return self._suggest(name, distributions.CategoricalDistribution(choices=choices))\n",
      "  File \"C:\\Users\\user\\Anaconda3\\lib\\site-packages\\optuna\\trial.py\", line 457, in _suggest\n",
      "    return self._set_new_param_or_get_existing(name, param_value, distribution)\n",
      "  File \"C:\\Users\\user\\Anaconda3\\lib\\site-packages\\optuna\\trial.py\", line 464, in _set_new_param_or_get_existing\n",
      "    param_value_in_internal_repr, distribution)\n",
      "  File \"C:\\Users\\user\\Anaconda3\\lib\\site-packages\\optuna\\storages\\in_memory.py\", line 180, in set_trial_param\n",
      "    distribution)\n",
      "  File \"C:\\Users\\user\\Anaconda3\\lib\\site-packages\\optuna\\distributions.py\", line 315, in check_distribution_compatibility\n",
      "    ' does not support dynamic value space.')\n",
      "ValueError: CategoricalDistribution does not support dynamic value space.\n",
      "[W 2019-08-13 23:45:45,071] Setting status of trial#13 as TrialState.FAIL because of the following error: ValueError('CategoricalDistribution does not support dynamic value space.')\n",
      "Traceback (most recent call last):\n",
      "  File \"C:\\Users\\user\\Anaconda3\\lib\\site-packages\\optuna\\study.py\", line 469, in _run_trial\n",
      "    result = func(trial)\n",
      "  File \"c:\\python_workspace\\HyPSTER\\hypster.py\", line 94, in __call__\n",
      "    estimator.choose_and_set_params(trial, self.y_stats)\n",
      "  File \"c:\\python_workspace\\HyPSTER\\hypster_xgboost.py\", line 129, in choose_and_set_params\n",
      "    , 'booster': trial.suggest_categorical('booster', self.booster_list)\n",
      "  File \"C:\\Users\\user\\Anaconda3\\lib\\site-packages\\optuna\\trial.py\", line 337, in suggest_categorical\n",
      "    return self._suggest(name, distributions.CategoricalDistribution(choices=choices))\n",
      "  File \"C:\\Users\\user\\Anaconda3\\lib\\site-packages\\optuna\\trial.py\", line 457, in _suggest\n",
      "    return self._set_new_param_or_get_existing(name, param_value, distribution)\n",
      "  File \"C:\\Users\\user\\Anaconda3\\lib\\site-packages\\optuna\\trial.py\", line 464, in _set_new_param_or_get_existing\n",
      "    param_value_in_internal_repr, distribution)\n",
      "  File \"C:\\Users\\user\\Anaconda3\\lib\\site-packages\\optuna\\storages\\in_memory.py\", line 180, in set_trial_param\n",
      "    distribution)\n",
      "  File \"C:\\Users\\user\\Anaconda3\\lib\\site-packages\\optuna\\distributions.py\", line 315, in check_distribution_compatibility\n",
      "    ' does not support dynamic value space.')\n",
      "ValueError: CategoricalDistribution does not support dynamic value space.\n",
      "[W 2019-08-13 23:45:45,078] Setting status of trial#16 as TrialState.FAIL because of the following error: ValueError('CategoricalDistribution does not support dynamic value space.')\n",
      "Traceback (most recent call last):\n",
      "  File \"C:\\Users\\user\\Anaconda3\\lib\\site-packages\\optuna\\study.py\", line 469, in _run_trial\n",
      "    result = func(trial)\n",
      "  File \"c:\\python_workspace\\HyPSTER\\hypster.py\", line 94, in __call__\n",
      "    estimator.choose_and_set_params(trial, self.y_stats)\n",
      "  File \"c:\\python_workspace\\HyPSTER\\hypster_xgboost.py\", line 129, in choose_and_set_params\n",
      "    , 'booster': trial.suggest_categorical('booster', self.booster_list)\n",
      "  File \"C:\\Users\\user\\Anaconda3\\lib\\site-packages\\optuna\\trial.py\", line 337, in suggest_categorical\n",
      "    return self._suggest(name, distributions.CategoricalDistribution(choices=choices))\n",
      "  File \"C:\\Users\\user\\Anaconda3\\lib\\site-packages\\optuna\\trial.py\", line 457, in _suggest\n",
      "    return self._set_new_param_or_get_existing(name, param_value, distribution)\n",
      "  File \"C:\\Users\\user\\Anaconda3\\lib\\site-packages\\optuna\\trial.py\", line 464, in _set_new_param_or_get_existing\n",
      "    param_value_in_internal_repr, distribution)\n",
      "  File \"C:\\Users\\user\\Anaconda3\\lib\\site-packages\\optuna\\storages\\in_memory.py\", line 180, in set_trial_param\n",
      "    distribution)\n",
      "  File \"C:\\Users\\user\\Anaconda3\\lib\\site-packages\\optuna\\distributions.py\", line 315, in check_distribution_compatibility\n",
      "    ' does not support dynamic value space.')\n",
      "ValueError: CategoricalDistribution does not support dynamic value space.\n",
      "[W 2019-08-13 23:45:45,081] Setting status of trial#15 as TrialState.FAIL because of the following error: ValueError('CategoricalDistribution does not support dynamic value space.')\n",
      "Traceback (most recent call last):\n",
      "  File \"C:\\Users\\user\\Anaconda3\\lib\\site-packages\\optuna\\study.py\", line 469, in _run_trial\n",
      "    result = func(trial)\n",
      "  File \"c:\\python_workspace\\HyPSTER\\hypster.py\", line 94, in __call__\n",
      "    estimator.choose_and_set_params(trial, self.y_stats)\n",
      "  File \"c:\\python_workspace\\HyPSTER\\hypster_xgboost.py\", line 129, in choose_and_set_params\n",
      "    , 'booster': trial.suggest_categorical('booster', self.booster_list)\n",
      "  File \"C:\\Users\\user\\Anaconda3\\lib\\site-packages\\optuna\\trial.py\", line 337, in suggest_categorical\n",
      "    return self._suggest(name, distributions.CategoricalDistribution(choices=choices))\n",
      "  File \"C:\\Users\\user\\Anaconda3\\lib\\site-packages\\optuna\\trial.py\", line 457, in _suggest\n",
      "    return self._set_new_param_or_get_existing(name, param_value, distribution)\n",
      "  File \"C:\\Users\\user\\Anaconda3\\lib\\site-packages\\optuna\\trial.py\", line 464, in _set_new_param_or_get_existing\n",
      "    param_value_in_internal_repr, distribution)\n",
      "  File \"C:\\Users\\user\\Anaconda3\\lib\\site-packages\\optuna\\storages\\in_memory.py\", line 180, in set_trial_param\n",
      "    distribution)\n",
      "  File \"C:\\Users\\user\\Anaconda3\\lib\\site-packages\\optuna\\distributions.py\", line 315, in check_distribution_compatibility\n",
      "    ' does not support dynamic value space.')\n",
      "ValueError: CategoricalDistribution does not support dynamic value space.\n",
      "[W 2019-08-13 23:45:46,039] Setting status of trial#18 as TrialState.FAIL because of the following error: ValueError('CategoricalDistribution does not support dynamic value space.')\n",
      "Traceback (most recent call last):\n",
      "  File \"C:\\Users\\user\\Anaconda3\\lib\\site-packages\\optuna\\study.py\", line 469, in _run_trial\n",
      "    result = func(trial)\n",
      "  File \"c:\\python_workspace\\HyPSTER\\hypster.py\", line 94, in __call__\n",
      "    estimator.choose_and_set_params(trial, self.y_stats)\n",
      "  File \"c:\\python_workspace\\HyPSTER\\hypster_xgboost.py\", line 129, in choose_and_set_params\n",
      "    , 'booster': trial.suggest_categorical('booster', self.booster_list)\n",
      "  File \"C:\\Users\\user\\Anaconda3\\lib\\site-packages\\optuna\\trial.py\", line 337, in suggest_categorical\n",
      "    return self._suggest(name, distributions.CategoricalDistribution(choices=choices))\n",
      "  File \"C:\\Users\\user\\Anaconda3\\lib\\site-packages\\optuna\\trial.py\", line 457, in _suggest\n",
      "    return self._set_new_param_or_get_existing(name, param_value, distribution)\n",
      "  File \"C:\\Users\\user\\Anaconda3\\lib\\site-packages\\optuna\\trial.py\", line 464, in _set_new_param_or_get_existing\n",
      "    param_value_in_internal_repr, distribution)\n",
      "  File \"C:\\Users\\user\\Anaconda3\\lib\\site-packages\\optuna\\storages\\in_memory.py\", line 180, in set_trial_param\n",
      "    distribution)\n",
      "  File \"C:\\Users\\user\\Anaconda3\\lib\\site-packages\\optuna\\distributions.py\", line 315, in check_distribution_compatibility\n",
      "    ' does not support dynamic value space.')\n",
      "ValueError: CategoricalDistribution does not support dynamic value space.\n",
      "[W 2019-08-13 23:45:46,042] Setting status of trial#19 as TrialState.FAIL because of the following error: ValueError('CategoricalDistribution does not support dynamic value space.')\n",
      "Traceback (most recent call last):\n",
      "  File \"C:\\Users\\user\\Anaconda3\\lib\\site-packages\\optuna\\study.py\", line 469, in _run_trial\n",
      "    result = func(trial)\n",
      "  File \"c:\\python_workspace\\HyPSTER\\hypster.py\", line 94, in __call__\n",
      "    estimator.choose_and_set_params(trial, self.y_stats)\n",
      "  File \"c:\\python_workspace\\HyPSTER\\hypster_xgboost.py\", line 129, in choose_and_set_params\n",
      "    , 'booster': trial.suggest_categorical('booster', self.booster_list)\n",
      "  File \"C:\\Users\\user\\Anaconda3\\lib\\site-packages\\optuna\\trial.py\", line 337, in suggest_categorical\n",
      "    return self._suggest(name, distributions.CategoricalDistribution(choices=choices))\n",
      "  File \"C:\\Users\\user\\Anaconda3\\lib\\site-packages\\optuna\\trial.py\", line 457, in _suggest\n",
      "    return self._set_new_param_or_get_existing(name, param_value, distribution)\n",
      "  File \"C:\\Users\\user\\Anaconda3\\lib\\site-packages\\optuna\\trial.py\", line 464, in _set_new_param_or_get_existing\n",
      "    param_value_in_internal_repr, distribution)\n",
      "  File \"C:\\Users\\user\\Anaconda3\\lib\\site-packages\\optuna\\storages\\in_memory.py\", line 180, in set_trial_param\n",
      "    distribution)\n",
      "  File \"C:\\Users\\user\\Anaconda3\\lib\\site-packages\\optuna\\distributions.py\", line 315, in check_distribution_compatibility\n",
      "    ' does not support dynamic value space.')\n",
      "ValueError: CategoricalDistribution does not support dynamic value space.\n"
     ]
    },
    {
     "name": "stdout",
     "output_type": "stream",
     "text": [
      "Wall time: 1min 16s\n"
     ]
    }
   ],
   "source": [
    "%%time\n",
    "clf.fit(X_train, y_train, cat_columns=cat_columns, n_trials=10)"
   ]
  },
  {
   "cell_type": "code",
   "execution_count": 24,
   "metadata": {},
   "outputs": [
    {
     "data": {
      "text/plain": [
       "0.970235672943749"
      ]
     },
     "execution_count": 24,
     "metadata": {},
     "output_type": "execute_result"
    }
   ],
   "source": [
    "clf.best_score_"
   ]
  },
  {
   "cell_type": "code",
   "execution_count": 25,
   "metadata": {},
   "outputs": [
    {
     "ename": "TypeError",
     "evalue": "'Study' object does not support indexing",
     "output_type": "error",
     "traceback": [
      "\u001b[1;31m---------------------------------------------------------------------------\u001b[0m",
      "\u001b[1;31mTypeError\u001b[0m                                 Traceback (most recent call last)",
      "\u001b[1;32m<ipython-input-25-f2faadffd780>\u001b[0m in \u001b[0;36m<module>\u001b[1;34m\u001b[0m\n\u001b[1;32m----> 1\u001b[1;33m \u001b[0mplot_intermediate_values\u001b[0m\u001b[1;33m(\u001b[0m\u001b[0mclf\u001b[0m\u001b[1;33m.\u001b[0m\u001b[0mstudies\u001b[0m\u001b[1;33m[\u001b[0m\u001b[1;36m0\u001b[0m\u001b[1;33m]\u001b[0m\u001b[1;33m)\u001b[0m\u001b[1;33m\u001b[0m\u001b[1;33m\u001b[0m\u001b[0m\n\u001b[0m",
      "\u001b[1;31mTypeError\u001b[0m: 'Study' object does not support indexing"
     ]
    }
   ],
   "source": [
    "plot_intermediate_values(clf.studies[0])"
   ]
  },
  {
   "cell_type": "code",
   "execution_count": 53,
   "metadata": {},
   "outputs": [
    {
     "data": {
      "text/plain": [
       "{'scale_pos_weight': 1.0,\n",
       " 'eta': 0.0033410845979006116,\n",
       " 'booster': 'gblinear',\n",
       " 'lambda': 6.064169920070678e-10,\n",
       " 'alpha': 8.250672498273979e-09,\n",
       " 'shotgun_feature_selector': 'cyclic'}"
      ]
     },
     "execution_count": 53,
     "metadata": {},
     "output_type": "execute_result"
    }
   ],
   "source": [
    "clf.best_params_"
   ]
  },
  {
   "cell_type": "code",
   "execution_count": 54,
   "metadata": {},
   "outputs": [],
   "source": [
    "clf.refit(X_train, y_train)"
   ]
  },
  {
   "cell_type": "code",
   "execution_count": 55,
   "metadata": {},
   "outputs": [],
   "source": [
    "test_preds = clf.predict(X_test)"
   ]
  },
  {
   "cell_type": "code",
   "execution_count": 56,
   "metadata": {},
   "outputs": [
    {
     "data": {
      "text/plain": [
       "0.8509255612445845"
      ]
     },
     "execution_count": 56,
     "metadata": {},
     "output_type": "execute_result"
    }
   ],
   "source": [
    "sklearn.metrics.accuracy_score(y_test, test_preds)"
   ]
  },
  {
   "cell_type": "code",
   "execution_count": 57,
   "metadata": {},
   "outputs": [],
   "source": [
    "test_probs = clf.predict_proba(X_test)\n",
    "test_probs = test_probs[:,1]"
   ]
  },
  {
   "cell_type": "code",
   "execution_count": 58,
   "metadata": {},
   "outputs": [
    {
     "data": {
      "text/plain": [
       "0.9669876948378524"
      ]
     },
     "execution_count": 58,
     "metadata": {},
     "output_type": "execute_result"
    }
   ],
   "source": [
    "sklearn.metrics.roc_auc_score(y_test, test_probs)"
   ]
  },
  {
   "cell_type": "code",
   "execution_count": 59,
   "metadata": {},
   "outputs": [],
   "source": [
    "best_cv_preds = clf.studies[0].best_trial.user_attrs['cv_preds']"
   ]
  },
  {
   "cell_type": "code",
   "execution_count": 60,
   "metadata": {},
   "outputs": [
    {
     "data": {
      "text/plain": [
       "(10309, 2)"
      ]
     },
     "execution_count": 60,
     "metadata": {},
     "output_type": "execute_result"
    }
   ],
   "source": [
    "best_cv_preds.shape"
   ]
  },
  {
   "cell_type": "code",
   "execution_count": 61,
   "metadata": {},
   "outputs": [
    {
     "data": {
      "text/plain": [
       "array([[0.80194557, 0.19805446],\n",
       "       [0.79817057, 0.2018294 ],\n",
       "       [0.76966256, 0.23033746],\n",
       "       ...,\n",
       "       [0.86921096, 0.13078901],\n",
       "       [0.76548421, 0.23451582],\n",
       "       [0.92192471, 0.0780753 ]])"
      ]
     },
     "execution_count": 61,
     "metadata": {},
     "output_type": "execute_result"
    }
   ],
   "source": [
    "best_cv_preds"
   ]
  },
  {
   "cell_type": "markdown",
   "metadata": {},
   "source": [
    "# Regressor"
   ]
  },
  {
   "cell_type": "code",
   "execution_count": 18,
   "metadata": {},
   "outputs": [],
   "source": [
    "#TODO: automatic seed\n",
    "xgb_linear = XGBRegressorHypster(booster_list=['gblinear']\n",
    "                               ,param_dict={'nthread' : 1\n",
    "                                            #TODO check what happens when you run over parameters in optuna\n",
    "                               #,'subsample' : 0.9\n",
    "                               }\n",
    "                               )\n",
    "xgb_tree = XGBRegressorHypster(booster_list=['gbtree', 'dart'], \n",
    "                               param_dict={'max_depth' : optuna.distributions.IntUniformDistribution(2, 20)\n",
    "                                               ,'nthread' : 1\n",
    "                                               #,'subsample' : 0.9 \n",
    "                                               })\n",
    "#lgb_estimator = LGBClassifierOptuna()\n",
    "#sgd_estimator = SGDClassifierOptuna()\n",
    "#rf_estimator  = RFClassifierOptuna()"
   ]
  },
  {
   "cell_type": "code",
   "execution_count": 19,
   "metadata": {},
   "outputs": [],
   "source": [
    "estimators = [xgb_linear, xgb_tree]#, sgd|_estimator]"
   ]
  },
  {
   "cell_type": "code",
   "execution_count": 20,
   "metadata": {},
   "outputs": [],
   "source": [
    "reg = HyPSTERRegressor(estimators, pipeline, pipe_params,\n",
    "                        scoring=\"neg_mean_squared_error\", cv=KFold(n_splits=3, random_state=SEED), sampler=sampler, \n",
    "                        refit=False, random_state=SEED, n_jobs=-1)"
   ]
  },
  {
   "cell_type": "code",
   "execution_count": 21,
   "metadata": {},
   "outputs": [
    {
     "name": "stdout",
     "output_type": "stream",
     "text": [
      "XGBoost Regressor\n",
      "Score: 568.705\n",
      "Score: 84.99023\n",
      "Score: 216.46002\n",
      "XGBoost Regressor\n",
      "Score: 296.68948\n",
      "Score: 462.12625\n"
     ]
    },
    {
     "name": "stderr",
     "output_type": "stream",
     "text": [
      "[W 2019-08-06 15:00:43,151] Setting status of trial#4 as TrialState.FAIL because of the following error: ValueError(\"Input contains NaN, infinity or a value too large for dtype('float32').\")\n",
      "Traceback (most recent call last):\n",
      "  File \"/Users/giladrubin/anaconda3/lib/python3.7/site-packages/optuna/study.py\", line 469, in _run_trial\n",
      "    result = func(trial)\n",
      "  File \"/Users/giladrubin/python_workspace/HyPSTER/hypster.py\", line 136, in __call__\n",
      "    fold_score = estimator.score_test(self.scoring, self.scorer_type)\n",
      "  File \"/Users/giladrubin/python_workspace/HyPSTER/hypster_xgboost.py\", line 256, in score_test\n",
      "    return scorer(self.dtest.get_label(), preds)\n",
      "  File \"/Users/giladrubin/anaconda3/lib/python3.7/site-packages/sklearn/metrics/regression.py\", line 239, in mean_squared_error\n",
      "    y_true, y_pred, multioutput)\n",
      "  File \"/Users/giladrubin/anaconda3/lib/python3.7/site-packages/sklearn/metrics/regression.py\", line 77, in _check_reg_targets\n",
      "    y_pred = check_array(y_pred, ensure_2d=False)\n",
      "  File \"/Users/giladrubin/anaconda3/lib/python3.7/site-packages/sklearn/utils/validation.py\", line 573, in check_array\n",
      "    allow_nan=force_all_finite == 'allow-nan')\n",
      "  File \"/Users/giladrubin/anaconda3/lib/python3.7/site-packages/sklearn/utils/validation.py\", line 56, in _assert_all_finite\n",
      "    raise ValueError(msg_err.format(type_err, X.dtype))\n",
      "ValueError: Input contains NaN, infinity or a value too large for dtype('float32').\n"
     ]
    },
    {
     "name": "stdout",
     "output_type": "stream",
     "text": [
      "Score: 432.04593\n",
      "Score: 117.13271\n",
      "Score: 453.34067\n",
      "Score: 495.48026\n",
      "Score: 386.08017\n",
      "Score: 424.19736\n",
      "Score: 185.61485\n",
      "Score: 186.16032\n",
      "Score: 178.03967\n",
      "Score: 204.28264\n",
      "Score: 118.57308\n",
      "Score: 33.77169\n",
      "Score: 54.69024\n",
      "Score: 379.35376\n",
      "Score: 373.43057\n",
      "Score: 403.01633\n",
      "Score: 200.26775\n",
      "Score: 51.98082\n",
      "Score: 57.20684\n",
      "Score: 443.6737\n",
      "CPU times: user 50.3 s, sys: 4.58 s, total: 54.9 s\n",
      "Wall time: 51.3 s\n"
     ]
    }
   ],
   "source": [
    "%%time\n",
    "reg.fit(X_train, y_train, cat_columns=cat_columns, n_trials_per_estimator=[10, 60])"
   ]
  },
  {
   "cell_type": "code",
   "execution_count": 22,
   "metadata": {},
   "outputs": [
    {
     "data": {
      "text/plain": [
       "33.77168655395508"
      ]
     },
     "execution_count": 22,
     "metadata": {},
     "output_type": "execute_result"
    }
   ],
   "source": [
    "reg.best_score_"
   ]
  },
  {
   "cell_type": "code",
   "execution_count": 23,
   "metadata": {},
   "outputs": [
    {
     "data": {
      "text/plain": [
       "{'max_depth': 9,\n",
       " 'init_eta': 0.890493938280948,\n",
       " 'booster': 'gbtree',\n",
       " 'lambda': 7.011497445818966e-08,\n",
       " 'alpha': 1.0124912472584068e-08,\n",
       " 'min_child_weight': 1,\n",
       " 'gamma': 2.938959433727388e-09,\n",
       " 'grow_policy': 'depthwise',\n",
       " 'subsample': 0.50715024824889,\n",
       " 'colsample_bytree': 0.3654668161167628,\n",
       " 'colsample_bynode': 0.10903004655336655,\n",
       " 'forest_boosting': True,\n",
       " 'num_parallel_tree': 11}"
      ]
     },
     "execution_count": 23,
     "metadata": {},
     "output_type": "execute_result"
    }
   ],
   "source": [
    "reg.best_params_"
   ]
  },
  {
   "cell_type": "code",
   "execution_count": 24,
   "metadata": {},
   "outputs": [],
   "source": [
    "reg.refit(X_train, y_train)"
   ]
  },
  {
   "cell_type": "code",
   "execution_count": 25,
   "metadata": {},
   "outputs": [],
   "source": [
    "test_preds = reg.predict(X_test)"
   ]
  },
  {
   "cell_type": "code",
   "execution_count": 26,
   "metadata": {},
   "outputs": [
    {
     "data": {
      "text/plain": [
       "3.813087014523809"
      ]
     },
     "execution_count": 26,
     "metadata": {},
     "output_type": "execute_result"
    }
   ],
   "source": [
    "sklearn.metrics.mean_absolute_error(y_test, test_preds)"
   ]
  },
  {
   "cell_type": "code",
   "execution_count": 27,
   "metadata": {},
   "outputs": [
    {
     "data": {
      "text/plain": [
       "5.8280181821734685"
      ]
     },
     "execution_count": 27,
     "metadata": {},
     "output_type": "execute_result"
    }
   ],
   "source": [
    "np.sqrt(sklearn.metrics.mean_squared_error(y_test, test_preds))"
   ]
  },
  {
   "cell_type": "markdown",
   "metadata": {},
   "source": [
    "# Misc"
   ]
  },
  {
   "cell_type": "raw",
   "metadata": {},
   "source": [
    "import catboost\n",
    "import catboost.datasets"
   ]
  },
  {
   "cell_type": "raw",
   "metadata": {},
   "source": [
    "train_df, test_df = catboost.datasets.adult()"
   ]
  },
  {
   "cell_type": "raw",
   "metadata": {},
   "source": [
    "train_df.head()"
   ]
  },
  {
   "cell_type": "raw",
   "metadata": {},
   "source": [
    "X_train = train_df.drop(\"income\", axis=1).copy()"
   ]
  },
  {
   "cell_type": "raw",
   "metadata": {},
   "source": [
    "X_test = test_df.drop(\"income\", axis=1).copy()"
   ]
  },
  {
   "cell_type": "raw",
   "metadata": {},
   "source": [
    "y_train = train_df[\"income\"].copy()"
   ]
  },
  {
   "cell_type": "raw",
   "metadata": {},
   "source": [
    "y_test = test_df[\"income\"].copy()"
   ]
  },
  {
   "cell_type": "raw",
   "metadata": {},
   "source": [
    "X_train.to_pickle(\"./data/boston_X_train.pkl\")\n",
    "y_train.to_pickle(\"./data/boston_y_train.pkl\")\n",
    "X_test.to_pickle(\"./data/boston_X_test.pkl\")\n",
    "y_test.to_pickle(\"./data/boston_y_test.pkl\")"
   ]
  },
  {
   "cell_type": "raw",
   "metadata": {},
   "source": [
    "from sklearn.compose import ColumnTransformer\n",
    "from sklearn.pipeline import Pipeline\n",
    "from sklearn.preprocessing import OneHotEncoder\n",
    "from sklearn.impute import SimpleImputer"
   ]
  },
  {
   "cell_type": "raw",
   "metadata": {},
   "source": [
    "impute_ohe_pipe = Pipeline([('impute', SimpleImputer(strategy=\"constant\", fill_value=\"unknown\")),\n",
    "                             ('ohe', OneHotEncoder(categories=\"auto\", handle_unknown='ignore'))])"
   ]
  },
  {
   "cell_type": "raw",
   "metadata": {},
   "source": [
    "len(impute_ohe_pipe.steps)"
   ]
  },
  {
   "cell_type": "raw",
   "metadata": {},
   "source": [
    "impute_ohe_ct = ColumnTransformer([('impute_ohe', impute_ohe_pipe, cat_columns)], remainder=\"passthrough\")"
   ]
  },
  {
   "cell_type": "raw",
   "metadata": {},
   "source": [
    "pipeline = Pipeline([('impute_ohe', impute_ohe_ct)])"
   ]
  },
  {
   "cell_type": "raw",
   "metadata": {},
   "source": [
    "from sklearn import datasets"
   ]
  },
  {
   "cell_type": "raw",
   "metadata": {},
   "source": [
    "X, y = datasets.load_boston(return_X_y=True)"
   ]
  },
  {
   "cell_type": "raw",
   "metadata": {},
   "source": [
    "features = datasets.load_boston()['feature_names']"
   ]
  },
  {
   "cell_type": "raw",
   "metadata": {},
   "source": [
    "X = pd.DataFrame(X, columns = features)"
   ]
  },
  {
   "cell_type": "raw",
   "metadata": {},
   "source": [
    "y = pd.Series(y)"
   ]
  },
  {
   "cell_type": "raw",
   "metadata": {},
   "source": [
    "X_train, X_test, y_train, y_test = train_test_split(X, y, test_size=0.33, random_state=SEED)"
   ]
  },
  {
   "cell_type": "raw",
   "metadata": {},
   "source": [
    "if len(classes) == 2: #binary classification\n",
    "    if (pos_label is None and\n",
    "            not (np.array_equal(classes, [0, 1]) or\n",
    "                 np.array_equal(classes, [-1, 1]))):\n",
    "        raise ValueError(\"Data is not binary and pos_label is not specified\")\n",
    "    elif pos_label is None:\n",
    "        pos_label = 1\n",
    "    y = (y == pos_label)"
   ]
  }
 ],
 "metadata": {
  "kernelspec": {
   "display_name": "Python 3",
   "language": "python",
   "name": "python3"
  },
  "language_info": {
   "codemirror_mode": {
    "name": "ipython",
    "version": 3
   },
   "file_extension": ".py",
   "mimetype": "text/x-python",
   "name": "python",
   "nbconvert_exporter": "python",
   "pygments_lexer": "ipython3",
   "version": "3.7.1"
  },
  "pycharm": {
   "stem_cell": {
    "cell_type": "raw",
    "metadata": {
     "collapsed": false
    },
    "source": []
   }
  }
 },
 "nbformat": 4,
 "nbformat_minor": 4
}
