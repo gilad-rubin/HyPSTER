{
 "cells": [
  {
   "cell_type": "code",
   "execution_count": 1,
   "metadata": {},
   "outputs": [],
   "source": [
    "import pandas as pd\n",
    "import numpy as np\n",
    "import scipy\n",
    "import sklearn"
   ]
  },
  {
   "cell_type": "code",
   "execution_count": 2,
   "metadata": {},
   "outputs": [],
   "source": [
    "from sklearn.feature_extraction.text import TfidfVectorizer"
   ]
  },
  {
   "cell_type": "code",
   "execution_count": 3,
   "metadata": {},
   "outputs": [],
   "source": [
    "from sklearn.model_selection import train_test_split, StratifiedKFold\n",
    "from sklearn.pipeline import Pipeline\n",
    "from sklearn.feature_selection import SelectFromModel, SelectPercentile, chi2, VarianceThreshold\n",
    "from sklearn.ensemble import RandomForestClassifier, ExtraTreesClassifier\n",
    "from sklearn import metrics"
   ]
  },
  {
   "cell_type": "code",
   "execution_count": 4,
   "metadata": {},
   "outputs": [],
   "source": [
    "import optuna\n",
    "from optuna.visualization import plot_intermediate_values"
   ]
  },
  {
   "cell_type": "code",
   "execution_count": 5,
   "metadata": {},
   "outputs": [],
   "source": [
    "import numpy as np\n",
    "import xgboost as xgb\n",
    "import lightgbm as lgb"
   ]
  },
  {
   "cell_type": "code",
   "execution_count": 6,
   "metadata": {},
   "outputs": [],
   "source": [
    "SEED = 85"
   ]
  },
  {
   "cell_type": "code",
   "execution_count": 7,
   "metadata": {},
   "outputs": [],
   "source": [
    "from hypster_xgboost import *\n",
    "from optuna_utils import *"
   ]
  },
  {
   "cell_type": "markdown",
   "metadata": {},
   "source": [
    "# Get Dataset"
   ]
  },
  {
   "cell_type": "code",
   "execution_count": 8,
   "metadata": {},
   "outputs": [],
   "source": [
    "from scipy.sparse import csr_matrix, save_npz, load_npz"
   ]
  },
  {
   "cell_type": "code",
   "execution_count": 9,
   "metadata": {},
   "outputs": [],
   "source": [
    "dataset = \"adult!\""
   ]
  },
  {
   "cell_type": "code",
   "execution_count": 10,
   "metadata": {},
   "outputs": [],
   "source": [
    "if dataset==\"adult\":\n",
    "    X_train = pd.read_pickle(\"./data/adult_X_train.pkl\")\n",
    "    y_train = pd.read_pickle(\"./data/adult_y_train.pkl\")\n",
    "    X_test = pd.read_pickle(\"./data/adult_X_test.pkl\")\n",
    "    y_test = pd.read_pickle(\"./data/adult_y_test.pkl\")\n",
    "    cat_columns = X_train.select_dtypes(include=\"object\").columns\n",
    "else:\n",
    "    X_train = load_npz(\"./data/X_train.npz\")\n",
    "    y_train = pd.read_pickle(\"./data/y_train.pkl\")\n",
    "    X_test = load_npz(\"./data/X_test.npz\")\n",
    "    y_test = pd.read_pickle(\"./data/y_test.pkl\")\n",
    "    cat_columns=None"
   ]
  },
  {
   "cell_type": "code",
   "execution_count": 11,
   "metadata": {},
   "outputs": [],
   "source": [
    "#X_train = X_train.sample(n=10000, random_state=SEED, axis=0)"
   ]
  },
  {
   "cell_type": "code",
   "execution_count": 12,
   "metadata": {},
   "outputs": [],
   "source": [
    "#y_train = y_train.iloc[X_train.index].reset_index(drop=True)\n",
    "#X_train.reset_index(inplace=True, drop=True)"
   ]
  },
  {
   "cell_type": "code",
   "execution_count": 13,
   "metadata": {},
   "outputs": [],
   "source": [
    "#pipeline - pipeline_objective OR regular pipeline\n",
    "#consider making pre-made steps with best practices (FS, scaling, etc...) then add option to concat to make one pipeline "
   ]
  },
  {
   "cell_type": "code",
   "execution_count": 14,
   "metadata": {},
   "outputs": [],
   "source": [
    "#pipeline = Pipeline([(\"sel\", SelectPercentile(chi2))])\n",
    "#pipe_params = {\"sel__percentile\" : optuna.distributions.IntUniformDistribution(1,100)}\n",
    "pipeline = None\n",
    "pipe_params = None"
   ]
  },
  {
   "cell_type": "code",
   "execution_count": 15,
   "metadata": {},
   "outputs": [],
   "source": [
    "#TODO: automatic seed\n",
    "xgb_linear = XGBClassifierOptuna(booster_list=['gblinear']\n",
    "                               ,param_dict={'max_depth' : optuna.distributions.IntUniformDistribution(20, 30)\n",
    "                               ,'verbosity' : 2\n",
    "                               #,'subsample' : 0.9\n",
    "                               }\n",
    "                               )\n",
    "#gb_dart = XGBClassifierOptuna(booster_list=['dart'])\n",
    "#xgb_tree = XGBClassifierOptuna(booster_list=['gbtree', 'dart'], user_param_dict={'max_depth' : 2})\n",
    "xgb_tree = XGBClassifierOptuna(booster_list=['gbtree', 'dart'], \n",
    "                               param_dict={'max_depth' : optuna.distributions.IntUniformDistribution(20, 30)\n",
    "                                               ,'verbosity' : 2\n",
    "                                               #,'subsample' : 0.9 \n",
    "                                               })\n",
    "#lgb_estimator = LGBClassifierOptuna()\n",
    "#sgd_estimator = SGDClassifierOptuna()\n",
    "#rf_estimator  = RFClassifierOptuna()"
   ]
  },
  {
   "cell_type": "code",
   "execution_count": 16,
   "metadata": {},
   "outputs": [],
   "source": [
    "estimators = [xgb_linear]#, sgd|_estimator]"
   ]
  },
  {
   "cell_type": "code",
   "execution_count": 17,
   "metadata": {},
   "outputs": [],
   "source": [
    "clf = HyPSTERClassifier(estimators, pipeline, pipe_params,\n",
    "                        scoring=sklearn.metrics.roc_auc_score, greater_is_better=True,\n",
    "                        cv=StratifiedKFold(n_splits=3, random_state=SEED), refit=False, random_state=SEED, n_jobs=-1)"
   ]
  },
  {
   "cell_type": "code",
   "execution_count": 18,
   "metadata": {},
   "outputs": [
    {
     "name": "stdout",
     "output_type": "stream",
     "text": [
      "XGBoost Classifier\n",
      "Score: 0.5\n",
      "Score: 0.49393\n",
      "Score: 0.5\n",
      "Score: 0.5\n",
      "Score: 0.5\n",
      "Score: 0.5\n",
      "Score: 0.96331\n",
      "Score: 0.96751\n",
      "Score: 0.96687\n",
      "Score: 0.9635\n",
      "Score: 0.96923\n",
      "Wall time: 35.9 s\n"
     ]
    }
   ],
   "source": [
    "%%time\n",
    "clf.fit(X_train, y_train, cat_columns=cat_columns, n_trials_per_estimator=30)"
   ]
  },
  {
   "cell_type": "code",
   "execution_count": 19,
   "metadata": {},
   "outputs": [
    {
     "data": {
      "text/plain": [
       "0.969228572225576"
      ]
     },
     "execution_count": 19,
     "metadata": {},
     "output_type": "execute_result"
    }
   ],
   "source": [
    "clf.best_score_"
   ]
  },
  {
   "cell_type": "code",
   "execution_count": 20,
   "metadata": {},
   "outputs": [
    {
     "data": {
      "text/plain": [
       "{'max_depth': 27,\n",
       " 'init_eta': 0.05145325944171825,\n",
       " 'booster': 'gblinear',\n",
       " 'lambda': 5.545234877448395e-06,\n",
       " 'alpha': 2.8182308806808016e-07,\n",
       " 'shotgun_feature_selector': 'cyclic'}"
      ]
     },
     "execution_count": 20,
     "metadata": {},
     "output_type": "execute_result"
    }
   ],
   "source": [
    "clf.best_params_"
   ]
  },
  {
   "cell_type": "code",
   "execution_count": 21,
   "metadata": {},
   "outputs": [],
   "source": [
    "clf.refit(X_train, y_train)"
   ]
  },
  {
   "cell_type": "code",
   "execution_count": 22,
   "metadata": {},
   "outputs": [],
   "source": [
    "x = clf.best_estimator_"
   ]
  },
  {
   "cell_type": "code",
   "execution_count": 23,
   "metadata": {},
   "outputs": [
    {
     "data": {
      "text/plain": [
       "array([0, 0, 0, ..., 0, 0, 0])"
      ]
     },
     "execution_count": 23,
     "metadata": {},
     "output_type": "execute_result"
    }
   ],
   "source": [
    "x.predict(X_test)"
   ]
  },
  {
   "cell_type": "code",
   "execution_count": 24,
   "metadata": {},
   "outputs": [
    {
     "data": {
      "text/plain": [
       "array([0, 0, 0, ..., 0, 0, 0])"
      ]
     },
     "execution_count": 24,
     "metadata": {},
     "output_type": "execute_result"
    }
   ],
   "source": [
    "clf.predict(X_test)"
   ]
  },
  {
   "cell_type": "code",
   "execution_count": 25,
   "metadata": {},
   "outputs": [
    {
     "data": {
      "text/plain": [
       "array([[0.97269696, 0.02730302],\n",
       "       [0.87589103, 0.12410896],\n",
       "       [0.98481816, 0.01518183],\n",
       "       ...,\n",
       "       [0.90507203, 0.09492799],\n",
       "       [0.9598829 , 0.04011708],\n",
       "       [0.92029834, 0.07970167]], dtype=float32)"
      ]
     },
     "execution_count": 25,
     "metadata": {},
     "output_type": "execute_result"
    }
   ],
   "source": [
    "clf.predict_proba(X_test)"
   ]
  },
  {
   "cell_type": "code",
   "execution_count": 30,
   "metadata": {},
   "outputs": [],
   "source": [
    "test_probs = clf.predict_proba(X_test)\n",
    "test_probs = test_probs[:,1]"
   ]
  },
  {
   "cell_type": "code",
   "execution_count": 31,
   "metadata": {},
   "outputs": [
    {
     "data": {
      "text/plain": [
       "0.9710877330161598"
      ]
     },
     "execution_count": 31,
     "metadata": {},
     "output_type": "execute_result"
    }
   ],
   "source": [
    "sklearn.metrics.roc_auc_score(y_test, test_probs)"
   ]
  },
  {
   "cell_type": "markdown",
   "metadata": {},
   "source": [
    "# Misc"
   ]
  },
  {
   "cell_type": "raw",
   "metadata": {},
   "source": [
    "import catboost\n",
    "import catboost.datasets"
   ]
  },
  {
   "cell_type": "raw",
   "metadata": {},
   "source": [
    "train_df, test_df = catboost.datasets.adult()"
   ]
  },
  {
   "cell_type": "raw",
   "metadata": {},
   "source": [
    "train_df.head()"
   ]
  },
  {
   "cell_type": "raw",
   "metadata": {},
   "source": [
    "X_train = train_df.drop(\"income\", axis=1).copy()"
   ]
  },
  {
   "cell_type": "raw",
   "metadata": {},
   "source": [
    "X_test = test_df.drop(\"income\", axis=1).copy()"
   ]
  },
  {
   "cell_type": "raw",
   "metadata": {},
   "source": [
    "y_train = train_df[\"income\"].copy()"
   ]
  },
  {
   "cell_type": "raw",
   "metadata": {},
   "source": [
    "y_test = test_df[\"income\"].copy()"
   ]
  },
  {
   "cell_type": "raw",
   "metadata": {},
   "source": [
    "X_train.to_pickle(\"./data/adult_X_train.pkl\")\n",
    "y_train.to_pickle(\"./data/adult_y_train.pkl\")\n",
    "X_test.to_pickle(\"./data/adult_X_test.pkl\")\n",
    "y_test.to_pickle(\"./data/adult_y_test.pkl\")"
   ]
  },
  {
   "cell_type": "raw",
   "metadata": {},
   "source": [
    "from sklearn.compose import ColumnTransformer\n",
    "from sklearn.pipeline import Pipeline\n",
    "from sklearn.preprocessing import OneHotEncoder\n",
    "from sklearn.impute import SimpleImputer"
   ]
  },
  {
   "cell_type": "raw",
   "metadata": {},
   "source": [
    "impute_ohe_pipe = Pipeline([('impute', SimpleImputer(strategy=\"constant\", fill_value=\"unknown\")),\n",
    "                             ('ohe', OneHotEncoder(categories=\"auto\", handle_unknown='ignore'))])"
   ]
  },
  {
   "cell_type": "raw",
   "metadata": {},
   "source": [
    "len(impute_ohe_pipe.steps)"
   ]
  },
  {
   "cell_type": "raw",
   "metadata": {},
   "source": [
    "impute_ohe_ct = ColumnTransformer([('impute_ohe', impute_ohe_pipe, cat_columns)], remainder=\"passthrough\")"
   ]
  },
  {
   "cell_type": "raw",
   "metadata": {},
   "source": [
    "pipeline = Pipeline([('impute_ohe', impute_ohe_ct)])"
   ]
  },
  {
   "cell_type": "code",
   "execution_count": null,
   "metadata": {},
   "outputs": [],
   "source": []
  },
  {
   "cell_type": "code",
   "execution_count": null,
   "metadata": {},
   "outputs": [],
   "source": []
  },
  {
   "cell_type": "code",
   "execution_count": null,
   "metadata": {},
   "outputs": [],
   "source": []
  }
 ],
 "metadata": {
  "kernelspec": {
   "display_name": "Python 3",
   "language": "python",
   "name": "python3"
  },
  "language_info": {
   "codemirror_mode": {
    "name": "ipython",
    "version": 3
   },
   "file_extension": ".py",
   "mimetype": "text/x-python",
   "name": "python",
   "nbconvert_exporter": "python",
   "pygments_lexer": "ipython3",
   "version": "3.7.1"
  },
  "pycharm": {
   "stem_cell": {
    "cell_type": "raw",
    "metadata": {
     "collapsed": false
    },
    "source": []
   }
  }
 },
 "nbformat": 4,
 "nbformat_minor": 4
}
