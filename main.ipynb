{
 "cells": [
  {
   "cell_type": "code",
   "execution_count": 1,
   "metadata": {},
   "outputs": [],
   "source": [
    "import pandas as pd\n",
    "import numpy as np\n",
    "import scipy\n",
    "import sklearn"
   ]
  },
  {
   "cell_type": "code",
   "execution_count": 2,
   "metadata": {},
   "outputs": [],
   "source": [
    "from sklearn.feature_extraction.text import TfidfVectorizer"
   ]
  },
  {
   "cell_type": "code",
   "execution_count": 3,
   "metadata": {},
   "outputs": [],
   "source": [
    "from sklearn.model_selection import train_test_split, StratifiedKFold\n",
    "from sklearn.pipeline import Pipeline\n",
    "from sklearn.feature_selection import SelectFromModel, SelectPercentile, chi2, VarianceThreshold\n",
    "from sklearn.ensemble import RandomForestClassifier, ExtraTreesClassifier\n",
    "from sklearn import metrics"
   ]
  },
  {
   "cell_type": "code",
   "execution_count": 4,
   "metadata": {},
   "outputs": [],
   "source": [
    "import optuna\n",
    "from optuna.visualization import plot_intermediate_values"
   ]
  },
  {
   "cell_type": "code",
   "execution_count": 5,
   "metadata": {},
   "outputs": [],
   "source": [
    "import numpy as np\n",
    "import xgboost as xgb\n",
    "import lightgbm as lgb"
   ]
  },
  {
   "cell_type": "code",
   "execution_count": 6,
   "metadata": {},
   "outputs": [],
   "source": [
    "SEED = 85"
   ]
  },
  {
   "cell_type": "code",
   "execution_count": 7,
   "metadata": {},
   "outputs": [],
   "source": [
    "from hypster_xgboost import *\n",
    "from hypster import *"
   ]
  },
  {
   "cell_type": "markdown",
   "metadata": {},
   "source": [
    "# Get Dataset"
   ]
  },
  {
   "cell_type": "code",
   "execution_count": 8,
   "metadata": {},
   "outputs": [],
   "source": [
    "from scipy.sparse import csr_matrix, save_npz, load_npz"
   ]
  },
  {
   "cell_type": "code",
   "execution_count": 9,
   "metadata": {},
   "outputs": [],
   "source": [
    "dataset = \"adult\" #adult, boston"
   ]
  },
  {
   "cell_type": "code",
   "execution_count": 10,
   "metadata": {},
   "outputs": [],
   "source": [
    "if dataset==\"adult\":\n",
    "    X_train = pd.read_pickle(\"./data/adult_X_train.pkl\")\n",
    "    y_train = pd.read_pickle(\"./data/adult_y_train.pkl\")\n",
    "    X_test = pd.read_pickle(\"./data/adult_X_test.pkl\")\n",
    "    y_test = pd.read_pickle(\"./data/adult_y_test.pkl\")\n",
    "    cat_columns = X_train.select_dtypes(include=\"object\").columns\n",
    "elif dataset==\"newsgroup\":\n",
    "    X_train = load_npz(\"./data/X_train.npz\")\n",
    "    y_train = pd.read_pickle(\"./data/y_train.pkl\")\n",
    "    X_test = load_npz(\"./data/X_test.npz\")\n",
    "    y_test = pd.read_pickle(\"./data/y_test.pkl\")\n",
    "    cat_columns=None\n",
    "else:\n",
    "    X_train = pd.read_pickle(\"./data/boston_X_train.pkl\")\n",
    "    y_train = pd.read_pickle(\"./data/boston_y_train.pkl\")\n",
    "    X_test = pd.read_pickle(\"./data/boston_X_test.pkl\")\n",
    "    y_test = pd.read_pickle(\"./data/boston_y_test.pkl\")\n",
    "    cat_columns = None"
   ]
  },
  {
   "cell_type": "code",
   "execution_count": 11,
   "metadata": {},
   "outputs": [],
   "source": [
    "#X_train = X_train.sample(n=10000, random_state=SEED, axis=0)"
   ]
  },
  {
   "cell_type": "code",
   "execution_count": 12,
   "metadata": {},
   "outputs": [],
   "source": [
    "#y_train = y_train.iloc[X_train.index].reset_index(drop=True)\n",
    "#X_train.reset_index(inplace=True, drop=True)"
   ]
  },
  {
   "cell_type": "code",
   "execution_count": 13,
   "metadata": {},
   "outputs": [],
   "source": [
    "#pipeline - pipeline_objective OR regular pipeline\n",
    "#consider making pre-made steps with best practices (FS, scaling, etc...) then add option to concat to make one pipeline "
   ]
  },
  {
   "cell_type": "code",
   "execution_count": 14,
   "metadata": {},
   "outputs": [],
   "source": [
    "#pipeline = Pipeline([(\"sel\", SelectPercentile(chi2))])\n",
    "#pipe_params = {\"sel__percentile\" : optuna.distributions.IntUniformDistribution(1,100)}\n",
    "pipeline = None\n",
    "pipe_params = None"
   ]
  },
  {
   "cell_type": "code",
   "execution_count": 15,
   "metadata": {},
   "outputs": [],
   "source": [
    "#TODO: automatic seed\n",
    "xgb_linear = XGBClassifierHypster(booster_list=['gblinear']\n",
    "                               ,param_dict={'nthread' : 1\n",
    "                                            #TODO check what happens when you run over parameters in optuna\n",
    "                               #,'subsample' : 0.9\n",
    "                               }\n",
    "                               )\n",
    "#gb_dart = XGBClassifierHypster(booster_list=['dart'])\n",
    "#xgb_tree = XGBClassifierHypster(booster_list=['gbtree', 'dart'], user_param_dict={'max_depth' : 2})\n",
    "xgb_tree = XGBClassifierHypster(booster_list=['gbtree', 'dart'], \n",
    "                               param_dict={'max_depth' : optuna.distributions.IntUniformDistribution(2, 20)\n",
    "                                               ,'nthread' : 1\n",
    "                                               #,'subsample' : 0.9 \n",
    "                                               })\n",
    "#lgb_estimator = LGBClassifierOptuna()\n",
    "#sgd_estimator = SGDClassifierOptuna()\n",
    "#rf_estimator  = RFClassifierOptuna()"
   ]
  },
  {
   "cell_type": "code",
   "execution_count": 16,
   "metadata": {},
   "outputs": [],
   "source": [
    "estimators = [xgb_linear, xgb_tree]#, sgd|_estimator]"
   ]
  },
  {
   "cell_type": "code",
   "execution_count": 17,
   "metadata": {},
   "outputs": [],
   "source": [
    "clf = HyPSTERClassifier(estimators, pipeline, pipe_params,\n",
    "                        scoring=\"accuracy\", cv=StratifiedKFold(n_splits=3, random_state=SEED), #sampler=sampler, \n",
    "                        refit=False, random_state=SEED, n_jobs=-1)"
   ]
  },
  {
   "cell_type": "code",
   "execution_count": 18,
   "metadata": {},
   "outputs": [
    {
     "name": "stdout",
     "output_type": "stream",
     "text": [
      "XGBoost Classifier\n",
      "Score: 0.75919\n",
      "Score: 0.75919\n",
      "Score: 0.75919\n",
      "Score: 0.75919\n",
      "Score: 0.75919\n",
      "Score: 0.75919\n",
      "Score: 0.84177\n",
      "Score: 0.81103\n",
      "Score: 0.79586\n",
      "Score: 0.84887\n",
      "Score: 0.84887\n",
      "Score: 0.85129\n",
      "Score: 0.85169\n",
      "Score: 0.85126\n",
      "Score: 0.84967\n",
      "Score: 0.85191\n",
      "Score: 0.84709\n",
      "Score: 0.84994\n",
      "Score: 0.84988\n",
      "Score: 0.84991\n",
      "Score: 0.84997\n",
      "Score: 0.85062\n",
      "XGBoost Classifier\n",
      "Score: 0.85676\n",
      "Score: 0.85953\n",
      "Score: 0.8598\n",
      "Score: 0.85802\n",
      "Score: 0.86035\n",
      "Score: 0.86855\n",
      "Score: 0.8668\n",
      "Score: 0.86401\n",
      "Score: 0.86776\n",
      "Score: 0.86416\n",
      "Score: 0.86723\n",
      "Score: 0.8688\n",
      "Score: 0.86978\n",
      "Score: 0.86846\n",
      "Score: 0.8692\n",
      "Score: 0.86951\n",
      "Score: 0.86945\n",
      "Score: 0.86803\n",
      "Score: 0.86963\n",
      "Score: 0.86865\n",
      "Score: 0.86923\n",
      "Score: 0.86871\n",
      "Score: 0.86852\n",
      "Wall time: 6min 17s\n"
     ]
    }
   ],
   "source": [
    "%%time\n",
    "clf.fit(X_train, y_train, cat_columns=cat_columns, n_trials_per_estimator=60)"
   ]
  },
  {
   "cell_type": "code",
   "execution_count": 28,
   "metadata": {},
   "outputs": [
    {
     "data": {
      "text/plain": [
       "0.8697829942805195"
      ]
     },
     "execution_count": 28,
     "metadata": {},
     "output_type": "execute_result"
    }
   ],
   "source": [
    "clf.best_score_"
   ]
  },
  {
   "cell_type": "code",
   "execution_count": 29,
   "metadata": {},
   "outputs": [
    {
     "data": {
      "text/plain": [
       "{'max_depth': 24,\n",
       " 'scale_pos_weight': 1.0,\n",
       " 'init_eta': 0.8340622808717366,\n",
       " 'booster': 'gbtree',\n",
       " 'lambda': 0.9844984066071544,\n",
       " 'alpha': 0.0017308004549787055,\n",
       " 'min_child_weight': 7,\n",
       " 'gamma': 0.06799113929261205,\n",
       " 'grow_policy': 'depthwise',\n",
       " 'subsample': 0.7723758293965605,\n",
       " 'colsample_bytree': 0.8292889527963906,\n",
       " 'colsample_bynode': 0.596425664749337,\n",
       " 'forest_boosting': True,\n",
       " 'num_parallel_tree': 15}"
      ]
     },
     "execution_count": 29,
     "metadata": {},
     "output_type": "execute_result"
    }
   ],
   "source": [
    "clf.best_params_"
   ]
  },
  {
   "cell_type": "code",
   "execution_count": 30,
   "metadata": {},
   "outputs": [],
   "source": [
    "clf.refit(X_train, y_train)"
   ]
  },
  {
   "cell_type": "code",
   "execution_count": 31,
   "metadata": {},
   "outputs": [],
   "source": [
    "x = clf.best_estimator_"
   ]
  },
  {
   "cell_type": "code",
   "execution_count": 44,
   "metadata": {},
   "outputs": [],
   "source": [
    "test_probs = clf.predict(X_test)"
   ]
  },
  {
   "cell_type": "code",
   "execution_count": 45,
   "metadata": {},
   "outputs": [
    {
     "data": {
      "text/plain": [
       "0.8710767151894847"
      ]
     },
     "execution_count": 45,
     "metadata": {},
     "output_type": "execute_result"
    }
   ],
   "source": [
    "sklearn.metrics.accuracy_score(y_test, test_probs)"
   ]
  },
  {
   "cell_type": "code",
   "execution_count": 46,
   "metadata": {},
   "outputs": [],
   "source": [
    "test_probs = clf.predict_proba(X_test)\n",
    "test_probs = test_probs[:,1]"
   ]
  },
  {
   "cell_type": "code",
   "execution_count": 47,
   "metadata": {},
   "outputs": [
    {
     "data": {
      "text/plain": [
       "0.9249667381146391"
      ]
     },
     "execution_count": 47,
     "metadata": {},
     "output_type": "execute_result"
    }
   ],
   "source": [
    "sklearn.metrics.roc_auc_score(y_test, test_probs)"
   ]
  },
  {
   "cell_type": "markdown",
   "metadata": {},
   "source": [
    "# Misc"
   ]
  },
  {
   "cell_type": "raw",
   "metadata": {},
   "source": [
    "import catboost\n",
    "import catboost.datasets"
   ]
  },
  {
   "cell_type": "raw",
   "metadata": {},
   "source": [
    "train_df, test_df = catboost.datasets.adult()"
   ]
  },
  {
   "cell_type": "raw",
   "metadata": {},
   "source": [
    "train_df.head()"
   ]
  },
  {
   "cell_type": "raw",
   "metadata": {},
   "source": [
    "X_train = train_df.drop(\"income\", axis=1).copy()"
   ]
  },
  {
   "cell_type": "raw",
   "metadata": {},
   "source": [
    "X_test = test_df.drop(\"income\", axis=1).copy()"
   ]
  },
  {
   "cell_type": "raw",
   "metadata": {},
   "source": [
    "y_train = train_df[\"income\"].copy()"
   ]
  },
  {
   "cell_type": "raw",
   "metadata": {},
   "source": [
    "y_test = test_df[\"income\"].copy()"
   ]
  },
  {
   "cell_type": "raw",
   "metadata": {},
   "source": [
    "X_train.to_pickle(\"./data/adult_X_train.pkl\")\n",
    "y_train.to_pickle(\"./data/adult_y_train.pkl\")\n",
    "X_test.to_pickle(\"./data/adult_X_test.pkl\")\n",
    "y_test.to_pickle(\"./data/adult_y_test.pkl\")"
   ]
  },
  {
   "cell_type": "raw",
   "metadata": {},
   "source": [
    "from sklearn.compose import ColumnTransformer\n",
    "from sklearn.pipeline import Pipeline\n",
    "from sklearn.preprocessing import OneHotEncoder\n",
    "from sklearn.impute import SimpleImputer"
   ]
  },
  {
   "cell_type": "raw",
   "metadata": {},
   "source": [
    "impute_ohe_pipe = Pipeline([('impute', SimpleImputer(strategy=\"constant\", fill_value=\"unknown\")),\n",
    "                             ('ohe', OneHotEncoder(categories=\"auto\", handle_unknown='ignore'))])"
   ]
  },
  {
   "cell_type": "raw",
   "metadata": {},
   "source": [
    "len(impute_ohe_pipe.steps)"
   ]
  },
  {
   "cell_type": "raw",
   "metadata": {},
   "source": [
    "impute_ohe_ct = ColumnTransformer([('impute_ohe', impute_ohe_pipe, cat_columns)], remainder=\"passthrough\")"
   ]
  },
  {
   "cell_type": "raw",
   "metadata": {},
   "source": [
    "pipeline = Pipeline([('impute_ohe', impute_ohe_ct)])"
   ]
  },
  {
   "cell_type": "raw",
   "metadata": {},
   "source": [
    "from sklearn import datasets"
   ]
  },
  {
   "cell_type": "raw",
   "metadata": {},
   "source": [
    "X, y = datasets.load_boston(return_X_y=True)"
   ]
  },
  {
   "cell_type": "raw",
   "metadata": {},
   "source": [
    "features = datasets.load_boston()['feature_names']"
   ]
  },
  {
   "cell_type": "raw",
   "metadata": {},
   "source": [
    "X = pd.DataFrame(X, columns = features)"
   ]
  },
  {
   "cell_type": "raw",
   "metadata": {},
   "source": [
    "y = pd.Series(y)"
   ]
  },
  {
   "cell_type": "raw",
   "metadata": {},
   "source": [
    "X_train, X_test, y_train, y_test = train_test_split(X, y, test_size=0.33, random_state=SEED)"
   ]
  },
  {
   "cell_type": "raw",
   "metadata": {},
   "source": [
    "if len(classes) == 2: #binary classification\n",
    "    if (pos_label is None and\n",
    "            not (np.array_equal(classes, [0, 1]) or\n",
    "                 np.array_equal(classes, [-1, 1]))):\n",
    "        raise ValueError(\"Data is not binary and pos_label is not specified\")\n",
    "    elif pos_label is None:\n",
    "        pos_label = 1\n",
    "    y = (y == pos_label)"
   ]
  },
  {
   "cell_type": "code",
   "execution_count": null,
   "metadata": {},
   "outputs": [],
   "source": []
  }
 ],
 "metadata": {
  "kernelspec": {
   "display_name": "Python 3",
   "language": "python",
   "name": "python3"
  },
  "language_info": {
   "codemirror_mode": {
    "name": "ipython",
    "version": 3
   },
   "file_extension": ".py",
   "mimetype": "text/x-python",
   "name": "python",
   "nbconvert_exporter": "python",
   "pygments_lexer": "ipython3",
   "version": "3.7.1"
  },
  "pycharm": {
   "stem_cell": {
    "cell_type": "raw",
    "metadata": {
     "collapsed": false
    },
    "source": []
   }
  }
 },
 "nbformat": 4,
 "nbformat_minor": 4
}
